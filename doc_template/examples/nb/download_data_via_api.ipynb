{
 "metadata": {
  "kernelspec": {
   "display_name": "Python 2",
   "language": "python",
   "name": "python2"
  },
  "language_info": {
   "codemirror_mode": {
    "name": "ipython",
    "version": 2
   },
   "file_extension": ".py",
   "mimetype": "text/x-python",
   "name": "python",
   "nbconvert_exporter": "python",
   "pygments_lexer": "ipython2",
   "version": "2.7.10"
  },
  "name": "",
  "signature": "sha256:3e46a825b80b16c926f64a9a494361956d257570b31fd0ebc527f5fa544b4741"
 },
 "nbformat": 3,
 "nbformat_minor": 0,
 "worksheets": [
  {
   "cells": [
    {
     "cell_type": "markdown",
     "metadata": {},
     "source": [
      "Download this notebook in .ipynb format <a href='download_data_via_api.ipynb'>here</a>."
     ]
    },
    {
     "cell_type": "code",
     "collapsed": false,
     "input": [
      "import json\n",
      "from allensdk.api.api import Api\n",
      "from allensdk.api.queries.rma_api import RmaApi\n",
      "from allensdk.api.queries.mouse_connectivity_api import MouseConnectivityApi\n",
      "\n",
      "rma = RmaApi()\n",
      "\n",
      "def read_data(parsed_json):\n",
      "    return parsed_json['msg']\n",
      "\n",
      "def pretty(result):\n",
      "    print(json.dumps(result, indent=2))"
     ],
     "language": "python",
     "metadata": {},
     "outputs": [],
     "prompt_number": 1
    },
    {
     "cell_type": "markdown",
     "metadata": {},
     "source": [
      "Download lists of experiments by injection hemisphere, mouse cre line, and injection structure"
     ]
    },
    {
     "cell_type": "markdown",
     "metadata": {},
     "source": [
      "    Download Pvalb experiments injected in the left hemisphere VISp"
     ]
    },
    {
     "cell_type": "code",
     "collapsed": false,
     "input": [
      "# Get the atlas id\n",
      "def query_atlases(search_pattern):\n",
      "    return rma.build_query_url(rma.model_stage('Atlas',\n",
      "                                               criteria=\"[name$il'%s']\" % (search_pattern),\n",
      "                                               only=['id', 'name']))\n",
      "\n",
      "atlases = rma.do_query(query_atlases, read_data, 'mouse*')\n",
      "pretty(atlases)\n"
     ],
     "language": "python",
     "metadata": {},
     "outputs": [
      {
       "output_type": "stream",
       "stream": "stdout",
       "text": [
        "[\n",
        "  {\n",
        "    \"id\": 1, \n",
        "    \"name\": \"Mouse, P56, Coronal\"\n",
        "  }, \n",
        "  {\n",
        "    \"id\": 4, \n",
        "    \"name\": \"Mouse Coronal, v1 (2008)\"\n",
        "  }, \n",
        "  {\n",
        "    \"id\": 5, \n",
        "    \"name\": \"Mouse Sagittal, v1 (2008)\"\n",
        "  }, \n",
        "  {\n",
        "    \"id\": 2, \n",
        "    \"name\": \"Mouse, P56, Sagittal\"\n",
        "  }\n",
        "]\n"
       ]
      }
     ],
     "prompt_number": 2
    },
    {
     "cell_type": "code",
     "collapsed": false,
     "input": [
      "# get the structure\n",
      "def query_structure(acronym, ontology_id):\n",
      "    return rma.build_query_url(rma.model_stage('Structure',\n",
      "                                               criteria=\"[acronym$eq'%s'][ontology_id$eq%d]\" % (acronym, ontology_id),\n",
      "                                               only=['id','name']))\n",
      "\n",
      "structure = rma.do_query(query_structure, read_data, 'VISp', 1)[0]\n",
      "pretty(structure)\n"
     ],
     "language": "python",
     "metadata": {},
     "outputs": [
      {
       "output_type": "stream",
       "stream": "stdout",
       "text": [
        "{\n",
        "  \"id\": 385, \n",
        "  \"name\": \"Primary visual area\"\n",
        "}\n"
       ]
      }
     ],
     "prompt_number": 3
    },
    {
     "cell_type": "code",
     "collapsed": false,
     "input": [
      "def query_hemisphere(name):\n",
      "    return rma.build_query_url(rma.model_stage('Hemisphere', criteria=\"[name$il'%s']\" % (name)))\n",
      "                               \n",
      "left_hemisphere_id = rma.do_query(query_hemisphere, read_data, 'left')[0]['id']\n",
      "\n",
      "left_hemisphere_id"
     ],
     "language": "python",
     "metadata": {},
     "outputs": [
      {
       "metadata": {},
       "output_type": "pyout",
       "prompt_number": 4,
       "text": [
        "1"
       ]
      }
     ],
     "prompt_number": 4
    },
    {
     "cell_type": "code",
     "collapsed": false,
     "input": [
      "mca = MouseConnectivityApi('http://api.brain-map.org')\n",
      "experiments = mca.get_experiments(structure['id'])\n",
      "\n",
      "# TODO: figure out why this didn't work w/ left hemisphere\n",
      "#other_hemisphere_id = 3\n",
      "\n",
      "# get experiments doesn't take hemisphere into account, so filter the results with a list comprehension\n",
      "#left_hemisphere_experiments = [e for e in experiments\n",
      "#                               if any([(injection['primary_injection_structure']['hemisphere_id'] == other_hemisphere_id)\n",
      "#                               for injection in e['specimen']['stereotaxic_injections']])]\n",
      "                                                          \n",
      "#pretty(left_hemisphere_experiments)\n",
      "len(experiments)"
     ],
     "language": "python",
     "metadata": {},
     "outputs": [
      {
       "metadata": {},
       "output_type": "pyout",
       "prompt_number": 5,
       "text": [
        "0"
       ]
      }
     ],
     "prompt_number": 5
    },
    {
     "cell_type": "markdown",
     "metadata": {},
     "source": [
      "Download grid data for these experiments at a particular resolution"
     ]
    },
    {
     "cell_type": "code",
     "collapsed": false,
     "input": [
      "from allensdk.api.queries.grid_data_api import GridDataApi"
     ],
     "language": "python",
     "metadata": {},
     "outputs": [],
     "prompt_number": 6
    },
    {
     "cell_type": "markdown",
     "metadata": {},
     "source": [
      "10, 25, 50, or 100 micron volumes for:\n",
      "\n",
      "    * Projection density\n",
      "\n",
      "    * projection energy\n",
      "\n",
      "    * injection fraction\n",
      "\n",
      "    * Injection density\n",
      "\n",
      "    * Injection energy\n",
      "\n",
      "    * Data mask (mask of valid voxels per experiment)\n"
     ]
    },
    {
     "cell_type": "code",
     "collapsed": false,
     "input": [
      "gda = GridDataApi()\n",
      "\n",
      "# TODO: show search to get this\n",
      "section_data_set_id = 183282970\n",
      "\n",
      "image_list = ['projection_density',\n",
      "              'projection_energy',\n",
      "              'injection_fraction',\n",
      "              'injection_density',\n",
      "              'injection_energy']\n",
      "\n",
      "resolution = 100 # or 10, 25, 50\n",
      "\n",
      "# Hmm, this didn't work for an image list of length > 1\n",
      "for image in image_list:\n",
      "    nrrd_file = 'grid_%d_%s.nrrd' % (section_data_set_id, image)\n",
      "    gda.download_projection_grid_data(section_data_set_id,\n",
      "                                      image=[image],\n",
      "                                      resolution=resolution,\n",
      "                                      save_file_path=nrrd_file)\n",
      "\n",
      "\n",
      "# TODO: data mask"
     ],
     "language": "python",
     "metadata": {},
     "outputs": [],
     "prompt_number": 7
    },
    {
     "cell_type": "markdown",
     "metadata": {},
     "source": [
      "    http://help.brain-map.org//display/mouseconnectivity/API#API-Expression3DGrids"
     ]
    },
    {
     "cell_type": "code",
     "collapsed": false,
     "input": [
      "gda.download_expression_grid_data(section_data_set_id, include=image_list)"
     ],
     "language": "python",
     "metadata": {},
     "outputs": [],
     "prompt_number": 8
    },
    {
     "cell_type": "markdown",
     "metadata": {},
     "source": [
      "Read data (File mode):"
     ]
    },
    {
     "cell_type": "markdown",
     "metadata": {},
     "source": [
      "    Read experiment metadata by injection hemisphere, mouse cre line, and injection structure\n",
      "        \u201cI download a list of all experiments.  Which were injected in VISp?\u201d"
     ]
    },
    {
     "cell_type": "code",
     "collapsed": false,
     "input": [
      "#http://api.brain-map.org/api/v2/data/query.csv?criteria=\n",
      "#model::ProjectionStructureUnionize,\n",
      "#rma::criteria,[is_injection$eq'f'],hemisphere,structure,section_data_set[id$eq183282970](specimen(stereotaxic_injections(primary_injection_structure,stereotaxic_injection_coordinates))),rma::include,section_data_set(specimen(stereotaxic_injections(primary_injection_structure))),\n",
      "#rma::options[tabular$eq'distinct+specimens.name+as+specimen_name,stereotaxic_injection_coordinates.coordinates_ap,stereotaxic_injection_coordinates.coordinates_dv,stereotaxic_injection_coordinates.coordinates_ml,data_sets.id+as+data_set_id,stereotaxic_injections.primary_injection_structure_id,structures.acronym+as+target_structure,hemispheres.symbol+as+hemisphere,projection_structure_unionizes.is_injection,projection_structure_unionizes.sum_pixels,projection_structure_unionizes.sum_projection_pixels,projection_structure_unionizes.sum_pixel_intensity,projection_structure_unionizes.sum_projection_pixel_intensity,projection_structure_unionizes.projection_density,projection_structure_unionizes.projection_intensity,projection_structure_unionizes.projection_energy,projection_structure_unionizes.volume,projection_structure_unionizes.projection_volume,projection_structure_unionizes.normalized_projection_volume,projection_structure_unionizes.max_voxel_density,projection_structure_unionizes.max_voxel_x,projection_structure_unionizes.max_voxel_y,projection_structure_unionizes.max_voxel_z'][start_row$eq0][num_rows$eq3000]\n",
      "\n",
      "def build_query(section_data_set_id):\n",
      "    criteria_string = ''.join([\"[is_injection$eq'f'],\",\n",
      "                               \"hemisphere,\",\n",
      "                               \"structure,\",\n",
      "                               \"section_data_set[id$eq%d]\" % (section_data_set_id),\n",
      "                               \"(specimen\",\n",
      "                               \"(stereotaxic_injections\",\n",
      "                               \"(primary_injection_structure,stereotaxic_injection_coordinates)\",\n",
      "                               \"))\"])\n",
      "    include_string = ''.join([\"section_data_set\",\n",
      "                              \"(specimen\",\n",
      "                              \"(stereotaxic_injections\",\n",
      "                              \"(primary_injection_structure)\",\n",
      "                              \"))\"])\n",
      "    tabular_list = ['distinct+specimens.name+as+specimen_name',\n",
      "                    'stereotaxic_injection_coordinates.coordinates_ap',\n",
      "                    'stereotaxic_injection_coordinates.coordinates_dv',\n",
      "                    'stereotaxic_injection_coordinates.coordinates_ml',\n",
      "                    'data_sets.id+as+data_set_id',\n",
      "                    'stereotaxic_injections.primary_injection_structure_id',\n",
      "                    'structures.acronym+as+target_structure',\n",
      "                    'hemispheres.symbol+as+hemisphere',\n",
      "                    'projection_structure_unionizes.is_injection',\n",
      "                    'projection_structure_unionizes.sum_pixels',\n",
      "                    'projection_structure_unionizes.sum_projection_pixels',\n",
      "                    'projection_structure_unionizes.sum_pixel_intensity',\n",
      "                    'projection_structure_unionizes.sum_projection_pixel_intensity',\n",
      "                    'projection_structure_unionizes.projection_density',\n",
      "                    'projection_structure_unionizes.projection_intensity',\n",
      "                    'projection_structure_unionizes.projection_energy',\n",
      "                    'projection_structure_unionizes.volume',\n",
      "                    'projection_structure_unionizes.projection_volume',\n",
      "                    'projection_structure_unionizes.normalized_projection_volume',\n",
      "                    'projection_structure_unionizes.max_voxel_density',\n",
      "                    'projection_structure_unionizes.max_voxel_x',\n",
      "                    'projection_structure_unionizes.max_voxel_y',\n",
      "                    'projection_structure_unionizes.max_voxel_z']\n",
      "    model_stage = rma.model_stage('ProjectionStructureUnionize',\n",
      "                                  criteria=criteria_string,\n",
      "                                  include=include_string,\n",
      "                                  tabular=[\"'%s'\" % ','.join(tabular_list)],  # TODO: better handling of tabular quotes\n",
      "                                  num_rows='all')\n",
      "    url = rma.build_query_url(model_stage, fmt='csv')\n",
      "    \n",
      "    return url\n",
      "\n",
      "print(build_query(183282970))\n",
      "    \n"
     ],
     "language": "python",
     "metadata": {},
     "outputs": [
      {
       "output_type": "stream",
       "stream": "stdout",
       "text": [
        "http://api.brain-map.org/api/v2/data/query.csv?q=model::ProjectionStructureUnionize,rma::criteria,[is_injection$eq'f'],hemisphere,structure,section_data_set[id$eq183282970](specimen(stereotaxic_injections(primary_injection_structure,stereotaxic_injection_coordinates))),rma::include,section_data_set(specimen(stereotaxic_injections(primary_injection_structure))),rma::options[tabular$eq'distinct+specimens.name+as+specimen_name,stereotaxic_injection_coordinates.coordinates_ap,stereotaxic_injection_coordinates.coordinates_dv,stereotaxic_injection_coordinates.coordinates_ml,data_sets.id+as+data_set_id,stereotaxic_injections.primary_injection_structure_id,structures.acronym+as+target_structure,hemispheres.symbol+as+hemisphere,projection_structure_unionizes.is_injection,projection_structure_unionizes.sum_pixels,projection_structure_unionizes.sum_projection_pixels,projection_structure_unionizes.sum_pixel_intensity,projection_structure_unionizes.sum_projection_pixel_intensity,projection_structure_unionizes.projection_density,projection_structure_unionizes.projection_intensity,projection_structure_unionizes.projection_energy,projection_structure_unionizes.volume,projection_structure_unionizes.projection_volume,projection_structure_unionizes.normalized_projection_volume,projection_structure_unionizes.max_voxel_density,projection_structure_unionizes.max_voxel_x,projection_structure_unionizes.max_voxel_y,projection_structure_unionizes.max_voxel_z'][num_rows$eq'all']\n"
       ]
      }
     ],
     "prompt_number": 9
    },
    {
     "cell_type": "markdown",
     "metadata": {},
     "source": [
      "    Read experiment grid data for these experiments by type\n",
      "        3D numpy arrays worked pretty well for Friday harbor last year"
     ]
    },
    {
     "cell_type": "markdown",
     "metadata": {},
     "source": [
      "Process data:"
     ]
    },
    {
     "cell_type": "markdown",
     "metadata": {},
     "source": [
      "    Mask grid data using the data mask or injection fraction volumes"
     ]
    },
    {
     "cell_type": "markdown",
     "metadata": {},
     "source": [
      "        \u201cGive me the projection energy voxels from this experiment that are valid for analysis\u201d"
     ]
    },
    {
     "cell_type": "markdown",
     "metadata": {},
     "source": [
      "        \u201cGive me the injection density voxels inside the injection site\u201d"
     ]
    },
    {
     "cell_type": "markdown",
     "metadata": {},
     "source": [
      "    Mask grid data arrays by structure"
     ]
    },
    {
     "cell_type": "markdown",
     "metadata": {},
     "source": [
      "        \u201cGive me the projection density voxel data for voxels belonging to VISp\u201d"
     ]
    },
    {
     "cell_type": "markdown",
     "metadata": {},
     "source": [
      "        This will involve the annotation volume at the correct resolution\n",
      "            http://download.alleninstitute.org/informatics-archive/current-release/mouse_ccf/annotation/ccf_2015/\n"
     ]
    },
    {
     "cell_type": "code",
     "collapsed": false,
     "input": [
      "resolution=25\n",
      "mca.download_volumetric_data('annotation/ccf_2015', 'annotation_%d.nrrd' % (resolution))\n"
     ],
     "language": "python",
     "metadata": {},
     "outputs": [],
     "prompt_number": 10
    },
    {
     "cell_type": "code",
     "collapsed": true,
     "input": [],
     "language": "python",
     "metadata": {},
     "outputs": [],
     "prompt_number": null
    }
   ],
   "metadata": {}
  }
 ]
}
