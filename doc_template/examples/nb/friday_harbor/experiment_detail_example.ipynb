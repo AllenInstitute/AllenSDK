{
 "cells": [
  {
   "cell_type": "markdown",
   "metadata": {},
   "source": [
    "See http://connectivity.brain-map.org/projection/experiment/168095756"
   ]
  },
  {
   "cell_type": "code",
   "execution_count": 2,
   "metadata": {
    "collapsed": false
   },
   "outputs": [],
   "source": [
    "import json\n",
    "from allensdk.api.api import Api\n",
    "from allensdk.api.queries.rma_api import RmaApi\n",
    "from allensdk.api.queries.mouse_connectivity_api import MouseConnectivityApi\n",
    "import pandas as pd\n",
    "import itertools as it\n",
    "\n",
    "rma = RmaApi()\n",
    "mca = MouseConnectivityApi()\n",
    "\n",
    "def read_data(parsed_json):\n",
    "    return parsed_json['msg']\n",
    "\n",
    "def pretty(result):\n",
    "    print(json.dumps(result, indent=2))\n",
    "    \n",
    "def tabular_dataframe(parsed_tabular_json):\n",
    "    df = pd.DataFrame.from_records(parsed_tabular_json,\n",
    "                                   columns=parsed_tabular_json[0].keys())\n",
    "    return df"
   ]
  },
  {
   "cell_type": "code",
   "execution_count": 3,
   "metadata": {
    "collapsed": true
   },
   "outputs": [],
   "source": [
    "section_data_set_id = 168095756"
   ]
  },
  {
   "cell_type": "code",
   "execution_count": 4,
   "metadata": {
    "collapsed": false
   },
   "outputs": [
    {
     "name": "stdout",
     "output_type": "stream",
     "text": [
      "Manual Injection Summary\n",
      "Experiment: 168095756\n",
      "Primary Structure: Agranular insular area, posterior part\n",
      "Coords. (AP, ML, DV, L):\n",
      "\tBregma(-0.340000, 3.750000, 3.250000, 0.000000)\n",
      "\tBregma(-0.340000, 4.000000, 3.000000, 0.000000)\n",
      "Transgenic Line: Syt6-Cre_KI148\n",
      "Sparse, scattered expression in brain areas including the medulla, pons, and midbrain. Enriched in specific areas within thalamus, layer 6a cortex, and olfactory areas.\n"
     ]
    }
   ],
   "source": [
    "# rma version from detail page\n",
    "results = mca.get_manual_injection_summary(section_data_set_id)\n",
    "\n",
    "print('Manual Injection Summary')\n",
    "print('Experiment: %d' % (results[0]['id']))\n",
    "injections = results[0]['specimen']['injections']\n",
    "print('Primary Structure: %s' % (injections[0]['structure']['name']))\n",
    "\n",
    "print('Coords. (AP, ML, DV, L):')\n",
    "for injection in injections:\n",
    "    print ('\\t%s(%f, %f, %f, %f)' % (injection['registration_point'],\n",
    "                                     injection['coordinates_ap'],\n",
    "                                     injection['coordinates_ml'],\n",
    "                                     injection['coordinates_dv'],\n",
    "                                     injection['angle']))\n",
    "print('Transgenic Line: %s' % (results[0]['specimen']['donor']['transgenic_mouse']['transgenic_lines'][0]['name']))\n",
    "print(results[0]['specimen']['donor']['transgenic_mouse']['transgenic_lines'][0]['description'])\n",
    "\n"
   ]
  },
  {
   "cell_type": "code",
   "execution_count": 5,
   "metadata": {
    "collapsed": false
   },
   "outputs": [
    {
     "ename": "AttributeError",
     "evalue": "'MouseConnectivityApi' object has no attribute 'get_structure_projection_signal_statistics'",
     "output_type": "error",
     "traceback": [
      "\u001b[1;31m---------------------------------------------------------------------------\u001b[0m",
      "\u001b[1;31mAttributeError\u001b[0m                            Traceback (most recent call last)",
      "\u001b[1;32m<ipython-input-5-7f40b271c220>\u001b[0m in \u001b[0;36m<module>\u001b[1;34m()\u001b[0m\n\u001b[1;32m----> 1\u001b[1;33m \u001b[0mprojection_results\u001b[0m \u001b[1;33m=\u001b[0m \u001b[0mmca\u001b[0m\u001b[1;33m.\u001b[0m\u001b[0mget_structure_projection_signal_statistics\u001b[0m\u001b[1;33m(\u001b[0m\u001b[0msection_data_set_id\u001b[0m\u001b[1;33m)\u001b[0m\u001b[1;33m\u001b[0m\u001b[0m\n\u001b[0m\u001b[0;32m      2\u001b[0m \u001b[0mprojection_df\u001b[0m \u001b[1;33m=\u001b[0m \u001b[0mtabular_dataframe\u001b[0m\u001b[1;33m(\u001b[0m\u001b[0mprojection_results\u001b[0m\u001b[1;33m)\u001b[0m\u001b[1;33m\u001b[0m\u001b[0m\n\u001b[0;32m      3\u001b[0m \u001b[1;31m#pretty(projection_results)\u001b[0m\u001b[1;33m\u001b[0m\u001b[1;33m\u001b[0m\u001b[0m\n",
      "\u001b[1;31mAttributeError\u001b[0m: 'MouseConnectivityApi' object has no attribute 'get_structure_projection_signal_statistics'"
     ]
    }
   ],
   "source": [
    "projection_results = mca.get_structure_projection_signal_statistics(section_data_set_id)\n",
    "projection_df = tabular_dataframe(projection_results)\n",
    "#pretty(projection_results)"
   ]
  },
  {
   "cell_type": "code",
   "execution_count": 7,
   "metadata": {
    "collapsed": false
   },
   "outputs": [
    {
     "data": {
      "text/html": [
       "<div>\n",
       "<table border=\"1\" class=\"dataframe\">\n",
       "  <thead>\n",
       "    <tr style=\"text-align: right;\">\n",
       "      <th></th>\n",
       "      <th>st_level</th>\n",
       "      <th>graph_id</th>\n",
       "      <th>name</th>\n",
       "      <th>weight</th>\n",
       "      <th>acronym</th>\n",
       "      <th>parent_structure_id</th>\n",
       "      <th>graph_order</th>\n",
       "      <th>sphinx_id</th>\n",
       "      <th>hemisphere_id</th>\n",
       "      <th>safe_name</th>\n",
       "      <th>...</th>\n",
       "      <th>failed</th>\n",
       "      <th>depth</th>\n",
       "      <th>neuro_name_structure_id_path</th>\n",
       "      <th>neuro_name_structure_id</th>\n",
       "      <th>structure_name_facet</th>\n",
       "      <th>failed_facet</th>\n",
       "      <th>id</th>\n",
       "      <th>ontology_id</th>\n",
       "      <th>atlas_id</th>\n",
       "      <th>structure_set_ancestor</th>\n",
       "    </tr>\n",
       "  </thead>\n",
       "  <tbody>\n",
       "    <tr>\n",
       "      <th>377</th>\n",
       "      <td>NaN</td>\n",
       "      <td>1</td>\n",
       "      <td>Piriform area</td>\n",
       "      <td>8690</td>\n",
       "      <td>PIR</td>\n",
       "      <td>698</td>\n",
       "      <td>377</td>\n",
       "      <td>378</td>\n",
       "      <td>3</td>\n",
       "      <td>Piriform area</td>\n",
       "      <td>...</td>\n",
       "      <td>False</td>\n",
       "      <td>6</td>\n",
       "      <td>None</td>\n",
       "      <td>None</td>\n",
       "      <td>3867654445</td>\n",
       "      <td>734881840</td>\n",
       "      <td>961</td>\n",
       "      <td>1</td>\n",
       "      <td>261</td>\n",
       "      <td>[997, 8, 567, 688, 695, 698, 961]</td>\n",
       "    </tr>\n",
       "  </tbody>\n",
       "</table>\n",
       "<p>1 rows × 22 columns</p>\n",
       "</div>"
      ],
      "text/plain": [
       "     st_level  graph_id           name  weight acronym  parent_structure_id  \\\n",
       "377       NaN         1  Piriform area    8690     PIR                  698   \n",
       "\n",
       "     graph_order  sphinx_id  hemisphere_id      safe_name  \\\n",
       "377          377        378              3  Piriform area   \n",
       "\n",
       "                   ...                 failed depth  \\\n",
       "377                ...                  False     6   \n",
       "\n",
       "    neuro_name_structure_id_path  neuro_name_structure_id  \\\n",
       "377                         None                     None   \n",
       "\n",
       "    structure_name_facet failed_facet   id  ontology_id  atlas_id  \\\n",
       "377           3867654445    734881840  961            1       261   \n",
       "\n",
       "                structure_set_ancestor  \n",
       "377  [997, 8, 567, 688, 695, 698, 961]  \n",
       "\n",
       "[1 rows x 22 columns]"
      ]
     },
     "execution_count": 7,
     "metadata": {},
     "output_type": "execute_result"
    }
   ],
   "source": [
    "from allensdk.api.queries.ontologies_api import OntologiesApi\n",
    "oa = OntologiesApi()\n",
    "\n",
    "atlases = tabular_dataframe(oa.get_atlases_table(brief=True))\n",
    "mouse_p56_coronal_id = atlases[atlases.name == 'Mouse, P56, Coronal']['structure_graph'].iloc[0]['id'] # 1\n",
    "\n",
    "# calculate a list of only the ancestors that are in the limited structure set\n",
    "structure_set_df = tabular_dataframe(oa.get_structures(mouse_p56_coronal_id))\n",
    "\n",
    "oa.unpack_structure_set_ancestors(structure_set_df)\n",
    "\n",
    "structure_set_df[structure_set_df.acronym == 'PIR']"
   ]
  },
  {
   "cell_type": "code",
   "execution_count": 8,
   "metadata": {
    "collapsed": false,
    "scrolled": true
   },
   "outputs": [
    {
     "ename": "NameError",
     "evalue": "global name 'projection_df' is not defined",
     "output_type": "error",
     "traceback": [
      "\u001b[1;31m---------------------------------------------------------------------------\u001b[0m",
      "\u001b[1;31mNameError\u001b[0m                                 Traceback (most recent call last)",
      "\u001b[1;32m<ipython-input-8-2414017a675c>\u001b[0m in \u001b[0;36m<module>\u001b[1;34m()\u001b[0m\n\u001b[0;32m     11\u001b[0m              \u001b[0mhow\u001b[0m\u001b[1;33m=\u001b[0m\u001b[1;34m'inner'\u001b[0m\u001b[1;33m,\u001b[0m\u001b[1;33m\u001b[0m\u001b[0m\n\u001b[0;32m     12\u001b[0m              left_on='structure_id', right_on='id')\n\u001b[1;32m---> 13\u001b[1;33m     for h in [1, 2])).sort('graph_order').\\\n\u001b[0m\u001b[0;32m     14\u001b[0m         \u001b[0mreset_index\u001b[0m\u001b[1;33m(\u001b[0m\u001b[1;34m'structure_id'\u001b[0m\u001b[1;33m,\u001b[0m \u001b[1;34m'hemisphere_id'\u001b[0m\u001b[1;33m)\u001b[0m\u001b[1;33m\u001b[0m\u001b[0m\n\u001b[0;32m     15\u001b[0m \u001b[1;33m\u001b[0m\u001b[0m\n",
      "\u001b[1;32m/home/timf/anaconda/lib/python2.7/site-packages/pandas/tools/merge.pyc\u001b[0m in \u001b[0;36mconcat\u001b[1;34m(objs, axis, join, join_axes, ignore_index, keys, levels, names, verify_integrity, copy)\u001b[0m\n\u001b[0;32m    752\u001b[0m                        \u001b[0mkeys\u001b[0m\u001b[1;33m=\u001b[0m\u001b[0mkeys\u001b[0m\u001b[1;33m,\u001b[0m \u001b[0mlevels\u001b[0m\u001b[1;33m=\u001b[0m\u001b[0mlevels\u001b[0m\u001b[1;33m,\u001b[0m \u001b[0mnames\u001b[0m\u001b[1;33m=\u001b[0m\u001b[0mnames\u001b[0m\u001b[1;33m,\u001b[0m\u001b[1;33m\u001b[0m\u001b[0m\n\u001b[0;32m    753\u001b[0m                        \u001b[0mverify_integrity\u001b[0m\u001b[1;33m=\u001b[0m\u001b[0mverify_integrity\u001b[0m\u001b[1;33m,\u001b[0m\u001b[1;33m\u001b[0m\u001b[0m\n\u001b[1;32m--> 754\u001b[1;33m                        copy=copy)\n\u001b[0m\u001b[0;32m    755\u001b[0m     \u001b[1;32mreturn\u001b[0m \u001b[0mop\u001b[0m\u001b[1;33m.\u001b[0m\u001b[0mget_result\u001b[0m\u001b[1;33m(\u001b[0m\u001b[1;33m)\u001b[0m\u001b[1;33m\u001b[0m\u001b[0m\n\u001b[0;32m    756\u001b[0m \u001b[1;33m\u001b[0m\u001b[0m\n",
      "\u001b[1;32m/home/timf/anaconda/lib/python2.7/site-packages/pandas/tools/merge.pyc\u001b[0m in \u001b[0;36m__init__\u001b[1;34m(self, objs, axis, join, join_axes, keys, levels, names, ignore_index, verify_integrity, copy)\u001b[0m\n\u001b[0;32m    783\u001b[0m \u001b[1;33m\u001b[0m\u001b[0m\n\u001b[0;32m    784\u001b[0m         \u001b[1;32mif\u001b[0m \u001b[0mkeys\u001b[0m \u001b[1;32mis\u001b[0m \u001b[0mNone\u001b[0m\u001b[1;33m:\u001b[0m\u001b[1;33m\u001b[0m\u001b[0m\n\u001b[1;32m--> 785\u001b[1;33m             \u001b[0mobjs\u001b[0m \u001b[1;33m=\u001b[0m \u001b[1;33m[\u001b[0m\u001b[0mobj\u001b[0m \u001b[1;32mfor\u001b[0m \u001b[0mobj\u001b[0m \u001b[1;32min\u001b[0m \u001b[0mobjs\u001b[0m \u001b[1;32mif\u001b[0m \u001b[0mobj\u001b[0m \u001b[1;32mis\u001b[0m \u001b[1;32mnot\u001b[0m \u001b[0mNone\u001b[0m \u001b[1;33m]\u001b[0m\u001b[1;33m\u001b[0m\u001b[0m\n\u001b[0m\u001b[0;32m    786\u001b[0m         \u001b[1;32melse\u001b[0m\u001b[1;33m:\u001b[0m\u001b[1;33m\u001b[0m\u001b[0m\n\u001b[0;32m    787\u001b[0m             \u001b[1;31m# #1649\u001b[0m\u001b[1;33m\u001b[0m\u001b[1;33m\u001b[0m\u001b[0m\n",
      "\u001b[1;32m<ipython-input-8-2414017a675c>\u001b[0m in \u001b[0;36m<genexpr>\u001b[1;34m((h,))\u001b[0m\n\u001b[0;32m     11\u001b[0m              \u001b[0mhow\u001b[0m\u001b[1;33m=\u001b[0m\u001b[1;34m'inner'\u001b[0m\u001b[1;33m,\u001b[0m\u001b[1;33m\u001b[0m\u001b[0m\n\u001b[0;32m     12\u001b[0m              left_on='structure_id', right_on='id')\n\u001b[1;32m---> 13\u001b[1;33m     for h in [1, 2])).sort('graph_order').\\\n\u001b[0m\u001b[0;32m     14\u001b[0m         \u001b[0mreset_index\u001b[0m\u001b[1;33m(\u001b[0m\u001b[1;34m'structure_id'\u001b[0m\u001b[1;33m,\u001b[0m \u001b[1;34m'hemisphere_id'\u001b[0m\u001b[1;33m)\u001b[0m\u001b[1;33m\u001b[0m\u001b[0m\n\u001b[0;32m     15\u001b[0m \u001b[1;33m\u001b[0m\u001b[0m\n",
      "\u001b[1;31mNameError\u001b[0m: global name 'projection_df' is not defined"
     ]
    }
   ],
   "source": [
    "cutoff = 0.0050\n",
    "data_field = 'projection_volume'\n",
    "\n",
    "# projection joined to structures\n",
    "table = pd.concat((\n",
    "    pd.merge(projection_df[projection_df.hemisphere_id == h]\n",
    "                          [projection_df.projection_volume > cutoff].loc[:,['hemisphere_id',\n",
    "                                                                            'structure_id',\n",
    "                                                                            data_field]],\n",
    "             structure_set_df[['id','acronym','graph_order']],\n",
    "             how='inner',\n",
    "             left_on='structure_id', right_on='id')\n",
    "    for h in [1, 2])).sort('graph_order').\\\n",
    "        reset_index('structure_id', 'hemisphere_id')\n",
    "    \n",
    "table[['acronym', 'hemisphere_id', 'projection_volume']]\n",
    "\n",
    "table"
   ]
  },
  {
   "cell_type": "code",
   "execution_count": 13,
   "metadata": {
    "collapsed": false
   },
   "outputs": [
    {
     "data": {
      "text/html": [
       "<div>\n",
       "<table border=\"1\" class=\"dataframe\">\n",
       "  <thead>\n",
       "    <tr style=\"text-align: right;\">\n",
       "      <th></th>\n",
       "      <th>structure</th>\n",
       "      <th>L</th>\n",
       "      <th>R</th>\n",
       "    </tr>\n",
       "    <tr>\n",
       "      <th>graph_order</th>\n",
       "      <th></th>\n",
       "      <th></th>\n",
       "      <th></th>\n",
       "    </tr>\n",
       "  </thead>\n",
       "  <tbody>\n",
       "    <tr>\n",
       "      <th>0</th>\n",
       "      <td>root</td>\n",
       "      <td>0.020088</td>\n",
       "      <td>0.062792</td>\n",
       "    </tr>\n",
       "    <tr>\n",
       "      <th>1</th>\n",
       "      <td>grey</td>\n",
       "      <td>0.015301</td>\n",
       "      <td>0.058538</td>\n",
       "    </tr>\n",
       "    <tr>\n",
       "      <th>2</th>\n",
       "      <td>CH</td>\n",
       "      <td>NaN</td>\n",
       "      <td>0.046989</td>\n",
       "    </tr>\n",
       "    <tr>\n",
       "      <th>3</th>\n",
       "      <td>CTX</td>\n",
       "      <td>NaN</td>\n",
       "      <td>0.045993</td>\n",
       "    </tr>\n",
       "    <tr>\n",
       "      <th>4</th>\n",
       "      <td>CTXpl</td>\n",
       "      <td>NaN</td>\n",
       "      <td>0.043597</td>\n",
       "    </tr>\n",
       "    <tr>\n",
       "      <th>5</th>\n",
       "      <td>Isocortex</td>\n",
       "      <td>NaN</td>\n",
       "      <td>0.028033</td>\n",
       "    </tr>\n",
       "    <tr>\n",
       "      <th>260</th>\n",
       "      <td>AI</td>\n",
       "      <td>NaN</td>\n",
       "      <td>0.015947</td>\n",
       "    </tr>\n",
       "    <tr>\n",
       "      <th>267</th>\n",
       "      <td>AIp</td>\n",
       "      <td>NaN</td>\n",
       "      <td>0.009313</td>\n",
       "    </tr>\n",
       "    <tr>\n",
       "      <th>328</th>\n",
       "      <td>PERI</td>\n",
       "      <td>NaN</td>\n",
       "      <td>0.005093</td>\n",
       "    </tr>\n",
       "    <tr>\n",
       "      <th>340</th>\n",
       "      <td>OLF</td>\n",
       "      <td>NaN</td>\n",
       "      <td>0.011002</td>\n",
       "    </tr>\n",
       "    <tr>\n",
       "      <th>377</th>\n",
       "      <td>PIR</td>\n",
       "      <td>NaN</td>\n",
       "      <td>0.008747</td>\n",
       "    </tr>\n",
       "    <tr>\n",
       "      <th>588</th>\n",
       "      <td>BS</td>\n",
       "      <td>0.010513</td>\n",
       "      <td>0.011057</td>\n",
       "    </tr>\n",
       "  </tbody>\n",
       "</table>\n",
       "</div>"
      ],
      "text/plain": [
       "             structure         L         R\n",
       "graph_order                               \n",
       "0                 root  0.020088  0.062792\n",
       "1                 grey  0.015301  0.058538\n",
       "2                   CH       NaN  0.046989\n",
       "3                  CTX       NaN  0.045993\n",
       "4                CTXpl       NaN  0.043597\n",
       "5            Isocortex       NaN  0.028033\n",
       "260                 AI       NaN  0.015947\n",
       "267                AIp       NaN  0.009313\n",
       "328               PERI       NaN  0.005093\n",
       "340                OLF       NaN  0.011002\n",
       "377                PIR       NaN  0.008747\n",
       "588                 BS  0.010513  0.011057"
      ]
     },
     "execution_count": 13,
     "metadata": {},
     "output_type": "execute_result"
    }
   ],
   "source": [
    "display_table = table.loc[:,['acronym', 'hemisphere_id', 'projection_volume', 'graph_order']].pivot(index='graph_order',\n",
    "                                                                                                    columns='hemisphere_id').iloc[:,1:]\n",
    "\n",
    "display_table.columns = ['structure','L', 'R']\n",
    "display_table"
   ]
  },
  {
   "cell_type": "code",
   "execution_count": null,
   "metadata": {
    "collapsed": true
   },
   "outputs": [],
   "source": []
  }
 ],
 "metadata": {
  "kernelspec": {
   "display_name": "Python 2",
   "language": "python",
   "name": "python2"
  },
  "language_info": {
   "codemirror_mode": {
    "name": "ipython",
    "version": 2
   },
   "file_extension": ".py",
   "mimetype": "text/x-python",
   "name": "python",
   "nbconvert_exporter": "python",
   "pygments_lexer": "ipython2",
   "version": "2.7.10"
  }
 },
 "nbformat": 4,
 "nbformat_minor": 0
}
