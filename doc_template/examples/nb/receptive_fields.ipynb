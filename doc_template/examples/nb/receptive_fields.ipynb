{
 "cells": [
  {
   "cell_type": "markdown",
   "metadata": {},
   "source": [
    "# Receptive Field Analysis\n",
    "This notebook demonstrates how to run the `brain_observatory.receptive_field_analysis` module.  This module uses a cell's responses to the locally sparse noise stimulus to characterize the spatial receptive field, including on and off subunits.  We highly recommend reading through the the stimulus analysis <a href='http://help.brain-map.org/display/observatory/Documentation]'>whitepaper</a> to understand the locally sparse noise stimulus and the analysis methodology.\n",
    "\n",
    "Download this file in .ipynb format <a href='receptive_fields.ipynb'>here</a>.\n",
    "\n",
    "First we import packages."
   ]
  },
  {
   "cell_type": "code",
   "execution_count": 1,
   "metadata": {
    "collapsed": false
   },
   "outputs": [],
   "source": [
    "from allensdk.core.brain_observatory_cache import BrainObservatoryCache\n",
    "import allensdk.brain_observatory.receptive_field_analysis.visualization as rfvis\n",
    "import allensdk.brain_observatory.receptive_field_analysis.receptive_field as rf\n",
    "import matplotlib.pyplot as plt\n",
    "%matplotlib inline"
   ]
  },
  {
   "cell_type": "markdown",
   "metadata": {},
   "source": [
    "Given a cell of interest, we now identify the experiment that contains the locally sparse noise stimulus and download its NWB file.  We also look in the NWB file to figure out the position/index of the cell that has the ID we're interested in."
   ]
  },
  {
   "cell_type": "code",
   "execution_count": 2,
   "metadata": {
    "collapsed": false
   },
   "outputs": [
    {
     "name": "stderr",
     "output_type": "stream",
     "text": [
      "WARNING:allensdk.api.queries.brain_observatory_api:Downloading ophys_experiment 501474098 NWB. This can take some time.\n"
     ]
    },
    {
     "name": "stdout",
     "output_type": "stream",
     "text": [
      "cell 587377366 has index 5\n"
     ]
    }
   ],
   "source": [
    "cell_specimen_id = 587377366\n",
    "\n",
    "boc = BrainObservatoryCache(manifest_file='boc/manifest.json')\n",
    "\n",
    "exps = boc.get_ophys_experiments(cell_specimen_ids=[cell_specimen_id],\n",
    "                                 stimuli=['locally_sparse_noise'])\n",
    "\n",
    "data_set = boc.get_ophys_experiment_data(exps[0]['id'])\n",
    "\n",
    "cell_index = data_set.get_cell_specimen_indices([cell_specimen_id])[0]\n",
    "\n",
    "print(\"cell %d has index %d\" % (cell_specimen_id, cell_index))"
   ]
  },
  {
   "cell_type": "markdown",
   "metadata": {},
   "source": [
    "## Compute receptive fields\n",
    "The following method in the `receptive_field_analysis` module will characterize on and off receptive fields and perform a per-pixel significance test."
   ]
  },
  {
   "cell_type": "code",
   "execution_count": 3,
   "metadata": {
    "collapsed": false
   },
   "outputs": [],
   "source": [
    "rf_data = rf.compute_receptive_field_with_postprocessing(data_set, \n",
    "                                                         cell_index, \n",
    "                                                         'locally_sparse_noise', \n",
    "                                                         alpha=0.5, \n",
    "                                                         number_of_shuffles=10000)"
   ]
  },
  {
   "cell_type": "markdown",
   "metadata": {},
   "source": [
    "## Chi^2 significance map\n",
    "Per-pixel chi-square tests identify cells that show non-uniform distributions of responses across pixels.  The `receptive_field_analysis.visualization` module has function to plot that significance as a heat map."
   ]
  },
  {
   "cell_type": "code",
   "execution_count": 4,
   "metadata": {
    "collapsed": false
   },
   "outputs": [
    {
     "data": {
      "image/png": "[encoded data removed]",
      "text/plain": [
       "<matplotlib.figure.Figure at 0x7f6bf54a13d0>"
      ]
     },
     "metadata": {},
     "output_type": "display_data"
    }
   ],
   "source": [
    "rfvis.plot_chi_square_summary(rf_data)\n",
    "plt.show()"
   ]
  },
  {
   "cell_type": "markdown",
   "metadata": {},
   "source": [
    "## Response-triggered stimulus field\n",
    "The response-triggered stimulus field shows, for a given pixel, how many trials contained a detected calcium event."
   ]
  },
  {
   "cell_type": "code",
   "execution_count": 5,
   "metadata": {
    "collapsed": false
   },
   "outputs": [
    {
     "data": {
      "image/png": "[encoded data removed]",
      "text/plain": [
       "<matplotlib.figure.Figure at 0x7f6bf4997710>"
      ]
     },
     "metadata": {},
     "output_type": "display_data"
    }
   ],
   "source": [
    "fig, (ax1, ax2) = plt.subplots(1,2)\n",
    "rfvis.plot_rts_summary(rf_data, ax1, ax2)"
   ]
  },
  {
   "cell_type": "markdown",
   "metadata": {},
   "source": [
    "## Blurred response-triggered stimulus field\n",
    "The RTS field is convolved with a Gaussian to pool the contributions of neighboring stimulus pixels.  "
   ]
  },
  {
   "cell_type": "code",
   "execution_count": 6,
   "metadata": {
    "collapsed": false
   },
   "outputs": [
    {
     "data": {
      "image/png": "[encoded data removed]",
      "text/plain": [
       "<matplotlib.figure.Figure at 0x7f6be75b5a50>"
      ]
     },
     "metadata": {},
     "output_type": "display_data"
    }
   ],
   "source": [
    "fig, (ax1, ax2) = plt.subplots(1,2)\n",
    "rfvis.plot_rts_blur_summary(rf_data, ax1, ax2)"
   ]
  },
  {
   "cell_type": "markdown",
   "metadata": {},
   "source": [
    "## p value field\n",
    "\n",
    "Per-pixel p-values are estimated from the blurred RTS field to understand the significance of the response to each pixel.  "
   ]
  },
  {
   "cell_type": "code",
   "execution_count": 7,
   "metadata": {
    "collapsed": false
   },
   "outputs": [
    {
     "data": {
      "image/png": "[encoded data removed]",
      "text/plain": [
       "<matplotlib.figure.Figure at 0x7f6bf501e610>"
      ]
     },
     "metadata": {},
     "output_type": "display_data"
    }
   ],
   "source": [
    "fig, (ax1, ax2) = plt.subplots(1,2)\n",
    "rfvis.plot_p_values(rf_data, ax1, ax2)"
   ]
  },
  {
   "cell_type": "markdown",
   "metadata": {},
   "source": [
    "## Significance mask\n",
    "\n",
    "The significance mask is p-value field after applying a binary threshold to remove insignificant pixels."
   ]
  },
  {
   "cell_type": "code",
   "execution_count": 8,
   "metadata": {
    "collapsed": false
   },
   "outputs": [
    {
     "data": {
      "image/png": "[encoded data removed]",
      "text/plain": [
       "<matplotlib.figure.Figure at 0x7f6be35c1890>"
      ]
     },
     "metadata": {},
     "output_type": "display_data"
    }
   ],
   "source": [
    "fig, (ax1, ax2) = plt.subplots(1,2)\n",
    "rfvis.plot_mask(rf_data, ax1, ax2)"
   ]
  },
  {
   "cell_type": "markdown",
   "metadata": {},
   "source": [
    "## Gaussian fit\n",
    "Each identified subunit of the on and off receptive fields are fit with a Gaussian in the `receptive_field_analysis.postprocessing` module."
   ]
  },
  {
   "cell_type": "code",
   "execution_count": 9,
   "metadata": {
    "collapsed": false
   },
   "outputs": [
    {
     "data": {
      "image/png": "[encoded data removed]",
      "text/plain": [
       "<matplotlib.figure.Figure at 0x7f6bd745d350>"
      ]
     },
     "metadata": {},
     "output_type": "display_data"
    }
   ],
   "source": [
    "fig, (ax1, ax2) = plt.subplots(1,2)\n",
    "rfvis.plot_gaussian_fit(rf_data, ax1, ax2)"
   ]
  },
  {
   "cell_type": "markdown",
   "metadata": {},
   "source": [
    "## 4.65 vs 9.3 degree sparse noise stimuli\n",
    "Newer experiments switched from using a single locally sparse noise stimulus with 4.54 visual-degree pixels to two blocks of stimuli with different pixel sizes (a 4.65 degree block and an 9.3 degree block that are each half the length of the original 4.65-degree-only stimulus).  You can characterize the receptive fields from reponses to each stimulus block separately."
   ]
  },
  {
   "cell_type": "code",
   "execution_count": 10,
   "metadata": {
    "collapsed": false
   },
   "outputs": [
    {
     "name": "stdout",
     "output_type": "stream",
     "text": [
      "['locally_sparse_noise_4deg', 'locally_sparse_noise_8deg', 'natural_movie_one', 'natural_movie_two', 'spontaneous']\n",
      "['drifting_gratings', 'natural_movie_one', 'natural_movie_three', 'spontaneous']\n",
      "['static_gratings', 'natural_scenes', 'natural_movie_one', 'spontaneous']\n"
     ]
    }
   ],
   "source": [
    "cell_specimen_id = 559109414\n",
    "exps = boc.get_ophys_experiments(cell_specimen_ids=[cell_specimen_id])\n",
    "for exp in exps:\n",
    "    print(boc.get_ophys_experiment_stimuli(exp['id']))"
   ]
  },
  {
   "cell_type": "markdown",
   "metadata": {},
   "source": [
    "This cell comes from an experiment that has the new 4.65 degree and 9.3 degree stimulus blocks.  Let's find the experiment that contains the 9.3 degree stimulus.\n",
    "\n",
    "**Note:** the NWB files refer to these stimuli as `locally_sparse_noise_4deg` and `locally_sparse_noise_8deg` respectively."
   ]
  },
  {
   "cell_type": "code",
   "execution_count": 11,
   "metadata": {
    "collapsed": false
   },
   "outputs": [
    {
     "name": "stderr",
     "output_type": "stream",
     "text": [
      "WARNING:allensdk.api.queries.brain_observatory_api:Downloading ophys_experiment 558599066 NWB. This can take some time.\n"
     ]
    },
    {
     "name": "stdout",
     "output_type": "stream",
     "text": [
      "cell 559109414 has index 152\n"
     ]
    }
   ],
   "source": [
    "exp = boc.get_ophys_experiments(cell_specimen_ids=[cell_specimen_id],\n",
    "                                stimuli=['locally_sparse_noise_8deg'])\n",
    "data_set = boc.get_ophys_experiment_data(exps[0]['id'])\n",
    "cell_index = data_set.get_cell_specimen_indices([cell_specimen_id])[0]\n",
    "print(\"cell %d has index %d\" % (cell_specimen_id, cell_index))"
   ]
  },
  {
   "cell_type": "markdown",
   "metadata": {},
   "source": [
    "Now we can run the receptive field analysis as before and see what this looks like."
   ]
  },
  {
   "cell_type": "code",
   "execution_count": 12,
   "metadata": {
    "collapsed": false
   },
   "outputs": [],
   "source": [
    "rf_data = rf.compute_receptive_field_with_postprocessing(data_set, \n",
    "                                                         cell_index, \n",
    "                                                         'locally_sparse_noise_8deg', \n",
    "                                                         alpha=0.5, \n",
    "                                                         number_of_shuffles=10000)"
   ]
  },
  {
   "cell_type": "code",
   "execution_count": 13,
   "metadata": {
    "collapsed": false
   },
   "outputs": [
    {
     "data": {
      "image/png": "[encoded data removed]",
      "text/plain": [
       "<matplotlib.figure.Figure at 0x7f6bde031f10>"
      ]
     },
     "metadata": {},
     "output_type": "display_data"
    }
   ],
   "source": [
    "rfvis.plot_chi_square_summary(rf_data)\n",
    "plt.show()"
   ]
  },
  {
   "cell_type": "code",
   "execution_count": 14,
   "metadata": {
    "collapsed": false
   },
   "outputs": [
    {
     "data": {
      "image/png": "[encoded data removed]",
      "text/plain": [
       "<matplotlib.figure.Figure at 0x7f6c38326a90>"
      ]
     },
     "metadata": {},
     "output_type": "display_data"
    }
   ],
   "source": [
    "fig, (ax1, ax2) = plt.subplots(1,2)\n",
    "rfvis.plot_rts_summary(rf_data, ax1, ax2)"
   ]
  }
 ],
 "metadata": {
  "kernelspec": {
   "display_name": "Python 2",
   "language": "python",
   "name": "python2"
  },
  "language_info": {
   "codemirror_mode": {
    "name": "ipython",
    "version": 2
   },
   "file_extension": ".py",
   "mimetype": "text/x-python",
   "name": "python",
   "nbconvert_exporter": "python",
   "pygments_lexer": "ipython2",
   "version": "2.7.13"
  }
 },
 "nbformat": 4,
 "nbformat_minor": 0
}
