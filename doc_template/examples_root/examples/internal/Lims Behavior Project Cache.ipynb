{
 "cells": [
  {
   "cell_type": "markdown",
   "metadata": {},
   "source": [
    "# Visual Behavior Data Project Cache\n",
    "A short introduction to analyzing the Visual Behavior data.\n",
    "This notebook uses the LIMS API to access data, so it will only work on the Allen Institute network.\n",
    "\n",
    "Please note that local caching functionality has not been implemented, as there are currently no NWB files for these data. Because the data may change over time, whenever a Session object is created through the cache, we note when the data were accessed in a session log."
   ]
  },
  {
   "cell_type": "code",
   "execution_count": 1,
   "metadata": {},
   "outputs": [],
   "source": [
    "import os.path\n",
    "import pandas as pd\n",
    "import SimpleITK as sitk\n",
    "import matplotlib.pyplot as plt\n",
    "from allensdk.brain_observatory.behavior.behavior_project_cache import BehaviorProjectCache\n",
    "from allensdk.brain_observatory.behavior.image_api import ImageApi"
   ]
  },
  {
   "cell_type": "markdown",
   "metadata": {},
   "source": [
    "The `BehaviorProjectCache` is the main entry point to the Visual Behavior project dataset. It allows you to view cross-session summary information and create classes to analyze individual sessions. It supports both behavior-only sessions as well as sessions with behavior and optical physiology recordings."
   ]
  },
  {
   "cell_type": "code",
   "execution_count": 2,
   "metadata": {},
   "outputs": [],
   "source": [
    "# this path determines where the downloaded data will be stored\n",
    "\n",
    "manifest_path = os.path.join(\"example_behavior_project_cache\", \"manifest.json\")\n",
    "\n",
    "cache = BehaviorProjectCache.from_lims(manifest=manifest_path)"
   ]
  },
  {
   "cell_type": "markdown",
   "metadata": {},
   "source": [
    "We can view all session records present in the LIMS database."
   ]
  },
  {
   "cell_type": "code",
   "execution_count": 3,
   "metadata": {},
   "outputs": [
    {
     "data": {
      "text/plain": [
       "array(['VisualBehaviorMultiscope', 'VisualBehavior',\n",
       "       'VisBIntTestDatacube', 'VisBehNeuroModAx', 'VisualBehaviorTask1B',\n",
       "       'MesoscopeDevelopment', 'VisBehViralDev',\n",
       "       'VisualBehaviorDevelopment', 'VisualBehaviorIntegrationTest',\n",
       "       'DevelopmentMultiscope4areasx2d',\n",
       "       'VisualBehaviorMultiscope4areasx2d'], dtype=object)"
      ]
     },
     "execution_count": 3,
     "metadata": {},
     "output_type": "execute_result"
    }
   ],
   "source": [
    "ophys_sessions = cache.get_session_table()\n",
    "ophys_sessions.head()\n",
    "ophys_sessions.project_code.unique()"
   ]
  },
  {
   "cell_type": "markdown",
   "metadata": {},
   "source": [
    "If we want to get more specific, we can look at all experiment records in the LIMS database. We can then filter down to what we're interested in."
   ]
  },
  {
   "cell_type": "code",
   "execution_count": 4,
   "metadata": {},
   "outputs": [
    {
     "data": {
      "text/html": [
       "<div>\n",
       "<style scoped>\n",
       "    .dataframe tbody tr th:only-of-type {\n",
       "        vertical-align: middle;\n",
       "    }\n",
       "\n",
       "    .dataframe tbody tr th {\n",
       "        vertical-align: top;\n",
       "    }\n",
       "\n",
       "    .dataframe thead th {\n",
       "        text-align: right;\n",
       "    }\n",
       "</style>\n",
       "<table border=\"1\" class=\"dataframe\">\n",
       "  <thead>\n",
       "    <tr style=\"text-align: right;\">\n",
       "      <th></th>\n",
       "      <th>ophys_session_id</th>\n",
       "      <th>behavior_session_id</th>\n",
       "      <th>container_id</th>\n",
       "      <th>project_code</th>\n",
       "      <th>container_workflow_state</th>\n",
       "      <th>experiment_workflow_state</th>\n",
       "      <th>session_name</th>\n",
       "      <th>session_type</th>\n",
       "      <th>equipment_name</th>\n",
       "      <th>date_of_acquisition</th>\n",
       "      <th>isi_experiment_id</th>\n",
       "      <th>specimen_id</th>\n",
       "      <th>sex</th>\n",
       "      <th>age_in_days</th>\n",
       "      <th>full_genotype</th>\n",
       "      <th>reporter_line</th>\n",
       "      <th>driver_line</th>\n",
       "      <th>imaging_depth</th>\n",
       "      <th>targeted_structure</th>\n",
       "      <th>published_at</th>\n",
       "    </tr>\n",
       "    <tr>\n",
       "      <th>ophys_experiment_id</th>\n",
       "      <th></th>\n",
       "      <th></th>\n",
       "      <th></th>\n",
       "      <th></th>\n",
       "      <th></th>\n",
       "      <th></th>\n",
       "      <th></th>\n",
       "      <th></th>\n",
       "      <th></th>\n",
       "      <th></th>\n",
       "      <th></th>\n",
       "      <th></th>\n",
       "      <th></th>\n",
       "      <th></th>\n",
       "      <th></th>\n",
       "      <th></th>\n",
       "      <th></th>\n",
       "      <th></th>\n",
       "      <th></th>\n",
       "      <th></th>\n",
       "    </tr>\n",
       "  </thead>\n",
       "  <tbody>\n",
       "    <tr>\n",
       "      <td>953659741</td>\n",
       "      <td>952430817</td>\n",
       "      <td>952554548</td>\n",
       "      <td>949264660</td>\n",
       "      <td>VisualBehaviorMultiscope</td>\n",
       "      <td>holding</td>\n",
       "      <td>failed</td>\n",
       "      <td>20190923_457841_2imagesA</td>\n",
       "      <td>OPHYS_2_images_A_passive</td>\n",
       "      <td>MESO.1</td>\n",
       "      <td>2019-09-23 08:13:07.627573</td>\n",
       "      <td>858992726</td>\n",
       "      <td>850862430</td>\n",
       "      <td>F</td>\n",
       "      <td>209.0</td>\n",
       "      <td>Sst-IRES-Cre/wt;Ai148(TIT2L-GC6f-ICL-tTA2)/wt</td>\n",
       "      <td>[Ai148(TIT2L-GC6f-ICL-tTA2)]</td>\n",
       "      <td>[Sst-IRES-Cre]</td>\n",
       "      <td>NaN</td>\n",
       "      <td>VISp</td>\n",
       "      <td>NaN</td>\n",
       "    </tr>\n",
       "    <tr>\n",
       "      <td>953659756</td>\n",
       "      <td>952430817</td>\n",
       "      <td>952554548</td>\n",
       "      <td>949264660</td>\n",
       "      <td>VisualBehaviorMultiscope</td>\n",
       "      <td>holding</td>\n",
       "      <td>failed</td>\n",
       "      <td>20190923_457841_2imagesA</td>\n",
       "      <td>OPHYS_2_images_A_passive</td>\n",
       "      <td>MESO.1</td>\n",
       "      <td>2019-09-23 08:13:07.627573</td>\n",
       "      <td>858992726</td>\n",
       "      <td>850862430</td>\n",
       "      <td>F</td>\n",
       "      <td>209.0</td>\n",
       "      <td>Sst-IRES-Cre/wt;Ai148(TIT2L-GC6f-ICL-tTA2)/wt</td>\n",
       "      <td>[Ai148(TIT2L-GC6f-ICL-tTA2)]</td>\n",
       "      <td>[Sst-IRES-Cre]</td>\n",
       "      <td>NaN</td>\n",
       "      <td>VISl</td>\n",
       "      <td>NaN</td>\n",
       "    </tr>\n",
       "    <tr>\n",
       "      <td>953659749</td>\n",
       "      <td>952430817</td>\n",
       "      <td>952554548</td>\n",
       "      <td>949264660</td>\n",
       "      <td>VisualBehaviorMultiscope</td>\n",
       "      <td>holding</td>\n",
       "      <td>passed</td>\n",
       "      <td>20190923_457841_2imagesA</td>\n",
       "      <td>OPHYS_2_images_A_passive</td>\n",
       "      <td>MESO.1</td>\n",
       "      <td>2019-09-23 08:13:07.627573</td>\n",
       "      <td>858992726</td>\n",
       "      <td>850862430</td>\n",
       "      <td>F</td>\n",
       "      <td>209.0</td>\n",
       "      <td>Sst-IRES-Cre/wt;Ai148(TIT2L-GC6f-ICL-tTA2)/wt</td>\n",
       "      <td>[Ai148(TIT2L-GC6f-ICL-tTA2)]</td>\n",
       "      <td>[Sst-IRES-Cre]</td>\n",
       "      <td>NaN</td>\n",
       "      <td>VISl</td>\n",
       "      <td>NaN</td>\n",
       "    </tr>\n",
       "    <tr>\n",
       "      <td>953659747</td>\n",
       "      <td>952430817</td>\n",
       "      <td>952554548</td>\n",
       "      <td>949264660</td>\n",
       "      <td>VisualBehaviorMultiscope</td>\n",
       "      <td>holding</td>\n",
       "      <td>failed</td>\n",
       "      <td>20190923_457841_2imagesA</td>\n",
       "      <td>OPHYS_2_images_A_passive</td>\n",
       "      <td>MESO.1</td>\n",
       "      <td>2019-09-23 08:13:07.627573</td>\n",
       "      <td>858992726</td>\n",
       "      <td>850862430</td>\n",
       "      <td>F</td>\n",
       "      <td>209.0</td>\n",
       "      <td>Sst-IRES-Cre/wt;Ai148(TIT2L-GC6f-ICL-tTA2)/wt</td>\n",
       "      <td>[Ai148(TIT2L-GC6f-ICL-tTA2)]</td>\n",
       "      <td>[Sst-IRES-Cre]</td>\n",
       "      <td>NaN</td>\n",
       "      <td>VISp</td>\n",
       "      <td>NaN</td>\n",
       "    </tr>\n",
       "    <tr>\n",
       "      <td>953659743</td>\n",
       "      <td>952430817</td>\n",
       "      <td>952554548</td>\n",
       "      <td>949264660</td>\n",
       "      <td>VisualBehaviorMultiscope</td>\n",
       "      <td>holding</td>\n",
       "      <td>passed</td>\n",
       "      <td>20190923_457841_2imagesA</td>\n",
       "      <td>OPHYS_2_images_A_passive</td>\n",
       "      <td>MESO.1</td>\n",
       "      <td>2019-09-23 08:13:07.627573</td>\n",
       "      <td>858992726</td>\n",
       "      <td>850862430</td>\n",
       "      <td>F</td>\n",
       "      <td>209.0</td>\n",
       "      <td>Sst-IRES-Cre/wt;Ai148(TIT2L-GC6f-ICL-tTA2)/wt</td>\n",
       "      <td>[Ai148(TIT2L-GC6f-ICL-tTA2)]</td>\n",
       "      <td>[Sst-IRES-Cre]</td>\n",
       "      <td>NaN</td>\n",
       "      <td>VISp</td>\n",
       "      <td>NaN</td>\n",
       "    </tr>\n",
       "  </tbody>\n",
       "</table>\n",
       "</div>"
      ],
      "text/plain": [
       "                     ophys_session_id  behavior_session_id  container_id  \\\n",
       "ophys_experiment_id                                                        \n",
       "953659741                   952430817            952554548     949264660   \n",
       "953659756                   952430817            952554548     949264660   \n",
       "953659749                   952430817            952554548     949264660   \n",
       "953659747                   952430817            952554548     949264660   \n",
       "953659743                   952430817            952554548     949264660   \n",
       "\n",
       "                                 project_code container_workflow_state  \\\n",
       "ophys_experiment_id                                                      \n",
       "953659741            VisualBehaviorMultiscope                  holding   \n",
       "953659756            VisualBehaviorMultiscope                  holding   \n",
       "953659749            VisualBehaviorMultiscope                  holding   \n",
       "953659747            VisualBehaviorMultiscope                  holding   \n",
       "953659743            VisualBehaviorMultiscope                  holding   \n",
       "\n",
       "                    experiment_workflow_state              session_name  \\\n",
       "ophys_experiment_id                                                       \n",
       "953659741                              failed  20190923_457841_2imagesA   \n",
       "953659756                              failed  20190923_457841_2imagesA   \n",
       "953659749                              passed  20190923_457841_2imagesA   \n",
       "953659747                              failed  20190923_457841_2imagesA   \n",
       "953659743                              passed  20190923_457841_2imagesA   \n",
       "\n",
       "                                 session_type equipment_name  \\\n",
       "ophys_experiment_id                                            \n",
       "953659741            OPHYS_2_images_A_passive         MESO.1   \n",
       "953659756            OPHYS_2_images_A_passive         MESO.1   \n",
       "953659749            OPHYS_2_images_A_passive         MESO.1   \n",
       "953659747            OPHYS_2_images_A_passive         MESO.1   \n",
       "953659743            OPHYS_2_images_A_passive         MESO.1   \n",
       "\n",
       "                            date_of_acquisition  isi_experiment_id  \\\n",
       "ophys_experiment_id                                                  \n",
       "953659741            2019-09-23 08:13:07.627573          858992726   \n",
       "953659756            2019-09-23 08:13:07.627573          858992726   \n",
       "953659749            2019-09-23 08:13:07.627573          858992726   \n",
       "953659747            2019-09-23 08:13:07.627573          858992726   \n",
       "953659743            2019-09-23 08:13:07.627573          858992726   \n",
       "\n",
       "                     specimen_id sex  age_in_days  \\\n",
       "ophys_experiment_id                                 \n",
       "953659741              850862430   F        209.0   \n",
       "953659756              850862430   F        209.0   \n",
       "953659749              850862430   F        209.0   \n",
       "953659747              850862430   F        209.0   \n",
       "953659743              850862430   F        209.0   \n",
       "\n",
       "                                                     full_genotype  \\\n",
       "ophys_experiment_id                                                  \n",
       "953659741            Sst-IRES-Cre/wt;Ai148(TIT2L-GC6f-ICL-tTA2)/wt   \n",
       "953659756            Sst-IRES-Cre/wt;Ai148(TIT2L-GC6f-ICL-tTA2)/wt   \n",
       "953659749            Sst-IRES-Cre/wt;Ai148(TIT2L-GC6f-ICL-tTA2)/wt   \n",
       "953659747            Sst-IRES-Cre/wt;Ai148(TIT2L-GC6f-ICL-tTA2)/wt   \n",
       "953659743            Sst-IRES-Cre/wt;Ai148(TIT2L-GC6f-ICL-tTA2)/wt   \n",
       "\n",
       "                                    reporter_line     driver_line  \\\n",
       "ophys_experiment_id                                                 \n",
       "953659741            [Ai148(TIT2L-GC6f-ICL-tTA2)]  [Sst-IRES-Cre]   \n",
       "953659756            [Ai148(TIT2L-GC6f-ICL-tTA2)]  [Sst-IRES-Cre]   \n",
       "953659749            [Ai148(TIT2L-GC6f-ICL-tTA2)]  [Sst-IRES-Cre]   \n",
       "953659747            [Ai148(TIT2L-GC6f-ICL-tTA2)]  [Sst-IRES-Cre]   \n",
       "953659743            [Ai148(TIT2L-GC6f-ICL-tTA2)]  [Sst-IRES-Cre]   \n",
       "\n",
       "                     imaging_depth targeted_structure  published_at  \n",
       "ophys_experiment_id                                                  \n",
       "953659741                      NaN               VISp           NaN  \n",
       "953659756                      NaN               VISl           NaN  \n",
       "953659749                      NaN               VISl           NaN  \n",
       "953659747                      NaN               VISp           NaN  \n",
       "953659743                      NaN               VISp           NaN  "
      ]
     },
     "execution_count": 4,
     "metadata": {},
     "output_type": "execute_result"
    }
   ],
   "source": [
    "ophys_experiments = cache.get_experiment_table()\n",
    "ophys_experiments.head()"
   ]
  },
  {
   "cell_type": "markdown",
   "metadata": {},
   "source": [
    "Let's analyze the most recent passed experiment for the Visual Behavior project.\n",
    "\n",
    "Note that the session data will not be downloaded to your local machine. However, the time this ID was last accessed will be recorded in the analysis log (in seconds since epoch)."
   ]
  },
  {
   "cell_type": "code",
   "execution_count": 5,
   "metadata": {},
   "outputs": [
    {
     "name": "stdout",
     "output_type": "stream",
     "text": [
      "Latest experiment id: 978244684. Acquired on 2019-11-07 20:02:18.000000. Session: OPHYS_4_images_B\n"
     ]
    }
   ],
   "source": [
    "latest = ophys_experiments.query(\"project_code == 'VisualBehavior'\"\n",
    "                        \"& experiment_workflow_state == 'passed'\")\\\n",
    "    .sort_values(\"date_of_acquisition\", ascending=False).iloc[0]\n",
    "\n",
    "print(f\"Latest experiment id: {latest.name}. Acquired on {latest['date_of_acquisition']}. \"\n",
    "      f\"Session: {latest['session_type']}\")\n",
    "    \n",
    "session = cache.get_session_data(latest.name)"
   ]
  },
  {
   "cell_type": "markdown",
   "metadata": {},
   "source": [
    "We can look at metadata about the session:"
   ]
  },
  {
   "cell_type": "code",
   "execution_count": 6,
   "metadata": {},
   "outputs": [
    {
     "data": {
      "text/plain": [
       "{'rig_name': 'CAM2P.5',\n",
       " 'sex': 'M',\n",
       " 'age': 'unknown',\n",
       " 'excitation_lambda': 910.0,\n",
       " 'emission_lambda': 520.0,\n",
       " 'indicator': 'GCAMP6f',\n",
       " 'field_of_view_width': 447,\n",
       " 'field_of_view_height': 512,\n",
       " 'ophys_experiment_id': 978244684,\n",
       " 'experiment_container_id': 968890932,\n",
       " 'ophys_frame_rate': 31.0,\n",
       " 'stimulus_frame_rate': 60.0,\n",
       " 'targeted_structure': 'VISp',\n",
       " 'imaging_depth': 175,\n",
       " 'session_type': 'OPHYS_4_images_B',\n",
       " 'experiment_datetime': Timestamp('2019-11-07 20:02:18+0000', tz='UTC'),\n",
       " 'reporter_line': ['Ai93(TITL-GCaMP6f)'],\n",
       " 'driver_line': ['Camk2a-tTA', 'Slc17a7-IRES2-Cre'],\n",
       " 'LabTracks_ID': 483803,\n",
       " 'full_genotype': 'Slc17a7-IRES2-Cre/wt;Camk2a-tTA/wt;Ai93(TITL-GCaMP6f)/wt',\n",
       " 'behavior_session_uuid': UUID('d7593ceb-4420-4d42-8c70-41f8ae71b9a6')}"
      ]
     },
     "execution_count": 6,
     "metadata": {},
     "output_type": "execute_result"
    }
   ],
   "source": [
    "session.metadata"
   ]
  },
  {
   "cell_type": "markdown",
   "metadata": {},
   "source": [
    "We can examine 2d images of cells:"
   ]
  },
  {
   "cell_type": "code",
   "execution_count": 7,
   "metadata": {},
   "outputs": [
    {
     "data": {
      "image/png": "[encoded data removed]",
      "text/plain": [
       "<Figure size 432x288 with 3 Axes>"
      ]
     },
     "metadata": {
      "needs_background": "light"
     },
     "output_type": "display_data"
    }
   ],
   "source": [
    "fig, ax = plt.subplots(1, 3)\n",
    "ax[0].imshow(session.max_projection)\n",
    "ax[1].imshow(session.average_projection)\n",
    "ax[2].imshow(session.segmentation_mask_image)\n",
    "plt.show()"
   ]
  },
  {
   "cell_type": "markdown",
   "metadata": {},
   "source": [
    "We can also look at data for behavior-only sessions. These data do not have optical physiology recordings associated with them."
   ]
  },
  {
   "cell_type": "code",
   "execution_count": 8,
   "metadata": {},
   "outputs": [
    {
     "data": {
      "text/html": [
       "<div>\n",
       "<style scoped>\n",
       "    .dataframe tbody tr th:only-of-type {\n",
       "        vertical-align: middle;\n",
       "    }\n",
       "\n",
       "    .dataframe tbody tr th {\n",
       "        vertical-align: top;\n",
       "    }\n",
       "\n",
       "    .dataframe thead th {\n",
       "        text-align: right;\n",
       "    }\n",
       "</style>\n",
       "<table border=\"1\" class=\"dataframe\">\n",
       "  <thead>\n",
       "    <tr style=\"text-align: right;\">\n",
       "      <th></th>\n",
       "      <th>ophys_session_id</th>\n",
       "      <th>behavior_training_id</th>\n",
       "      <th>equipment_name</th>\n",
       "      <th>donor_id</th>\n",
       "      <th>full_genotype</th>\n",
       "      <th>reporter_line</th>\n",
       "      <th>driver_line</th>\n",
       "      <th>sex</th>\n",
       "      <th>foraging_id</th>\n",
       "      <th>session_type</th>\n",
       "    </tr>\n",
       "    <tr>\n",
       "      <th>behavior_session_id</th>\n",
       "      <th></th>\n",
       "      <th></th>\n",
       "      <th></th>\n",
       "      <th></th>\n",
       "      <th></th>\n",
       "      <th></th>\n",
       "      <th></th>\n",
       "      <th></th>\n",
       "      <th></th>\n",
       "      <th></th>\n",
       "    </tr>\n",
       "  </thead>\n",
       "  <tbody>\n",
       "    <tr>\n",
       "      <td>846710859</td>\n",
       "      <td>846605051.0</td>\n",
       "      <td>NaN</td>\n",
       "      <td>CAM2P.4</td>\n",
       "      <td>814111925</td>\n",
       "      <td>Slc17a7-IRES2-Cre/wt;Camk2a-tTA/wt;Ai94(TITL-G...</td>\n",
       "      <td>[Ai94(TITL-GCaMP6s)]</td>\n",
       "      <td>[Camk2a-tTA, Slc17a7-IRES2-Cre]</td>\n",
       "      <td>F</td>\n",
       "      <td>b183a85b-6a29-4054-9d3c-915a0408a10a</td>\n",
       "      <td>OPHYS_5_images_B_passive</td>\n",
       "    </tr>\n",
       "    <tr>\n",
       "      <td>820627398</td>\n",
       "      <td>NaN</td>\n",
       "      <td>NaN</td>\n",
       "      <td>MESO.1</td>\n",
       "      <td>703198154</td>\n",
       "      <td>Slc17a7-IRES2-Cre/wt;Camk2a-tTA/wt;Ai93(TITL-G...</td>\n",
       "      <td>[Ai93(TITL-GCaMP6f)]</td>\n",
       "      <td>[Camk2a-tTA, Slc17a7-IRES2-Cre]</td>\n",
       "      <td>M</td>\n",
       "      <td>e3bc6a4b-3477-41bc-966b-ef8e3d35b6cd</td>\n",
       "      <td>OPHYS_1_images_A</td>\n",
       "    </tr>\n",
       "    <tr>\n",
       "      <td>767197943</td>\n",
       "      <td>NaN</td>\n",
       "      <td>NaN</td>\n",
       "      <td>CAM2P.3</td>\n",
       "      <td>642238406</td>\n",
       "      <td>Slc17a7-IRES2-Cre/wt;Ai162(TIT2L-GC6s-ICL-tTA2...</td>\n",
       "      <td>[Ai162(TIT2L-GC6s-ICL-tTA2)]</td>\n",
       "      <td>[Slc17a7-IRES2-Cre]</td>\n",
       "      <td>M</td>\n",
       "      <td>7a1d6674-df2c-53e7-ad85-9065a520634d</td>\n",
       "      <td>0_gratings_autorewards_15min</td>\n",
       "    </tr>\n",
       "    <tr>\n",
       "      <td>768638583</td>\n",
       "      <td>768434190.0</td>\n",
       "      <td>NaN</td>\n",
       "      <td>CAM2P.4</td>\n",
       "      <td>703210569</td>\n",
       "      <td>Slc17a7-IRES2-Cre/wt;Camk2a-tTA/wt;Ai93(TITL-G...</td>\n",
       "      <td>[Ai93(TITL-GCaMP6f)]</td>\n",
       "      <td>[Camk2a-tTA, Slc17a7-IRES2-Cre]</td>\n",
       "      <td>F</td>\n",
       "      <td>cf1769ef-623e-4bb9-a698-a82986e91727</td>\n",
       "      <td>5_images_a_ophys</td>\n",
       "    </tr>\n",
       "    <tr>\n",
       "      <td>768879508</td>\n",
       "      <td>NaN</td>\n",
       "      <td>NaN</td>\n",
       "      <td>CAM2P.3</td>\n",
       "      <td>642238406</td>\n",
       "      <td>Slc17a7-IRES2-Cre/wt;Ai162(TIT2L-GC6s-ICL-tTA2...</td>\n",
       "      <td>[Ai162(TIT2L-GC6s-ICL-tTA2)]</td>\n",
       "      <td>[Slc17a7-IRES2-Cre]</td>\n",
       "      <td>M</td>\n",
       "      <td>3e2e0696-70f9-5839-888a-a90668e66a4d</td>\n",
       "      <td>1_gratings</td>\n",
       "    </tr>\n",
       "  </tbody>\n",
       "</table>\n",
       "</div>"
      ],
      "text/plain": [
       "                     ophys_session_id  behavior_training_id equipment_name  \\\n",
       "behavior_session_id                                                          \n",
       "846710859                 846605051.0                   NaN        CAM2P.4   \n",
       "820627398                         NaN                   NaN         MESO.1   \n",
       "767197943                         NaN                   NaN        CAM2P.3   \n",
       "768638583                 768434190.0                   NaN        CAM2P.4   \n",
       "768879508                         NaN                   NaN        CAM2P.3   \n",
       "\n",
       "                      donor_id  \\\n",
       "behavior_session_id              \n",
       "846710859            814111925   \n",
       "820627398            703198154   \n",
       "767197943            642238406   \n",
       "768638583            703210569   \n",
       "768879508            642238406   \n",
       "\n",
       "                                                         full_genotype  \\\n",
       "behavior_session_id                                                      \n",
       "846710859            Slc17a7-IRES2-Cre/wt;Camk2a-tTA/wt;Ai94(TITL-G...   \n",
       "820627398            Slc17a7-IRES2-Cre/wt;Camk2a-tTA/wt;Ai93(TITL-G...   \n",
       "767197943            Slc17a7-IRES2-Cre/wt;Ai162(TIT2L-GC6s-ICL-tTA2...   \n",
       "768638583            Slc17a7-IRES2-Cre/wt;Camk2a-tTA/wt;Ai93(TITL-G...   \n",
       "768879508            Slc17a7-IRES2-Cre/wt;Ai162(TIT2L-GC6s-ICL-tTA2...   \n",
       "\n",
       "                                    reporter_line  \\\n",
       "behavior_session_id                                 \n",
       "846710859                    [Ai94(TITL-GCaMP6s)]   \n",
       "820627398                    [Ai93(TITL-GCaMP6f)]   \n",
       "767197943            [Ai162(TIT2L-GC6s-ICL-tTA2)]   \n",
       "768638583                    [Ai93(TITL-GCaMP6f)]   \n",
       "768879508            [Ai162(TIT2L-GC6s-ICL-tTA2)]   \n",
       "\n",
       "                                         driver_line sex  \\\n",
       "behavior_session_id                                        \n",
       "846710859            [Camk2a-tTA, Slc17a7-IRES2-Cre]   F   \n",
       "820627398            [Camk2a-tTA, Slc17a7-IRES2-Cre]   M   \n",
       "767197943                        [Slc17a7-IRES2-Cre]   M   \n",
       "768638583            [Camk2a-tTA, Slc17a7-IRES2-Cre]   F   \n",
       "768879508                        [Slc17a7-IRES2-Cre]   M   \n",
       "\n",
       "                                              foraging_id  \\\n",
       "behavior_session_id                                         \n",
       "846710859            b183a85b-6a29-4054-9d3c-915a0408a10a   \n",
       "820627398            e3bc6a4b-3477-41bc-966b-ef8e3d35b6cd   \n",
       "767197943            7a1d6674-df2c-53e7-ad85-9065a520634d   \n",
       "768638583            cf1769ef-623e-4bb9-a698-a82986e91727   \n",
       "768879508            3e2e0696-70f9-5839-888a-a90668e66a4d   \n",
       "\n",
       "                                     session_type  \n",
       "behavior_session_id                                \n",
       "846710859                OPHYS_5_images_B_passive  \n",
       "820627398                        OPHYS_1_images_A  \n",
       "767197943            0_gratings_autorewards_15min  \n",
       "768638583                        5_images_a_ophys  \n",
       "768879508                              1_gratings  "
      ]
     },
     "execution_count": 8,
     "metadata": {},
     "output_type": "execute_result"
    }
   ],
   "source": [
    "# get all behavior sessions\n",
    "behavior_sessions = cache.get_behavior_session_table()\n",
    "behavior_sessions.head()"
   ]
  },
  {
   "cell_type": "markdown",
   "metadata": {},
   "source": [
    "Let's take a look at one behavior session.\n",
    "\n",
    "Note that when accessing behavior data using `get_behavior_session_data`, different data sources may be used than when using `get_session_data` for shared attributes. In addition, there may also be some changes to how the data are processed. For example, when examining the stimulus presentations for a behavior session, there is no correction for monitor delay (unlike for ophys sessions). Behavior sessions also use lower temporal resolution lick monitors than ophys sessions.\n",
    "\n",
    "Please see the documentation for additional details."
   ]
  },
  {
   "cell_type": "code",
   "execution_count": 9,
   "metadata": {},
   "outputs": [
    {
     "name": "stdout",
     "output_type": "stream",
     "text": [
      "---- Metadata ----\n",
      "rig_name: CAM2P.4\n",
      "sex: F\n",
      "age: P123\n",
      "ophys_experiment_id: [847241639]\n",
      "experiment_container_id: 876693136\n",
      "stimulus_frame_rate: 60.0\n",
      "session_type: OPHYS_5_images_B_passive\n",
      "experiment_datetime: 2019-04-05 15:57:39.013000+00:00\n",
      "reporter_line: ['Ai94(TITL-GCaMP6s)']\n",
      "driver_line: ['Camk2a-tTA', 'Slc17a7-IRES2-Cre']\n",
      "LabTracks_ID: 442709\n",
      "full_genotype: Slc17a7-IRES2-Cre/wt;Camk2a-tTA/wt;Ai94(TITL-GCaMP6s)/wt\n",
      "behavior_session_uuid: b183a85b-6a29-4054-9d3c-915a0408a10a\n",
      "foraging_id: b183a85b-6a29-4054-9d3c-915a0408a10a\n",
      "behavior_session_id: 846710859\n",
      "behavior_training_id: None\n",
      "------------------\n"
     ]
    },
    {
     "data": {
      "image/png": "[encoded data removed]",
      "text/plain": [
       "<Figure size 432x288 with 1 Axes>"
      ]
     },
     "metadata": {
      "needs_background": "light"
     },
     "output_type": "display_data"
    }
   ],
   "source": [
    "behav_sess = cache.get_behavior_session_data(846710859)\n",
    "\n",
    "print(\"---- Metadata ----\")\n",
    "print(\"\\n\".join([f\"{k}: {v}\" for k, v in behav_sess.metadata.items()]))\n",
    "print(\"------------------\")\n",
    "\n",
    "# Plot the running speed\n",
    "plt.plot(behav_sess.running_speed.timestamps, behav_sess.running_speed.values)\n",
    "_ = plt.xlabel('Time (Second)')\n",
    "_ = plt.ylabel('Speed (cm/Second)')"
   ]
  },
  {
   "cell_type": "markdown",
   "metadata": {},
   "source": [
    "### Memory management\n",
    "Session objects cache certain values to enable faster access, such as time-consuming queries to the LIMS database.\n",
    "In order to prevent issues with running out of memory when working with session objects in a loop, you should use the `cache_clear` method to clear the caches."
   ]
  },
  {
   "cell_type": "code",
   "execution_count": 10,
   "metadata": {},
   "outputs": [
    {
     "name": "stdout",
     "output_type": "stream",
     "text": [
      "Current cache size:\n",
      "1\n",
      "Cache size after clearing: \n",
      "0\n"
     ]
    }
   ],
   "source": [
    "# Example of a cached query\n",
    "# You can look at the cache of any call by invoking `cache_size` on a cached function\n",
    "print(\"Current cache size:\")\n",
    "print(behav_sess.api.get_driver_line.cache_size())\n",
    "# Clear the cache from the session object\n",
    "behav_sess.cache_clear()\n",
    "print(\"Cache size after clearing: \")\n",
    "print(behav_sess.api.get_driver_line.cache_size())"
   ]
  },
  {
   "cell_type": "markdown",
   "metadata": {},
   "source": [
    "Our analysis log has recorded which sessions we've accessed. If we want to mock out the behavior of a \"fixed\" cache, like `EcephysProjectCache.fixed()`, we pass `fixed=True` to `get_session_data`. If the ophys_experiment_id is not in the log, then it will not load."
   ]
  },
  {
   "cell_type": "code",
   "execution_count": 11,
   "metadata": {},
   "outputs": [
    {
     "data": {
      "text/html": [
       "<div>\n",
       "<style scoped>\n",
       "    .dataframe tbody tr th:only-of-type {\n",
       "        vertical-align: middle;\n",
       "    }\n",
       "\n",
       "    .dataframe tbody tr th {\n",
       "        vertical-align: top;\n",
       "    }\n",
       "\n",
       "    .dataframe thead th {\n",
       "        text-align: right;\n",
       "    }\n",
       "</style>\n",
       "<table border=\"1\" class=\"dataframe\">\n",
       "  <thead>\n",
       "    <tr style=\"text-align: right;\">\n",
       "      <th></th>\n",
       "      <th>ophys_experiment_id</th>\n",
       "      <th>created_at</th>\n",
       "      <th>updated_at</th>\n",
       "    </tr>\n",
       "  </thead>\n",
       "  <tbody>\n",
       "    <tr>\n",
       "      <td>0</td>\n",
       "      <td>978244684</td>\n",
       "      <td>1574203503</td>\n",
       "      <td>1574206089</td>\n",
       "    </tr>\n",
       "  </tbody>\n",
       "</table>\n",
       "</div>"
      ],
      "text/plain": [
       "   ophys_experiment_id  created_at  updated_at\n",
       "0            978244684  1574203503  1574206089"
      ]
     },
     "execution_count": 11,
     "metadata": {},
     "output_type": "execute_result"
    }
   ],
   "source": [
    "# See our log\n",
    "pd.read_csv(\"example_behavior_project_cache/ophys_analysis_log.csv\")"
   ]
  },
  {
   "cell_type": "code",
   "execution_count": 12,
   "metadata": {},
   "outputs": [
    {
     "name": "stderr",
     "output_type": "stream",
     "text": [
      "Warning! Passing `fixed=True` does not ensure that the underlying data has not changed, as no data are actually cached locally. The log will be updated each time the data are pulled from the database for tracking purposes.\n"
     ]
    },
    {
     "ename": "MissingDataError",
     "evalue": "Data for ophys experiment 12345 not found!",
     "output_type": "error",
     "traceback": [
      "\u001b[0;31m---------------------------------------------------------------------------\u001b[0m",
      "\u001b[0;31mMissingDataError\u001b[0m                          Traceback (most recent call last)",
      "\u001b[0;32m<ipython-input-12-88b06d00bbd3>\u001b[0m in \u001b[0;36m<module>\u001b[0;34m\u001b[0m\n\u001b[1;32m      1\u001b[0m \u001b[0;31m# Trying to load an ID that isn't in the log will raise an error\u001b[0m\u001b[0;34m\u001b[0m\u001b[0;34m\u001b[0m\u001b[0;34m\u001b[0m\u001b[0m\n\u001b[0;32m----> 2\u001b[0;31m \u001b[0mcache\u001b[0m\u001b[0;34m.\u001b[0m\u001b[0mget_session_data\u001b[0m\u001b[0;34m(\u001b[0m\u001b[0;36m12345\u001b[0m\u001b[0;34m,\u001b[0m \u001b[0mfixed\u001b[0m\u001b[0;34m=\u001b[0m\u001b[0;32mTrue\u001b[0m\u001b[0;34m)\u001b[0m\u001b[0;34m\u001b[0m\u001b[0;34m\u001b[0m\u001b[0m\n\u001b[0m",
      "\u001b[0;32m~/miniconda3/envs/allensdk-bpc/lib/python3.6/site-packages/allensdk/brain_observatory/behavior/behavior_project_cache.py\u001b[0m in \u001b[0;36mget_session_data\u001b[0;34m(self, ophys_experiment_id, fixed)\u001b[0m\n\u001b[1;32m    256\u001b[0m             \u001b[0;32mif\u001b[0m \u001b[0mophys_experiment_id\u001b[0m \u001b[0;32mnot\u001b[0m \u001b[0;32min\u001b[0m \u001b[0mrecord\u001b[0m\u001b[0;34m[\u001b[0m\u001b[0;34m\"ophys_experiment_id\"\u001b[0m\u001b[0;34m]\u001b[0m\u001b[0;34m.\u001b[0m\u001b[0mvalues\u001b[0m\u001b[0;34m:\u001b[0m\u001b[0;34m\u001b[0m\u001b[0;34m\u001b[0m\u001b[0m\n\u001b[1;32m    257\u001b[0m                 raise MissingDataError(\n\u001b[0;32m--> 258\u001b[0;31m                     \u001b[0;34mf\"Data for ophys experiment {ophys_experiment_id} not \"\u001b[0m\u001b[0;34m\u001b[0m\u001b[0;34m\u001b[0m\u001b[0m\n\u001b[0m\u001b[1;32m    259\u001b[0m                     \"found!\")\n\u001b[1;32m    260\u001b[0m \u001b[0;34m\u001b[0m\u001b[0m\n",
      "\u001b[0;31mMissingDataError\u001b[0m: Data for ophys experiment 12345 not found!"
     ]
    }
   ],
   "source": [
    "# Trying to load an ID that isn't in the log will raise an error\n",
    "cache.get_session_data(12345, fixed=True)"
   ]
  },
  {
   "cell_type": "code",
   "execution_count": 13,
   "metadata": {},
   "outputs": [
    {
     "name": "stderr",
     "output_type": "stream",
     "text": [
      "Warning! Passing `fixed=True` does not ensure that the underlying data has not changed, as no data are actually cached locally. The log will be updated each time the data are pulled from the database for tracking purposes.\n"
     ]
    },
    {
     "data": {
      "text/plain": [
       "<allensdk.brain_observatory.behavior.behavior_ophys_session.BehaviorOphysSession at 0x7f4f4323c208>"
      ]
     },
     "execution_count": 13,
     "metadata": {},
     "output_type": "execute_result"
    }
   ],
   "source": [
    "# But it will work if we use one that already exists\n",
    "cache.get_session_data(978244684, fixed=True)"
   ]
  },
  {
   "cell_type": "code",
   "execution_count": null,
   "metadata": {},
   "outputs": [],
   "source": []
  }
 ],
 "metadata": {
  "kernelspec": {
   "display_name": "Python [conda env:allensdk-bpc]",
   "language": "python",
   "name": "conda-env-allensdk-bpc-py"
  },
  "language_info": {
   "codemirror_mode": {
    "name": "ipython",
    "version": 3
   },
   "file_extension": ".py",
   "mimetype": "text/x-python",
   "name": "python",
   "nbconvert_exporter": "python",
   "pygments_lexer": "ipython3",
   "version": "3.6.9"
  }
 },
 "nbformat": 4,
 "nbformat_minor": 2
}
