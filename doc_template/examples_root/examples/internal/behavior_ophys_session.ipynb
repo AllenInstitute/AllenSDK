{
 "cells": [
  {
   "cell_type": "code",
   "execution_count": 1,
   "metadata": {
    "pycharm": {
     "name": "#%%\n"
    }
   },
   "outputs": [],
   "source": [
    "import os\n",
    "import matplotlib.pyplot as plt\n",
    "import SimpleITK as sitk\n",
    "import numpy as np\n",
    "\n",
    "from allensdk.brain_observatory.behavior.behavior_ophys_session import BehaviorOphysSession\n",
    "\n",
    "%matplotlib notebook"
   ]
  },
  {
   "cell_type": "markdown",
   "metadata": {
    "pycharm": {
     "name": "#%% md\n"
    }
   },
   "source": [
    "# Visual Behavior (Ophys) Session\n",
    "\n",
    "The `BehaviorOphysSession` class in `allensdk.brain_observatory.behavior.behavior_ophys_session` provides an interface to all of the data for a single experimental session from the Visual Behavior pipeline, aligned to a common clock. This notebook will show you how to use the `BehaviorOphysSession` class to access data from a session."
   ]
  },
  {
   "cell_type": "markdown",
   "metadata": {
    "pycharm": {
     "name": "#%% md\n"
    }
   },
   "source": [
    "### Obtaining a `BehaviorOphysSession`\n",
    "\n",
    "We package each session's data into a Neurodata Without Borders 2.0 (NWB) file. If you have local access to such a file, you can build an `BehaviorOphysSession` object for accessing the data within that file. The `BehaviorOphysSession` will load data from the NWB file on-demand and cache it in memory using the methods defined in the `BehaviorOphysNwbApi` class.  This is an example of a \"dependency injection\" pattern; the dependency necessary to go and fetch the data (here the `api` kwarg) is injected into the session object, which uses the methods on the api to populate the session attributes on-demand."
   ]
  },
  {
   "cell_type": "code",
   "execution_count": 2,
   "metadata": {
    "pycharm": {
     "name": "#%%\n"
    }
   },
   "outputs": [],
   "source": [
    "full_filepath = os.path.join(\n",
    "    \"/\",\n",
    "    \"allen\",\n",
    "    \"programs\",\n",
    "    \"braintv\",\n",
    "    \"production\",\n",
    "    \"visualbehavior\",\n",
    "    \"prod0\",\n",
    "    \"specimen_830940327\",\n",
    "    \"ophys_session_878436988\",\n",
    "    \"ophys_experiment_879332693\",\n",
    "    \"behavior_ophys_session_879332693.nwb\"\n",
    ")\n",
    "session = BehaviorOphysSession.from_nwb_path(full_filepath)"
   ]
  },
  {
   "cell_type": "markdown",
   "metadata": {
    "pycharm": {
     "name": "#%% md\n"
    }
   },
   "source": [
    "# Available lazy-loading attributes:\n",
    "\n",
    "#### Metadata:\n",
    "```python\n",
    "session.ophys_experiment_id\n",
    "session.metadata\n",
    "session.task_parameters\n",
    "```\n",
    "\n",
    "#### Running Speed:\n",
    "```python\n",
    "session.running_speed\n",
    "session.running_data_df\n",
    "```\n",
    "\n",
    "#### 2-D images:\n",
    "```python\n",
    "session.max_projection\n",
    "session.average_projection\n",
    "session.segmentation_mask_image\n",
    "session.stimulus_templates\n",
    "```\n",
    "\n",
    "#### Timestamps:\n",
    "```python\n",
    "session.stimulus_timestamps\n",
    "session.ophys_timestamps\n",
    "```\n",
    "\n",
    "#### Primary DataFrames:\n",
    "```python\n",
    "session.dff_traces\n",
    "session.licks\n",
    "session.rewards\n",
    "session.cell_specimen_table\n",
    "session.stimulus_presentations\n",
    "session.trials\n",
    "```\n",
    "\n",
    "#### Running Speed:\n",
    "```python\n",
    "session.running_speed\n",
    "```\n",
    "\n",
    "#### Auxiliary DataFrames:\n",
    "```python\n",
    "session.corrected_fluorescence_traces\n",
    "session.motion_correction\n",
    "session.running_data_df\n",
    "```"
   ]
  },
  {
   "cell_type": "markdown",
   "metadata": {
    "pycharm": {
     "name": "#%% md\n"
    }
   },
   "source": [
    "### Metadata:"
   ]
  },
  {
   "cell_type": "code",
   "execution_count": 3,
   "metadata": {
    "pycharm": {
     "name": "#%%\n"
    },
    "scrolled": false
   },
   "outputs": [
    {
     "name": "stdout",
     "output_type": "stream",
     "text": [
      "879332693\n",
      "\n",
      "session_type: Unknown\n",
      "indicator: GCAMP6f\n",
      "LabTracks_ID: 449441\n",
      "imaging_depth: 175\n",
      "field_of_view_width: 452\n",
      "excitation_lambda: 910.0\n",
      "field_of_view_height: 512\n",
      "rig_name: CAM2P.3\n",
      "sex: M\n",
      "reporter_line: ['Ai93(TITL-GCaMP6f)']\n",
      "age: unknown\n",
      "behavior_session_uuid: 3a676ad1-693d-4658-9881-6bade2b13aab\n",
      "stimulus_frame_rate: 60.0\n",
      "experiment_container_id: 876693090\n",
      "driver_line: ['Camk2a-tTA', 'Slc17a7-IRES2-Cre']\n",
      "ophys_frame_rate: 31.0\n",
      "full_genotype: Slc17a7-IRES2-Cre/wt;Camk2a-tTA/wt;Ai93(TITL-GCaMP6f)/wt\n",
      "targeted_structure: VISp\n",
      "ophys_experiment_id: 879332693\n",
      "emission_lambda: 520.0\n",
      "experiment_datetime: 2019-05-31 08:54:45+00:00\n",
      "\n",
      "n_stimulus_frames: 69599\n",
      "stage: OPHYS_1_images_A\n",
      "stimulus_distribution: geometric\n",
      "response_window_sec: [0.15, 0.75]\n",
      "stimulus_duration_sec: 6.0\n",
      "omitted_flash_fraction: nan\n",
      "stimulus: images\n",
      "reward_volume: 0.007\n",
      "blank_duration_sec: [0.5, 0.5]\n",
      "task: DoC_untranslated\n"
     ]
    }
   ],
   "source": [
    "\n",
    "print(session.ophys_experiment_id)\n",
    "print()\n",
    "for key, val in session.metadata.items():\n",
    "    print('{}: {}'.format(key, val))\n",
    "print()\n",
    "for key, val in session.task_parameters.items():\n",
    "    print('{}: {}'.format(key, val))"
   ]
  },
  {
   "cell_type": "markdown",
   "metadata": {
    "pycharm": {
     "name": "#%% md\n"
    }
   },
   "source": [
    "### Primary DataFrames:"
   ]
  },
  {
   "cell_type": "code",
   "execution_count": 4,
   "metadata": {
    "pycharm": {
     "name": "#%%\n"
    }
   },
   "outputs": [
    {
     "name": "stdout",
     "output_type": "stream",
     "text": [
      "                  cell_roi_id  \\\n",
      "cell_specimen_id                \n",
      "879381164           879394426   \n",
      "879381634           879394428   \n",
      "877720775           879394431   \n",
      "877717367           879394435   \n",
      "877717665           879394445   \n",
      "\n",
      "                                                                dff  \n",
      "cell_specimen_id                                                     \n",
      "879381164         [0.29148398672449266, 0.23553465744711322, 0.2...  \n",
      "879381634         [0.32525907718633756, 0.4744012352181941, 0.47...  \n",
      "877720775         [0.3005878990109885, 0.0, 0.26076778510835097,...  \n",
      "877717367         [0.2770539320966484, 0.18276958433088994, 0.25...  \n",
      "877717665         [0.7203429549939218, 0.49700447980273166, 0.36...  \n",
      "      time\n",
      "0  0.36147\n",
      "1  0.54410\n",
      "2  1.20987\n",
      "3  1.33161\n",
      "4  1.48846\n",
      "            volume  autorewarded\n",
      "timestamps                      \n",
      "331.830304   0.005         False\n",
      "345.349249   0.005         False\n",
      "355.099053   0.005         False\n",
      "362.609135   0.005         False\n",
      "379.118821   0.005         False\n"
     ]
    }
   ],
   "source": [
    "print(session.dff_traces.head())\n",
    "print(session.licks.head())\n",
    "print(session.rewards.head())"
   ]
  },
  {
   "cell_type": "code",
   "execution_count": 5,
   "metadata": {
    "pycharm": {
     "name": "#%%\n"
    }
   },
   "outputs": [
    {
     "name": "stdout",
     "output_type": "stream",
     "text": [
      "cell_roi_id\n",
      "height\n",
      "image_mask\n",
      "mask_image_plane\n",
      "max_correction_down\n",
      "max_correction_left\n",
      "max_correction_right\n",
      "max_correction_up\n",
      "valid_roi\n",
      "width\n",
      "x\n",
      "y\n"
     ]
    },
    {
     "data": {
      "text/html": [
       "<div>\n",
       "<style scoped>\n",
       "    .dataframe tbody tr th:only-of-type {\n",
       "        vertical-align: middle;\n",
       "    }\n",
       "\n",
       "    .dataframe tbody tr th {\n",
       "        vertical-align: top;\n",
       "    }\n",
       "\n",
       "    .dataframe thead th {\n",
       "        text-align: right;\n",
       "    }\n",
       "</style>\n",
       "<table border=\"1\" class=\"dataframe\">\n",
       "  <thead>\n",
       "    <tr style=\"text-align: right;\">\n",
       "      <th></th>\n",
       "      <th>cell_roi_id</th>\n",
       "      <th>height</th>\n",
       "      <th>image_mask</th>\n",
       "      <th>mask_image_plane</th>\n",
       "      <th>max_correction_down</th>\n",
       "      <th>max_correction_left</th>\n",
       "      <th>max_correction_right</th>\n",
       "      <th>max_correction_up</th>\n",
       "      <th>valid_roi</th>\n",
       "      <th>width</th>\n",
       "      <th>x</th>\n",
       "      <th>y</th>\n",
       "    </tr>\n",
       "    <tr>\n",
       "      <th>cell_specimen_id</th>\n",
       "      <th></th>\n",
       "      <th></th>\n",
       "      <th></th>\n",
       "      <th></th>\n",
       "      <th></th>\n",
       "      <th></th>\n",
       "      <th></th>\n",
       "      <th></th>\n",
       "      <th></th>\n",
       "      <th></th>\n",
       "      <th></th>\n",
       "      <th></th>\n",
       "    </tr>\n",
       "  </thead>\n",
       "  <tbody>\n",
       "    <tr>\n",
       "      <th>879381164</th>\n",
       "      <td>879394426</td>\n",
       "      <td>15</td>\n",
       "      <td>[[False, False, False, False, False, False, Fa...</td>\n",
       "      <td>1</td>\n",
       "      <td>6.23717</td>\n",
       "      <td>4.81655</td>\n",
       "      <td>29.9529</td>\n",
       "      <td>18.5363</td>\n",
       "      <td>True</td>\n",
       "      <td>19</td>\n",
       "      <td>271.0</td>\n",
       "      <td>21.0</td>\n",
       "    </tr>\n",
       "    <tr>\n",
       "      <th>879381634</th>\n",
       "      <td>879394428</td>\n",
       "      <td>22</td>\n",
       "      <td>[[True, True, False, False, False, False, Fals...</td>\n",
       "      <td>1</td>\n",
       "      <td>6.23717</td>\n",
       "      <td>4.81655</td>\n",
       "      <td>29.9529</td>\n",
       "      <td>18.5363</td>\n",
       "      <td>True</td>\n",
       "      <td>19</td>\n",
       "      <td>44.0</td>\n",
       "      <td>15.0</td>\n",
       "    </tr>\n",
       "    <tr>\n",
       "      <th>877720775</th>\n",
       "      <td>879394431</td>\n",
       "      <td>19</td>\n",
       "      <td>[[False, False, False, True, False, False, Fal...</td>\n",
       "      <td>1</td>\n",
       "      <td>6.23717</td>\n",
       "      <td>4.81655</td>\n",
       "      <td>29.9529</td>\n",
       "      <td>18.5363</td>\n",
       "      <td>True</td>\n",
       "      <td>13</td>\n",
       "      <td>294.0</td>\n",
       "      <td>19.0</td>\n",
       "    </tr>\n",
       "    <tr>\n",
       "      <th>877717367</th>\n",
       "      <td>879394435</td>\n",
       "      <td>20</td>\n",
       "      <td>[[False, False, False, False, False, False, Fa...</td>\n",
       "      <td>1</td>\n",
       "      <td>6.23717</td>\n",
       "      <td>4.81655</td>\n",
       "      <td>29.9529</td>\n",
       "      <td>18.5363</td>\n",
       "      <td>True</td>\n",
       "      <td>18</td>\n",
       "      <td>185.0</td>\n",
       "      <td>8.0</td>\n",
       "    </tr>\n",
       "    <tr>\n",
       "      <th>877717665</th>\n",
       "      <td>879394445</td>\n",
       "      <td>19</td>\n",
       "      <td>[[False, False, False, True, True, True, True,...</td>\n",
       "      <td>2</td>\n",
       "      <td>6.23717</td>\n",
       "      <td>4.81655</td>\n",
       "      <td>29.9529</td>\n",
       "      <td>18.5363</td>\n",
       "      <td>True</td>\n",
       "      <td>18</td>\n",
       "      <td>55.0</td>\n",
       "      <td>329.0</td>\n",
       "    </tr>\n",
       "  </tbody>\n",
       "</table>\n",
       "</div>"
      ],
      "text/plain": [
       "                  cell_roi_id  height  \\\n",
       "cell_specimen_id                        \n",
       "879381164           879394426      15   \n",
       "879381634           879394428      22   \n",
       "877720775           879394431      19   \n",
       "877717367           879394435      20   \n",
       "877717665           879394445      19   \n",
       "\n",
       "                                                         image_mask  \\\n",
       "cell_specimen_id                                                      \n",
       "879381164         [[False, False, False, False, False, False, Fa...   \n",
       "879381634         [[True, True, False, False, False, False, Fals...   \n",
       "877720775         [[False, False, False, True, False, False, Fal...   \n",
       "877717367         [[False, False, False, False, False, False, Fa...   \n",
       "877717665         [[False, False, False, True, True, True, True,...   \n",
       "\n",
       "                  mask_image_plane  max_correction_down  max_correction_left  \\\n",
       "cell_specimen_id                                                               \n",
       "879381164                        1              6.23717              4.81655   \n",
       "879381634                        1              6.23717              4.81655   \n",
       "877720775                        1              6.23717              4.81655   \n",
       "877717367                        1              6.23717              4.81655   \n",
       "877717665                        2              6.23717              4.81655   \n",
       "\n",
       "                  max_correction_right  max_correction_up  valid_roi  width  \\\n",
       "cell_specimen_id                                                              \n",
       "879381164                      29.9529            18.5363       True     19   \n",
       "879381634                      29.9529            18.5363       True     19   \n",
       "877720775                      29.9529            18.5363       True     13   \n",
       "877717367                      29.9529            18.5363       True     18   \n",
       "877717665                      29.9529            18.5363       True     18   \n",
       "\n",
       "                      x      y  \n",
       "cell_specimen_id                \n",
       "879381164         271.0   21.0  \n",
       "879381634          44.0   15.0  \n",
       "877720775         294.0   19.0  \n",
       "877717367         185.0    8.0  \n",
       "877717665          55.0  329.0  "
      ]
     },
     "execution_count": 5,
     "metadata": {},
     "output_type": "execute_result"
    }
   ],
   "source": [
    "for col in session.cell_specimen_table.columns:\n",
    "    print(col)\n",
    "session.cell_specimen_table.head()"
   ]
  },
  {
   "cell_type": "code",
   "execution_count": 6,
   "metadata": {
    "pycharm": {
     "name": "#%%\n"
    }
   },
   "outputs": [
    {
     "name": "stdout",
     "output_type": "stream",
     "text": [
      "386 distinct cells\n",
      "386 dff traces\n",
      "386 fluorescence traces\n"
     ]
    }
   ],
   "source": [
    "print(f\"{session.cell_specimen_table.shape[0]} distinct cells\")\n",
    "print(f\"{session.dff_traces.shape[0]} dff traces\")\n",
    "print(f\"{session.corrected_fluorescence_traces.shape[0]} fluorescence traces\")"
   ]
  },
  {
   "cell_type": "code",
   "execution_count": 7,
   "metadata": {
    "pycharm": {
     "name": "#%%\n"
    }
   },
   "outputs": [
    {
     "data": {
      "text/html": [
       "<div>\n",
       "<style scoped>\n",
       "    .dataframe tbody tr th:only-of-type {\n",
       "        vertical-align: middle;\n",
       "    }\n",
       "\n",
       "    .dataframe tbody tr th {\n",
       "        vertical-align: top;\n",
       "    }\n",
       "\n",
       "    .dataframe thead th {\n",
       "        text-align: right;\n",
       "    }\n",
       "</style>\n",
       "<table border=\"1\" class=\"dataframe\">\n",
       "  <thead>\n",
       "    <tr style=\"text-align: right;\">\n",
       "      <th></th>\n",
       "      <th>duration</th>\n",
       "      <th>end_frame</th>\n",
       "      <th>image_index</th>\n",
       "      <th>image_name</th>\n",
       "      <th>image_set</th>\n",
       "      <th>index</th>\n",
       "      <th>omitted</th>\n",
       "      <th>orientation</th>\n",
       "      <th>start_frame</th>\n",
       "      <th>start_time</th>\n",
       "      <th>stop_time</th>\n",
       "    </tr>\n",
       "    <tr>\n",
       "      <th>stimulus_presentations_id</th>\n",
       "      <th></th>\n",
       "      <th></th>\n",
       "      <th></th>\n",
       "      <th></th>\n",
       "      <th></th>\n",
       "      <th></th>\n",
       "      <th></th>\n",
       "      <th></th>\n",
       "      <th></th>\n",
       "      <th></th>\n",
       "      <th></th>\n",
       "    </tr>\n",
       "  </thead>\n",
       "  <tbody>\n",
       "    <tr>\n",
       "      <th>0</th>\n",
       "      <td>0.24994</td>\n",
       "      <td>18002.0</td>\n",
       "      <td>0</td>\n",
       "      <td>im065</td>\n",
       "      <td>Natural_Images_Lum_Matched_set_training_2017.0...</td>\n",
       "      <td>0</td>\n",
       "      <td>False</td>\n",
       "      <td>NaN</td>\n",
       "      <td>17987</td>\n",
       "      <td>307.55323</td>\n",
       "      <td>307.80317</td>\n",
       "    </tr>\n",
       "    <tr>\n",
       "      <th>1</th>\n",
       "      <td>0.24967</td>\n",
       "      <td>18047.0</td>\n",
       "      <td>0</td>\n",
       "      <td>im065</td>\n",
       "      <td>Natural_Images_Lum_Matched_set_training_2017.0...</td>\n",
       "      <td>1</td>\n",
       "      <td>False</td>\n",
       "      <td>NaN</td>\n",
       "      <td>18032</td>\n",
       "      <td>308.30351</td>\n",
       "      <td>308.55318</td>\n",
       "    </tr>\n",
       "    <tr>\n",
       "      <th>2</th>\n",
       "      <td>0.24980</td>\n",
       "      <td>18092.0</td>\n",
       "      <td>0</td>\n",
       "      <td>im065</td>\n",
       "      <td>Natural_Images_Lum_Matched_set_training_2017.0...</td>\n",
       "      <td>2</td>\n",
       "      <td>False</td>\n",
       "      <td>NaN</td>\n",
       "      <td>18077</td>\n",
       "      <td>309.05347</td>\n",
       "      <td>309.30327</td>\n",
       "    </tr>\n",
       "    <tr>\n",
       "      <th>3</th>\n",
       "      <td>0.24969</td>\n",
       "      <td>18137.0</td>\n",
       "      <td>0</td>\n",
       "      <td>im065</td>\n",
       "      <td>Natural_Images_Lum_Matched_set_training_2017.0...</td>\n",
       "      <td>3</td>\n",
       "      <td>False</td>\n",
       "      <td>NaN</td>\n",
       "      <td>18122</td>\n",
       "      <td>309.80344</td>\n",
       "      <td>310.05313</td>\n",
       "    </tr>\n",
       "    <tr>\n",
       "      <th>4</th>\n",
       "      <td>0.24991</td>\n",
       "      <td>18182.0</td>\n",
       "      <td>0</td>\n",
       "      <td>im065</td>\n",
       "      <td>Natural_Images_Lum_Matched_set_training_2017.0...</td>\n",
       "      <td>4</td>\n",
       "      <td>False</td>\n",
       "      <td>NaN</td>\n",
       "      <td>18167</td>\n",
       "      <td>310.55320</td>\n",
       "      <td>310.80311</td>\n",
       "    </tr>\n",
       "  </tbody>\n",
       "</table>\n",
       "</div>"
      ],
      "text/plain": [
       "                           duration  end_frame  image_index image_name  \\\n",
       "stimulus_presentations_id                                                \n",
       "0                           0.24994    18002.0            0      im065   \n",
       "1                           0.24967    18047.0            0      im065   \n",
       "2                           0.24980    18092.0            0      im065   \n",
       "3                           0.24969    18137.0            0      im065   \n",
       "4                           0.24991    18182.0            0      im065   \n",
       "\n",
       "                                                                   image_set  \\\n",
       "stimulus_presentations_id                                                      \n",
       "0                          Natural_Images_Lum_Matched_set_training_2017.0...   \n",
       "1                          Natural_Images_Lum_Matched_set_training_2017.0...   \n",
       "2                          Natural_Images_Lum_Matched_set_training_2017.0...   \n",
       "3                          Natural_Images_Lum_Matched_set_training_2017.0...   \n",
       "4                          Natural_Images_Lum_Matched_set_training_2017.0...   \n",
       "\n",
       "                           index  omitted  orientation  start_frame  \\\n",
       "stimulus_presentations_id                                             \n",
       "0                              0    False          NaN        17987   \n",
       "1                              1    False          NaN        18032   \n",
       "2                              2    False          NaN        18077   \n",
       "3                              3    False          NaN        18122   \n",
       "4                              4    False          NaN        18167   \n",
       "\n",
       "                           start_time  stop_time  \n",
       "stimulus_presentations_id                         \n",
       "0                           307.55323  307.80317  \n",
       "1                           308.30351  308.55318  \n",
       "2                           309.05347  309.30327  \n",
       "3                           309.80344  310.05313  \n",
       "4                           310.55320  310.80311  "
      ]
     },
     "execution_count": 7,
     "metadata": {},
     "output_type": "execute_result"
    }
   ],
   "source": [
    "session.stimulus_presentations.head()"
   ]
  },
  {
   "cell_type": "code",
   "execution_count": 8,
   "metadata": {
    "pycharm": {
     "name": "#%%\n"
    }
   },
   "outputs": [
    {
     "name": "stdout",
     "output_type": "stream",
     "text": [
      "start_time\n",
      "stop_time\n",
      "trial_length\n",
      "catch\n",
      "auto_rewarded\n",
      "go\n",
      "lick_times\n",
      "aborted\n",
      "reward_volume\n",
      "hit\n",
      "false_alarm\n",
      "correct_reject\n",
      "response_time\n",
      "miss\n",
      "reward_times\n",
      "sham_change\n",
      "stimulus_change\n",
      "change_time\n",
      "response_latency\n",
      "initial_image_name\n",
      "change_image_name\n"
     ]
    },
    {
     "data": {
      "text/html": [
       "<div>\n",
       "<style scoped>\n",
       "    .dataframe tbody tr th:only-of-type {\n",
       "        vertical-align: middle;\n",
       "    }\n",
       "\n",
       "    .dataframe tbody tr th {\n",
       "        vertical-align: top;\n",
       "    }\n",
       "\n",
       "    .dataframe thead th {\n",
       "        text-align: right;\n",
       "    }\n",
       "</style>\n",
       "<table border=\"1\" class=\"dataframe\">\n",
       "  <thead>\n",
       "    <tr style=\"text-align: right;\">\n",
       "      <th></th>\n",
       "      <th>start_time</th>\n",
       "      <th>stop_time</th>\n",
       "      <th>trial_length</th>\n",
       "      <th>catch</th>\n",
       "      <th>auto_rewarded</th>\n",
       "      <th>go</th>\n",
       "      <th>lick_times</th>\n",
       "      <th>aborted</th>\n",
       "      <th>reward_volume</th>\n",
       "      <th>hit</th>\n",
       "      <th>...</th>\n",
       "      <th>correct_reject</th>\n",
       "      <th>response_time</th>\n",
       "      <th>miss</th>\n",
       "      <th>reward_times</th>\n",
       "      <th>sham_change</th>\n",
       "      <th>stimulus_change</th>\n",
       "      <th>change_time</th>\n",
       "      <th>response_latency</th>\n",
       "      <th>initial_image_name</th>\n",
       "      <th>change_image_name</th>\n",
       "    </tr>\n",
       "    <tr>\n",
       "      <th>trials_id</th>\n",
       "      <th></th>\n",
       "      <th></th>\n",
       "      <th></th>\n",
       "      <th></th>\n",
       "      <th></th>\n",
       "      <th></th>\n",
       "      <th></th>\n",
       "      <th></th>\n",
       "      <th></th>\n",
       "      <th></th>\n",
       "      <th></th>\n",
       "      <th></th>\n",
       "      <th></th>\n",
       "      <th></th>\n",
       "      <th></th>\n",
       "      <th></th>\n",
       "      <th></th>\n",
       "      <th></th>\n",
       "      <th></th>\n",
       "      <th></th>\n",
       "      <th></th>\n",
       "    </tr>\n",
       "  </thead>\n",
       "  <tbody>\n",
       "    <tr>\n",
       "      <th>0</th>\n",
       "      <td>307.502673</td>\n",
       "      <td>307.936129</td>\n",
       "      <td>0.433457</td>\n",
       "      <td>False</td>\n",
       "      <td>True</td>\n",
       "      <td>False</td>\n",
       "      <td>[307.61362]</td>\n",
       "      <td>True</td>\n",
       "      <td>0.0</td>\n",
       "      <td>False</td>\n",
       "      <td>...</td>\n",
       "      <td>False</td>\n",
       "      <td>NaN</td>\n",
       "      <td>False</td>\n",
       "      <td>[]</td>\n",
       "      <td>False</td>\n",
       "      <td>False</td>\n",
       "      <td>NaN</td>\n",
       "      <td>NaN</td>\n",
       "      <td>im065</td>\n",
       "      <td>im065</td>\n",
       "    </tr>\n",
       "    <tr>\n",
       "      <th>1</th>\n",
       "      <td>308.253151</td>\n",
       "      <td>308.553604</td>\n",
       "      <td>0.300454</td>\n",
       "      <td>False</td>\n",
       "      <td>True</td>\n",
       "      <td>False</td>\n",
       "      <td>[]</td>\n",
       "      <td>True</td>\n",
       "      <td>0.0</td>\n",
       "      <td>False</td>\n",
       "      <td>...</td>\n",
       "      <td>False</td>\n",
       "      <td>NaN</td>\n",
       "      <td>False</td>\n",
       "      <td>[]</td>\n",
       "      <td>False</td>\n",
       "      <td>False</td>\n",
       "      <td>NaN</td>\n",
       "      <td>NaN</td>\n",
       "      <td>im065</td>\n",
       "      <td>im065</td>\n",
       "    </tr>\n",
       "    <tr>\n",
       "      <th>2</th>\n",
       "      <td>309.004049</td>\n",
       "      <td>311.255499</td>\n",
       "      <td>2.251450</td>\n",
       "      <td>False</td>\n",
       "      <td>True</td>\n",
       "      <td>False</td>\n",
       "      <td>[310.92321]</td>\n",
       "      <td>True</td>\n",
       "      <td>0.0</td>\n",
       "      <td>False</td>\n",
       "      <td>...</td>\n",
       "      <td>False</td>\n",
       "      <td>NaN</td>\n",
       "      <td>False</td>\n",
       "      <td>[]</td>\n",
       "      <td>False</td>\n",
       "      <td>False</td>\n",
       "      <td>NaN</td>\n",
       "      <td>NaN</td>\n",
       "      <td>im065</td>\n",
       "      <td>im065</td>\n",
       "    </tr>\n",
       "    <tr>\n",
       "      <th>3</th>\n",
       "      <td>311.256038</td>\n",
       "      <td>311.839316</td>\n",
       "      <td>0.583278</td>\n",
       "      <td>False</td>\n",
       "      <td>True</td>\n",
       "      <td>False</td>\n",
       "      <td>[311.31395, 311.5141]</td>\n",
       "      <td>True</td>\n",
       "      <td>0.0</td>\n",
       "      <td>False</td>\n",
       "      <td>...</td>\n",
       "      <td>False</td>\n",
       "      <td>NaN</td>\n",
       "      <td>False</td>\n",
       "      <td>[]</td>\n",
       "      <td>False</td>\n",
       "      <td>False</td>\n",
       "      <td>NaN</td>\n",
       "      <td>NaN</td>\n",
       "      <td>im065</td>\n",
       "      <td>im065</td>\n",
       "    </tr>\n",
       "    <tr>\n",
       "      <th>4</th>\n",
       "      <td>312.006205</td>\n",
       "      <td>312.406706</td>\n",
       "      <td>0.400501</td>\n",
       "      <td>False</td>\n",
       "      <td>True</td>\n",
       "      <td>False</td>\n",
       "      <td>[312.07931]</td>\n",
       "      <td>True</td>\n",
       "      <td>0.0</td>\n",
       "      <td>False</td>\n",
       "      <td>...</td>\n",
       "      <td>False</td>\n",
       "      <td>NaN</td>\n",
       "      <td>False</td>\n",
       "      <td>[]</td>\n",
       "      <td>False</td>\n",
       "      <td>False</td>\n",
       "      <td>NaN</td>\n",
       "      <td>NaN</td>\n",
       "      <td>im065</td>\n",
       "      <td>im065</td>\n",
       "    </tr>\n",
       "  </tbody>\n",
       "</table>\n",
       "<p>5 rows × 21 columns</p>\n",
       "</div>"
      ],
      "text/plain": [
       "           start_time   stop_time  trial_length  catch  auto_rewarded     go  \\\n",
       "trials_id                                                                      \n",
       "0          307.502673  307.936129      0.433457  False           True  False   \n",
       "1          308.253151  308.553604      0.300454  False           True  False   \n",
       "2          309.004049  311.255499      2.251450  False           True  False   \n",
       "3          311.256038  311.839316      0.583278  False           True  False   \n",
       "4          312.006205  312.406706      0.400501  False           True  False   \n",
       "\n",
       "                      lick_times  aborted  reward_volume    hit  ...  \\\n",
       "trials_id                                                        ...   \n",
       "0                    [307.61362]     True            0.0  False  ...   \n",
       "1                             []     True            0.0  False  ...   \n",
       "2                    [310.92321]     True            0.0  False  ...   \n",
       "3          [311.31395, 311.5141]     True            0.0  False  ...   \n",
       "4                    [312.07931]     True            0.0  False  ...   \n",
       "\n",
       "           correct_reject  response_time   miss  reward_times sham_change  \\\n",
       "trials_id                                                                   \n",
       "0                   False            NaN  False            []       False   \n",
       "1                   False            NaN  False            []       False   \n",
       "2                   False            NaN  False            []       False   \n",
       "3                   False            NaN  False            []       False   \n",
       "4                   False            NaN  False            []       False   \n",
       "\n",
       "           stimulus_change  change_time  response_latency  initial_image_name  \\\n",
       "trials_id                                                                       \n",
       "0                    False          NaN               NaN               im065   \n",
       "1                    False          NaN               NaN               im065   \n",
       "2                    False          NaN               NaN               im065   \n",
       "3                    False          NaN               NaN               im065   \n",
       "4                    False          NaN               NaN               im065   \n",
       "\n",
       "          change_image_name  \n",
       "trials_id                    \n",
       "0                     im065  \n",
       "1                     im065  \n",
       "2                     im065  \n",
       "3                     im065  \n",
       "4                     im065  \n",
       "\n",
       "[5 rows x 21 columns]"
      ]
     },
     "execution_count": 8,
     "metadata": {},
     "output_type": "execute_result"
    }
   ],
   "source": [
    "for col in session.trials.columns:\n",
    "    print(col)\n",
    "session.trials.head()"
   ]
  },
  {
   "cell_type": "markdown",
   "metadata": {
    "pycharm": {
     "name": "#%% md\n"
    }
   },
   "source": [
    "### 2-D images:"
   ]
  },
  {
   "cell_type": "code",
   "execution_count": 9,
   "metadata": {
    "pycharm": {
     "name": "#%%\n"
    }
   },
   "outputs": [
    {
     "name": "stdout",
     "output_type": "stream",
     "text": [
      "Natural_Images_Lum_Matched_set_training_2017.07.14_2 (8, 918, 1174)\n"
     ]
    },
    {
     "data": {
      "text/plain": [
       "<matplotlib.image.AxesImage at 0x7fd48059a588>"
      ]
     },
     "execution_count": 9,
     "metadata": {},
     "output_type": "execute_result"
    },
    {
     "data": {
      "image/png": "[encoded data removed]",
      "text/plain": [
       "<Figure size 432x288 with 3 Axes>"
      ]
     },
     "metadata": {
      "needs_background": "light"
     },
     "output_type": "display_data"
    }
   ],
   "source": [
    "for key, val in session.stimulus_templates.items():\n",
    "    print(key, val.shape)\n",
    "fig, ax = plt.subplots(1, 3)\n",
    "ax[0].imshow(sitk.GetArrayFromImage(session.max_projection))\n",
    "ax[1].imshow(sitk.GetArrayFromImage(session.average_projection))\n",
    "ax[2].imshow(sitk.GetArrayFromImage(session.segmentation_mask_image))\n"
   ]
  },
  {
   "cell_type": "markdown",
   "metadata": {
    "pycharm": {
     "name": "#%% md\n"
    }
   },
   "source": [
    "### Running Speed:"
   ]
  },
  {
   "cell_type": "code",
   "execution_count": 10,
   "metadata": {
    "pycharm": {
     "name": "#%%\n"
    }
   },
   "outputs": [
    {
     "data": {
      "image/png": "[encoded data removed]",
      "text/plain": [
       "<Figure size 432x288 with 1 Axes>"
      ]
     },
     "metadata": {
      "needs_background": "light"
     },
     "output_type": "display_data"
    }
   ],
   "source": [
    "plt.plot(session.running_speed.timestamps, session.running_speed.values)\n",
    "_ = plt.xlabel('Time (Second)')\n",
    "_ = plt.ylabel('Speed (cm/Second)')"
   ]
  },
  {
   "cell_type": "markdown",
   "metadata": {
    "pycharm": {
     "name": "#%% md\n"
    }
   },
   "source": [
    "### Auxiliary DataFrames:"
   ]
  },
  {
   "cell_type": "code",
   "execution_count": 11,
   "metadata": {
    "pycharm": {
     "name": "#%%\n"
    },
    "scrolled": true
   },
   "outputs": [
    {
     "data": {
      "text/html": [
       "<div>\n",
       "<style scoped>\n",
       "    .dataframe tbody tr th:only-of-type {\n",
       "        vertical-align: middle;\n",
       "    }\n",
       "\n",
       "    .dataframe tbody tr th {\n",
       "        vertical-align: top;\n",
       "    }\n",
       "\n",
       "    .dataframe thead th {\n",
       "        text-align: right;\n",
       "    }\n",
       "</style>\n",
       "<table border=\"1\" class=\"dataframe\">\n",
       "  <thead>\n",
       "    <tr style=\"text-align: right;\">\n",
       "      <th></th>\n",
       "      <th>cell_roi_id</th>\n",
       "      <th>corrected_fluorescence</th>\n",
       "    </tr>\n",
       "    <tr>\n",
       "      <th>cell_specimen_id</th>\n",
       "      <th></th>\n",
       "      <th></th>\n",
       "    </tr>\n",
       "  </thead>\n",
       "  <tbody>\n",
       "    <tr>\n",
       "      <th>879381164</th>\n",
       "      <td>879394426</td>\n",
       "      <td>[11359.658486834263, 11123.823256193144, 11414...</td>\n",
       "    </tr>\n",
       "    <tr>\n",
       "      <th>879381634</th>\n",
       "      <td>879394428</td>\n",
       "      <td>[9453.210976234192, 10703.776449263374, 10842....</td>\n",
       "    </tr>\n",
       "    <tr>\n",
       "      <th>877720775</th>\n",
       "      <td>879394431</td>\n",
       "      <td>[8717.504172853956, 7580.361953040605, 8874.96...</td>\n",
       "    </tr>\n",
       "    <tr>\n",
       "      <th>877717367</th>\n",
       "      <td>879394435</td>\n",
       "      <td>[5243.790500471761, 5061.838261996183, 5373.68...</td>\n",
       "    </tr>\n",
       "    <tr>\n",
       "      <th>877717665</th>\n",
       "      <td>879394445</td>\n",
       "      <td>[10095.635002518848, 9073.567577568127, 8562.2...</td>\n",
       "    </tr>\n",
       "  </tbody>\n",
       "</table>\n",
       "</div>"
      ],
      "text/plain": [
       "                  cell_roi_id  \\\n",
       "cell_specimen_id                \n",
       "879381164           879394426   \n",
       "879381634           879394428   \n",
       "877720775           879394431   \n",
       "877717367           879394435   \n",
       "877717665           879394445   \n",
       "\n",
       "                                             corrected_fluorescence  \n",
       "cell_specimen_id                                                     \n",
       "879381164         [11359.658486834263, 11123.823256193144, 11414...  \n",
       "879381634         [9453.210976234192, 10703.776449263374, 10842....  \n",
       "877720775         [8717.504172853956, 7580.361953040605, 8874.96...  \n",
       "877717367         [5243.790500471761, 5061.838261996183, 5373.68...  \n",
       "877717665         [10095.635002518848, 9073.567577568127, 8562.2...  "
      ]
     },
     "execution_count": 11,
     "metadata": {},
     "output_type": "execute_result"
    }
   ],
   "source": [
    "session.corrected_fluorescence_traces.head()"
   ]
  },
  {
   "cell_type": "code",
   "execution_count": 12,
   "metadata": {
    "pycharm": {
     "name": "#%%\n"
    }
   },
   "outputs": [
    {
     "data": {
      "text/html": [
       "<div>\n",
       "<style scoped>\n",
       "    .dataframe tbody tr th:only-of-type {\n",
       "        vertical-align: middle;\n",
       "    }\n",
       "\n",
       "    .dataframe tbody tr th {\n",
       "        vertical-align: top;\n",
       "    }\n",
       "\n",
       "    .dataframe thead th {\n",
       "        text-align: right;\n",
       "    }\n",
       "</style>\n",
       "<table border=\"1\" class=\"dataframe\">\n",
       "  <thead>\n",
       "    <tr style=\"text-align: right;\">\n",
       "      <th></th>\n",
       "      <th>speed</th>\n",
       "      <th>dx</th>\n",
       "      <th>v_sig</th>\n",
       "      <th>v_in</th>\n",
       "    </tr>\n",
       "    <tr>\n",
       "      <th>timestamps</th>\n",
       "      <th></th>\n",
       "      <th></th>\n",
       "      <th></th>\n",
       "      <th></th>\n",
       "    </tr>\n",
       "  </thead>\n",
       "  <tbody>\n",
       "    <tr>\n",
       "      <th>7.52276</th>\n",
       "      <td>1.672134</td>\n",
       "      <td>27.491024</td>\n",
       "      <td>3.771535</td>\n",
       "      <td>5.001361</td>\n",
       "    </tr>\n",
       "    <tr>\n",
       "      <th>7.54816</th>\n",
       "      <td>2.959678</td>\n",
       "      <td>0.442183</td>\n",
       "      <td>3.776702</td>\n",
       "      <td>5.000070</td>\n",
       "    </tr>\n",
       "    <tr>\n",
       "      <th>7.55816</th>\n",
       "      <td>2.627385</td>\n",
       "      <td>0.535446</td>\n",
       "      <td>3.783162</td>\n",
       "      <td>4.998778</td>\n",
       "    </tr>\n",
       "    <tr>\n",
       "      <th>7.57805</th>\n",
       "      <td>0.995678</td>\n",
       "      <td>0.208640</td>\n",
       "      <td>3.787037</td>\n",
       "      <td>5.000070</td>\n",
       "    </tr>\n",
       "    <tr>\n",
       "      <th>7.59842</th>\n",
       "      <td>1.508139</td>\n",
       "      <td>0.208532</td>\n",
       "      <td>3.790913</td>\n",
       "      <td>5.001361</td>\n",
       "    </tr>\n",
       "  </tbody>\n",
       "</table>\n",
       "</div>"
      ],
      "text/plain": [
       "               speed         dx     v_sig      v_in\n",
       "timestamps                                         \n",
       "7.52276     1.672134  27.491024  3.771535  5.001361\n",
       "7.54816     2.959678   0.442183  3.776702  5.000070\n",
       "7.55816     2.627385   0.535446  3.783162  4.998778\n",
       "7.57805     0.995678   0.208640  3.787037  5.000070\n",
       "7.59842     1.508139   0.208532  3.790913  5.001361"
      ]
     },
     "execution_count": 12,
     "metadata": {},
     "output_type": "execute_result"
    }
   ],
   "source": [
    "session.running_data_df.head()"
   ]
  },
  {
   "cell_type": "code",
   "execution_count": 13,
   "metadata": {
    "pycharm": {
     "name": "#%%\n"
    }
   },
   "outputs": [
    {
     "data": {
      "text/html": [
       "<div>\n",
       "<style scoped>\n",
       "    .dataframe tbody tr th:only-of-type {\n",
       "        vertical-align: middle;\n",
       "    }\n",
       "\n",
       "    .dataframe tbody tr th {\n",
       "        vertical-align: top;\n",
       "    }\n",
       "\n",
       "    .dataframe thead th {\n",
       "        text-align: right;\n",
       "    }\n",
       "</style>\n",
       "<table border=\"1\" class=\"dataframe\">\n",
       "  <thead>\n",
       "    <tr style=\"text-align: right;\">\n",
       "      <th></th>\n",
       "      <th>x</th>\n",
       "      <th>y</th>\n",
       "    </tr>\n",
       "  </thead>\n",
       "  <tbody>\n",
       "    <tr>\n",
       "      <th>0</th>\n",
       "      <td>0.839530</td>\n",
       "      <td>-1.037380</td>\n",
       "    </tr>\n",
       "    <tr>\n",
       "      <th>1</th>\n",
       "      <td>0.329303</td>\n",
       "      <td>-0.375042</td>\n",
       "    </tr>\n",
       "    <tr>\n",
       "      <th>2</th>\n",
       "      <td>0.316216</td>\n",
       "      <td>-0.497833</td>\n",
       "    </tr>\n",
       "    <tr>\n",
       "      <th>3</th>\n",
       "      <td>1.011420</td>\n",
       "      <td>-1.547620</td>\n",
       "    </tr>\n",
       "    <tr>\n",
       "      <th>4</th>\n",
       "      <td>-0.704164</td>\n",
       "      <td>-1.405470</td>\n",
       "    </tr>\n",
       "  </tbody>\n",
       "</table>\n",
       "</div>"
      ],
      "text/plain": [
       "          x         y\n",
       "0  0.839530 -1.037380\n",
       "1  0.329303 -0.375042\n",
       "2  0.316216 -0.497833\n",
       "3  1.011420 -1.547620\n",
       "4 -0.704164 -1.405470"
      ]
     },
     "execution_count": 13,
     "metadata": {},
     "output_type": "execute_result"
    }
   ],
   "source": [
    "session.motion_correction.head()"
   ]
  },
  {
   "cell_type": "markdown",
   "metadata": {
    "pycharm": {
     "name": "#%% md\n"
    }
   },
   "source": [
    "### Analysis Functions: Example"
   ]
  },
  {
   "cell_type": "markdown",
   "metadata": {
    "pycharm": {
     "name": "#%% md\n"
    }
   },
   "source": [
    "The goal of this section is to provide an example of how to define a set of function to achieve an analysis goal, that can easily be rolled into a package and made robust."
   ]
  },
  {
   "cell_type": "code",
   "execution_count": 14,
   "metadata": {
    "pycharm": {
     "name": "#%%\n"
    }
   },
   "outputs": [],
   "source": [
    "def cut_trace(start_time, stop_time, timestamps, values):\n",
    "    inds = np.nonzero(np.logical_and(timestamps>start_time, timestamps<stop_time))\n",
    "    return values[inds]"
   ]
  },
  {
   "cell_type": "markdown",
   "metadata": {
    "pycharm": {
     "name": "#%% md\n"
    }
   },
   "source": [
    "The function `cut trace` exemplifies some of the desirable qualities of a reusable function: it does one thing, and does it well: \n",
    "- The name of the function describes its purpose\n",
    "- The input arguments are relatively simple, making it easy to unit-test\n",
    "- The function performs one (non-trivial) conceptual operation on its inputs, while not mutating them in the process (i.e. no side-effects)\n",
    "- The function returns one output\n",
    "- The implementation is relatively easy to understand by simply reading the code:"
   ]
  },
  {
   "cell_type": "code",
   "execution_count": 15,
   "metadata": {
    "pycharm": {
     "name": "#%%\n"
    }
   },
   "outputs": [],
   "source": [
    "def get_dff_by_epoch(epoch, session=None, cell_specimen_id=None):\n",
    "    timestamps = session.ophys_timestamps[:]\n",
    "    values = session.dff_traces['dff'].loc[cell_specimen_id]\n",
    "    return cut_trace_by_epoch(epoch, timestamps, values)"
   ]
  },
  {
   "cell_type": "markdown",
   "metadata": {
    "pycharm": {
     "name": "#%% md\n"
    }
   },
   "source": [
    "The function `get_dff_by_epoch` uses assumptions about one of its arguments (session has property ophys_timestamps and dff_traces, for example) to reorganize the source data structure to for expected by `cut_trace_by_epoch`.  Next re apply this function across every row of a dataframe:"
   ]
  },
  {
   "cell_type": "code",
   "execution_count": 16,
   "metadata": {
    "pycharm": {
     "name": "#%%\n"
    }
   },
   "outputs": [
    {
     "data": {
      "text/plain": [
       "array([0.02164315, 0.10604059, 0.04811044, 0.03316068, 0.0726552 ,\n",
       "       0.04648706, 0.12563211, 0.0246413 ])"
      ]
     },
     "execution_count": 16,
     "metadata": {},
     "output_type": "execute_result"
    }
   ],
   "source": [
    "def cut_trace_by_epoch(epoch, timestamps, values):\n",
    "    return cut_trace(epoch.start_time, epoch.stop_time, timestamps, values)\n",
    "\n",
    "class Epoch:\n",
    "    \n",
    "    def __init__(self, start_time, stop_time):\n",
    "        self.start_time = start_time\n",
    "        self.stop_time = stop_time\n",
    "        \n",
    "e = Epoch(100, 100.25)\n",
    "cell_specimen_id = 879381164  # for example\n",
    "\n",
    "get_dff_by_epoch(e, session, cell_specimen_id=cell_specimen_id)"
   ]
  },
  {
   "cell_type": "markdown",
   "metadata": {
    "pycharm": {
     "name": "#%% md\n"
    }
   },
   "source": [
    "The `cut_trace_by_epoch` function acts as an *interface adapter*, allowing any object that implements the `start_time` and `stop_time` attributes to take advantage of `cut_traces` implementation."
   ]
  },
  {
   "cell_type": "markdown",
   "metadata": {
    "pycharm": {
     "name": "#%% md\n"
    }
   },
   "source": [
    "Here we use `cut_trace_by_epoch` to compute mean running speed per-trial. This works because the `session.trials` table has two columns named `start_time` and `stop_time`, and the `iterrows` generator emits an object that has these attributes:"
   ]
  },
  {
   "cell_type": "code",
   "execution_count": 17,
   "metadata": {
    "pycharm": {
     "name": "#%%\n"
    }
   },
   "outputs": [
    {
     "name": "stdout",
     "output_type": "stream",
     "text": [
      "trial 0: mean_speed = -0.93\n",
      "trial 1: mean_speed =  0.43\n",
      "trial 2: mean_speed =  9.47\n",
      "trial 3: mean_speed =  1.98\n",
      "trial 4: mean_speed =  3.95\n"
     ]
    }
   ],
   "source": [
    "for trial_index, row in session.trials.head().iterrows():\n",
    "    cut_running_speed = cut_trace_by_epoch(row, session.running_speed.timestamps, session.running_speed.values)\n",
    "    print('trial {}: mean_speed = {:5.2f}'.format(trial_index, cut_running_speed.mean()))"
   ]
  },
  {
   "cell_type": "code",
   "execution_count": 18,
   "metadata": {
    "pycharm": {
     "name": "#%%\n"
    }
   },
   "outputs": [],
   "source": [
    "dff_series = session.trials.head().apply(get_dff_by_epoch, axis=1, session=session, cell_specimen_id=cell_specimen_id)"
   ]
  },
  {
   "cell_type": "code",
   "execution_count": 19,
   "metadata": {
    "pycharm": {
     "name": "#%%\n"
    }
   },
   "outputs": [],
   "source": [
    "def ragged_average(series):\n",
    "    \n",
    "    nr = len(series)\n",
    "    nc = max([len(arr) for arr in series.values])\n",
    "\n",
    "    x = np.empty((nr, nc))\n",
    "    x.fill(np.nan)\n",
    "    for ri in range(nr):\n",
    "        data = series.iloc[ri]\n",
    "        x[ri,:len(data)] = data\n",
    "            \n",
    "    return np.nanmean(x, axis=0)"
   ]
  },
  {
   "cell_type": "code",
   "execution_count": 20,
   "metadata": {
    "pycharm": {
     "name": "#%%\n"
    }
   },
   "outputs": [
    {
     "data": {
      "image/png": "[encoded data removed]",
      "text/plain": [
       "<Figure size 432x288 with 1 Axes>"
      ]
     },
     "metadata": {
      "needs_background": "light"
     },
     "output_type": "display_data"
    }
   ],
   "source": [
    "mean_dff = ragged_average(dff_series)\n",
    "_ = plt.plot(mean_dff)"
   ]
  },
  {
   "cell_type": "markdown",
   "metadata": {
    "pycharm": {
     "name": "#%% md\n"
    }
   },
   "source": [
    "### Exercise:"
   ]
  },
  {
   "cell_type": "markdown",
   "metadata": {
    "pycharm": {
     "name": "#%% md\n"
    }
   },
   "source": [
    "1. **Work with a partner** (preferably someone you have never worked with before) to use:\n",
    "```python\n",
    "cut_trace\n",
    "cut_trace_by_epoch\n",
    "get_dff_by_epoch\n",
    "ragged_average\n",
    "```\n",
    "to build a dataframe containing one feature column called mean_dff (each row is an array), and as many other feature columns as you need that encode various conditions of interest. For example:\n",
    "  - `[mean_dff, hit]` where `hit` is a boolean encoding of trial\n",
    "  - `[mean_dff, cell_specimen_id]`\n",
    "  - `[mean_dff, stage]` where `stage` is pulled from session.task_parameters, across multiple session \n",
    "As you build this dataframe, think about the modularity of your code, and packaging subfunctions that might be reusable by others.\n",
    "2. Do some analysis with this dataframe (time permitting)\n",
    "3. Prepare a 30 second data blast about what features you worked to incorporate, and what analysis you started to tackle with this exercise, that you can present to the group.  No slide or figures necessary, just talking."
   ]
  }
 ],
 "metadata": {
  "kernelspec": {
   "display_name": "Python 3",
   "language": "python",
   "name": "python3"
  },
  "language_info": {
   "codemirror_mode": {
    "name": "ipython",
    "version": 3
   },
   "file_extension": ".py",
   "mimetype": "text/x-python",
   "name": "python",
   "nbconvert_exporter": "python",
   "pygments_lexer": "ipython3",
   "version": "3.8.3"
  }
 },
 "nbformat": 4,
 "nbformat_minor": 2
}
