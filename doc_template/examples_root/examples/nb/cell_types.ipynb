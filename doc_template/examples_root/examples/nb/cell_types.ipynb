{
 "cells": [
  {
   "cell_type": "markdown",
   "metadata": {},
   "source": [
    "## Cell Types Database\n",
    "\n",
    "This notebook demonstrates most of the features of the AllenSDK that help manipulate data in the Cell Types Database.  The main entry point will be through the `CellTypesCache` class.\n",
    "\n",
    "`CellTypesCache` is responsible for downloading Cell Types Database data to a standard directory structure on your hard drive.  If you use this class, you will not have to keep track of where your data lives, other than a root directory.\n",
    "\n",
    "Download this file in .ipynb format <a href='cell_types.ipynb'>here</a>."
   ]
  },
  {
   "cell_type": "code",
   "execution_count": 1,
   "metadata": {
    "collapsed": false
   },
   "outputs": [],
   "source": [
    "from allensdk.core.cell_types_cache import CellTypesCache\n",
    "\n",
    "# Instantiate the CellTypesCache instance.  The manifest_file argument\n",
    "# tells it where to store the manifest, which is a JSON file that tracks\n",
    "# file paths.  If you supply a relative path (like this), it will go\n",
    "# into your current working directory\n",
    "ctc = CellTypesCache(manifest_file='cell_types/manifest.json')\n",
    "\n",
    "# this saves the NWB file to 'cell_types/specimen_464212183/ephys.nwb'\n",
    "cell_specimen_id = 464212183\n",
    "data_set = ctc.get_ephys_data(cell_specimen_id)"
   ]
  },
  {
   "cell_type": "markdown",
   "metadata": {},
   "source": [
    "The `data_set` variable is an `NwbDataSet` instance, which has some methods we can use to access the injected current stimulus waveform and the voltage response waveform for all experimental sweeps.  Let's pull one sweep out and plot it."
   ]
  },
  {
   "cell_type": "code",
   "execution_count": 2,
   "metadata": {
    "collapsed": false,
    "scrolled": true
   },
   "outputs": [
    {
     "data": {
      "image/png": "[encoded data removed]",
      "text/plain": [
       "<matplotlib.figure.Figure at 0x7f7f445ac110>"
      ]
     },
     "metadata": {},
     "output_type": "display_data"
    }
   ],
   "source": [
    "%matplotlib inline\n",
    "import numpy as np\n",
    "import matplotlib.pyplot as plt\n",
    "\n",
    "sweep_number = 30\n",
    "sweep_data = data_set.get_sweep(sweep_number)\n",
    "\n",
    "index_range = sweep_data[\"index_range\"]\n",
    "i = sweep_data[\"stimulus\"][0:index_range[1]+1] # in A\n",
    "v = sweep_data[\"response\"][0:index_range[1]+1] # in V\n",
    "i *= 1e12 # to pA\n",
    "v *= 1e3 # to mV\n",
    "\n",
    "sampling_rate = sweep_data[\"sampling_rate\"] # in Hz\n",
    "t = np.arange(0, len(v)) * (1.0 / sampling_rate)\n",
    "\n",
    "plt.style.use('ggplot')\n",
    "fig, axes = plt.subplots(2, 1, sharex=True)\n",
    "axes[0].plot(t, v, color='black')\n",
    "axes[1].plot(t, i, color='gray')\n",
    "axes[0].set_ylabel(\"mV\")\n",
    "axes[1].set_ylabel(\"pA\")\n",
    "axes[1].set_xlabel(\"seconds\")\n",
    "plt.show()"
   ]
  },
  {
   "cell_type": "markdown",
   "metadata": {},
   "source": [
    "## Filtering Cells via Metadata\n",
    "\n",
    "Cell records in the Cell Types Database come with a large amount of metadata.  We have exposed the most commonly used of these are arguments to CellTypesCache.get_cells.  "
   ]
  },
  {
   "cell_type": "code",
   "execution_count": 3,
   "metadata": {
    "collapsed": false,
    "scrolled": true
   },
   "outputs": [
    {
     "name": "stdout",
     "output_type": "stream",
     "text": [
      "Total cells: 1337\n",
      "Mouse cells: 1058\n",
      "Human cells: 279\n",
      "Cells with morphology images: 683\n",
      "Cells with reconstructions: 402\n",
      "Cre-positive cells: 969\n",
      "Cre-negative cells with reconstructions: 35\n"
     ]
    }
   ],
   "source": [
    "from allensdk.core.cell_types_cache import CellTypesCache\n",
    "from allensdk.api.queries.cell_types_api import CellTypesApi\n",
    "from allensdk.core.cell_types_cache import ReporterStatus as RS\n",
    "\n",
    "# download all cells\n",
    "cells = ctc.get_cells()\n",
    "print(\"Total cells: %d\" % len(cells))\n",
    "\n",
    "# mouse cells\n",
    "cells = ctc.get_cells(species=[CellTypesApi.MOUSE])\n",
    "print(\"Mouse cells: %d\" % len(cells))\n",
    "\n",
    "# human cells\n",
    "cells = ctc.get_cells(species=[CellTypesApi.HUMAN])\n",
    "print(\"Human cells: %d\" % len(cells))\n",
    "\n",
    "# download metadata for all cells with morphology images\n",
    "cells = ctc.get_cells(require_morphology = True)\n",
    "print(\"Cells with morphology images: %d\" % len(cells))\n",
    "\n",
    "# cells with reconstructions\n",
    "cells = ctc.get_cells(require_reconstruction = True)\n",
    "print(\"Cells with reconstructions: %d\" % len(cells))\n",
    "\n",
    "# all cre positive cells\n",
    "cells = ctc.get_cells(reporter_status = RS.POSITIVE)\n",
    "print(\"Cre-positive cells: %d\" % len(cells))\n",
    "\n",
    "# cre negative cells with reconstructions\n",
    "cells = ctc.get_cells(require_reconstruction = True, \n",
    "                      reporter_status = RS.NEGATIVE)\n",
    "print(\"Cre-negative cells with reconstructions: %d\" % len(cells))"
   ]
  },
  {
   "cell_type": "markdown",
   "metadata": {},
   "source": [
    "## Cell Morphology Reconstructions\n",
    "\n",
    "The Cell Types Database also contains 3D reconstructions of neuronal morphologies. The data are presented in the SWC format. We'll download a particular cell's reconstrution here.\n",
    "\n",
    "The AllenSDK contains a module that makes it easier to work with the SWC files. We'll see how the data is contained in the file by looking at the first node."
   ]
  },
  {
   "cell_type": "code",
   "execution_count": 4,
   "metadata": {
    "collapsed": false
   },
   "outputs": [
    {
     "name": "stdout",
     "output_type": "stream",
     "text": [
      "{'children': [1,\n",
      "              1763,\n",
      "              2012,\n",
      "              2089,\n",
      "              2421,\n",
      "              2604,\n",
      "              2821,\n",
      "              3147,\n",
      "              3440,\n",
      "              3491,\n",
      "              3552,\n",
      "              4015],\n",
      " 'id': 0,\n",
      " 'parent': -1,\n",
      " 'radius': 7.6078,\n",
      " 'tree_id': 0,\n",
      " 'type': 1,\n",
      " 'x': 444.3296,\n",
      " 'y': 503.0168,\n",
      " 'z': 31.92}\n"
     ]
    }
   ],
   "source": [
    "import pprint\n",
    "\n",
    "# download and open an SWC file\n",
    "cell_id = 480114344\n",
    "morphology = ctc.get_reconstruction(cell_id) \n",
    "\n",
    "# the compartment list has all of the nodes in the file\n",
    "pprint.pprint(morphology.compartment_list[0])"
   ]
  },
  {
   "cell_type": "markdown",
   "metadata": {},
   "source": [
    "Note that the `type` field refers to the type of neuronal compartment. The values can be 1 for the soma, 2 for the axon, 3 for dendrites, and 4 for apical dendrites (if present).\n",
    "\n",
    "Morphologies now also come with marker files, which contains points of interest in the reconstruction.  The marker file contains locations where dendrites have been truncated due to slicing and when axons were not reconstructed.  The `name` field indicates the type of marker (10 for dendrite truncation, 20 for no reconstruction)."
   ]
  },
  {
   "cell_type": "code",
   "execution_count": 5,
   "metadata": {
    "collapsed": false
   },
   "outputs": [
    {
     "name": "stdout",
     "output_type": "stream",
     "text": [
      "{'name': 10, 'x': 527.5029999999999, 'y': 496.4319, 'z': 12.4555}\n"
     ]
    }
   ],
   "source": [
    "# download and open a marker file\n",
    "markers = ctc.get_reconstruction_markers(cell_id) \n",
    "pprint.pprint(markers[0])"
   ]
  },
  {
   "cell_type": "markdown",
   "metadata": {},
   "source": [
    "We can use this data to draw lines between each node and all its children to get a drawing of the cell. We'll do it looking at it from the front and from the side."
   ]
  },
  {
   "cell_type": "code",
   "execution_count": 6,
   "metadata": {
    "collapsed": false
   },
   "outputs": [
    {
     "data": {
      "image/png": "[encoded data removed]",
      "text/plain": [
       "<matplotlib.figure.Figure at 0x7f7f39917850>"
      ]
     },
     "metadata": {},
     "output_type": "display_data"
    }
   ],
   "source": [
    "from allensdk.core.swc import Marker\n",
    "fig, axes = plt.subplots(1, 2, sharey=True, sharex=True)\n",
    "axes[0].set_aspect('equal', 'box-forced')\n",
    "axes[1].set_aspect('equal', 'box-forced')\n",
    "\n",
    "# Make a line drawing of x-y and y-z views\n",
    "for n in morphology.compartment_list:\n",
    "    for c in morphology.children_of(n):\n",
    "        axes[0].plot([n['x'], c['x']], [n['y'], c['y']], color='black')\n",
    "        axes[1].plot([n['z'], c['z']], [n['y'], c['y']], color='black')\n",
    "\n",
    "# cut dendrite markers\n",
    "dm = [ m for m in markers if m['name'] == Marker.CUT_DENDRITE ]\n",
    "\n",
    "axes[0].scatter([m['x'] for m in dm], [m['y'] for m in dm], color='#3333ff')\n",
    "axes[1].scatter([m['z'] for m in dm], [m['y'] for m in dm], color='#3333ff')\n",
    "\n",
    "# no reconstruction markers\n",
    "nm = [ m for m in markers if m['name'] == Marker.NO_RECONSTRUCTION ]\n",
    "\n",
    "axes[0].scatter([m['x'] for m in nm], [m['y'] for m in nm], color='#333333')\n",
    "axes[1].scatter([m['z'] for m in nm], [m['y'] for m in nm], color='#333333')\n",
    "\n",
    "axes[0].set_ylabel('y')\n",
    "axes[0].set_xlabel('x')\n",
    "axes[1].set_xlabel('z')\n",
    "plt.show()"
   ]
  },
  {
   "cell_type": "markdown",
   "metadata": {},
   "source": [
    "## Electrophysiology Features\n",
    "\n",
    "The Cell Types Database contains a set of features that have already been computed, which could serve as good starting points for analysis. We can query the database using the SDK to get these features."
   ]
  },
  {
   "cell_type": "code",
   "execution_count": 7,
   "metadata": {
    "collapsed": false
   },
   "outputs": [
    {
     "name": "stdout",
     "output_type": "stream",
     "text": [
      "Ephys. features available for 1337 cells\n"
     ]
    },
    {
     "data": {
      "text/html": [
       "<div>\n",
       "<table border=\"1\" class=\"dataframe\">\n",
       "  <thead>\n",
       "    <tr style=\"text-align: right;\">\n",
       "      <th></th>\n",
       "      <th>adaptation</th>\n",
       "      <th>avg_isi</th>\n",
       "      <th>electrode_0_pa</th>\n",
       "      <th>f_i_curve_slope</th>\n",
       "      <th>fast_trough_t_long_square</th>\n",
       "      <th>fast_trough_t_ramp</th>\n",
       "      <th>fast_trough_t_short_square</th>\n",
       "      <th>fast_trough_v_long_square</th>\n",
       "      <th>fast_trough_v_ramp</th>\n",
       "      <th>fast_trough_v_short_square</th>\n",
       "      <th>...</th>\n",
       "      <th>trough_t_ramp</th>\n",
       "      <th>trough_t_short_square</th>\n",
       "      <th>trough_v_long_square</th>\n",
       "      <th>trough_v_ramp</th>\n",
       "      <th>trough_v_short_square</th>\n",
       "      <th>upstroke_downstroke_ratio_long_square</th>\n",
       "      <th>upstroke_downstroke_ratio_ramp</th>\n",
       "      <th>upstroke_downstroke_ratio_short_square</th>\n",
       "      <th>vm_for_sag</th>\n",
       "      <th>vrest</th>\n",
       "    </tr>\n",
       "  </thead>\n",
       "  <tbody>\n",
       "    <tr>\n",
       "      <th>1185</th>\n",
       "      <td>0.01066</td>\n",
       "      <td>50.912222</td>\n",
       "      <td>-73.090617</td>\n",
       "      <td>0.385991</td>\n",
       "      <td>1.243575</td>\n",
       "      <td>3.872615</td>\n",
       "      <td>1.025798</td>\n",
       "      <td>-58.406254</td>\n",
       "      <td>-56.364585</td>\n",
       "      <td>-61.026044</td>\n",
       "      <td>...</td>\n",
       "      <td>3.87297</td>\n",
       "      <td>1.273295</td>\n",
       "      <td>-58.59375</td>\n",
       "      <td>-56.635419</td>\n",
       "      <td>-65.729168</td>\n",
       "      <td>1.915684</td>\n",
       "      <td>2.045541</td>\n",
       "      <td>1.821178</td>\n",
       "      <td>-90.46875</td>\n",
       "      <td>-65.771713</td>\n",
       "    </tr>\n",
       "  </tbody>\n",
       "</table>\n",
       "<p>1 rows × 55 columns</p>\n",
       "</div>"
      ],
      "text/plain": [
       "      adaptation    avg_isi  electrode_0_pa  f_i_curve_slope  \\\n",
       "1185     0.01066  50.912222      -73.090617         0.385991   \n",
       "\n",
       "      fast_trough_t_long_square  fast_trough_t_ramp  \\\n",
       "1185                   1.243575            3.872615   \n",
       "\n",
       "      fast_trough_t_short_square  fast_trough_v_long_square  \\\n",
       "1185                    1.025798                 -58.406254   \n",
       "\n",
       "      fast_trough_v_ramp  fast_trough_v_short_square    ...     trough_t_ramp  \\\n",
       "1185          -56.364585                  -61.026044    ...           3.87297   \n",
       "\n",
       "     trough_t_short_square trough_v_long_square  trough_v_ramp  \\\n",
       "1185              1.273295            -58.59375     -56.635419   \n",
       "\n",
       "      trough_v_short_square  upstroke_downstroke_ratio_long_square  \\\n",
       "1185             -65.729168                               1.915684   \n",
       "\n",
       "      upstroke_downstroke_ratio_ramp  upstroke_downstroke_ratio_short_square  \\\n",
       "1185                        2.045541                                1.821178   \n",
       "\n",
       "      vm_for_sag      vrest  \n",
       "1185   -90.46875 -65.771713  \n",
       "\n",
       "[1 rows x 55 columns]"
      ]
     },
     "execution_count": 7,
     "metadata": {},
     "output_type": "execute_result"
    }
   ],
   "source": [
    "import pandas as pd\n",
    "\n",
    "# download all electrophysiology features for all cells\n",
    "ephys_features = ctc.get_ephys_features()\n",
    "ef_df = pd.DataFrame(ephys_features)\n",
    "\n",
    "print(\"Ephys. features available for %d cells\" % len(ef_df))\n",
    "\n",
    "# filter down to a specific cell\n",
    "specimen_id = 464212183\n",
    "cell_ephys_features = ef_df[ef_df['specimen_id']== specimen_id]\n",
    "cell_ephys_features"
   ]
  },
  {
   "cell_type": "markdown",
   "metadata": {},
   "source": [
    "That's how to get all the ephys features for a given specimen - what if we want a particular feature for all cells?"
   ]
  },
  {
   "cell_type": "code",
   "execution_count": 8,
   "metadata": {
    "collapsed": false
   },
   "outputs": [
    {
     "data": {
      "image/png": "[encoded data removed]",
      "text/plain": [
       "<matplotlib.figure.Figure at 0x7f7f3cfbe6d0>"
      ]
     },
     "metadata": {},
     "output_type": "display_data"
    }
   ],
   "source": [
    "plt.figure()\n",
    "plt.scatter(ef_df['fast_trough_v_long_square'], \n",
    "            ef_df['upstroke_downstroke_ratio_long_square'], color='#2ca25f')\n",
    "plt.ylabel(\"upstroke-downstroke ratio\")\n",
    "plt.xlabel(\"fast trough depth (mV)\")\n",
    "plt.show()"
   ]
  },
  {
   "cell_type": "markdown",
   "metadata": {},
   "source": [
    "Let's use numpy to fit a regression line to these data and plot it."
   ]
  },
  {
   "cell_type": "code",
   "execution_count": 9,
   "metadata": {
    "collapsed": false
   },
   "outputs": [
    {
     "name": "stdout",
     "output_type": "stream",
     "text": [
      "First 5 rows of A:\n",
      "[[-51.18750381   1.        ]\n",
      " [-48.71875      1.        ]\n",
      " [-48.09375      1.        ]\n",
      " [-45.96875381   1.        ]\n",
      " [-48.90625      1.        ]]\n",
      "('m', 0.10046406538657957, 'c', 8.1157807763829819)\n"
     ]
    },
    {
     "data": {
      "image/png": "[encoded data removed]",
      "text/plain": [
       "<matplotlib.figure.Figure at 0x7f7f33423c50>"
      ]
     },
     "metadata": {},
     "output_type": "display_data"
    }
   ],
   "source": [
    "A = np.vstack([ef_df['fast_trough_v_long_square'], \n",
    "               np.ones_like(ef_df['upstroke_downstroke_ratio_long_square'])]).T\n",
    "\n",
    "print(\"First 5 rows of A:\")\n",
    "print(A[:5, :])\n",
    "\n",
    "m, c = np.linalg.lstsq(A, ef_df['upstroke_downstroke_ratio_long_square'])[0]\n",
    "print(\"m\", m, \"c\", c)\n",
    "\n",
    "plt.figure()\n",
    "plt.scatter(ef_df['fast_trough_v_long_square'], \n",
    "            ef_df['upstroke_downstroke_ratio_long_square'], \n",
    "            color='#2ca25f')\n",
    "plt.plot(ef_df['fast_trough_v_long_square'],\n",
    "         m * ef_df['fast_trough_v_long_square'] + c, c='gray')\n",
    "plt.ylabel(\"upstroke-downstroke ratio\")\n",
    "plt.xlabel(\"fast trough depth (mV)\")\n",
    "plt.show()"
   ]
  },
  {
   "cell_type": "markdown",
   "metadata": {},
   "source": [
    "It looks like there may be roughly two clusters in the data above. Maybe they relate to whether the cells are presumably excitatory (spiny) cells or inhibitory (aspiny) cells. Let's query the API and split up the two sets to see."
   ]
  },
  {
   "cell_type": "code",
   "execution_count": 10,
   "metadata": {
    "collapsed": false
   },
   "outputs": [
    {
     "data": {
      "image/png": "[encoded data removed]",
      "text/plain": [
       "<matplotlib.figure.Figure at 0x7f7f419a9590>"
      ]
     },
     "metadata": {},
     "output_type": "display_data"
    }
   ],
   "source": [
    "cells = ctc.get_cells()\n",
    "\n",
    "# we want to add dendrite type as a column to the ephys. features dataframe\n",
    "# first build an index on cell specimen ID, then create array of dendrite types\n",
    "cell_index = { c['id']: c for c in cells }\n",
    "dendrite_types = [ cell_index[cid]['dendrite_type'] for cid in ef_df['specimen_id'] ]\n",
    "\n",
    "# now add the new column\n",
    "ef_df['dendrite_type'] = pd.Series(dendrite_types, index=ef_df.index)\n",
    "\n",
    "fig = plt.figure()\n",
    "\n",
    "for d_type, color in [ [\"spiny\", \"#d95f02\"], [\"aspiny\", \"#7570b3\"] ]:\n",
    "    df = ef_df[ef_df['dendrite_type'] == d_type]\n",
    "    plt.scatter(df['fast_trough_v_long_square'], \n",
    "                df['upstroke_downstroke_ratio_long_square'], \n",
    "                color=color, label=d_type)\n",
    "\n",
    "    plt.ylabel(\"upstroke-downstroke ratio\")\n",
    "    plt.xlabel(\"fast trough depth (mV)\")\n",
    "    plt.legend(loc='best')\n",
    "    \n",
    "plt.show()"
   ]
  },
  {
   "cell_type": "markdown",
   "metadata": {},
   "source": [
    "## Morphology Features\n",
    "\n",
    "The Cell Types Database contains a set of precomputed morphological features for cells that have reconstructions.  You can access morphology features by themselves, or combined with the electrophysiology features."
   ]
  },
  {
   "cell_type": "code",
   "execution_count": 11,
   "metadata": {
    "collapsed": false
   },
   "outputs": [
    {
     "name": "stdout",
     "output_type": "stream",
     "text": [
      "All features available for 402 cells\n"
     ]
    },
    {
     "data": {
      "text/html": [
       "<div>\n",
       "<table border=\"1\" class=\"dataframe\">\n",
       "  <thead>\n",
       "    <tr style=\"text-align: right;\">\n",
       "      <th></th>\n",
       "      <th>adaptation</th>\n",
       "      <th>average_bifurcation_angle_local</th>\n",
       "      <th>average_bifurcation_angle_remote</th>\n",
       "      <th>average_contraction</th>\n",
       "      <th>average_diameter</th>\n",
       "      <th>average_fragmentation</th>\n",
       "      <th>average_parent_daughter_ratio</th>\n",
       "      <th>avg_isi</th>\n",
       "      <th>electrode_0_pa</th>\n",
       "      <th>f_i_curve_slope</th>\n",
       "      <th>...</th>\n",
       "      <th>trough_t_ramp</th>\n",
       "      <th>trough_t_short_square</th>\n",
       "      <th>trough_v_long_square</th>\n",
       "      <th>trough_v_ramp</th>\n",
       "      <th>trough_v_short_square</th>\n",
       "      <th>upstroke_downstroke_ratio_long_square</th>\n",
       "      <th>upstroke_downstroke_ratio_ramp</th>\n",
       "      <th>upstroke_downstroke_ratio_short_square</th>\n",
       "      <th>vm_for_sag</th>\n",
       "      <th>vrest</th>\n",
       "    </tr>\n",
       "  </thead>\n",
       "  <tbody>\n",
       "    <tr>\n",
       "      <th>0</th>\n",
       "      <td>0.048709</td>\n",
       "      <td>59.310821</td>\n",
       "      <td>NaN</td>\n",
       "      <td>0.926514</td>\n",
       "      <td>0.287638</td>\n",
       "      <td>44.450000</td>\n",
       "      <td>0.977300</td>\n",
       "      <td>118.397143</td>\n",
       "      <td>-90.575616</td>\n",
       "      <td>0.307589</td>\n",
       "      <td>...</td>\n",
       "      <td>7.204045</td>\n",
       "      <td>1.233473</td>\n",
       "      <td>-46.156254</td>\n",
       "      <td>-49.218753</td>\n",
       "      <td>-66.318753</td>\n",
       "      <td>2.026000</td>\n",
       "      <td>1.827572</td>\n",
       "      <td>1.818158</td>\n",
       "      <td>-82.406250</td>\n",
       "      <td>-65.503044</td>\n",
       "    </tr>\n",
       "    <tr>\n",
       "      <th>1</th>\n",
       "      <td>0.044825</td>\n",
       "      <td>77.679949</td>\n",
       "      <td>NaN</td>\n",
       "      <td>0.895664</td>\n",
       "      <td>0.488865</td>\n",
       "      <td>48.027778</td>\n",
       "      <td>0.928510</td>\n",
       "      <td>91.322222</td>\n",
       "      <td>-46.761876</td>\n",
       "      <td>0.223864</td>\n",
       "      <td>...</td>\n",
       "      <td>3.862007</td>\n",
       "      <td>1.806510</td>\n",
       "      <td>-50.875000</td>\n",
       "      <td>-50.989586</td>\n",
       "      <td>-76.791669</td>\n",
       "      <td>2.992793</td>\n",
       "      <td>2.817856</td>\n",
       "      <td>2.706951</td>\n",
       "      <td>-96.906250</td>\n",
       "      <td>-75.320374</td>\n",
       "    </tr>\n",
       "    <tr>\n",
       "      <th>2</th>\n",
       "      <td>0.093492</td>\n",
       "      <td>89.985385</td>\n",
       "      <td>NaN</td>\n",
       "      <td>0.821116</td>\n",
       "      <td>0.289549</td>\n",
       "      <td>54.000000</td>\n",
       "      <td>1.000000</td>\n",
       "      <td>112.245000</td>\n",
       "      <td>3.015000</td>\n",
       "      <td>0.150000</td>\n",
       "      <td>...</td>\n",
       "      <td>5.483953</td>\n",
       "      <td>1.225900</td>\n",
       "      <td>-51.406254</td>\n",
       "      <td>-59.552087</td>\n",
       "      <td>-81.875008</td>\n",
       "      <td>2.199872</td>\n",
       "      <td>2.220031</td>\n",
       "      <td>2.235442</td>\n",
       "      <td>-95.843758</td>\n",
       "      <td>-81.065971</td>\n",
       "    </tr>\n",
       "    <tr>\n",
       "      <th>3</th>\n",
       "      <td>0.025413</td>\n",
       "      <td>61.077539</td>\n",
       "      <td>NaN</td>\n",
       "      <td>0.935778</td>\n",
       "      <td>0.232070</td>\n",
       "      <td>69.576923</td>\n",
       "      <td>0.876905</td>\n",
       "      <td>59.215625</td>\n",
       "      <td>10.571250</td>\n",
       "      <td>0.397263</td>\n",
       "      <td>...</td>\n",
       "      <td>4.531717</td>\n",
       "      <td>1.323212</td>\n",
       "      <td>-55.062504</td>\n",
       "      <td>-54.781253</td>\n",
       "      <td>-71.250003</td>\n",
       "      <td>1.473594</td>\n",
       "      <td>1.444992</td>\n",
       "      <td>1.653886</td>\n",
       "      <td>-94.312508</td>\n",
       "      <td>-70.492218</td>\n",
       "    </tr>\n",
       "    <tr>\n",
       "      <th>4</th>\n",
       "      <td>0.322543</td>\n",
       "      <td>69.629828</td>\n",
       "      <td>NaN</td>\n",
       "      <td>0.851035</td>\n",
       "      <td>0.424750</td>\n",
       "      <td>76.550000</td>\n",
       "      <td>0.884581</td>\n",
       "      <td>8.650000</td>\n",
       "      <td>15.299999</td>\n",
       "      <td>0.032146</td>\n",
       "      <td>...</td>\n",
       "      <td>14.217933</td>\n",
       "      <td>1.025203</td>\n",
       "      <td>-49.812504</td>\n",
       "      <td>-52.802086</td>\n",
       "      <td>-50.171877</td>\n",
       "      <td>2.507462</td>\n",
       "      <td>2.517398</td>\n",
       "      <td>2.635798</td>\n",
       "      <td>-88.562500</td>\n",
       "      <td>-80.505516</td>\n",
       "    </tr>\n",
       "  </tbody>\n",
       "</table>\n",
       "<p>5 rows × 82 columns</p>\n",
       "</div>"
      ],
      "text/plain": [
       "   adaptation  average_bifurcation_angle_local  \\\n",
       "0    0.048709                        59.310821   \n",
       "1    0.044825                        77.679949   \n",
       "2    0.093492                        89.985385   \n",
       "3    0.025413                        61.077539   \n",
       "4    0.322543                        69.629828   \n",
       "\n",
       "   average_bifurcation_angle_remote  average_contraction  average_diameter  \\\n",
       "0                               NaN             0.926514          0.287638   \n",
       "1                               NaN             0.895664          0.488865   \n",
       "2                               NaN             0.821116          0.289549   \n",
       "3                               NaN             0.935778          0.232070   \n",
       "4                               NaN             0.851035          0.424750   \n",
       "\n",
       "   average_fragmentation  average_parent_daughter_ratio     avg_isi  \\\n",
       "0              44.450000                       0.977300  118.397143   \n",
       "1              48.027778                       0.928510   91.322222   \n",
       "2              54.000000                       1.000000  112.245000   \n",
       "3              69.576923                       0.876905   59.215625   \n",
       "4              76.550000                       0.884581    8.650000   \n",
       "\n",
       "   electrode_0_pa  f_i_curve_slope    ...      trough_t_ramp  \\\n",
       "0      -90.575616         0.307589    ...           7.204045   \n",
       "1      -46.761876         0.223864    ...           3.862007   \n",
       "2        3.015000         0.150000    ...           5.483953   \n",
       "3       10.571250         0.397263    ...           4.531717   \n",
       "4       15.299999         0.032146    ...          14.217933   \n",
       "\n",
       "   trough_t_short_square  trough_v_long_square  trough_v_ramp  \\\n",
       "0               1.233473            -46.156254     -49.218753   \n",
       "1               1.806510            -50.875000     -50.989586   \n",
       "2               1.225900            -51.406254     -59.552087   \n",
       "3               1.323212            -55.062504     -54.781253   \n",
       "4               1.025203            -49.812504     -52.802086   \n",
       "\n",
       "   trough_v_short_square  upstroke_downstroke_ratio_long_square  \\\n",
       "0             -66.318753                               2.026000   \n",
       "1             -76.791669                               2.992793   \n",
       "2             -81.875008                               2.199872   \n",
       "3             -71.250003                               1.473594   \n",
       "4             -50.171877                               2.507462   \n",
       "\n",
       "  upstroke_downstroke_ratio_ramp upstroke_downstroke_ratio_short_square  \\\n",
       "0                       1.827572                               1.818158   \n",
       "1                       2.817856                               2.706951   \n",
       "2                       2.220031                               2.235442   \n",
       "3                       1.444992                               1.653886   \n",
       "4                       2.517398                               2.635798   \n",
       "\n",
       "  vm_for_sag      vrest  \n",
       "0 -82.406250 -65.503044  \n",
       "1 -96.906250 -75.320374  \n",
       "2 -95.843758 -81.065971  \n",
       "3 -94.312508 -70.492218  \n",
       "4 -88.562500 -80.505516  \n",
       "\n",
       "[5 rows x 82 columns]"
      ]
     },
     "execution_count": 11,
     "metadata": {},
     "output_type": "execute_result"
    }
   ],
   "source": [
    "import pandas as pd\n",
    "\n",
    "# download all morphology features for cells with reconstructions\n",
    "morphology_features = ctc.get_morphology_features()\n",
    "\n",
    "# or download both morphology and ephys features\n",
    "all_features = ctc.get_all_features(require_reconstruction=True)\n",
    "\n",
    "# convert to a pandas DataFrame\n",
    "all_features = pd.DataFrame(all_features)\n",
    "print(\"All features available for %d cells\" % len(all_features))\n",
    "\n",
    "all_features.head()"
   ]
  },
  {
   "cell_type": "markdown",
   "metadata": {},
   "source": [
    "## Computing Electrophysiology Features\n",
    "\n",
    "The AllenSDK contains the code used to compute the electrophysiology features you accessed above.  You can run it yourself like this."
   ]
  },
  {
   "cell_type": "code",
   "execution_count": 12,
   "metadata": {
    "collapsed": false
   },
   "outputs": [
    {
     "name": "stdout",
     "output_type": "stream",
     "text": [
      "Avg spike threshold: -35.5 mV\n",
      "Avg spike width: 0.94 ms\n"
     ]
    }
   ],
   "source": [
    "from allensdk.ephys.ephys_extractor import EphysSweepFeatureExtractor\n",
    "\n",
    "sweep_number = 35\n",
    "sweep_data = data_set.get_sweep(sweep_number)\n",
    "\n",
    "index_range = sweep_data[\"index_range\"]\n",
    "i = sweep_data[\"stimulus\"][0:index_range[1]+1] # in A\n",
    "v = sweep_data[\"response\"][0:index_range[1]+1] # in V\n",
    "i *= 1e12 # to pA\n",
    "v *= 1e3 # to mV\n",
    "\n",
    "sampling_rate = sweep_data[\"sampling_rate\"] # in Hz\n",
    "t = np.arange(0, len(v)) * (1.0 / sampling_rate)\n",
    "\n",
    "sweep_ext = EphysSweepFeatureExtractor(t=t, v=v, i=i, start=1.02, end=2.02)\n",
    "sweep_ext.process_spikes()\n",
    "\n",
    "print(\"Avg spike threshold: %.01f mV\" % sweep_ext.spike_feature(\"threshold_v\").mean())\n",
    "print(\"Avg spike width: %.02f ms\" %  (1e3 * np.nanmean(sweep_ext.spike_feature(\"width\"))))"
   ]
  },
  {
   "cell_type": "markdown",
   "metadata": {},
   "source": [
    "The method `spike_feature()` returns a NumPy array of features for each spike. You pass it the name of the feature that you want. Features that can't be calculated for a given spike are set to `NaN`. We can take a look at all the properties calculated for each spike by the extractor:"
   ]
  },
  {
   "cell_type": "code",
   "execution_count": 13,
   "metadata": {
    "collapsed": false
   },
   "outputs": [
    {
     "data": {
      "text/plain": [
       "['threshold_index',\n",
       " 'clipped',\n",
       " 'threshold_t',\n",
       " 'threshold_v',\n",
       " 'threshold_i',\n",
       " 'peak_index',\n",
       " 'peak_t',\n",
       " 'peak_v',\n",
       " 'peak_i',\n",
       " 'trough_index',\n",
       " 'trough_t',\n",
       " 'trough_v',\n",
       " 'trough_i',\n",
       " 'downstroke_index',\n",
       " 'downstroke',\n",
       " 'downstroke_t',\n",
       " 'downstroke_v',\n",
       " 'upstroke_index',\n",
       " 'upstroke',\n",
       " 'upstroke_t',\n",
       " 'upstroke_v',\n",
       " 'isi_type',\n",
       " 'fast_trough_index',\n",
       " 'fast_trough_t',\n",
       " 'fast_trough_v',\n",
       " 'fast_trough_i',\n",
       " 'slow_trough_index',\n",
       " 'slow_trough_t',\n",
       " 'slow_trough_v',\n",
       " 'slow_trough_i',\n",
       " 'adp_index',\n",
       " 'adp_t',\n",
       " 'adp_v',\n",
       " 'adp_i',\n",
       " 'width',\n",
       " 'upstroke_downstroke_ratio']"
      ]
     },
     "execution_count": 13,
     "metadata": {},
     "output_type": "execute_result"
    }
   ],
   "source": [
    "sweep_ext.spike_feature_keys()"
   ]
  },
  {
   "cell_type": "markdown",
   "metadata": {},
   "source": [
    "We can look at when the spikes occur by looking at the `threshold_t` property (i.e., time of spike threshold)."
   ]
  },
  {
   "cell_type": "code",
   "execution_count": 14,
   "metadata": {
    "collapsed": false
   },
   "outputs": [
    {
     "name": "stdout",
     "output_type": "stream",
     "text": [
      "[ 1.02811   1.040935  1.053675  1.068645  1.082835]\n"
     ]
    }
   ],
   "source": [
    "spike_times = sweep_ext.spike_feature(\"threshold_t\")\n",
    "\n",
    "print(spike_times[:5])  # print just the first 5 spike times"
   ]
  },
  {
   "cell_type": "markdown",
   "metadata": {},
   "source": [
    "We can see that the first spikes happen just after the stimulus step begins at 1.02 sec. Let's plot the voltage trace and then put a dot at the time of each spike detected by the extractor."
   ]
  },
  {
   "cell_type": "code",
   "execution_count": 15,
   "metadata": {
    "collapsed": false
   },
   "outputs": [
    {
     "data": {
      "text/plain": [
       "(0.9, 1.2)"
      ]
     },
     "execution_count": 15,
     "metadata": {},
     "output_type": "execute_result"
    },
    {
     "data": {
      "image/png": "[encoded data removed]",
      "text/plain": [
       "<matplotlib.figure.Figure at 0x7f7f4187f710>"
      ]
     },
     "metadata": {},
     "output_type": "display_data"
    }
   ],
   "source": [
    "fig = plt.figure()\n",
    "p = plt.plot(t, v, color='black')\n",
    "\n",
    "min_v = v.min()\n",
    "\n",
    "v_level = min_v - 5\n",
    "\n",
    "plt.scatter(spike_times, np.ones(len(spike_times)) * min_v, c='firebrick')\n",
    "plt.xlim(0.9, 1.2)"
   ]
  },
  {
   "cell_type": "markdown",
   "metadata": {},
   "source": [
    "We could also get the threshold voltages from the extractor and put dots where the extractor thinks the spikes begin (zooming in a little more to see better):"
   ]
  },
  {
   "cell_type": "code",
   "execution_count": 16,
   "metadata": {
    "collapsed": false
   },
   "outputs": [
    {
     "data": {
      "text/plain": [
       "(1.015, 1.08)"
      ]
     },
     "execution_count": 16,
     "metadata": {},
     "output_type": "execute_result"
    },
    {
     "data": {
      "image/png": "[encoded data removed]",
      "text/plain": [
       "<matplotlib.figure.Figure at 0x7f7f421a05d0>"
      ]
     },
     "metadata": {},
     "output_type": "display_data"
    }
   ],
   "source": [
    "fig = plt.figure()\n",
    "plt.plot(t, v, color='black')\n",
    "\n",
    "threshold_v = sweep_ext.spike_feature(\"threshold_v\")\n",
    "\n",
    "# setting zorder puts the dots on top of the trace\n",
    "plt.scatter(spike_times, threshold_v, s=50, c='firebrick', zorder=20)\n",
    "plt.xlim(1.015, 1.08)"
   ]
  }
 ],
 "metadata": {
  "kernelspec": {
   "display_name": "Python 2",
   "language": "python",
   "name": "python2"
  },
  "language_info": {
   "codemirror_mode": {
    "name": "ipython",
    "version": 2
   },
   "file_extension": ".py",
   "mimetype": "text/x-python",
   "name": "python",
   "nbconvert_exporter": "python",
   "pygments_lexer": "ipython2",
   "version": "2.7.13"
  }
 },
 "nbformat": 4,
 "nbformat_minor": 0
}
