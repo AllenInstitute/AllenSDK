{
 "cells": [
  {
   "cell_type": "markdown",
   "id": "11de1dcd",
   "metadata": {
    "papermill": {
     "duration": 0.007171,
     "end_time": "2023-07-31T23:55:09.081786",
     "exception": false,
     "start_time": "2023-07-31T23:55:09.074615",
     "status": "completed"
    },
    "tags": []
   },
   "source": [
    "# Receptive Field Analysis\n",
    "This notebook demonstrates how to run the `brain_observatory.receptive_field_analysis` module.  This module uses a cell's responses to the locally sparse noise stimulus to characterize the spatial receptive field, including on and off subunits.  We highly recommend reading through the the stimulus analysis <a href='http://help.brain-map.org/display/observatory/Documentation]'>whitepaper</a> to understand the locally sparse noise stimulus and the analysis methodology.\n",
    "\n",
    "Download this file in .ipynb format <a href='receptive_fields.ipynb'>here</a>.\n",
    "\n",
    "First we import packages."
   ]
  },
  {
   "cell_type": "code",
   "execution_count": 1,
   "id": "d102e84d",
   "metadata": {
    "execution": {
     "iopub.execute_input": "2023-07-31T23:55:09.095100Z",
     "iopub.status.busy": "2023-07-31T23:55:09.094750Z",
     "iopub.status.idle": "2023-07-31T23:55:13.150447Z",
     "shell.execute_reply": "2023-07-31T23:55:13.149412Z"
    },
    "papermill": {
     "duration": 4.065509,
     "end_time": "2023-07-31T23:55:13.153214",
     "exception": false,
     "start_time": "2023-07-31T23:55:09.087705",
     "status": "completed"
    },
    "tags": []
   },
   "outputs": [],
   "source": [
    "from allensdk.core.brain_observatory_cache import BrainObservatoryCache\n",
    "import allensdk.brain_observatory.receptive_field_analysis.visualization as rfvis\n",
    "import allensdk.brain_observatory.receptive_field_analysis.receptive_field as rf\n",
    "import matplotlib.pyplot as plt\n",
    "from pathlib import Path\n",
    "%matplotlib inline"
   ]
  },
  {
   "cell_type": "markdown",
   "id": "fa15d47e",
   "metadata": {
    "papermill": {
     "duration": 0.006124,
     "end_time": "2023-07-31T23:55:13.165445",
     "exception": false,
     "start_time": "2023-07-31T23:55:13.159321",
     "status": "completed"
    },
    "tags": []
   },
   "source": [
    "Given a cell of interest, we now identify the experiment that contains the locally sparse noise stimulus and download its NWB file.  We also look in the NWB file to figure out the position/index of the cell that has the ID we're interested in."
   ]
  },
  {
   "cell_type": "code",
   "execution_count": 2,
   "id": "e80946fb",
   "metadata": {
    "execution": {
     "iopub.execute_input": "2023-07-31T23:55:13.178771Z",
     "iopub.status.busy": "2023-07-31T23:55:13.177750Z",
     "iopub.status.idle": "2023-07-31T23:55:13.182619Z",
     "shell.execute_reply": "2023-07-31T23:55:13.181585Z"
    },
    "papermill": {
     "duration": 0.013556,
     "end_time": "2023-07-31T23:55:13.184714",
     "exception": false,
     "start_time": "2023-07-31T23:55:13.171158",
     "status": "completed"
    },
    "tags": [
     "parameters"
    ]
   },
   "outputs": [],
   "source": [
    "output_dir = '.'"
   ]
  },
  {
   "cell_type": "code",
   "execution_count": 4,
   "id": "148f46b5",
   "metadata": {
    "execution": {
     "iopub.execute_input": "2023-07-31T23:55:13.216523Z",
     "iopub.status.busy": "2023-07-31T23:55:13.216251Z",
     "iopub.status.idle": "2023-08-01T00:01:37.898004Z",
     "shell.execute_reply": "2023-08-01T00:01:37.896529Z"
    },
    "papermill": {
     "duration": 384.690842,
     "end_time": "2023-08-01T00:01:37.900206",
     "exception": false,
     "start_time": "2023-07-31T23:55:13.209364",
     "status": "completed"
    },
    "tags": []
   },
   "outputs": [
    {
     "name": "stderr",
     "output_type": "stream",
     "text": [
      "2023-08-01 00:01:17,431 allensdk.api.api.retrieve_file_over_http INFO     Downloading URL: http://api.brain-map.org/api/v2/well_known_file_download/514409327\n"
     ]
    },
    {
     "name": "stdout",
     "output_type": "stream",
     "text": [
      "cell 587377366 has index 5\n"
     ]
    }
   ],
   "source": [
    "cell_specimen_id = 587377366\n",
    "\n",
    "boc =  BrainObservatoryCache(\n",
    "    manifest_file=str(Path(output_dir) / 'brain_observatory_manifest.json'))\n",
    "\n",
    "exps = boc.get_ophys_experiments(cell_specimen_ids=[cell_specimen_id],\n",
    "                                 stimuli=['locally_sparse_noise'])\n",
    "\n",
    "data_set = boc.get_ophys_experiment_data(exps[0]['id'])\n",
    "\n",
    "cell_index = data_set.get_cell_specimen_indices([cell_specimen_id])[0]\n",
    "\n",
    "print(\"cell %d has index %d\" % (cell_specimen_id, cell_index))"
   ]
  },
  {
   "cell_type": "markdown",
   "id": "805f3072",
   "metadata": {
    "papermill": {
     "duration": 0.006567,
     "end_time": "2023-08-01T00:01:37.914985",
     "exception": false,
     "start_time": "2023-08-01T00:01:37.908418",
     "status": "completed"
    },
    "tags": []
   },
   "source": [
    "## Compute receptive fields\n",
    "The following method in the `receptive_field_analysis` module will characterize on and off receptive fields and perform a per-pixel significance test."
   ]
  },
  {
   "cell_type": "code",
   "execution_count": 5,
   "id": "7937d06b",
   "metadata": {
    "execution": {
     "iopub.execute_input": "2023-08-01T00:01:37.929267Z",
     "iopub.status.busy": "2023-08-01T00:01:37.928448Z",
     "iopub.status.idle": "2023-08-01T00:03:38.887167Z",
     "shell.execute_reply": "2023-08-01T00:03:38.885997Z"
    },
    "papermill": {
     "duration": 120.968817,
     "end_time": "2023-08-01T00:03:38.889623",
     "exception": false,
     "start_time": "2023-08-01T00:01:37.920806",
     "status": "completed"
    },
    "tags": []
   },
   "outputs": [
    {
     "name": "stderr",
     "output_type": "stream",
     "text": [
      "/opt/hostedtoolcache/Python/3.8.17/x64/lib/python3.8/site-packages/statsmodels/stats/multitest.py:186: RuntimeWarning: divide by zero encountered in log1p\n",
      "  np.log1p(-pvals))\n",
      "/home/runner/work/AllenSDK/AllenSDK/allensdk/brain_observatory/receptive_field_analysis/chisquarerf.py:352: RuntimeWarning: invalid value encountered in divide\n",
      "  chi = (residual_by_pixel ** 2) / expected_by_pixel\n",
      "/home/runner/work/AllenSDK/AllenSDK/allensdk/brain_observatory/receptive_field_analysis/chisquarerf.py:177: RuntimeWarning: divide by zero encountered in log10\n",
      "  return np.where(p_values == 0.0, max_NLL, -np.log10(p_values))\n"
     ]
    }
   ],
   "source": [
    "rf_data = rf.compute_receptive_field_with_postprocessing(data_set, \n",
    "                                                         cell_index, \n",
    "                                                         'locally_sparse_noise', \n",
    "                                                         alpha=0.5, \n",
    "                                                         number_of_shuffles=10000)"
   ]
  },
  {
   "cell_type": "markdown",
   "id": "14937abd",
   "metadata": {
    "papermill": {
     "duration": 0.006373,
     "end_time": "2023-08-01T00:03:38.902513",
     "exception": false,
     "start_time": "2023-08-01T00:03:38.896140",
     "status": "completed"
    },
    "tags": []
   },
   "source": [
    "## Chi^2 significance map\n",
    "Per-pixel chi-square tests identify cells that show non-uniform distributions of responses across pixels.  The `receptive_field_analysis.visualization` module has function to plot that significance as a heat map."
   ]
  },
  {
   "cell_type": "code",
   "execution_count": 6,
   "id": "9c9a4b3b",
   "metadata": {
    "execution": {
     "iopub.execute_input": "2023-08-01T00:03:38.917604Z",
     "iopub.status.busy": "2023-08-01T00:03:38.916798Z",
     "iopub.status.idle": "2023-08-01T00:03:39.064954Z",
     "shell.execute_reply": "2023-08-01T00:03:39.063996Z"
    },
    "papermill": {
     "duration": 0.158097,
     "end_time": "2023-08-01T00:03:39.066952",
     "exception": false,
     "start_time": "2023-08-01T00:03:38.908855",
     "status": "completed"
    },
    "tags": []
   },
   "outputs": [
    {
     "data": {
      "image/png": "[encoded data removed]",
      "text/plain": [
       "<Figure size 640x480 with 2 Axes>"
      ]
     },
     "metadata": {},
     "output_type": "display_data"
    }
   ],
   "source": [
    "rfvis.plot_chi_square_summary(rf_data)\n",
    "plt.show()"
   ]
  },
  {
   "cell_type": "markdown",
   "id": "1b5cf42b",
   "metadata": {
    "papermill": {
     "duration": 0.006418,
     "end_time": "2023-08-01T00:03:39.080104",
     "exception": false,
     "start_time": "2023-08-01T00:03:39.073686",
     "status": "completed"
    },
    "tags": []
   },
   "source": [
    "## Response-triggered stimulus field\n",
    "The response-triggered stimulus field shows, for a given pixel, how many trials contained a detected calcium event."
   ]
  },
  {
   "cell_type": "code",
   "execution_count": 7,
   "id": "0d44d0cb",
   "metadata": {
    "execution": {
     "iopub.execute_input": "2023-08-01T00:03:39.094277Z",
     "iopub.status.busy": "2023-08-01T00:03:39.093582Z",
     "iopub.status.idle": "2023-08-01T00:03:39.235996Z",
     "shell.execute_reply": "2023-08-01T00:03:39.234989Z"
    },
    "papermill": {
     "duration": 0.152884,
     "end_time": "2023-08-01T00:03:39.239059",
     "exception": false,
     "start_time": "2023-08-01T00:03:39.086175",
     "status": "completed"
    },
    "tags": []
   },
   "outputs": [
    {
     "data": {
      "image/png": "[encoded data removed]",
      "text/plain": [
       "<Figure size 640x480 with 3 Axes>"
      ]
     },
     "metadata": {},
     "output_type": "display_data"
    }
   ],
   "source": [
    "fig, (ax1, ax2) = plt.subplots(1,2)\n",
    "rfvis.plot_rts_summary(rf_data, ax1, ax2)"
   ]
  },
  {
   "cell_type": "markdown",
   "id": "c4257c66",
   "metadata": {
    "papermill": {
     "duration": 0.006788,
     "end_time": "2023-08-01T00:03:39.253299",
     "exception": false,
     "start_time": "2023-08-01T00:03:39.246511",
     "status": "completed"
    },
    "tags": []
   },
   "source": [
    "## Blurred response-triggered stimulus field\n",
    "The RTS field is convolved with a Gaussian to pool the contributions of neighboring stimulus pixels.  "
   ]
  },
  {
   "cell_type": "code",
   "execution_count": 8,
   "id": "bae6014b",
   "metadata": {
    "execution": {
     "iopub.execute_input": "2023-08-01T00:03:39.268069Z",
     "iopub.status.busy": "2023-08-01T00:03:39.267372Z",
     "iopub.status.idle": "2023-08-01T00:03:39.404265Z",
     "shell.execute_reply": "2023-08-01T00:03:39.403316Z"
    },
    "papermill": {
     "duration": 0.147125,
     "end_time": "2023-08-01T00:03:39.406755",
     "exception": false,
     "start_time": "2023-08-01T00:03:39.259630",
     "status": "completed"
    },
    "tags": []
   },
   "outputs": [
    {
     "data": {
      "image/png": "[encoded data removed]",
      "text/plain": [
       "<Figure size 640x480 with 3 Axes>"
      ]
     },
     "metadata": {},
     "output_type": "display_data"
    }
   ],
   "source": [
    "fig, (ax1, ax2) = plt.subplots(1,2)\n",
    "rfvis.plot_rts_blur_summary(rf_data, ax1, ax2)"
   ]
  },
  {
   "cell_type": "markdown",
   "id": "d19f0339",
   "metadata": {
    "papermill": {
     "duration": 0.006883,
     "end_time": "2023-08-01T00:03:39.420771",
     "exception": false,
     "start_time": "2023-08-01T00:03:39.413888",
     "status": "completed"
    },
    "tags": []
   },
   "source": [
    "## p value field\n",
    "\n",
    "Per-pixel p-values are estimated from the blurred RTS field to understand the significance of the response to each pixel.  "
   ]
  },
  {
   "cell_type": "code",
   "execution_count": 9,
   "id": "e3cdae32",
   "metadata": {
    "execution": {
     "iopub.execute_input": "2023-08-01T00:03:39.436377Z",
     "iopub.status.busy": "2023-08-01T00:03:39.435423Z",
     "iopub.status.idle": "2023-08-01T00:03:39.580284Z",
     "shell.execute_reply": "2023-08-01T00:03:39.579360Z"
    },
    "papermill": {
     "duration": 0.154993,
     "end_time": "2023-08-01T00:03:39.582451",
     "exception": false,
     "start_time": "2023-08-01T00:03:39.427458",
     "status": "completed"
    },
    "tags": []
   },
   "outputs": [
    {
     "data": {
      "image/png": "[encoded data removed]",
      "text/plain": [
       "<Figure size 640x480 with 3 Axes>"
      ]
     },
     "metadata": {},
     "output_type": "display_data"
    }
   ],
   "source": [
    "fig, (ax1, ax2) = plt.subplots(1,2)\n",
    "rfvis.plot_p_values(rf_data, ax1, ax2)"
   ]
  },
  {
   "cell_type": "markdown",
   "id": "ec71adfa",
   "metadata": {
    "papermill": {
     "duration": 0.007409,
     "end_time": "2023-08-01T00:03:39.597422",
     "exception": false,
     "start_time": "2023-08-01T00:03:39.590013",
     "status": "completed"
    },
    "tags": []
   },
   "source": [
    "## Significance mask\n",
    "\n",
    "The significance mask is p-value field after applying a binary threshold to remove insignificant pixels."
   ]
  },
  {
   "cell_type": "code",
   "execution_count": 10,
   "id": "026bd6a2",
   "metadata": {
    "execution": {
     "iopub.execute_input": "2023-08-01T00:03:39.613569Z",
     "iopub.status.busy": "2023-08-01T00:03:39.612694Z",
     "iopub.status.idle": "2023-08-01T00:03:39.757119Z",
     "shell.execute_reply": "2023-08-01T00:03:39.756196Z"
    },
    "papermill": {
     "duration": 0.155329,
     "end_time": "2023-08-01T00:03:39.759658",
     "exception": false,
     "start_time": "2023-08-01T00:03:39.604329",
     "status": "completed"
    },
    "tags": []
   },
   "outputs": [
    {
     "data": {
      "image/png": "[encoded data removed]",
      "text/plain": [
       "<Figure size 640x480 with 3 Axes>"
      ]
     },
     "metadata": {},
     "output_type": "display_data"
    }
   ],
   "source": [
    "fig, (ax1, ax2) = plt.subplots(1,2)\n",
    "rfvis.plot_mask(rf_data, ax1, ax2)"
   ]
  },
  {
   "cell_type": "markdown",
   "id": "abceecc4",
   "metadata": {
    "papermill": {
     "duration": 0.007833,
     "end_time": "2023-08-01T00:03:39.775966",
     "exception": false,
     "start_time": "2023-08-01T00:03:39.768133",
     "status": "completed"
    },
    "tags": []
   },
   "source": [
    "## Gaussian fit\n",
    "Each identified subunit of the on and off receptive fields are fit with a Gaussian in the `receptive_field_analysis.postprocessing` module."
   ]
  },
  {
   "cell_type": "code",
   "execution_count": 11,
   "id": "4273c2a7",
   "metadata": {
    "execution": {
     "iopub.execute_input": "2023-08-01T00:03:39.793045Z",
     "iopub.status.busy": "2023-08-01T00:03:39.792257Z",
     "iopub.status.idle": "2023-08-01T00:03:39.937042Z",
     "shell.execute_reply": "2023-08-01T00:03:39.936109Z"
    },
    "papermill": {
     "duration": 0.155417,
     "end_time": "2023-08-01T00:03:39.939045",
     "exception": false,
     "start_time": "2023-08-01T00:03:39.783628",
     "status": "completed"
    },
    "tags": []
   },
   "outputs": [
    {
     "data": {
      "image/png": "[encoded data removed]",
      "text/plain": [
       "<Figure size 640x480 with 3 Axes>"
      ]
     },
     "metadata": {},
     "output_type": "display_data"
    }
   ],
   "source": [
    "fig, (ax1, ax2) = plt.subplots(1,2)\n",
    "rfvis.plot_gaussian_fit(rf_data, ax1, ax2)"
   ]
  },
  {
   "cell_type": "markdown",
   "id": "3373bf7a",
   "metadata": {
    "papermill": {
     "duration": 0.008328,
     "end_time": "2023-08-01T00:03:39.957919",
     "exception": false,
     "start_time": "2023-08-01T00:03:39.949591",
     "status": "completed"
    },
    "tags": []
   },
   "source": [
    "## 4.65 vs 9.3 degree sparse noise stimuli\n",
    "Newer experiments switched from using a single locally sparse noise stimulus with 4.54 visual-degree pixels to two blocks of stimuli with different pixel sizes (a 4.65 degree block and an 9.3 degree block that are each half the length of the original 4.65-degree-only stimulus).  You can characterize the receptive fields from reponses to each stimulus block separately."
   ]
  },
  {
   "cell_type": "code",
   "execution_count": 12,
   "id": "de5244a4",
   "metadata": {
    "execution": {
     "iopub.execute_input": "2023-08-01T00:03:39.977039Z",
     "iopub.status.busy": "2023-08-01T00:03:39.975766Z",
     "iopub.status.idle": "2023-08-01T00:03:46.839816Z",
     "shell.execute_reply": "2023-08-01T00:03:46.838581Z"
    },
    "papermill": {
     "duration": 6.876306,
     "end_time": "2023-08-01T00:03:46.841935",
     "exception": false,
     "start_time": "2023-08-01T00:03:39.965629",
     "status": "completed"
    },
    "tags": []
   },
   "outputs": [
    {
     "name": "stdout",
     "output_type": "stream",
     "text": [
      "['locally_sparse_noise_4deg', 'locally_sparse_noise_8deg', 'natural_movie_one', 'natural_movie_two', 'spontaneous']\n",
      "['drifting_gratings', 'natural_movie_one', 'natural_movie_three', 'spontaneous']\n",
      "['static_gratings', 'natural_scenes', 'natural_movie_one', 'spontaneous']\n"
     ]
    }
   ],
   "source": [
    "cell_specimen_id = 662279767\n",
    "exps = boc.get_ophys_experiments(cell_specimen_ids=[cell_specimen_id])\n",
    "for exp in exps:\n",
    "    print(boc.get_ophys_experiment_stimuli(exp['id']))"
   ]
  },
  {
   "cell_type": "markdown",
   "id": "c92fe5a9",
   "metadata": {
    "papermill": {
     "duration": 0.008155,
     "end_time": "2023-08-01T00:03:46.858491",
     "exception": false,
     "start_time": "2023-08-01T00:03:46.850336",
     "status": "completed"
    },
    "tags": []
   },
   "source": [
    "This cell comes from an experiment that has the new 4.65 degree and 9.3 degree stimulus blocks.  Let's find the experiment that contains the 9.3 degree stimulus.\n",
    "\n",
    "**Note:** the NWB files refer to these stimuli as `locally_sparse_noise_4deg` and `locally_sparse_noise_8deg` respectively."
   ]
  },
  {
   "cell_type": "code",
   "execution_count": 13,
   "id": "0b384c9c",
   "metadata": {
    "execution": {
     "iopub.execute_input": "2023-08-01T00:03:46.876305Z",
     "iopub.status.busy": "2023-08-01T00:03:46.875621Z",
     "iopub.status.idle": "2023-08-01T00:04:28.324866Z",
     "shell.execute_reply": "2023-08-01T00:04:28.324071Z"
    },
    "papermill": {
     "duration": 41.466613,
     "end_time": "2023-08-01T00:04:28.332947",
     "exception": false,
     "start_time": "2023-08-01T00:03:46.866334",
     "status": "completed"
    },
    "tags": []
   },
   "outputs": [
    {
     "name": "stderr",
     "output_type": "stream",
     "text": [
      "2023-08-01 00:03:51,600 allensdk.api.api.retrieve_file_over_http INFO     Downloading URL: http://api.brain-map.org/api/v2/well_known_file_download/650500441\n"
     ]
    },
    {
     "name": "stdout",
     "output_type": "stream",
     "text": [
      "cell 662279767 has index 130\n"
     ]
    }
   ],
   "source": [
    "exps = boc.get_ophys_experiments(cell_specimen_ids=[cell_specimen_id],\n",
    "                                stimuli=['locally_sparse_noise_4deg'])\n",
    "data_set = boc.get_ophys_experiment_data(exps[0]['id'])\n",
    "cell_index = data_set.get_cell_specimen_indices([cell_specimen_id])[0]\n",
    "print(\"cell %d has index %d\" % (cell_specimen_id, cell_index))"
   ]
  },
  {
   "cell_type": "markdown",
   "id": "11762c08",
   "metadata": {
    "papermill": {
     "duration": 0.00841,
     "end_time": "2023-08-01T00:04:28.349747",
     "exception": false,
     "start_time": "2023-08-01T00:04:28.341337",
     "status": "completed"
    },
    "tags": []
   },
   "source": [
    "Now we can run the receptive field analysis as before and see what this looks like."
   ]
  },
  {
   "cell_type": "code",
   "execution_count": 14,
   "id": "062d0c06",
   "metadata": {
    "execution": {
     "iopub.execute_input": "2023-08-01T00:04:28.369329Z",
     "iopub.status.busy": "2023-08-01T00:04:28.368183Z",
     "iopub.status.idle": "2023-08-01T00:05:48.220022Z",
     "shell.execute_reply": "2023-08-01T00:05:48.218660Z"
    },
    "papermill": {
     "duration": 79.866862,
     "end_time": "2023-08-01T00:05:48.224825",
     "exception": false,
     "start_time": "2023-08-01T00:04:28.357963",
     "status": "completed"
    },
    "tags": []
   },
   "outputs": [
    {
     "name": "stderr",
     "output_type": "stream",
     "text": [
      "/opt/hostedtoolcache/Python/3.8.17/x64/lib/python3.8/site-packages/statsmodels/stats/multitest.py:186: RuntimeWarning: divide by zero encountered in log1p\n",
      "  np.log1p(-pvals))\n",
      "/home/runner/work/AllenSDK/AllenSDK/allensdk/brain_observatory/receptive_field_analysis/chisquarerf.py:352: RuntimeWarning: invalid value encountered in divide\n",
      "  chi = (residual_by_pixel ** 2) / expected_by_pixel\n",
      "/home/runner/work/AllenSDK/AllenSDK/allensdk/brain_observatory/receptive_field_analysis/chisquarerf.py:177: RuntimeWarning: divide by zero encountered in log10\n",
      "  return np.where(p_values == 0.0, max_NLL, -np.log10(p_values))\n"
     ]
    }
   ],
   "source": [
    "rf_data = rf.compute_receptive_field_with_postprocessing(data_set, \n",
    "                                                         cell_index, \n",
    "                                                         'locally_sparse_noise_4deg', \n",
    "                                                         alpha=0.5, \n",
    "                                                         number_of_shuffles=10000)"
   ]
  },
  {
   "cell_type": "code",
   "execution_count": 15,
   "id": "e2a6505c",
   "metadata": {
    "execution": {
     "iopub.execute_input": "2023-08-01T00:05:48.252594Z",
     "iopub.status.busy": "2023-08-01T00:05:48.252253Z",
     "iopub.status.idle": "2023-08-01T00:05:48.379074Z",
     "shell.execute_reply": "2023-08-01T00:05:48.378078Z"
    },
    "papermill": {
     "duration": 0.138602,
     "end_time": "2023-08-01T00:05:48.381039",
     "exception": false,
     "start_time": "2023-08-01T00:05:48.242437",
     "status": "completed"
    },
    "tags": []
   },
   "outputs": [
    {
     "data": {
      "image/png": "[encoded data removed]",
      "text/plain": [
       "<Figure size 640x480 with 2 Axes>"
      ]
     },
     "metadata": {},
     "output_type": "display_data"
    }
   ],
   "source": [
    "rfvis.plot_chi_square_summary(rf_data)\n",
    "plt.show()"
   ]
  },
  {
   "cell_type": "code",
   "execution_count": 16,
   "id": "1cbbdff4",
   "metadata": {
    "execution": {
     "iopub.execute_input": "2023-08-01T00:05:48.400673Z",
     "iopub.status.busy": "2023-08-01T00:05:48.400353Z",
     "iopub.status.idle": "2023-08-01T00:05:48.540424Z",
     "shell.execute_reply": "2023-08-01T00:05:48.539372Z"
    },
    "papermill": {
     "duration": 0.15185,
     "end_time": "2023-08-01T00:05:48.542382",
     "exception": false,
     "start_time": "2023-08-01T00:05:48.390532",
     "status": "completed"
    },
    "tags": []
   },
   "outputs": [
    {
     "data": {
      "image/png": "[encoded data removed]",
      "text/plain": [
       "<Figure size 640x480 with 3 Axes>"
      ]
     },
     "metadata": {},
     "output_type": "display_data"
    }
   ],
   "source": [
    "fig, (ax1, ax2) = plt.subplots(1,2)\n",
    "rfvis.plot_rts_summary(rf_data, ax1, ax2)"
   ]
  }
 ],
 "metadata": {
  "celltoolbar": "Tags",
  "kernelspec": {
   "display_name": "Python 3",
   "language": "python",
   "name": "python3"
  },
  "language_info": {
   "codemirror_mode": {
    "name": "ipython",
    "version": 3
   },
   "file_extension": ".py",
   "mimetype": "text/x-python",
   "name": "python",
   "nbconvert_exporter": "python",
   "pygments_lexer": "ipython3",
   "version": "3.8.17"
  },
  "papermill": {
   "default_parameters": {},
   "duration": 641.808703,
   "end_time": "2023-08-01T00:05:49.181758",
   "environment_variables": {},
   "exception": null,
   "input_path": "doc_template/examples_root/examples/nb/receptive_fields.ipynb",
   "output_path": "/tmp/tmpcmrdg4kg/scratch_nb.ipynb",
   "parameters": {
    "output_dir": "/tmp/tmpcmrdg4kg",
    "resources_dir": "/home/runner/work/AllenSDK/AllenSDK/allensdk/internal/notebooks/resources"
   },
   "start_time": "2023-07-31T23:55:07.373055",
   "version": "2.4.0"
  }
 },
 "nbformat": 4,
 "nbformat_minor": 5
}
