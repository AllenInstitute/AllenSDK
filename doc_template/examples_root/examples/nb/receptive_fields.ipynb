{
 "cells": [
  {
   "cell_type": "markdown",
   "id": "11de1dcd",
   "metadata": {
    "papermill": {
     "duration": 0.004395,
     "end_time": "2023-11-14T01:37:44.307563",
     "exception": false,
     "start_time": "2023-11-14T01:37:44.303168",
     "status": "completed"
    },
    "tags": []
   },
   "source": [
    "# Receptive Field Analysis\n",
    "This notebook demonstrates how to run the `brain_observatory.receptive_field_analysis` module.  This module uses a cell's responses to the locally sparse noise stimulus to characterize the spatial receptive field, including on and off subunits.  We highly recommend reading through the the stimulus analysis <a href='http://help.brain-map.org/display/observatory/Documentation]'>whitepaper</a> to understand the locally sparse noise stimulus and the analysis methodology.\n",
    "\n",
    "Download this file in .ipynb format <a href='receptive_fields.ipynb'>here</a>.\n",
    "\n",
    "First we import packages."
   ]
  },
  {
   "cell_type": "code",
   "execution_count": 1,
   "id": "d102e84d",
   "metadata": {
    "execution": {
     "iopub.execute_input": "2023-11-14T01:37:44.316516Z",
     "iopub.status.busy": "2023-11-14T01:37:44.316244Z",
     "iopub.status.idle": "2023-11-14T01:37:46.553763Z",
     "shell.execute_reply": "2023-11-14T01:37:46.553109Z"
    },
    "papermill": {
     "duration": 2.243958,
     "end_time": "2023-11-14T01:37:46.555500",
     "exception": false,
     "start_time": "2023-11-14T01:37:44.311542",
     "status": "completed"
    },
    "tags": []
   },
   "outputs": [],
   "source": [
    "from allensdk.core.brain_observatory_cache import BrainObservatoryCache\n",
    "import allensdk.brain_observatory.receptive_field_analysis.visualization as rfvis\n",
    "import allensdk.brain_observatory.receptive_field_analysis.receptive_field as rf\n",
    "import matplotlib.pyplot as plt\n",
    "from pathlib import Path\n",
    "%matplotlib inline"
   ]
  },
  {
   "cell_type": "markdown",
   "id": "fa15d47e",
   "metadata": {
    "papermill": {
     "duration": 0.003623,
     "end_time": "2023-11-14T01:37:46.563089",
     "exception": false,
     "start_time": "2023-11-14T01:37:46.559466",
     "status": "completed"
    },
    "tags": []
   },
   "source": [
    "Given a cell of interest, we now identify the experiment that contains the locally sparse noise stimulus and download its NWB file.  We also look in the NWB file to figure out the position/index of the cell that has the ID we're interested in."
   ]
  },
  {
   "cell_type": "code",
   "execution_count": 2,
   "id": "e80946fb",
   "metadata": {
    "execution": {
     "iopub.execute_input": "2023-11-14T01:37:46.571425Z",
     "iopub.status.busy": "2023-11-14T01:37:46.571045Z",
     "iopub.status.idle": "2023-11-14T01:37:46.574620Z",
     "shell.execute_reply": "2023-11-14T01:37:46.573930Z"
    },
    "papermill": {
     "duration": 0.009283,
     "end_time": "2023-11-14T01:37:46.576021",
     "exception": false,
     "start_time": "2023-11-14T01:37:46.566738",
     "status": "completed"
    },
    "tags": [
     "parameters"
    ]
   },
   "outputs": [],
   "source": [
    "output_dir = '.'"
   ]
  },
  {
   "cell_type": "code",
   "execution_count": 4,
   "id": "148f46b5",
   "metadata": {
    "execution": {
     "iopub.execute_input": "2023-11-14T01:37:46.596873Z",
     "iopub.status.busy": "2023-11-14T01:37:46.596381Z",
     "iopub.status.idle": "2023-11-14T01:42:22.329444Z",
     "shell.execute_reply": "2023-11-14T01:42:22.328808Z"
    },
    "papermill": {
     "duration": 275.738708,
     "end_time": "2023-11-14T01:42:22.330818",
     "exception": false,
     "start_time": "2023-11-14T01:37:46.592110",
     "status": "completed"
    },
    "tags": []
   },
   "outputs": [
    {
     "name": "stderr",
     "output_type": "stream",
     "text": [
      "2023-11-14 01:42:16,867 allensdk.api.api.retrieve_file_over_http INFO     Downloading URL: http://api.brain-map.org/api/v2/well_known_file_download/514409327\n"
     ]
    },
    {
     "name": "stdout",
     "output_type": "stream",
     "text": [
      "cell 587377366 has index 5\n"
     ]
    }
   ],
   "source": [
    "cell_specimen_id = 587377366\n",
    "\n",
    "boc =  BrainObservatoryCache(\n",
    "    manifest_file=str(Path(output_dir) / 'brain_observatory_manifest.json'))\n",
    "\n",
    "exps = boc.get_ophys_experiments(cell_specimen_ids=[cell_specimen_id],\n",
    "                                 stimuli=['locally_sparse_noise'])\n",
    "\n",
    "data_set = boc.get_ophys_experiment_data(exps[0]['id'])\n",
    "\n",
    "cell_index = data_set.get_cell_specimen_indices([cell_specimen_id])[0]\n",
    "\n",
    "print(\"cell %d has index %d\" % (cell_specimen_id, cell_index))"
   ]
  },
  {
   "cell_type": "markdown",
   "id": "805f3072",
   "metadata": {
    "papermill": {
     "duration": 0.003849,
     "end_time": "2023-11-14T01:42:22.338752",
     "exception": false,
     "start_time": "2023-11-14T01:42:22.334903",
     "status": "completed"
    },
    "tags": []
   },
   "source": [
    "## Compute receptive fields\n",
    "The following method in the `receptive_field_analysis` module will characterize on and off receptive fields and perform a per-pixel significance test."
   ]
  },
  {
   "cell_type": "code",
   "execution_count": 5,
   "id": "7937d06b",
   "metadata": {
    "execution": {
     "iopub.execute_input": "2023-11-14T01:42:22.347466Z",
     "iopub.status.busy": "2023-11-14T01:42:22.347087Z",
     "iopub.status.idle": "2023-11-14T01:43:27.367321Z",
     "shell.execute_reply": "2023-11-14T01:43:27.366518Z"
    },
    "papermill": {
     "duration": 65.026214,
     "end_time": "2023-11-14T01:43:27.368702",
     "exception": false,
     "start_time": "2023-11-14T01:42:22.342488",
     "status": "completed"
    },
    "tags": []
   },
   "outputs": [
    {
     "name": "stderr",
     "output_type": "stream",
     "text": [
      "/opt/hostedtoolcache/Python/3.8.18/x64/lib/python3.8/site-packages/statsmodels/stats/multitest.py:186: RuntimeWarning: divide by zero encountered in log1p\n",
      "  np.log1p(-pvals))\n",
      "/home/runner/work/AllenSDK/AllenSDK/allensdk/brain_observatory/receptive_field_analysis/chisquarerf.py:408: RuntimeWarning: invalid value encountered in divide\n",
      "  chi = (residual_by_pixel**2) / expected_by_pixel\n",
      "/home/runner/work/AllenSDK/AllenSDK/allensdk/brain_observatory/receptive_field_analysis/chisquarerf.py:199: RuntimeWarning: divide by zero encountered in log10\n",
      "  return np.where(p_values == 0.0, max_NLL, -np.log10(p_values))\n"
     ]
    }
   ],
   "source": [
    "rf_data = rf.compute_receptive_field_with_postprocessing(data_set, \n",
    "                                                         cell_index, \n",
    "                                                         'locally_sparse_noise', \n",
    "                                                         alpha=0.5, \n",
    "                                                         number_of_shuffles=10000)"
   ]
  },
  {
   "cell_type": "markdown",
   "id": "14937abd",
   "metadata": {
    "papermill": {
     "duration": 0.004004,
     "end_time": "2023-11-14T01:43:27.376955",
     "exception": false,
     "start_time": "2023-11-14T01:43:27.372951",
     "status": "completed"
    },
    "tags": []
   },
   "source": [
    "## Chi^2 significance map\n",
    "Per-pixel chi-square tests identify cells that show non-uniform distributions of responses across pixels.  The `receptive_field_analysis.visualization` module has function to plot that significance as a heat map."
   ]
  },
  {
   "cell_type": "code",
   "execution_count": 6,
   "id": "9c9a4b3b",
   "metadata": {
    "execution": {
     "iopub.execute_input": "2023-11-14T01:43:27.385957Z",
     "iopub.status.busy": "2023-11-14T01:43:27.385531Z",
     "iopub.status.idle": "2023-11-14T01:43:27.491787Z",
     "shell.execute_reply": "2023-11-14T01:43:27.491088Z"
    },
    "papermill": {
     "duration": 0.112662,
     "end_time": "2023-11-14T01:43:27.493553",
     "exception": false,
     "start_time": "2023-11-14T01:43:27.380891",
     "status": "completed"
    },
    "tags": []
   },
   "outputs": [
    {
     "data": {
      "image/png": "[encoded data removed]",
      "text/plain": [
       "<Figure size 640x480 with 2 Axes>"
      ]
     },
     "metadata": {},
     "output_type": "display_data"
    }
   ],
   "source": [
    "rfvis.plot_chi_square_summary(rf_data)\n",
    "plt.show()"
   ]
  },
  {
   "cell_type": "markdown",
   "id": "1b5cf42b",
   "metadata": {
    "papermill": {
     "duration": 0.006715,
     "end_time": "2023-11-14T01:43:27.507587",
     "exception": false,
     "start_time": "2023-11-14T01:43:27.500872",
     "status": "completed"
    },
    "tags": []
   },
   "source": [
    "## Response-triggered stimulus field\n",
    "The response-triggered stimulus field shows, for a given pixel, how many trials contained a detected calcium event."
   ]
  },
  {
   "cell_type": "code",
   "execution_count": 7,
   "id": "0d44d0cb",
   "metadata": {
    "execution": {
     "iopub.execute_input": "2023-11-14T01:43:27.522621Z",
     "iopub.status.busy": "2023-11-14T01:43:27.522131Z",
     "iopub.status.idle": "2023-11-14T01:43:27.650297Z",
     "shell.execute_reply": "2023-11-14T01:43:27.649615Z"
    },
    "papermill": {
     "duration": 0.137627,
     "end_time": "2023-11-14T01:43:27.652009",
     "exception": false,
     "start_time": "2023-11-14T01:43:27.514382",
     "status": "completed"
    },
    "tags": []
   },
   "outputs": [
    {
     "data": {
      "image/png": "[encoded data removed]",
      "text/plain": [
       "<Figure size 640x480 with 3 Axes>"
      ]
     },
     "metadata": {},
     "output_type": "display_data"
    }
   ],
   "source": [
    "fig, (ax1, ax2) = plt.subplots(1,2)\n",
    "rfvis.plot_rts_summary(rf_data, ax1, ax2)"
   ]
  },
  {
   "cell_type": "markdown",
   "id": "c4257c66",
   "metadata": {
    "papermill": {
     "duration": 0.00722,
     "end_time": "2023-11-14T01:43:27.666645",
     "exception": false,
     "start_time": "2023-11-14T01:43:27.659425",
     "status": "completed"
    },
    "tags": []
   },
   "source": [
    "## Blurred response-triggered stimulus field\n",
    "The RTS field is convolved with a Gaussian to pool the contributions of neighboring stimulus pixels.  "
   ]
  },
  {
   "cell_type": "code",
   "execution_count": 8,
   "id": "bae6014b",
   "metadata": {
    "execution": {
     "iopub.execute_input": "2023-11-14T01:43:27.682499Z",
     "iopub.status.busy": "2023-11-14T01:43:27.682072Z",
     "iopub.status.idle": "2023-11-14T01:43:27.811053Z",
     "shell.execute_reply": "2023-11-14T01:43:27.810392Z"
    },
    "papermill": {
     "duration": 0.139055,
     "end_time": "2023-11-14T01:43:27.812725",
     "exception": false,
     "start_time": "2023-11-14T01:43:27.673670",
     "status": "completed"
    },
    "tags": []
   },
   "outputs": [
    {
     "data": {
      "image/png": "[encoded data removed]",
      "text/plain": [
       "<Figure size 640x480 with 3 Axes>"
      ]
     },
     "metadata": {},
     "output_type": "display_data"
    }
   ],
   "source": [
    "fig, (ax1, ax2) = plt.subplots(1,2)\n",
    "rfvis.plot_rts_blur_summary(rf_data, ax1, ax2)"
   ]
  },
  {
   "cell_type": "markdown",
   "id": "d19f0339",
   "metadata": {
    "papermill": {
     "duration": 0.007312,
     "end_time": "2023-11-14T01:43:27.827733",
     "exception": false,
     "start_time": "2023-11-14T01:43:27.820421",
     "status": "completed"
    },
    "tags": []
   },
   "source": [
    "## p value field\n",
    "\n",
    "Per-pixel p-values are estimated from the blurred RTS field to understand the significance of the response to each pixel.  "
   ]
  },
  {
   "cell_type": "code",
   "execution_count": 9,
   "id": "e3cdae32",
   "metadata": {
    "execution": {
     "iopub.execute_input": "2023-11-14T01:43:27.843610Z",
     "iopub.status.busy": "2023-11-14T01:43:27.843186Z",
     "iopub.status.idle": "2023-11-14T01:43:27.976155Z",
     "shell.execute_reply": "2023-11-14T01:43:27.975332Z"
    },
    "papermill": {
     "duration": 0.142894,
     "end_time": "2023-11-14T01:43:27.977911",
     "exception": false,
     "start_time": "2023-11-14T01:43:27.835017",
     "status": "completed"
    },
    "tags": []
   },
   "outputs": [
    {
     "data": {
      "image/png": "[encoded data removed]",
      "text/plain": [
       "<Figure size 640x480 with 3 Axes>"
      ]
     },
     "metadata": {},
     "output_type": "display_data"
    }
   ],
   "source": [
    "fig, (ax1, ax2) = plt.subplots(1,2)\n",
    "rfvis.plot_p_values(rf_data, ax1, ax2)"
   ]
  },
  {
   "cell_type": "markdown",
   "id": "ec71adfa",
   "metadata": {
    "papermill": {
     "duration": 0.007459,
     "end_time": "2023-11-14T01:43:27.993262",
     "exception": false,
     "start_time": "2023-11-14T01:43:27.985803",
     "status": "completed"
    },
    "tags": []
   },
   "source": [
    "## Significance mask\n",
    "\n",
    "The significance mask is p-value field after applying a binary threshold to remove insignificant pixels."
   ]
  },
  {
   "cell_type": "code",
   "execution_count": 10,
   "id": "026bd6a2",
   "metadata": {
    "execution": {
     "iopub.execute_input": "2023-11-14T01:43:28.009597Z",
     "iopub.status.busy": "2023-11-14T01:43:28.009318Z",
     "iopub.status.idle": "2023-11-14T01:43:28.144357Z",
     "shell.execute_reply": "2023-11-14T01:43:28.143651Z"
    },
    "papermill": {
     "duration": 0.145467,
     "end_time": "2023-11-14T01:43:28.146266",
     "exception": false,
     "start_time": "2023-11-14T01:43:28.000799",
     "status": "completed"
    },
    "tags": []
   },
   "outputs": [
    {
     "data": {
      "image/png": "[encoded data removed]",
      "text/plain": [
       "<Figure size 640x480 with 3 Axes>"
      ]
     },
     "metadata": {},
     "output_type": "display_data"
    }
   ],
   "source": [
    "fig, (ax1, ax2) = plt.subplots(1,2)\n",
    "rfvis.plot_mask(rf_data, ax1, ax2)"
   ]
  },
  {
   "cell_type": "markdown",
   "id": "abceecc4",
   "metadata": {
    "papermill": {
     "duration": 0.00829,
     "end_time": "2023-11-14T01:43:28.162818",
     "exception": false,
     "start_time": "2023-11-14T01:43:28.154528",
     "status": "completed"
    },
    "tags": []
   },
   "source": [
    "## Gaussian fit\n",
    "Each identified subunit of the on and off receptive fields are fit with a Gaussian in the `receptive_field_analysis.postprocessing` module."
   ]
  },
  {
   "cell_type": "code",
   "execution_count": 11,
   "id": "4273c2a7",
   "metadata": {
    "execution": {
     "iopub.execute_input": "2023-11-14T01:43:28.180499Z",
     "iopub.status.busy": "2023-11-14T01:43:28.180220Z",
     "iopub.status.idle": "2023-11-14T01:43:28.310317Z",
     "shell.execute_reply": "2023-11-14T01:43:28.309615Z"
    },
    "papermill": {
     "duration": 0.141321,
     "end_time": "2023-11-14T01:43:28.312019",
     "exception": false,
     "start_time": "2023-11-14T01:43:28.170698",
     "status": "completed"
    },
    "tags": []
   },
   "outputs": [
    {
     "data": {
      "image/png": "[encoded data removed]",
      "text/plain": [
       "<Figure size 640x480 with 3 Axes>"
      ]
     },
     "metadata": {},
     "output_type": "display_data"
    }
   ],
   "source": [
    "fig, (ax1, ax2) = plt.subplots(1,2)\n",
    "rfvis.plot_gaussian_fit(rf_data, ax1, ax2)"
   ]
  },
  {
   "cell_type": "markdown",
   "id": "3373bf7a",
   "metadata": {
    "papermill": {
     "duration": 0.008341,
     "end_time": "2023-11-14T01:43:28.329172",
     "exception": false,
     "start_time": "2023-11-14T01:43:28.320831",
     "status": "completed"
    },
    "tags": []
   },
   "source": [
    "## 4.65 vs 9.3 degree sparse noise stimuli\n",
    "Newer experiments switched from using a single locally sparse noise stimulus with 4.54 visual-degree pixels to two blocks of stimuli with different pixel sizes (a 4.65 degree block and an 9.3 degree block that are each half the length of the original 4.65-degree-only stimulus).  You can characterize the receptive fields from reponses to each stimulus block separately."
   ]
  },
  {
   "cell_type": "code",
   "execution_count": 12,
   "id": "de5244a4",
   "metadata": {
    "execution": {
     "iopub.execute_input": "2023-11-14T01:43:28.347398Z",
     "iopub.status.busy": "2023-11-14T01:43:28.346706Z",
     "iopub.status.idle": "2023-11-14T01:43:32.096337Z",
     "shell.execute_reply": "2023-11-14T01:43:32.095656Z"
    },
    "papermill": {
     "duration": 3.760227,
     "end_time": "2023-11-14T01:43:32.097773",
     "exception": false,
     "start_time": "2023-11-14T01:43:28.337546",
     "status": "completed"
    },
    "tags": []
   },
   "outputs": [
    {
     "name": "stdout",
     "output_type": "stream",
     "text": [
      "['locally_sparse_noise_4deg', 'locally_sparse_noise_8deg', 'natural_movie_one', 'natural_movie_two', 'spontaneous']\n",
      "['drifting_gratings', 'natural_movie_one', 'natural_movie_three', 'spontaneous']\n",
      "['static_gratings', 'natural_scenes', 'natural_movie_one', 'spontaneous']\n"
     ]
    }
   ],
   "source": [
    "cell_specimen_id = 662279767\n",
    "exps = boc.get_ophys_experiments(cell_specimen_ids=[cell_specimen_id])\n",
    "for exp in exps:\n",
    "    print(boc.get_ophys_experiment_stimuli(exp['id']))"
   ]
  },
  {
   "cell_type": "markdown",
   "id": "c92fe5a9",
   "metadata": {
    "papermill": {
     "duration": 0.00599,
     "end_time": "2023-11-14T01:43:32.109299",
     "exception": false,
     "start_time": "2023-11-14T01:43:32.103309",
     "status": "completed"
    },
    "tags": []
   },
   "source": [
    "This cell comes from an experiment that has the new 4.65 degree and 9.3 degree stimulus blocks.  Let's find the experiment that contains the 9.3 degree stimulus.\n",
    "\n",
    "**Note:** the NWB files refer to these stimuli as `locally_sparse_noise_4deg` and `locally_sparse_noise_8deg` respectively."
   ]
  },
  {
   "cell_type": "code",
   "execution_count": 13,
   "id": "0b384c9c",
   "metadata": {
    "execution": {
     "iopub.execute_input": "2023-11-14T01:43:32.125618Z",
     "iopub.status.busy": "2023-11-14T01:43:32.125154Z",
     "iopub.status.idle": "2023-11-14T01:43:44.199342Z",
     "shell.execute_reply": "2023-11-14T01:43:44.198706Z"
    },
    "papermill": {
     "duration": 12.084044,
     "end_time": "2023-11-14T01:43:44.200810",
     "exception": false,
     "start_time": "2023-11-14T01:43:32.116766",
     "status": "completed"
    },
    "tags": []
   },
   "outputs": [
    {
     "name": "stderr",
     "output_type": "stream",
     "text": [
      "2023-11-14 01:43:34,720 allensdk.api.api.retrieve_file_over_http INFO     Downloading URL: http://api.brain-map.org/api/v2/well_known_file_download/650500441\n"
     ]
    },
    {
     "name": "stdout",
     "output_type": "stream",
     "text": [
      "cell 662279767 has index 130\n"
     ]
    }
   ],
   "source": [
    "exps = boc.get_ophys_experiments(cell_specimen_ids=[cell_specimen_id],\n",
    "                                stimuli=['locally_sparse_noise_4deg'])\n",
    "data_set = boc.get_ophys_experiment_data(exps[0]['id'])\n",
    "cell_index = data_set.get_cell_specimen_indices([cell_specimen_id])[0]\n",
    "print(\"cell %d has index %d\" % (cell_specimen_id, cell_index))"
   ]
  },
  {
   "cell_type": "markdown",
   "id": "11762c08",
   "metadata": {
    "papermill": {
     "duration": 0.005404,
     "end_time": "2023-11-14T01:43:44.211988",
     "exception": false,
     "start_time": "2023-11-14T01:43:44.206584",
     "status": "completed"
    },
    "tags": []
   },
   "source": [
    "Now we can run the receptive field analysis as before and see what this looks like."
   ]
  },
  {
   "cell_type": "code",
   "execution_count": 14,
   "id": "062d0c06",
   "metadata": {
    "execution": {
     "iopub.execute_input": "2023-11-14T01:43:44.223712Z",
     "iopub.status.busy": "2023-11-14T01:43:44.223430Z",
     "iopub.status.idle": "2023-11-14T01:44:26.218631Z",
     "shell.execute_reply": "2023-11-14T01:44:26.217868Z"
    },
    "papermill": {
     "duration": 42.002692,
     "end_time": "2023-11-14T01:44:26.219961",
     "exception": false,
     "start_time": "2023-11-14T01:43:44.217269",
     "status": "completed"
    },
    "tags": []
   },
   "outputs": [
    {
     "name": "stderr",
     "output_type": "stream",
     "text": [
      "/opt/hostedtoolcache/Python/3.8.18/x64/lib/python3.8/site-packages/statsmodels/stats/multitest.py:186: RuntimeWarning: divide by zero encountered in log1p\n",
      "  np.log1p(-pvals))\n",
      "/home/runner/work/AllenSDK/AllenSDK/allensdk/brain_observatory/receptive_field_analysis/chisquarerf.py:408: RuntimeWarning: invalid value encountered in divide\n",
      "  chi = (residual_by_pixel**2) / expected_by_pixel\n",
      "/home/runner/work/AllenSDK/AllenSDK/allensdk/brain_observatory/receptive_field_analysis/chisquarerf.py:199: RuntimeWarning: divide by zero encountered in log10\n",
      "  return np.where(p_values == 0.0, max_NLL, -np.log10(p_values))\n"
     ]
    }
   ],
   "source": [
    "rf_data = rf.compute_receptive_field_with_postprocessing(data_set, \n",
    "                                                         cell_index, \n",
    "                                                         'locally_sparse_noise_4deg', \n",
    "                                                         alpha=0.5, \n",
    "                                                         number_of_shuffles=10000)"
   ]
  },
  {
   "cell_type": "code",
   "execution_count": 15,
   "id": "e2a6505c",
   "metadata": {
    "execution": {
     "iopub.execute_input": "2023-11-14T01:44:26.232394Z",
     "iopub.status.busy": "2023-11-14T01:44:26.231946Z",
     "iopub.status.idle": "2023-11-14T01:44:26.327430Z",
     "shell.execute_reply": "2023-11-14T01:44:26.326760Z"
    },
    "papermill": {
     "duration": 0.103482,
     "end_time": "2023-11-14T01:44:26.329206",
     "exception": false,
     "start_time": "2023-11-14T01:44:26.225724",
     "status": "completed"
    },
    "tags": []
   },
   "outputs": [
    {
     "data": {
      "image/png": "[encoded data removed]",
      "text/plain": [
       "<Figure size 640x480 with 2 Axes>"
      ]
     },
     "metadata": {},
     "output_type": "display_data"
    }
   ],
   "source": [
    "rfvis.plot_chi_square_summary(rf_data)\n",
    "plt.show()"
   ]
  },
  {
   "cell_type": "code",
   "execution_count": 16,
   "id": "1cbbdff4",
   "metadata": {
    "execution": {
     "iopub.execute_input": "2023-11-14T01:44:26.349849Z",
     "iopub.status.busy": "2023-11-14T01:44:26.349446Z",
     "iopub.status.idle": "2023-11-14T01:44:26.478735Z",
     "shell.execute_reply": "2023-11-14T01:44:26.478063Z"
    },
    "papermill": {
     "duration": 0.141581,
     "end_time": "2023-11-14T01:44:26.480432",
     "exception": false,
     "start_time": "2023-11-14T01:44:26.338851",
     "status": "completed"
    },
    "tags": []
   },
   "outputs": [
    {
     "data": {
      "image/png": "[encoded data removed]",
      "text/plain": [
       "<Figure size 640x480 with 3 Axes>"
      ]
     },
     "metadata": {},
     "output_type": "display_data"
    }
   ],
   "source": [
    "fig, (ax1, ax2) = plt.subplots(1,2)\n",
    "rfvis.plot_rts_summary(rf_data, ax1, ax2)"
   ]
  }
 ],
 "metadata": {
  "celltoolbar": "Tags",
  "kernelspec": {
   "display_name": "Python 3",
   "language": "python",
   "name": "python3"
  },
  "language_info": {
   "codemirror_mode": {
    "name": "ipython",
    "version": 3
   },
   "file_extension": ".py",
   "mimetype": "text/x-python",
   "name": "python",
   "nbconvert_exporter": "python",
   "pygments_lexer": "ipython3",
   "version": "3.8.18"
  },
  "papermill": {
   "default_parameters": {},
   "duration": 403.361284,
   "end_time": "2023-11-14T01:44:26.908994",
   "environment_variables": {},
   "exception": null,
   "input_path": "doc_template/examples_root/examples/nb/receptive_fields.ipynb",
   "output_path": "/tmp/tmp9gokl1p_/scratch_nb.ipynb",
   "parameters": {
    "output_dir": "/tmp/tmp9gokl1p_",
    "resources_dir": "/home/runner/work/AllenSDK/AllenSDK/allensdk/internal/notebooks/resources"
   },
   "start_time": "2023-11-14T01:37:43.547710",
   "version": "2.4.0"
  }
 },
 "nbformat": 4,
 "nbformat_minor": 5
}
