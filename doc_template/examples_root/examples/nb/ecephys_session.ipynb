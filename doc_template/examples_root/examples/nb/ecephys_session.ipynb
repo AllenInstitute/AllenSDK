{
 "cells": [
  {
   "cell_type": "markdown",
   "metadata": {},
   "source": [
    "# Extracellular Electrophysiology Data\n",
    "\n",
    "At the Allen Institute for Brain Science we carry out in vivo extracellular electrophysiology (ecephys) experiments  in awake animals using high-density Neuropixels probes. The data from these experiments are organized into *sessions*, where each session is a distinct continuous recording period. During a session we collect:\n",
    "\n",
    "- spike times and characteristics (such as mean waveforms) from up to 6 neuropixels probes\n",
    "- LFP data (TODO: not in yet!)\n",
    "- behavioral data, such as running speed and eye position\n",
    "- visual stimuli which were presented during the session\n",
    "- cell-type specific optogenetic stimuli that were applied during the session\n",
    "\n",
    "The AllenSDK contains code for accessing across-session (project-level) metadata as well as code for accessing detailed within-session data. The standard workflow is to use project-level tools, such as `EcephysProjectCache` to identify and access sessions of interest, then delve into those sessions' data using `EcephysSession`.\n",
    "\n",
    "\n",
    "Project-level\n",
    "------------------\n",
    "The `EcephysProjectCache` class in `allensdk.brain_observatory.ecephys.ecephys_project_cache` accesses and stores data pertaining to many sessions. You can use this class to run queries that span all collected sessions and to download data for individual sessions.\n",
    "* <a href='#Obtaining-an-EcephysProjectCache'>Obtaining an `EcephysProjectCache`</a>\n",
    "* <a href='#Querying-sessions'>Querying sessions</a>\n",
    "* <a href='#Querying-units'>Querying units</a>\n",
    "\n",
    "\n",
    "\n",
    "Session-level\n",
    "-------------------\n",
    "The `EcephysSession` class in `allensdk.brain_observatory.ecephys.ecephys_session` provides an interface to all of the data for a single session, aligned to a common clock. This notebook will show you how to use the `EcephysSession` class to extract these data.\n",
    "* <a href='#Obtaining-an-EcephysSession'>Obtaining an `EcephysSession`</a>\n",
    "* <a href='#Stimulus-presentations'>Stimulus information</a>\n",
    "* <a href='#Spike-data'>Spike data</a>\n",
    "* <a href='#Spike-histograms'>Spike histograms</a>\n",
    "* <a href='#Waveforms'>Unitwise mean waveforms</a>\n",
    "* <a href='#Suggested-excercises'>Suggested excercises</a>"
   ]
  },
  {
   "cell_type": "code",
   "execution_count": 1,
   "metadata": {},
   "outputs": [],
   "source": [
    "# first we need a bit of import boilerplate\n",
    "import os\n",
    "\n",
    "import numpy as np\n",
    "import xarray as xr\n",
    "import pandas as pd\n",
    "import matplotlib.pyplot as plt\n",
    "\n",
    "from allensdk.brain_observatory.ecephys.ecephys_project_cache import EcephysProjectCache\n",
    "from allensdk.brain_observatory.ecephys.ecephys_session import EcephysSession, removed_unused_stimulus_presentation_columns\n",
    "from allensdk.brain_observatory.ecephys.visualization import plot_mean_waveforms, plot_spike_counts, raster_plot\n",
    "from allensdk.brain_observatory.visualization import plot_running_speed"
   ]
  },
  {
   "cell_type": "markdown",
   "metadata": {},
   "source": [
    "### Obtaining an `EcephysProjectCache`\n",
    "\n",
    "In order to create an `EcephysProjectCache` object, you need to specify two things:\n",
    "1. A remote source for the object to fetch data from. We will instantiate our cache using `EcephysProjectCache.from_warehouse()` to point the cache at the Allen Institute's public web API.\n",
    "2. A path to a manifest json, which designates filesystem locations for downloaded data. The cache will try to read data from these locations before going to download those data from its remote source, preventing repeated downloads."
   ]
  },
  {
   "cell_type": "code",
   "execution_count": 2,
   "metadata": {},
   "outputs": [],
   "source": [
    "manifest_path = os.path.join('example_ecephys_project_cache', 'manifest.json')\n",
    "\n",
    "cache = EcephysProjectCache.from_warehouse(\n",
    "    manifest=manifest_path, \n",
    "    warehouse_kwargs={\"host\": \"10.128.108.26:3000\"} # TODO: swap to production\n",
    ")"
   ]
  },
  {
   "cell_type": "markdown",
   "metadata": {},
   "source": [
    "### Querying across sessions\n",
    "\n",
    "Using your `EcephysProjectCache`, you can download a table listing metadata for all sessions."
   ]
  },
  {
   "cell_type": "code",
   "execution_count": 3,
   "metadata": {},
   "outputs": [
    {
     "data": {
      "text/html": [
       "<div>\n",
       "<style scoped>\n",
       "    .dataframe tbody tr th:only-of-type {\n",
       "        vertical-align: middle;\n",
       "    }\n",
       "\n",
       "    .dataframe tbody tr th {\n",
       "        vertical-align: top;\n",
       "    }\n",
       "\n",
       "    .dataframe thead th {\n",
       "        text-align: right;\n",
       "    }\n",
       "</style>\n",
       "<table border=\"1\" class=\"dataframe\">\n",
       "  <thead>\n",
       "    <tr style=\"text-align: right;\">\n",
       "      <th></th>\n",
       "      <th>Unnamed: 0</th>\n",
       "      <th>date_of_acquisition</th>\n",
       "      <th>fail_eye_tracking</th>\n",
       "      <th>isi_experiment_id</th>\n",
       "      <th>published_at</th>\n",
       "      <th>specimen_id</th>\n",
       "      <th>stimulus_name</th>\n",
       "    </tr>\n",
       "    <tr>\n",
       "      <th>id</th>\n",
       "      <th></th>\n",
       "      <th></th>\n",
       "      <th></th>\n",
       "      <th></th>\n",
       "      <th></th>\n",
       "      <th></th>\n",
       "      <th></th>\n",
       "    </tr>\n",
       "  </thead>\n",
       "  <tbody>\n",
       "    <tr>\n",
       "      <th>755434585</th>\n",
       "      <td>0</td>\n",
       "      <td>2019-05-28T00:00:00Z</td>\n",
       "      <td>True</td>\n",
       "      <td>741390730</td>\n",
       "      <td>2018-10-26T19:58:07Z</td>\n",
       "      <td>730760270</td>\n",
       "      <td>NaN</td>\n",
       "    </tr>\n",
       "    <tr>\n",
       "      <th>752731680</th>\n",
       "      <td>1</td>\n",
       "      <td>2019-05-28T00:00:00Z</td>\n",
       "      <td>True</td>\n",
       "      <td>738096796</td>\n",
       "      <td>2018-09-25T19:07:25Z</td>\n",
       "      <td>726136718</td>\n",
       "      <td>NaN</td>\n",
       "    </tr>\n",
       "    <tr>\n",
       "      <th>751348571</th>\n",
       "      <td>2</td>\n",
       "      <td>2019-05-28T00:00:00Z</td>\n",
       "      <td>True</td>\n",
       "      <td>740503954</td>\n",
       "      <td>2018-09-25T20:40:29Z</td>\n",
       "      <td>732548380</td>\n",
       "      <td>NaN</td>\n",
       "    </tr>\n",
       "    <tr>\n",
       "      <th>761418226</th>\n",
       "      <td>3</td>\n",
       "      <td>2019-05-28T00:00:00Z</td>\n",
       "      <td>True</td>\n",
       "      <td>752495922</td>\n",
       "      <td>2018-10-26T07:48:22Z</td>\n",
       "      <td>742714475</td>\n",
       "      <td>NaN</td>\n",
       "    </tr>\n",
       "    <tr>\n",
       "      <th>757216464</th>\n",
       "      <td>4</td>\n",
       "      <td>2019-05-28T00:00:00Z</td>\n",
       "      <td>True</td>\n",
       "      <td>741390722</td>\n",
       "      <td>2018-10-26T19:55:34Z</td>\n",
       "      <td>733457989</td>\n",
       "      <td>NaN</td>\n",
       "    </tr>\n",
       "  </tbody>\n",
       "</table>\n",
       "</div>"
      ],
      "text/plain": [
       "           Unnamed: 0   date_of_acquisition  fail_eye_tracking  \\\n",
       "id                                                               \n",
       "755434585           0  2019-05-28T00:00:00Z               True   \n",
       "752731680           1  2019-05-28T00:00:00Z               True   \n",
       "751348571           2  2019-05-28T00:00:00Z               True   \n",
       "761418226           3  2019-05-28T00:00:00Z               True   \n",
       "757216464           4  2019-05-28T00:00:00Z               True   \n",
       "\n",
       "           isi_experiment_id          published_at  specimen_id  stimulus_name  \n",
       "id                                                                              \n",
       "755434585          741390730  2018-10-26T19:58:07Z    730760270            NaN  \n",
       "752731680          738096796  2018-09-25T19:07:25Z    726136718            NaN  \n",
       "751348571          740503954  2018-09-25T20:40:29Z    732548380            NaN  \n",
       "761418226          752495922  2018-10-26T07:48:22Z    742714475            NaN  \n",
       "757216464          741390722  2018-10-26T19:55:34Z    733457989            NaN  "
      ]
     },
     "execution_count": 3,
     "metadata": {},
     "output_type": "execute_result"
    }
   ],
   "source": [
    "cache.get_sessions().head()"
   ]
  },
  {
   "cell_type": "code",
   "execution_count": 4,
   "metadata": {},
   "outputs": [
    {
     "data": {
      "text/html": [
       "<div>\n",
       "<style scoped>\n",
       "    .dataframe tbody tr th:only-of-type {\n",
       "        vertical-align: middle;\n",
       "    }\n",
       "\n",
       "    .dataframe tbody tr th {\n",
       "        vertical-align: top;\n",
       "    }\n",
       "\n",
       "    .dataframe thead th {\n",
       "        text-align: right;\n",
       "    }\n",
       "</style>\n",
       "<table border=\"1\" class=\"dataframe\">\n",
       "  <thead>\n",
       "    <tr style=\"text-align: right;\">\n",
       "      <th></th>\n",
       "      <th>Unnamed: 0</th>\n",
       "      <th>ecephys_session_id</th>\n",
       "      <th>lfp_sampling_rate</th>\n",
       "      <th>name</th>\n",
       "      <th>sampling_rate</th>\n",
       "    </tr>\n",
       "    <tr>\n",
       "      <th>id</th>\n",
       "      <th></th>\n",
       "      <th></th>\n",
       "      <th></th>\n",
       "      <th></th>\n",
       "      <th></th>\n",
       "    </tr>\n",
       "  </thead>\n",
       "  <tbody>\n",
       "    <tr>\n",
       "      <th>805579741</th>\n",
       "      <td>0</td>\n",
       "      <td>797828357</td>\n",
       "      <td>2499.999594</td>\n",
       "      <td>probeC</td>\n",
       "      <td>29999.995132</td>\n",
       "    </tr>\n",
       "    <tr>\n",
       "      <th>792602660</th>\n",
       "      <td>1</td>\n",
       "      <td>774875821</td>\n",
       "      <td>2500.002720</td>\n",
       "      <td>probeF</td>\n",
       "      <td>30000.032642</td>\n",
       "    </tr>\n",
       "    <tr>\n",
       "      <th>792602658</th>\n",
       "      <td>2</td>\n",
       "      <td>774875821</td>\n",
       "      <td>2499.999402</td>\n",
       "      <td>probeE</td>\n",
       "      <td>29999.992820</td>\n",
       "    </tr>\n",
       "    <tr>\n",
       "      <th>768908589</th>\n",
       "      <td>3</td>\n",
       "      <td>761418226</td>\n",
       "      <td>2499.999736</td>\n",
       "      <td>probeE</td>\n",
       "      <td>29999.996830</td>\n",
       "    </tr>\n",
       "    <tr>\n",
       "      <th>757935515</th>\n",
       "      <td>4</td>\n",
       "      <td>752731680</td>\n",
       "      <td>2499.999794</td>\n",
       "      <td>probeC</td>\n",
       "      <td>29999.997523</td>\n",
       "    </tr>\n",
       "  </tbody>\n",
       "</table>\n",
       "</div>"
      ],
      "text/plain": [
       "           Unnamed: 0  ecephys_session_id  lfp_sampling_rate    name  \\\n",
       "id                                                                     \n",
       "805579741           0           797828357        2499.999594  probeC   \n",
       "792602660           1           774875821        2500.002720  probeF   \n",
       "792602658           2           774875821        2499.999402  probeE   \n",
       "768908589           3           761418226        2499.999736  probeE   \n",
       "757935515           4           752731680        2499.999794  probeC   \n",
       "\n",
       "           sampling_rate  \n",
       "id                        \n",
       "805579741   29999.995132  \n",
       "792602660   30000.032642  \n",
       "792602658   29999.992820  \n",
       "768908589   29999.996830  \n",
       "757935515   29999.997523  "
      ]
     },
     "execution_count": 4,
     "metadata": {},
     "output_type": "execute_result"
    }
   ],
   "source": [
    "cache.get_probes().head()"
   ]
  },
  {
   "cell_type": "code",
   "execution_count": 5,
   "metadata": {},
   "outputs": [
    {
     "data": {
      "text/html": [
       "<div>\n",
       "<style scoped>\n",
       "    .dataframe tbody tr th:only-of-type {\n",
       "        vertical-align: middle;\n",
       "    }\n",
       "\n",
       "    .dataframe tbody tr th {\n",
       "        vertical-align: top;\n",
       "    }\n",
       "\n",
       "    .dataframe thead th {\n",
       "        text-align: right;\n",
       "    }\n",
       "</style>\n",
       "<table border=\"1\" class=\"dataframe\">\n",
       "  <thead>\n",
       "    <tr style=\"text-align: right;\">\n",
       "      <th></th>\n",
       "      <th>Unnamed: 0</th>\n",
       "      <th>ecephys_session_id</th>\n",
       "      <th>lfp_sampling_rate</th>\n",
       "      <th>name</th>\n",
       "      <th>sampling_rate</th>\n",
       "    </tr>\n",
       "    <tr>\n",
       "      <th>id</th>\n",
       "      <th></th>\n",
       "      <th></th>\n",
       "      <th></th>\n",
       "      <th></th>\n",
       "      <th></th>\n",
       "    </tr>\n",
       "  </thead>\n",
       "  <tbody>\n",
       "    <tr>\n",
       "      <th>805579741</th>\n",
       "      <td>0</td>\n",
       "      <td>797828357</td>\n",
       "      <td>2499.999594</td>\n",
       "      <td>probeC</td>\n",
       "      <td>29999.995132</td>\n",
       "    </tr>\n",
       "    <tr>\n",
       "      <th>792602660</th>\n",
       "      <td>1</td>\n",
       "      <td>774875821</td>\n",
       "      <td>2500.002720</td>\n",
       "      <td>probeF</td>\n",
       "      <td>30000.032642</td>\n",
       "    </tr>\n",
       "    <tr>\n",
       "      <th>792602658</th>\n",
       "      <td>2</td>\n",
       "      <td>774875821</td>\n",
       "      <td>2499.999402</td>\n",
       "      <td>probeE</td>\n",
       "      <td>29999.992820</td>\n",
       "    </tr>\n",
       "    <tr>\n",
       "      <th>768908589</th>\n",
       "      <td>3</td>\n",
       "      <td>761418226</td>\n",
       "      <td>2499.999736</td>\n",
       "      <td>probeE</td>\n",
       "      <td>29999.996830</td>\n",
       "    </tr>\n",
       "    <tr>\n",
       "      <th>757935515</th>\n",
       "      <td>4</td>\n",
       "      <td>752731680</td>\n",
       "      <td>2499.999794</td>\n",
       "      <td>probeC</td>\n",
       "      <td>29999.997523</td>\n",
       "    </tr>\n",
       "  </tbody>\n",
       "</table>\n",
       "</div>"
      ],
      "text/plain": [
       "           Unnamed: 0  ecephys_session_id  lfp_sampling_rate    name  \\\n",
       "id                                                                     \n",
       "805579741           0           797828357        2499.999594  probeC   \n",
       "792602660           1           774875821        2500.002720  probeF   \n",
       "792602658           2           774875821        2499.999402  probeE   \n",
       "768908589           3           761418226        2499.999736  probeE   \n",
       "757935515           4           752731680        2499.999794  probeC   \n",
       "\n",
       "           sampling_rate  \n",
       "id                        \n",
       "805579741   29999.995132  \n",
       "792602660   30000.032642  \n",
       "792602658   29999.992820  \n",
       "768908589   29999.996830  \n",
       "757935515   29999.997523  "
      ]
     },
     "execution_count": 5,
     "metadata": {},
     "output_type": "execute_result"
    }
   ],
   "source": [
    "cache.get_channels().head()"
   ]
  },
  {
   "cell_type": "markdown",
   "metadata": {},
   "source": [
    "### Querying across units\n",
    "\n",
    "Likewise, you can obtain a table listing each sorted unit, as well as associated metadata."
   ]
  },
  {
   "cell_type": "code",
   "execution_count": 6,
   "metadata": {},
   "outputs": [
    {
     "data": {
      "text/html": [
       "<div>\n",
       "<style scoped>\n",
       "    .dataframe tbody tr th:only-of-type {\n",
       "        vertical-align: middle;\n",
       "    }\n",
       "\n",
       "    .dataframe tbody tr th {\n",
       "        vertical-align: top;\n",
       "    }\n",
       "\n",
       "    .dataframe thead th {\n",
       "        text-align: right;\n",
       "    }\n",
       "</style>\n",
       "<table border=\"1\" class=\"dataframe\">\n",
       "  <thead>\n",
       "    <tr style=\"text-align: right;\">\n",
       "      <th></th>\n",
       "      <th>Unnamed: 0</th>\n",
       "      <th>ecephys_session_id</th>\n",
       "      <th>lfp_sampling_rate</th>\n",
       "      <th>name</th>\n",
       "      <th>sampling_rate</th>\n",
       "    </tr>\n",
       "    <tr>\n",
       "      <th>id</th>\n",
       "      <th></th>\n",
       "      <th></th>\n",
       "      <th></th>\n",
       "      <th></th>\n",
       "      <th></th>\n",
       "    </tr>\n",
       "  </thead>\n",
       "  <tbody>\n",
       "    <tr>\n",
       "      <th>805579741</th>\n",
       "      <td>0</td>\n",
       "      <td>797828357</td>\n",
       "      <td>2499.999594</td>\n",
       "      <td>probeC</td>\n",
       "      <td>29999.995132</td>\n",
       "    </tr>\n",
       "    <tr>\n",
       "      <th>792602660</th>\n",
       "      <td>1</td>\n",
       "      <td>774875821</td>\n",
       "      <td>2500.002720</td>\n",
       "      <td>probeF</td>\n",
       "      <td>30000.032642</td>\n",
       "    </tr>\n",
       "    <tr>\n",
       "      <th>792602658</th>\n",
       "      <td>2</td>\n",
       "      <td>774875821</td>\n",
       "      <td>2499.999402</td>\n",
       "      <td>probeE</td>\n",
       "      <td>29999.992820</td>\n",
       "    </tr>\n",
       "    <tr>\n",
       "      <th>768908589</th>\n",
       "      <td>3</td>\n",
       "      <td>761418226</td>\n",
       "      <td>2499.999736</td>\n",
       "      <td>probeE</td>\n",
       "      <td>29999.996830</td>\n",
       "    </tr>\n",
       "    <tr>\n",
       "      <th>757935515</th>\n",
       "      <td>4</td>\n",
       "      <td>752731680</td>\n",
       "      <td>2499.999794</td>\n",
       "      <td>probeC</td>\n",
       "      <td>29999.997523</td>\n",
       "    </tr>\n",
       "  </tbody>\n",
       "</table>\n",
       "</div>"
      ],
      "text/plain": [
       "           Unnamed: 0  ecephys_session_id  lfp_sampling_rate    name  \\\n",
       "id                                                                     \n",
       "805579741           0           797828357        2499.999594  probeC   \n",
       "792602660           1           774875821        2500.002720  probeF   \n",
       "792602658           2           774875821        2499.999402  probeE   \n",
       "768908589           3           761418226        2499.999736  probeE   \n",
       "757935515           4           752731680        2499.999794  probeC   \n",
       "\n",
       "           sampling_rate  \n",
       "id                        \n",
       "805579741   29999.995132  \n",
       "792602660   30000.032642  \n",
       "792602658   29999.992820  \n",
       "768908589   29999.996830  \n",
       "757935515   29999.997523  "
      ]
     },
     "execution_count": 6,
     "metadata": {},
     "output_type": "execute_result"
    }
   ],
   "source": [
    "units = cache.get_units()\n",
    "units.head()"
   ]
  },
  {
   "cell_type": "code",
   "execution_count": 7,
   "metadata": {},
   "outputs": [
    {
     "name": "stdout",
     "output_type": "stream",
     "text": [
      "149\n"
     ]
    }
   ],
   "source": [
    "# There are quite a few of these\n",
    "print(units.shape[0])"
   ]
  },
  {
   "cell_type": "markdown",
   "metadata": {},
   "source": [
    "### Obtaining an `EcephysSession`\n",
    "\n",
    "We package each session's data into a Neurodata Without Borders 2.0 (NWB) file. Calling `get_session_data` on your `EcephysProjectCache` will download such a file and return an `EcephysSession` object.\n",
    "\n",
    "`EcephysSession` objects contain methods and properties that access the data within an ecephys NWB file and cache it in memory."
   ]
  },
  {
   "cell_type": "code",
   "execution_count": 8,
   "metadata": {},
   "outputs": [],
   "source": [
    "session_id = 797828357 # for example\n",
    "session = cache.get_session_data(session_id)"
   ]
  },
  {
   "cell_type": "markdown",
   "metadata": {},
   "source": [
    "We'll now jump in to accessing our session's data. If you ever want a complete documented list of the attributes and methods defined on `EcephysSession`, you can run `help(EcephysSession)` (or in a jupyter notebook: `EcephysSession?`)."
   ]
  },
  {
   "cell_type": "markdown",
   "metadata": {},
   "source": [
    "### Sorted units\n",
    "\n",
    "Units are putative neurons, clustered from raw voltage traces using Kilosort 2. Each unit is associated with a single *peak channel* on a single probe, though its spikes might be picked up with some attenuation on multiple nearby channels. Each unit is assigned a unique integer identifier (\"unit_id\") which can be used to look up its  spike times and its mean waveform.\n",
    "\n",
    "The units for a session are recorded in an attribute called, fittingly, `units`. This is a `pandas.DataFrame` whose index is the unit id and whose columns contain summary information about the unit, its peak channel, and its associated probe."
   ]
  },
  {
   "cell_type": "code",
   "execution_count": null,
   "metadata": {
    "scrolled": false
   },
   "outputs": [
    {
     "data": {
      "text/html": [
       "<div>\n",
       "<style scoped>\n",
       "    .dataframe tbody tr th:only-of-type {\n",
       "        vertical-align: middle;\n",
       "    }\n",
       "\n",
       "    .dataframe tbody tr th {\n",
       "        vertical-align: top;\n",
       "    }\n",
       "\n",
       "    .dataframe thead th {\n",
       "        text-align: right;\n",
       "    }\n",
       "</style>\n",
       "<table border=\"1\" class=\"dataframe\">\n",
       "  <thead>\n",
       "    <tr style=\"text-align: right;\">\n",
       "      <th></th>\n",
       "      <th>firing_rate</th>\n",
       "      <th>isi_violations</th>\n",
       "      <th>peak_channel_id</th>\n",
       "      <th>snr</th>\n",
       "      <th>channel_local_index</th>\n",
       "      <th>structure_acronym</th>\n",
       "      <th>structure_id</th>\n",
       "      <th>probe_horizontal_position</th>\n",
       "      <th>probe_id</th>\n",
       "      <th>probe_vertical_position</th>\n",
       "      <th>probe_description</th>\n",
       "      <th>location</th>\n",
       "    </tr>\n",
       "    <tr>\n",
       "      <th>unit_id</th>\n",
       "      <th></th>\n",
       "      <th></th>\n",
       "      <th></th>\n",
       "      <th></th>\n",
       "      <th></th>\n",
       "      <th></th>\n",
       "      <th></th>\n",
       "      <th></th>\n",
       "      <th></th>\n",
       "      <th></th>\n",
       "      <th></th>\n",
       "      <th></th>\n",
       "    </tr>\n",
       "  </thead>\n",
       "  <tbody>\n",
       "    <tr>\n",
       "      <th>849863600</th>\n",
       "      <td>0.522574</td>\n",
       "      <td>0.348625</td>\n",
       "      <td>849862832</td>\n",
       "      <td>3.647359</td>\n",
       "      <td>1</td>\n",
       "      <td>MB</td>\n",
       "      <td>313.0</td>\n",
       "      <td>11</td>\n",
       "      <td>805579738</td>\n",
       "      <td>20</td>\n",
       "      <td></td>\n",
       "      <td>probeB</td>\n",
       "    </tr>\n",
       "    <tr>\n",
       "      <th>849863598</th>\n",
       "      <td>29.603042</td>\n",
       "      <td>0.427450</td>\n",
       "      <td>849862832</td>\n",
       "      <td>5.273173</td>\n",
       "      <td>1</td>\n",
       "      <td>MB</td>\n",
       "      <td>313.0</td>\n",
       "      <td>11</td>\n",
       "      <td>805579738</td>\n",
       "      <td>20</td>\n",
       "      <td></td>\n",
       "      <td>probeB</td>\n",
       "    </tr>\n",
       "    <tr>\n",
       "      <th>849857524</th>\n",
       "      <td>1.821709</td>\n",
       "      <td>5.442067</td>\n",
       "      <td>849856756</td>\n",
       "      <td>0.606343</td>\n",
       "      <td>0</td>\n",
       "      <td>TH</td>\n",
       "      <td>549.0</td>\n",
       "      <td>43</td>\n",
       "      <td>805579734</td>\n",
       "      <td>20</td>\n",
       "      <td></td>\n",
       "      <td>probeA</td>\n",
       "    </tr>\n",
       "    <tr>\n",
       "      <th>849859868</th>\n",
       "      <td>0.121089</td>\n",
       "      <td>98.824370</td>\n",
       "      <td>849859092</td>\n",
       "      <td>0.882486</td>\n",
       "      <td>0</td>\n",
       "      <td>TH</td>\n",
       "      <td>549.0</td>\n",
       "      <td>43</td>\n",
       "      <td>805579749</td>\n",
       "      <td>20</td>\n",
       "      <td></td>\n",
       "      <td>probeE</td>\n",
       "    </tr>\n",
       "    <tr>\n",
       "      <th>849859866</th>\n",
       "      <td>1.365953</td>\n",
       "      <td>5.290767</td>\n",
       "      <td>849859092</td>\n",
       "      <td>1.133894</td>\n",
       "      <td>0</td>\n",
       "      <td>TH</td>\n",
       "      <td>549.0</td>\n",
       "      <td>43</td>\n",
       "      <td>805579749</td>\n",
       "      <td>20</td>\n",
       "      <td></td>\n",
       "      <td>probeE</td>\n",
       "    </tr>\n",
       "  </tbody>\n",
       "</table>\n",
       "</div>"
      ],
      "text/plain": [
       "           firing_rate  isi_violations  peak_channel_id       snr  \\\n",
       "unit_id                                                             \n",
       "849863600     0.522574        0.348625        849862832  3.647359   \n",
       "849863598    29.603042        0.427450        849862832  5.273173   \n",
       "849857524     1.821709        5.442067        849856756  0.606343   \n",
       "849859868     0.121089       98.824370        849859092  0.882486   \n",
       "849859866     1.365953        5.290767        849859092  1.133894   \n",
       "\n",
       "           channel_local_index structure_acronym structure_id  \\\n",
       "unit_id                                                         \n",
       "849863600                    1                MB        313.0   \n",
       "849863598                    1                MB        313.0   \n",
       "849857524                    0                TH        549.0   \n",
       "849859868                    0                TH        549.0   \n",
       "849859866                    0                TH        549.0   \n",
       "\n",
       "           probe_horizontal_position   probe_id  probe_vertical_position  \\\n",
       "unit_id                                                                    \n",
       "849863600                         11  805579738                       20   \n",
       "849863598                         11  805579738                       20   \n",
       "849857524                         43  805579734                       20   \n",
       "849859868                         43  805579749                       20   \n",
       "849859866                         43  805579749                       20   \n",
       "\n",
       "          probe_description location  \n",
       "unit_id                               \n",
       "849863600                     probeB  \n",
       "849863598                     probeB  \n",
       "849857524                     probeA  \n",
       "849859868                     probeE  \n",
       "849859866                     probeE  "
      ]
     },
     "execution_count": 9,
     "metadata": {},
     "output_type": "execute_result"
    }
   ],
   "source": [
    "session.units.head()"
   ]
  },
  {
   "cell_type": "markdown",
   "metadata": {},
   "source": [
    "As a `pandas.DataFrame` the units table supports many straightforward filtering operations:"
   ]
  },
  {
   "cell_type": "code",
   "execution_count": null,
   "metadata": {},
   "outputs": [
    {
     "name": "stdout",
     "output_type": "stream",
     "text": [
      "1076 units total\n",
      "142 units have snr > 4\n"
     ]
    }
   ],
   "source": [
    "# how many units have signal to noise ratios that are greater than 4?\n",
    "print(f'{session.units.shape[0]} units total')\n",
    "units_with_very_high_snr = session.units[session.units['snr'] > 4]\n",
    "print(f'{units_with_very_high_snr.shape[0]} units have snr > 4')"
   ]
  },
  {
   "cell_type": "markdown",
   "metadata": {},
   "source": [
    "... as well as some more advanced (and very useful!) operations. For more information, please see the pandas documentation. The following topics might be particularly handy:\n",
    "\n",
    "- [selecting data](http://pandas.pydata.org/pandas-docs/stable/user_guide/indexing.html)\n",
    "- [merging multiple dataframes](http://pandas.pydata.org/pandas-docs/stable/user_guide/merging.html)\n",
    "- [grouping rows within a dataframe](http://pandas.pydata.org/pandas-docs/stable/user_guide/groupby.html)\n",
    "- [pivot tables](http://pandas.pydata.org/pandas-docs/stable/user_guide/reshaping.html)"
   ]
  },
  {
   "cell_type": "markdown",
   "metadata": {},
   "source": [
    "### Stimulus presentations\n",
    "\n",
    "During the course of a session, visual stimuli are presented on a monitor to the subject. We call intervals of time where a specific stimulus is presented (and its parameters held constant!) a *stimulus presentation*.\n",
    "\n",
    "You can find information about the stimulus presentations that were displayed during a session by accessing the `stimulus_presentations` attribute on your `EcephysSession` object. "
   ]
  },
  {
   "cell_type": "code",
   "execution_count": null,
   "metadata": {},
   "outputs": [
    {
     "name": "stderr",
     "output_type": "stream",
     "text": [
      "/home/nileg/anaconda3/envs/py37/lib/python3.7/site-packages/pandas/core/ops.py:1649: FutureWarning: elementwise comparison failed; returning scalar instead, but in the future will perform elementwise comparison\n",
      "  result = method(y)\n"
     ]
    },
    {
     "data": {
      "text/html": [
       "<div>\n",
       "<style scoped>\n",
       "    .dataframe tbody tr th:only-of-type {\n",
       "        vertical-align: middle;\n",
       "    }\n",
       "\n",
       "    .dataframe tbody tr th {\n",
       "        vertical-align: top;\n",
       "    }\n",
       "\n",
       "    .dataframe thead th {\n",
       "        text-align: right;\n",
       "    }\n",
       "</style>\n",
       "<table border=\"1\" class=\"dataframe\">\n",
       "  <thead>\n",
       "    <tr style=\"text-align: right;\">\n",
       "      <th></th>\n",
       "      <th>Color</th>\n",
       "      <th>Contrast</th>\n",
       "      <th>Image</th>\n",
       "      <th>Ori</th>\n",
       "      <th>Phase</th>\n",
       "      <th>Pos_x</th>\n",
       "      <th>Pos_y</th>\n",
       "      <th>SF</th>\n",
       "      <th>TF</th>\n",
       "      <th>start_time</th>\n",
       "      <th>stimulus_block</th>\n",
       "      <th>stimulus_name</th>\n",
       "      <th>stop_time</th>\n",
       "      <th>duration</th>\n",
       "    </tr>\n",
       "    <tr>\n",
       "      <th>stimulus_presentation_id</th>\n",
       "      <th></th>\n",
       "      <th></th>\n",
       "      <th></th>\n",
       "      <th></th>\n",
       "      <th></th>\n",
       "      <th></th>\n",
       "      <th></th>\n",
       "      <th></th>\n",
       "      <th></th>\n",
       "      <th></th>\n",
       "      <th></th>\n",
       "      <th></th>\n",
       "      <th></th>\n",
       "      <th></th>\n",
       "    </tr>\n",
       "  </thead>\n",
       "  <tbody>\n",
       "    <tr>\n",
       "      <th>0</th>\n",
       "      <td>null</td>\n",
       "      <td>null</td>\n",
       "      <td>null</td>\n",
       "      <td>null</td>\n",
       "      <td>null</td>\n",
       "      <td>null</td>\n",
       "      <td>null</td>\n",
       "      <td>null</td>\n",
       "      <td>null</td>\n",
       "      <td>29.229048</td>\n",
       "      <td>null</td>\n",
       "      <td>spontaneous_activity</td>\n",
       "      <td>89.295799</td>\n",
       "      <td>60.066750</td>\n",
       "    </tr>\n",
       "    <tr>\n",
       "      <th>1</th>\n",
       "      <td>null</td>\n",
       "      <td>0.8</td>\n",
       "      <td>null</td>\n",
       "      <td>90</td>\n",
       "      <td>null</td>\n",
       "      <td>10</td>\n",
       "      <td>-40</td>\n",
       "      <td>0.08</td>\n",
       "      <td>4</td>\n",
       "      <td>89.295799</td>\n",
       "      <td>0</td>\n",
       "      <td>gabor_20_deg_250ms</td>\n",
       "      <td>89.529327</td>\n",
       "      <td>0.233528</td>\n",
       "    </tr>\n",
       "    <tr>\n",
       "      <th>2</th>\n",
       "      <td>null</td>\n",
       "      <td>0.8</td>\n",
       "      <td>null</td>\n",
       "      <td>0</td>\n",
       "      <td>null</td>\n",
       "      <td>-40</td>\n",
       "      <td>40</td>\n",
       "      <td>0.08</td>\n",
       "      <td>4</td>\n",
       "      <td>89.529327</td>\n",
       "      <td>0</td>\n",
       "      <td>gabor_20_deg_250ms</td>\n",
       "      <td>89.779541</td>\n",
       "      <td>0.250214</td>\n",
       "    </tr>\n",
       "    <tr>\n",
       "      <th>3</th>\n",
       "      <td>null</td>\n",
       "      <td>0.8</td>\n",
       "      <td>null</td>\n",
       "      <td>90</td>\n",
       "      <td>null</td>\n",
       "      <td>-40</td>\n",
       "      <td>-20</td>\n",
       "      <td>0.08</td>\n",
       "      <td>4</td>\n",
       "      <td>89.779541</td>\n",
       "      <td>0</td>\n",
       "      <td>gabor_20_deg_250ms</td>\n",
       "      <td>90.029755</td>\n",
       "      <td>0.250214</td>\n",
       "    </tr>\n",
       "    <tr>\n",
       "      <th>4</th>\n",
       "      <td>null</td>\n",
       "      <td>0.8</td>\n",
       "      <td>null</td>\n",
       "      <td>45</td>\n",
       "      <td>null</td>\n",
       "      <td>-20</td>\n",
       "      <td>-30</td>\n",
       "      <td>0.08</td>\n",
       "      <td>4</td>\n",
       "      <td>90.029755</td>\n",
       "      <td>0</td>\n",
       "      <td>gabor_20_deg_250ms</td>\n",
       "      <td>90.279961</td>\n",
       "      <td>0.250206</td>\n",
       "    </tr>\n",
       "  </tbody>\n",
       "</table>\n",
       "</div>"
      ],
      "text/plain": [
       "                         Color Contrast Image   Ori Phase Pos_x Pos_y    SF  \\\n",
       "stimulus_presentation_id                                                      \n",
       "0                         null     null  null  null  null  null  null  null   \n",
       "1                         null      0.8  null    90  null    10   -40  0.08   \n",
       "2                         null      0.8  null     0  null   -40    40  0.08   \n",
       "3                         null      0.8  null    90  null   -40   -20  0.08   \n",
       "4                         null      0.8  null    45  null   -20   -30  0.08   \n",
       "\n",
       "                            TF  start_time stimulus_block  \\\n",
       "stimulus_presentation_id                                    \n",
       "0                         null   29.229048           null   \n",
       "1                            4   89.295799              0   \n",
       "2                            4   89.529327              0   \n",
       "3                            4   89.779541              0   \n",
       "4                            4   90.029755              0   \n",
       "\n",
       "                                 stimulus_name  stop_time   duration  \n",
       "stimulus_presentation_id                                              \n",
       "0                         spontaneous_activity  89.295799  60.066750  \n",
       "1                           gabor_20_deg_250ms  89.529327   0.233528  \n",
       "2                           gabor_20_deg_250ms  89.779541   0.250214  \n",
       "3                           gabor_20_deg_250ms  90.029755   0.250214  \n",
       "4                           gabor_20_deg_250ms  90.279961   0.250206  "
      ]
     },
     "execution_count": 11,
     "metadata": {},
     "output_type": "execute_result"
    }
   ],
   "source": [
    "session.stimulus_presentations.head()"
   ]
  },
  {
   "cell_type": "markdown",
   "metadata": {},
   "source": [
    "Like the units table, this is a `pandas.DataFrame`. Each row corresponds to a stimulus presentation and lists the time (on the session's master clock, in seconds) when that presentation began and ended as well as the kind of stimulus that was presented (the \"stimulus_name\" column) and the parameter values that were used for that presentation. Many of these parameter values don't overlap between stimulus classes, so the stimulus_presentations table uses the string `\"null\"` to indicate an inapplicable parameter. The index is named \"stimulus_presentation_id\" and many methods on `EcephysSession` use these ids.\n",
    "\n",
    "Some of the columns bear a bit of explanation:\n",
    "- stimulus_block : A block consists of multiple presentations of the same stimulus class presented with (probably) different parameter values. If during a session stimuli were presented in the following order:\n",
    "    - drifting gratings\n",
    "    - static gratings\n",
    "    - drifting gratings\n",
    "    then the blocks for that session would be [0, 1, 2]. The gray period stimulus (just a blank gray screen) never gets a block.\n",
    "- duration : this is just stop_time - start_time, precalculated for convenience.\n",
    "\n",
    "What kinds of stimuli were presented during this session? Pandas makes it easy to find out:"
   ]
  },
  {
   "cell_type": "code",
   "execution_count": null,
   "metadata": {},
   "outputs": [
    {
     "data": {
      "text/plain": [
       "['spontaneous_activity',\n",
       " 'gabor_20_deg_250ms',\n",
       " 'flash_250ms',\n",
       " 'drifting_gratings',\n",
       " 'natural_movie_3',\n",
       " 'natural_movie_1',\n",
       " 'static_gratings',\n",
       " 'Natural Images',\n",
       " 'contrast_response']"
      ]
     },
     "execution_count": 12,
     "metadata": {},
     "output_type": "execute_result"
    }
   ],
   "source": [
    "session.stimulus_names # just the unique values from the 'stimulus_name' column"
   ]
  },
  {
   "cell_type": "markdown",
   "metadata": {},
   "source": [
    "If you are only interested in a subset of stimuli, you can either filter using pandas or using the `get_presentations_for_stimulus` convience method:"
   ]
  },
  {
   "cell_type": "code",
   "execution_count": null,
   "metadata": {},
   "outputs": [
    {
     "data": {
      "text/html": [
       "<div>\n",
       "<style scoped>\n",
       "    .dataframe tbody tr th:only-of-type {\n",
       "        vertical-align: middle;\n",
       "    }\n",
       "\n",
       "    .dataframe tbody tr th {\n",
       "        vertical-align: top;\n",
       "    }\n",
       "\n",
       "    .dataframe thead th {\n",
       "        text-align: right;\n",
       "    }\n",
       "</style>\n",
       "<table border=\"1\" class=\"dataframe\">\n",
       "  <thead>\n",
       "    <tr style=\"text-align: right;\">\n",
       "      <th></th>\n",
       "      <th>Contrast</th>\n",
       "      <th>Ori</th>\n",
       "      <th>SF</th>\n",
       "      <th>TF</th>\n",
       "      <th>start_time</th>\n",
       "      <th>stimulus_block</th>\n",
       "      <th>stimulus_name</th>\n",
       "      <th>stop_time</th>\n",
       "      <th>duration</th>\n",
       "    </tr>\n",
       "    <tr>\n",
       "      <th>stimulus_presentation_id</th>\n",
       "      <th></th>\n",
       "      <th></th>\n",
       "      <th></th>\n",
       "      <th></th>\n",
       "      <th></th>\n",
       "      <th></th>\n",
       "      <th></th>\n",
       "      <th></th>\n",
       "      <th></th>\n",
       "    </tr>\n",
       "  </thead>\n",
       "  <tbody>\n",
       "    <tr>\n",
       "      <th>70391</th>\n",
       "      <td>0.2</td>\n",
       "      <td>135</td>\n",
       "      <td>0.04</td>\n",
       "      <td>2</td>\n",
       "      <td>9186.966797</td>\n",
       "      <td>15</td>\n",
       "      <td>contrast_response</td>\n",
       "      <td>9187.467773</td>\n",
       "      <td>0.500977</td>\n",
       "    </tr>\n",
       "    <tr>\n",
       "      <th>70392</th>\n",
       "      <td>0.08</td>\n",
       "      <td>90</td>\n",
       "      <td>0.04</td>\n",
       "      <td>2</td>\n",
       "      <td>9187.967773</td>\n",
       "      <td>15</td>\n",
       "      <td>contrast_response</td>\n",
       "      <td>9188.468750</td>\n",
       "      <td>0.500977</td>\n",
       "    </tr>\n",
       "    <tr>\n",
       "      <th>70393</th>\n",
       "      <td>0.08</td>\n",
       "      <td>135</td>\n",
       "      <td>0.04</td>\n",
       "      <td>2</td>\n",
       "      <td>9188.968750</td>\n",
       "      <td>15</td>\n",
       "      <td>contrast_response</td>\n",
       "      <td>9189.468750</td>\n",
       "      <td>0.500000</td>\n",
       "    </tr>\n",
       "    <tr>\n",
       "      <th>70394</th>\n",
       "      <td>0.01</td>\n",
       "      <td>45</td>\n",
       "      <td>0.04</td>\n",
       "      <td>2</td>\n",
       "      <td>9189.969727</td>\n",
       "      <td>15</td>\n",
       "      <td>contrast_response</td>\n",
       "      <td>9190.469727</td>\n",
       "      <td>0.500000</td>\n",
       "    </tr>\n",
       "    <tr>\n",
       "      <th>70395</th>\n",
       "      <td>0.2</td>\n",
       "      <td>45</td>\n",
       "      <td>0.04</td>\n",
       "      <td>2</td>\n",
       "      <td>9190.970703</td>\n",
       "      <td>15</td>\n",
       "      <td>contrast_response</td>\n",
       "      <td>9191.470703</td>\n",
       "      <td>0.500000</td>\n",
       "    </tr>\n",
       "  </tbody>\n",
       "</table>\n",
       "</div>"
      ],
      "text/plain": [
       "                         Contrast  Ori    SF TF   start_time stimulus_block  \\\n",
       "stimulus_presentation_id                                                      \n",
       "70391                         0.2  135  0.04  2  9186.966797             15   \n",
       "70392                        0.08   90  0.04  2  9187.967773             15   \n",
       "70393                        0.08  135  0.04  2  9188.968750             15   \n",
       "70394                        0.01   45  0.04  2  9189.969727             15   \n",
       "70395                         0.2   45  0.04  2  9190.970703             15   \n",
       "\n",
       "                              stimulus_name    stop_time  duration  \n",
       "stimulus_presentation_id                                            \n",
       "70391                     contrast_response  9187.467773  0.500977  \n",
       "70392                     contrast_response  9188.468750  0.500977  \n",
       "70393                     contrast_response  9189.468750  0.500000  \n",
       "70394                     contrast_response  9190.469727  0.500000  \n",
       "70395                     contrast_response  9191.470703  0.500000  "
      ]
     },
     "execution_count": 13,
     "metadata": {},
     "output_type": "execute_result"
    }
   ],
   "source": [
    "session.get_presentations_for_stimulus(['contrast_response']).head()"
   ]
  },
  {
   "cell_type": "markdown",
   "metadata": {},
   "source": [
    "We might also want to know what the total set of available parameters is. The `get_stimulus_parameter_values` method provides a dictionary mapping stimulus parameters to the set of values that were applied to those parameters:"
   ]
  },
  {
   "cell_type": "code",
   "execution_count": null,
   "metadata": {
    "scrolled": false
   },
   "outputs": [
    {
     "name": "stdout",
     "output_type": "stream",
     "text": [
      "Color: [1.0 -1.0]\n",
      "Contrast: [0.8 0.2 0.08 0.01 0.04 0.35 0.02 0.6 1.0 0.13]\n",
      "Image: [0.0 1.0 2.0 ... 3598.0 3599.0 -1.0]\n",
      "Ori: [90.0 0.0 45.0 180.0 270.0 315.0 135.0 225.0 30.0 150.0 60.0 120.0]\n",
      "Phase: [0.25 0.5 0.75 0.0]\n",
      "Pos_x: [10.0 -40.0 -20.0 40.0 -10.0 -30.0 30.0 0.0 20.0]\n",
      "Pos_y: [-40.0 40.0 -20.0 -30.0 10.0 0.0 30.0 20.0 -10.0]\n",
      "SF: [0.08 0.04 0.16 0.32 0.02]\n",
      "TF: [4.0 2.0 8.0 15.0 1.0]\n"
     ]
    }
   ],
   "source": [
    "for key, values in session.get_stimulus_parameter_values().items():\n",
    "    print(f'{key}: {values}')"
   ]
  },
  {
   "cell_type": "markdown",
   "metadata": {},
   "source": [
    "What if we want parameter values for just one kind of stimulus, \"drifting_gratings\" for instance? Let's check the help for `get_stimulus_parameter_values`:"
   ]
  },
  {
   "cell_type": "code",
   "execution_count": null,
   "metadata": {},
   "outputs": [
    {
     "name": "stdout",
     "output_type": "stream",
     "text": [
      "Help on method get_stimulus_parameter_values in module allensdk.brain_observatory.ecephys.ecephys_session:\n",
      "\n",
      "get_stimulus_parameter_values(stimulus_presentation_ids=None, drop_nulls=True) method of allensdk.brain_observatory.ecephys.ecephys_session.EcephysSession instance\n",
      "    For each stimulus parameter, report the unique values taken on by that \n",
      "    parameter throughout the course of the  session.\n",
      "    \n",
      "    Parameters\n",
      "    ----------\n",
      "    stimulus_presentation_ids : array-like, optional\n",
      "        If provided, only parameter values from these stimulus presentations will be considered.\n",
      "    \n",
      "    Returns\n",
      "    -------\n",
      "    dict : \n",
      "        maps parameters (column names) to their unique values.\n",
      "\n"
     ]
    }
   ],
   "source": [
    "help(session.get_stimulus_parameter_values)"
   ]
  },
  {
   "cell_type": "markdown",
   "metadata": {},
   "source": [
    "From this help message we can see that `get_stimulus_parameter_values` takes an optional filtering parameter - an array of stimulus presentation ids (the index values from `EcephysSession.stimulus_presentations`). If we first find all of the stimulus presentations where drifting gratings were presented and then supply their ids to `get_stimulus_parameter_values`, we can find out what parameter values were used for drifting gratings in this session:"
   ]
  },
  {
   "cell_type": "code",
   "execution_count": null,
   "metadata": {},
   "outputs": [
    {
     "name": "stdout",
     "output_type": "stream",
     "text": [
      "Contrast: [0.8]\n",
      "Ori: [180.0 45.0 0.0 270.0 315.0 90.0 135.0 225.0]\n",
      "SF: [0.04]\n",
      "TF: [2.0 8.0 4.0 15.0 1.0]\n"
     ]
    }
   ],
   "source": [
    "drifting_gratings_presentations = session.stimulus_presentations[\n",
    "    session.stimulus_presentations['stimulus_name'] == 'drifting_gratings'\n",
    "]\n",
    "\n",
    "# \".index.values\" takes a dataframe  of presentations and returns a numpy array of presentation ids\n",
    "drifting_gratings_presentation_ids = drifting_gratings_presentations.index.values \n",
    "\n",
    "drifting_gratings_parameter_values = session.get_stimulus_parameter_values(\n",
    "    stimulus_presentation_ids=drifting_gratings_presentation_ids\n",
    ")\n",
    "\n",
    "for key, values in drifting_gratings_parameter_values.items():\n",
    "    print(f'{key}: {values}')"
   ]
  },
  {
   "cell_type": "markdown",
   "metadata": {},
   "source": [
    "It is not necessarily true that all possible parameter value combinations were presented. We can enumerate the combinations that were presented by calling `get_stimulus_conditions`. As with `get_stimulus_parameter_values` we can filter on stimulus presentation ids."
   ]
  },
  {
   "cell_type": "code",
   "execution_count": null,
   "metadata": {},
   "outputs": [
    {
     "data": {
      "text/html": [
       "<div>\n",
       "<style scoped>\n",
       "    .dataframe tbody tr th:only-of-type {\n",
       "        vertical-align: middle;\n",
       "    }\n",
       "\n",
       "    .dataframe tbody tr th {\n",
       "        vertical-align: top;\n",
       "    }\n",
       "\n",
       "    .dataframe thead th {\n",
       "        text-align: right;\n",
       "    }\n",
       "</style>\n",
       "<table border=\"1\" class=\"dataframe\">\n",
       "  <thead>\n",
       "    <tr style=\"text-align: right;\">\n",
       "      <th></th>\n",
       "      <th>Contrast</th>\n",
       "      <th>Ori</th>\n",
       "      <th>SF</th>\n",
       "      <th>TF</th>\n",
       "      <th>stimulus_name</th>\n",
       "    </tr>\n",
       "    <tr>\n",
       "      <th>stimulus_condition_index</th>\n",
       "      <th></th>\n",
       "      <th></th>\n",
       "      <th></th>\n",
       "      <th></th>\n",
       "      <th></th>\n",
       "    </tr>\n",
       "  </thead>\n",
       "  <tbody>\n",
       "    <tr>\n",
       "      <th>0</th>\n",
       "      <td>0.8</td>\n",
       "      <td>180</td>\n",
       "      <td>0.04</td>\n",
       "      <td>2</td>\n",
       "      <td>drifting_gratings</td>\n",
       "    </tr>\n",
       "    <tr>\n",
       "      <th>1</th>\n",
       "      <td>null</td>\n",
       "      <td>null</td>\n",
       "      <td>null</td>\n",
       "      <td>null</td>\n",
       "      <td>drifting_gratings</td>\n",
       "    </tr>\n",
       "    <tr>\n",
       "      <th>2</th>\n",
       "      <td>0.8</td>\n",
       "      <td>45</td>\n",
       "      <td>0.04</td>\n",
       "      <td>8</td>\n",
       "      <td>drifting_gratings</td>\n",
       "    </tr>\n",
       "    <tr>\n",
       "      <th>3</th>\n",
       "      <td>0.8</td>\n",
       "      <td>0</td>\n",
       "      <td>0.04</td>\n",
       "      <td>4</td>\n",
       "      <td>drifting_gratings</td>\n",
       "    </tr>\n",
       "    <tr>\n",
       "      <th>4</th>\n",
       "      <td>0.8</td>\n",
       "      <td>270</td>\n",
       "      <td>0.04</td>\n",
       "      <td>15</td>\n",
       "      <td>drifting_gratings</td>\n",
       "    </tr>\n",
       "    <tr>\n",
       "      <th>5</th>\n",
       "      <td>0.8</td>\n",
       "      <td>180</td>\n",
       "      <td>0.04</td>\n",
       "      <td>1</td>\n",
       "      <td>drifting_gratings</td>\n",
       "    </tr>\n",
       "    <tr>\n",
       "      <th>6</th>\n",
       "      <td>0.8</td>\n",
       "      <td>0</td>\n",
       "      <td>0.04</td>\n",
       "      <td>15</td>\n",
       "      <td>drifting_gratings</td>\n",
       "    </tr>\n",
       "    <tr>\n",
       "      <th>7</th>\n",
       "      <td>0.8</td>\n",
       "      <td>180</td>\n",
       "      <td>0.04</td>\n",
       "      <td>15</td>\n",
       "      <td>drifting_gratings</td>\n",
       "    </tr>\n",
       "    <tr>\n",
       "      <th>8</th>\n",
       "      <td>0.8</td>\n",
       "      <td>315</td>\n",
       "      <td>0.04</td>\n",
       "      <td>4</td>\n",
       "      <td>drifting_gratings</td>\n",
       "    </tr>\n",
       "    <tr>\n",
       "      <th>9</th>\n",
       "      <td>0.8</td>\n",
       "      <td>90</td>\n",
       "      <td>0.04</td>\n",
       "      <td>15</td>\n",
       "      <td>drifting_gratings</td>\n",
       "    </tr>\n",
       "  </tbody>\n",
       "</table>\n",
       "</div>"
      ],
      "text/plain": [
       "                         Contrast   Ori    SF    TF      stimulus_name\n",
       "stimulus_condition_index                                              \n",
       "0                             0.8   180  0.04     2  drifting_gratings\n",
       "1                            null  null  null  null  drifting_gratings\n",
       "2                             0.8    45  0.04     8  drifting_gratings\n",
       "3                             0.8     0  0.04     4  drifting_gratings\n",
       "4                             0.8   270  0.04    15  drifting_gratings\n",
       "5                             0.8   180  0.04     1  drifting_gratings\n",
       "6                             0.8     0  0.04    15  drifting_gratings\n",
       "7                             0.8   180  0.04    15  drifting_gratings\n",
       "8                             0.8   315  0.04     4  drifting_gratings\n",
       "9                             0.8    90  0.04    15  drifting_gratings"
      ]
     },
     "execution_count": 17,
     "metadata": {},
     "output_type": "execute_result"
    }
   ],
   "source": [
    "session.get_stimulus_conditions(\n",
    "    stimulus_presentation_ids=drifting_gratings_presentation_ids\n",
    ").head(10)"
   ]
  },
  {
   "cell_type": "markdown",
   "metadata": {},
   "source": [
    "### Spike data\n",
    "\n",
    "The `EcephysSession` object holds spike times (in seconds on the session master clock) for each unit. These are stored in a dictionary, which maps unit ids (the index values of the units table) to arrays of spike times."
   ]
  },
  {
   "cell_type": "code",
   "execution_count": null,
   "metadata": {},
   "outputs": [],
   "source": [
    " # grab an arbitrary (though high-snr!) unit (we made units_with_high_snr above)\n",
    "high_snr_unit_ids = units_with_very_high_snr.index.values\n",
    "unit_id = high_snr_unit_ids[0]\n",
    "\n",
    "print(f'{len(session.spike_times[unit_id])} spikes were detected for unit {unit_id}')\n",
    "session.spike_times[unit_id]"
   ]
  },
  {
   "cell_type": "markdown",
   "metadata": {},
   "source": [
    "You can also obtain spikes tagged with the stimulus presentation during which they occurred:"
   ]
  },
  {
   "cell_type": "code",
   "execution_count": null,
   "metadata": {},
   "outputs": [],
   "source": [
    "# get spike times from the first block of drifting gratings presentations \n",
    "drifting_gratings_presentation_ids = session.stimulus_presentations.loc[\n",
    "    (session.stimulus_presentations['stimulus_name'] == 'drifting_gratings')\n",
    "].index.values\n",
    "\n",
    "times = session.presentationwise_spike_times(\n",
    "    stimulus_presentation_ids=drifting_gratings_presentation_ids,\n",
    "    unit_ids=high_snr_unit_ids\n",
    ")\n",
    "\n",
    "times.head()"
   ]
  },
  {
   "cell_type": "markdown",
   "metadata": {},
   "source": [
    "We can make raster plots of these data:"
   ]
  },
  {
   "cell_type": "code",
   "execution_count": null,
   "metadata": {
    "scrolled": false
   },
   "outputs": [],
   "source": [
    "first_drifting_grating_presentation_id = times['stimulus_presentation_id'].values[0]\n",
    "plot_times = times[times['stimulus_presentation_id'] == first_drifting_grating_presentation_id]\n",
    "\n",
    "fig = raster_plot(plot_times, title=f'spike raster for stimulus presentation {first_drifting_grating_presentation_id}')\n",
    "plt.show()\n",
    "\n",
    "# also print out this presentation\n",
    "session.stimulus_presentations.loc[first_drifting_grating_presentation_id]"
   ]
  },
  {
   "cell_type": "markdown",
   "metadata": {},
   "source": [
    "What if we want to know how many spikes a given stimulus condition evoked? We can call `conditionwise_spike_counts` on our session object"
   ]
  },
  {
   "cell_type": "code",
   "execution_count": null,
   "metadata": {},
   "outputs": [],
   "source": [
    "contrast_response_presentation_ids = session.stimulus_presentations[\n",
    "    session.stimulus_presentations['stimulus_name'].isin(set(['contrast_response']))\n",
    "].index.values\n",
    "\n",
    "\n",
    "contrast_response_spike_counts = session.conditionwise_spike_counts(\n",
    "    unit_ids=high_snr_unit_ids, \n",
    "    stimulus_presentation_ids=contrast_response_presentation_ids\n",
    ")\n",
    "\n",
    "# filter out inapplicable stimulus columns for cleaner display\n",
    "contrast_response_spike_counts = removed_unused_stimulus_presentation_columns(contrast_response_spike_counts)\n",
    "\n",
    "contrast_response_spike_counts.head()"
   ]
  },
  {
   "cell_type": "markdown",
   "metadata": {},
   "source": [
    "We can also get mean spike counts per stimulus condition:"
   ]
  },
  {
   "cell_type": "code",
   "execution_count": null,
   "metadata": {
    "scrolled": false
   },
   "outputs": [],
   "source": [
    "mean_spike_counts = session.conditionwise_mean_spike_counts(\n",
    "    unit_ids=high_snr_unit_ids, \n",
    "    stimulus_presentation_ids=contrast_response_presentation_ids\n",
    ")\n",
    "mean_spike_counts = removed_unused_stimulus_presentation_columns(mean_spike_counts)\n",
    "mean_spike_counts.head()"
   ]
  },
  {
   "cell_type": "markdown",
   "metadata": {},
   "source": [
    "Using this mean spike counts dataframe, we can ask for each unit: which stimulus condition evoked the most activity on average?"
   ]
  },
  {
   "cell_type": "code",
   "execution_count": null,
   "metadata": {},
   "outputs": [],
   "source": [
    "max_rate_conditions = mean_spike_counts.groupby('unit_id')\\\n",
    "    .apply(lambda df: df.loc[df['mean_spike_count'].idxmax()])\n",
    "max_rate_conditions.drop(columns='unit_id', inplace=True)\n",
    "max_rate_conditions.head()"
   ]
  },
  {
   "cell_type": "markdown",
   "metadata": {},
   "source": [
    "### Spike histograms\n",
    "\n",
    "It is commonly useful to compare spike data from across units and stimulus presentations, all relative to the onset of a stimulus presentation. We can do this using the `presentationwise_spike_counts` method. "
   ]
  },
  {
   "cell_type": "code",
   "execution_count": null,
   "metadata": {},
   "outputs": [],
   "source": [
    "# We're going to build an array of spike counts surrounding stimulus presentation onset\n",
    "# To do that, we will need to specify some bins (in seconds, relative to stimulus onset)\n",
    "time_bin_edges = np.linspace(-0.01, 0.4, 200)\n",
    "\n",
    "# look at responses to the flash stimulus\n",
    "flash_250_ms_stimulus_presentation_ids = session.stimulus_presentations[\n",
    "    session.stimulus_presentations['stimulus_name'] == 'flash_250ms'\n",
    "].index.values\n",
    "\n",
    "# and get a set of units with only decent snr\n",
    "decent_snr_unit_ids = session.units[\n",
    "    session.units['snr'] >= 1.5\n",
    "].index.values\n",
    "\n",
    "spike_counts_ds = session.presentationwise_spike_counts(\n",
    "    bin_edges=time_bin_edges,\n",
    "    stimulus_presentation_ids=flash_250_ms_stimulus_presentation_ids,\n",
    "    unit_ids=decent_snr_unit_ids\n",
    ")\n",
    "spike_counts_ds"
   ]
  },
  {
   "cell_type": "markdown",
   "metadata": {},
   "source": [
    "This has returned a new (to this notebook) data structure, the `xarray.DataSet`. You can think of this as similar to a 3+D `pandas.DataFrame`, or as a `numpy.ndarray` with labeled axes and indices. See the [xarray documentation](http://xarray.pydata.org/en/stable/index.html) for more information. In the mean time, the salient features are:\n",
    "\n",
    "- Data variables : One or more (in our case one) multidimensional arrays of data, similar to `numpy.ndarray`s. We can access our data array of spike times like: `ds['spike_counts']`.\n",
    "- Dimensions : Each axis on each data variable is associated with a named dimension. This lets us see unambiguously what the axes of our array mean.\n",
    "- Coordinates : Arrays of labels for each sample on each dimension.\n",
    "\n",
    "xarray is nice because it forces code to be explicit about dimensions and coordinates, improving readability and avoiding bugs. However, you can always convert to numpy or pandas data structures as follows:\n",
    "- to pandas: `spike_counts_ds['spike_counts'].to_dataframe()` produces a multiindexed dataframe\n",
    "- to numpy: `spike_counts_ds['spike_counts'].values` gives you access to the underlying numpy array\n",
    "\n",
    "We can now plot spike counts for a particular presentation:"
   ]
  },
  {
   "cell_type": "code",
   "execution_count": null,
   "metadata": {},
   "outputs": [],
   "source": [
    "presentation_id = 3796 # chosen arbitrarily\n",
    "plot_spike_counts(\n",
    "    spike_counts_ds['spike_counts'].loc[{'stimulus_presentation_id': presentation_id}], \n",
    "    spike_counts_ds['time_relative_to_stimulus_onset'],\n",
    "    'spike count', \n",
    "    f'unitwise spike counts on presentation {presentation_id}'\n",
    ")\n",
    "plt.show()"
   ]
  },
  {
   "cell_type": "markdown",
   "metadata": {},
   "source": [
    "We can also average across all presentations, adding a new data array to the dataset. Notice that this one no longer has a stimulus_presentation_id dimension, as we have collapsed it by averaging."
   ]
  },
  {
   "cell_type": "code",
   "execution_count": null,
   "metadata": {},
   "outputs": [],
   "source": [
    "spike_counts_ds['mean_spike_counts'] = spike_counts_ds['spike_counts'].mean(dim='stimulus_presentation_id')\n",
    "spike_counts_ds"
   ]
  },
  {
   "cell_type": "markdown",
   "metadata": {},
   "source": [
    "... and plot the mean spike counts"
   ]
  },
  {
   "cell_type": "code",
   "execution_count": null,
   "metadata": {
    "scrolled": false
   },
   "outputs": [],
   "source": [
    "plot_spike_counts(\n",
    "    spike_counts_ds['mean_spike_counts'], \n",
    "    spike_counts_ds['time_relative_to_stimulus_onset'],\n",
    "    'mean spike count', \n",
    "    'mean spike counts on flash_250_ms presentations'\n",
    ")\n",
    "plt.show()"
   ]
  },
  {
   "cell_type": "markdown",
   "metadata": {},
   "source": [
    "### Waveforms\n",
    "\n",
    "We store precomputed mean waveforms for each unit in the `mean_waveforms` attribute on the `EcephysSession` object. This is a dictionary which maps unit ids to xarray dataarrays. These have channel and time (seconds, aligned to the detected event times) dimensions. The data values are millivolts, as measured at the recording site."
   ]
  },
  {
   "cell_type": "code",
   "execution_count": null,
   "metadata": {},
   "outputs": [],
   "source": [
    "first_fifteen_units_waveforms = {uid: session.mean_waveforms[uid] for uid in high_snr_unit_ids[:15]}\n",
    "first_fifteen_units_peak_channels = {uid: session.units.loc[uid, 'peak_channel_id'] for uid in high_snr_unit_ids[:15]}\n",
    "\n",
    "# plot the mean waveform on each unit's peak channel/\n",
    "plot_mean_waveforms(first_fifteen_units_waveforms, high_snr_unit_ids[:15], first_fifteen_units_peak_channels)\n",
    "plt.show()"
   ]
  },
  {
   "cell_type": "markdown",
   "metadata": {},
   "source": [
    "### Running Speed\n",
    "\n",
    "We can obtain the velocity at which the experimental subject ran as a function of time by accessing the `running_speed` attribute. This returns a [named tuple](https://docs.python.org/3/library/typing.html?#typing.NamedTuple) with two fields: timestamps and values. Timestamps report when on the session's master clock samples where taken, while values report the linear velocity (cm/s) of the subject at that time. Negative values indicate backwards running.\n",
    "\n",
    "Here we'll plot the running speed trace for a single arbitrary stimulus presentation:"
   ]
  },
  {
   "cell_type": "code",
   "execution_count": null,
   "metadata": {},
   "outputs": [],
   "source": [
    "presentation_3807_rs_timestamp_indices = np.searchsorted(\n",
    "    session.running_speed.timestamps,\n",
    "    [\n",
    "        session.stimulus_presentations.loc[3807, 'start_time'], \n",
    "        session.stimulus_presentations.loc[3807, 'stop_time']\n",
    "    ]\n",
    ")\n",
    "\n",
    "plot_running_speed(\n",
    "    session.running_speed.timestamps, \n",
    "    session.running_speed.values, \n",
    "    start_index=presentation_3807_rs_timestamp_indices[0],\n",
    "    stop_index=presentation_3807_rs_timestamp_indices[1]\n",
    ")\n",
    "plt.show()"
   ]
  },
  {
   "cell_type": "markdown",
   "metadata": {},
   "source": [
    "### Suggested excercises\n",
    "\n",
    "If you would hands-on experience with the `EcephysSession` class, please consider working through some of these excercises.\n",
    "\n",
    "- **tuning curves** : Pick a stimulus parameter, such as orientation on drifting gratings trials. Plot the mean and standard error of spike counts for each unit at each value of this parameter.\n",
    "- **signal correlations** : Calculate unit-pairwise correlation coefficients on the tuning curves for a stimulus parameter of interest (`numpy.corrcoef` might be useful).\n",
    "- **noise correlations** : Build for each unit a vector of spike counts across repeats of the same stimulus condition. Compute unit-unit correlation coefficients on these vectors.\n",
    "- **cross-correlations** : Start with two spike trains. Call one of them \"fixed\" and the other \"moving\". Choose a set of time offsets and for each offset:\n",
    "    1. apply the offset to the spike times in the moving train\n",
    "    2. compute the correlation coefficient between the newly offset moving train and the fixed train.\n",
    "    You should then be able to plot the obtained correlation coeffients as a function of the offset. \n",
    "- **unit clustering** : First, extract a set of unitwise features. You might draw these from the mean waveforms, for instance:\n",
    "    - mean duration between waveform peak and trough (on the unit's peak channel)\n",
    "    - the amplitude of the unit's trough\n",
    "    \n",
    "    or you might draw them from the unit's spike times, such as:\n",
    "    - median inter-spike-interval\n",
    "    \n",
    "    or from metadata\n",
    "    - CCF structure\n",
    "    \n",
    "    With your features in hand, attempt an unsupervised classification of the units. If this seems daunting, check out the [scikit-learn unsupervised learning documention](https://scikit-learn.org/stable/modules/clustering.html#clustering) for library code and examples.\n",
    "- **population decoding** : Using an `EcephysSession` (and filtering to some stimuli and units of interest), build two aligned matrices:\n",
    "    1. A matrix whose rows are stimulus presentations, columns are units, and values are spike counts.\n",
    "    2. A matrix whose rows are stimulus presentations and whose columns are stimulus parameters.\n",
    "    \n",
    "    Using these matrices, train a classifier to predict stimulus conditions (sets of stimulus parameter values) from presentationwise population spike counts. See the [scikit-learn supervised learning tutorial](https://scikit-learn.org/stable/tutorial/statistical_inference/supervised_learning.html) for a guide to supervised learning in Python."
   ]
  },
  {
   "cell_type": "code",
   "execution_count": null,
   "metadata": {},
   "outputs": [],
   "source": []
  }
 ],
 "metadata": {
  "kernelspec": {
   "display_name": "py37",
   "language": "python",
   "name": "py37"
  },
  "language_info": {
   "codemirror_mode": {
    "name": "ipython",
    "version": 3
   },
   "file_extension": ".py",
   "mimetype": "text/x-python",
   "name": "python",
   "nbconvert_exporter": "python",
   "pygments_lexer": "ipython3",
   "version": "3.7.3"
  }
 },
 "nbformat": 4,
 "nbformat_minor": 2
}
