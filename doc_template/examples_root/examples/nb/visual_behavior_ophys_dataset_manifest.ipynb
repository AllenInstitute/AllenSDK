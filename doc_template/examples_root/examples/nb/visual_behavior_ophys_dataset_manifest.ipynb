{
 "cells": [
  {
   "cell_type": "markdown",
   "id": "5851560d",
   "metadata": {
    "papermill": {
     "duration": 0.038248,
     "end_time": "2023-07-19T22:23:43.897517",
     "exception": false,
     "start_time": "2023-07-19T22:23:43.859269",
     "status": "completed"
    },
    "pycharm": {
     "name": "#%% md\n"
    },
    "tags": []
   },
   "source": [
    "# Identifying experiments and sessions of interest using the data manifest"
   ]
  },
  {
   "cell_type": "markdown",
   "id": "34c30ddc",
   "metadata": {
    "papermill": {
     "duration": 0.031344,
     "end_time": "2023-07-19T22:23:43.961906",
     "exception": false,
     "start_time": "2023-07-19T22:23:43.930562",
     "status": "completed"
    },
    "pycharm": {
     "name": "#%% md\n"
    },
    "tags": []
   },
   "source": [
    "This Jupyter notebook illustrates what data is available as part of the <b>Visual Behavior - 2P dataset</b>, and helps you to understand the experimental design and dimensions of the dataset. The notebook will demonstrate how to identify experiments and sessions that you may be interested in analyzing using the data manifests provided by the `VisualBehaviorOphysProjectCache`, and exploring the metadata columns that describe the experimental conditions including transgenic lines, targeted areas, imaging depths, microscopes that were used, session types, and dataset variants. \n",
    "\n",
    "We will first install allensdk into your environment by running the appropriate commands below. "
   ]
  },
  {
   "cell_type": "markdown",
   "id": "f5cf03c7",
   "metadata": {
    "papermill": {
     "duration": 0.031318,
     "end_time": "2023-07-19T22:23:44.024771",
     "exception": false,
     "start_time": "2023-07-19T22:23:43.993453",
     "status": "completed"
    },
    "pycharm": {
     "name": "#%% md\n"
    },
    "tags": []
   },
   "source": [
    "## Install AllenSDK into your local environment"
   ]
  },
  {
   "cell_type": "markdown",
   "id": "7910fadd",
   "metadata": {
    "papermill": {
     "duration": 0.032105,
     "end_time": "2023-07-19T22:23:44.089081",
     "exception": false,
     "start_time": "2023-07-19T22:23:44.056976",
     "status": "completed"
    },
    "pycharm": {
     "name": "#%% md\n"
    },
    "tags": []
   },
   "source": [
    "You can install AllenSDK locally with:"
   ]
  },
  {
   "cell_type": "code",
   "execution_count": 1,
   "id": "1823b226",
   "metadata": {
    "execution": {
     "iopub.execute_input": "2023-07-19T22:23:44.156393Z",
     "iopub.status.busy": "2023-07-19T22:23:44.155651Z",
     "iopub.status.idle": "2023-07-19T22:23:47.365586Z",
     "shell.execute_reply": "2023-07-19T22:23:47.364176Z"
    },
    "papermill": {
     "duration": 3.247149,
     "end_time": "2023-07-19T22:23:47.369047",
     "exception": false,
     "start_time": "2023-07-19T22:23:44.121898",
     "status": "completed"
    },
    "pycharm": {
     "name": "#%%\n"
    },
    "tags": []
   },
   "outputs": [
    {
     "name": "stdout",
     "output_type": "stream",
     "text": [
      "Requirement already satisfied: allensdk in /opt/hostedtoolcache/Python/3.8.17/x64/lib/python3.8/site-packages (2.15.1)\r\n",
      "Requirement already satisfied: psycopg2-binary in /opt/hostedtoolcache/Python/3.8.17/x64/lib/python3.8/site-packages (from allensdk) (2.9.6)\r\n",
      "Requirement already satisfied: hdmf<=3.4.7 in /opt/hostedtoolcache/Python/3.8.17/x64/lib/python3.8/site-packages (from allensdk) (3.4.7)\r\n",
      "Requirement already satisfied: h5py in /opt/hostedtoolcache/Python/3.8.17/x64/lib/python3.8/site-packages (from allensdk) (3.9.0)\r\n",
      "Requirement already satisfied: matplotlib<3.4.3,>=1.4.3 in /opt/hostedtoolcache/Python/3.8.17/x64/lib/python3.8/site-packages (from allensdk) (3.4.2)\r\n",
      "Requirement already satisfied: numpy in /opt/hostedtoolcache/Python/3.8.17/x64/lib/python3.8/site-packages (from allensdk) (1.23.5)\r\n",
      "Requirement already satisfied: pandas>=1.1.5 in /opt/hostedtoolcache/Python/3.8.17/x64/lib/python3.8/site-packages (from allensdk) (1.5.3)\r\n",
      "Requirement already satisfied: jinja2>=3.0.0 in /opt/hostedtoolcache/Python/3.8.17/x64/lib/python3.8/site-packages (from allensdk) (3.1.2)\r\n",
      "Requirement already satisfied: scipy<2.0.0,>=1.4.0 in /opt/hostedtoolcache/Python/3.8.17/x64/lib/python3.8/site-packages (from allensdk) (1.10.1)\r\n",
      "Requirement already satisfied: six<2.0.0,>=1.9.0 in /opt/hostedtoolcache/Python/3.8.17/x64/lib/python3.8/site-packages (from allensdk) (1.16.0)\r\n",
      "Requirement already satisfied: pynrrd<1.0.0,>=0.2.1 in /opt/hostedtoolcache/Python/3.8.17/x64/lib/python3.8/site-packages (from allensdk) (0.4.3)\r\n",
      "Requirement already satisfied: future<1.0.0,>=0.14.3 in /opt/hostedtoolcache/Python/3.8.17/x64/lib/python3.8/site-packages (from allensdk) (0.18.3)\r\n",
      "Requirement already satisfied: requests<3.0.0 in /opt/hostedtoolcache/Python/3.8.17/x64/lib/python3.8/site-packages (from allensdk) (2.31.0)\r\n",
      "Requirement already satisfied: requests-toolbelt<1.0.0 in /opt/hostedtoolcache/Python/3.8.17/x64/lib/python3.8/site-packages (from allensdk) (0.10.1)\r\n",
      "Requirement already satisfied: simplejson<4.0.0,>=3.10.0 in /opt/hostedtoolcache/Python/3.8.17/x64/lib/python3.8/site-packages (from allensdk) (3.19.1)\r\n",
      "Requirement already satisfied: scikit-image>=0.14.0 in /opt/hostedtoolcache/Python/3.8.17/x64/lib/python3.8/site-packages (from allensdk) (0.21.0)\r\n",
      "Requirement already satisfied: scikit-build<1.0.0 in /opt/hostedtoolcache/Python/3.8.17/x64/lib/python3.8/site-packages (from allensdk) (0.17.6)\r\n",
      "Requirement already satisfied: statsmodels in /opt/hostedtoolcache/Python/3.8.17/x64/lib/python3.8/site-packages (from allensdk) (0.14.0)\r\n",
      "Requirement already satisfied: simpleitk<3.0.0,>=2.0.2 in /opt/hostedtoolcache/Python/3.8.17/x64/lib/python3.8/site-packages (from allensdk) (2.2.1)\r\n",
      "Requirement already satisfied: argschema<4.0.0,>=3.0.1 in /opt/hostedtoolcache/Python/3.8.17/x64/lib/python3.8/site-packages (from allensdk) (3.0.4)\r\n",
      "Requirement already satisfied: glymur==0.8.19 in /opt/hostedtoolcache/Python/3.8.17/x64/lib/python3.8/site-packages (from allensdk) (0.8.19)\r\n",
      "Requirement already satisfied: xarray in /opt/hostedtoolcache/Python/3.8.17/x64/lib/python3.8/site-packages (from allensdk) (2023.1.0)\r\n",
      "Requirement already satisfied: pynwb in /opt/hostedtoolcache/Python/3.8.17/x64/lib/python3.8/site-packages (from allensdk) (2.2.0)\r\n",
      "Requirement already satisfied: tables in /opt/hostedtoolcache/Python/3.8.17/x64/lib/python3.8/site-packages (from allensdk) (3.8.0)\r\n",
      "Requirement already satisfied: seaborn<1.0.0 in /opt/hostedtoolcache/Python/3.8.17/x64/lib/python3.8/site-packages (from allensdk) (0.12.2)\r\n",
      "Requirement already satisfied: aiohttp==3.7.4 in /opt/hostedtoolcache/Python/3.8.17/x64/lib/python3.8/site-packages (from allensdk) (3.7.4)\r\n",
      "Requirement already satisfied: nest-asyncio in /opt/hostedtoolcache/Python/3.8.17/x64/lib/python3.8/site-packages (from allensdk) (1.5.6)\r\n",
      "Requirement already satisfied: tqdm>=4.27 in /opt/hostedtoolcache/Python/3.8.17/x64/lib/python3.8/site-packages (from allensdk) (4.65.0)\r\n",
      "Requirement already satisfied: ndx-events<=0.2.0 in /opt/hostedtoolcache/Python/3.8.17/x64/lib/python3.8/site-packages (from allensdk) (0.2.0)\r\n",
      "Requirement already satisfied: boto3==1.17.21 in /opt/hostedtoolcache/Python/3.8.17/x64/lib/python3.8/site-packages (from allensdk) (1.17.21)\r\n",
      "Requirement already satisfied: semver in /opt/hostedtoolcache/Python/3.8.17/x64/lib/python3.8/site-packages (from allensdk) (3.0.1)\r\n",
      "Requirement already satisfied: cachetools<5.0.0,>=4.2.1 in /opt/hostedtoolcache/Python/3.8.17/x64/lib/python3.8/site-packages (from allensdk) (4.2.4)\r\n",
      "Requirement already satisfied: sqlalchemy in /opt/hostedtoolcache/Python/3.8.17/x64/lib/python3.8/site-packages (from allensdk) (2.0.19)\r\n",
      "Requirement already satisfied: python-dateutil in /opt/hostedtoolcache/Python/3.8.17/x64/lib/python3.8/site-packages (from allensdk) (2.8.2)\r\n",
      "Requirement already satisfied: attrs>=17.3.0 in /opt/hostedtoolcache/Python/3.8.17/x64/lib/python3.8/site-packages (from aiohttp==3.7.4->allensdk) (23.1.0)\r\n",
      "Requirement already satisfied: chardet<4.0,>=2.0 in /opt/hostedtoolcache/Python/3.8.17/x64/lib/python3.8/site-packages (from aiohttp==3.7.4->allensdk) (3.0.4)\r\n",
      "Requirement already satisfied: multidict<7.0,>=4.5 in /opt/hostedtoolcache/Python/3.8.17/x64/lib/python3.8/site-packages (from aiohttp==3.7.4->allensdk) (6.0.4)\r\n",
      "Requirement already satisfied: async-timeout<4.0,>=3.0 in /opt/hostedtoolcache/Python/3.8.17/x64/lib/python3.8/site-packages (from aiohttp==3.7.4->allensdk) (3.0.1)\r\n",
      "Requirement already satisfied: yarl<2.0,>=1.0 in /opt/hostedtoolcache/Python/3.8.17/x64/lib/python3.8/site-packages (from aiohttp==3.7.4->allensdk) (1.9.2)\r\n",
      "Requirement already satisfied: typing-extensions>=3.6.5 in /opt/hostedtoolcache/Python/3.8.17/x64/lib/python3.8/site-packages (from aiohttp==3.7.4->allensdk) (4.7.1)\r\n",
      "Requirement already satisfied: botocore<1.21.0,>=1.20.21 in /opt/hostedtoolcache/Python/3.8.17/x64/lib/python3.8/site-packages (from boto3==1.17.21->allensdk) (1.20.112)\r\n",
      "Requirement already satisfied: jmespath<1.0.0,>=0.7.1 in /opt/hostedtoolcache/Python/3.8.17/x64/lib/python3.8/site-packages (from boto3==1.17.21->allensdk) (0.10.0)\r\n",
      "Requirement already satisfied: s3transfer<0.4.0,>=0.3.0 in /opt/hostedtoolcache/Python/3.8.17/x64/lib/python3.8/site-packages (from boto3==1.17.21->allensdk) (0.3.7)\r\n",
      "Requirement already satisfied: setuptools in /opt/hostedtoolcache/Python/3.8.17/x64/lib/python3.8/site-packages (from glymur==0.8.19->allensdk) (56.0.0)\r\n",
      "Requirement already satisfied: marshmallow<4.0,>=3.0.0 in /opt/hostedtoolcache/Python/3.8.17/x64/lib/python3.8/site-packages (from argschema<4.0.0,>=3.0.1->allensdk) (3.19.0)\r\n",
      "Requirement already satisfied: pyyaml in /opt/hostedtoolcache/Python/3.8.17/x64/lib/python3.8/site-packages (from argschema<4.0.0,>=3.0.1->allensdk) (6.0.1)\r\n",
      "Requirement already satisfied: jsonschema<5,>=2.6.0 in /opt/hostedtoolcache/Python/3.8.17/x64/lib/python3.8/site-packages (from hdmf<=3.4.7->allensdk) (4.18.4)\r\n",
      "Requirement already satisfied: ruamel.yaml<1,>=0.16 in /opt/hostedtoolcache/Python/3.8.17/x64/lib/python3.8/site-packages (from hdmf<=3.4.7->allensdk) (0.17.32)\r\n",
      "Requirement already satisfied: MarkupSafe>=2.0 in /opt/hostedtoolcache/Python/3.8.17/x64/lib/python3.8/site-packages (from jinja2>=3.0.0->allensdk) (2.1.3)\r\n",
      "Requirement already satisfied: cycler>=0.10 in /opt/hostedtoolcache/Python/3.8.17/x64/lib/python3.8/site-packages (from matplotlib<3.4.3,>=1.4.3->allensdk) (0.11.0)\r\n",
      "Requirement already satisfied: kiwisolver>=1.0.1 in /opt/hostedtoolcache/Python/3.8.17/x64/lib/python3.8/site-packages (from matplotlib<3.4.3,>=1.4.3->allensdk) (1.4.4)\r\n",
      "Requirement already satisfied: pillow>=6.2.0 in /opt/hostedtoolcache/Python/3.8.17/x64/lib/python3.8/site-packages (from matplotlib<3.4.3,>=1.4.3->allensdk) (10.0.0)\r\n",
      "Requirement already satisfied: pyparsing>=2.2.1 in /opt/hostedtoolcache/Python/3.8.17/x64/lib/python3.8/site-packages (from matplotlib<3.4.3,>=1.4.3->allensdk) (3.1.0)\r\n",
      "Requirement already satisfied: pytz>=2020.1 in /opt/hostedtoolcache/Python/3.8.17/x64/lib/python3.8/site-packages (from pandas>=1.1.5->allensdk) (2023.3)\r\n",
      "Requirement already satisfied: charset-normalizer<4,>=2 in /opt/hostedtoolcache/Python/3.8.17/x64/lib/python3.8/site-packages (from requests<3.0.0->allensdk) (3.2.0)\r\n",
      "Requirement already satisfied: idna<4,>=2.5 in /opt/hostedtoolcache/Python/3.8.17/x64/lib/python3.8/site-packages (from requests<3.0.0->allensdk) (3.4)\r\n",
      "Requirement already satisfied: urllib3<3,>=1.21.1 in /opt/hostedtoolcache/Python/3.8.17/x64/lib/python3.8/site-packages (from requests<3.0.0->allensdk) (1.26.16)\r\n",
      "Requirement already satisfied: certifi>=2017.4.17 in /opt/hostedtoolcache/Python/3.8.17/x64/lib/python3.8/site-packages (from requests<3.0.0->allensdk) (2023.5.7)\r\n",
      "Requirement already satisfied: distro in /opt/hostedtoolcache/Python/3.8.17/x64/lib/python3.8/site-packages (from scikit-build<1.0.0->allensdk) (1.8.0)\r\n",
      "Requirement already satisfied: packaging in /opt/hostedtoolcache/Python/3.8.17/x64/lib/python3.8/site-packages (from scikit-build<1.0.0->allensdk) (23.1)\r\n",
      "Requirement already satisfied: tomli in /opt/hostedtoolcache/Python/3.8.17/x64/lib/python3.8/site-packages (from scikit-build<1.0.0->allensdk) (2.0.1)\r\n",
      "Requirement already satisfied: wheel>=0.32.0 in /opt/hostedtoolcache/Python/3.8.17/x64/lib/python3.8/site-packages (from scikit-build<1.0.0->allensdk) (0.40.0)\r\n",
      "Requirement already satisfied: networkx>=2.8 in /opt/hostedtoolcache/Python/3.8.17/x64/lib/python3.8/site-packages (from scikit-image>=0.14.0->allensdk) (3.1)\r\n",
      "Requirement already satisfied: imageio>=2.27 in /opt/hostedtoolcache/Python/3.8.17/x64/lib/python3.8/site-packages (from scikit-image>=0.14.0->allensdk) (2.31.1)\r\n",
      "Requirement already satisfied: tifffile>=2022.8.12 in /opt/hostedtoolcache/Python/3.8.17/x64/lib/python3.8/site-packages (from scikit-image>=0.14.0->allensdk) (2023.7.10)\r\n",
      "Requirement already satisfied: PyWavelets>=1.1.1 in /opt/hostedtoolcache/Python/3.8.17/x64/lib/python3.8/site-packages (from scikit-image>=0.14.0->allensdk) (1.4.1)\r\n",
      "Requirement already satisfied: lazy_loader>=0.2 in /opt/hostedtoolcache/Python/3.8.17/x64/lib/python3.8/site-packages (from scikit-image>=0.14.0->allensdk) (0.3)\r\n",
      "Requirement already satisfied: greenlet!=0.4.17 in /opt/hostedtoolcache/Python/3.8.17/x64/lib/python3.8/site-packages (from sqlalchemy->allensdk) (2.0.2)\r\n",
      "Requirement already satisfied: patsy>=0.5.2 in /opt/hostedtoolcache/Python/3.8.17/x64/lib/python3.8/site-packages (from statsmodels->allensdk) (0.5.3)\r\n",
      "Requirement already satisfied: cython>=0.29.21 in /opt/hostedtoolcache/Python/3.8.17/x64/lib/python3.8/site-packages (from tables->allensdk) (3.0.0)\r\n",
      "Requirement already satisfied: numexpr>=2.6.2 in /opt/hostedtoolcache/Python/3.8.17/x64/lib/python3.8/site-packages (from tables->allensdk) (2.8.4)\r\n",
      "Requirement already satisfied: blosc2~=2.0.0 in /opt/hostedtoolcache/Python/3.8.17/x64/lib/python3.8/site-packages (from tables->allensdk) (2.0.0)\r\n",
      "Requirement already satisfied: py-cpuinfo in /opt/hostedtoolcache/Python/3.8.17/x64/lib/python3.8/site-packages (from tables->allensdk) (9.0.0)\r\n",
      "Requirement already satisfied: msgpack in /opt/hostedtoolcache/Python/3.8.17/x64/lib/python3.8/site-packages (from blosc2~=2.0.0->tables->allensdk) (1.0.5)\r\n",
      "Requirement already satisfied: importlib-resources>=1.4.0 in /opt/hostedtoolcache/Python/3.8.17/x64/lib/python3.8/site-packages (from jsonschema<5,>=2.6.0->hdmf<=3.4.7->allensdk) (6.0.0)\r\n",
      "Requirement already satisfied: jsonschema-specifications>=2023.03.6 in /opt/hostedtoolcache/Python/3.8.17/x64/lib/python3.8/site-packages (from jsonschema<5,>=2.6.0->hdmf<=3.4.7->allensdk) (2023.7.1)\r\n",
      "Requirement already satisfied: pkgutil-resolve-name>=1.3.10 in /opt/hostedtoolcache/Python/3.8.17/x64/lib/python3.8/site-packages (from jsonschema<5,>=2.6.0->hdmf<=3.4.7->allensdk) (1.3.10)\r\n",
      "Requirement already satisfied: referencing>=0.28.4 in /opt/hostedtoolcache/Python/3.8.17/x64/lib/python3.8/site-packages (from jsonschema<5,>=2.6.0->hdmf<=3.4.7->allensdk) (0.30.0)\r\n",
      "Requirement already satisfied: rpds-py>=0.7.1 in /opt/hostedtoolcache/Python/3.8.17/x64/lib/python3.8/site-packages (from jsonschema<5,>=2.6.0->hdmf<=3.4.7->allensdk) (0.9.2)\r\n",
      "Requirement already satisfied: ruamel.yaml.clib>=0.2.7 in /opt/hostedtoolcache/Python/3.8.17/x64/lib/python3.8/site-packages (from ruamel.yaml<1,>=0.16->hdmf<=3.4.7->allensdk) (0.2.7)\r\n",
      "Requirement already satisfied: zipp>=3.1.0 in /opt/hostedtoolcache/Python/3.8.17/x64/lib/python3.8/site-packages (from importlib-resources>=1.4.0->jsonschema<5,>=2.6.0->hdmf<=3.4.7->allensdk) (3.16.2)\r\n"
     ]
    }
   ],
   "source": [
    "!pip install allensdk"
   ]
  },
  {
   "cell_type": "markdown",
   "id": "558d41de",
   "metadata": {
    "papermill": {
     "duration": 0.032678,
     "end_time": "2023-07-19T22:23:47.437258",
     "exception": false,
     "start_time": "2023-07-19T22:23:47.404580",
     "status": "completed"
    },
    "pycharm": {
     "name": "#%% md\n"
    },
    "tags": []
   },
   "source": [
    "## Install AllenSDK into your notebook environment (good for Google Colab)"
   ]
  },
  {
   "cell_type": "markdown",
   "id": "a5394404",
   "metadata": {
    "papermill": {
     "duration": 0.032514,
     "end_time": "2023-07-19T22:23:47.502320",
     "exception": false,
     "start_time": "2023-07-19T22:23:47.469806",
     "status": "completed"
    },
    "pycharm": {
     "name": "#%% md\n"
    },
    "tags": []
   },
   "source": [
    "You can install AllenSDK into your notebook environment by executing the cell below.\n",
    "\n",
    "If using Google Colab, click on the RESTART RUNTIME button that appears at the end of the output when this cell is complete,. Note that running this cell will produce a long list of outputs and some error messages. Clicking RESTART RUNTIME at the end will resolve these issues.\n",
    "You can minimize the cell after you are done to hide the output."
   ]
  },
  {
   "cell_type": "code",
   "execution_count": 2,
   "id": "fdc24a64",
   "metadata": {
    "execution": {
     "iopub.execute_input": "2023-07-19T22:23:47.570928Z",
     "iopub.status.busy": "2023-07-19T22:23:47.569840Z",
     "iopub.status.idle": "2023-07-19T22:23:52.863891Z",
     "shell.execute_reply": "2023-07-19T22:23:52.862426Z"
    },
    "papermill": {
     "duration": 5.331658,
     "end_time": "2023-07-19T22:23:52.866670",
     "exception": false,
     "start_time": "2023-07-19T22:23:47.535012",
     "status": "completed"
    },
    "pycharm": {
     "name": "#%%\n"
    },
    "tags": []
   },
   "outputs": [
    {
     "name": "stdout",
     "output_type": "stream",
     "text": [
      "Requirement already satisfied: pip in /opt/hostedtoolcache/Python/3.8.17/x64/lib/python3.8/site-packages (23.2)\r\n",
      "Requirement already satisfied: allensdk in /opt/hostedtoolcache/Python/3.8.17/x64/lib/python3.8/site-packages (2.15.1)\r\n",
      "Requirement already satisfied: psycopg2-binary in /opt/hostedtoolcache/Python/3.8.17/x64/lib/python3.8/site-packages (from allensdk) (2.9.6)\r\n",
      "Requirement already satisfied: hdmf<=3.4.7 in /opt/hostedtoolcache/Python/3.8.17/x64/lib/python3.8/site-packages (from allensdk) (3.4.7)\r\n",
      "Requirement already satisfied: h5py in /opt/hostedtoolcache/Python/3.8.17/x64/lib/python3.8/site-packages (from allensdk) (3.9.0)\r\n",
      "Requirement already satisfied: matplotlib<3.4.3,>=1.4.3 in /opt/hostedtoolcache/Python/3.8.17/x64/lib/python3.8/site-packages (from allensdk) (3.4.2)\r\n",
      "Requirement already satisfied: numpy in /opt/hostedtoolcache/Python/3.8.17/x64/lib/python3.8/site-packages (from allensdk) (1.23.5)\r\n",
      "Requirement already satisfied: pandas>=1.1.5 in /opt/hostedtoolcache/Python/3.8.17/x64/lib/python3.8/site-packages (from allensdk) (1.5.3)\r\n",
      "Requirement already satisfied: jinja2>=3.0.0 in /opt/hostedtoolcache/Python/3.8.17/x64/lib/python3.8/site-packages (from allensdk) (3.1.2)\r\n",
      "Requirement already satisfied: scipy<2.0.0,>=1.4.0 in /opt/hostedtoolcache/Python/3.8.17/x64/lib/python3.8/site-packages (from allensdk) (1.10.1)\r\n",
      "Requirement already satisfied: six<2.0.0,>=1.9.0 in /opt/hostedtoolcache/Python/3.8.17/x64/lib/python3.8/site-packages (from allensdk) (1.16.0)\r\n",
      "Requirement already satisfied: pynrrd<1.0.0,>=0.2.1 in /opt/hostedtoolcache/Python/3.8.17/x64/lib/python3.8/site-packages (from allensdk) (0.4.3)\r\n",
      "Requirement already satisfied: future<1.0.0,>=0.14.3 in /opt/hostedtoolcache/Python/3.8.17/x64/lib/python3.8/site-packages (from allensdk) (0.18.3)\r\n",
      "Requirement already satisfied: requests<3.0.0 in /opt/hostedtoolcache/Python/3.8.17/x64/lib/python3.8/site-packages (from allensdk) (2.31.0)\r\n",
      "Requirement already satisfied: requests-toolbelt<1.0.0 in /opt/hostedtoolcache/Python/3.8.17/x64/lib/python3.8/site-packages (from allensdk) (0.10.1)\r\n",
      "Requirement already satisfied: simplejson<4.0.0,>=3.10.0 in /opt/hostedtoolcache/Python/3.8.17/x64/lib/python3.8/site-packages (from allensdk) (3.19.1)\r\n",
      "Requirement already satisfied: scikit-image>=0.14.0 in /opt/hostedtoolcache/Python/3.8.17/x64/lib/python3.8/site-packages (from allensdk) (0.21.0)\r\n",
      "Requirement already satisfied: scikit-build<1.0.0 in /opt/hostedtoolcache/Python/3.8.17/x64/lib/python3.8/site-packages (from allensdk) (0.17.6)\r\n",
      "Requirement already satisfied: statsmodels in /opt/hostedtoolcache/Python/3.8.17/x64/lib/python3.8/site-packages (from allensdk) (0.14.0)\r\n",
      "Requirement already satisfied: simpleitk<3.0.0,>=2.0.2 in /opt/hostedtoolcache/Python/3.8.17/x64/lib/python3.8/site-packages (from allensdk) (2.2.1)\r\n",
      "Requirement already satisfied: argschema<4.0.0,>=3.0.1 in /opt/hostedtoolcache/Python/3.8.17/x64/lib/python3.8/site-packages (from allensdk) (3.0.4)\r\n",
      "Requirement already satisfied: glymur==0.8.19 in /opt/hostedtoolcache/Python/3.8.17/x64/lib/python3.8/site-packages (from allensdk) (0.8.19)\r\n",
      "Requirement already satisfied: xarray in /opt/hostedtoolcache/Python/3.8.17/x64/lib/python3.8/site-packages (from allensdk) (2023.1.0)\r\n",
      "Requirement already satisfied: pynwb in /opt/hostedtoolcache/Python/3.8.17/x64/lib/python3.8/site-packages (from allensdk) (2.2.0)\r\n",
      "Requirement already satisfied: tables in /opt/hostedtoolcache/Python/3.8.17/x64/lib/python3.8/site-packages (from allensdk) (3.8.0)\r\n",
      "Requirement already satisfied: seaborn<1.0.0 in /opt/hostedtoolcache/Python/3.8.17/x64/lib/python3.8/site-packages (from allensdk) (0.12.2)\r\n",
      "Requirement already satisfied: aiohttp==3.7.4 in /opt/hostedtoolcache/Python/3.8.17/x64/lib/python3.8/site-packages (from allensdk) (3.7.4)\r\n",
      "Requirement already satisfied: nest-asyncio in /opt/hostedtoolcache/Python/3.8.17/x64/lib/python3.8/site-packages (from allensdk) (1.5.6)\r\n",
      "Requirement already satisfied: tqdm>=4.27 in /opt/hostedtoolcache/Python/3.8.17/x64/lib/python3.8/site-packages (from allensdk) (4.65.0)\r\n",
      "Requirement already satisfied: ndx-events<=0.2.0 in /opt/hostedtoolcache/Python/3.8.17/x64/lib/python3.8/site-packages (from allensdk) (0.2.0)\r\n",
      "Requirement already satisfied: boto3==1.17.21 in /opt/hostedtoolcache/Python/3.8.17/x64/lib/python3.8/site-packages (from allensdk) (1.17.21)\r\n",
      "Requirement already satisfied: semver in /opt/hostedtoolcache/Python/3.8.17/x64/lib/python3.8/site-packages (from allensdk) (3.0.1)\r\n",
      "Requirement already satisfied: cachetools<5.0.0,>=4.2.1 in /opt/hostedtoolcache/Python/3.8.17/x64/lib/python3.8/site-packages (from allensdk) (4.2.4)\r\n",
      "Requirement already satisfied: sqlalchemy in /opt/hostedtoolcache/Python/3.8.17/x64/lib/python3.8/site-packages (from allensdk) (2.0.19)\r\n",
      "Requirement already satisfied: python-dateutil in /opt/hostedtoolcache/Python/3.8.17/x64/lib/python3.8/site-packages (from allensdk) (2.8.2)\r\n",
      "Requirement already satisfied: attrs>=17.3.0 in /opt/hostedtoolcache/Python/3.8.17/x64/lib/python3.8/site-packages (from aiohttp==3.7.4->allensdk) (23.1.0)\r\n",
      "Requirement already satisfied: chardet<4.0,>=2.0 in /opt/hostedtoolcache/Python/3.8.17/x64/lib/python3.8/site-packages (from aiohttp==3.7.4->allensdk) (3.0.4)\r\n",
      "Requirement already satisfied: multidict<7.0,>=4.5 in /opt/hostedtoolcache/Python/3.8.17/x64/lib/python3.8/site-packages (from aiohttp==3.7.4->allensdk) (6.0.4)\r\n",
      "Requirement already satisfied: async-timeout<4.0,>=3.0 in /opt/hostedtoolcache/Python/3.8.17/x64/lib/python3.8/site-packages (from aiohttp==3.7.4->allensdk) (3.0.1)\r\n",
      "Requirement already satisfied: yarl<2.0,>=1.0 in /opt/hostedtoolcache/Python/3.8.17/x64/lib/python3.8/site-packages (from aiohttp==3.7.4->allensdk) (1.9.2)\r\n",
      "Requirement already satisfied: typing-extensions>=3.6.5 in /opt/hostedtoolcache/Python/3.8.17/x64/lib/python3.8/site-packages (from aiohttp==3.7.4->allensdk) (4.7.1)\r\n",
      "Requirement already satisfied: botocore<1.21.0,>=1.20.21 in /opt/hostedtoolcache/Python/3.8.17/x64/lib/python3.8/site-packages (from boto3==1.17.21->allensdk) (1.20.112)\r\n",
      "Requirement already satisfied: jmespath<1.0.0,>=0.7.1 in /opt/hostedtoolcache/Python/3.8.17/x64/lib/python3.8/site-packages (from boto3==1.17.21->allensdk) (0.10.0)\r\n",
      "Requirement already satisfied: s3transfer<0.4.0,>=0.3.0 in /opt/hostedtoolcache/Python/3.8.17/x64/lib/python3.8/site-packages (from boto3==1.17.21->allensdk) (0.3.7)\r\n",
      "Requirement already satisfied: setuptools in /opt/hostedtoolcache/Python/3.8.17/x64/lib/python3.8/site-packages (from glymur==0.8.19->allensdk) (56.0.0)\r\n",
      "Requirement already satisfied: marshmallow<4.0,>=3.0.0 in /opt/hostedtoolcache/Python/3.8.17/x64/lib/python3.8/site-packages (from argschema<4.0.0,>=3.0.1->allensdk) (3.19.0)\r\n",
      "Requirement already satisfied: pyyaml in /opt/hostedtoolcache/Python/3.8.17/x64/lib/python3.8/site-packages (from argschema<4.0.0,>=3.0.1->allensdk) (6.0.1)\r\n",
      "Requirement already satisfied: jsonschema<5,>=2.6.0 in /opt/hostedtoolcache/Python/3.8.17/x64/lib/python3.8/site-packages (from hdmf<=3.4.7->allensdk) (4.18.4)\r\n",
      "Requirement already satisfied: ruamel.yaml<1,>=0.16 in /opt/hostedtoolcache/Python/3.8.17/x64/lib/python3.8/site-packages (from hdmf<=3.4.7->allensdk) (0.17.32)\r\n",
      "Requirement already satisfied: MarkupSafe>=2.0 in /opt/hostedtoolcache/Python/3.8.17/x64/lib/python3.8/site-packages (from jinja2>=3.0.0->allensdk) (2.1.3)\r\n",
      "Requirement already satisfied: cycler>=0.10 in /opt/hostedtoolcache/Python/3.8.17/x64/lib/python3.8/site-packages (from matplotlib<3.4.3,>=1.4.3->allensdk) (0.11.0)\r\n",
      "Requirement already satisfied: kiwisolver>=1.0.1 in /opt/hostedtoolcache/Python/3.8.17/x64/lib/python3.8/site-packages (from matplotlib<3.4.3,>=1.4.3->allensdk) (1.4.4)\r\n",
      "Requirement already satisfied: pillow>=6.2.0 in /opt/hostedtoolcache/Python/3.8.17/x64/lib/python3.8/site-packages (from matplotlib<3.4.3,>=1.4.3->allensdk) (10.0.0)\r\n",
      "Requirement already satisfied: pyparsing>=2.2.1 in /opt/hostedtoolcache/Python/3.8.17/x64/lib/python3.8/site-packages (from matplotlib<3.4.3,>=1.4.3->allensdk) (3.1.0)\r\n",
      "Requirement already satisfied: pytz>=2020.1 in /opt/hostedtoolcache/Python/3.8.17/x64/lib/python3.8/site-packages (from pandas>=1.1.5->allensdk) (2023.3)\r\n",
      "Requirement already satisfied: charset-normalizer<4,>=2 in /opt/hostedtoolcache/Python/3.8.17/x64/lib/python3.8/site-packages (from requests<3.0.0->allensdk) (3.2.0)\r\n",
      "Requirement already satisfied: idna<4,>=2.5 in /opt/hostedtoolcache/Python/3.8.17/x64/lib/python3.8/site-packages (from requests<3.0.0->allensdk) (3.4)\r\n",
      "Requirement already satisfied: urllib3<3,>=1.21.1 in /opt/hostedtoolcache/Python/3.8.17/x64/lib/python3.8/site-packages (from requests<3.0.0->allensdk) (1.26.16)\r\n",
      "Requirement already satisfied: certifi>=2017.4.17 in /opt/hostedtoolcache/Python/3.8.17/x64/lib/python3.8/site-packages (from requests<3.0.0->allensdk) (2023.5.7)\r\n",
      "Requirement already satisfied: distro in /opt/hostedtoolcache/Python/3.8.17/x64/lib/python3.8/site-packages (from scikit-build<1.0.0->allensdk) (1.8.0)\r\n",
      "Requirement already satisfied: packaging in /opt/hostedtoolcache/Python/3.8.17/x64/lib/python3.8/site-packages (from scikit-build<1.0.0->allensdk) (23.1)\r\n",
      "Requirement already satisfied: tomli in /opt/hostedtoolcache/Python/3.8.17/x64/lib/python3.8/site-packages (from scikit-build<1.0.0->allensdk) (2.0.1)\r\n",
      "Requirement already satisfied: wheel>=0.32.0 in /opt/hostedtoolcache/Python/3.8.17/x64/lib/python3.8/site-packages (from scikit-build<1.0.0->allensdk) (0.40.0)\r\n",
      "Requirement already satisfied: networkx>=2.8 in /opt/hostedtoolcache/Python/3.8.17/x64/lib/python3.8/site-packages (from scikit-image>=0.14.0->allensdk) (3.1)\r\n",
      "Requirement already satisfied: imageio>=2.27 in /opt/hostedtoolcache/Python/3.8.17/x64/lib/python3.8/site-packages (from scikit-image>=0.14.0->allensdk) (2.31.1)\r\n",
      "Requirement already satisfied: tifffile>=2022.8.12 in /opt/hostedtoolcache/Python/3.8.17/x64/lib/python3.8/site-packages (from scikit-image>=0.14.0->allensdk) (2023.7.10)\r\n",
      "Requirement already satisfied: PyWavelets>=1.1.1 in /opt/hostedtoolcache/Python/3.8.17/x64/lib/python3.8/site-packages (from scikit-image>=0.14.0->allensdk) (1.4.1)\r\n",
      "Requirement already satisfied: lazy_loader>=0.2 in /opt/hostedtoolcache/Python/3.8.17/x64/lib/python3.8/site-packages (from scikit-image>=0.14.0->allensdk) (0.3)\r\n",
      "Requirement already satisfied: greenlet!=0.4.17 in /opt/hostedtoolcache/Python/3.8.17/x64/lib/python3.8/site-packages (from sqlalchemy->allensdk) (2.0.2)\r\n",
      "Requirement already satisfied: patsy>=0.5.2 in /opt/hostedtoolcache/Python/3.8.17/x64/lib/python3.8/site-packages (from statsmodels->allensdk) (0.5.3)\r\n",
      "Requirement already satisfied: cython>=0.29.21 in /opt/hostedtoolcache/Python/3.8.17/x64/lib/python3.8/site-packages (from tables->allensdk) (3.0.0)\r\n",
      "Requirement already satisfied: numexpr>=2.6.2 in /opt/hostedtoolcache/Python/3.8.17/x64/lib/python3.8/site-packages (from tables->allensdk) (2.8.4)\r\n",
      "Requirement already satisfied: blosc2~=2.0.0 in /opt/hostedtoolcache/Python/3.8.17/x64/lib/python3.8/site-packages (from tables->allensdk) (2.0.0)\r\n",
      "Requirement already satisfied: py-cpuinfo in /opt/hostedtoolcache/Python/3.8.17/x64/lib/python3.8/site-packages (from tables->allensdk) (9.0.0)\r\n",
      "Requirement already satisfied: msgpack in /opt/hostedtoolcache/Python/3.8.17/x64/lib/python3.8/site-packages (from blosc2~=2.0.0->tables->allensdk) (1.0.5)\r\n",
      "Requirement already satisfied: importlib-resources>=1.4.0 in /opt/hostedtoolcache/Python/3.8.17/x64/lib/python3.8/site-packages (from jsonschema<5,>=2.6.0->hdmf<=3.4.7->allensdk) (6.0.0)\r\n",
      "Requirement already satisfied: jsonschema-specifications>=2023.03.6 in /opt/hostedtoolcache/Python/3.8.17/x64/lib/python3.8/site-packages (from jsonschema<5,>=2.6.0->hdmf<=3.4.7->allensdk) (2023.7.1)\r\n",
      "Requirement already satisfied: pkgutil-resolve-name>=1.3.10 in /opt/hostedtoolcache/Python/3.8.17/x64/lib/python3.8/site-packages (from jsonschema<5,>=2.6.0->hdmf<=3.4.7->allensdk) (1.3.10)\r\n",
      "Requirement already satisfied: referencing>=0.28.4 in /opt/hostedtoolcache/Python/3.8.17/x64/lib/python3.8/site-packages (from jsonschema<5,>=2.6.0->hdmf<=3.4.7->allensdk) (0.30.0)\r\n",
      "Requirement already satisfied: rpds-py>=0.7.1 in /opt/hostedtoolcache/Python/3.8.17/x64/lib/python3.8/site-packages (from jsonschema<5,>=2.6.0->hdmf<=3.4.7->allensdk) (0.9.2)\r\n",
      "Requirement already satisfied: ruamel.yaml.clib>=0.2.7 in /opt/hostedtoolcache/Python/3.8.17/x64/lib/python3.8/site-packages (from ruamel.yaml<1,>=0.16->hdmf<=3.4.7->allensdk) (0.2.7)\r\n",
      "Requirement already satisfied: zipp>=3.1.0 in /opt/hostedtoolcache/Python/3.8.17/x64/lib/python3.8/site-packages (from importlib-resources>=1.4.0->jsonschema<5,>=2.6.0->hdmf<=3.4.7->allensdk) (3.16.2)\r\n"
     ]
    }
   ],
   "source": [
    "!pip install --upgrade pip\n",
    "!pip install allensdk"
   ]
  },
  {
   "cell_type": "markdown",
   "id": "d26db20b",
   "metadata": {
    "papermill": {
     "duration": 0.035074,
     "end_time": "2023-07-19T22:23:52.937752",
     "exception": false,
     "start_time": "2023-07-19T22:23:52.902678",
     "status": "completed"
    },
    "pycharm": {
     "name": "#%% md\n"
    },
    "tags": []
   },
   "source": [
    "## Import necessary packages"
   ]
  },
  {
   "cell_type": "code",
   "execution_count": 3,
   "id": "61cecf93",
   "metadata": {
    "execution": {
     "iopub.execute_input": "2023-07-19T22:23:53.012154Z",
     "iopub.status.busy": "2023-07-19T22:23:53.011072Z",
     "iopub.status.idle": "2023-07-19T22:23:59.457340Z",
     "shell.execute_reply": "2023-07-19T22:23:59.455976Z"
    },
    "papermill": {
     "duration": 6.487321,
     "end_time": "2023-07-19T22:23:59.460273",
     "exception": false,
     "start_time": "2023-07-19T22:23:52.972952",
     "status": "completed"
    },
    "pycharm": {
     "is_executing": true,
     "name": "#%%\n"
    },
    "tags": []
   },
   "outputs": [
    {
     "name": "stderr",
     "output_type": "stream",
     "text": [
      "/opt/hostedtoolcache/Python/3.8.17/x64/lib/python3.8/site-packages/tqdm/auto.py:21: TqdmWarning: IProgress not found. Please update jupyter and ipywidgets. See https://ipywidgets.readthedocs.io/en/stable/user_install.html\n",
      "  from .autonotebook import tqdm as notebook_tqdm\n"
     ]
    }
   ],
   "source": [
    "import numpy as np\n",
    "\n",
    "from allensdk.brain_observatory.behavior.behavior_project_cache import VisualBehaviorOphysProjectCache"
   ]
  },
  {
   "cell_type": "markdown",
   "id": "4bb898d4",
   "metadata": {
    "papermill": {
     "duration": 0.034125,
     "end_time": "2023-07-19T22:23:59.529700",
     "exception": false,
     "start_time": "2023-07-19T22:23:59.495575",
     "status": "completed"
    },
    "pycharm": {
     "name": "#%% md\n"
    },
    "tags": []
   },
   "source": [
    "## First, load the project cache - your access point for all tables and data"
   ]
  },
  {
   "cell_type": "code",
   "execution_count": 4,
   "id": "003ddb42",
   "metadata": {
    "execution": {
     "iopub.execute_input": "2023-07-19T22:23:59.599498Z",
     "iopub.status.busy": "2023-07-19T22:23:59.598305Z",
     "iopub.status.idle": "2023-07-19T22:23:59.603320Z",
     "shell.execute_reply": "2023-07-19T22:23:59.602569Z"
    },
    "papermill": {
     "duration": 0.042215,
     "end_time": "2023-07-19T22:23:59.605114",
     "exception": false,
     "start_time": "2023-07-19T22:23:59.562899",
     "status": "completed"
    },
    "pycharm": {
     "name": "#%%\n"
    },
    "tags": [
     "parameters"
    ]
   },
   "outputs": [],
   "source": [
    "# Update this to a valid directory in your filesystem\n",
    "output_dir = r\"\\Data\\visual_behavior_ophys_cache_dir\""
   ]
  },
  {
   "cell_type": "code",
   "execution_count": 6,
   "id": "f0b38233",
   "metadata": {
    "execution": {
     "iopub.execute_input": "2023-07-19T22:23:59.754051Z",
     "iopub.status.busy": "2023-07-19T22:23:59.753105Z",
     "iopub.status.idle": "2023-07-19T22:24:01.725422Z",
     "shell.execute_reply": "2023-07-19T22:24:01.724300Z"
    },
    "papermill": {
     "duration": 2.010703,
     "end_time": "2023-07-19T22:24:01.727927",
     "exception": false,
     "start_time": "2023-07-19T22:23:59.717224",
     "status": "completed"
    },
    "pycharm": {
     "name": "#%%\n"
    },
    "tags": []
   },
   "outputs": [
    {
     "name": "stderr",
     "output_type": "stream",
     "text": [
      "/home/runner/work/AllenSDK/AllenSDK/allensdk/api/cloud_cache/cloud_cache.py:413: MissingLocalManifestWarning: This cache directory appears to contain data files, but it has no record of what those files are. You might want to consider running\n",
      "\n",
      "VisualBehaviorOphysProjectCache.construct_local_manifest()\n",
      "\n",
      "to avoid needlessly downloading duplicates of data files that did not change between data releases. NOTE: running this method will require hashing every data file you have currently downloaded and could be very time consuming.\n",
      "\n",
      "To avoid this warning in the future, make sure that\n",
      "\n",
      "/tmp/tmp6aiuh5rl/_downloaded_data.json\n",
      "\n",
      "is not deleted between instantiations of this cache\n",
      "  warnings.warn(msg, MissingLocalManifestWarning)\n",
      "ophys_session_table.csv: 100%|██████████| 227k/227k [00:00<00:00, 1.68MMB/s] \n",
      "behavior_session_table.csv: 100%|██████████| 1.21M/1.21M [00:00<00:00, 10.6MMB/s]\n",
      "ophys_experiment_table.csv: 100%|██████████| 610k/610k [00:00<00:00, 4.60MMB/s] \n",
      "ophys_cells_table.csv: 100%|██████████| 4.29M/4.29M [00:00<00:00, 13.9MMB/s]\n"
     ]
    }
   ],
   "source": [
    "cache = VisualBehaviorOphysProjectCache.from_s3_cache(cache_dir=output_dir)"
   ]
  },
  {
   "cell_type": "markdown",
   "id": "358b9ca2",
   "metadata": {
    "papermill": {
     "duration": 0.035917,
     "end_time": "2023-07-19T22:24:01.799228",
     "exception": false,
     "start_time": "2023-07-19T22:24:01.763311",
     "status": "completed"
    },
    "pycharm": {
     "name": "#%% md\n"
    },
    "tags": []
   },
   "source": [
    "The data manifest is comprised of three types of tables: \n",
    "\n",
    "1. `behavior_session_table` \n",
    "2. `ophys_session_table` \n",
    "3. `ophys_experiment_table` \n",
    "\n",
    "The `behavior_session_table` contains metadata for every <b>behavior session</b> in the dataset. Some behavior sessions have 2-photon data associated with them, while others took place during training in the behavior facility. The different training stages that mice are progressed through are described by the `session_type`. \n",
    "\n",
    "The `ophys_session_table` contains metadata for every 2-photon imaging (aka optical physiology, or ophys) session in the dataset, associated with a unique `ophys_session_id`. An <b>ophys session</b> is one continuous recording session under the microscope, and can contain different numbers of imaging planes (aka experiments) depending on which microscope was used. For Scientifica sessions, there will only be one experiment (aka imaging plane) per session. For Multiscope sessions, there can be up to eight imaging planes per session. Quality Control (QC) is performed on each individual imaging plane within a session, so each can fail QC independent of the others. This means that a Multiscope session may not have exactly eight experiments (imaging planes). \n",
    "\n",
    "The `ophys_experiment_table` contains metadata for every <b>ophys experiment</b> in the dataset, which corresponds to a single imaging plane recorded in a single session, and associated with a unique `ophys_experiment_id`. A key part of our experimental design is targeting a given population of neurons, contained in one imaging plane, across multiple `session_types` (further described below) to examine the impact of varying sensory and behavioral conditions on single cell responses. The collection of all imaging sessions for a given imaging plane is referred to as an <b>ophys container</b>, associated with a unique `ophys_container_id`. Each ophys container may contain different numbers of sessions, depending on which experiments passed QC, and how many retakes occured (when a given `session_type` fails QC on the first try, an attempt is made to re-acquire the session_type on a different recording day - this is called a retake, also described further below). "
   ]
  },
  {
   "cell_type": "markdown",
   "id": "745f2f80",
   "metadata": {
    "papermill": {
     "duration": 0.034644,
     "end_time": "2023-07-19T22:24:01.867721",
     "exception": false,
     "start_time": "2023-07-19T22:24:01.833077",
     "status": "completed"
    },
    "pycharm": {
     "name": "#%% md\n"
    },
    "tags": []
   },
   "source": [
    "### To understand the difference between an `ophys_experiment`, an `ophys_session`, and an `ophys_container`, the following schematic can be helpful"
   ]
  },
  {
   "cell_type": "markdown",
   "id": "5cba01b6",
   "metadata": {
    "papermill": {
     "duration": 0.03575,
     "end_time": "2023-07-19T22:24:01.939378",
     "exception": false,
     "start_time": "2023-07-19T22:24:01.903628",
     "status": "completed"
    },
    "pycharm": {
     "name": "#%% md\n"
    },
    "tags": []
   },
   "source": [
    "<div>\n",
    "<img src=\"https://allensdk.readthedocs.io/en/latest/_static/visual_behavior_2p/data_structure.png\", width=\"900\"/>\n",
    "</div>"
   ]
  },
  {
   "cell_type": "markdown",
   "id": "76cd72dd",
   "metadata": {
    "papermill": {
     "duration": 0.035487,
     "end_time": "2023-07-19T22:24:02.010468",
     "exception": false,
     "start_time": "2023-07-19T22:24:01.974981",
     "status": "completed"
    },
    "pycharm": {
     "name": "#%% md\n"
    },
    "tags": []
   },
   "source": [
    "Note that this represents a multi-plane imaging dataset. For single-plane imaging, there will only be one plane, corresponding to one row of this diagram."
   ]
  },
  {
   "cell_type": "markdown",
   "id": "ff3bee62",
   "metadata": {
    "papermill": {
     "duration": 0.043503,
     "end_time": "2023-07-19T22:24:02.088952",
     "exception": false,
     "start_time": "2023-07-19T22:24:02.045449",
     "status": "completed"
    },
    "pycharm": {
     "name": "#%% md\n"
    },
    "tags": []
   },
   "source": [
    "## Lets go through each table and examine what metadata columns are available"
   ]
  },
  {
   "cell_type": "markdown",
   "id": "4938ec29",
   "metadata": {
    "papermill": {
     "duration": 0.039084,
     "end_time": "2023-07-19T22:24:02.171025",
     "exception": false,
     "start_time": "2023-07-19T22:24:02.131941",
     "status": "completed"
    },
    "pycharm": {
     "name": "#%% md\n"
    },
    "tags": []
   },
   "source": [
    "# Behavior Sessions Table"
   ]
  },
  {
   "cell_type": "markdown",
   "id": "13b629b0",
   "metadata": {
    "papermill": {
     "duration": 0.039065,
     "end_time": "2023-07-19T22:24:02.253341",
     "exception": false,
     "start_time": "2023-07-19T22:24:02.214276",
     "status": "completed"
    },
    "pycharm": {
     "name": "#%% md\n"
    },
    "tags": []
   },
   "source": [
    "In this dataset, mice are trained on a visual change detection task. This task involves a continuous stream of stimuli, and mice learn to lick in response to a change in the stimulus identity to earn a water reward. There are different stages of training in this task, described below. The metadata for each behavior session in the dataset can be found in the `behavior_sessions_table` and can be used to identify behavior sessions you may want to analyze. "
   ]
  },
  {
   "cell_type": "markdown",
   "id": "0750bf10",
   "metadata": {
    "papermill": {
     "duration": 0.042766,
     "end_time": "2023-07-19T22:24:02.335202",
     "exception": false,
     "start_time": "2023-07-19T22:24:02.292436",
     "status": "completed"
    },
    "pycharm": {
     "name": "#%% md\n"
    },
    "tags": []
   },
   "source": [
    "### Load the `behavior_sessions_table` from the cache"
   ]
  },
  {
   "cell_type": "code",
   "execution_count": 7,
   "id": "6de4c43a",
   "metadata": {
    "execution": {
     "iopub.execute_input": "2023-07-19T22:24:02.423042Z",
     "iopub.status.busy": "2023-07-19T22:24:02.422326Z",
     "iopub.status.idle": "2023-07-19T22:24:02.453725Z",
     "shell.execute_reply": "2023-07-19T22:24:02.452974Z"
    },
    "papermill": {
     "duration": 0.075579,
     "end_time": "2023-07-19T22:24:02.456071",
     "exception": false,
     "start_time": "2023-07-19T22:24:02.380492",
     "status": "completed"
    },
    "pycharm": {
     "name": "#%%\n"
    },
    "tags": []
   },
   "outputs": [
    {
     "name": "stdout",
     "output_type": "stream",
     "text": [
      "Total number of behavior sessions: 4787\n"
     ]
    },
    {
     "data": {
      "text/html": [
       "<div>\n",
       "<style scoped>\n",
       "    .dataframe tbody tr th:only-of-type {\n",
       "        vertical-align: middle;\n",
       "    }\n",
       "\n",
       "    .dataframe tbody tr th {\n",
       "        vertical-align: top;\n",
       "    }\n",
       "\n",
       "    .dataframe thead th {\n",
       "        text-align: right;\n",
       "    }\n",
       "</style>\n",
       "<table border=\"1\" class=\"dataframe\">\n",
       "  <thead>\n",
       "    <tr style=\"text-align: right;\">\n",
       "      <th></th>\n",
       "      <th>equipment_name</th>\n",
       "      <th>full_genotype</th>\n",
       "      <th>mouse_id</th>\n",
       "      <th>reporter_line</th>\n",
       "      <th>driver_line</th>\n",
       "      <th>sex</th>\n",
       "      <th>age_in_days</th>\n",
       "      <th>cre_line</th>\n",
       "      <th>indicator</th>\n",
       "      <th>session_number</th>\n",
       "      <th>prior_exposures_to_session_type</th>\n",
       "      <th>prior_exposures_to_image_set</th>\n",
       "      <th>prior_exposures_to_omissions</th>\n",
       "      <th>ophys_session_id</th>\n",
       "      <th>ophys_experiment_id</th>\n",
       "      <th>ophys_container_id</th>\n",
       "      <th>project_code</th>\n",
       "      <th>date_of_acquisition</th>\n",
       "      <th>session_type</th>\n",
       "      <th>file_id</th>\n",
       "    </tr>\n",
       "    <tr>\n",
       "      <th>behavior_session_id</th>\n",
       "      <th></th>\n",
       "      <th></th>\n",
       "      <th></th>\n",
       "      <th></th>\n",
       "      <th></th>\n",
       "      <th></th>\n",
       "      <th></th>\n",
       "      <th></th>\n",
       "      <th></th>\n",
       "      <th></th>\n",
       "      <th></th>\n",
       "      <th></th>\n",
       "      <th></th>\n",
       "      <th></th>\n",
       "      <th></th>\n",
       "      <th></th>\n",
       "      <th></th>\n",
       "      <th></th>\n",
       "      <th></th>\n",
       "      <th></th>\n",
       "    </tr>\n",
       "  </thead>\n",
       "  <tbody>\n",
       "    <tr>\n",
       "      <th>870987812</th>\n",
       "      <td>BEH.D-Box1</td>\n",
       "      <td>Sst-IRES-Cre/wt;Ai148(TIT2L-GC6f-ICL-tTA2)/wt</td>\n",
       "      <td>457841</td>\n",
       "      <td>Ai148(TIT2L-GC6f-ICL-tTA2)</td>\n",
       "      <td>[Sst-IRES-Cre]</td>\n",
       "      <td>F</td>\n",
       "      <td>80.0</td>\n",
       "      <td>Sst-IRES-Cre</td>\n",
       "      <td>GCaMP6f</td>\n",
       "      <td>NaN</td>\n",
       "      <td>0.0</td>\n",
       "      <td>NaN</td>\n",
       "      <td>0.0</td>\n",
       "      <td>NaN</td>\n",
       "      <td>NaN</td>\n",
       "      <td>NaN</td>\n",
       "      <td>NaN</td>\n",
       "      <td>2019-05-17 14:46:33.550</td>\n",
       "      <td>TRAINING_0_gratings_autorewards_15min</td>\n",
       "      <td>1.085368e+09</td>\n",
       "    </tr>\n",
       "    <tr>\n",
       "      <th>872953842</th>\n",
       "      <td>BEH.D-Box1</td>\n",
       "      <td>Sst-IRES-Cre/wt;Ai148(TIT2L-GC6f-ICL-tTA2)/wt</td>\n",
       "      <td>457841</td>\n",
       "      <td>Ai148(TIT2L-GC6f-ICL-tTA2)</td>\n",
       "      <td>[Sst-IRES-Cre]</td>\n",
       "      <td>F</td>\n",
       "      <td>84.0</td>\n",
       "      <td>Sst-IRES-Cre</td>\n",
       "      <td>GCaMP6f</td>\n",
       "      <td>NaN</td>\n",
       "      <td>0.0</td>\n",
       "      <td>NaN</td>\n",
       "      <td>0.0</td>\n",
       "      <td>NaN</td>\n",
       "      <td>NaN</td>\n",
       "      <td>NaN</td>\n",
       "      <td>NaN</td>\n",
       "      <td>2019-05-21 13:22:20.613</td>\n",
       "      <td>TRAINING_1_gratings</td>\n",
       "      <td>1.085368e+09</td>\n",
       "    </tr>\n",
       "    <tr>\n",
       "      <th>873774125</th>\n",
       "      <td>BEH.D-Box1</td>\n",
       "      <td>Sst-IRES-Cre/wt;Ai148(TIT2L-GC6f-ICL-tTA2)/wt</td>\n",
       "      <td>457841</td>\n",
       "      <td>Ai148(TIT2L-GC6f-ICL-tTA2)</td>\n",
       "      <td>[Sst-IRES-Cre]</td>\n",
       "      <td>F</td>\n",
       "      <td>85.0</td>\n",
       "      <td>Sst-IRES-Cre</td>\n",
       "      <td>GCaMP6f</td>\n",
       "      <td>NaN</td>\n",
       "      <td>1.0</td>\n",
       "      <td>NaN</td>\n",
       "      <td>0.0</td>\n",
       "      <td>NaN</td>\n",
       "      <td>NaN</td>\n",
       "      <td>NaN</td>\n",
       "      <td>NaN</td>\n",
       "      <td>2019-05-22 13:19:52.005</td>\n",
       "      <td>TRAINING_1_gratings</td>\n",
       "      <td>1.085368e+09</td>\n",
       "    </tr>\n",
       "    <tr>\n",
       "      <th>874790261</th>\n",
       "      <td>BEH.D-Box1</td>\n",
       "      <td>Sst-IRES-Cre/wt;Ai148(TIT2L-GC6f-ICL-tTA2)/wt</td>\n",
       "      <td>457841</td>\n",
       "      <td>Ai148(TIT2L-GC6f-ICL-tTA2)</td>\n",
       "      <td>[Sst-IRES-Cre]</td>\n",
       "      <td>F</td>\n",
       "      <td>86.0</td>\n",
       "      <td>Sst-IRES-Cre</td>\n",
       "      <td>GCaMP6f</td>\n",
       "      <td>NaN</td>\n",
       "      <td>2.0</td>\n",
       "      <td>NaN</td>\n",
       "      <td>0.0</td>\n",
       "      <td>NaN</td>\n",
       "      <td>NaN</td>\n",
       "      <td>NaN</td>\n",
       "      <td>NaN</td>\n",
       "      <td>2019-05-23 13:40:31.405</td>\n",
       "      <td>TRAINING_1_gratings</td>\n",
       "      <td>1.085368e+09</td>\n",
       "    </tr>\n",
       "    <tr>\n",
       "      <th>875207834</th>\n",
       "      <td>BEH.D-Box1</td>\n",
       "      <td>Sst-IRES-Cre/wt;Ai148(TIT2L-GC6f-ICL-tTA2)/wt</td>\n",
       "      <td>457841</td>\n",
       "      <td>Ai148(TIT2L-GC6f-ICL-tTA2)</td>\n",
       "      <td>[Sst-IRES-Cre]</td>\n",
       "      <td>F</td>\n",
       "      <td>87.0</td>\n",
       "      <td>Sst-IRES-Cre</td>\n",
       "      <td>GCaMP6f</td>\n",
       "      <td>NaN</td>\n",
       "      <td>3.0</td>\n",
       "      <td>NaN</td>\n",
       "      <td>0.0</td>\n",
       "      <td>NaN</td>\n",
       "      <td>NaN</td>\n",
       "      <td>NaN</td>\n",
       "      <td>NaN</td>\n",
       "      <td>2019-05-24 11:06:39.332</td>\n",
       "      <td>TRAINING_1_gratings</td>\n",
       "      <td>1.085368e+09</td>\n",
       "    </tr>\n",
       "  </tbody>\n",
       "</table>\n",
       "</div>"
      ],
      "text/plain": [
       "                    equipment_name  \\\n",
       "behavior_session_id                  \n",
       "870987812               BEH.D-Box1   \n",
       "872953842               BEH.D-Box1   \n",
       "873774125               BEH.D-Box1   \n",
       "874790261               BEH.D-Box1   \n",
       "875207834               BEH.D-Box1   \n",
       "\n",
       "                                                     full_genotype mouse_id  \\\n",
       "behavior_session_id                                                           \n",
       "870987812            Sst-IRES-Cre/wt;Ai148(TIT2L-GC6f-ICL-tTA2)/wt   457841   \n",
       "872953842            Sst-IRES-Cre/wt;Ai148(TIT2L-GC6f-ICL-tTA2)/wt   457841   \n",
       "873774125            Sst-IRES-Cre/wt;Ai148(TIT2L-GC6f-ICL-tTA2)/wt   457841   \n",
       "874790261            Sst-IRES-Cre/wt;Ai148(TIT2L-GC6f-ICL-tTA2)/wt   457841   \n",
       "875207834            Sst-IRES-Cre/wt;Ai148(TIT2L-GC6f-ICL-tTA2)/wt   457841   \n",
       "\n",
       "                                  reporter_line     driver_line sex  \\\n",
       "behavior_session_id                                                   \n",
       "870987812            Ai148(TIT2L-GC6f-ICL-tTA2)  [Sst-IRES-Cre]   F   \n",
       "872953842            Ai148(TIT2L-GC6f-ICL-tTA2)  [Sst-IRES-Cre]   F   \n",
       "873774125            Ai148(TIT2L-GC6f-ICL-tTA2)  [Sst-IRES-Cre]   F   \n",
       "874790261            Ai148(TIT2L-GC6f-ICL-tTA2)  [Sst-IRES-Cre]   F   \n",
       "875207834            Ai148(TIT2L-GC6f-ICL-tTA2)  [Sst-IRES-Cre]   F   \n",
       "\n",
       "                     age_in_days      cre_line indicator  session_number  \\\n",
       "behavior_session_id                                                        \n",
       "870987812                   80.0  Sst-IRES-Cre   GCaMP6f             NaN   \n",
       "872953842                   84.0  Sst-IRES-Cre   GCaMP6f             NaN   \n",
       "873774125                   85.0  Sst-IRES-Cre   GCaMP6f             NaN   \n",
       "874790261                   86.0  Sst-IRES-Cre   GCaMP6f             NaN   \n",
       "875207834                   87.0  Sst-IRES-Cre   GCaMP6f             NaN   \n",
       "\n",
       "                     prior_exposures_to_session_type  \\\n",
       "behavior_session_id                                    \n",
       "870987812                                        0.0   \n",
       "872953842                                        0.0   \n",
       "873774125                                        1.0   \n",
       "874790261                                        2.0   \n",
       "875207834                                        3.0   \n",
       "\n",
       "                     prior_exposures_to_image_set  \\\n",
       "behavior_session_id                                 \n",
       "870987812                                     NaN   \n",
       "872953842                                     NaN   \n",
       "873774125                                     NaN   \n",
       "874790261                                     NaN   \n",
       "875207834                                     NaN   \n",
       "\n",
       "                     prior_exposures_to_omissions  ophys_session_id  \\\n",
       "behavior_session_id                                                   \n",
       "870987812                                     0.0               NaN   \n",
       "872953842                                     0.0               NaN   \n",
       "873774125                                     0.0               NaN   \n",
       "874790261                                     0.0               NaN   \n",
       "875207834                                     0.0               NaN   \n",
       "\n",
       "                    ophys_experiment_id ophys_container_id project_code  \\\n",
       "behavior_session_id                                                       \n",
       "870987812                           NaN                NaN          NaN   \n",
       "872953842                           NaN                NaN          NaN   \n",
       "873774125                           NaN                NaN          NaN   \n",
       "874790261                           NaN                NaN          NaN   \n",
       "875207834                           NaN                NaN          NaN   \n",
       "\n",
       "                        date_of_acquisition  \\\n",
       "behavior_session_id                           \n",
       "870987812           2019-05-17 14:46:33.550   \n",
       "872953842           2019-05-21 13:22:20.613   \n",
       "873774125           2019-05-22 13:19:52.005   \n",
       "874790261           2019-05-23 13:40:31.405   \n",
       "875207834           2019-05-24 11:06:39.332   \n",
       "\n",
       "                                              session_type       file_id  \n",
       "behavior_session_id                                                       \n",
       "870987812            TRAINING_0_gratings_autorewards_15min  1.085368e+09  \n",
       "872953842                              TRAINING_1_gratings  1.085368e+09  \n",
       "873774125                              TRAINING_1_gratings  1.085368e+09  \n",
       "874790261                              TRAINING_1_gratings  1.085368e+09  \n",
       "875207834                              TRAINING_1_gratings  1.085368e+09  "
      ]
     },
     "execution_count": 7,
     "metadata": {},
     "output_type": "execute_result"
    }
   ],
   "source": [
    "behavior_sessions = cache.get_behavior_session_table()\n",
    "\n",
    "print(f\"Total number of behavior sessions: {len(behavior_sessions)}\")\n",
    "\n",
    "behavior_sessions.head()"
   ]
  },
  {
   "cell_type": "markdown",
   "id": "23b2e84c",
   "metadata": {
    "papermill": {
     "duration": 0.036741,
     "end_time": "2023-07-19T22:24:02.529672",
     "exception": false,
     "start_time": "2023-07-19T22:24:02.492931",
     "status": "completed"
    },
    "pycharm": {
     "name": "#%% md\n"
    },
    "tags": []
   },
   "source": [
    "### What columns does the behavior_session table have and what values can they take?"
   ]
  },
  {
   "cell_type": "code",
   "execution_count": 8,
   "id": "4ccde8b1",
   "metadata": {
    "execution": {
     "iopub.execute_input": "2023-07-19T22:24:02.609865Z",
     "iopub.status.busy": "2023-07-19T22:24:02.608743Z",
     "iopub.status.idle": "2023-07-19T22:24:02.616039Z",
     "shell.execute_reply": "2023-07-19T22:24:02.615323Z"
    },
    "papermill": {
     "duration": 0.051236,
     "end_time": "2023-07-19T22:24:02.618053",
     "exception": false,
     "start_time": "2023-07-19T22:24:02.566817",
     "status": "completed"
    },
    "pycharm": {
     "name": "#%%\n"
    },
    "tags": []
   },
   "outputs": [
    {
     "data": {
      "text/plain": [
       "Index(['equipment_name', 'full_genotype', 'mouse_id', 'reporter_line',\n",
       "       'driver_line', 'sex', 'age_in_days', 'cre_line', 'indicator',\n",
       "       'session_number', 'prior_exposures_to_session_type',\n",
       "       'prior_exposures_to_image_set', 'prior_exposures_to_omissions',\n",
       "       'ophys_session_id', 'ophys_experiment_id', 'ophys_container_id',\n",
       "       'project_code', 'date_of_acquisition', 'session_type', 'file_id'],\n",
       "      dtype='object')"
      ]
     },
     "execution_count": 8,
     "metadata": {},
     "output_type": "execute_result"
    }
   ],
   "source": [
    "behavior_sessions.columns"
   ]
  },
  {
   "cell_type": "markdown",
   "id": "38a115a0",
   "metadata": {
    "papermill": {
     "duration": 0.04636,
     "end_time": "2023-07-19T22:24:02.708398",
     "exception": false,
     "start_time": "2023-07-19T22:24:02.662038",
     "status": "completed"
    },
    "pycharm": {
     "name": "#%% md\n"
    },
    "tags": []
   },
   "source": [
    "### behavior sessions can take place on different experimental systems"
   ]
  },
  {
   "cell_type": "code",
   "execution_count": 9,
   "id": "b20a7aae",
   "metadata": {
    "execution": {
     "iopub.execute_input": "2023-07-19T22:24:02.784919Z",
     "iopub.status.busy": "2023-07-19T22:24:02.784214Z",
     "iopub.status.idle": "2023-07-19T22:24:02.789886Z",
     "shell.execute_reply": "2023-07-19T22:24:02.789165Z"
    },
    "papermill": {
     "duration": 0.045017,
     "end_time": "2023-07-19T22:24:02.791659",
     "exception": false,
     "start_time": "2023-07-19T22:24:02.746642",
     "status": "completed"
    },
    "pycharm": {
     "name": "#%%\n"
    },
    "tags": []
   },
   "outputs": [
    {
     "name": "stdout",
     "output_type": "stream",
     "text": [
      "behavior data could be recorded on these experimental systems:\n",
      "\n",
      "['BEH.B' 'BEH.B-Box1' 'BEH.B-Box2' 'BEH.B-Box3' 'BEH.B-Box4' 'BEH.B-Box5'\n",
      " 'BEH.B-Box6' 'BEH.D' 'BEH.D-Box1' 'BEH.D-Box2' 'BEH.D-Box3' 'BEH.D-Box4'\n",
      " 'BEH.D-Box5' 'BEH.D-Box6' 'BEH.F' 'BEH.F-Box1' 'BEH.F-Box2' 'BEH.F-Box3'\n",
      " 'BEH.F-Box4' 'BEH.F-Box5' 'BEH.F-Box6' 'BEH.G' 'BEH.G-Box1' 'BEH.G-Box2'\n",
      " 'BEH.G-Box3' 'BEH.G-Box4' 'BEH.G-Box5' 'BEH.G-Box6' 'CAM2P.3' 'CAM2P.4'\n",
      " 'CAM2P.5' 'MESO.1']\n"
     ]
    }
   ],
   "source": [
    "print('behavior data could be recorded on these experimental systems:\\n')\n",
    "print(np.sort(behavior_sessions.equipment_name.unique()))"
   ]
  },
  {
   "cell_type": "markdown",
   "id": "f1bc0503",
   "metadata": {
    "papermill": {
     "duration": 0.035744,
     "end_time": "2023-07-19T22:24:02.863482",
     "exception": false,
     "start_time": "2023-07-19T22:24:02.827738",
     "status": "completed"
    },
    "pycharm": {
     "name": "#%% md\n"
    },
    "tags": []
   },
   "source": [
    "`equipment_name` values starting with 'BEH' indicate behavioral training in the behavior facility, while values starting with 'CAM2P' or 'MESO' indicate behavior sessions that took place under a 2-photon microscope - either a Scientifica single plane imaging system ('CAMP2P.4', 'CAM2P.4', or 'CAM2P.5') or a modified Mesoscope system, also called Multiscope, for multi-plane imaging ('MESO.1')."
   ]
  },
  {
   "cell_type": "markdown",
   "id": "ff0ba98e",
   "metadata": {
    "papermill": {
     "duration": 0.037246,
     "end_time": "2023-07-19T22:24:02.937563",
     "exception": false,
     "start_time": "2023-07-19T22:24:02.900317",
     "status": "completed"
    },
    "pycharm": {
     "name": "#%% md\n"
    },
    "tags": []
   },
   "source": [
    "## Mouse specific metadata"
   ]
  },
  {
   "cell_type": "markdown",
   "id": "a54fc9b0",
   "metadata": {
    "papermill": {
     "duration": 0.036918,
     "end_time": "2023-07-19T22:24:03.010911",
     "exception": false,
     "start_time": "2023-07-19T22:24:02.973993",
     "status": "completed"
    },
    "pycharm": {
     "name": "#%% md\n"
    },
    "tags": []
   },
   "source": [
    "The `mouse_id` is a 6-digit unique identifier for each experimental animal in the dataset"
   ]
  },
  {
   "cell_type": "code",
   "execution_count": 10,
   "id": "5f0573a7",
   "metadata": {
    "execution": {
     "iopub.execute_input": "2023-07-19T22:24:03.091449Z",
     "iopub.status.busy": "2023-07-19T22:24:03.090703Z",
     "iopub.status.idle": "2023-07-19T22:24:03.096491Z",
     "shell.execute_reply": "2023-07-19T22:24:03.095623Z"
    },
    "papermill": {
     "duration": 0.046364,
     "end_time": "2023-07-19T22:24:03.098467",
     "exception": false,
     "start_time": "2023-07-19T22:24:03.052103",
     "status": "completed"
    },
    "pycharm": {
     "name": "#%%\n"
    },
    "tags": []
   },
   "outputs": [
    {
     "name": "stdout",
     "output_type": "stream",
     "text": [
      "there are  107 mice in the dataset\n"
     ]
    }
   ],
   "source": [
    "print('there are ', len(behavior_sessions.mouse_id.unique()), 'mice in the dataset')"
   ]
  },
  {
   "cell_type": "markdown",
   "id": "03c92c4d",
   "metadata": {
    "papermill": {
     "duration": 0.035987,
     "end_time": "2023-07-19T22:24:03.170194",
     "exception": false,
     "start_time": "2023-07-19T22:24:03.134207",
     "status": "completed"
    },
    "pycharm": {
     "name": "#%% md\n"
    },
    "tags": []
   },
   "source": [
    "#### The transgenic line determines which neurons are labeled in a given mouse, and what they are labeled with"
   ]
  },
  {
   "cell_type": "code",
   "execution_count": 11,
   "id": "7818dee1",
   "metadata": {
    "execution": {
     "iopub.execute_input": "2023-07-19T22:24:03.302293Z",
     "iopub.status.busy": "2023-07-19T22:24:03.301514Z",
     "iopub.status.idle": "2023-07-19T22:24:03.307991Z",
     "shell.execute_reply": "2023-07-19T22:24:03.307039Z"
    },
    "papermill": {
     "duration": 0.101773,
     "end_time": "2023-07-19T22:24:03.310007",
     "exception": false,
     "start_time": "2023-07-19T22:24:03.208234",
     "status": "completed"
    },
    "pycharm": {
     "name": "#%%\n"
    },
    "tags": []
   },
   "outputs": [
    {
     "name": "stdout",
     "output_type": "stream",
     "text": [
      "the different transgenic lines included in this dataset are:\n",
      "\n",
      "['Slc17a7-IRES2-Cre/wt;Camk2a-tTA/wt;Ai93(TITL-GCaMP6f)/wt'\n",
      " 'Slc17a7-IRES2-Cre/wt;Camk2a-tTA/wt;Ai94(TITL-GCaMP6s)/wt'\n",
      " 'Sst-IRES-Cre/wt;Ai148(TIT2L-GC6f-ICL-tTA2)/wt'\n",
      " 'Vip-IRES-Cre/wt;Ai148(TIT2L-GC6f-ICL-tTA2)/wt']\n"
     ]
    }
   ],
   "source": [
    "print('the different transgenic lines included in this dataset are:\\n')\n",
    "print(np.sort(behavior_sessions.full_genotype.unique()))"
   ]
  },
  {
   "cell_type": "markdown",
   "id": "80b02150",
   "metadata": {
    "papermill": {
     "duration": 0.03663,
     "end_time": "2023-07-19T22:24:03.383227",
     "exception": false,
     "start_time": "2023-07-19T22:24:03.346597",
     "status": "completed"
    },
    "pycharm": {
     "name": "#%% md\n"
    },
    "tags": []
   },
   "source": [
    "`full_genotype` refers to the full name of the transgenic mouse line, including all driver and reporter lines in the cross. `driver_line` and `reporter_line` have their own unique columns in the table. The first element of the `full_genotype` is the `cre_line` (which also has its own column in the table, and is a subset of `driver_line`). The `cre_line` determines which genetically identified neuron type will be labeled by the `reporter_line`. "
   ]
  },
  {
   "cell_type": "code",
   "execution_count": 12,
   "id": "59782e41",
   "metadata": {
    "execution": {
     "iopub.execute_input": "2023-07-19T22:24:03.459468Z",
     "iopub.status.busy": "2023-07-19T22:24:03.458703Z",
     "iopub.status.idle": "2023-07-19T22:24:03.464888Z",
     "shell.execute_reply": "2023-07-19T22:24:03.464161Z"
    },
    "papermill": {
     "duration": 0.046449,
     "end_time": "2023-07-19T22:24:03.466790",
     "exception": false,
     "start_time": "2023-07-19T22:24:03.420341",
     "status": "completed"
    },
    "pycharm": {
     "name": "#%%\n"
    },
    "tags": []
   },
   "outputs": [
    {
     "name": "stdout",
     "output_type": "stream",
     "text": [
      "the different cre lines used in this dataset are:\n",
      "\n",
      "['Slc17a7-IRES2-Cre' 'Sst-IRES-Cre' 'Vip-IRES-Cre']\n"
     ]
    }
   ],
   "source": [
    "print('the different cre lines used in this dataset are:\\n')\n",
    "print(np.sort(behavior_sessions.cre_line.unique()))"
   ]
  },
  {
   "cell_type": "markdown",
   "id": "25086019",
   "metadata": {
    "papermill": {
     "duration": 0.036208,
     "end_time": "2023-07-19T22:24:03.540332",
     "exception": false,
     "start_time": "2023-07-19T22:24:03.504124",
     "status": "completed"
    },
    "pycharm": {
     "name": "#%% md\n"
    },
    "tags": []
   },
   "source": [
    "<div>\n",
    "<img src=\"https://allensdk.readthedocs.io/en/latest/_static/visual_behavior_2p/cre_lines2.png\" width=\"900\"/>\n",
    "</div>"
   ]
  },
  {
   "cell_type": "markdown",
   "id": "db6df690",
   "metadata": {
    "papermill": {
     "duration": 0.040911,
     "end_time": "2023-07-19T22:24:03.617942",
     "exception": false,
     "start_time": "2023-07-19T22:24:03.577031",
     "status": "completed"
    },
    "pycharm": {
     "name": "#%% md\n"
    },
    "tags": []
   },
   "source": [
    "In this dataset, we have 3 `cre_lines`, 'Slc17a7-IRES2-Cre', which labels excitatory neurons across all cortical layers, 'Sst-IRES-Cre' which labels somatostatin expressing inhibitory interneurons, and 'Vip-IRES-Cre', which labels vasoactive intestinal peptide expressing inhibitory interneurons. There are also 3 `reporter_lines`, 'Ai93(TITL-GCaMP6f)' which expresses the genetically encoded calcium indicator GCaMP6f (f is for 'fast', this reporter has fast offset kinetics, but is only moderately sensitive to calcium relative to other sensors) in cre labeled neurons, 'Ai94(TITL-GCaMP6s)' which expresses the indicator GCaMP6s (s is for 'slow', this reporter is very sensitive to calcium but has slow offset kinetics), and 'Ai148(TIT2L-GC6f-ICL-tTA2', which  expresses GCaMP6f using a self-enhancing system to achieve higher expression than other reporter lines (which proved necessary to label inhibitory neurons specifically). The specific `indicator` expressed by each `reporter_line` also has its own column in the table."
   ]
  },
  {
   "cell_type": "code",
   "execution_count": 13,
   "id": "e15eda2d",
   "metadata": {
    "execution": {
     "iopub.execute_input": "2023-07-19T22:24:03.699474Z",
     "iopub.status.busy": "2023-07-19T22:24:03.698508Z",
     "iopub.status.idle": "2023-07-19T22:24:03.704439Z",
     "shell.execute_reply": "2023-07-19T22:24:03.703728Z"
    },
    "papermill": {
     "duration": 0.049877,
     "end_time": "2023-07-19T22:24:03.706264",
     "exception": false,
     "start_time": "2023-07-19T22:24:03.656387",
     "status": "completed"
    },
    "pycharm": {
     "name": "#%%\n"
    },
    "tags": []
   },
   "outputs": [
    {
     "name": "stdout",
     "output_type": "stream",
     "text": [
      "the different reporter lines used in this dataset are:\n",
      "\n",
      "['Ai148(TIT2L-GC6f-ICL-tTA2)' 'Ai93(TITL-GCaMP6f)' 'Ai94(TITL-GCaMP6s)']\n"
     ]
    }
   ],
   "source": [
    "print('the different reporter lines used in this dataset are:\\n')\n",
    "print(np.sort(behavior_sessions.reporter_line.unique()))"
   ]
  },
  {
   "cell_type": "code",
   "execution_count": 14,
   "id": "60237c34",
   "metadata": {
    "execution": {
     "iopub.execute_input": "2023-07-19T22:24:03.781947Z",
     "iopub.status.busy": "2023-07-19T22:24:03.781177Z",
     "iopub.status.idle": "2023-07-19T22:24:03.787736Z",
     "shell.execute_reply": "2023-07-19T22:24:03.787048Z"
    },
    "papermill": {
     "duration": 0.046844,
     "end_time": "2023-07-19T22:24:03.789659",
     "exception": false,
     "start_time": "2023-07-19T22:24:03.742815",
     "status": "completed"
    },
    "pycharm": {
     "name": "#%%\n"
    },
    "tags": []
   },
   "outputs": [
    {
     "name": "stdout",
     "output_type": "stream",
     "text": [
      "the different indicators used in this dataset are:\n",
      "\n",
      "['GCaMP6f' 'GCaMP6s']\n"
     ]
    }
   ],
   "source": [
    "print('the different indicators used in this dataset are:\\n')\n",
    "print(np.sort(behavior_sessions.indicator.unique()))"
   ]
  },
  {
   "cell_type": "markdown",
   "id": "eb33911a",
   "metadata": {
    "papermill": {
     "duration": 0.036565,
     "end_time": "2023-07-19T22:24:03.862520",
     "exception": false,
     "start_time": "2023-07-19T22:24:03.825955",
     "status": "completed"
    },
    "pycharm": {
     "name": "#%% md\n"
    },
    "tags": []
   },
   "source": [
    "* For more information about transgenic lines, see characterization data here: https://observatory.brain-map.org/visualcoding/transgenic\n",
    "* for more information on GCaMP6, see this paper: https://www.nature.com/articles/nature12354\n",
    "* For more information on reporter lines, see these papers: https://doi.org/10.1016/j.neuron.2015.02.022, https://www.sciencedirect.com/science/article/pii/S0092867418308031"
   ]
  },
  {
   "cell_type": "markdown",
   "id": "031be223",
   "metadata": {
    "papermill": {
     "duration": 0.036716,
     "end_time": "2023-07-19T22:24:03.936475",
     "exception": false,
     "start_time": "2023-07-19T22:24:03.899759",
     "status": "completed"
    },
    "pycharm": {
     "name": "#%% md\n"
    },
    "tags": []
   },
   "source": [
    "#### how many mice per transgenic line?"
   ]
  },
  {
   "cell_type": "code",
   "execution_count": 15,
   "id": "8038b9de",
   "metadata": {
    "execution": {
     "iopub.execute_input": "2023-07-19T22:24:04.012803Z",
     "iopub.status.busy": "2023-07-19T22:24:04.012072Z",
     "iopub.status.idle": "2023-07-19T22:24:04.040051Z",
     "shell.execute_reply": "2023-07-19T22:24:04.038735Z"
    },
    "papermill": {
     "duration": 0.069329,
     "end_time": "2023-07-19T22:24:04.042048",
     "exception": false,
     "start_time": "2023-07-19T22:24:03.972719",
     "status": "completed"
    },
    "pycharm": {
     "name": "#%%\n"
    },
    "tags": []
   },
   "outputs": [
    {
     "data": {
      "text/html": [
       "<div>\n",
       "<style scoped>\n",
       "    .dataframe tbody tr th:only-of-type {\n",
       "        vertical-align: middle;\n",
       "    }\n",
       "\n",
       "    .dataframe tbody tr th {\n",
       "        vertical-align: top;\n",
       "    }\n",
       "\n",
       "    .dataframe thead th {\n",
       "        text-align: right;\n",
       "    }\n",
       "</style>\n",
       "<table border=\"1\" class=\"dataframe\">\n",
       "  <thead>\n",
       "    <tr style=\"text-align: right;\">\n",
       "      <th></th>\n",
       "      <th>mouse_id</th>\n",
       "    </tr>\n",
       "    <tr>\n",
       "      <th>full_genotype</th>\n",
       "      <th></th>\n",
       "    </tr>\n",
       "  </thead>\n",
       "  <tbody>\n",
       "    <tr>\n",
       "      <th>Slc17a7-IRES2-Cre/wt;Camk2a-tTA/wt;Ai93(TITL-GCaMP6f)/wt</th>\n",
       "      <td>47</td>\n",
       "    </tr>\n",
       "    <tr>\n",
       "      <th>Slc17a7-IRES2-Cre/wt;Camk2a-tTA/wt;Ai94(TITL-GCaMP6s)/wt</th>\n",
       "      <td>8</td>\n",
       "    </tr>\n",
       "    <tr>\n",
       "      <th>Sst-IRES-Cre/wt;Ai148(TIT2L-GC6f-ICL-tTA2)/wt</th>\n",
       "      <td>24</td>\n",
       "    </tr>\n",
       "    <tr>\n",
       "      <th>Vip-IRES-Cre/wt;Ai148(TIT2L-GC6f-ICL-tTA2)/wt</th>\n",
       "      <td>28</td>\n",
       "    </tr>\n",
       "  </tbody>\n",
       "</table>\n",
       "</div>"
      ],
      "text/plain": [
       "                                                    mouse_id\n",
       "full_genotype                                               \n",
       "Slc17a7-IRES2-Cre/wt;Camk2a-tTA/wt;Ai93(TITL-GC...        47\n",
       "Slc17a7-IRES2-Cre/wt;Camk2a-tTA/wt;Ai94(TITL-GC...         8\n",
       "Sst-IRES-Cre/wt;Ai148(TIT2L-GC6f-ICL-tTA2)/wt             24\n",
       "Vip-IRES-Cre/wt;Ai148(TIT2L-GC6f-ICL-tTA2)/wt             28"
      ]
     },
     "execution_count": 15,
     "metadata": {},
     "output_type": "execute_result"
    }
   ],
   "source": [
    "behavior_sessions.groupby(['full_genotype', 'mouse_id']).count().reset_index().groupby('full_genotype').count()[['mouse_id']]"
   ]
  },
  {
   "cell_type": "markdown",
   "id": "ff70ba8f",
   "metadata": {
    "papermill": {
     "duration": 0.037409,
     "end_time": "2023-07-19T22:24:04.119313",
     "exception": false,
     "start_time": "2023-07-19T22:24:04.081904",
     "status": "completed"
    },
    "pycharm": {
     "name": "#%% md\n"
    },
    "tags": []
   },
   "source": [
    "Other mouse specific metadata includes `sex` and `age_in_days`"
   ]
  },
  {
   "cell_type": "markdown",
   "id": "e5c3b7e4",
   "metadata": {
    "papermill": {
     "duration": 0.045145,
     "end_time": "2023-07-19T22:24:04.201723",
     "exception": false,
     "start_time": "2023-07-19T22:24:04.156578",
     "status": "completed"
    },
    "pycharm": {
     "name": "#%% md\n"
    },
    "tags": []
   },
   "source": [
    "## Session Type - a very important piece of information"
   ]
  },
  {
   "cell_type": "markdown",
   "id": "0e79b59f",
   "metadata": {
    "papermill": {
     "duration": 0.037206,
     "end_time": "2023-07-19T22:24:04.277945",
     "exception": false,
     "start_time": "2023-07-19T22:24:04.240739",
     "status": "completed"
    },
    "pycharm": {
     "name": "#%% md\n"
    },
    "tags": []
   },
   "source": [
    "The `session_type` for each behavior session indicates the behavioral training stage or 2-photon imaging conditions for that particular session. This determines what stimuli were shown and what task parameters were used.  "
   ]
  },
  {
   "cell_type": "code",
   "execution_count": 16,
   "id": "7c9cdf28",
   "metadata": {
    "execution": {
     "iopub.execute_input": "2023-07-19T22:24:04.354201Z",
     "iopub.status.busy": "2023-07-19T22:24:04.353424Z",
     "iopub.status.idle": "2023-07-19T22:24:04.360521Z",
     "shell.execute_reply": "2023-07-19T22:24:04.359740Z"
    },
    "papermill": {
     "duration": 0.047532,
     "end_time": "2023-07-19T22:24:04.362388",
     "exception": false,
     "start_time": "2023-07-19T22:24:04.314856",
     "status": "completed"
    },
    "pycharm": {
     "name": "#%%\n"
    },
    "tags": []
   },
   "outputs": [
    {
     "name": "stdout",
     "output_type": "stream",
     "text": [
      "the session_types available in this dataset are:\n",
      "\n",
      "['OPHYS_0_images_A_habituation' 'OPHYS_0_images_B_habituation'\n",
      " 'OPHYS_0_images_G_habituation' 'OPHYS_1_images_A' 'OPHYS_1_images_B'\n",
      " 'OPHYS_1_images_G' 'OPHYS_2_images_A_passive' 'OPHYS_2_images_B_passive'\n",
      " 'OPHYS_2_images_G_passive' 'OPHYS_3_images_A' 'OPHYS_3_images_B'\n",
      " 'OPHYS_3_images_G' 'OPHYS_4_images_A' 'OPHYS_4_images_B'\n",
      " 'OPHYS_4_images_H' 'OPHYS_5_images_A_passive' 'OPHYS_5_images_B_passive'\n",
      " 'OPHYS_5_images_H_passive' 'OPHYS_6_images_A' 'OPHYS_6_images_B'\n",
      " 'OPHYS_6_images_H' 'TRAINING_0_gratings_autorewards_15min'\n",
      " 'TRAINING_1_gratings' 'TRAINING_2_gratings_flashed'\n",
      " 'TRAINING_3_images_A_10uL_reward' 'TRAINING_3_images_B_10uL_reward'\n",
      " 'TRAINING_3_images_G_10uL_reward' 'TRAINING_4_images_A_handoff_lapsed'\n",
      " 'TRAINING_4_images_A_handoff_ready' 'TRAINING_4_images_A_training'\n",
      " 'TRAINING_4_images_B_training' 'TRAINING_4_images_G_training'\n",
      " 'TRAINING_5_images_A_epilogue' 'TRAINING_5_images_A_handoff_lapsed'\n",
      " 'TRAINING_5_images_A_handoff_ready' 'TRAINING_5_images_B_epilogue'\n",
      " 'TRAINING_5_images_B_handoff_lapsed' 'TRAINING_5_images_B_handoff_ready'\n",
      " 'TRAINING_5_images_G_epilogue' 'TRAINING_5_images_G_handoff_lapsed'\n",
      " 'TRAINING_5_images_G_handoff_ready']\n"
     ]
    }
   ],
   "source": [
    "print('the session_types available in this dataset are:\\n')\n",
    "print(np.sort(behavior_sessions.session_type[\n",
    "                  ~behavior_sessions.session_type.isna()].unique()))"
   ]
  },
  {
   "cell_type": "markdown",
   "id": "484ff16b",
   "metadata": {
    "papermill": {
     "duration": 0.037535,
     "end_time": "2023-07-19T22:24:04.437649",
     "exception": false,
     "start_time": "2023-07-19T22:24:04.400114",
     "status": "completed"
    },
    "pycharm": {
     "name": "#%% md\n"
    },
    "tags": []
   },
   "source": [
    "Mice are progressed through a series of training stages to shape their behavior prior to 2-photon imaging. Mice are automatically advanced between stages depending on their behavioral performance. For a detailed description of the change detection task and advancement criteria, please see the technical whitepaper: LINK"
   ]
  },
  {
   "cell_type": "markdown",
   "id": "ab075c3d",
   "metadata": {
    "papermill": {
     "duration": 0.037535,
     "end_time": "2023-07-19T22:24:04.513141",
     "exception": false,
     "start_time": "2023-07-19T22:24:04.475606",
     "status": "completed"
    },
    "pycharm": {
     "name": "#%% md\n"
    },
    "tags": []
   },
   "source": [
    "<div>\n",
    "<img src=\"https://allensdk.readthedocs.io/en/latest/_static/visual_behavior_2p/automated_training.png\" width=\"900\"/>\n",
    "</div>"
   ]
  },
  {
   "cell_type": "markdown",
   "id": "7c9ea148",
   "metadata": {
    "papermill": {
     "duration": 0.037468,
     "end_time": "2023-07-19T22:24:04.588297",
     "exception": false,
     "start_time": "2023-07-19T22:24:04.550829",
     "status": "completed"
    },
    "pycharm": {
     "name": "#%% md\n"
    },
    "tags": []
   },
   "source": [
    "Training with the change detection task begins with simple static grating stimuli, changing between 0 and 90 degrees in orientation. On the very first day, mice are automatically given a water reward when the orientation of the stimulus changes (`TRAINING_0_gratings_autorewards_15min`). On subsequent days, mice must lick following the change in order to receive a water reward (`TRAINING_1_gratings`). In the next stage, stimuli are flashed, with a 500ms inter stimulus interal of mean luminance gray screen (`TRAINING_2_gratings_flashed`). "
   ]
  },
  {
   "cell_type": "markdown",
   "id": "e75f59f0",
   "metadata": {
    "papermill": {
     "duration": 0.040763,
     "end_time": "2023-07-19T22:24:04.670188",
     "exception": false,
     "start_time": "2023-07-19T22:24:04.629425",
     "status": "completed"
    },
    "pycharm": {
     "name": "#%% md\n"
    },
    "tags": []
   },
   "source": [
    "Once mice perform the task well with gratings, they are transitioned to natural image stimuli. Different groups of mice are trained with different sets of images, image set A or image set B (described further below). In the following description, we use `X` as a placeholder for image set `A` or `B` in the `session_type` name. Training with images begins with a 10ul water reward volume (`TRAINING_3_images_X_10uL_reward`), which is then decreased to 7ul once mice perform the task consistently with images (`TRAINING_4_images_X_training`). When mice have reached criterion to be transferred to the 2-photon imaging portion of the experiment, they are labeled as 'handoff_ready' (`TRAINING_4_images_X_handoff_ready`.) If behavior performance returns to below criterion level, they are labeled as 'handoff_lapsed'(`TRAINING_4_images_X_handoff_lapsed`). "
   ]
  },
  {
   "cell_type": "code",
   "execution_count": 17,
   "id": "e6020cbd",
   "metadata": {
    "execution": {
     "iopub.execute_input": "2023-07-19T22:24:04.753692Z",
     "iopub.status.busy": "2023-07-19T22:24:04.753061Z",
     "iopub.status.idle": "2023-07-19T22:24:04.760103Z",
     "shell.execute_reply": "2023-07-19T22:24:04.759240Z"
    },
    "papermill": {
     "duration": 0.048422,
     "end_time": "2023-07-19T22:24:04.762594",
     "exception": false,
     "start_time": "2023-07-19T22:24:04.714172",
     "status": "completed"
    },
    "pycharm": {
     "name": "#%%\n"
    },
    "tags": []
   },
   "outputs": [
    {
     "name": "stdout",
     "output_type": "stream",
     "text": [
      "the different session_types available in this dataset are:\n",
      "\n",
      "['OPHYS_0_images_A_habituation' 'OPHYS_0_images_B_habituation'\n",
      " 'OPHYS_0_images_G_habituation' 'OPHYS_1_images_A' 'OPHYS_1_images_B'\n",
      " 'OPHYS_1_images_G' 'OPHYS_2_images_A_passive' 'OPHYS_2_images_B_passive'\n",
      " 'OPHYS_2_images_G_passive' 'OPHYS_3_images_A' 'OPHYS_3_images_B'\n",
      " 'OPHYS_3_images_G' 'OPHYS_4_images_A' 'OPHYS_4_images_B'\n",
      " 'OPHYS_4_images_H' 'OPHYS_5_images_A_passive' 'OPHYS_5_images_B_passive'\n",
      " 'OPHYS_5_images_H_passive' 'OPHYS_6_images_A' 'OPHYS_6_images_B'\n",
      " 'OPHYS_6_images_H' 'TRAINING_0_gratings_autorewards_15min'\n",
      " 'TRAINING_1_gratings' 'TRAINING_2_gratings_flashed'\n",
      " 'TRAINING_3_images_A_10uL_reward' 'TRAINING_3_images_B_10uL_reward'\n",
      " 'TRAINING_3_images_G_10uL_reward' 'TRAINING_4_images_A_handoff_lapsed'\n",
      " 'TRAINING_4_images_A_handoff_ready' 'TRAINING_4_images_A_training'\n",
      " 'TRAINING_4_images_B_training' 'TRAINING_4_images_G_training'\n",
      " 'TRAINING_5_images_A_epilogue' 'TRAINING_5_images_A_handoff_lapsed'\n",
      " 'TRAINING_5_images_A_handoff_ready' 'TRAINING_5_images_B_epilogue'\n",
      " 'TRAINING_5_images_B_handoff_lapsed' 'TRAINING_5_images_B_handoff_ready'\n",
      " 'TRAINING_5_images_G_epilogue' 'TRAINING_5_images_G_handoff_lapsed'\n",
      " 'TRAINING_5_images_G_handoff_ready']\n"
     ]
    }
   ],
   "source": [
    "# reminder about possible session types \n",
    "print('the different session_types available in this dataset are:\\n')\n",
    "print(np.sort(behavior_sessions.session_type[\n",
    "                  ~behavior_sessions.session_type.isna()].unique()))"
   ]
  },
  {
   "cell_type": "markdown",
   "id": "b026a1c6",
   "metadata": {
    "papermill": {
     "duration": 0.037206,
     "end_time": "2023-07-19T22:24:04.838251",
     "exception": false,
     "start_time": "2023-07-19T22:24:04.801045",
     "status": "completed"
    },
    "pycharm": {
     "name": "#%% md\n"
    },
    "tags": []
   },
   "source": [
    " You will notice that some mice only go up to `TRAINING_4`, while others have the final training stage labeled `TRAINING_5`. This is due to a minor change made partway through data collection, where an `epilogue` stimulus was introduced during the final training stage prior to 2-photon imaging in order to habituate the mice to this stimulus, which is used during 2-photon imaging to aid in session to session registration. The `epilogue` is a 30 minute movie clip repeated 10 times, for a total of 5 minutes, and occurs at the end of the 60 minute behavioral session, followed by 5 minutes of blank gray screen. Training sessions with an epilogue movie include `TRAINING_5_images_X_epilogue`, `TRAINING_5_images_X_handoff_ready` , `TRAINING_5_images_X_handoff_lapsed`. "
   ]
  },
  {
   "cell_type": "markdown",
   "id": "03da3956",
   "metadata": {
    "papermill": {
     "duration": 0.038366,
     "end_time": "2023-07-19T22:24:04.914350",
     "exception": false,
     "start_time": "2023-07-19T22:24:04.875984",
     "status": "completed"
    },
    "pycharm": {
     "name": "#%% md\n"
    },
    "tags": []
   },
   "source": [
    "### `session_types` during 2-photon imaging"
   ]
  },
  {
   "cell_type": "markdown",
   "id": "30159c12",
   "metadata": {
    "papermill": {
     "duration": 0.036776,
     "end_time": "2023-07-19T22:24:04.990879",
     "exception": false,
     "start_time": "2023-07-19T22:24:04.954103",
     "status": "completed"
    },
    "pycharm": {
     "name": "#%% md\n"
    },
    "tags": []
   },
   "source": [
    "When mice are transferred to the 2-photon rig for the imaging portion of the experiment, they first undergo 1-3 habituation sessions to get accustomed to the new experimental environment (`OPHYS_0_images_X_habituation`). During these sessions, mice perform the task under the microscope, but no experimental data is recorded. "
   ]
  },
  {
   "cell_type": "markdown",
   "id": "1e5955fc",
   "metadata": {
    "papermill": {
     "duration": 0.037878,
     "end_time": "2023-07-19T22:24:05.065674",
     "exception": false,
     "start_time": "2023-07-19T22:24:05.027796",
     "status": "completed"
    },
    "pycharm": {
     "name": "#%% md\n"
    },
    "tags": []
   },
   "source": [
    "<div>\n",
    "<img src=\"https://allensdk.readthedocs.io/en/latest/_static/visual_behavior_2p/experiment_design.png\" width=\"900\"/>\n",
    "</div>"
   ]
  },
  {
   "cell_type": "markdown",
   "id": "17171d6e",
   "metadata": {
    "papermill": {
     "duration": 0.038472,
     "end_time": "2023-07-19T22:24:05.141385",
     "exception": false,
     "start_time": "2023-07-19T22:24:05.102913",
     "status": "completed"
    },
    "pycharm": {
     "name": "#%% md\n"
    },
    "tags": []
   },
   "source": [
    "During the 2-photon imaging portion of the experiment, mice perform the task with the same set of images they saw during training (either image set `A` or `B`), as well as an additional novel set of images (whichever of `A` or `B` that they did not see during training). This allows evaluation of the impact of different sensory contexts on neural activity - familiarity versus novelty. Sessions with <b>familiar images</b> include those starting with `OPHYS_0`, `OPHYS_1`, `OPHYS_2`, and `OPHYS_3`. Sessions with <b>novel images</b> include those starting with `OPHYS_4`, `OPHYS_5`, and `OPHYS_6`. "
   ]
  },
  {
   "cell_type": "markdown",
   "id": "dd6a406f",
   "metadata": {
    "papermill": {
     "duration": 0.037646,
     "end_time": "2023-07-19T22:24:05.217574",
     "exception": false,
     "start_time": "2023-07-19T22:24:05.179928",
     "status": "completed"
    },
    "pycharm": {
     "name": "#%% md\n"
    },
    "tags": []
   },
   "source": [
    "Interleaved between active behavior sessions are <b>passive viewing</b> sessions where mice are given their daily water ahead of the sesssion (and are thus satiated) and view the stimulus with the lick spout retracted so they are unable to earn water rewards. This allows comparison of neural activity in response to stimuli under different behavioral context - active task engagement and passive viewing without reward. Passive sessions include `OPHYS_2_images_A_passive` (passive session with familiar images), and `OPHYS_5_images_A_passive` (passive session with novel images)."
   ]
  },
  {
   "cell_type": "markdown",
   "id": "b7a28754",
   "metadata": {
    "papermill": {
     "duration": 0.038121,
     "end_time": "2023-07-19T22:24:05.294630",
     "exception": false,
     "start_time": "2023-07-19T22:24:05.256509",
     "status": "completed"
    },
    "pycharm": {
     "name": "#%% md\n"
    },
    "tags": []
   },
   "source": [
    "The final session during the 2-photon imaging phase is `OPHYS_7_receptive_field_mapping`, however 2-photon data is not available for these sessions in this data release (but will be made available in a subsequent release)."
   ]
  },
  {
   "cell_type": "markdown",
   "id": "901b0840",
   "metadata": {
    "papermill": {
     "duration": 0.03814,
     "end_time": "2023-07-19T22:24:05.370724",
     "exception": false,
     "start_time": "2023-07-19T22:24:05.332584",
     "status": "completed"
    },
    "pycharm": {
     "name": "#%% md\n"
    },
    "tags": []
   },
   "source": [
    "## Dataset variants - different mice were subject to different experimental conditions"
   ]
  },
  {
   "cell_type": "markdown",
   "id": "6274c13d",
   "metadata": {
    "papermill": {
     "duration": 0.037668,
     "end_time": "2023-07-19T22:24:05.447861",
     "exception": false,
     "start_time": "2023-07-19T22:24:05.410193",
     "status": "completed"
    },
    "pycharm": {
     "name": "#%% md\n"
    },
    "tags": []
   },
   "source": [
    "As hinted to above, some mice were trained with image set A, and others with image set B. Including these two groups of mice, with swapped stimulus conditions, was included in the dataset as a control for the effects of novelty, to ensure that any observed changes were truly due to lack of familiarity with the novel image set, rather than a result of specific features of the image set that was used. In addition, some mice were imaged on the Scientifica single plane imaging systems, and other mice were imaged on Multiscope for multi-plane imaging. These distinct groups of mice are referred to as <b>dataset variants</b> and can be identified using the `project_code` column"
   ]
  },
  {
   "cell_type": "markdown",
   "id": "1da1c171",
   "metadata": {
    "papermill": {
     "duration": 0.037316,
     "end_time": "2023-07-19T22:24:05.523495",
     "exception": false,
     "start_time": "2023-07-19T22:24:05.486179",
     "status": "completed"
    },
    "pycharm": {
     "name": "#%% md\n"
    },
    "tags": []
   },
   "source": [
    "<div>\n",
    "<img src=\"https://allensdk.readthedocs.io/en/latest/_static/visual_behavior_2p/datasets.png\" width=\"900\"/>\n",
    "</div>"
   ]
  },
  {
   "cell_type": "markdown",
   "id": "6065bf63",
   "metadata": {
    "papermill": {
     "duration": 0.03696,
     "end_time": "2023-07-19T22:24:05.598049",
     "exception": false,
     "start_time": "2023-07-19T22:24:05.561089",
     "status": "completed"
    },
    "pycharm": {
     "name": "#%% md\n"
    },
    "tags": []
   },
   "source": [
    "Project_code is only defined for ophys sessions, for technical reasons, so let's fill in the gaps so that all mice have a project_code"
   ]
  },
  {
   "cell_type": "code",
   "execution_count": 18,
   "id": "6606e286",
   "metadata": {
    "execution": {
     "iopub.execute_input": "2023-07-19T22:24:05.678307Z",
     "iopub.status.busy": "2023-07-19T22:24:05.677502Z",
     "iopub.status.idle": "2023-07-19T22:24:05.694334Z",
     "shell.execute_reply": "2023-07-19T22:24:05.693435Z"
    },
    "papermill": {
     "duration": 0.058214,
     "end_time": "2023-07-19T22:24:05.696266",
     "exception": false,
     "start_time": "2023-07-19T22:24:05.638052",
     "status": "completed"
    },
    "pycharm": {
     "name": "#%%\n"
    },
    "tags": []
   },
   "outputs": [
    {
     "data": {
      "text/html": [
       "<div>\n",
       "<style scoped>\n",
       "    .dataframe tbody tr th:only-of-type {\n",
       "        vertical-align: middle;\n",
       "    }\n",
       "\n",
       "    .dataframe tbody tr th {\n",
       "        vertical-align: top;\n",
       "    }\n",
       "\n",
       "    .dataframe thead th {\n",
       "        text-align: right;\n",
       "    }\n",
       "</style>\n",
       "<table border=\"1\" class=\"dataframe\">\n",
       "  <thead>\n",
       "    <tr style=\"text-align: right;\">\n",
       "      <th></th>\n",
       "      <th>mouse_id</th>\n",
       "      <th>project_code</th>\n",
       "    </tr>\n",
       "  </thead>\n",
       "  <tbody>\n",
       "    <tr>\n",
       "      <th>0</th>\n",
       "      <td>457841</td>\n",
       "      <td>VisualBehaviorMultiscope</td>\n",
       "    </tr>\n",
       "    <tr>\n",
       "      <th>8</th>\n",
       "      <td>476970</td>\n",
       "      <td>VisualBehaviorTask1B</td>\n",
       "    </tr>\n",
       "    <tr>\n",
       "      <th>16</th>\n",
       "      <td>412036</td>\n",
       "      <td>VisualBehavior</td>\n",
       "    </tr>\n",
       "    <tr>\n",
       "      <th>22</th>\n",
       "      <td>429952</td>\n",
       "      <td>VisualBehavior</td>\n",
       "    </tr>\n",
       "    <tr>\n",
       "      <th>29</th>\n",
       "      <td>449441</td>\n",
       "      <td>VisualBehavior</td>\n",
       "    </tr>\n",
       "    <tr>\n",
       "      <th>...</th>\n",
       "      <td>...</td>\n",
       "      <td>...</td>\n",
       "    </tr>\n",
       "    <tr>\n",
       "      <th>671</th>\n",
       "      <td>550603</td>\n",
       "      <td>VisualBehaviorMultiscope4areasx2d</td>\n",
       "    </tr>\n",
       "    <tr>\n",
       "      <th>677</th>\n",
       "      <td>547266</td>\n",
       "      <td>VisualBehaviorMultiscope</td>\n",
       "    </tr>\n",
       "    <tr>\n",
       "      <th>683</th>\n",
       "      <td>533162</td>\n",
       "      <td>VisualBehaviorTask1B</td>\n",
       "    </tr>\n",
       "    <tr>\n",
       "      <th>689</th>\n",
       "      <td>467954</td>\n",
       "      <td>VisualBehaviorTask1B</td>\n",
       "    </tr>\n",
       "    <tr>\n",
       "      <th>696</th>\n",
       "      <td>468866</td>\n",
       "      <td>VisualBehavior</td>\n",
       "    </tr>\n",
       "  </tbody>\n",
       "</table>\n",
       "<p>107 rows × 2 columns</p>\n",
       "</div>"
      ],
      "text/plain": [
       "    mouse_id                       project_code\n",
       "0     457841           VisualBehaviorMultiscope\n",
       "8     476970               VisualBehaviorTask1B\n",
       "16    412036                     VisualBehavior\n",
       "22    429952                     VisualBehavior\n",
       "29    449441                     VisualBehavior\n",
       "..       ...                                ...\n",
       "671   550603  VisualBehaviorMultiscope4areasx2d\n",
       "677   547266           VisualBehaviorMultiscope\n",
       "683   533162               VisualBehaviorTask1B\n",
       "689   467954               VisualBehaviorTask1B\n",
       "696   468866                     VisualBehavior\n",
       "\n",
       "[107 rows x 2 columns]"
      ]
     },
     "execution_count": 18,
     "metadata": {},
     "output_type": "execute_result"
    }
   ],
   "source": [
    "# get a table of the project code for each mouse\n",
    "project_code_lookup = behavior_sessions[behavior_sessions.project_code.isnull()==False].reset_index().drop_duplicates('mouse_id')[['mouse_id','project_code']]\n",
    "project_code_lookup"
   ]
  },
  {
   "cell_type": "code",
   "execution_count": 19,
   "id": "59cfd3f4",
   "metadata": {
    "execution": {
     "iopub.execute_input": "2023-07-19T22:24:05.773853Z",
     "iopub.status.busy": "2023-07-19T22:24:05.772593Z",
     "iopub.status.idle": "2023-07-19T22:24:05.792306Z",
     "shell.execute_reply": "2023-07-19T22:24:05.791354Z"
    },
    "papermill": {
     "duration": 0.061355,
     "end_time": "2023-07-19T22:24:05.794457",
     "exception": false,
     "start_time": "2023-07-19T22:24:05.733102",
     "status": "completed"
    },
    "pycharm": {
     "name": "#%%\n"
    },
    "tags": []
   },
   "outputs": [],
   "source": [
    "behavior_sessions = behavior_sessions.merge(project_code_lookup, on='mouse_id',\n",
    "                                            how='left', suffixes=('_session', '_mouse'))\n",
    "behavior_sessions = behavior_sessions.drop(columns='project_code_session')\n",
    "behavior_sessions = behavior_sessions.rename(columns={'project_code_mouse': 'project_code'})"
   ]
  },
  {
   "cell_type": "markdown",
   "id": "18e78600",
   "metadata": {
    "papermill": {
     "duration": 0.036698,
     "end_time": "2023-07-19T22:24:05.869168",
     "exception": false,
     "start_time": "2023-07-19T22:24:05.832470",
     "status": "completed"
    },
    "pycharm": {
     "name": "#%% md\n"
    },
    "tags": []
   },
   "source": [
    "#### What `project_codes` are available? What  `session_types` belong to each? "
   ]
  },
  {
   "cell_type": "code",
   "execution_count": 20,
   "id": "2893504f",
   "metadata": {
    "execution": {
     "iopub.execute_input": "2023-07-19T22:24:05.947770Z",
     "iopub.status.busy": "2023-07-19T22:24:05.946797Z",
     "iopub.status.idle": "2023-07-19T22:24:05.956030Z",
     "shell.execute_reply": "2023-07-19T22:24:05.955117Z"
    },
    "papermill": {
     "duration": 0.050042,
     "end_time": "2023-07-19T22:24:05.958011",
     "exception": false,
     "start_time": "2023-07-19T22:24:05.907969",
     "status": "completed"
    },
    "pycharm": {
     "name": "#%%\n"
    },
    "tags": []
   },
   "outputs": [
    {
     "data": {
      "text/plain": [
       "array(['VisualBehaviorMultiscope', 'VisualBehaviorTask1B',\n",
       "       'VisualBehavior', 'VisualBehaviorMultiscope4areasx2d'],\n",
       "      dtype=object)"
      ]
     },
     "execution_count": 20,
     "metadata": {},
     "output_type": "execute_result"
    }
   ],
   "source": [
    "behavior_sessions.project_code.unique()"
   ]
  },
  {
   "cell_type": "code",
   "execution_count": 21,
   "id": "93050515",
   "metadata": {
    "execution": {
     "iopub.execute_input": "2023-07-19T22:24:06.036302Z",
     "iopub.status.busy": "2023-07-19T22:24:06.035701Z",
     "iopub.status.idle": "2023-07-19T22:24:06.050125Z",
     "shell.execute_reply": "2023-07-19T22:24:06.049281Z"
    },
    "papermill": {
     "duration": 0.055019,
     "end_time": "2023-07-19T22:24:06.051845",
     "exception": false,
     "start_time": "2023-07-19T22:24:05.996826",
     "status": "completed"
    },
    "pycharm": {
     "name": "#%%\n"
    },
    "tags": []
   },
   "outputs": [
    {
     "name": "stdout",
     "output_type": "stream",
     "text": [
      "\n",
      " project_code: VisualBehaviorMultiscope\n",
      "\n",
      " has these session types:\n",
      " ['OPHYS_0_images_A_habituation' 'OPHYS_1_images_A'\n",
      " 'OPHYS_2_images_A_passive' 'OPHYS_2_images_B_passive' 'OPHYS_3_images_A'\n",
      " 'OPHYS_3_images_B' 'OPHYS_4_images_B' 'OPHYS_5_images_A_passive'\n",
      " 'OPHYS_5_images_B_passive' 'OPHYS_6_images_A' 'OPHYS_6_images_B'\n",
      " 'TRAINING_0_gratings_autorewards_15min' 'TRAINING_1_gratings'\n",
      " 'TRAINING_2_gratings_flashed' 'TRAINING_3_images_A_10uL_reward'\n",
      " 'TRAINING_4_images_A_training' 'TRAINING_5_images_A_epilogue'\n",
      " 'TRAINING_5_images_A_handoff_lapsed' 'TRAINING_5_images_A_handoff_ready']\n",
      "\n",
      "\n",
      "\n",
      " project_code: VisualBehaviorTask1B\n",
      "\n",
      " has these session types:\n",
      " ['OPHYS_0_images_A_habituation' 'OPHYS_0_images_B_habituation'\n",
      " 'OPHYS_1_images_B' 'OPHYS_2_images_B_passive' 'OPHYS_3_images_B'\n",
      " 'OPHYS_4_images_A' 'OPHYS_4_images_B' 'OPHYS_5_images_A_passive'\n",
      " 'OPHYS_6_images_A' 'TRAINING_0_gratings_autorewards_15min'\n",
      " 'TRAINING_1_gratings' 'TRAINING_2_gratings_flashed'\n",
      " 'TRAINING_3_images_B_10uL_reward' 'TRAINING_4_images_B_training'\n",
      " 'TRAINING_5_images_B_epilogue' 'TRAINING_5_images_B_handoff_lapsed'\n",
      " 'TRAINING_5_images_B_handoff_ready']\n",
      "\n",
      "\n",
      "\n",
      " project_code: VisualBehavior\n",
      "\n",
      " has these session types:\n",
      " ['OPHYS_0_images_A_habituation' 'OPHYS_1_images_A'\n",
      " 'OPHYS_2_images_A_passive' 'OPHYS_3_images_A' 'OPHYS_4_images_B'\n",
      " 'OPHYS_5_images_B_passive' 'OPHYS_6_images_B'\n",
      " 'TRAINING_0_gratings_autorewards_15min' 'TRAINING_1_gratings'\n",
      " 'TRAINING_2_gratings_flashed' 'TRAINING_3_images_A_10uL_reward'\n",
      " 'TRAINING_4_images_A_handoff_lapsed' 'TRAINING_4_images_A_handoff_ready'\n",
      " 'TRAINING_4_images_A_training' 'TRAINING_5_images_A_epilogue'\n",
      " 'TRAINING_5_images_A_handoff_lapsed' 'TRAINING_5_images_A_handoff_ready']\n",
      "\n",
      "\n",
      "\n",
      " project_code: VisualBehaviorMultiscope4areasx2d\n",
      "\n",
      " has these session types:\n",
      " ['OPHYS_0_images_G_habituation' 'OPHYS_1_images_G'\n",
      " 'OPHYS_2_images_G_passive' 'OPHYS_3_images_G' 'OPHYS_4_images_H'\n",
      " 'OPHYS_5_images_H_passive' 'OPHYS_6_images_H'\n",
      " 'TRAINING_0_gratings_autorewards_15min' 'TRAINING_1_gratings'\n",
      " 'TRAINING_2_gratings_flashed' 'TRAINING_3_images_G_10uL_reward'\n",
      " 'TRAINING_4_images_G_training' 'TRAINING_5_images_G_epilogue'\n",
      " 'TRAINING_5_images_G_handoff_lapsed' 'TRAINING_5_images_G_handoff_ready']\n",
      "\n",
      "\n"
     ]
    }
   ],
   "source": [
    "for project_code in behavior_sessions.project_code.unique(): \n",
    "    project_sessions = behavior_sessions[behavior_sessions.project_code==project_code]\n",
    "    print('\\n project_code:', project_code)\n",
    "    print('\\n has these session types:\\n', np.sort(\n",
    "        project_sessions.session_type[~project_sessions.session_type.isna()].unique()))\n",
    "    print('\\n')"
   ]
  },
  {
   "cell_type": "markdown",
   "id": "983a12b2",
   "metadata": {
    "papermill": {
     "duration": 0.036542,
     "end_time": "2023-07-19T22:24:06.127295",
     "exception": false,
     "start_time": "2023-07-19T22:24:06.090753",
     "status": "completed"
    },
    "pycharm": {
     "name": "#%% md\n"
    },
    "tags": []
   },
   "source": [
    "Notice that for `project_codes` `VisualBehavior` and `VisualBehaviorMultiscope`, mice are trained on image set A, while for `VisualBehaviorTask1B`, mice are trained on image set B"
   ]
  },
  {
   "cell_type": "code",
   "execution_count": null,
   "id": "e04c6d3e",
   "metadata": {
    "papermill": {
     "duration": 0.039048,
     "end_time": "2023-07-19T22:24:06.204164",
     "exception": false,
     "start_time": "2023-07-19T22:24:06.165116",
     "status": "completed"
    },
    "pycharm": {
     "name": "#%%\n"
    },
    "tags": []
   },
   "outputs": [],
   "source": []
  },
  {
   "cell_type": "markdown",
   "id": "cf0fc554",
   "metadata": {
    "papermill": {
     "duration": 0.037412,
     "end_time": "2023-07-19T22:24:06.278751",
     "exception": false,
     "start_time": "2023-07-19T22:24:06.241339",
     "status": "completed"
    },
    "pycharm": {
     "name": "#%% md\n"
    },
    "tags": []
   },
   "source": [
    "## Ophys Sessions Table"
   ]
  },
  {
   "cell_type": "markdown",
   "id": "05b97a3e",
   "metadata": {
    "papermill": {
     "duration": 0.036726,
     "end_time": "2023-07-19T22:24:06.354440",
     "exception": false,
     "start_time": "2023-07-19T22:24:06.317714",
     "status": "completed"
    },
    "pycharm": {
     "name": "#%% md\n"
    },
    "tags": []
   },
   "source": [
    "The `ophys_session_table` includes all of the metadata columns available in the `behavior_session_table`, as well as additional information specific to 2-photon imaging, namely the list of `ophys_experiment_ids` and `ophys_container_ids` associated with each `ophys_session_id`. "
   ]
  },
  {
   "cell_type": "code",
   "execution_count": 22,
   "id": "8831dcb6",
   "metadata": {
    "execution": {
     "iopub.execute_input": "2023-07-19T22:24:06.432544Z",
     "iopub.status.busy": "2023-07-19T22:24:06.431763Z",
     "iopub.status.idle": "2023-07-19T22:24:06.461456Z",
     "shell.execute_reply": "2023-07-19T22:24:06.460503Z"
    },
    "papermill": {
     "duration": 0.070673,
     "end_time": "2023-07-19T22:24:06.463288",
     "exception": false,
     "start_time": "2023-07-19T22:24:06.392615",
     "status": "completed"
    },
    "pycharm": {
     "name": "#%%\n"
    },
    "tags": []
   },
   "outputs": [
    {
     "name": "stdout",
     "output_type": "stream",
     "text": [
      "Total number of ophys sessions: 705\n",
      "\n",
      "Index(['equipment_name', 'full_genotype', 'mouse_id', 'reporter_line',\n",
      "       'driver_line', 'sex', 'age_in_days', 'cre_line', 'indicator',\n",
      "       'session_number', 'prior_exposures_to_session_type',\n",
      "       'prior_exposures_to_image_set', 'prior_exposures_to_omissions',\n",
      "       'behavior_session_id', 'ophys_experiment_id', 'ophys_container_id',\n",
      "       'project_code', 'date_of_acquisition', 'session_type'],\n",
      "      dtype='object')\n"
     ]
    },
    {
     "data": {
      "text/html": [
       "<div>\n",
       "<style scoped>\n",
       "    .dataframe tbody tr th:only-of-type {\n",
       "        vertical-align: middle;\n",
       "    }\n",
       "\n",
       "    .dataframe tbody tr th {\n",
       "        vertical-align: top;\n",
       "    }\n",
       "\n",
       "    .dataframe thead th {\n",
       "        text-align: right;\n",
       "    }\n",
       "</style>\n",
       "<table border=\"1\" class=\"dataframe\">\n",
       "  <thead>\n",
       "    <tr style=\"text-align: right;\">\n",
       "      <th></th>\n",
       "      <th>equipment_name</th>\n",
       "      <th>full_genotype</th>\n",
       "      <th>mouse_id</th>\n",
       "      <th>reporter_line</th>\n",
       "      <th>driver_line</th>\n",
       "      <th>sex</th>\n",
       "      <th>age_in_days</th>\n",
       "      <th>cre_line</th>\n",
       "      <th>indicator</th>\n",
       "      <th>session_number</th>\n",
       "      <th>prior_exposures_to_session_type</th>\n",
       "      <th>prior_exposures_to_image_set</th>\n",
       "      <th>prior_exposures_to_omissions</th>\n",
       "      <th>behavior_session_id</th>\n",
       "      <th>ophys_experiment_id</th>\n",
       "      <th>ophys_container_id</th>\n",
       "      <th>project_code</th>\n",
       "      <th>date_of_acquisition</th>\n",
       "      <th>session_type</th>\n",
       "    </tr>\n",
       "    <tr>\n",
       "      <th>ophys_session_id</th>\n",
       "      <th></th>\n",
       "      <th></th>\n",
       "      <th></th>\n",
       "      <th></th>\n",
       "      <th></th>\n",
       "      <th></th>\n",
       "      <th></th>\n",
       "      <th></th>\n",
       "      <th></th>\n",
       "      <th></th>\n",
       "      <th></th>\n",
       "      <th></th>\n",
       "      <th></th>\n",
       "      <th></th>\n",
       "      <th></th>\n",
       "      <th></th>\n",
       "      <th></th>\n",
       "      <th></th>\n",
       "      <th></th>\n",
       "    </tr>\n",
       "  </thead>\n",
       "  <tbody>\n",
       "    <tr>\n",
       "      <th>951410079</th>\n",
       "      <td>MESO.1</td>\n",
       "      <td>Sst-IRES-Cre/wt;Ai148(TIT2L-GC6f-ICL-tTA2)/wt</td>\n",
       "      <td>457841</td>\n",
       "      <td>Ai148(TIT2L-GC6f-ICL-tTA2)</td>\n",
       "      <td>[Sst-IRES-Cre]</td>\n",
       "      <td>F</td>\n",
       "      <td>206.0</td>\n",
       "      <td>Sst-IRES-Cre</td>\n",
       "      <td>GCaMP6f</td>\n",
       "      <td>1.0</td>\n",
       "      <td>0.0</td>\n",
       "      <td>65.0</td>\n",
       "      <td>0.0</td>\n",
       "      <td>951520319</td>\n",
       "      <td>[951980471, 951980473, 951980475, 951980479, 9...</td>\n",
       "      <td>[1018028360, 1018028345, 1018028357, 101802834...</td>\n",
       "      <td>VisualBehaviorMultiscope</td>\n",
       "      <td>2019-09-20 09:45:29.897856</td>\n",
       "      <td>OPHYS_1_images_A</td>\n",
       "    </tr>\n",
       "    <tr>\n",
       "      <th>952430817</th>\n",
       "      <td>MESO.1</td>\n",
       "      <td>Sst-IRES-Cre/wt;Ai148(TIT2L-GC6f-ICL-tTA2)/wt</td>\n",
       "      <td>457841</td>\n",
       "      <td>Ai148(TIT2L-GC6f-ICL-tTA2)</td>\n",
       "      <td>[Sst-IRES-Cre]</td>\n",
       "      <td>F</td>\n",
       "      <td>209.0</td>\n",
       "      <td>Sst-IRES-Cre</td>\n",
       "      <td>GCaMP6f</td>\n",
       "      <td>2.0</td>\n",
       "      <td>0.0</td>\n",
       "      <td>66.0</td>\n",
       "      <td>1.0</td>\n",
       "      <td>952554548</td>\n",
       "      <td>[953659743, 953659745, 953659749, 953659752]</td>\n",
       "      <td>[1018028357, 1018028345, 1018028339, 1018028354]</td>\n",
       "      <td>VisualBehaviorMultiscope</td>\n",
       "      <td>2019-09-23 08:13:07.627573</td>\n",
       "      <td>OPHYS_2_images_A_passive</td>\n",
       "    </tr>\n",
       "    <tr>\n",
       "      <th>954954402</th>\n",
       "      <td>MESO.1</td>\n",
       "      <td>Sst-IRES-Cre/wt;Ai148(TIT2L-GC6f-ICL-tTA2)/wt</td>\n",
       "      <td>457841</td>\n",
       "      <td>Ai148(TIT2L-GC6f-ICL-tTA2)</td>\n",
       "      <td>[Sst-IRES-Cre]</td>\n",
       "      <td>F</td>\n",
       "      <td>210.0</td>\n",
       "      <td>Sst-IRES-Cre</td>\n",
       "      <td>GCaMP6f</td>\n",
       "      <td>3.0</td>\n",
       "      <td>0.0</td>\n",
       "      <td>67.0</td>\n",
       "      <td>2.0</td>\n",
       "      <td>953982960</td>\n",
       "      <td>[958527464, 958527471, 958527474, 958527479, 9...</td>\n",
       "      <td>[1018028360, 1018028342, 1018028357, 101802835...</td>\n",
       "      <td>VisualBehaviorMultiscope</td>\n",
       "      <td>2019-09-24 16:00:00.000000</td>\n",
       "      <td>OPHYS_3_images_A</td>\n",
       "    </tr>\n",
       "    <tr>\n",
       "      <th>955775716</th>\n",
       "      <td>MESO.1</td>\n",
       "      <td>Sst-IRES-Cre/wt;Ai148(TIT2L-GC6f-ICL-tTA2)/wt</td>\n",
       "      <td>457841</td>\n",
       "      <td>Ai148(TIT2L-GC6f-ICL-tTA2)</td>\n",
       "      <td>[Sst-IRES-Cre]</td>\n",
       "      <td>F</td>\n",
       "      <td>212.0</td>\n",
       "      <td>Sst-IRES-Cre</td>\n",
       "      <td>GCaMP6f</td>\n",
       "      <td>3.0</td>\n",
       "      <td>1.0</td>\n",
       "      <td>68.0</td>\n",
       "      <td>3.0</td>\n",
       "      <td>956010809</td>\n",
       "      <td>[956941841, 956941844, 956941846]</td>\n",
       "      <td>[1018028342, 1018028339, 1018028345]</td>\n",
       "      <td>VisualBehaviorMultiscope</td>\n",
       "      <td>2019-09-26 08:44:37.199778</td>\n",
       "      <td>OPHYS_3_images_A</td>\n",
       "    </tr>\n",
       "    <tr>\n",
       "      <th>957020350</th>\n",
       "      <td>MESO.1</td>\n",
       "      <td>Sst-IRES-Cre/wt;Ai148(TIT2L-GC6f-ICL-tTA2)/wt</td>\n",
       "      <td>457841</td>\n",
       "      <td>Ai148(TIT2L-GC6f-ICL-tTA2)</td>\n",
       "      <td>[Sst-IRES-Cre]</td>\n",
       "      <td>F</td>\n",
       "      <td>213.0</td>\n",
       "      <td>Sst-IRES-Cre</td>\n",
       "      <td>GCaMP6f</td>\n",
       "      <td>4.0</td>\n",
       "      <td>0.0</td>\n",
       "      <td>0.0</td>\n",
       "      <td>4.0</td>\n",
       "      <td>957032492</td>\n",
       "      <td>[957759562, 957759564, 957759566, 957759570, 9...</td>\n",
       "      <td>[1018028354, 1018028345, 1018028360, 101802834...</td>\n",
       "      <td>VisualBehaviorMultiscope</td>\n",
       "      <td>2019-09-27 08:28:05.415005</td>\n",
       "      <td>OPHYS_4_images_B</td>\n",
       "    </tr>\n",
       "  </tbody>\n",
       "</table>\n",
       "</div>"
      ],
      "text/plain": [
       "                 equipment_name  \\\n",
       "ophys_session_id                  \n",
       "951410079                MESO.1   \n",
       "952430817                MESO.1   \n",
       "954954402                MESO.1   \n",
       "955775716                MESO.1   \n",
       "957020350                MESO.1   \n",
       "\n",
       "                                                  full_genotype mouse_id  \\\n",
       "ophys_session_id                                                           \n",
       "951410079         Sst-IRES-Cre/wt;Ai148(TIT2L-GC6f-ICL-tTA2)/wt   457841   \n",
       "952430817         Sst-IRES-Cre/wt;Ai148(TIT2L-GC6f-ICL-tTA2)/wt   457841   \n",
       "954954402         Sst-IRES-Cre/wt;Ai148(TIT2L-GC6f-ICL-tTA2)/wt   457841   \n",
       "955775716         Sst-IRES-Cre/wt;Ai148(TIT2L-GC6f-ICL-tTA2)/wt   457841   \n",
       "957020350         Sst-IRES-Cre/wt;Ai148(TIT2L-GC6f-ICL-tTA2)/wt   457841   \n",
       "\n",
       "                               reporter_line     driver_line sex  age_in_days  \\\n",
       "ophys_session_id                                                                \n",
       "951410079         Ai148(TIT2L-GC6f-ICL-tTA2)  [Sst-IRES-Cre]   F        206.0   \n",
       "952430817         Ai148(TIT2L-GC6f-ICL-tTA2)  [Sst-IRES-Cre]   F        209.0   \n",
       "954954402         Ai148(TIT2L-GC6f-ICL-tTA2)  [Sst-IRES-Cre]   F        210.0   \n",
       "955775716         Ai148(TIT2L-GC6f-ICL-tTA2)  [Sst-IRES-Cre]   F        212.0   \n",
       "957020350         Ai148(TIT2L-GC6f-ICL-tTA2)  [Sst-IRES-Cre]   F        213.0   \n",
       "\n",
       "                      cre_line indicator  session_number  \\\n",
       "ophys_session_id                                           \n",
       "951410079         Sst-IRES-Cre   GCaMP6f             1.0   \n",
       "952430817         Sst-IRES-Cre   GCaMP6f             2.0   \n",
       "954954402         Sst-IRES-Cre   GCaMP6f             3.0   \n",
       "955775716         Sst-IRES-Cre   GCaMP6f             3.0   \n",
       "957020350         Sst-IRES-Cre   GCaMP6f             4.0   \n",
       "\n",
       "                  prior_exposures_to_session_type  \\\n",
       "ophys_session_id                                    \n",
       "951410079                                     0.0   \n",
       "952430817                                     0.0   \n",
       "954954402                                     0.0   \n",
       "955775716                                     1.0   \n",
       "957020350                                     0.0   \n",
       "\n",
       "                  prior_exposures_to_image_set  prior_exposures_to_omissions  \\\n",
       "ophys_session_id                                                               \n",
       "951410079                                 65.0                           0.0   \n",
       "952430817                                 66.0                           1.0   \n",
       "954954402                                 67.0                           2.0   \n",
       "955775716                                 68.0                           3.0   \n",
       "957020350                                  0.0                           4.0   \n",
       "\n",
       "                  behavior_session_id  \\\n",
       "ophys_session_id                        \n",
       "951410079                   951520319   \n",
       "952430817                   952554548   \n",
       "954954402                   953982960   \n",
       "955775716                   956010809   \n",
       "957020350                   957032492   \n",
       "\n",
       "                                                ophys_experiment_id  \\\n",
       "ophys_session_id                                                      \n",
       "951410079         [951980471, 951980473, 951980475, 951980479, 9...   \n",
       "952430817              [953659743, 953659745, 953659749, 953659752]   \n",
       "954954402         [958527464, 958527471, 958527474, 958527479, 9...   \n",
       "955775716                         [956941841, 956941844, 956941846]   \n",
       "957020350         [957759562, 957759564, 957759566, 957759570, 9...   \n",
       "\n",
       "                                                 ophys_container_id  \\\n",
       "ophys_session_id                                                      \n",
       "951410079         [1018028360, 1018028345, 1018028357, 101802834...   \n",
       "952430817          [1018028357, 1018028345, 1018028339, 1018028354]   \n",
       "954954402         [1018028360, 1018028342, 1018028357, 101802835...   \n",
       "955775716                      [1018028342, 1018028339, 1018028345]   \n",
       "957020350         [1018028354, 1018028345, 1018028360, 101802834...   \n",
       "\n",
       "                              project_code        date_of_acquisition  \\\n",
       "ophys_session_id                                                        \n",
       "951410079         VisualBehaviorMultiscope 2019-09-20 09:45:29.897856   \n",
       "952430817         VisualBehaviorMultiscope 2019-09-23 08:13:07.627573   \n",
       "954954402         VisualBehaviorMultiscope 2019-09-24 16:00:00.000000   \n",
       "955775716         VisualBehaviorMultiscope 2019-09-26 08:44:37.199778   \n",
       "957020350         VisualBehaviorMultiscope 2019-09-27 08:28:05.415005   \n",
       "\n",
       "                              session_type  \n",
       "ophys_session_id                            \n",
       "951410079                 OPHYS_1_images_A  \n",
       "952430817         OPHYS_2_images_A_passive  \n",
       "954954402                 OPHYS_3_images_A  \n",
       "955775716                 OPHYS_3_images_A  \n",
       "957020350                 OPHYS_4_images_B  "
      ]
     },
     "execution_count": 22,
     "metadata": {},
     "output_type": "execute_result"
    }
   ],
   "source": [
    "ophys_sessions = cache.get_ophys_session_table()\n",
    "\n",
    "print(f\"Total number of ophys sessions: {len(ophys_sessions)}\\n\")\n",
    "\n",
    "print(ophys_sessions.columns)\n",
    "\n",
    "ophys_sessions.head()"
   ]
  },
  {
   "cell_type": "code",
   "execution_count": 23,
   "id": "ca9bb487",
   "metadata": {
    "execution": {
     "iopub.execute_input": "2023-07-19T22:24:06.541455Z",
     "iopub.status.busy": "2023-07-19T22:24:06.540593Z",
     "iopub.status.idle": "2023-07-19T22:24:06.563130Z",
     "shell.execute_reply": "2023-07-19T22:24:06.562256Z"
    },
    "papermill": {
     "duration": 0.063479,
     "end_time": "2023-07-19T22:24:06.565021",
     "exception": false,
     "start_time": "2023-07-19T22:24:06.501542",
     "status": "completed"
    },
    "pycharm": {
     "name": "#%%\n"
    },
    "tags": []
   },
   "outputs": [
    {
     "data": {
      "text/html": [
       "<div>\n",
       "<style scoped>\n",
       "    .dataframe tbody tr th:only-of-type {\n",
       "        vertical-align: middle;\n",
       "    }\n",
       "\n",
       "    .dataframe tbody tr th {\n",
       "        vertical-align: top;\n",
       "    }\n",
       "\n",
       "    .dataframe thead th {\n",
       "        text-align: right;\n",
       "    }\n",
       "</style>\n",
       "<table border=\"1\" class=\"dataframe\">\n",
       "  <thead>\n",
       "    <tr style=\"text-align: right;\">\n",
       "      <th></th>\n",
       "      <th>ophys_experiment_id</th>\n",
       "      <th>ophys_container_id</th>\n",
       "      <th>equipment_name</th>\n",
       "    </tr>\n",
       "    <tr>\n",
       "      <th>ophys_session_id</th>\n",
       "      <th></th>\n",
       "      <th></th>\n",
       "      <th></th>\n",
       "    </tr>\n",
       "  </thead>\n",
       "  <tbody>\n",
       "    <tr>\n",
       "      <th>951410079</th>\n",
       "      <td>[951980471, 951980473, 951980475, 951980479, 9...</td>\n",
       "      <td>[1018028360, 1018028345, 1018028357, 101802834...</td>\n",
       "      <td>MESO.1</td>\n",
       "    </tr>\n",
       "    <tr>\n",
       "      <th>952430817</th>\n",
       "      <td>[953659743, 953659745, 953659749, 953659752]</td>\n",
       "      <td>[1018028357, 1018028345, 1018028339, 1018028354]</td>\n",
       "      <td>MESO.1</td>\n",
       "    </tr>\n",
       "    <tr>\n",
       "      <th>954954402</th>\n",
       "      <td>[958527464, 958527471, 958527474, 958527479, 9...</td>\n",
       "      <td>[1018028360, 1018028342, 1018028357, 101802835...</td>\n",
       "      <td>MESO.1</td>\n",
       "    </tr>\n",
       "    <tr>\n",
       "      <th>955775716</th>\n",
       "      <td>[956941841, 956941844, 956941846]</td>\n",
       "      <td>[1018028342, 1018028339, 1018028345]</td>\n",
       "      <td>MESO.1</td>\n",
       "    </tr>\n",
       "    <tr>\n",
       "      <th>957020350</th>\n",
       "      <td>[957759562, 957759564, 957759566, 957759570, 9...</td>\n",
       "      <td>[1018028354, 1018028345, 1018028360, 101802834...</td>\n",
       "      <td>MESO.1</td>\n",
       "    </tr>\n",
       "    <tr>\n",
       "      <th>958105827</th>\n",
       "      <td>[958741219, 958741222, 958741230, 958741232, 9...</td>\n",
       "      <td>[1018028357, 1018028342, 1018028345, 101802835...</td>\n",
       "      <td>MESO.1</td>\n",
       "    </tr>\n",
       "    <tr>\n",
       "      <th>958772311</th>\n",
       "      <td>[959388788, 959388790, 959388792, 959388796, 9...</td>\n",
       "      <td>[1018028354, 1018028345, 1018028351, 101802835...</td>\n",
       "      <td>MESO.1</td>\n",
       "    </tr>\n",
       "    <tr>\n",
       "      <th>959458018</th>\n",
       "      <td>[960410023, 960410026, 960410028, 960410038, 9...</td>\n",
       "      <td>[1018028360, 1018028342, 1018028357, 101802833...</td>\n",
       "      <td>MESO.1</td>\n",
       "    </tr>\n",
       "    <tr>\n",
       "      <th>993727065</th>\n",
       "      <td>[993862620]</td>\n",
       "      <td>[991913453]</td>\n",
       "      <td>CAM2P.4</td>\n",
       "    </tr>\n",
       "    <tr>\n",
       "      <th>993984066</th>\n",
       "      <td>[994053903]</td>\n",
       "      <td>[991913453]</td>\n",
       "      <td>CAM2P.4</td>\n",
       "    </tr>\n",
       "    <tr>\n",
       "      <th>994199725</th>\n",
       "      <td>[994278281]</td>\n",
       "      <td>[991913453]</td>\n",
       "      <td>CAM2P.4</td>\n",
       "    </tr>\n",
       "    <tr>\n",
       "      <th>994731371</th>\n",
       "      <td>[994790561]</td>\n",
       "      <td>[991913453]</td>\n",
       "      <td>CAM2P.4</td>\n",
       "    </tr>\n",
       "    <tr>\n",
       "      <th>994883056</th>\n",
       "      <td>[994955425]</td>\n",
       "      <td>[991913453]</td>\n",
       "      <td>CAM2P.4</td>\n",
       "    </tr>\n",
       "    <tr>\n",
       "      <th>995115654</th>\n",
       "      <td>[995280513]</td>\n",
       "      <td>[991913453]</td>\n",
       "      <td>CAM2P.4</td>\n",
       "    </tr>\n",
       "    <tr>\n",
       "      <th>995359867</th>\n",
       "      <td>[995439942]</td>\n",
       "      <td>[991913453]</td>\n",
       "      <td>CAM2P.4</td>\n",
       "    </tr>\n",
       "  </tbody>\n",
       "</table>\n",
       "</div>"
      ],
      "text/plain": [
       "                                                ophys_experiment_id  \\\n",
       "ophys_session_id                                                      \n",
       "951410079         [951980471, 951980473, 951980475, 951980479, 9...   \n",
       "952430817              [953659743, 953659745, 953659749, 953659752]   \n",
       "954954402         [958527464, 958527471, 958527474, 958527479, 9...   \n",
       "955775716                         [956941841, 956941844, 956941846]   \n",
       "957020350         [957759562, 957759564, 957759566, 957759570, 9...   \n",
       "958105827         [958741219, 958741222, 958741230, 958741232, 9...   \n",
       "958772311         [959388788, 959388790, 959388792, 959388796, 9...   \n",
       "959458018         [960410023, 960410026, 960410028, 960410038, 9...   \n",
       "993727065                                               [993862620]   \n",
       "993984066                                               [994053903]   \n",
       "994199725                                               [994278281]   \n",
       "994731371                                               [994790561]   \n",
       "994883056                                               [994955425]   \n",
       "995115654                                               [995280513]   \n",
       "995359867                                               [995439942]   \n",
       "\n",
       "                                                 ophys_container_id  \\\n",
       "ophys_session_id                                                      \n",
       "951410079         [1018028360, 1018028345, 1018028357, 101802834...   \n",
       "952430817          [1018028357, 1018028345, 1018028339, 1018028354]   \n",
       "954954402         [1018028360, 1018028342, 1018028357, 101802835...   \n",
       "955775716                      [1018028342, 1018028339, 1018028345]   \n",
       "957020350         [1018028354, 1018028345, 1018028360, 101802834...   \n",
       "958105827         [1018028357, 1018028342, 1018028345, 101802835...   \n",
       "958772311         [1018028354, 1018028345, 1018028351, 101802835...   \n",
       "959458018         [1018028360, 1018028342, 1018028357, 101802833...   \n",
       "993727065                                               [991913453]   \n",
       "993984066                                               [991913453]   \n",
       "994199725                                               [991913453]   \n",
       "994731371                                               [991913453]   \n",
       "994883056                                               [991913453]   \n",
       "995115654                                               [991913453]   \n",
       "995359867                                               [991913453]   \n",
       "\n",
       "                 equipment_name  \n",
       "ophys_session_id                 \n",
       "951410079                MESO.1  \n",
       "952430817                MESO.1  \n",
       "954954402                MESO.1  \n",
       "955775716                MESO.1  \n",
       "957020350                MESO.1  \n",
       "958105827                MESO.1  \n",
       "958772311                MESO.1  \n",
       "959458018                MESO.1  \n",
       "993727065               CAM2P.4  \n",
       "993984066               CAM2P.4  \n",
       "994199725               CAM2P.4  \n",
       "994731371               CAM2P.4  \n",
       "994883056               CAM2P.4  \n",
       "995115654               CAM2P.4  \n",
       "995359867               CAM2P.4  "
      ]
     },
     "execution_count": 23,
     "metadata": {},
     "output_type": "execute_result"
    }
   ],
   "source": [
    "# what do the ophys_experiment_id and ophys_container_id columns look like? \n",
    "# are there always the same number of experiments and containers in different sessions? \n",
    "# does the number of experiments and containers depend on the microscope used? \n",
    "ophys_sessions[['ophys_experiment_id', 'ophys_container_id', 'equipment_name']][:15]"
   ]
  },
  {
   "cell_type": "markdown",
   "id": "5cc382f2",
   "metadata": {
    "papermill": {
     "duration": 0.037859,
     "end_time": "2023-07-19T22:24:06.642171",
     "exception": false,
     "start_time": "2023-07-19T22:24:06.604312",
     "status": "completed"
    },
    "pycharm": {
     "name": "#%% md\n"
    },
    "tags": []
   },
   "source": [
    "## Session order "
   ]
  },
  {
   "cell_type": "markdown",
   "id": "18de9c0a",
   "metadata": {
    "papermill": {
     "duration": 0.038908,
     "end_time": "2023-07-19T22:24:06.723247",
     "exception": false,
     "start_time": "2023-07-19T22:24:06.684339",
     "status": "completed"
    },
    "pycharm": {
     "name": "#%% md\n"
    },
    "tags": []
   },
   "source": [
    "###  The `ophys_session_table` only includes sessions that pass ophys QC "
   ]
  },
  {
   "cell_type": "markdown",
   "id": "9d820569",
   "metadata": {
    "papermill": {
     "duration": 0.037666,
     "end_time": "2023-07-19T22:24:06.801028",
     "exception": false,
     "start_time": "2023-07-19T22:24:06.763362",
     "status": "completed"
    },
    "pycharm": {
     "name": "#%% md\n"
    },
    "tags": []
   },
   "source": [
    "#### (but the `behavior_session_table` includes all the sessions)"
   ]
  },
  {
   "cell_type": "markdown",
   "id": "a7c8920b",
   "metadata": {
    "papermill": {
     "duration": 0.038272,
     "end_time": "2023-07-19T22:24:06.877177",
     "exception": false,
     "start_time": "2023-07-19T22:24:06.838905",
     "status": "completed"
    },
    "pycharm": {
     "name": "#%% md\n"
    },
    "tags": []
   },
   "source": [
    "The `ophys_session_table` only includes sessions with 2-photon imaging data that passed our QC criteria. Importantly, sessions that took place during 2-photon imaging, but did NOT pass QC, can be found in the `behavior_session_table`, as it includes the full training history for every mouse. In the `behavior_session_table`, only sessions with passing ophys data will have an `ophys_session_id`. We can use this to identify ophys sessions that didnt pass QC, but still have behavior data. "
   ]
  },
  {
   "cell_type": "markdown",
   "id": "7684ef65",
   "metadata": {
    "papermill": {
     "duration": 0.037489,
     "end_time": "2023-07-19T22:24:06.958713",
     "exception": false,
     "start_time": "2023-07-19T22:24:06.921224",
     "status": "completed"
    },
    "pycharm": {
     "name": "#%% md\n"
    },
    "tags": []
   },
   "source": [
    "#### Let's look at all the behavior sessions that took place on a 2-photon rig for one mouse, in order of acquisition date"
   ]
  },
  {
   "cell_type": "code",
   "execution_count": 24,
   "id": "9a3d4298",
   "metadata": {
    "execution": {
     "iopub.execute_input": "2023-07-19T22:24:07.042776Z",
     "iopub.status.busy": "2023-07-19T22:24:07.041457Z",
     "iopub.status.idle": "2023-07-19T22:24:07.054744Z",
     "shell.execute_reply": "2023-07-19T22:24:07.053907Z"
    },
    "papermill": {
     "duration": 0.05759,
     "end_time": "2023-07-19T22:24:07.057245",
     "exception": false,
     "start_time": "2023-07-19T22:24:06.999655",
     "status": "completed"
    },
    "pycharm": {
     "name": "#%%\n"
    },
    "scrolled": false,
    "tags": []
   },
   "outputs": [
    {
     "data": {
      "text/html": [
       "<div>\n",
       "<style scoped>\n",
       "    .dataframe tbody tr th:only-of-type {\n",
       "        vertical-align: middle;\n",
       "    }\n",
       "\n",
       "    .dataframe tbody tr th {\n",
       "        vertical-align: top;\n",
       "    }\n",
       "\n",
       "    .dataframe thead th {\n",
       "        text-align: right;\n",
       "    }\n",
       "</style>\n",
       "<table border=\"1\" class=\"dataframe\">\n",
       "  <thead>\n",
       "    <tr style=\"text-align: right;\">\n",
       "      <th></th>\n",
       "      <th>session_type</th>\n",
       "      <th>date_of_acquisition</th>\n",
       "      <th>ophys_session_id</th>\n",
       "    </tr>\n",
       "  </thead>\n",
       "  <tbody>\n",
       "  </tbody>\n",
       "</table>\n",
       "</div>"
      ],
      "text/plain": [
       "Empty DataFrame\n",
       "Columns: [session_type, date_of_acquisition, ophys_session_id]\n",
       "Index: []"
      ]
     },
     "execution_count": 24,
     "metadata": {},
     "output_type": "execute_result"
    }
   ],
   "source": [
    "# pick a mouse\n",
    "mouse_id = 445002 \n",
    "# get behavior sessions that took place on the microscope\n",
    "mouse_ophys_sessions = behavior_sessions[(behavior_sessions.mouse_id==mouse_id)&\n",
    "                                         (behavior_sessions.equipment_name=='CAM2P.3')]\n",
    "# only look at the relevant columns\n",
    "mouse_ophys_sessions.sort_values(by='date_of_acquisition')[['session_type', 'date_of_acquisition', 'ophys_session_id']]"
   ]
  },
  {
   "cell_type": "markdown",
   "id": "e0db92d4",
   "metadata": {
    "papermill": {
     "duration": 0.038221,
     "end_time": "2023-07-19T22:24:07.134814",
     "exception": false,
     "start_time": "2023-07-19T22:24:07.096593",
     "status": "completed"
    },
    "pycharm": {
     "name": "#%% md\n"
    },
    "tags": []
   },
   "source": [
    "Notice that only a subset of all OPHYS sessions have an `ophys_session_id` - these are the sessions that passed QC. Sessions with NaN as the `ophys_session_id` either do not have 2P data recorded (as in habituation sessions), or failed QC and were retaken on a subsequent day, such as `OPHYS_5_images_B_passive` in this case"
   ]
  },
  {
   "cell_type": "code",
   "execution_count": 25,
   "id": "895d8679",
   "metadata": {
    "execution": {
     "iopub.execute_input": "2023-07-19T22:24:07.215664Z",
     "iopub.status.busy": "2023-07-19T22:24:07.214870Z",
     "iopub.status.idle": "2023-07-19T22:24:07.219610Z",
     "shell.execute_reply": "2023-07-19T22:24:07.218939Z"
    },
    "papermill": {
     "duration": 0.047915,
     "end_time": "2023-07-19T22:24:07.221865",
     "exception": false,
     "start_time": "2023-07-19T22:24:07.173950",
     "status": "completed"
    },
    "pycharm": {
     "name": "#%%\n"
    },
    "tags": []
   },
   "outputs": [
    {
     "name": "stdout",
     "output_type": "stream",
     "text": [
      "there are 0 ophys sessions in the behavior_session_table for this mouse\n",
      "this includes ophys sessions that failed QC for ophys, but still have behavior data\n"
     ]
    }
   ],
   "source": [
    "print('there are', len(mouse_ophys_sessions), 'ophys sessions in the behavior_session_table for this mouse')\n",
    "print('this includes ophys sessions that failed QC for ophys, but still have behavior data')"
   ]
  },
  {
   "cell_type": "markdown",
   "id": "4347ef89",
   "metadata": {
    "papermill": {
     "duration": 0.039611,
     "end_time": "2023-07-19T22:24:07.299583",
     "exception": false,
     "start_time": "2023-07-19T22:24:07.259972",
     "status": "completed"
    },
    "pycharm": {
     "name": "#%% md\n"
    },
    "tags": []
   },
   "source": [
    "#### What is available in the `ophys_session_table` for this mouse? "
   ]
  },
  {
   "cell_type": "code",
   "execution_count": 26,
   "id": "9d0e7372",
   "metadata": {
    "execution": {
     "iopub.execute_input": "2023-07-19T22:24:07.384335Z",
     "iopub.status.busy": "2023-07-19T22:24:07.382966Z",
     "iopub.status.idle": "2023-07-19T22:24:07.391761Z",
     "shell.execute_reply": "2023-07-19T22:24:07.390529Z"
    },
    "papermill": {
     "duration": 0.057733,
     "end_time": "2023-07-19T22:24:07.397528",
     "exception": false,
     "start_time": "2023-07-19T22:24:07.339795",
     "status": "completed"
    },
    "pycharm": {
     "name": "#%%\n"
    },
    "scrolled": true,
    "tags": []
   },
   "outputs": [
    {
     "name": "stdout",
     "output_type": "stream",
     "text": [
      "there are 0 sessions in the ophys_session_table for this mouse\n",
      "these are the sessions with valid ophys data\n"
     ]
    }
   ],
   "source": [
    "print('there are', len(ophys_sessions[ophys_sessions.mouse_id==mouse_id]), 'sessions in the ophys_session_table for this mouse')\n",
    "print('these are the sessions with valid ophys data')"
   ]
  },
  {
   "cell_type": "code",
   "execution_count": 27,
   "id": "9a478a25",
   "metadata": {
    "execution": {
     "iopub.execute_input": "2023-07-19T22:24:07.492326Z",
     "iopub.status.busy": "2023-07-19T22:24:07.491364Z",
     "iopub.status.idle": "2023-07-19T22:24:07.504462Z",
     "shell.execute_reply": "2023-07-19T22:24:07.503732Z"
    },
    "papermill": {
     "duration": 0.064853,
     "end_time": "2023-07-19T22:24:07.506312",
     "exception": false,
     "start_time": "2023-07-19T22:24:07.441459",
     "status": "completed"
    },
    "pycharm": {
     "name": "#%%\n"
    },
    "tags": []
   },
   "outputs": [
    {
     "data": {
      "text/html": [
       "<div>\n",
       "<style scoped>\n",
       "    .dataframe tbody tr th:only-of-type {\n",
       "        vertical-align: middle;\n",
       "    }\n",
       "\n",
       "    .dataframe tbody tr th {\n",
       "        vertical-align: top;\n",
       "    }\n",
       "\n",
       "    .dataframe thead th {\n",
       "        text-align: right;\n",
       "    }\n",
       "</style>\n",
       "<table border=\"1\" class=\"dataframe\">\n",
       "  <thead>\n",
       "    <tr style=\"text-align: right;\">\n",
       "      <th></th>\n",
       "      <th>date_of_acquisition</th>\n",
       "      <th>session_type</th>\n",
       "    </tr>\n",
       "    <tr>\n",
       "      <th>ophys_session_id</th>\n",
       "      <th></th>\n",
       "      <th></th>\n",
       "    </tr>\n",
       "  </thead>\n",
       "  <tbody>\n",
       "  </tbody>\n",
       "</table>\n",
       "</div>"
      ],
      "text/plain": [
       "Empty DataFrame\n",
       "Columns: [date_of_acquisition, session_type]\n",
       "Index: []"
      ]
     },
     "execution_count": 27,
     "metadata": {},
     "output_type": "execute_result"
    }
   ],
   "source": [
    "ophys_sessions[ophys_sessions.mouse_id==mouse_id][['date_of_acquisition', 'session_type']]"
   ]
  },
  {
   "cell_type": "markdown",
   "id": "f82f9443",
   "metadata": {
    "papermill": {
     "duration": 0.041237,
     "end_time": "2023-07-19T22:24:07.586833",
     "exception": false,
     "start_time": "2023-07-19T22:24:07.545596",
     "status": "completed"
    },
    "pycharm": {
     "name": "#%% md\n"
    },
    "tags": []
   },
   "source": [
    "### Due to QC failures and retakes, session types in the `ophys_session_table` do not always occur in sequential order"
   ]
  },
  {
   "cell_type": "markdown",
   "id": "bbe5b15f",
   "metadata": {
    "papermill": {
     "duration": 0.046843,
     "end_time": "2023-07-19T22:24:07.675252",
     "exception": false,
     "start_time": "2023-07-19T22:24:07.628409",
     "status": "completed"
    },
    "pycharm": {
     "name": "#%% md\n"
    },
    "tags": []
   },
   "source": [
    "The schematic above depicts ophys sessions OPHYS1-6 in a specific order, however this order is rarely perfectly maintained due to QC failures. The example above shows OPHYS_1-4 in the correct order, but then OPHYS_5 comes after OPHYS_6 because the first attempt at OPHYS_5 failed (as we can see from the behavior_sessions for this mouse), and had to be retaken after OPHYS_6. "
   ]
  },
  {
   "cell_type": "markdown",
   "id": "1fb21893",
   "metadata": {
    "papermill": {
     "duration": 0.039025,
     "end_time": "2023-07-19T22:24:07.754522",
     "exception": false,
     "start_time": "2023-07-19T22:24:07.715497",
     "status": "completed"
    },
    "pycharm": {
     "name": "#%% md\n"
    },
    "tags": []
   },
   "source": [
    "#### Let's look at the session order for a different mouse, imaged on the Multiscope"
   ]
  },
  {
   "cell_type": "code",
   "execution_count": 28,
   "id": "281336e5",
   "metadata": {
    "execution": {
     "iopub.execute_input": "2023-07-19T22:24:07.836261Z",
     "iopub.status.busy": "2023-07-19T22:24:07.835314Z",
     "iopub.status.idle": "2023-07-19T22:24:07.851299Z",
     "shell.execute_reply": "2023-07-19T22:24:07.850397Z"
    },
    "papermill": {
     "duration": 0.058829,
     "end_time": "2023-07-19T22:24:07.853175",
     "exception": false,
     "start_time": "2023-07-19T22:24:07.794346",
     "status": "completed"
    },
    "pycharm": {
     "name": "#%%\n"
    },
    "tags": []
   },
   "outputs": [
    {
     "data": {
      "text/html": [
       "<div>\n",
       "<style scoped>\n",
       "    .dataframe tbody tr th:only-of-type {\n",
       "        vertical-align: middle;\n",
       "    }\n",
       "\n",
       "    .dataframe tbody tr th {\n",
       "        vertical-align: top;\n",
       "    }\n",
       "\n",
       "    .dataframe thead th {\n",
       "        text-align: right;\n",
       "    }\n",
       "</style>\n",
       "<table border=\"1\" class=\"dataframe\">\n",
       "  <thead>\n",
       "    <tr style=\"text-align: right;\">\n",
       "      <th></th>\n",
       "      <th>date_of_acquisition</th>\n",
       "      <th>session_type</th>\n",
       "      <th>ophys_session_id</th>\n",
       "    </tr>\n",
       "  </thead>\n",
       "  <tbody>\n",
       "  </tbody>\n",
       "</table>\n",
       "</div>"
      ],
      "text/plain": [
       "Empty DataFrame\n",
       "Columns: [date_of_acquisition, session_type, ophys_session_id]\n",
       "Index: []"
      ]
     },
     "execution_count": 28,
     "metadata": {},
     "output_type": "execute_result"
    }
   ],
   "source": [
    "# pick a mouse\n",
    "mouse_id = 453911\n",
    "# get behavior sessions that took place on the microscope\n",
    "mouse_ophys_sessions = behavior_sessions[(behavior_sessions.mouse_id==mouse_id)&\n",
    "                                         (behavior_sessions.equipment_name=='MESO.1')]\n",
    "# only look at the relevant columns\n",
    "mouse_ophys_sessions.sort_values(by='date_of_acquisition')[['date_of_acquisition', 'session_type', 'ophys_session_id']]"
   ]
  },
  {
   "cell_type": "markdown",
   "id": "934f44ca",
   "metadata": {
    "papermill": {
     "duration": 0.039298,
     "end_time": "2023-07-19T22:24:07.936245",
     "exception": false,
     "start_time": "2023-07-19T22:24:07.896947",
     "status": "completed"
    },
    "pycharm": {
     "name": "#%% md\n"
    },
    "tags": []
   },
   "source": [
    "Looks like lots of retakes for this one (where `ophys_session_id` = NaN). Also note that there are multiple retakes for some `session_types`. This can happen for mice imaged on Multiscope, because retakes can be triggered by QC failure of any one of the 8 imaging planes in the session. "
   ]
  },
  {
   "cell_type": "markdown",
   "id": "2da74236",
   "metadata": {
    "papermill": {
     "duration": 0.039316,
     "end_time": "2023-07-19T22:24:08.015364",
     "exception": false,
     "start_time": "2023-07-19T22:24:07.976048",
     "status": "completed"
    },
    "pycharm": {
     "name": "#%% md\n"
    },
    "tags": []
   },
   "source": [
    "#### Let's look at how failures and retakes affects the session order in the `ophys_sessions` table for this mouse"
   ]
  },
  {
   "cell_type": "code",
   "execution_count": 29,
   "id": "4619658c",
   "metadata": {
    "execution": {
     "iopub.execute_input": "2023-07-19T22:24:08.101057Z",
     "iopub.status.busy": "2023-07-19T22:24:08.100096Z",
     "iopub.status.idle": "2023-07-19T22:24:08.112656Z",
     "shell.execute_reply": "2023-07-19T22:24:08.111957Z"
    },
    "papermill": {
     "duration": 0.057295,
     "end_time": "2023-07-19T22:24:08.114439",
     "exception": false,
     "start_time": "2023-07-19T22:24:08.057144",
     "status": "completed"
    },
    "pycharm": {
     "name": "#%%\n"
    },
    "tags": []
   },
   "outputs": [
    {
     "data": {
      "text/html": [
       "<div>\n",
       "<style scoped>\n",
       "    .dataframe tbody tr th:only-of-type {\n",
       "        vertical-align: middle;\n",
       "    }\n",
       "\n",
       "    .dataframe tbody tr th {\n",
       "        vertical-align: top;\n",
       "    }\n",
       "\n",
       "    .dataframe thead th {\n",
       "        text-align: right;\n",
       "    }\n",
       "</style>\n",
       "<table border=\"1\" class=\"dataframe\">\n",
       "  <thead>\n",
       "    <tr style=\"text-align: right;\">\n",
       "      <th></th>\n",
       "      <th>date_of_acquisition</th>\n",
       "      <th>session_type</th>\n",
       "    </tr>\n",
       "    <tr>\n",
       "      <th>ophys_session_id</th>\n",
       "      <th></th>\n",
       "      <th></th>\n",
       "    </tr>\n",
       "  </thead>\n",
       "  <tbody>\n",
       "  </tbody>\n",
       "</table>\n",
       "</div>"
      ],
      "text/plain": [
       "Empty DataFrame\n",
       "Columns: [date_of_acquisition, session_type]\n",
       "Index: []"
      ]
     },
     "execution_count": 29,
     "metadata": {},
     "output_type": "execute_result"
    }
   ],
   "source": [
    "ophys_sessions[ophys_sessions.mouse_id==mouse_id][['date_of_acquisition', 'session_type']]"
   ]
  },
  {
   "cell_type": "markdown",
   "id": "b4a5f2a9",
   "metadata": {
    "papermill": {
     "duration": 0.043951,
     "end_time": "2023-07-19T22:24:08.198220",
     "exception": false,
     "start_time": "2023-07-19T22:24:08.154269",
     "status": "completed"
    },
    "pycharm": {
     "name": "#%% md\n"
    },
    "tags": []
   },
   "source": [
    "It looks like the first set of sessions are taken in sequential order, but after that there are a few retakes of some of the `session_types`. This suggests that some of the imaging planes for this Multiscope mouse passed QC on the first time around, but retakes were needed to get passing ophys data for other imaging planes. "
   ]
  },
  {
   "cell_type": "markdown",
   "id": "ba86289b",
   "metadata": {
    "papermill": {
     "duration": 0.041049,
     "end_time": "2023-07-19T22:24:08.279878",
     "exception": false,
     "start_time": "2023-07-19T22:24:08.238829",
     "status": "completed"
    },
    "pycharm": {
     "name": "#%% md\n"
    },
    "tags": []
   },
   "source": [
    "#### But they're not always out of order, sometimes things go perfectly! "
   ]
  },
  {
   "cell_type": "code",
   "execution_count": 30,
   "id": "66199121",
   "metadata": {
    "execution": {
     "iopub.execute_input": "2023-07-19T22:24:08.359488Z",
     "iopub.status.busy": "2023-07-19T22:24:08.358417Z",
     "iopub.status.idle": "2023-07-19T22:24:08.370421Z",
     "shell.execute_reply": "2023-07-19T22:24:08.369685Z"
    },
    "papermill": {
     "duration": 0.054397,
     "end_time": "2023-07-19T22:24:08.372271",
     "exception": false,
     "start_time": "2023-07-19T22:24:08.317874",
     "status": "completed"
    },
    "pycharm": {
     "name": "#%%\n"
    },
    "tags": []
   },
   "outputs": [
    {
     "data": {
      "text/html": [
       "<div>\n",
       "<style scoped>\n",
       "    .dataframe tbody tr th:only-of-type {\n",
       "        vertical-align: middle;\n",
       "    }\n",
       "\n",
       "    .dataframe tbody tr th {\n",
       "        vertical-align: top;\n",
       "    }\n",
       "\n",
       "    .dataframe thead th {\n",
       "        text-align: right;\n",
       "    }\n",
       "</style>\n",
       "<table border=\"1\" class=\"dataframe\">\n",
       "  <thead>\n",
       "    <tr style=\"text-align: right;\">\n",
       "      <th></th>\n",
       "      <th>date_of_acquisition</th>\n",
       "      <th>session_type</th>\n",
       "      <th>ophys_session_id</th>\n",
       "    </tr>\n",
       "  </thead>\n",
       "  <tbody>\n",
       "  </tbody>\n",
       "</table>\n",
       "</div>"
      ],
      "text/plain": [
       "Empty DataFrame\n",
       "Columns: [date_of_acquisition, session_type, ophys_session_id]\n",
       "Index: []"
      ]
     },
     "execution_count": 30,
     "metadata": {},
     "output_type": "execute_result"
    }
   ],
   "source": [
    "# pick a mouse\n",
    "mouse_id = 438912\n",
    "# get behavior sessions that took place on the microscope\n",
    "mouse_ophys_sessions = behavior_sessions[(behavior_sessions.mouse_id==mouse_id)&\n",
    "                                         (behavior_sessions.equipment_name=='MESO.1')]\n",
    "# only look at the relevant columns\n",
    "mouse_ophys_sessions.sort_values(by='date_of_acquisition')[['date_of_acquisition', 'session_type', 'ophys_session_id']]"
   ]
  },
  {
   "cell_type": "markdown",
   "id": "98aeda1d",
   "metadata": {
    "papermill": {
     "duration": 0.0383,
     "end_time": "2023-07-19T22:24:08.449455",
     "exception": false,
     "start_time": "2023-07-19T22:24:08.411155",
     "status": "completed"
    },
    "pycharm": {
     "name": "#%% md\n"
    },
    "tags": []
   },
   "source": [
    "Well, nearly perfectly, OPHYS_5 came after OPHYS_6"
   ]
  },
  {
   "cell_type": "markdown",
   "id": "b1e021a9",
   "metadata": {
    "papermill": {
     "duration": 0.039091,
     "end_time": "2023-07-19T22:24:08.526785",
     "exception": false,
     "start_time": "2023-07-19T22:24:08.487694",
     "status": "completed"
    },
    "pycharm": {
     "name": "#%% md\n"
    },
    "tags": []
   },
   "source": [
    "### Prior Exposures"
   ]
  },
  {
   "cell_type": "markdown",
   "id": "2f9fee8c",
   "metadata": {
    "papermill": {
     "duration": 0.039965,
     "end_time": "2023-07-19T22:24:08.606574",
     "exception": false,
     "start_time": "2023-07-19T22:24:08.566609",
     "status": "completed"
    },
    "pycharm": {
     "name": "#%% md\n"
    },
    "tags": []
   },
   "source": [
    "Because the session types can be out of order due to retakes, and because of some of our other experimental design decisions, it is helpful to know some information about the history of the mouse relative to a given session. To serve this purpose, we have included metadata describing the `prior_exposures_to_image_set`, `prior_exposures_to_session_type`, and `prior_exposures_to_omissions` as columns in all the manifest data tables. "
   ]
  },
  {
   "cell_type": "markdown",
   "id": "f6693273",
   "metadata": {
    "papermill": {
     "duration": 0.041366,
     "end_time": "2023-07-19T22:24:08.693907",
     "exception": false,
     "start_time": "2023-07-19T22:24:08.652541",
     "status": "completed"
    },
    "pycharm": {
     "name": "#%% md\n"
    },
    "tags": []
   },
   "source": [
    "### `prior_exposures_to_image_set`"
   ]
  },
  {
   "cell_type": "markdown",
   "id": "3a7a18d4",
   "metadata": {
    "papermill": {
     "duration": 0.040432,
     "end_time": "2023-07-19T22:24:08.772970",
     "exception": false,
     "start_time": "2023-07-19T22:24:08.732538",
     "status": "completed"
    },
    "pycharm": {
     "name": "#%% md\n"
    },
    "tags": []
   },
   "source": [
    "A key aspect of our experimental design is the inclusion of novel stimuli during the imaging phase of the experiment. However, after the very first session with these novel images, they actually start to become more and more familiar. So, it is important to know whether a given session is truly the first exposure to that image set. In addition, it is useful to know whether subsequent sessions are the second, third, fourth, etc. exposure to that image set, for analysis of changes in activity with experience following novelty. The `prior_exposures_to_image_set` column describes the number of sessions that a given mouse has observed the stimulus set that was shown in that session, prior to the start of that session. For the very first exposure to a novel image set, the value of `prior_exposures_to_image_set` will be 0. "
   ]
  },
  {
   "cell_type": "markdown",
   "id": "39a69f2e",
   "metadata": {
    "papermill": {
     "duration": 0.03949,
     "end_time": "2023-07-19T22:24:08.853306",
     "exception": false,
     "start_time": "2023-07-19T22:24:08.813816",
     "status": "completed"
    },
    "pycharm": {
     "name": "#%% md\n"
    },
    "tags": []
   },
   "source": [
    "#### Let's look at the `prior_exposures_to_image_set` column for one of the mice we looked at above, first in the `behavior_session_table`, which contains all sessions the mouse experienced, then in the `ophys_session_table`, which only includes sessions that passed ophys QC"
   ]
  },
  {
   "cell_type": "code",
   "execution_count": 31,
   "id": "1e4cda23",
   "metadata": {
    "execution": {
     "iopub.execute_input": "2023-07-19T22:24:08.934588Z",
     "iopub.status.busy": "2023-07-19T22:24:08.934033Z",
     "iopub.status.idle": "2023-07-19T22:24:08.948778Z",
     "shell.execute_reply": "2023-07-19T22:24:08.947813Z"
    },
    "papermill": {
     "duration": 0.05813,
     "end_time": "2023-07-19T22:24:08.950717",
     "exception": false,
     "start_time": "2023-07-19T22:24:08.892587",
     "status": "completed"
    },
    "pycharm": {
     "name": "#%%\n"
    },
    "tags": []
   },
   "outputs": [
    {
     "data": {
      "text/html": [
       "<div>\n",
       "<style scoped>\n",
       "    .dataframe tbody tr th:only-of-type {\n",
       "        vertical-align: middle;\n",
       "    }\n",
       "\n",
       "    .dataframe tbody tr th {\n",
       "        vertical-align: top;\n",
       "    }\n",
       "\n",
       "    .dataframe thead th {\n",
       "        text-align: right;\n",
       "    }\n",
       "</style>\n",
       "<table border=\"1\" class=\"dataframe\">\n",
       "  <thead>\n",
       "    <tr style=\"text-align: right;\">\n",
       "      <th></th>\n",
       "      <th>session_type</th>\n",
       "      <th>date_of_acquisition</th>\n",
       "      <th>ophys_session_id</th>\n",
       "      <th>prior_exposures_to_image_set</th>\n",
       "    </tr>\n",
       "  </thead>\n",
       "  <tbody>\n",
       "  </tbody>\n",
       "</table>\n",
       "</div>"
      ],
      "text/plain": [
       "Empty DataFrame\n",
       "Columns: [session_type, date_of_acquisition, ophys_session_id, prior_exposures_to_image_set]\n",
       "Index: []"
      ]
     },
     "execution_count": 31,
     "metadata": {},
     "output_type": "execute_result"
    }
   ],
   "source": [
    "mouse_id = 445002 \n",
    "# get behavior sessions that took place on the microscope\n",
    "mouse_ophys_sessions = behavior_sessions[(behavior_sessions.mouse_id==mouse_id)&\n",
    "                                         (behavior_sessions.equipment_name=='CAM2P.3')]\n",
    "# only look at the relevant columns\n",
    "mouse_ophys_sessions.sort_values(by='date_of_acquisition')[['session_type', 'date_of_acquisition', 'ophys_session_id', 'prior_exposures_to_image_set']]"
   ]
  },
  {
   "cell_type": "markdown",
   "id": "53d7c797",
   "metadata": {
    "papermill": {
     "duration": 0.038716,
     "end_time": "2023-07-19T22:24:09.028472",
     "exception": false,
     "start_time": "2023-07-19T22:24:08.989756",
     "status": "completed"
    },
    "pycharm": {
     "name": "#%% md\n"
    },
    "tags": []
   },
   "source": [
    "Note that `prior_exposures_to_image_set` is a high number for `OPHYS_0-3`, because that is the image set the mouse was trained on, and that it re-sets to zero for the first exposure to the novel image set in `OPHYS_4`"
   ]
  },
  {
   "cell_type": "markdown",
   "id": "e0fbaddf",
   "metadata": {
    "papermill": {
     "duration": 0.043229,
     "end_time": "2023-07-19T22:24:09.112132",
     "exception": false,
     "start_time": "2023-07-19T22:24:09.068903",
     "status": "completed"
    },
    "pycharm": {
     "name": "#%% md\n"
    },
    "tags": []
   },
   "source": [
    "#### Let's double check the full training history for this mouse"
   ]
  },
  {
   "cell_type": "code",
   "execution_count": 32,
   "id": "c60129c2",
   "metadata": {
    "execution": {
     "iopub.execute_input": "2023-07-19T22:24:09.196993Z",
     "iopub.status.busy": "2023-07-19T22:24:09.195919Z",
     "iopub.status.idle": "2023-07-19T22:24:09.209872Z",
     "shell.execute_reply": "2023-07-19T22:24:09.208987Z"
    },
    "papermill": {
     "duration": 0.057715,
     "end_time": "2023-07-19T22:24:09.211978",
     "exception": false,
     "start_time": "2023-07-19T22:24:09.154263",
     "status": "completed"
    },
    "pycharm": {
     "name": "#%%\n"
    },
    "tags": []
   },
   "outputs": [
    {
     "data": {
      "text/html": [
       "<div>\n",
       "<style scoped>\n",
       "    .dataframe tbody tr th:only-of-type {\n",
       "        vertical-align: middle;\n",
       "    }\n",
       "\n",
       "    .dataframe tbody tr th {\n",
       "        vertical-align: top;\n",
       "    }\n",
       "\n",
       "    .dataframe thead th {\n",
       "        text-align: right;\n",
       "    }\n",
       "</style>\n",
       "<table border=\"1\" class=\"dataframe\">\n",
       "  <thead>\n",
       "    <tr style=\"text-align: right;\">\n",
       "      <th></th>\n",
       "      <th>session_type</th>\n",
       "      <th>date_of_acquisition</th>\n",
       "      <th>ophys_session_id</th>\n",
       "      <th>prior_exposures_to_image_set</th>\n",
       "    </tr>\n",
       "  </thead>\n",
       "  <tbody>\n",
       "  </tbody>\n",
       "</table>\n",
       "</div>"
      ],
      "text/plain": [
       "Empty DataFrame\n",
       "Columns: [session_type, date_of_acquisition, ophys_session_id, prior_exposures_to_image_set]\n",
       "Index: []"
      ]
     },
     "execution_count": 32,
     "metadata": {},
     "output_type": "execute_result"
    }
   ],
   "source": [
    "mouse_id = 445002 \n",
    "# get behavior sessions that took place on the microscope\n",
    "mouse_ophys_sessions = behavior_sessions[(behavior_sessions.mouse_id==mouse_id)]\n",
    "# only look at the relevant columns\n",
    "mouse_ophys_sessions.sort_values(by='date_of_acquisition')[['session_type', 'date_of_acquisition', 'ophys_session_id', 'prior_exposures_to_image_set']]"
   ]
  },
  {
   "cell_type": "markdown",
   "id": "5edd5efc",
   "metadata": {
    "papermill": {
     "duration": 0.039227,
     "end_time": "2023-07-19T22:24:09.290856",
     "exception": false,
     "start_time": "2023-07-19T22:24:09.251629",
     "status": "completed"
    },
    "pycharm": {
     "name": "#%% md\n"
    },
    "tags": []
   },
   "source": [
    "Knowing the prior exposures number is especially important for the `ophys_session_table`, because the sessions that failed ophys QC are not visible there, so it is difficult to know whether a given session was the first of its type or a retake. "
   ]
  },
  {
   "cell_type": "code",
   "execution_count": 33,
   "id": "9027e240",
   "metadata": {
    "execution": {
     "iopub.execute_input": "2023-07-19T22:24:09.369521Z",
     "iopub.status.busy": "2023-07-19T22:24:09.368663Z",
     "iopub.status.idle": "2023-07-19T22:24:09.381760Z",
     "shell.execute_reply": "2023-07-19T22:24:09.380816Z"
    },
    "papermill": {
     "duration": 0.054939,
     "end_time": "2023-07-19T22:24:09.383701",
     "exception": false,
     "start_time": "2023-07-19T22:24:09.328762",
     "status": "completed"
    },
    "pycharm": {
     "name": "#%%\n"
    },
    "tags": []
   },
   "outputs": [
    {
     "data": {
      "text/html": [
       "<div>\n",
       "<style scoped>\n",
       "    .dataframe tbody tr th:only-of-type {\n",
       "        vertical-align: middle;\n",
       "    }\n",
       "\n",
       "    .dataframe tbody tr th {\n",
       "        vertical-align: top;\n",
       "    }\n",
       "\n",
       "    .dataframe thead th {\n",
       "        text-align: right;\n",
       "    }\n",
       "</style>\n",
       "<table border=\"1\" class=\"dataframe\">\n",
       "  <thead>\n",
       "    <tr style=\"text-align: right;\">\n",
       "      <th></th>\n",
       "      <th>date_of_acquisition</th>\n",
       "      <th>session_type</th>\n",
       "      <th>prior_exposures_to_image_set</th>\n",
       "    </tr>\n",
       "    <tr>\n",
       "      <th>ophys_session_id</th>\n",
       "      <th></th>\n",
       "      <th></th>\n",
       "      <th></th>\n",
       "    </tr>\n",
       "  </thead>\n",
       "  <tbody>\n",
       "  </tbody>\n",
       "</table>\n",
       "</div>"
      ],
      "text/plain": [
       "Empty DataFrame\n",
       "Columns: [date_of_acquisition, session_type, prior_exposures_to_image_set]\n",
       "Index: []"
      ]
     },
     "execution_count": 33,
     "metadata": {},
     "output_type": "execute_result"
    }
   ],
   "source": [
    "ophys_sessions[ophys_sessions.mouse_id==mouse_id][['date_of_acquisition', 'session_type', 'prior_exposures_to_image_set']]"
   ]
  },
  {
   "cell_type": "markdown",
   "id": "0ec46b22",
   "metadata": {
    "papermill": {
     "duration": 0.037629,
     "end_time": "2023-07-19T22:24:09.459395",
     "exception": false,
     "start_time": "2023-07-19T22:24:09.421766",
     "status": "completed"
    },
    "pycharm": {
     "name": "#%% md\n"
    },
    "tags": []
   },
   "source": [
    "### `prior_exposures_to_session_type`"
   ]
  },
  {
   "cell_type": "markdown",
   "id": "6be4c69a",
   "metadata": {
    "papermill": {
     "duration": 0.038728,
     "end_time": "2023-07-19T22:24:09.536538",
     "exception": false,
     "start_time": "2023-07-19T22:24:09.497810",
     "status": "completed"
    },
    "pycharm": {
     "name": "#%% md\n"
    },
    "tags": []
   },
   "source": [
    "In some cases, you may want to know how many times a given `session_type` was seen by the mouse. For example, to know whether a passive viewing session was the very first time the mouse experienced a passive session with no lick spout, as there may be a difference in expectation of reward between the first passive session and a later one where the mouse has become accustomed to sometimes having the lick spout removed. "
   ]
  },
  {
   "cell_type": "markdown",
   "id": "eae9b601",
   "metadata": {
    "papermill": {
     "duration": 0.038122,
     "end_time": "2023-07-19T22:24:09.613468",
     "exception": false,
     "start_time": "2023-07-19T22:24:09.575346",
     "status": "completed"
    },
    "pycharm": {
     "name": "#%% md\n"
    },
    "tags": []
   },
   "source": [
    "#### compare `prior_exposures_to_session_type` in the `behavior_session_table` with the `ophys_session_table` for a given mouse"
   ]
  },
  {
   "cell_type": "code",
   "execution_count": 34,
   "id": "a0ab006e",
   "metadata": {
    "execution": {
     "iopub.execute_input": "2023-07-19T22:24:09.694230Z",
     "iopub.status.busy": "2023-07-19T22:24:09.691579Z",
     "iopub.status.idle": "2023-07-19T22:24:09.706542Z",
     "shell.execute_reply": "2023-07-19T22:24:09.705759Z"
    },
    "papermill": {
     "duration": 0.057671,
     "end_time": "2023-07-19T22:24:09.708466",
     "exception": false,
     "start_time": "2023-07-19T22:24:09.650795",
     "status": "completed"
    },
    "pycharm": {
     "name": "#%%\n"
    },
    "tags": []
   },
   "outputs": [
    {
     "data": {
      "text/html": [
       "<div>\n",
       "<style scoped>\n",
       "    .dataframe tbody tr th:only-of-type {\n",
       "        vertical-align: middle;\n",
       "    }\n",
       "\n",
       "    .dataframe tbody tr th {\n",
       "        vertical-align: top;\n",
       "    }\n",
       "\n",
       "    .dataframe thead th {\n",
       "        text-align: right;\n",
       "    }\n",
       "</style>\n",
       "<table border=\"1\" class=\"dataframe\">\n",
       "  <thead>\n",
       "    <tr style=\"text-align: right;\">\n",
       "      <th></th>\n",
       "      <th>date_of_acquisition</th>\n",
       "      <th>session_type</th>\n",
       "      <th>ophys_session_id</th>\n",
       "      <th>prior_exposures_to_session_type</th>\n",
       "    </tr>\n",
       "  </thead>\n",
       "  <tbody>\n",
       "  </tbody>\n",
       "</table>\n",
       "</div>"
      ],
      "text/plain": [
       "Empty DataFrame\n",
       "Columns: [date_of_acquisition, session_type, ophys_session_id, prior_exposures_to_session_type]\n",
       "Index: []"
      ]
     },
     "execution_count": 34,
     "metadata": {},
     "output_type": "execute_result"
    }
   ],
   "source": [
    "# pick a mouse\n",
    "mouse_id = 456915\n",
    "# get behavior sessions that took place on the microscope\n",
    "mouse_ophys_sessions = behavior_sessions[(behavior_sessions.mouse_id==mouse_id)&\n",
    "                                         (behavior_sessions.equipment_name=='MESO.1')]\n",
    "# only look at the relevant columns\n",
    "mouse_ophys_sessions.sort_values(by='date_of_acquisition')[['date_of_acquisition', 'session_type', 'ophys_session_id', 'prior_exposures_to_session_type']]"
   ]
  },
  {
   "cell_type": "code",
   "execution_count": 35,
   "id": "8e318120",
   "metadata": {
    "execution": {
     "iopub.execute_input": "2023-07-19T22:24:09.804488Z",
     "iopub.status.busy": "2023-07-19T22:24:09.803674Z",
     "iopub.status.idle": "2023-07-19T22:24:09.815470Z",
     "shell.execute_reply": "2023-07-19T22:24:09.814790Z"
    },
    "papermill": {
     "duration": 0.06404,
     "end_time": "2023-07-19T22:24:09.817331",
     "exception": false,
     "start_time": "2023-07-19T22:24:09.753291",
     "status": "completed"
    },
    "pycharm": {
     "name": "#%%\n"
    },
    "tags": []
   },
   "outputs": [
    {
     "data": {
      "text/html": [
       "<div>\n",
       "<style scoped>\n",
       "    .dataframe tbody tr th:only-of-type {\n",
       "        vertical-align: middle;\n",
       "    }\n",
       "\n",
       "    .dataframe tbody tr th {\n",
       "        vertical-align: top;\n",
       "    }\n",
       "\n",
       "    .dataframe thead th {\n",
       "        text-align: right;\n",
       "    }\n",
       "</style>\n",
       "<table border=\"1\" class=\"dataframe\">\n",
       "  <thead>\n",
       "    <tr style=\"text-align: right;\">\n",
       "      <th></th>\n",
       "      <th>date_of_acquisition</th>\n",
       "      <th>session_type</th>\n",
       "      <th>prior_exposures_to_session_type</th>\n",
       "    </tr>\n",
       "    <tr>\n",
       "      <th>ophys_session_id</th>\n",
       "      <th></th>\n",
       "      <th></th>\n",
       "      <th></th>\n",
       "    </tr>\n",
       "  </thead>\n",
       "  <tbody>\n",
       "  </tbody>\n",
       "</table>\n",
       "</div>"
      ],
      "text/plain": [
       "Empty DataFrame\n",
       "Columns: [date_of_acquisition, session_type, prior_exposures_to_session_type]\n",
       "Index: []"
      ]
     },
     "execution_count": 35,
     "metadata": {},
     "output_type": "execute_result"
    }
   ],
   "source": [
    "ophys_sessions[ophys_sessions.mouse_id==mouse_id][['date_of_acquisition', 'session_type', 'prior_exposures_to_session_type']]"
   ]
  },
  {
   "cell_type": "markdown",
   "id": "39290a73",
   "metadata": {
    "papermill": {
     "duration": 0.039604,
     "end_time": "2023-07-19T22:24:09.896631",
     "exception": false,
     "start_time": "2023-07-19T22:24:09.857027",
     "status": "completed"
    },
    "pycharm": {
     "name": "#%% md\n"
    },
    "tags": []
   },
   "source": [
    "Without the `prior_exposures_to_session_type` column in the `ophys_session_table`, it would be difficult to know that `OPHYS_2_images_A_passive` was actually the second time (1 prior exposure) that the mouse had experienced a passive vieweing session"
   ]
  },
  {
   "cell_type": "markdown",
   "id": "9c0f83d1",
   "metadata": {
    "papermill": {
     "duration": 0.039377,
     "end_time": "2023-07-19T22:24:09.975756",
     "exception": false,
     "start_time": "2023-07-19T22:24:09.936379",
     "status": "completed"
    },
    "pycharm": {
     "name": "#%% md\n"
    },
    "tags": []
   },
   "source": [
    "### `prior_exposures_to_omissions`"
   ]
  },
  {
   "cell_type": "markdown",
   "id": "7d825055",
   "metadata": {
    "papermill": {
     "duration": 0.038455,
     "end_time": "2023-07-19T22:24:10.052718",
     "exception": false,
     "start_time": "2023-07-19T22:24:10.014263",
     "status": "completed"
    },
    "pycharm": {
     "name": "#%% md\n"
    },
    "tags": []
   },
   "source": [
    "Another unique aspect of the experimental design of this dataset is the inclusion of stimulus omissions in the 2-photon portion of the experiment. During behavioral training, mice experience a highly regular cadence of himage presentations, with 250ms per stimulus presentation, with a 500ms gray screen in between. During imaging sessions, stimulus presentations (other than the change and pre-change images) are omitted with a 5% probability, resulting in some inter stimlus intervals appearing as an extended gray screen period. This allows exploration of potential effects of temporal expectation on neural activity. "
   ]
  },
  {
   "cell_type": "markdown",
   "id": "fd3599f6",
   "metadata": {
    "papermill": {
     "duration": 0.038779,
     "end_time": "2023-07-19T22:24:10.132086",
     "exception": false,
     "start_time": "2023-07-19T22:24:10.093307",
     "status": "completed"
    },
    "pycharm": {
     "name": "#%% md\n"
    },
    "tags": []
   },
   "source": [
    "<div>\n",
    "<img src=\"https://allensdk.readthedocs.io/en/latest/_static/visual_behavior_2p/omissions.png\" width=\"900\"/>\n",
    "</div>"
   ]
  },
  {
   "cell_type": "markdown",
   "id": "62088262",
   "metadata": {
    "papermill": {
     "duration": 0.039129,
     "end_time": "2023-07-19T22:24:10.210517",
     "exception": false,
     "start_time": "2023-07-19T22:24:10.171388",
     "status": "completed"
    },
    "pycharm": {
     "name": "#%% md\n"
    },
    "tags": []
   },
   "source": [
    "#### Let's look at `prior_exposures_to_omissions` in a few mice"
   ]
  },
  {
   "cell_type": "code",
   "execution_count": 36,
   "id": "9d31c411",
   "metadata": {
    "execution": {
     "iopub.execute_input": "2023-07-19T22:24:10.291833Z",
     "iopub.status.busy": "2023-07-19T22:24:10.291046Z",
     "iopub.status.idle": "2023-07-19T22:24:10.299355Z",
     "shell.execute_reply": "2023-07-19T22:24:10.298554Z"
    },
    "papermill": {
     "duration": 0.050998,
     "end_time": "2023-07-19T22:24:10.301219",
     "exception": false,
     "start_time": "2023-07-19T22:24:10.250221",
     "status": "completed"
    },
    "pycharm": {
     "name": "#%%\n"
    },
    "tags": []
   },
   "outputs": [
    {
     "data": {
      "text/plain": [
       "array(['412036', '412366', '423606', '425493', '425496', '429952',\n",
       "       '431252', '436662', '442709', '447663', '448900', '453913',\n",
       "       '456564', '462468', '467953', '468866', '476970', '479458',\n",
       "       '480753', '489066', '492395', '523927', '524274', '533161',\n",
       "       '533162', '538219', '539518', '544261', '549976'], dtype=object)"
      ]
     },
     "execution_count": 36,
     "metadata": {},
     "output_type": "execute_result"
    }
   ],
   "source": [
    "np.sort(behavior_sessions[behavior_sessions.equipment_name=='CAM2P.4'].mouse_id.unique())"
   ]
  },
  {
   "cell_type": "code",
   "execution_count": 37,
   "id": "79764ccc",
   "metadata": {
    "execution": {
     "iopub.execute_input": "2023-07-19T22:24:10.382735Z",
     "iopub.status.busy": "2023-07-19T22:24:10.381682Z",
     "iopub.status.idle": "2023-07-19T22:24:10.395105Z",
     "shell.execute_reply": "2023-07-19T22:24:10.393984Z"
    },
    "papermill": {
     "duration": 0.056383,
     "end_time": "2023-07-19T22:24:10.396936",
     "exception": false,
     "start_time": "2023-07-19T22:24:10.340553",
     "status": "completed"
    },
    "pycharm": {
     "name": "#%%\n"
    },
    "tags": []
   },
   "outputs": [
    {
     "data": {
      "text/html": [
       "<div>\n",
       "<style scoped>\n",
       "    .dataframe tbody tr th:only-of-type {\n",
       "        vertical-align: middle;\n",
       "    }\n",
       "\n",
       "    .dataframe tbody tr th {\n",
       "        vertical-align: top;\n",
       "    }\n",
       "\n",
       "    .dataframe thead th {\n",
       "        text-align: right;\n",
       "    }\n",
       "</style>\n",
       "<table border=\"1\" class=\"dataframe\">\n",
       "  <thead>\n",
       "    <tr style=\"text-align: right;\">\n",
       "      <th></th>\n",
       "      <th>date_of_acquisition</th>\n",
       "      <th>session_type</th>\n",
       "      <th>ophys_session_id</th>\n",
       "      <th>equipment_name</th>\n",
       "      <th>prior_exposures_to_omissions</th>\n",
       "    </tr>\n",
       "  </thead>\n",
       "  <tbody>\n",
       "  </tbody>\n",
       "</table>\n",
       "</div>"
      ],
      "text/plain": [
       "Empty DataFrame\n",
       "Columns: [date_of_acquisition, session_type, ophys_session_id, equipment_name, prior_exposures_to_omissions]\n",
       "Index: []"
      ]
     },
     "execution_count": 37,
     "metadata": {},
     "output_type": "execute_result"
    }
   ],
   "source": [
    "# pick a mouse\n",
    "mouse_id = 436662\n",
    "# get behavior sessions that took place on the microscope\n",
    "mouse_ophys_sessions = behavior_sessions[(behavior_sessions.mouse_id==mouse_id)&\n",
    "                                        (behavior_sessions.equipment_name=='CAM2P.4')]\n",
    "# only look at the relevant columns\n",
    "mouse_ophys_sessions.sort_values(by='date_of_acquisition')[['date_of_acquisition', 'session_type', 'ophys_session_id', 'equipment_name',  'prior_exposures_to_omissions']]"
   ]
  },
  {
   "cell_type": "markdown",
   "id": "e99daa09",
   "metadata": {
    "papermill": {
     "duration": 0.03891,
     "end_time": "2023-07-19T22:24:10.475635",
     "exception": false,
     "start_time": "2023-07-19T22:24:10.436725",
     "status": "completed"
    },
    "pycharm": {
     "name": "#%% md\n"
    },
    "tags": []
   },
   "source": [
    "In this case (and in most cases), omissions do not occur until the first true imaging session on the 2-photon rig, `OPHYS_1`, i.e. they are not included in habituation sessions. However, in a small number of mice from the beginning of our data collection process, omissions did occur in habituation sessions (but never during training). This is something to be careful of if you are looking at something like the change in omission related activity with experience. "
   ]
  },
  {
   "cell_type": "markdown",
   "id": "77c1cab6",
   "metadata": {
    "papermill": {
     "duration": 0.038512,
     "end_time": "2023-07-19T22:24:10.552890",
     "exception": false,
     "start_time": "2023-07-19T22:24:10.514378",
     "status": "completed"
    },
    "pycharm": {
     "name": "#%% md\n"
    },
    "tags": []
   },
   "source": [
    "Here is a mouse that saw omissions during habituation sessions. Also note that the first two habituation sessions took place on different microscopes (this is extremely rare, every effort is made to image a given mouse on the same 2-photon rig during its entire lifetime). "
   ]
  },
  {
   "cell_type": "code",
   "execution_count": 38,
   "id": "6e8ca8f0",
   "metadata": {
    "execution": {
     "iopub.execute_input": "2023-07-19T22:24:10.633372Z",
     "iopub.status.busy": "2023-07-19T22:24:10.632656Z",
     "iopub.status.idle": "2023-07-19T22:24:10.644828Z",
     "shell.execute_reply": "2023-07-19T22:24:10.644137Z"
    },
    "papermill": {
     "duration": 0.054271,
     "end_time": "2023-07-19T22:24:10.646705",
     "exception": false,
     "start_time": "2023-07-19T22:24:10.592434",
     "status": "completed"
    },
    "pycharm": {
     "name": "#%%\n"
    },
    "tags": []
   },
   "outputs": [
    {
     "data": {
      "text/html": [
       "<div>\n",
       "<style scoped>\n",
       "    .dataframe tbody tr th:only-of-type {\n",
       "        vertical-align: middle;\n",
       "    }\n",
       "\n",
       "    .dataframe tbody tr th {\n",
       "        vertical-align: top;\n",
       "    }\n",
       "\n",
       "    .dataframe thead th {\n",
       "        text-align: right;\n",
       "    }\n",
       "</style>\n",
       "<table border=\"1\" class=\"dataframe\">\n",
       "  <thead>\n",
       "    <tr style=\"text-align: right;\">\n",
       "      <th></th>\n",
       "      <th>date_of_acquisition</th>\n",
       "      <th>session_type</th>\n",
       "      <th>ophys_session_id</th>\n",
       "      <th>equipment_name</th>\n",
       "      <th>prior_exposures_to_omissions</th>\n",
       "    </tr>\n",
       "  </thead>\n",
       "  <tbody>\n",
       "  </tbody>\n",
       "</table>\n",
       "</div>"
      ],
      "text/plain": [
       "Empty DataFrame\n",
       "Columns: [date_of_acquisition, session_type, ophys_session_id, equipment_name, prior_exposures_to_omissions]\n",
       "Index: []"
      ]
     },
     "execution_count": 38,
     "metadata": {},
     "output_type": "execute_result"
    }
   ],
   "source": [
    "# pick a mouse\n",
    "mouse_id = 423606\n",
    "# get behavior sessions - include training as well\n",
    "mouse_ophys_sessions = behavior_sessions[(behavior_sessions.mouse_id==mouse_id)]\n",
    "# only look at the relevant columns\n",
    "mouse_ophys_sessions.sort_values(by='date_of_acquisition')[['date_of_acquisition', 'session_type', 'ophys_session_id', 'equipment_name',  'prior_exposures_to_omissions']]"
   ]
  },
  {
   "cell_type": "markdown",
   "id": "408ba8d1",
   "metadata": {
    "papermill": {
     "duration": 0.039512,
     "end_time": "2023-07-19T22:24:10.725338",
     "exception": false,
     "start_time": "2023-07-19T22:24:10.685826",
     "status": "completed"
    },
    "pycharm": {
     "name": "#%% md\n"
    },
    "tags": []
   },
   "source": [
    "### Here is how to identify all mice that saw omissions during habituation sessions"
   ]
  },
  {
   "cell_type": "code",
   "execution_count": 39,
   "id": "bf60216c",
   "metadata": {
    "execution": {
     "iopub.execute_input": "2023-07-19T22:24:10.806079Z",
     "iopub.status.busy": "2023-07-19T22:24:10.805480Z",
     "iopub.status.idle": "2023-07-19T22:24:10.814667Z",
     "shell.execute_reply": "2023-07-19T22:24:10.813837Z"
    },
    "papermill": {
     "duration": 0.051586,
     "end_time": "2023-07-19T22:24:10.816508",
     "exception": false,
     "start_time": "2023-07-19T22:24:10.764922",
     "status": "completed"
    },
    "pycharm": {
     "name": "#%%\n"
    },
    "tags": []
   },
   "outputs": [
    {
     "name": "stdout",
     "output_type": "stream",
     "text": [
      "14  mice had omissions during habituation\n"
     ]
    }
   ],
   "source": [
    "# get all behavior sessions that were habituation sessions (image set A or B) \n",
    "# where the prior exposures to omissions was not zero\n",
    "habituation_with_omission = behavior_sessions[((behavior_sessions.session_type=='OPHYS_0_images_A_habituation')|\n",
    "                              (behavior_sessions.session_type=='OPHYS_0_images_B_habituation'))&\n",
    "                              (behavior_sessions.prior_exposures_to_omissions>0)]\n",
    "\n",
    "mice_with_omission_during_habituation = habituation_with_omission.mouse_id.unique()\n",
    "\n",
    "print(len(mice_with_omission_during_habituation), ' mice had omissions during habituation')"
   ]
  },
  {
   "cell_type": "code",
   "execution_count": null,
   "id": "b3ba42ef",
   "metadata": {
    "papermill": {
     "duration": 0.039244,
     "end_time": "2023-07-19T22:24:10.894980",
     "exception": false,
     "start_time": "2023-07-19T22:24:10.855736",
     "status": "completed"
    },
    "pycharm": {
     "name": "#%%\n"
    },
    "tags": []
   },
   "outputs": [],
   "source": []
  },
  {
   "cell_type": "markdown",
   "id": "9dd5f5e5",
   "metadata": {
    "papermill": {
     "duration": 0.038723,
     "end_time": "2023-07-19T22:24:10.973412",
     "exception": false,
     "start_time": "2023-07-19T22:24:10.934689",
     "status": "completed"
    },
    "pycharm": {
     "name": "#%% md\n"
    },
    "tags": []
   },
   "source": [
    "## Ophys Experiment Table"
   ]
  },
  {
   "cell_type": "markdown",
   "id": "9ec2a91c",
   "metadata": {
    "papermill": {
     "duration": 0.039181,
     "end_time": "2023-07-19T22:24:11.051216",
     "exception": false,
     "start_time": "2023-07-19T22:24:11.012035",
     "status": "completed"
    },
    "pycharm": {
     "name": "#%% md\n"
    },
    "tags": []
   },
   "source": [
    "The `ophys_experiment_table` contains all ophys data that passes QC, organized according to individual imaging planes in individual sessions, each associated with an `ophys_experiment_id`. The `ophys_experiment_table` contains all the columns in `ophys_session_table`, plus a few additional ones specific to individual imaging planes, namely `imaging_depth` and `targeted_structure`."
   ]
  },
  {
   "cell_type": "code",
   "execution_count": 40,
   "id": "4d0f19fd",
   "metadata": {
    "execution": {
     "iopub.execute_input": "2023-07-19T22:24:11.133634Z",
     "iopub.status.busy": "2023-07-19T22:24:11.133001Z",
     "iopub.status.idle": "2023-07-19T22:24:11.159528Z",
     "shell.execute_reply": "2023-07-19T22:24:11.158674Z"
    },
    "papermill": {
     "duration": 0.069914,
     "end_time": "2023-07-19T22:24:11.161525",
     "exception": false,
     "start_time": "2023-07-19T22:24:11.091611",
     "status": "completed"
    },
    "pycharm": {
     "name": "#%%\n"
    },
    "tags": []
   },
   "outputs": [
    {
     "name": "stdout",
     "output_type": "stream",
     "text": [
      "Total number of ophys experiments: 1941\n",
      "\n"
     ]
    },
    {
     "data": {
      "text/html": [
       "<div>\n",
       "<style scoped>\n",
       "    .dataframe tbody tr th:only-of-type {\n",
       "        vertical-align: middle;\n",
       "    }\n",
       "\n",
       "    .dataframe tbody tr th {\n",
       "        vertical-align: top;\n",
       "    }\n",
       "\n",
       "    .dataframe thead th {\n",
       "        text-align: right;\n",
       "    }\n",
       "</style>\n",
       "<table border=\"1\" class=\"dataframe\">\n",
       "  <thead>\n",
       "    <tr style=\"text-align: right;\">\n",
       "      <th></th>\n",
       "      <th>equipment_name</th>\n",
       "      <th>full_genotype</th>\n",
       "      <th>mouse_id</th>\n",
       "      <th>reporter_line</th>\n",
       "      <th>driver_line</th>\n",
       "      <th>sex</th>\n",
       "      <th>age_in_days</th>\n",
       "      <th>cre_line</th>\n",
       "      <th>indicator</th>\n",
       "      <th>session_number</th>\n",
       "      <th>...</th>\n",
       "      <th>ophys_container_id</th>\n",
       "      <th>project_code</th>\n",
       "      <th>imaging_depth</th>\n",
       "      <th>targeted_structure</th>\n",
       "      <th>date_of_acquisition</th>\n",
       "      <th>session_type</th>\n",
       "      <th>experience_level</th>\n",
       "      <th>passive</th>\n",
       "      <th>image_set</th>\n",
       "      <th>file_id</th>\n",
       "    </tr>\n",
       "    <tr>\n",
       "      <th>ophys_experiment_id</th>\n",
       "      <th></th>\n",
       "      <th></th>\n",
       "      <th></th>\n",
       "      <th></th>\n",
       "      <th></th>\n",
       "      <th></th>\n",
       "      <th></th>\n",
       "      <th></th>\n",
       "      <th></th>\n",
       "      <th></th>\n",
       "      <th></th>\n",
       "      <th></th>\n",
       "      <th></th>\n",
       "      <th></th>\n",
       "      <th></th>\n",
       "      <th></th>\n",
       "      <th></th>\n",
       "      <th></th>\n",
       "      <th></th>\n",
       "      <th></th>\n",
       "      <th></th>\n",
       "    </tr>\n",
       "  </thead>\n",
       "  <tbody>\n",
       "    <tr>\n",
       "      <th>951980486</th>\n",
       "      <td>MESO.1</td>\n",
       "      <td>Sst-IRES-Cre/wt;Ai148(TIT2L-GC6f-ICL-tTA2)/wt</td>\n",
       "      <td>457841</td>\n",
       "      <td>Ai148(TIT2L-GC6f-ICL-tTA2)</td>\n",
       "      <td>[Sst-IRES-Cre]</td>\n",
       "      <td>F</td>\n",
       "      <td>206.0</td>\n",
       "      <td>Sst-IRES-Cre</td>\n",
       "      <td>GCaMP6f</td>\n",
       "      <td>1.0</td>\n",
       "      <td>...</td>\n",
       "      <td>1018028360</td>\n",
       "      <td>VisualBehaviorMultiscope</td>\n",
       "      <td>300</td>\n",
       "      <td>VISl</td>\n",
       "      <td>2019-09-20 09:45:29.897856</td>\n",
       "      <td>OPHYS_1_images_A</td>\n",
       "      <td>Familiar</td>\n",
       "      <td>False</td>\n",
       "      <td>A</td>\n",
       "      <td>1085400869</td>\n",
       "    </tr>\n",
       "    <tr>\n",
       "      <th>951980473</th>\n",
       "      <td>MESO.1</td>\n",
       "      <td>Sst-IRES-Cre/wt;Ai148(TIT2L-GC6f-ICL-tTA2)/wt</td>\n",
       "      <td>457841</td>\n",
       "      <td>Ai148(TIT2L-GC6f-ICL-tTA2)</td>\n",
       "      <td>[Sst-IRES-Cre]</td>\n",
       "      <td>F</td>\n",
       "      <td>206.0</td>\n",
       "      <td>Sst-IRES-Cre</td>\n",
       "      <td>GCaMP6f</td>\n",
       "      <td>1.0</td>\n",
       "      <td>...</td>\n",
       "      <td>1018028345</td>\n",
       "      <td>VisualBehaviorMultiscope</td>\n",
       "      <td>225</td>\n",
       "      <td>VISp</td>\n",
       "      <td>2019-09-20 09:45:29.897856</td>\n",
       "      <td>OPHYS_1_images_A</td>\n",
       "      <td>Familiar</td>\n",
       "      <td>False</td>\n",
       "      <td>A</td>\n",
       "      <td>1085400919</td>\n",
       "    </tr>\n",
       "    <tr>\n",
       "      <th>951980481</th>\n",
       "      <td>MESO.1</td>\n",
       "      <td>Sst-IRES-Cre/wt;Ai148(TIT2L-GC6f-ICL-tTA2)/wt</td>\n",
       "      <td>457841</td>\n",
       "      <td>Ai148(TIT2L-GC6f-ICL-tTA2)</td>\n",
       "      <td>[Sst-IRES-Cre]</td>\n",
       "      <td>F</td>\n",
       "      <td>206.0</td>\n",
       "      <td>Sst-IRES-Cre</td>\n",
       "      <td>GCaMP6f</td>\n",
       "      <td>1.0</td>\n",
       "      <td>...</td>\n",
       "      <td>1018028357</td>\n",
       "      <td>VisualBehaviorMultiscope</td>\n",
       "      <td>225</td>\n",
       "      <td>VISl</td>\n",
       "      <td>2019-09-20 09:45:29.897856</td>\n",
       "      <td>OPHYS_1_images_A</td>\n",
       "      <td>Familiar</td>\n",
       "      <td>False</td>\n",
       "      <td>A</td>\n",
       "      <td>1085400972</td>\n",
       "    </tr>\n",
       "    <tr>\n",
       "      <th>951980471</th>\n",
       "      <td>MESO.1</td>\n",
       "      <td>Sst-IRES-Cre/wt;Ai148(TIT2L-GC6f-ICL-tTA2)/wt</td>\n",
       "      <td>457841</td>\n",
       "      <td>Ai148(TIT2L-GC6f-ICL-tTA2)</td>\n",
       "      <td>[Sst-IRES-Cre]</td>\n",
       "      <td>F</td>\n",
       "      <td>206.0</td>\n",
       "      <td>Sst-IRES-Cre</td>\n",
       "      <td>GCaMP6f</td>\n",
       "      <td>1.0</td>\n",
       "      <td>...</td>\n",
       "      <td>1018028342</td>\n",
       "      <td>VisualBehaviorMultiscope</td>\n",
       "      <td>150</td>\n",
       "      <td>VISp</td>\n",
       "      <td>2019-09-20 09:45:29.897856</td>\n",
       "      <td>OPHYS_1_images_A</td>\n",
       "      <td>Familiar</td>\n",
       "      <td>False</td>\n",
       "      <td>A</td>\n",
       "      <td>1085394308</td>\n",
       "    </tr>\n",
       "    <tr>\n",
       "      <th>951980475</th>\n",
       "      <td>MESO.1</td>\n",
       "      <td>Sst-IRES-Cre/wt;Ai148(TIT2L-GC6f-ICL-tTA2)/wt</td>\n",
       "      <td>457841</td>\n",
       "      <td>Ai148(TIT2L-GC6f-ICL-tTA2)</td>\n",
       "      <td>[Sst-IRES-Cre]</td>\n",
       "      <td>F</td>\n",
       "      <td>206.0</td>\n",
       "      <td>Sst-IRES-Cre</td>\n",
       "      <td>GCaMP6f</td>\n",
       "      <td>1.0</td>\n",
       "      <td>...</td>\n",
       "      <td>1018028339</td>\n",
       "      <td>VisualBehaviorMultiscope</td>\n",
       "      <td>75</td>\n",
       "      <td>VISp</td>\n",
       "      <td>2019-09-20 09:45:29.897856</td>\n",
       "      <td>OPHYS_1_images_A</td>\n",
       "      <td>Familiar</td>\n",
       "      <td>False</td>\n",
       "      <td>A</td>\n",
       "      <td>1085400920</td>\n",
       "    </tr>\n",
       "  </tbody>\n",
       "</table>\n",
       "<p>5 rows × 25 columns</p>\n",
       "</div>"
      ],
      "text/plain": [
       "                    equipment_name  \\\n",
       "ophys_experiment_id                  \n",
       "951980486                   MESO.1   \n",
       "951980473                   MESO.1   \n",
       "951980481                   MESO.1   \n",
       "951980471                   MESO.1   \n",
       "951980475                   MESO.1   \n",
       "\n",
       "                                                     full_genotype mouse_id  \\\n",
       "ophys_experiment_id                                                           \n",
       "951980486            Sst-IRES-Cre/wt;Ai148(TIT2L-GC6f-ICL-tTA2)/wt   457841   \n",
       "951980473            Sst-IRES-Cre/wt;Ai148(TIT2L-GC6f-ICL-tTA2)/wt   457841   \n",
       "951980481            Sst-IRES-Cre/wt;Ai148(TIT2L-GC6f-ICL-tTA2)/wt   457841   \n",
       "951980471            Sst-IRES-Cre/wt;Ai148(TIT2L-GC6f-ICL-tTA2)/wt   457841   \n",
       "951980475            Sst-IRES-Cre/wt;Ai148(TIT2L-GC6f-ICL-tTA2)/wt   457841   \n",
       "\n",
       "                                  reporter_line     driver_line sex  \\\n",
       "ophys_experiment_id                                                   \n",
       "951980486            Ai148(TIT2L-GC6f-ICL-tTA2)  [Sst-IRES-Cre]   F   \n",
       "951980473            Ai148(TIT2L-GC6f-ICL-tTA2)  [Sst-IRES-Cre]   F   \n",
       "951980481            Ai148(TIT2L-GC6f-ICL-tTA2)  [Sst-IRES-Cre]   F   \n",
       "951980471            Ai148(TIT2L-GC6f-ICL-tTA2)  [Sst-IRES-Cre]   F   \n",
       "951980475            Ai148(TIT2L-GC6f-ICL-tTA2)  [Sst-IRES-Cre]   F   \n",
       "\n",
       "                     age_in_days      cre_line indicator  session_number  ...  \\\n",
       "ophys_experiment_id                                                       ...   \n",
       "951980486                  206.0  Sst-IRES-Cre   GCaMP6f             1.0  ...   \n",
       "951980473                  206.0  Sst-IRES-Cre   GCaMP6f             1.0  ...   \n",
       "951980481                  206.0  Sst-IRES-Cre   GCaMP6f             1.0  ...   \n",
       "951980471                  206.0  Sst-IRES-Cre   GCaMP6f             1.0  ...   \n",
       "951980475                  206.0  Sst-IRES-Cre   GCaMP6f             1.0  ...   \n",
       "\n",
       "                     ophys_container_id              project_code  \\\n",
       "ophys_experiment_id                                                 \n",
       "951980486                    1018028360  VisualBehaviorMultiscope   \n",
       "951980473                    1018028345  VisualBehaviorMultiscope   \n",
       "951980481                    1018028357  VisualBehaviorMultiscope   \n",
       "951980471                    1018028342  VisualBehaviorMultiscope   \n",
       "951980475                    1018028339  VisualBehaviorMultiscope   \n",
       "\n",
       "                     imaging_depth  targeted_structure  \\\n",
       "ophys_experiment_id                                      \n",
       "951980486                      300                VISl   \n",
       "951980473                      225                VISp   \n",
       "951980481                      225                VISl   \n",
       "951980471                      150                VISp   \n",
       "951980475                       75                VISp   \n",
       "\n",
       "                           date_of_acquisition      session_type  \\\n",
       "ophys_experiment_id                                                \n",
       "951980486           2019-09-20 09:45:29.897856  OPHYS_1_images_A   \n",
       "951980473           2019-09-20 09:45:29.897856  OPHYS_1_images_A   \n",
       "951980481           2019-09-20 09:45:29.897856  OPHYS_1_images_A   \n",
       "951980471           2019-09-20 09:45:29.897856  OPHYS_1_images_A   \n",
       "951980475           2019-09-20 09:45:29.897856  OPHYS_1_images_A   \n",
       "\n",
       "                    experience_level  passive image_set     file_id  \n",
       "ophys_experiment_id                                                  \n",
       "951980486                   Familiar    False         A  1085400869  \n",
       "951980473                   Familiar    False         A  1085400919  \n",
       "951980481                   Familiar    False         A  1085400972  \n",
       "951980471                   Familiar    False         A  1085394308  \n",
       "951980475                   Familiar    False         A  1085400920  \n",
       "\n",
       "[5 rows x 25 columns]"
      ]
     },
     "execution_count": 40,
     "metadata": {},
     "output_type": "execute_result"
    }
   ],
   "source": [
    "ophys_experiments = cache.get_ophys_experiment_table()\n",
    "\n",
    "print(f\"Total number of ophys experiments: {len(ophys_experiments)}\\n\")\n",
    "\n",
    "ophys_experiments.head()"
   ]
  },
  {
   "cell_type": "markdown",
   "id": "90e742ca",
   "metadata": {
    "papermill": {
     "duration": 0.039681,
     "end_time": "2023-07-19T22:24:11.241713",
     "exception": false,
     "start_time": "2023-07-19T22:24:11.202032",
     "status": "completed"
    },
    "pycharm": {
     "name": "#%% md\n"
    },
    "tags": []
   },
   "source": [
    "#### Compare the columns of `ophys_sessions_table` with `ophys_experiments_table`"
   ]
  },
  {
   "cell_type": "code",
   "execution_count": 41,
   "id": "2935b6a8",
   "metadata": {
    "execution": {
     "iopub.execute_input": "2023-07-19T22:24:11.323249Z",
     "iopub.status.busy": "2023-07-19T22:24:11.322496Z",
     "iopub.status.idle": "2023-07-19T22:24:11.328586Z",
     "shell.execute_reply": "2023-07-19T22:24:11.327902Z"
    },
    "papermill": {
     "duration": 0.048811,
     "end_time": "2023-07-19T22:24:11.330368",
     "exception": false,
     "start_time": "2023-07-19T22:24:11.281557",
     "status": "completed"
    },
    "pycharm": {
     "name": "#%%\n"
    },
    "tags": []
   },
   "outputs": [
    {
     "data": {
      "text/plain": [
       "Index(['equipment_name', 'full_genotype', 'mouse_id', 'reporter_line',\n",
       "       'driver_line', 'sex', 'age_in_days', 'cre_line', 'indicator',\n",
       "       'session_number', 'prior_exposures_to_session_type',\n",
       "       'prior_exposures_to_image_set', 'prior_exposures_to_omissions',\n",
       "       'behavior_session_id', 'ophys_experiment_id', 'ophys_container_id',\n",
       "       'project_code', 'date_of_acquisition', 'session_type'],\n",
       "      dtype='object')"
      ]
     },
     "execution_count": 41,
     "metadata": {},
     "output_type": "execute_result"
    }
   ],
   "source": [
    "ophys_sessions.columns"
   ]
  },
  {
   "cell_type": "code",
   "execution_count": 42,
   "id": "a5fb01f7",
   "metadata": {
    "execution": {
     "iopub.execute_input": "2023-07-19T22:24:11.411723Z",
     "iopub.status.busy": "2023-07-19T22:24:11.411168Z",
     "iopub.status.idle": "2023-07-19T22:24:11.416920Z",
     "shell.execute_reply": "2023-07-19T22:24:11.416276Z"
    },
    "papermill": {
     "duration": 0.048273,
     "end_time": "2023-07-19T22:24:11.418681",
     "exception": false,
     "start_time": "2023-07-19T22:24:11.370408",
     "status": "completed"
    },
    "pycharm": {
     "name": "#%%\n"
    },
    "tags": []
   },
   "outputs": [
    {
     "data": {
      "text/plain": [
       "Index(['equipment_name', 'full_genotype', 'mouse_id', 'reporter_line',\n",
       "       'driver_line', 'sex', 'age_in_days', 'cre_line', 'indicator',\n",
       "       'session_number', 'prior_exposures_to_session_type',\n",
       "       'prior_exposures_to_image_set', 'prior_exposures_to_omissions',\n",
       "       'ophys_session_id', 'behavior_session_id', 'ophys_container_id',\n",
       "       'project_code', 'imaging_depth', 'targeted_structure',\n",
       "       'date_of_acquisition', 'session_type', 'experience_level', 'passive',\n",
       "       'image_set', 'file_id'],\n",
       "      dtype='object')"
      ]
     },
     "execution_count": 42,
     "metadata": {},
     "output_type": "execute_result"
    }
   ],
   "source": [
    "ophys_experiments.columns"
   ]
  },
  {
   "cell_type": "markdown",
   "id": "731e2ab8",
   "metadata": {
    "papermill": {
     "duration": 0.040169,
     "end_time": "2023-07-19T22:24:11.499164",
     "exception": false,
     "start_time": "2023-07-19T22:24:11.458995",
     "status": "completed"
    },
    "pycharm": {
     "name": "#%% md\n"
    },
    "tags": []
   },
   "source": [
    "#### What `imaging_depths` and `targeted_structures` are available? Are they different depending on `project_code`?"
   ]
  },
  {
   "cell_type": "code",
   "execution_count": 43,
   "id": "31028431",
   "metadata": {
    "execution": {
     "iopub.execute_input": "2023-07-19T22:24:11.581327Z",
     "iopub.status.busy": "2023-07-19T22:24:11.580596Z",
     "iopub.status.idle": "2023-07-19T22:24:11.594887Z",
     "shell.execute_reply": "2023-07-19T22:24:11.593965Z"
    },
    "papermill": {
     "duration": 0.057748,
     "end_time": "2023-07-19T22:24:11.596713",
     "exception": false,
     "start_time": "2023-07-19T22:24:11.538965",
     "status": "completed"
    },
    "pycharm": {
     "name": "#%%\n"
    },
    "tags": []
   },
   "outputs": [
    {
     "name": "stdout",
     "output_type": "stream",
     "text": [
      "\n",
      "imaging_depths available for VisualBehaviorMultiscope include:  [300 225 150  75  85 169 263  73 359 271  79 275 267 363 361 167 365 367\n",
      " 269 177 283 175 371 373  81 165 369 171  77  83 377 279 259 274 146 152\n",
      " 227  71 144 158 276 142  69 160 217  87  51 140 219 215 156 162 211 221\n",
      " 148 166 223 231  93 282 174 213 320 306 229 298 218 232 285 179 270 272\n",
      " 251 273 145 154 302 308 278 312 383 161 381 265 261 230 290 228 284  61\n",
      " 233 292 304  65 289 235 310 375 280 281 295 197  91 187 277 355 183 181\n",
      " 291 185  95 173  67 321 149 287 220 322 226 222 315 294 147 286 132 316\n",
      " 296 350 348 379 340 345]\n",
      "\n",
      "targeted_structures available for VisualBehaviorMultiscope include:  ['VISl' 'VISp']\n",
      "\n",
      "\n",
      "\n",
      "imaging_depths available for VisualBehaviorTask1B include:  [275 175 375]\n",
      "\n",
      "targeted_structures available for VisualBehaviorTask1B include:  ['VISp']\n",
      "\n",
      "\n",
      "\n",
      "imaging_depths available for VisualBehavior include:  [175 375 290 275]\n",
      "\n",
      "targeted_structures available for VisualBehavior include:  ['VISp']\n",
      "\n",
      "\n",
      "\n",
      "imaging_depths available for VisualBehaviorMultiscope4areasx2d include:  [179 187 163 263 265 167 267 271 169 171 183 255 181 277 175 273 275 269\n",
      " 185 193 283 189 165 177 173 159 279 281 240 150 260 160 205 155 210 145\n",
      " 270 125 295 170 289 191 300 182 257 174 285 245 195 250 297 251 249 156\n",
      " 190 176 305 244 310 200 107 123 157 227 153 103 111 139 225 161 109 110\n",
      " 137 221 101 219 135 121 151 105 261 213 217 211 143 133 117 241 223 147\n",
      " 287 308 178 180 286 290 268 280 141 253 201 254 235 128 230 132 224 222\n",
      " 233 130 229 124 236 134]\n",
      "\n",
      "targeted_structures available for VisualBehaviorMultiscope4areasx2d include:  ['VISal' 'VISp' 'VISl' 'VISam']\n",
      "\n",
      "\n"
     ]
    }
   ],
   "source": [
    "# loop through project codes and print the available imaging_depths and targeted_structures\n",
    "for project_code in ophys_experiments.project_code.unique():\n",
    "    \n",
    "    project_experiments = ophys_experiments[ophys_experiments.project_code==project_code]\n",
    "    print('\\nimaging_depths available for', project_code, 'include: ', project_experiments.imaging_depth.unique())\n",
    "    print('\\ntargeted_structures available for', project_code, 'include: ', project_experiments.targeted_structure.unique())\n",
    "    print('\\n')"
   ]
  },
  {
   "cell_type": "markdown",
   "id": "b875e804",
   "metadata": {
    "papermill": {
     "duration": 0.039994,
     "end_time": "2023-07-19T22:24:11.678245",
     "exception": false,
     "start_time": "2023-07-19T22:24:11.638251",
     "status": "completed"
    },
    "pycharm": {
     "name": "#%% md\n"
    },
    "tags": []
   },
   "source": [
    "### `ophys_experiment_table` is useful for identifying `ophys_containers` to analyze"
   ]
  },
  {
   "cell_type": "markdown",
   "id": "f9211fc5",
   "metadata": {
    "papermill": {
     "duration": 0.038788,
     "end_time": "2023-07-19T22:24:11.757429",
     "exception": false,
     "start_time": "2023-07-19T22:24:11.718641",
     "status": "completed"
    },
    "pycharm": {
     "name": "#%% md\n"
    },
    "tags": []
   },
   "source": [
    "Compare the `ophys_container_id` column of the `ophys_experiment_table` with the `ophys_session_table`. In `ophys_session_table`, each `ophys_session_id` is associated with one or more imaging planes (`ophys_experiment_ids`), while in the `ophys_experiment_table`, you can evaluate each of those imaging planes indepdently. This is particularly helpful for identifying `ophys_containers` that you want to analyze - the set of all imaging sessions for a given imaging plane. "
   ]
  },
  {
   "cell_type": "markdown",
   "id": "cc59f9dc",
   "metadata": {
    "papermill": {
     "duration": 0.039051,
     "end_time": "2023-07-19T22:24:11.836750",
     "exception": false,
     "start_time": "2023-07-19T22:24:11.797699",
     "status": "completed"
    },
    "pycharm": {
     "name": "#%% md\n"
    },
    "tags": []
   },
   "source": [
    "The `ophys_experient_table` has all the same columns as `ophys_session_table`, just reorgnized by `ophys_experiment_id`"
   ]
  },
  {
   "cell_type": "code",
   "execution_count": 44,
   "id": "54f91b4f",
   "metadata": {
    "execution": {
     "iopub.execute_input": "2023-07-19T22:24:11.920489Z",
     "iopub.status.busy": "2023-07-19T22:24:11.919171Z",
     "iopub.status.idle": "2023-07-19T22:24:11.924699Z",
     "shell.execute_reply": "2023-07-19T22:24:11.923958Z"
    },
    "papermill": {
     "duration": 0.050166,
     "end_time": "2023-07-19T22:24:11.927108",
     "exception": false,
     "start_time": "2023-07-19T22:24:11.876942",
     "status": "completed"
    },
    "pycharm": {
     "name": "#%%\n"
    },
    "tags": []
   },
   "outputs": [
    {
     "name": "stdout",
     "output_type": "stream",
     "text": [
      "Index(['equipment_name', 'full_genotype', 'mouse_id', 'reporter_line',\n",
      "       'driver_line', 'sex', 'age_in_days', 'cre_line', 'indicator',\n",
      "       'session_number', 'prior_exposures_to_session_type',\n",
      "       'prior_exposures_to_image_set', 'prior_exposures_to_omissions',\n",
      "       'ophys_session_id', 'behavior_session_id', 'ophys_container_id',\n",
      "       'project_code', 'imaging_depth', 'targeted_structure',\n",
      "       'date_of_acquisition', 'session_type', 'experience_level', 'passive',\n",
      "       'image_set', 'file_id'],\n",
      "      dtype='object')\n"
     ]
    }
   ],
   "source": [
    "print(ophys_experiments.columns)"
   ]
  },
  {
   "cell_type": "markdown",
   "id": "d6c74213",
   "metadata": {
    "papermill": {
     "duration": 0.04123,
     "end_time": "2023-07-19T22:24:12.009175",
     "exception": false,
     "start_time": "2023-07-19T22:24:11.967945",
     "status": "completed"
    },
    "pycharm": {
     "name": "#%% md\n"
    },
    "tags": []
   },
   "source": [
    "This means that each `ophys_experiment_id` has a single `ophys_container_id`."
   ]
  },
  {
   "cell_type": "markdown",
   "id": "b8fe48de",
   "metadata": {
    "papermill": {
     "duration": 0.040652,
     "end_time": "2023-07-19T22:24:12.089693",
     "exception": false,
     "start_time": "2023-07-19T22:24:12.049041",
     "status": "completed"
    },
    "pycharm": {
     "name": "#%% md\n"
    },
    "tags": []
   },
   "source": [
    "#### Let's pick an `ophys_container_id` and see what `ophys_experiments` it contains? "
   ]
  },
  {
   "cell_type": "code",
   "execution_count": 45,
   "id": "5c519ede",
   "metadata": {
    "execution": {
     "iopub.execute_input": "2023-07-19T22:24:12.173768Z",
     "iopub.status.busy": "2023-07-19T22:24:12.172818Z",
     "iopub.status.idle": "2023-07-19T22:24:12.178078Z",
     "shell.execute_reply": "2023-07-19T22:24:12.177184Z"
    },
    "papermill": {
     "duration": 0.049142,
     "end_time": "2023-07-19T22:24:12.180010",
     "exception": false,
     "start_time": "2023-07-19T22:24:12.130868",
     "status": "completed"
    },
    "pycharm": {
     "name": "#%%\n"
    },
    "tags": []
   },
   "outputs": [],
   "source": [
    "ophys_container_id = ophys_experiments.ophys_container_id.unique()[50]"
   ]
  },
  {
   "cell_type": "code",
   "execution_count": 46,
   "id": "1c04f4fd",
   "metadata": {
    "execution": {
     "iopub.execute_input": "2023-07-19T22:24:12.264577Z",
     "iopub.status.busy": "2023-07-19T22:24:12.263820Z",
     "iopub.status.idle": "2023-07-19T22:24:12.293308Z",
     "shell.execute_reply": "2023-07-19T22:24:12.292270Z"
    },
    "papermill": {
     "duration": 0.074892,
     "end_time": "2023-07-19T22:24:12.295868",
     "exception": false,
     "start_time": "2023-07-19T22:24:12.220976",
     "status": "completed"
    },
    "pycharm": {
     "name": "#%%\n"
    },
    "tags": []
   },
   "outputs": [
    {
     "data": {
      "text/html": [
       "<div>\n",
       "<style scoped>\n",
       "    .dataframe tbody tr th:only-of-type {\n",
       "        vertical-align: middle;\n",
       "    }\n",
       "\n",
       "    .dataframe tbody tr th {\n",
       "        vertical-align: top;\n",
       "    }\n",
       "\n",
       "    .dataframe thead th {\n",
       "        text-align: right;\n",
       "    }\n",
       "</style>\n",
       "<table border=\"1\" class=\"dataframe\">\n",
       "  <thead>\n",
       "    <tr style=\"text-align: right;\">\n",
       "      <th></th>\n",
       "      <th>equipment_name</th>\n",
       "      <th>full_genotype</th>\n",
       "      <th>mouse_id</th>\n",
       "      <th>reporter_line</th>\n",
       "      <th>driver_line</th>\n",
       "      <th>sex</th>\n",
       "      <th>age_in_days</th>\n",
       "      <th>cre_line</th>\n",
       "      <th>indicator</th>\n",
       "      <th>session_number</th>\n",
       "      <th>...</th>\n",
       "      <th>ophys_container_id</th>\n",
       "      <th>project_code</th>\n",
       "      <th>imaging_depth</th>\n",
       "      <th>targeted_structure</th>\n",
       "      <th>date_of_acquisition</th>\n",
       "      <th>session_type</th>\n",
       "      <th>experience_level</th>\n",
       "      <th>passive</th>\n",
       "      <th>image_set</th>\n",
       "      <th>file_id</th>\n",
       "    </tr>\n",
       "    <tr>\n",
       "      <th>ophys_experiment_id</th>\n",
       "      <th></th>\n",
       "      <th></th>\n",
       "      <th></th>\n",
       "      <th></th>\n",
       "      <th></th>\n",
       "      <th></th>\n",
       "      <th></th>\n",
       "      <th></th>\n",
       "      <th></th>\n",
       "      <th></th>\n",
       "      <th></th>\n",
       "      <th></th>\n",
       "      <th></th>\n",
       "      <th></th>\n",
       "      <th></th>\n",
       "      <th></th>\n",
       "      <th></th>\n",
       "      <th></th>\n",
       "      <th></th>\n",
       "      <th></th>\n",
       "      <th></th>\n",
       "    </tr>\n",
       "  </thead>\n",
       "  <tbody>\n",
       "    <tr>\n",
       "      <th>975608416</th>\n",
       "      <td>MESO.1</td>\n",
       "      <td>Slc17a7-IRES2-Cre/wt;Camk2a-tTA/wt;Ai93(TITL-G...</td>\n",
       "      <td>484408</td>\n",
       "      <td>Ai93(TITL-GCaMP6f)</td>\n",
       "      <td>[Slc17a7-IRES2-Cre, Camk2a-tTA]</td>\n",
       "      <td>M</td>\n",
       "      <td>116.0</td>\n",
       "      <td>Slc17a7-IRES2-Cre</td>\n",
       "      <td>GCaMP6f</td>\n",
       "      <td>1.0</td>\n",
       "      <td>...</td>\n",
       "      <td>1018027762</td>\n",
       "      <td>VisualBehaviorMultiscope4areasx2d</td>\n",
       "      <td>269</td>\n",
       "      <td>VISal</td>\n",
       "      <td>2019-11-01 08:45:55.294593</td>\n",
       "      <td>OPHYS_1_images_G</td>\n",
       "      <td>Familiar</td>\n",
       "      <td>False</td>\n",
       "      <td>G</td>\n",
       "      <td>1120141220</td>\n",
       "    </tr>\n",
       "    <tr>\n",
       "      <th>976300321</th>\n",
       "      <td>MESO.1</td>\n",
       "      <td>Slc17a7-IRES2-Cre/wt;Camk2a-tTA/wt;Ai93(TITL-G...</td>\n",
       "      <td>484408</td>\n",
       "      <td>Ai93(TITL-GCaMP6f)</td>\n",
       "      <td>[Slc17a7-IRES2-Cre, Camk2a-tTA]</td>\n",
       "      <td>M</td>\n",
       "      <td>119.0</td>\n",
       "      <td>Slc17a7-IRES2-Cre</td>\n",
       "      <td>GCaMP6f</td>\n",
       "      <td>2.0</td>\n",
       "      <td>...</td>\n",
       "      <td>1018027762</td>\n",
       "      <td>VisualBehaviorMultiscope4areasx2d</td>\n",
       "      <td>271</td>\n",
       "      <td>VISal</td>\n",
       "      <td>2019-11-04 08:32:36.235453</td>\n",
       "      <td>OPHYS_2_images_G_passive</td>\n",
       "      <td>Familiar</td>\n",
       "      <td>True</td>\n",
       "      <td>G</td>\n",
       "      <td>1120140964</td>\n",
       "    </tr>\n",
       "    <tr>\n",
       "      <th>977220491</th>\n",
       "      <td>MESO.1</td>\n",
       "      <td>Slc17a7-IRES2-Cre/wt;Camk2a-tTA/wt;Ai93(TITL-G...</td>\n",
       "      <td>484408</td>\n",
       "      <td>Ai93(TITL-GCaMP6f)</td>\n",
       "      <td>[Slc17a7-IRES2-Cre, Camk2a-tTA]</td>\n",
       "      <td>M</td>\n",
       "      <td>120.0</td>\n",
       "      <td>Slc17a7-IRES2-Cre</td>\n",
       "      <td>GCaMP6f</td>\n",
       "      <td>3.0</td>\n",
       "      <td>...</td>\n",
       "      <td>1018027762</td>\n",
       "      <td>VisualBehaviorMultiscope4areasx2d</td>\n",
       "      <td>279</td>\n",
       "      <td>VISal</td>\n",
       "      <td>2019-11-05 13:17:13.145749</td>\n",
       "      <td>OPHYS_3_images_G</td>\n",
       "      <td>Familiar</td>\n",
       "      <td>False</td>\n",
       "      <td>G</td>\n",
       "      <td>1120141255</td>\n",
       "    </tr>\n",
       "    <tr>\n",
       "      <th>977975800</th>\n",
       "      <td>MESO.1</td>\n",
       "      <td>Slc17a7-IRES2-Cre/wt;Camk2a-tTA/wt;Ai93(TITL-G...</td>\n",
       "      <td>484408</td>\n",
       "      <td>Ai93(TITL-GCaMP6f)</td>\n",
       "      <td>[Slc17a7-IRES2-Cre, Camk2a-tTA]</td>\n",
       "      <td>M</td>\n",
       "      <td>121.0</td>\n",
       "      <td>Slc17a7-IRES2-Cre</td>\n",
       "      <td>GCaMP6f</td>\n",
       "      <td>4.0</td>\n",
       "      <td>...</td>\n",
       "      <td>1018027762</td>\n",
       "      <td>VisualBehaviorMultiscope4areasx2d</td>\n",
       "      <td>267</td>\n",
       "      <td>VISal</td>\n",
       "      <td>2019-11-06 08:27:13.524215</td>\n",
       "      <td>OPHYS_4_images_H</td>\n",
       "      <td>Novel 1</td>\n",
       "      <td>False</td>\n",
       "      <td>H</td>\n",
       "      <td>1120141293</td>\n",
       "    </tr>\n",
       "    <tr>\n",
       "      <th>978284060</th>\n",
       "      <td>MESO.1</td>\n",
       "      <td>Slc17a7-IRES2-Cre/wt;Camk2a-tTA/wt;Ai93(TITL-G...</td>\n",
       "      <td>484408</td>\n",
       "      <td>Ai93(TITL-GCaMP6f)</td>\n",
       "      <td>[Slc17a7-IRES2-Cre, Camk2a-tTA]</td>\n",
       "      <td>M</td>\n",
       "      <td>122.0</td>\n",
       "      <td>Slc17a7-IRES2-Cre</td>\n",
       "      <td>GCaMP6f</td>\n",
       "      <td>5.0</td>\n",
       "      <td>...</td>\n",
       "      <td>1018027762</td>\n",
       "      <td>VisualBehaviorMultiscope4areasx2d</td>\n",
       "      <td>265</td>\n",
       "      <td>VISal</td>\n",
       "      <td>2019-11-07 10:50:28.679567</td>\n",
       "      <td>OPHYS_5_images_H_passive</td>\n",
       "      <td>Novel &gt;1</td>\n",
       "      <td>True</td>\n",
       "      <td>H</td>\n",
       "      <td>1120141065</td>\n",
       "    </tr>\n",
       "    <tr>\n",
       "      <th>978866906</th>\n",
       "      <td>MESO.1</td>\n",
       "      <td>Slc17a7-IRES2-Cre/wt;Camk2a-tTA/wt;Ai93(TITL-G...</td>\n",
       "      <td>484408</td>\n",
       "      <td>Ai93(TITL-GCaMP6f)</td>\n",
       "      <td>[Slc17a7-IRES2-Cre, Camk2a-tTA]</td>\n",
       "      <td>M</td>\n",
       "      <td>123.0</td>\n",
       "      <td>Slc17a7-IRES2-Cre</td>\n",
       "      <td>GCaMP6f</td>\n",
       "      <td>6.0</td>\n",
       "      <td>...</td>\n",
       "      <td>1018027762</td>\n",
       "      <td>VisualBehaviorMultiscope4areasx2d</td>\n",
       "      <td>273</td>\n",
       "      <td>VISal</td>\n",
       "      <td>2019-11-08 08:16:50.612003</td>\n",
       "      <td>OPHYS_6_images_H</td>\n",
       "      <td>Novel &gt;1</td>\n",
       "      <td>False</td>\n",
       "      <td>H</td>\n",
       "      <td>1120141177</td>\n",
       "    </tr>\n",
       "  </tbody>\n",
       "</table>\n",
       "<p>6 rows × 25 columns</p>\n",
       "</div>"
      ],
      "text/plain": [
       "                    equipment_name  \\\n",
       "ophys_experiment_id                  \n",
       "975608416                   MESO.1   \n",
       "976300321                   MESO.1   \n",
       "977220491                   MESO.1   \n",
       "977975800                   MESO.1   \n",
       "978284060                   MESO.1   \n",
       "978866906                   MESO.1   \n",
       "\n",
       "                                                         full_genotype  \\\n",
       "ophys_experiment_id                                                      \n",
       "975608416            Slc17a7-IRES2-Cre/wt;Camk2a-tTA/wt;Ai93(TITL-G...   \n",
       "976300321            Slc17a7-IRES2-Cre/wt;Camk2a-tTA/wt;Ai93(TITL-G...   \n",
       "977220491            Slc17a7-IRES2-Cre/wt;Camk2a-tTA/wt;Ai93(TITL-G...   \n",
       "977975800            Slc17a7-IRES2-Cre/wt;Camk2a-tTA/wt;Ai93(TITL-G...   \n",
       "978284060            Slc17a7-IRES2-Cre/wt;Camk2a-tTA/wt;Ai93(TITL-G...   \n",
       "978866906            Slc17a7-IRES2-Cre/wt;Camk2a-tTA/wt;Ai93(TITL-G...   \n",
       "\n",
       "                    mouse_id       reporter_line  \\\n",
       "ophys_experiment_id                                \n",
       "975608416             484408  Ai93(TITL-GCaMP6f)   \n",
       "976300321             484408  Ai93(TITL-GCaMP6f)   \n",
       "977220491             484408  Ai93(TITL-GCaMP6f)   \n",
       "977975800             484408  Ai93(TITL-GCaMP6f)   \n",
       "978284060             484408  Ai93(TITL-GCaMP6f)   \n",
       "978866906             484408  Ai93(TITL-GCaMP6f)   \n",
       "\n",
       "                                         driver_line sex  age_in_days  \\\n",
       "ophys_experiment_id                                                     \n",
       "975608416            [Slc17a7-IRES2-Cre, Camk2a-tTA]   M        116.0   \n",
       "976300321            [Slc17a7-IRES2-Cre, Camk2a-tTA]   M        119.0   \n",
       "977220491            [Slc17a7-IRES2-Cre, Camk2a-tTA]   M        120.0   \n",
       "977975800            [Slc17a7-IRES2-Cre, Camk2a-tTA]   M        121.0   \n",
       "978284060            [Slc17a7-IRES2-Cre, Camk2a-tTA]   M        122.0   \n",
       "978866906            [Slc17a7-IRES2-Cre, Camk2a-tTA]   M        123.0   \n",
       "\n",
       "                              cre_line indicator  session_number  ...  \\\n",
       "ophys_experiment_id                                               ...   \n",
       "975608416            Slc17a7-IRES2-Cre   GCaMP6f             1.0  ...   \n",
       "976300321            Slc17a7-IRES2-Cre   GCaMP6f             2.0  ...   \n",
       "977220491            Slc17a7-IRES2-Cre   GCaMP6f             3.0  ...   \n",
       "977975800            Slc17a7-IRES2-Cre   GCaMP6f             4.0  ...   \n",
       "978284060            Slc17a7-IRES2-Cre   GCaMP6f             5.0  ...   \n",
       "978866906            Slc17a7-IRES2-Cre   GCaMP6f             6.0  ...   \n",
       "\n",
       "                     ophys_container_id                       project_code  \\\n",
       "ophys_experiment_id                                                          \n",
       "975608416                    1018027762  VisualBehaviorMultiscope4areasx2d   \n",
       "976300321                    1018027762  VisualBehaviorMultiscope4areasx2d   \n",
       "977220491                    1018027762  VisualBehaviorMultiscope4areasx2d   \n",
       "977975800                    1018027762  VisualBehaviorMultiscope4areasx2d   \n",
       "978284060                    1018027762  VisualBehaviorMultiscope4areasx2d   \n",
       "978866906                    1018027762  VisualBehaviorMultiscope4areasx2d   \n",
       "\n",
       "                     imaging_depth  targeted_structure  \\\n",
       "ophys_experiment_id                                      \n",
       "975608416                      269               VISal   \n",
       "976300321                      271               VISal   \n",
       "977220491                      279               VISal   \n",
       "977975800                      267               VISal   \n",
       "978284060                      265               VISal   \n",
       "978866906                      273               VISal   \n",
       "\n",
       "                           date_of_acquisition              session_type  \\\n",
       "ophys_experiment_id                                                        \n",
       "975608416           2019-11-01 08:45:55.294593          OPHYS_1_images_G   \n",
       "976300321           2019-11-04 08:32:36.235453  OPHYS_2_images_G_passive   \n",
       "977220491           2019-11-05 13:17:13.145749          OPHYS_3_images_G   \n",
       "977975800           2019-11-06 08:27:13.524215          OPHYS_4_images_H   \n",
       "978284060           2019-11-07 10:50:28.679567  OPHYS_5_images_H_passive   \n",
       "978866906           2019-11-08 08:16:50.612003          OPHYS_6_images_H   \n",
       "\n",
       "                    experience_level  passive image_set     file_id  \n",
       "ophys_experiment_id                                                  \n",
       "975608416                   Familiar    False         G  1120141220  \n",
       "976300321                   Familiar     True         G  1120140964  \n",
       "977220491                   Familiar    False         G  1120141255  \n",
       "977975800                    Novel 1    False         H  1120141293  \n",
       "978284060                   Novel >1     True         H  1120141065  \n",
       "978866906                   Novel >1    False         H  1120141177  \n",
       "\n",
       "[6 rows x 25 columns]"
      ]
     },
     "execution_count": 46,
     "metadata": {},
     "output_type": "execute_result"
    }
   ],
   "source": [
    "container_experiments = ophys_experiments[ophys_experiments.ophys_container_id==ophys_container_id]\n",
    "container_experiments"
   ]
  },
  {
   "cell_type": "markdown",
   "id": "08c3f8d5",
   "metadata": {
    "papermill": {
     "duration": 0.040777,
     "end_time": "2023-07-19T22:24:12.377511",
     "exception": false,
     "start_time": "2023-07-19T22:24:12.336734",
     "status": "completed"
    },
    "pycharm": {
     "name": "#%% md\n"
    },
    "tags": []
   },
   "source": [
    "Thats 7 different recording sessions for this single imaging plane. Remember that one `ophys_container_id` is linked to one imaging plane, recorded in multiple sessions"
   ]
  },
  {
   "cell_type": "markdown",
   "id": "a9dc1c8f",
   "metadata": {
    "papermill": {
     "duration": 0.041424,
     "end_time": "2023-07-19T22:24:12.460580",
     "exception": false,
     "start_time": "2023-07-19T22:24:12.419156",
     "status": "completed"
    },
    "pycharm": {
     "name": "#%% md\n"
    },
    "tags": []
   },
   "source": [
    "#### What are the session types for this container? "
   ]
  },
  {
   "cell_type": "code",
   "execution_count": 47,
   "id": "eea0fa3d",
   "metadata": {
    "execution": {
     "iopub.execute_input": "2023-07-19T22:24:12.544290Z",
     "iopub.status.busy": "2023-07-19T22:24:12.543559Z",
     "iopub.status.idle": "2023-07-19T22:24:12.550530Z",
     "shell.execute_reply": "2023-07-19T22:24:12.549709Z"
    },
    "papermill": {
     "duration": 0.050579,
     "end_time": "2023-07-19T22:24:12.552397",
     "exception": false,
     "start_time": "2023-07-19T22:24:12.501818",
     "status": "completed"
    },
    "pycharm": {
     "name": "#%%\n"
    },
    "tags": []
   },
   "outputs": [
    {
     "data": {
      "text/plain": [
       "array(['OPHYS_1_images_G', 'OPHYS_2_images_G_passive', 'OPHYS_3_images_G',\n",
       "       'OPHYS_4_images_H', 'OPHYS_5_images_H_passive', 'OPHYS_6_images_H'],\n",
       "      dtype=object)"
      ]
     },
     "execution_count": 47,
     "metadata": {},
     "output_type": "execute_result"
    }
   ],
   "source": [
    "container_experiments.session_type.unique()"
   ]
  },
  {
   "cell_type": "markdown",
   "id": "f765cf8d",
   "metadata": {
    "papermill": {
     "duration": 0.040768,
     "end_time": "2023-07-19T22:24:12.634746",
     "exception": false,
     "start_time": "2023-07-19T22:24:12.593978",
     "status": "completed"
    },
    "pycharm": {
     "name": "#%% md\n"
    },
    "tags": []
   },
   "source": [
    "### Reminder about structure & terminology of the dataset"
   ]
  },
  {
   "cell_type": "markdown",
   "id": "2354be59",
   "metadata": {
    "papermill": {
     "duration": 0.041001,
     "end_time": "2023-07-19T22:24:12.716670",
     "exception": false,
     "start_time": "2023-07-19T22:24:12.675669",
     "status": "completed"
    },
    "pycharm": {
     "name": "#%% md\n"
    },
    "tags": []
   },
   "source": [
    "<div>\n",
    "<img src=\"https://allensdk.readthedocs.io/en/latest/_static/visual_behavior_2p/data_structure.png\" width=\"900\"/>\n",
    "</div>"
   ]
  },
  {
   "cell_type": "markdown",
   "id": "768b2dd4",
   "metadata": {
    "papermill": {
     "duration": 0.040421,
     "end_time": "2023-07-19T22:24:12.798354",
     "exception": false,
     "start_time": "2023-07-19T22:24:12.757933",
     "status": "completed"
    },
    "pycharm": {
     "name": "#%% md\n"
    },
    "tags": []
   },
   "source": [
    "### Reminder about cre lines"
   ]
  },
  {
   "cell_type": "markdown",
   "id": "3985b896",
   "metadata": {
    "papermill": {
     "duration": 0.040589,
     "end_time": "2023-07-19T22:24:12.879152",
     "exception": false,
     "start_time": "2023-07-19T22:24:12.838563",
     "status": "completed"
    },
    "pycharm": {
     "name": "#%% md\n"
    },
    "tags": []
   },
   "source": [
    "<div>\n",
    "<img src=\"https://allensdk.readthedocs.io/en/latest/_static/visual_behavior_2p/cre_lines2.png\" width=\"900\"/>\n",
    "</div>"
   ]
  },
  {
   "cell_type": "markdown",
   "id": "54d1a1d3",
   "metadata": {
    "papermill": {
     "duration": 0.041538,
     "end_time": "2023-07-19T22:24:12.961738",
     "exception": false,
     "start_time": "2023-07-19T22:24:12.920200",
     "status": "completed"
    },
    "pycharm": {
     "name": "#%% md\n"
    },
    "tags": []
   },
   "source": [
    "### Reminder about dataset variants aka project_codes"
   ]
  },
  {
   "cell_type": "markdown",
   "id": "d982faa5",
   "metadata": {
    "papermill": {
     "duration": 0.041301,
     "end_time": "2023-07-19T22:24:13.044774",
     "exception": false,
     "start_time": "2023-07-19T22:24:13.003473",
     "status": "completed"
    },
    "pycharm": {
     "name": "#%% md\n"
    },
    "tags": []
   },
   "source": [
    "<div>\n",
    "<img src=\"https://allensdk.readthedocs.io/en/latest/_static/visual_behavior_2p/datasets.png\" width=\"900\"/>\n",
    "</div>"
   ]
  },
  {
   "cell_type": "markdown",
   "id": "757f68db",
   "metadata": {
    "papermill": {
     "duration": 0.041902,
     "end_time": "2023-07-19T22:24:13.128230",
     "exception": false,
     "start_time": "2023-07-19T22:24:13.086328",
     "status": "completed"
    },
    "pycharm": {
     "name": "#%% md\n"
    },
    "tags": []
   },
   "source": [
    "### Reminder about session types"
   ]
  },
  {
   "cell_type": "markdown",
   "id": "2853c8c8",
   "metadata": {
    "papermill": {
     "duration": 0.041783,
     "end_time": "2023-07-19T22:24:13.211860",
     "exception": false,
     "start_time": "2023-07-19T22:24:13.170077",
     "status": "completed"
    },
    "pycharm": {
     "name": "#%% md\n"
    },
    "tags": []
   },
   "source": [
    "<div>\n",
    "<img src=\"https://allensdk.readthedocs.io/en/latest/_static/visual_behavior_2p/automated_training.png\" width=\"900\"/>\n",
    "</div>"
   ]
  },
  {
   "cell_type": "markdown",
   "id": "ec343aef",
   "metadata": {
    "papermill": {
     "duration": 0.041644,
     "end_time": "2023-07-19T22:24:13.294197",
     "exception": false,
     "start_time": "2023-07-19T22:24:13.252553",
     "status": "completed"
    },
    "pycharm": {
     "name": "#%% md\n"
    },
    "tags": []
   },
   "source": [
    "<div>\n",
    "<img src=\"https://allensdk.readthedocs.io/en/latest/_static/visual_behavior_2p/experiment_design.png\" width=\"900\"/>\n",
    "</div>"
   ]
  },
  {
   "cell_type": "code",
   "execution_count": null,
   "id": "52140d97",
   "metadata": {
    "papermill": {
     "duration": 0.039895,
     "end_time": "2023-07-19T22:24:13.374648",
     "exception": false,
     "start_time": "2023-07-19T22:24:13.334753",
     "status": "completed"
    },
    "pycharm": {
     "name": "#%%\n"
    },
    "tags": []
   },
   "outputs": [],
   "source": []
  },
  {
   "cell_type": "markdown",
   "id": "12c7f170",
   "metadata": {
    "papermill": {
     "duration": 0.040202,
     "end_time": "2023-07-19T22:24:13.455213",
     "exception": false,
     "start_time": "2023-07-19T22:24:13.415011",
     "status": "completed"
    },
    "pycharm": {
     "name": "#%% md\n"
    },
    "tags": []
   },
   "source": [
    "## Identifying experiments and sessions of interest"
   ]
  },
  {
   "cell_type": "markdown",
   "id": "1cedb900",
   "metadata": {
    "papermill": {
     "duration": 0.040868,
     "end_time": "2023-07-19T22:24:13.537228",
     "exception": false,
     "start_time": "2023-07-19T22:24:13.496360",
     "status": "completed"
    },
    "pycharm": {
     "name": "#%% md\n"
    },
    "tags": []
   },
   "source": [
    "### Get all experiments for one container from an Sst-IRES-Cre mouse in the VisualBehaviorTask1B project code "
   ]
  },
  {
   "cell_type": "code",
   "execution_count": 48,
   "id": "67ec7003",
   "metadata": {
    "execution": {
     "iopub.execute_input": "2023-07-19T22:24:13.621633Z",
     "iopub.status.busy": "2023-07-19T22:24:13.620764Z",
     "iopub.status.idle": "2023-07-19T22:24:13.630005Z",
     "shell.execute_reply": "2023-07-19T22:24:13.629040Z"
    },
    "papermill": {
     "duration": 0.054109,
     "end_time": "2023-07-19T22:24:13.631969",
     "exception": false,
     "start_time": "2023-07-19T22:24:13.577860",
     "status": "completed"
    },
    "pycharm": {
     "name": "#%%\n"
    },
    "tags": []
   },
   "outputs": [
    {
     "name": "stdout",
     "output_type": "stream",
     "text": [
      "941373529\n"
     ]
    }
   ],
   "source": [
    "# get all Sst experiments in the relevant project code\n",
    "sst_experiments = ophys_experiments[(ophys_experiments.cre_line=='Sst-IRES-Cre')&\n",
    "                 (ophys_experiments.project_code=='VisualBehaviorTask1B')]\n",
    "\n",
    "# pick some container from this set\n",
    "ophys_container_id = sst_experiments.ophys_container_id.unique()[1]\n",
    "print(ophys_container_id)"
   ]
  },
  {
   "cell_type": "code",
   "execution_count": 49,
   "id": "04008a46",
   "metadata": {
    "execution": {
     "iopub.execute_input": "2023-07-19T22:24:13.718040Z",
     "iopub.status.busy": "2023-07-19T22:24:13.717306Z",
     "iopub.status.idle": "2023-07-19T22:24:13.744484Z",
     "shell.execute_reply": "2023-07-19T22:24:13.743766Z"
    },
    "papermill": {
     "duration": 0.073086,
     "end_time": "2023-07-19T22:24:13.746844",
     "exception": false,
     "start_time": "2023-07-19T22:24:13.673758",
     "status": "completed"
    },
    "pycharm": {
     "name": "#%%\n"
    },
    "tags": []
   },
   "outputs": [
    {
     "data": {
      "text/html": [
       "<div>\n",
       "<style scoped>\n",
       "    .dataframe tbody tr th:only-of-type {\n",
       "        vertical-align: middle;\n",
       "    }\n",
       "\n",
       "    .dataframe tbody tr th {\n",
       "        vertical-align: top;\n",
       "    }\n",
       "\n",
       "    .dataframe thead th {\n",
       "        text-align: right;\n",
       "    }\n",
       "</style>\n",
       "<table border=\"1\" class=\"dataframe\">\n",
       "  <thead>\n",
       "    <tr style=\"text-align: right;\">\n",
       "      <th></th>\n",
       "      <th>equipment_name</th>\n",
       "      <th>full_genotype</th>\n",
       "      <th>mouse_id</th>\n",
       "      <th>reporter_line</th>\n",
       "      <th>driver_line</th>\n",
       "      <th>sex</th>\n",
       "      <th>age_in_days</th>\n",
       "      <th>cre_line</th>\n",
       "      <th>indicator</th>\n",
       "      <th>session_number</th>\n",
       "      <th>...</th>\n",
       "      <th>ophys_container_id</th>\n",
       "      <th>project_code</th>\n",
       "      <th>imaging_depth</th>\n",
       "      <th>targeted_structure</th>\n",
       "      <th>date_of_acquisition</th>\n",
       "      <th>session_type</th>\n",
       "      <th>experience_level</th>\n",
       "      <th>passive</th>\n",
       "      <th>image_set</th>\n",
       "      <th>file_id</th>\n",
       "    </tr>\n",
       "    <tr>\n",
       "      <th>ophys_experiment_id</th>\n",
       "      <th></th>\n",
       "      <th></th>\n",
       "      <th></th>\n",
       "      <th></th>\n",
       "      <th></th>\n",
       "      <th></th>\n",
       "      <th></th>\n",
       "      <th></th>\n",
       "      <th></th>\n",
       "      <th></th>\n",
       "      <th></th>\n",
       "      <th></th>\n",
       "      <th></th>\n",
       "      <th></th>\n",
       "      <th></th>\n",
       "      <th></th>\n",
       "      <th></th>\n",
       "      <th></th>\n",
       "      <th></th>\n",
       "      <th></th>\n",
       "      <th></th>\n",
       "    </tr>\n",
       "  </thead>\n",
       "  <tbody>\n",
       "    <tr>\n",
       "      <th>955276580</th>\n",
       "      <td>CAM2P.5</td>\n",
       "      <td>Sst-IRES-Cre/wt;Ai148(TIT2L-GC6f-ICL-tTA2)/wt</td>\n",
       "      <td>470784</td>\n",
       "      <td>Ai148(TIT2L-GC6f-ICL-tTA2)</td>\n",
       "      <td>[Sst-IRES-Cre]</td>\n",
       "      <td>F</td>\n",
       "      <td>149.0</td>\n",
       "      <td>Sst-IRES-Cre</td>\n",
       "      <td>GCaMP6f</td>\n",
       "      <td>1.0</td>\n",
       "      <td>...</td>\n",
       "      <td>941373529</td>\n",
       "      <td>VisualBehaviorTask1B</td>\n",
       "      <td>275</td>\n",
       "      <td>VISp</td>\n",
       "      <td>2019-09-25 20:06:45</td>\n",
       "      <td>OPHYS_1_images_B</td>\n",
       "      <td>Familiar</td>\n",
       "      <td>False</td>\n",
       "      <td>B</td>\n",
       "      <td>957317925</td>\n",
       "    </tr>\n",
       "    <tr>\n",
       "      <th>956903375</th>\n",
       "      <td>CAM2P.5</td>\n",
       "      <td>Sst-IRES-Cre/wt;Ai148(TIT2L-GC6f-ICL-tTA2)/wt</td>\n",
       "      <td>470784</td>\n",
       "      <td>Ai148(TIT2L-GC6f-ICL-tTA2)</td>\n",
       "      <td>[Sst-IRES-Cre]</td>\n",
       "      <td>F</td>\n",
       "      <td>150.0</td>\n",
       "      <td>Sst-IRES-Cre</td>\n",
       "      <td>GCaMP6f</td>\n",
       "      <td>2.0</td>\n",
       "      <td>...</td>\n",
       "      <td>941373529</td>\n",
       "      <td>VisualBehaviorTask1B</td>\n",
       "      <td>275</td>\n",
       "      <td>VISp</td>\n",
       "      <td>2019-09-26 17:34:33</td>\n",
       "      <td>OPHYS_2_images_B_passive</td>\n",
       "      <td>Familiar</td>\n",
       "      <td>True</td>\n",
       "      <td>B</td>\n",
       "      <td>957356891</td>\n",
       "    </tr>\n",
       "    <tr>\n",
       "      <th>957652800</th>\n",
       "      <td>CAM2P.5</td>\n",
       "      <td>Sst-IRES-Cre/wt;Ai148(TIT2L-GC6f-ICL-tTA2)/wt</td>\n",
       "      <td>470784</td>\n",
       "      <td>Ai148(TIT2L-GC6f-ICL-tTA2)</td>\n",
       "      <td>[Sst-IRES-Cre]</td>\n",
       "      <td>F</td>\n",
       "      <td>151.0</td>\n",
       "      <td>Sst-IRES-Cre</td>\n",
       "      <td>GCaMP6f</td>\n",
       "      <td>3.0</td>\n",
       "      <td>...</td>\n",
       "      <td>941373529</td>\n",
       "      <td>VisualBehaviorTask1B</td>\n",
       "      <td>275</td>\n",
       "      <td>VISp</td>\n",
       "      <td>2019-09-27 18:37:17</td>\n",
       "      <td>OPHYS_3_images_B</td>\n",
       "      <td>Familiar</td>\n",
       "      <td>False</td>\n",
       "      <td>B</td>\n",
       "      <td>957800643</td>\n",
       "    </tr>\n",
       "    <tr>\n",
       "      <th>959337347</th>\n",
       "      <td>CAM2P.5</td>\n",
       "      <td>Sst-IRES-Cre/wt;Ai148(TIT2L-GC6f-ICL-tTA2)/wt</td>\n",
       "      <td>470784</td>\n",
       "      <td>Ai148(TIT2L-GC6f-ICL-tTA2)</td>\n",
       "      <td>[Sst-IRES-Cre]</td>\n",
       "      <td>F</td>\n",
       "      <td>155.0</td>\n",
       "      <td>Sst-IRES-Cre</td>\n",
       "      <td>GCaMP6f</td>\n",
       "      <td>4.0</td>\n",
       "      <td>...</td>\n",
       "      <td>941373529</td>\n",
       "      <td>VisualBehaviorTask1B</td>\n",
       "      <td>275</td>\n",
       "      <td>VISp</td>\n",
       "      <td>2019-10-01 17:57:39</td>\n",
       "      <td>OPHYS_4_images_A</td>\n",
       "      <td>Novel &gt;1</td>\n",
       "      <td>False</td>\n",
       "      <td>A</td>\n",
       "      <td>959436242</td>\n",
       "    </tr>\n",
       "    <tr>\n",
       "      <th>960351917</th>\n",
       "      <td>CAM2P.5</td>\n",
       "      <td>Sst-IRES-Cre/wt;Ai148(TIT2L-GC6f-ICL-tTA2)/wt</td>\n",
       "      <td>470784</td>\n",
       "      <td>Ai148(TIT2L-GC6f-ICL-tTA2)</td>\n",
       "      <td>[Sst-IRES-Cre]</td>\n",
       "      <td>F</td>\n",
       "      <td>156.0</td>\n",
       "      <td>Sst-IRES-Cre</td>\n",
       "      <td>GCaMP6f</td>\n",
       "      <td>5.0</td>\n",
       "      <td>...</td>\n",
       "      <td>941373529</td>\n",
       "      <td>VisualBehaviorTask1B</td>\n",
       "      <td>275</td>\n",
       "      <td>VISp</td>\n",
       "      <td>2019-10-02 18:23:56</td>\n",
       "      <td>OPHYS_5_images_A_passive</td>\n",
       "      <td>Novel &gt;1</td>\n",
       "      <td>True</td>\n",
       "      <td>A</td>\n",
       "      <td>960425985</td>\n",
       "    </tr>\n",
       "    <tr>\n",
       "      <th>960960480</th>\n",
       "      <td>CAM2P.5</td>\n",
       "      <td>Sst-IRES-Cre/wt;Ai148(TIT2L-GC6f-ICL-tTA2)/wt</td>\n",
       "      <td>470784</td>\n",
       "      <td>Ai148(TIT2L-GC6f-ICL-tTA2)</td>\n",
       "      <td>[Sst-IRES-Cre]</td>\n",
       "      <td>F</td>\n",
       "      <td>157.0</td>\n",
       "      <td>Sst-IRES-Cre</td>\n",
       "      <td>GCaMP6f</td>\n",
       "      <td>6.0</td>\n",
       "      <td>...</td>\n",
       "      <td>941373529</td>\n",
       "      <td>VisualBehaviorTask1B</td>\n",
       "      <td>275</td>\n",
       "      <td>VISp</td>\n",
       "      <td>2019-10-03 18:01:02</td>\n",
       "      <td>OPHYS_6_images_A</td>\n",
       "      <td>Novel &gt;1</td>\n",
       "      <td>False</td>\n",
       "      <td>A</td>\n",
       "      <td>961030683</td>\n",
       "    </tr>\n",
       "  </tbody>\n",
       "</table>\n",
       "<p>6 rows × 25 columns</p>\n",
       "</div>"
      ],
      "text/plain": [
       "                    equipment_name  \\\n",
       "ophys_experiment_id                  \n",
       "955276580                  CAM2P.5   \n",
       "956903375                  CAM2P.5   \n",
       "957652800                  CAM2P.5   \n",
       "959337347                  CAM2P.5   \n",
       "960351917                  CAM2P.5   \n",
       "960960480                  CAM2P.5   \n",
       "\n",
       "                                                     full_genotype mouse_id  \\\n",
       "ophys_experiment_id                                                           \n",
       "955276580            Sst-IRES-Cre/wt;Ai148(TIT2L-GC6f-ICL-tTA2)/wt   470784   \n",
       "956903375            Sst-IRES-Cre/wt;Ai148(TIT2L-GC6f-ICL-tTA2)/wt   470784   \n",
       "957652800            Sst-IRES-Cre/wt;Ai148(TIT2L-GC6f-ICL-tTA2)/wt   470784   \n",
       "959337347            Sst-IRES-Cre/wt;Ai148(TIT2L-GC6f-ICL-tTA2)/wt   470784   \n",
       "960351917            Sst-IRES-Cre/wt;Ai148(TIT2L-GC6f-ICL-tTA2)/wt   470784   \n",
       "960960480            Sst-IRES-Cre/wt;Ai148(TIT2L-GC6f-ICL-tTA2)/wt   470784   \n",
       "\n",
       "                                  reporter_line     driver_line sex  \\\n",
       "ophys_experiment_id                                                   \n",
       "955276580            Ai148(TIT2L-GC6f-ICL-tTA2)  [Sst-IRES-Cre]   F   \n",
       "956903375            Ai148(TIT2L-GC6f-ICL-tTA2)  [Sst-IRES-Cre]   F   \n",
       "957652800            Ai148(TIT2L-GC6f-ICL-tTA2)  [Sst-IRES-Cre]   F   \n",
       "959337347            Ai148(TIT2L-GC6f-ICL-tTA2)  [Sst-IRES-Cre]   F   \n",
       "960351917            Ai148(TIT2L-GC6f-ICL-tTA2)  [Sst-IRES-Cre]   F   \n",
       "960960480            Ai148(TIT2L-GC6f-ICL-tTA2)  [Sst-IRES-Cre]   F   \n",
       "\n",
       "                     age_in_days      cre_line indicator  session_number  ...  \\\n",
       "ophys_experiment_id                                                       ...   \n",
       "955276580                  149.0  Sst-IRES-Cre   GCaMP6f             1.0  ...   \n",
       "956903375                  150.0  Sst-IRES-Cre   GCaMP6f             2.0  ...   \n",
       "957652800                  151.0  Sst-IRES-Cre   GCaMP6f             3.0  ...   \n",
       "959337347                  155.0  Sst-IRES-Cre   GCaMP6f             4.0  ...   \n",
       "960351917                  156.0  Sst-IRES-Cre   GCaMP6f             5.0  ...   \n",
       "960960480                  157.0  Sst-IRES-Cre   GCaMP6f             6.0  ...   \n",
       "\n",
       "                     ophys_container_id          project_code  imaging_depth  \\\n",
       "ophys_experiment_id                                                            \n",
       "955276580                     941373529  VisualBehaviorTask1B            275   \n",
       "956903375                     941373529  VisualBehaviorTask1B            275   \n",
       "957652800                     941373529  VisualBehaviorTask1B            275   \n",
       "959337347                     941373529  VisualBehaviorTask1B            275   \n",
       "960351917                     941373529  VisualBehaviorTask1B            275   \n",
       "960960480                     941373529  VisualBehaviorTask1B            275   \n",
       "\n",
       "                     targeted_structure  date_of_acquisition  \\\n",
       "ophys_experiment_id                                            \n",
       "955276580                          VISp  2019-09-25 20:06:45   \n",
       "956903375                          VISp  2019-09-26 17:34:33   \n",
       "957652800                          VISp  2019-09-27 18:37:17   \n",
       "959337347                          VISp  2019-10-01 17:57:39   \n",
       "960351917                          VISp  2019-10-02 18:23:56   \n",
       "960960480                          VISp  2019-10-03 18:01:02   \n",
       "\n",
       "                                 session_type experience_level  passive  \\\n",
       "ophys_experiment_id                                                       \n",
       "955276580                    OPHYS_1_images_B         Familiar    False   \n",
       "956903375            OPHYS_2_images_B_passive         Familiar     True   \n",
       "957652800                    OPHYS_3_images_B         Familiar    False   \n",
       "959337347                    OPHYS_4_images_A         Novel >1    False   \n",
       "960351917            OPHYS_5_images_A_passive         Novel >1     True   \n",
       "960960480                    OPHYS_6_images_A         Novel >1    False   \n",
       "\n",
       "                    image_set    file_id  \n",
       "ophys_experiment_id                       \n",
       "955276580                   B  957317925  \n",
       "956903375                   B  957356891  \n",
       "957652800                   B  957800643  \n",
       "959337347                   A  959436242  \n",
       "960351917                   A  960425985  \n",
       "960960480                   A  961030683  \n",
       "\n",
       "[6 rows x 25 columns]"
      ]
     },
     "execution_count": 49,
     "metadata": {},
     "output_type": "execute_result"
    }
   ],
   "source": [
    "# what experiments are there for this container? \n",
    "sst_container_experiments = sst_experiments[sst_experiments.ophys_container_id==ophys_container_id]\n",
    "sst_container_experiments"
   ]
  },
  {
   "cell_type": "markdown",
   "id": "d298a228",
   "metadata": {
    "papermill": {
     "duration": 0.041199,
     "end_time": "2023-07-19T22:24:13.830115",
     "exception": false,
     "start_time": "2023-07-19T22:24:13.788916",
     "status": "completed"
    },
    "pycharm": {
     "name": "#%% md\n"
    },
    "tags": []
   },
   "source": [
    "### Load the BehaviorOphysExperiment dataset for each ophys_experiment_id in the container and plot the max intensity projection - are they well aligned across sessions? can you identify the same neurons?  "
   ]
  },
  {
   "cell_type": "code",
   "execution_count": 50,
   "id": "53012df3",
   "metadata": {
    "execution": {
     "iopub.execute_input": "2023-07-19T22:24:13.915438Z",
     "iopub.status.busy": "2023-07-19T22:24:13.914645Z",
     "iopub.status.idle": "2023-07-19T22:24:14.160503Z",
     "shell.execute_reply": "2023-07-19T22:24:14.159412Z"
    },
    "papermill": {
     "duration": 0.292312,
     "end_time": "2023-07-19T22:24:14.163825",
     "exception": false,
     "start_time": "2023-07-19T22:24:13.871513",
     "status": "completed"
    },
    "pycharm": {
     "name": "#%%\n"
    },
    "tags": []
   },
   "outputs": [],
   "source": [
    "import matplotlib.pyplot as plt"
   ]
  },
  {
   "cell_type": "code",
   "execution_count": 51,
   "id": "783a85a4",
   "metadata": {
    "execution": {
     "iopub.execute_input": "2023-07-19T22:24:14.255537Z",
     "iopub.status.busy": "2023-07-19T22:24:14.254757Z",
     "iopub.status.idle": "2023-07-19T22:25:52.315145Z",
     "shell.execute_reply": "2023-07-19T22:25:52.314186Z"
    },
    "papermill": {
     "duration": 98.191427,
     "end_time": "2023-07-19T22:25:52.401213",
     "exception": false,
     "start_time": "2023-07-19T22:24:14.209786",
     "status": "completed"
    },
    "pycharm": {
     "name": "#%%\n"
    },
    "tags": []
   },
   "outputs": [
    {
     "name": "stderr",
     "output_type": "stream",
     "text": [
      "behavior_ophys_experiment_955276580.nwb: 100%|██████████| 280M/280M [00:10<00:00, 26.7MMB/s]\n",
      "/opt/hostedtoolcache/Python/3.8.17/x64/lib/python3.8/site-packages/hdmf/spec/namespace.py:531: UserWarning: Ignoring cached namespace 'hdmf-common' version 1.3.0 because version 1.5.1 is already loaded.\n",
      "  warn(\"Ignoring cached namespace '%s' version %s because version %s is already loaded.\"\n",
      "/opt/hostedtoolcache/Python/3.8.17/x64/lib/python3.8/site-packages/hdmf/spec/namespace.py:531: UserWarning: Ignoring cached namespace 'core' version 2.2.5 because version 2.5.0 is already loaded.\n",
      "  warn(\"Ignoring cached namespace '%s' version %s because version %s is already loaded.\"\n",
      "behavior_ophys_experiment_956903375.nwb: 100%|██████████| 288M/288M [00:10<00:00, 26.4MMB/s]\n",
      "/opt/hostedtoolcache/Python/3.8.17/x64/lib/python3.8/site-packages/hdmf/spec/namespace.py:531: UserWarning: Ignoring cached namespace 'hdmf-common' version 1.3.0 because version 1.5.1 is already loaded.\n",
      "  warn(\"Ignoring cached namespace '%s' version %s because version %s is already loaded.\"\n",
      "/opt/hostedtoolcache/Python/3.8.17/x64/lib/python3.8/site-packages/hdmf/spec/namespace.py:531: UserWarning: Ignoring cached namespace 'core' version 2.2.5 because version 2.5.0 is already loaded.\n",
      "  warn(\"Ignoring cached namespace '%s' version %s because version %s is already loaded.\"\n",
      "behavior_ophys_experiment_957652800.nwb: 100%|██████████| 290M/290M [00:11<00:00, 26.1MMB/s]\n",
      "/opt/hostedtoolcache/Python/3.8.17/x64/lib/python3.8/site-packages/hdmf/spec/namespace.py:531: UserWarning: Ignoring cached namespace 'hdmf-common' version 1.3.0 because version 1.5.1 is already loaded.\n",
      "  warn(\"Ignoring cached namespace '%s' version %s because version %s is already loaded.\"\n",
      "/opt/hostedtoolcache/Python/3.8.17/x64/lib/python3.8/site-packages/hdmf/spec/namespace.py:531: UserWarning: Ignoring cached namespace 'core' version 2.2.5 because version 2.5.0 is already loaded.\n",
      "  warn(\"Ignoring cached namespace '%s' version %s because version %s is already loaded.\"\n",
      "behavior_ophys_experiment_959337347.nwb: 100%|██████████| 305M/305M [00:11<00:00, 26.8MMB/s]\n",
      "/opt/hostedtoolcache/Python/3.8.17/x64/lib/python3.8/site-packages/hdmf/spec/namespace.py:531: UserWarning: Ignoring cached namespace 'hdmf-common' version 1.3.0 because version 1.5.1 is already loaded.\n",
      "  warn(\"Ignoring cached namespace '%s' version %s because version %s is already loaded.\"\n",
      "/opt/hostedtoolcache/Python/3.8.17/x64/lib/python3.8/site-packages/hdmf/spec/namespace.py:531: UserWarning: Ignoring cached namespace 'core' version 2.2.5 because version 2.5.0 is already loaded.\n",
      "  warn(\"Ignoring cached namespace '%s' version %s because version %s is already loaded.\"\n",
      "behavior_ophys_experiment_960351917.nwb: 100%|██████████| 295M/295M [00:10<00:00, 27.3MMB/s]\n",
      "/opt/hostedtoolcache/Python/3.8.17/x64/lib/python3.8/site-packages/hdmf/spec/namespace.py:531: UserWarning: Ignoring cached namespace 'hdmf-common' version 1.3.0 because version 1.5.1 is already loaded.\n",
      "  warn(\"Ignoring cached namespace '%s' version %s because version %s is already loaded.\"\n",
      "/opt/hostedtoolcache/Python/3.8.17/x64/lib/python3.8/site-packages/hdmf/spec/namespace.py:531: UserWarning: Ignoring cached namespace 'core' version 2.2.5 because version 2.5.0 is already loaded.\n",
      "  warn(\"Ignoring cached namespace '%s' version %s because version %s is already loaded.\"\n",
      "behavior_ophys_experiment_960960480.nwb: 100%|██████████| 300M/300M [00:11<00:00, 25.3MMB/s]\n",
      "/opt/hostedtoolcache/Python/3.8.17/x64/lib/python3.8/site-packages/hdmf/spec/namespace.py:531: UserWarning: Ignoring cached namespace 'hdmf-common' version 1.3.0 because version 1.5.1 is already loaded.\n",
      "  warn(\"Ignoring cached namespace '%s' version %s because version %s is already loaded.\"\n",
      "/opt/hostedtoolcache/Python/3.8.17/x64/lib/python3.8/site-packages/hdmf/spec/namespace.py:531: UserWarning: Ignoring cached namespace 'core' version 2.2.5 because version 2.5.0 is already loaded.\n",
      "  warn(\"Ignoring cached namespace '%s' version %s because version %s is already loaded.\"\n"
     ]
    },
    {
     "data": {
      "image/png": "[encoded data removed]",
      "text/plain": [
       "<Figure size 2000x500 with 6 Axes>"
      ]
     },
     "metadata": {},
     "output_type": "display_data"
    }
   ],
   "source": [
    "# ophys_experiment_ids are the index of the ophys_experiment_table\n",
    "ophys_experiment_ids = sst_container_experiments.index.values\n",
    "\n",
    "# create figure axis\n",
    "fig, ax = plt.subplots(1, len(ophys_experiment_ids), figsize=(20,5))\n",
    "# enumerate over experiments in this container\n",
    "for i, ophys_experiment_id in enumerate(ophys_experiment_ids): \n",
    "    # get the dataset object\n",
    "    dataset = cache.get_behavior_ophys_experiment(ophys_experiment_id=ophys_experiment_id)\n",
    "    # get the max intensity projection and plot on the appropriate axis\n",
    "    ax[i].imshow(dataset.max_projection.data, cmap='gray')\n",
    "    ax[i].set_title(ophys_experiment_id)"
   ]
  },
  {
   "cell_type": "code",
   "execution_count": null,
   "id": "e307cb12",
   "metadata": {
    "papermill": {
     "duration": 0.089409,
     "end_time": "2023-07-19T22:25:52.567141",
     "exception": false,
     "start_time": "2023-07-19T22:25:52.477732",
     "status": "completed"
    },
    "pycharm": {
     "name": "#%%\n"
    },
    "tags": []
   },
   "outputs": [],
   "source": []
  },
  {
   "cell_type": "markdown",
   "id": "916a6eb1",
   "metadata": {
    "papermill": {
     "duration": 0.07494,
     "end_time": "2023-07-19T22:25:52.715695",
     "exception": false,
     "start_time": "2023-07-19T22:25:52.640755",
     "status": "completed"
    },
    "pycharm": {
     "name": "#%% md\n"
    },
    "tags": []
   },
   "source": [
    "### Get all imaging planes recorded during one session with novel images in a Vip mouse imaged on Multiscope"
   ]
  },
  {
   "cell_type": "code",
   "execution_count": 52,
   "id": "8583aaf9",
   "metadata": {
    "execution": {
     "iopub.execute_input": "2023-07-19T22:25:52.884591Z",
     "iopub.status.busy": "2023-07-19T22:25:52.883821Z",
     "iopub.status.idle": "2023-07-19T22:25:52.896445Z",
     "shell.execute_reply": "2023-07-19T22:25:52.894927Z"
    },
    "papermill": {
     "duration": 0.108231,
     "end_time": "2023-07-19T22:25:52.900846",
     "exception": false,
     "start_time": "2023-07-19T22:25:52.792615",
     "status": "completed"
    },
    "pycharm": {
     "name": "#%%\n"
    },
    "tags": []
   },
   "outputs": [],
   "source": [
    "# get all Vip sessions in the Multiscope project code\n",
    "vip_sessions = ophys_sessions[(ophys_sessions.cre_line=='Vip-IRES-Cre')&\n",
    "                             (ophys_sessions.project_code=='VisualBehaviorMultiscope')&\n",
    "                             (ophys_sessions.prior_exposures_to_image_set==0)]\n",
    "\n",
    "# ophys_session_id is the index of the ophys_session_table\n",
    "ophys_session_id = vip_sessions.index.values[0]"
   ]
  },
  {
   "cell_type": "code",
   "execution_count": 53,
   "id": "78e63532",
   "metadata": {
    "execution": {
     "iopub.execute_input": "2023-07-19T22:25:53.061891Z",
     "iopub.status.busy": "2023-07-19T22:25:53.061464Z",
     "iopub.status.idle": "2023-07-19T22:25:53.070156Z",
     "shell.execute_reply": "2023-07-19T22:25:53.069407Z"
    },
    "papermill": {
     "duration": 0.092656,
     "end_time": "2023-07-19T22:25:53.072100",
     "exception": false,
     "start_time": "2023-07-19T22:25:52.979444",
     "status": "completed"
    },
    "pycharm": {
     "name": "#%%\n"
    },
    "tags": []
   },
   "outputs": [
    {
     "data": {
      "text/plain": [
       "equipment_name                                                                MESO.1\n",
       "full_genotype                          Vip-IRES-Cre/wt;Ai148(TIT2L-GC6f-ICL-tTA2)/wt\n",
       "mouse_id                                                                      523922\n",
       "reporter_line                                             Ai148(TIT2L-GC6f-ICL-tTA2)\n",
       "driver_line                                                           [Vip-IRES-Cre]\n",
       "sex                                                                                M\n",
       "age_in_days                                                                    183.0\n",
       "cre_line                                                                Vip-IRES-Cre\n",
       "indicator                                                                    GCaMP6f\n",
       "session_number                                                                   4.0\n",
       "prior_exposures_to_session_type                                                  0.0\n",
       "prior_exposures_to_image_set                                                     0.0\n",
       "prior_exposures_to_omissions                                                     7.0\n",
       "behavior_session_id                                                       1050620316\n",
       "ophys_experiment_id                [1050762966, 1050762969, 1050762972, 105076297...\n",
       "ophys_container_id                 [1046576787, 1046576794, 1046576784, 104657677...\n",
       "project_code                                                VisualBehaviorMultiscope\n",
       "date_of_acquisition                                       2020-09-15 08:52:00.527831\n",
       "session_type                                                        OPHYS_4_images_B\n",
       "Name: 1050597678, dtype: object"
      ]
     },
     "execution_count": 53,
     "metadata": {},
     "output_type": "execute_result"
    }
   ],
   "source": [
    "# look at info for this ophys session\n",
    "vip_sessions.loc[ophys_session_id]"
   ]
  },
  {
   "cell_type": "markdown",
   "id": "ef194001",
   "metadata": {
    "papermill": {
     "duration": 0.074014,
     "end_time": "2023-07-19T22:25:53.220067",
     "exception": false,
     "start_time": "2023-07-19T22:25:53.146053",
     "status": "completed"
    },
    "pycharm": {
     "name": "#%% md\n"
    },
    "tags": []
   },
   "source": [
    "### Plot the average dF/F trace for each of the experiments in this session for a 5 minute time period "
   ]
  },
  {
   "cell_type": "code",
   "execution_count": 54,
   "id": "d035286a",
   "metadata": {
    "execution": {
     "iopub.execute_input": "2023-07-19T22:25:53.370261Z",
     "iopub.status.busy": "2023-07-19T22:25:53.369877Z",
     "iopub.status.idle": "2023-07-19T22:25:53.375297Z",
     "shell.execute_reply": "2023-07-19T22:25:53.374589Z"
    },
    "papermill": {
     "duration": 0.083005,
     "end_time": "2023-07-19T22:25:53.378029",
     "exception": false,
     "start_time": "2023-07-19T22:25:53.295024",
     "status": "completed"
    },
    "pycharm": {
     "name": "#%%\n"
    },
    "tags": []
   },
   "outputs": [
    {
     "name": "stdout",
     "output_type": "stream",
     "text": [
      "[1050762966, 1050762969, 1050762972, 1050762974, 1050762975, 1050762977]\n"
     ]
    }
   ],
   "source": [
    "# get all the ophys_experiment_ids (corresponding to imaging planes) for this session\n",
    "ophys_experiment_ids = vip_sessions.loc[ophys_session_id].ophys_experiment_id\n",
    "print(ophys_experiment_ids)"
   ]
  },
  {
   "cell_type": "code",
   "execution_count": 55,
   "id": "0bf45dda",
   "metadata": {
    "execution": {
     "iopub.execute_input": "2023-07-19T22:25:53.530506Z",
     "iopub.status.busy": "2023-07-19T22:25:53.529574Z",
     "iopub.status.idle": "2023-07-19T22:27:18.096277Z",
     "shell.execute_reply": "2023-07-19T22:27:18.095336Z"
    },
    "papermill": {
     "duration": 84.646233,
     "end_time": "2023-07-19T22:27:18.101158",
     "exception": false,
     "start_time": "2023-07-19T22:25:53.454925",
     "status": "completed"
    },
    "pycharm": {
     "name": "#%%\n"
    },
    "tags": []
   },
   "outputs": [
    {
     "name": "stderr",
     "output_type": "stream",
     "text": [
      "behavior_ophys_experiment_1050762966.nwb: 100%|██████████| 254M/254M [00:09<00:00, 26.3MMB/s]\n",
      "/opt/hostedtoolcache/Python/3.8.17/x64/lib/python3.8/site-packages/hdmf/spec/namespace.py:531: UserWarning: Ignoring cached namespace 'hdmf-common' version 1.3.0 because version 1.5.1 is already loaded.\n",
      "  warn(\"Ignoring cached namespace '%s' version %s because version %s is already loaded.\"\n",
      "/opt/hostedtoolcache/Python/3.8.17/x64/lib/python3.8/site-packages/hdmf/spec/namespace.py:531: UserWarning: Ignoring cached namespace 'core' version 2.2.5 because version 2.5.0 is already loaded.\n",
      "  warn(\"Ignoring cached namespace '%s' version %s because version %s is already loaded.\"\n",
      "behavior_ophys_experiment_1050762969.nwb: 100%|██████████| 253M/253M [00:09<00:00, 26.7MMB/s]\n",
      "/opt/hostedtoolcache/Python/3.8.17/x64/lib/python3.8/site-packages/hdmf/spec/namespace.py:531: UserWarning: Ignoring cached namespace 'hdmf-common' version 1.3.0 because version 1.5.1 is already loaded.\n",
      "  warn(\"Ignoring cached namespace '%s' version %s because version %s is already loaded.\"\n",
      "/opt/hostedtoolcache/Python/3.8.17/x64/lib/python3.8/site-packages/hdmf/spec/namespace.py:531: UserWarning: Ignoring cached namespace 'core' version 2.2.5 because version 2.5.0 is already loaded.\n",
      "  warn(\"Ignoring cached namespace '%s' version %s because version %s is already loaded.\"\n",
      "behavior_ophys_experiment_1050762972.nwb: 100%|██████████| 244M/244M [00:09<00:00, 25.5MMB/s]\n",
      "/opt/hostedtoolcache/Python/3.8.17/x64/lib/python3.8/site-packages/hdmf/spec/namespace.py:531: UserWarning: Ignoring cached namespace 'hdmf-common' version 1.3.0 because version 1.5.1 is already loaded.\n",
      "  warn(\"Ignoring cached namespace '%s' version %s because version %s is already loaded.\"\n",
      "/opt/hostedtoolcache/Python/3.8.17/x64/lib/python3.8/site-packages/hdmf/spec/namespace.py:531: UserWarning: Ignoring cached namespace 'core' version 2.2.5 because version 2.5.0 is already loaded.\n",
      "  warn(\"Ignoring cached namespace '%s' version %s because version %s is already loaded.\"\n",
      "behavior_ophys_experiment_1050762974.nwb: 100%|██████████| 248M/248M [00:09<00:00, 27.6MMB/s]\n",
      "/opt/hostedtoolcache/Python/3.8.17/x64/lib/python3.8/site-packages/hdmf/spec/namespace.py:531: UserWarning: Ignoring cached namespace 'hdmf-common' version 1.3.0 because version 1.5.1 is already loaded.\n",
      "  warn(\"Ignoring cached namespace '%s' version %s because version %s is already loaded.\"\n",
      "/opt/hostedtoolcache/Python/3.8.17/x64/lib/python3.8/site-packages/hdmf/spec/namespace.py:531: UserWarning: Ignoring cached namespace 'core' version 2.2.5 because version 2.5.0 is already loaded.\n",
      "  warn(\"Ignoring cached namespace '%s' version %s because version %s is already loaded.\"\n",
      "behavior_ophys_experiment_1050762975.nwb: 100%|██████████| 253M/253M [00:07<00:00, 32.5MMB/s]\n",
      "/opt/hostedtoolcache/Python/3.8.17/x64/lib/python3.8/site-packages/hdmf/spec/namespace.py:531: UserWarning: Ignoring cached namespace 'hdmf-common' version 1.3.0 because version 1.5.1 is already loaded.\n",
      "  warn(\"Ignoring cached namespace '%s' version %s because version %s is already loaded.\"\n",
      "/opt/hostedtoolcache/Python/3.8.17/x64/lib/python3.8/site-packages/hdmf/spec/namespace.py:531: UserWarning: Ignoring cached namespace 'core' version 2.2.5 because version 2.5.0 is already loaded.\n",
      "  warn(\"Ignoring cached namespace '%s' version %s because version %s is already loaded.\"\n",
      "behavior_ophys_experiment_1050762977.nwb: 100%|██████████| 242M/242M [00:08<00:00, 27.6MMB/s]\n",
      "/opt/hostedtoolcache/Python/3.8.17/x64/lib/python3.8/site-packages/hdmf/spec/namespace.py:531: UserWarning: Ignoring cached namespace 'hdmf-common' version 1.3.0 because version 1.5.1 is already loaded.\n",
      "  warn(\"Ignoring cached namespace '%s' version %s because version %s is already loaded.\"\n",
      "/opt/hostedtoolcache/Python/3.8.17/x64/lib/python3.8/site-packages/hdmf/spec/namespace.py:531: UserWarning: Ignoring cached namespace 'core' version 2.2.5 because version 2.5.0 is already loaded.\n",
      "  warn(\"Ignoring cached namespace '%s' version %s because version %s is already loaded.\"\n"
     ]
    },
    {
     "data": {
      "text/plain": [
       "<matplotlib.legend.Legend at 0x7f245ca78460>"
      ]
     },
     "execution_count": 55,
     "metadata": {},
     "output_type": "execute_result"
    },
    {
     "data": {
      "image/png": "[encoded data removed]",
      "text/plain": [
       "<Figure size 1500x400 with 1 Axes>"
      ]
     },
     "metadata": {},
     "output_type": "display_data"
    }
   ],
   "source": [
    "# create figure axis\n",
    "fig, ax = plt.subplots(1,1, figsize=(15,4))\n",
    "# enumerate over experiments in this session\n",
    "for i, ophys_experiment_id in enumerate(ophys_experiment_ids): \n",
    "    # get the dataset object\n",
    "    dataset = cache.get_behavior_ophys_experiment(ophys_experiment_id=ophys_experiment_id)\n",
    "    # get ophys timestamps\n",
    "    ophys_timestamps = dataset.ophys_timestamps\n",
    "    # get the population average dF/F trace\n",
    "    dff_traces = dataset.dff_traces\n",
    "    # dff_traces is a dataframe with a column 'dff'\n",
    "    # get the values of this column and turn into a matrix of n_cells x timepoints\n",
    "    dff_traces = np.vstack(dff_traces.dff.values)\n",
    "    # take the mean over the cell axis\n",
    "    average_dFF = np.mean(dff_traces, axis=0)\n",
    "    # get the imaging_depth and targeted_structure for this experiment\n",
    "    imaging_depth = dataset.metadata['imaging_depth']\n",
    "    targeted_structure = dataset.metadata['targeted_structure']\n",
    "    # plot it, including the imaging_depth and targeted_structure in the legend label\n",
    "    ax.plot(ophys_timestamps, average_dFF, label=targeted_structure+'_'+str(imaging_depth))\n",
    "    ax.set_title(dataset.metadata['cre_line']+', ophys_session_id: '+str(ophys_session_id))\n",
    "ax.set_ylabel('dF/F')\n",
    "ax.set_xlabel('time (seconds)')\n",
    "ax.set_xlim(5*60, 10*60)\n",
    "ax.legend()"
   ]
  },
  {
   "cell_type": "markdown",
   "id": "2f9f57a1",
   "metadata": {
    "papermill": {
     "duration": 0.141039,
     "end_time": "2023-07-19T22:27:18.359826",
     "exception": false,
     "start_time": "2023-07-19T22:27:18.218787",
     "status": "completed"
    },
    "pycharm": {
     "name": "#%%\n"
    },
    "tags": []
   },
   "source": [
    "## Ophys Cells Table"
   ]
  },
  {
   "cell_type": "code",
   "execution_count": 56,
   "id": "0b9608e5",
   "metadata": {
    "execution": {
     "iopub.execute_input": "2023-07-19T22:27:18.552714Z",
     "iopub.status.busy": "2023-07-19T22:27:18.551944Z",
     "iopub.status.idle": "2023-07-19T22:27:18.562019Z",
     "shell.execute_reply": "2023-07-19T22:27:18.561119Z"
    },
    "papermill": {
     "duration": 0.108434,
     "end_time": "2023-07-19T22:27:18.565052",
     "exception": false,
     "start_time": "2023-07-19T22:27:18.456618",
     "status": "completed"
    },
    "pycharm": {
     "name": "#%%\n"
    },
    "tags": []
   },
   "outputs": [
    {
     "data": {
      "text/html": [
       "<div>\n",
       "<style scoped>\n",
       "    .dataframe tbody tr th:only-of-type {\n",
       "        vertical-align: middle;\n",
       "    }\n",
       "\n",
       "    .dataframe tbody tr th {\n",
       "        vertical-align: top;\n",
       "    }\n",
       "\n",
       "    .dataframe thead th {\n",
       "        text-align: right;\n",
       "    }\n",
       "</style>\n",
       "<table border=\"1\" class=\"dataframe\">\n",
       "  <thead>\n",
       "    <tr style=\"text-align: right;\">\n",
       "      <th></th>\n",
       "      <th>cell_specimen_id</th>\n",
       "      <th>ophys_experiment_id</th>\n",
       "    </tr>\n",
       "    <tr>\n",
       "      <th>cell_roi_id</th>\n",
       "      <th></th>\n",
       "      <th></th>\n",
       "    </tr>\n",
       "  </thead>\n",
       "  <tbody>\n",
       "    <tr>\n",
       "      <th>1080884343</th>\n",
       "      <td>1086496928</td>\n",
       "      <td>775614751</td>\n",
       "    </tr>\n",
       "    <tr>\n",
       "      <th>1080884173</th>\n",
       "      <td>1086496914</td>\n",
       "      <td>775614751</td>\n",
       "    </tr>\n",
       "    <tr>\n",
       "      <th>1080883843</th>\n",
       "      <td>1086496838</td>\n",
       "      <td>775614751</td>\n",
       "    </tr>\n",
       "    <tr>\n",
       "      <th>1080886674</th>\n",
       "      <td>1086491756</td>\n",
       "      <td>775614751</td>\n",
       "    </tr>\n",
       "    <tr>\n",
       "      <th>1080885658</th>\n",
       "      <td>1086491699</td>\n",
       "      <td>775614751</td>\n",
       "    </tr>\n",
       "  </tbody>\n",
       "</table>\n",
       "</div>"
      ],
      "text/plain": [
       "             cell_specimen_id  ophys_experiment_id\n",
       "cell_roi_id                                       \n",
       "1080884343         1086496928            775614751\n",
       "1080884173         1086496914            775614751\n",
       "1080883843         1086496838            775614751\n",
       "1080886674         1086491756            775614751\n",
       "1080885658         1086491699            775614751"
      ]
     },
     "execution_count": 56,
     "metadata": {},
     "output_type": "execute_result"
    }
   ],
   "source": [
    "cells_table = cache.get_ophys_cells_table()\n",
    "\n",
    "cells_table.head()"
   ]
  },
  {
   "cell_type": "markdown",
   "id": "6b4a6555",
   "metadata": {
    "papermill": {
     "duration": 0.100242,
     "end_time": "2023-07-19T22:27:18.764118",
     "exception": false,
     "start_time": "2023-07-19T22:27:18.663876",
     "status": "completed"
    },
    "tags": []
   },
   "source": [
    "### How many cells per experiment?"
   ]
  },
  {
   "cell_type": "code",
   "execution_count": 57,
   "id": "2da8849b",
   "metadata": {
    "execution": {
     "iopub.execute_input": "2023-07-19T22:27:18.983073Z",
     "iopub.status.busy": "2023-07-19T22:27:18.981940Z",
     "iopub.status.idle": "2023-07-19T22:27:19.212901Z",
     "shell.execute_reply": "2023-07-19T22:27:19.212006Z"
    },
    "papermill": {
     "duration": 0.336086,
     "end_time": "2023-07-19T22:27:19.215912",
     "exception": false,
     "start_time": "2023-07-19T22:27:18.879826",
     "status": "completed"
    },
    "tags": []
   },
   "outputs": [
    {
     "data": {
      "image/png": "[encoded data removed]",
      "text/plain": [
       "<Figure size 640x480 with 1 Axes>"
      ]
     },
     "metadata": {},
     "output_type": "display_data"
    },
    {
     "data": {
      "text/plain": [
       "count    1948.000000\n",
       "mean       68.391684\n",
       "std        95.181394\n",
       "min         1.000000\n",
       "25%        11.000000\n",
       "50%        22.000000\n",
       "75%        98.000000\n",
       "max       666.000000\n",
       "dtype: float64"
      ]
     },
     "execution_count": 57,
     "metadata": {},
     "output_type": "execute_result"
    }
   ],
   "source": [
    "cell_per_exp = cells_table.groupby('ophys_experiment_id').size()\n",
    "fig = plt.hist(cell_per_exp, bins=50)\n",
    "plt.xlabel('Cell count')\n",
    "plt.ylabel('Number of experiments')\n",
    "plt.show()\n",
    "cell_per_exp.describe()"
   ]
  },
  {
   "cell_type": "markdown",
   "id": "acbf3e5a",
   "metadata": {
    "papermill": {
     "duration": 0.098614,
     "end_time": "2023-07-19T22:27:19.412458",
     "exception": false,
     "start_time": "2023-07-19T22:27:19.313844",
     "status": "completed"
    },
    "tags": []
   },
   "source": [
    "Merge the cell counts into the ophys experiments table"
   ]
  },
  {
   "cell_type": "code",
   "execution_count": 58,
   "id": "d584bdac",
   "metadata": {
    "execution": {
     "iopub.execute_input": "2023-07-19T22:27:19.618804Z",
     "iopub.status.busy": "2023-07-19T22:27:19.618143Z",
     "iopub.status.idle": "2023-07-19T22:27:19.624287Z",
     "shell.execute_reply": "2023-07-19T22:27:19.623561Z"
    },
    "papermill": {
     "duration": 0.11267,
     "end_time": "2023-07-19T22:27:19.626010",
     "exception": false,
     "start_time": "2023-07-19T22:27:19.513340",
     "status": "completed"
    },
    "tags": []
   },
   "outputs": [],
   "source": [
    "ophys_experiments['n_cells'] = ophys_experiments.index.map(cell_per_exp)"
   ]
  },
  {
   "cell_type": "markdown",
   "id": "4b5272f7",
   "metadata": {
    "papermill": {
     "duration": 0.098313,
     "end_time": "2023-07-19T22:27:19.821535",
     "exception": false,
     "start_time": "2023-07-19T22:27:19.723222",
     "status": "completed"
    },
    "tags": []
   },
   "source": [
    "Now we can look at the cell count by depth, for example"
   ]
  },
  {
   "cell_type": "code",
   "execution_count": 59,
   "id": "85244312",
   "metadata": {
    "execution": {
     "iopub.execute_input": "2023-07-19T22:27:20.034323Z",
     "iopub.status.busy": "2023-07-19T22:27:20.033284Z",
     "iopub.status.idle": "2023-07-19T22:27:20.323219Z",
     "shell.execute_reply": "2023-07-19T22:27:20.322461Z"
    },
    "papermill": {
     "duration": 0.405494,
     "end_time": "2023-07-19T22:27:20.325156",
     "exception": false,
     "start_time": "2023-07-19T22:27:19.919662",
     "status": "completed"
    },
    "tags": []
   },
   "outputs": [
    {
     "data": {
      "image/png": "[encoded data removed]",
      "text/plain": [
       "<Figure size 3000x1000 with 1 Axes>"
      ]
     },
     "metadata": {},
     "output_type": "display_data"
    }
   ],
   "source": [
    "fig, ax = plt.subplots(figsize=(30, 10))\n",
    "ax.scatter(ophys_experiments['imaging_depth'], ophys_experiments['n_cells'], alpha=.3)\n",
    "ax.set_xlabel('Imaging depth (microns)')\n",
    "ax.set_ylabel('Cell count')\n",
    "plt.show()"
   ]
  },
  {
   "cell_type": "markdown",
   "id": "e84eb564",
   "metadata": {
    "papermill": {
     "duration": 0.109778,
     "end_time": "2023-07-19T22:27:20.548292",
     "exception": false,
     "start_time": "2023-07-19T22:27:20.438514",
     "status": "completed"
    },
    "tags": []
   },
   "source": [
    "Or by cre-line"
   ]
  },
  {
   "cell_type": "code",
   "execution_count": 60,
   "id": "864c2ee4",
   "metadata": {
    "execution": {
     "iopub.execute_input": "2023-07-19T22:27:20.752702Z",
     "iopub.status.busy": "2023-07-19T22:27:20.751641Z",
     "iopub.status.idle": "2023-07-19T22:27:20.969816Z",
     "shell.execute_reply": "2023-07-19T22:27:20.968910Z"
    },
    "papermill": {
     "duration": 0.321301,
     "end_time": "2023-07-19T22:27:20.971972",
     "exception": false,
     "start_time": "2023-07-19T22:27:20.650671",
     "status": "completed"
    },
    "tags": []
   },
   "outputs": [
    {
     "data": {
      "text/plain": [
       "<AxesSubplot:xlabel='n_cells', ylabel='cre_line'>"
      ]
     },
     "execution_count": 60,
     "metadata": {},
     "output_type": "execute_result"
    },
    {
     "data": {
      "image/png": "[encoded data removed]",
      "text/plain": [
       "<Figure size 640x480 with 1 Axes>"
      ]
     },
     "metadata": {},
     "output_type": "display_data"
    }
   ],
   "source": [
    "import seaborn as sns\n",
    "sns.boxplot(data=ophys_experiments, x='n_cells', y='cre_line')"
   ]
  }
 ],
 "metadata": {
  "interpreter": {
   "hash": "916dbcbb3f70747c44a77c7bcd40155683ae19c65e1c03b4aa3499c5328201f1"
  },
  "kernelspec": {
   "display_name": "Python 3 (ipykernel)",
   "language": "python",
   "name": "python3"
  },
  "language_info": {
   "codemirror_mode": {
    "name": "ipython",
    "version": 3
   },
   "file_extension": ".py",
   "mimetype": "text/x-python",
   "name": "python",
   "nbconvert_exporter": "python",
   "pygments_lexer": "ipython3",
   "version": "3.8.17"
  },
  "papermill": {
   "default_parameters": {},
   "duration": 218.936768,
   "end_time": "2023-07-19T22:27:21.806206",
   "environment_variables": {},
   "exception": null,
   "input_path": "doc_template/examples_root/examples/nb/visual_behavior_ophys_dataset_manifest.ipynb",
   "output_path": "/tmp/tmp6aiuh5rl/scratch_nb.ipynb",
   "parameters": {
    "output_dir": "/tmp/tmp6aiuh5rl",
    "resources_dir": "/home/runner/work/AllenSDK/AllenSDK/allensdk/internal/notebooks/resources"
   },
   "start_time": "2023-07-19T22:23:42.869438",
   "version": "2.4.0"
  }
 },
 "nbformat": 4,
 "nbformat_minor": 5
}
