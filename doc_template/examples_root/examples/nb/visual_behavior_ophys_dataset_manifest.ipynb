{
 "cells": [
  {
   "cell_type": "markdown",
   "id": "5851560d",
   "metadata": {
    "papermill": {
     "duration": 0.022475,
     "end_time": "2023-11-10T18:42:08.348945",
     "exception": false,
     "start_time": "2023-11-10T18:42:08.326470",
     "status": "completed"
    },
    "pycharm": {
     "name": "#%% md\n"
    },
    "tags": []
   },
   "source": [
    "# Identifying experiments and sessions of interest using the data manifest"
   ]
  },
  {
   "cell_type": "markdown",
   "id": "34c30ddc",
   "metadata": {
    "papermill": {
     "duration": 0.020607,
     "end_time": "2023-11-10T18:42:08.391212",
     "exception": false,
     "start_time": "2023-11-10T18:42:08.370605",
     "status": "completed"
    },
    "pycharm": {
     "name": "#%% md\n"
    },
    "tags": []
   },
   "source": [
    "This Jupyter notebook illustrates what data is available as part of the <b>Visual Behavior - 2P dataset</b>, and helps you to understand the experimental design and dimensions of the dataset. The notebook will demonstrate how to identify experiments and sessions that you may be interested in analyzing using the data manifests provided by the `VisualBehaviorOphysProjectCache`, and exploring the metadata columns that describe the experimental conditions including transgenic lines, targeted areas, imaging depths, microscopes that were used, session types, and dataset variants. \n",
    "\n",
    "We will first install allensdk into your environment by running the appropriate commands below. "
   ]
  },
  {
   "cell_type": "markdown",
   "id": "f5cf03c7",
   "metadata": {
    "papermill": {
     "duration": 0.020661,
     "end_time": "2023-11-10T18:42:08.432482",
     "exception": false,
     "start_time": "2023-11-10T18:42:08.411821",
     "status": "completed"
    },
    "pycharm": {
     "name": "#%% md\n"
    },
    "tags": []
   },
   "source": [
    "## Install AllenSDK into your local environment"
   ]
  },
  {
   "cell_type": "markdown",
   "id": "7910fadd",
   "metadata": {
    "papermill": {
     "duration": 0.021059,
     "end_time": "2023-11-10T18:42:08.474660",
     "exception": false,
     "start_time": "2023-11-10T18:42:08.453601",
     "status": "completed"
    },
    "pycharm": {
     "name": "#%% md\n"
    },
    "tags": []
   },
   "source": [
    "You can install AllenSDK locally with:"
   ]
  },
  {
   "cell_type": "code",
   "execution_count": 1,
   "id": "1823b226",
   "metadata": {
    "execution": {
     "iopub.execute_input": "2023-11-10T18:42:08.518596Z",
     "iopub.status.busy": "2023-11-10T18:42:08.518032Z",
     "iopub.status.idle": "2023-11-10T18:42:10.649037Z",
     "shell.execute_reply": "2023-11-10T18:42:10.648226Z"
    },
    "papermill": {
     "duration": 2.154891,
     "end_time": "2023-11-10T18:42:10.651189",
     "exception": false,
     "start_time": "2023-11-10T18:42:08.496298",
     "status": "completed"
    },
    "pycharm": {
     "name": "#%%\n"
    },
    "tags": []
   },
   "outputs": [
    {
     "name": "stdout",
     "output_type": "stream",
     "text": [
      "Requirement already satisfied: allensdk in /opt/hostedtoolcache/Python/3.8.18/x64/lib/python3.8/site-packages (2.16.1)\r\n",
      "Requirement already satisfied: psycopg2-binary in /opt/hostedtoolcache/Python/3.8.18/x64/lib/python3.8/site-packages (from allensdk) (2.9.9)\r\n",
      "Requirement already satisfied: hdmf!=3.5.*,!=3.6.*,!=3.7.*,!=3.8.* in /opt/hostedtoolcache/Python/3.8.18/x64/lib/python3.8/site-packages (from allensdk) (3.11.0)\r\n",
      "Requirement already satisfied: h5py in /opt/hostedtoolcache/Python/3.8.18/x64/lib/python3.8/site-packages (from allensdk) (3.10.0)\r\n",
      "Requirement already satisfied: matplotlib in /opt/hostedtoolcache/Python/3.8.18/x64/lib/python3.8/site-packages (from allensdk) (3.7.3)\r\n",
      "Requirement already satisfied: numpy<1.24 in /opt/hostedtoolcache/Python/3.8.18/x64/lib/python3.8/site-packages (from allensdk) (1.23.5)\r\n",
      "Requirement already satisfied: pandas==1.5.3 in /opt/hostedtoolcache/Python/3.8.18/x64/lib/python3.8/site-packages (from allensdk) (1.5.3)\r\n",
      "Requirement already satisfied: jinja2 in /opt/hostedtoolcache/Python/3.8.18/x64/lib/python3.8/site-packages (from allensdk) (3.1.2)\r\n",
      "Requirement already satisfied: scipy<1.11 in /opt/hostedtoolcache/Python/3.8.18/x64/lib/python3.8/site-packages (from allensdk) (1.10.1)\r\n",
      "Requirement already satisfied: six in /opt/hostedtoolcache/Python/3.8.18/x64/lib/python3.8/site-packages (from allensdk) (1.16.0)\r\n",
      "Requirement already satisfied: pynrrd in /opt/hostedtoolcache/Python/3.8.18/x64/lib/python3.8/site-packages (from allensdk) (1.0.0)\r\n",
      "Requirement already satisfied: future in /opt/hostedtoolcache/Python/3.8.18/x64/lib/python3.8/site-packages (from allensdk) (0.18.3)\r\n",
      "Requirement already satisfied: requests in /opt/hostedtoolcache/Python/3.8.18/x64/lib/python3.8/site-packages (from allensdk) (2.31.0)\r\n",
      "Requirement already satisfied: requests-toolbelt in /opt/hostedtoolcache/Python/3.8.18/x64/lib/python3.8/site-packages (from allensdk) (1.0.0)\r\n",
      "Requirement already satisfied: simplejson in /opt/hostedtoolcache/Python/3.8.18/x64/lib/python3.8/site-packages (from allensdk) (3.19.2)\r\n",
      "Requirement already satisfied: scikit-image in /opt/hostedtoolcache/Python/3.8.18/x64/lib/python3.8/site-packages (from allensdk) (0.21.0)\r\n",
      "Requirement already satisfied: scikit-build in /opt/hostedtoolcache/Python/3.8.18/x64/lib/python3.8/site-packages (from allensdk) (0.17.6)\r\n",
      "Requirement already satisfied: statsmodels in /opt/hostedtoolcache/Python/3.8.18/x64/lib/python3.8/site-packages (from allensdk) (0.14.0)\r\n",
      "Requirement already satisfied: simpleitk in /opt/hostedtoolcache/Python/3.8.18/x64/lib/python3.8/site-packages (from allensdk) (2.3.1)\r\n",
      "Requirement already satisfied: argschema in /opt/hostedtoolcache/Python/3.8.18/x64/lib/python3.8/site-packages (from allensdk) (3.0.4)\r\n",
      "Requirement already satisfied: glymur in /opt/hostedtoolcache/Python/3.8.18/x64/lib/python3.8/site-packages (from allensdk) (0.12.8)\r\n",
      "Requirement already satisfied: xarray<2023.2.0 in /opt/hostedtoolcache/Python/3.8.18/x64/lib/python3.8/site-packages (from allensdk) (2023.1.0)\r\n",
      "Requirement already satisfied: pynwb in /opt/hostedtoolcache/Python/3.8.18/x64/lib/python3.8/site-packages (from allensdk) (2.5.0)\r\n",
      "Requirement already satisfied: tables in /opt/hostedtoolcache/Python/3.8.18/x64/lib/python3.8/site-packages (from allensdk) (3.8.0)\r\n",
      "Requirement already satisfied: seaborn in /opt/hostedtoolcache/Python/3.8.18/x64/lib/python3.8/site-packages (from allensdk) (0.13.0)\r\n",
      "Requirement already satisfied: aiohttp in /opt/hostedtoolcache/Python/3.8.18/x64/lib/python3.8/site-packages (from allensdk) (3.8.6)\r\n",
      "Requirement already satisfied: nest-asyncio in /opt/hostedtoolcache/Python/3.8.18/x64/lib/python3.8/site-packages (from allensdk) (1.5.8)\r\n",
      "Requirement already satisfied: tqdm in /opt/hostedtoolcache/Python/3.8.18/x64/lib/python3.8/site-packages (from allensdk) (4.66.1)\r\n",
      "Requirement already satisfied: ndx-events in /opt/hostedtoolcache/Python/3.8.18/x64/lib/python3.8/site-packages (from allensdk) (0.2.0)\r\n",
      "Requirement already satisfied: boto3 in /opt/hostedtoolcache/Python/3.8.18/x64/lib/python3.8/site-packages (from allensdk) (1.28.83)\r\n",
      "Requirement already satisfied: semver in /opt/hostedtoolcache/Python/3.8.18/x64/lib/python3.8/site-packages (from allensdk) (3.0.2)\r\n",
      "Requirement already satisfied: cachetools in /opt/hostedtoolcache/Python/3.8.18/x64/lib/python3.8/site-packages (from allensdk) (5.3.2)\r\n",
      "Requirement already satisfied: sqlalchemy in /opt/hostedtoolcache/Python/3.8.18/x64/lib/python3.8/site-packages (from allensdk) (2.0.23)\r\n",
      "Requirement already satisfied: python-dateutil in /opt/hostedtoolcache/Python/3.8.18/x64/lib/python3.8/site-packages (from allensdk) (2.8.2)\r\n",
      "Requirement already satisfied: pytz>=2020.1 in /opt/hostedtoolcache/Python/3.8.18/x64/lib/python3.8/site-packages (from pandas==1.5.3->allensdk) (2023.3.post1)\r\n",
      "Requirement already satisfied: importlib-resources in /opt/hostedtoolcache/Python/3.8.18/x64/lib/python3.8/site-packages (from hdmf!=3.5.*,!=3.6.*,!=3.7.*,!=3.8.*->allensdk) (6.1.1)\r\n",
      "Requirement already satisfied: jsonschema>=2.6.0 in /opt/hostedtoolcache/Python/3.8.18/x64/lib/python3.8/site-packages (from hdmf!=3.5.*,!=3.6.*,!=3.7.*,!=3.8.*->allensdk) (4.19.2)\r\n",
      "Requirement already satisfied: ruamel-yaml>=0.16 in /opt/hostedtoolcache/Python/3.8.18/x64/lib/python3.8/site-packages (from hdmf!=3.5.*,!=3.6.*,!=3.7.*,!=3.8.*->allensdk) (0.18.5)\r\n",
      "Requirement already satisfied: packaging>=21.3 in /opt/hostedtoolcache/Python/3.8.18/x64/lib/python3.8/site-packages (from xarray<2023.2.0->allensdk) (23.2)\r\n",
      "Requirement already satisfied: attrs>=17.3.0 in /opt/hostedtoolcache/Python/3.8.18/x64/lib/python3.8/site-packages (from aiohttp->allensdk) (23.1.0)\r\n",
      "Requirement already satisfied: charset-normalizer<4.0,>=2.0 in /opt/hostedtoolcache/Python/3.8.18/x64/lib/python3.8/site-packages (from aiohttp->allensdk) (3.3.2)\r\n",
      "Requirement already satisfied: multidict<7.0,>=4.5 in /opt/hostedtoolcache/Python/3.8.18/x64/lib/python3.8/site-packages (from aiohttp->allensdk) (6.0.4)\r\n",
      "Requirement already satisfied: async-timeout<5.0,>=4.0.0a3 in /opt/hostedtoolcache/Python/3.8.18/x64/lib/python3.8/site-packages (from aiohttp->allensdk) (4.0.3)\r\n",
      "Requirement already satisfied: yarl<2.0,>=1.0 in /opt/hostedtoolcache/Python/3.8.18/x64/lib/python3.8/site-packages (from aiohttp->allensdk) (1.9.2)\r\n",
      "Requirement already satisfied: frozenlist>=1.1.1 in /opt/hostedtoolcache/Python/3.8.18/x64/lib/python3.8/site-packages (from aiohttp->allensdk) (1.4.0)\r\n",
      "Requirement already satisfied: aiosignal>=1.1.2 in /opt/hostedtoolcache/Python/3.8.18/x64/lib/python3.8/site-packages (from aiohttp->allensdk) (1.3.1)\r\n",
      "Requirement already satisfied: marshmallow<4.0,>=3.0.0 in /opt/hostedtoolcache/Python/3.8.18/x64/lib/python3.8/site-packages (from argschema->allensdk) (3.20.1)\r\n",
      "Requirement already satisfied: pyyaml in /opt/hostedtoolcache/Python/3.8.18/x64/lib/python3.8/site-packages (from argschema->allensdk) (6.0.1)\r\n",
      "Requirement already satisfied: botocore<1.32.0,>=1.31.83 in /opt/hostedtoolcache/Python/3.8.18/x64/lib/python3.8/site-packages (from boto3->allensdk) (1.31.83)\r\n",
      "Requirement already satisfied: jmespath<2.0.0,>=0.7.1 in /opt/hostedtoolcache/Python/3.8.18/x64/lib/python3.8/site-packages (from boto3->allensdk) (1.0.1)\r\n",
      "Requirement already satisfied: s3transfer<0.8.0,>=0.7.0 in /opt/hostedtoolcache/Python/3.8.18/x64/lib/python3.8/site-packages (from boto3->allensdk) (0.7.0)\r\n",
      "Requirement already satisfied: lxml in /opt/hostedtoolcache/Python/3.8.18/x64/lib/python3.8/site-packages (from glymur->allensdk) (4.9.3)\r\n",
      "Requirement already satisfied: MarkupSafe>=2.0 in /opt/hostedtoolcache/Python/3.8.18/x64/lib/python3.8/site-packages (from jinja2->allensdk) (2.1.3)\r\n",
      "Requirement already satisfied: contourpy>=1.0.1 in /opt/hostedtoolcache/Python/3.8.18/x64/lib/python3.8/site-packages (from matplotlib->allensdk) (1.1.1)\r\n",
      "Requirement already satisfied: cycler>=0.10 in /opt/hostedtoolcache/Python/3.8.18/x64/lib/python3.8/site-packages (from matplotlib->allensdk) (0.12.1)\r\n",
      "Requirement already satisfied: fonttools>=4.22.0 in /opt/hostedtoolcache/Python/3.8.18/x64/lib/python3.8/site-packages (from matplotlib->allensdk) (4.44.0)\r\n",
      "Requirement already satisfied: kiwisolver>=1.0.1 in /opt/hostedtoolcache/Python/3.8.18/x64/lib/python3.8/site-packages (from matplotlib->allensdk) (1.4.5)\r\n",
      "Requirement already satisfied: pillow>=6.2.0 in /opt/hostedtoolcache/Python/3.8.18/x64/lib/python3.8/site-packages (from matplotlib->allensdk) (10.0.1)\r\n",
      "Requirement already satisfied: pyparsing>=2.3.1 in /opt/hostedtoolcache/Python/3.8.18/x64/lib/python3.8/site-packages (from matplotlib->allensdk) (3.1.1)\r\n",
      "Requirement already satisfied: setuptools in /opt/hostedtoolcache/Python/3.8.18/x64/lib/python3.8/site-packages (from pynwb->allensdk) (56.0.0)\r\n",
      "Requirement already satisfied: nptyping in /opt/hostedtoolcache/Python/3.8.18/x64/lib/python3.8/site-packages (from pynrrd->allensdk) (2.5.0)\r\n",
      "Requirement already satisfied: typing-extensions in /opt/hostedtoolcache/Python/3.8.18/x64/lib/python3.8/site-packages (from pynrrd->allensdk) (4.8.0)\r\n",
      "Requirement already satisfied: idna<4,>=2.5 in /opt/hostedtoolcache/Python/3.8.18/x64/lib/python3.8/site-packages (from requests->allensdk) (3.4)\r\n",
      "Requirement already satisfied: urllib3<3,>=1.21.1 in /opt/hostedtoolcache/Python/3.8.18/x64/lib/python3.8/site-packages (from requests->allensdk) (1.26.18)\r\n",
      "Requirement already satisfied: certifi>=2017.4.17 in /opt/hostedtoolcache/Python/3.8.18/x64/lib/python3.8/site-packages (from requests->allensdk) (2023.7.22)\r\n",
      "Requirement already satisfied: distro in /opt/hostedtoolcache/Python/3.8.18/x64/lib/python3.8/site-packages (from scikit-build->allensdk) (1.8.0)\r\n",
      "Requirement already satisfied: tomli in /opt/hostedtoolcache/Python/3.8.18/x64/lib/python3.8/site-packages (from scikit-build->allensdk) (2.0.1)\r\n",
      "Requirement already satisfied: wheel>=0.32.0 in /opt/hostedtoolcache/Python/3.8.18/x64/lib/python3.8/site-packages (from scikit-build->allensdk) (0.41.3)\r\n",
      "Requirement already satisfied: networkx>=2.8 in /opt/hostedtoolcache/Python/3.8.18/x64/lib/python3.8/site-packages (from scikit-image->allensdk) (3.1)\r\n",
      "Requirement already satisfied: imageio>=2.27 in /opt/hostedtoolcache/Python/3.8.18/x64/lib/python3.8/site-packages (from scikit-image->allensdk) (2.32.0)\r\n",
      "Requirement already satisfied: tifffile>=2022.8.12 in /opt/hostedtoolcache/Python/3.8.18/x64/lib/python3.8/site-packages (from scikit-image->allensdk) (2023.7.10)\r\n",
      "Requirement already satisfied: PyWavelets>=1.1.1 in /opt/hostedtoolcache/Python/3.8.18/x64/lib/python3.8/site-packages (from scikit-image->allensdk) (1.4.1)\r\n",
      "Requirement already satisfied: lazy_loader>=0.2 in /opt/hostedtoolcache/Python/3.8.18/x64/lib/python3.8/site-packages (from scikit-image->allensdk) (0.3)\r\n",
      "Requirement already satisfied: greenlet!=0.4.17 in /opt/hostedtoolcache/Python/3.8.18/x64/lib/python3.8/site-packages (from sqlalchemy->allensdk) (3.0.1)\r\n",
      "Requirement already satisfied: patsy>=0.5.2 in /opt/hostedtoolcache/Python/3.8.18/x64/lib/python3.8/site-packages (from statsmodels->allensdk) (0.5.3)\r\n",
      "Requirement already satisfied: cython>=0.29.21 in /opt/hostedtoolcache/Python/3.8.18/x64/lib/python3.8/site-packages (from tables->allensdk) (3.0.5)\r\n",
      "Requirement already satisfied: numexpr>=2.6.2 in /opt/hostedtoolcache/Python/3.8.18/x64/lib/python3.8/site-packages (from tables->allensdk) (2.8.6)\r\n",
      "Requirement already satisfied: blosc2~=2.0.0 in /opt/hostedtoolcache/Python/3.8.18/x64/lib/python3.8/site-packages (from tables->allensdk) (2.0.0)\r\n",
      "Requirement already satisfied: py-cpuinfo in /opt/hostedtoolcache/Python/3.8.18/x64/lib/python3.8/site-packages (from tables->allensdk) (9.0.0)\r\n",
      "Requirement already satisfied: msgpack in /opt/hostedtoolcache/Python/3.8.18/x64/lib/python3.8/site-packages (from blosc2~=2.0.0->tables->allensdk) (1.0.7)\r\n",
      "Requirement already satisfied: zipp>=3.1.0 in /opt/hostedtoolcache/Python/3.8.18/x64/lib/python3.8/site-packages (from importlib-resources->hdmf!=3.5.*,!=3.6.*,!=3.7.*,!=3.8.*->allensdk) (3.17.0)\r\n",
      "Requirement already satisfied: jsonschema-specifications>=2023.03.6 in /opt/hostedtoolcache/Python/3.8.18/x64/lib/python3.8/site-packages (from jsonschema>=2.6.0->hdmf!=3.5.*,!=3.6.*,!=3.7.*,!=3.8.*->allensdk) (2023.7.1)\r\n",
      "Requirement already satisfied: pkgutil-resolve-name>=1.3.10 in /opt/hostedtoolcache/Python/3.8.18/x64/lib/python3.8/site-packages (from jsonschema>=2.6.0->hdmf!=3.5.*,!=3.6.*,!=3.7.*,!=3.8.*->allensdk) (1.3.10)\r\n",
      "Requirement already satisfied: referencing>=0.28.4 in /opt/hostedtoolcache/Python/3.8.18/x64/lib/python3.8/site-packages (from jsonschema>=2.6.0->hdmf!=3.5.*,!=3.6.*,!=3.7.*,!=3.8.*->allensdk) (0.30.2)\r\n",
      "Requirement already satisfied: rpds-py>=0.7.1 in /opt/hostedtoolcache/Python/3.8.18/x64/lib/python3.8/site-packages (from jsonschema>=2.6.0->hdmf!=3.5.*,!=3.6.*,!=3.7.*,!=3.8.*->allensdk) (0.12.0)\r\n",
      "Requirement already satisfied: ruamel.yaml.clib>=0.2.7 in /opt/hostedtoolcache/Python/3.8.18/x64/lib/python3.8/site-packages (from ruamel-yaml>=0.16->hdmf!=3.5.*,!=3.6.*,!=3.7.*,!=3.8.*->allensdk) (0.2.8)\r\n"
     ]
    }
   ],
   "source": [
    "!pip install allensdk"
   ]
  },
  {
   "cell_type": "markdown",
   "id": "558d41de",
   "metadata": {
    "papermill": {
     "duration": 0.02275,
     "end_time": "2023-11-10T18:42:10.696728",
     "exception": false,
     "start_time": "2023-11-10T18:42:10.673978",
     "status": "completed"
    },
    "pycharm": {
     "name": "#%% md\n"
    },
    "tags": []
   },
   "source": [
    "## Install AllenSDK into your notebook environment (good for Google Colab)"
   ]
  },
  {
   "cell_type": "markdown",
   "id": "a5394404",
   "metadata": {
    "papermill": {
     "duration": 0.022501,
     "end_time": "2023-11-10T18:42:10.741939",
     "exception": false,
     "start_time": "2023-11-10T18:42:10.719438",
     "status": "completed"
    },
    "pycharm": {
     "name": "#%% md\n"
    },
    "tags": []
   },
   "source": [
    "You can install AllenSDK into your notebook environment by executing the cell below.\n",
    "\n",
    "If using Google Colab, click on the RESTART RUNTIME button that appears at the end of the output when this cell is complete,. Note that running this cell will produce a long list of outputs and some error messages. Clicking RESTART RUNTIME at the end will resolve these issues.\n",
    "You can minimize the cell after you are done to hide the output."
   ]
  },
  {
   "cell_type": "code",
   "execution_count": 2,
   "id": "fdc24a64",
   "metadata": {
    "execution": {
     "iopub.execute_input": "2023-11-10T18:42:10.829705Z",
     "iopub.status.busy": "2023-11-10T18:42:10.829216Z",
     "iopub.status.idle": "2023-11-10T18:42:14.981548Z",
     "shell.execute_reply": "2023-11-10T18:42:14.980698Z"
    },
    "papermill": {
     "duration": 4.219536,
     "end_time": "2023-11-10T18:42:14.983599",
     "exception": false,
     "start_time": "2023-11-10T18:42:10.764063",
     "status": "completed"
    },
    "pycharm": {
     "name": "#%%\n"
    },
    "tags": []
   },
   "outputs": [
    {
     "name": "stdout",
     "output_type": "stream",
     "text": [
      "Requirement already satisfied: pip in /opt/hostedtoolcache/Python/3.8.18/x64/lib/python3.8/site-packages (23.3.1)\r\n",
      "Requirement already satisfied: allensdk in /opt/hostedtoolcache/Python/3.8.18/x64/lib/python3.8/site-packages (2.16.1)\r\n",
      "Requirement already satisfied: psycopg2-binary in /opt/hostedtoolcache/Python/3.8.18/x64/lib/python3.8/site-packages (from allensdk) (2.9.9)\r\n",
      "Requirement already satisfied: hdmf!=3.5.*,!=3.6.*,!=3.7.*,!=3.8.* in /opt/hostedtoolcache/Python/3.8.18/x64/lib/python3.8/site-packages (from allensdk) (3.11.0)\r\n",
      "Requirement already satisfied: h5py in /opt/hostedtoolcache/Python/3.8.18/x64/lib/python3.8/site-packages (from allensdk) (3.10.0)\r\n",
      "Requirement already satisfied: matplotlib in /opt/hostedtoolcache/Python/3.8.18/x64/lib/python3.8/site-packages (from allensdk) (3.7.3)\r\n",
      "Requirement already satisfied: numpy<1.24 in /opt/hostedtoolcache/Python/3.8.18/x64/lib/python3.8/site-packages (from allensdk) (1.23.5)\r\n",
      "Requirement already satisfied: pandas==1.5.3 in /opt/hostedtoolcache/Python/3.8.18/x64/lib/python3.8/site-packages (from allensdk) (1.5.3)\r\n",
      "Requirement already satisfied: jinja2 in /opt/hostedtoolcache/Python/3.8.18/x64/lib/python3.8/site-packages (from allensdk) (3.1.2)\r\n",
      "Requirement already satisfied: scipy<1.11 in /opt/hostedtoolcache/Python/3.8.18/x64/lib/python3.8/site-packages (from allensdk) (1.10.1)\r\n",
      "Requirement already satisfied: six in /opt/hostedtoolcache/Python/3.8.18/x64/lib/python3.8/site-packages (from allensdk) (1.16.0)\r\n",
      "Requirement already satisfied: pynrrd in /opt/hostedtoolcache/Python/3.8.18/x64/lib/python3.8/site-packages (from allensdk) (1.0.0)\r\n",
      "Requirement already satisfied: future in /opt/hostedtoolcache/Python/3.8.18/x64/lib/python3.8/site-packages (from allensdk) (0.18.3)\r\n",
      "Requirement already satisfied: requests in /opt/hostedtoolcache/Python/3.8.18/x64/lib/python3.8/site-packages (from allensdk) (2.31.0)\r\n",
      "Requirement already satisfied: requests-toolbelt in /opt/hostedtoolcache/Python/3.8.18/x64/lib/python3.8/site-packages (from allensdk) (1.0.0)\r\n",
      "Requirement already satisfied: simplejson in /opt/hostedtoolcache/Python/3.8.18/x64/lib/python3.8/site-packages (from allensdk) (3.19.2)\r\n",
      "Requirement already satisfied: scikit-image in /opt/hostedtoolcache/Python/3.8.18/x64/lib/python3.8/site-packages (from allensdk) (0.21.0)\r\n",
      "Requirement already satisfied: scikit-build in /opt/hostedtoolcache/Python/3.8.18/x64/lib/python3.8/site-packages (from allensdk) (0.17.6)\r\n",
      "Requirement already satisfied: statsmodels in /opt/hostedtoolcache/Python/3.8.18/x64/lib/python3.8/site-packages (from allensdk) (0.14.0)\r\n",
      "Requirement already satisfied: simpleitk in /opt/hostedtoolcache/Python/3.8.18/x64/lib/python3.8/site-packages (from allensdk) (2.3.1)\r\n",
      "Requirement already satisfied: argschema in /opt/hostedtoolcache/Python/3.8.18/x64/lib/python3.8/site-packages (from allensdk) (3.0.4)\r\n",
      "Requirement already satisfied: glymur in /opt/hostedtoolcache/Python/3.8.18/x64/lib/python3.8/site-packages (from allensdk) (0.12.8)\r\n",
      "Requirement already satisfied: xarray<2023.2.0 in /opt/hostedtoolcache/Python/3.8.18/x64/lib/python3.8/site-packages (from allensdk) (2023.1.0)\r\n",
      "Requirement already satisfied: pynwb in /opt/hostedtoolcache/Python/3.8.18/x64/lib/python3.8/site-packages (from allensdk) (2.5.0)\r\n",
      "Requirement already satisfied: tables in /opt/hostedtoolcache/Python/3.8.18/x64/lib/python3.8/site-packages (from allensdk) (3.8.0)\r\n",
      "Requirement already satisfied: seaborn in /opt/hostedtoolcache/Python/3.8.18/x64/lib/python3.8/site-packages (from allensdk) (0.13.0)\r\n",
      "Requirement already satisfied: aiohttp in /opt/hostedtoolcache/Python/3.8.18/x64/lib/python3.8/site-packages (from allensdk) (3.8.6)\r\n",
      "Requirement already satisfied: nest-asyncio in /opt/hostedtoolcache/Python/3.8.18/x64/lib/python3.8/site-packages (from allensdk) (1.5.8)\r\n",
      "Requirement already satisfied: tqdm in /opt/hostedtoolcache/Python/3.8.18/x64/lib/python3.8/site-packages (from allensdk) (4.66.1)\r\n",
      "Requirement already satisfied: ndx-events in /opt/hostedtoolcache/Python/3.8.18/x64/lib/python3.8/site-packages (from allensdk) (0.2.0)\r\n",
      "Requirement already satisfied: boto3 in /opt/hostedtoolcache/Python/3.8.18/x64/lib/python3.8/site-packages (from allensdk) (1.28.83)\r\n",
      "Requirement already satisfied: semver in /opt/hostedtoolcache/Python/3.8.18/x64/lib/python3.8/site-packages (from allensdk) (3.0.2)\r\n",
      "Requirement already satisfied: cachetools in /opt/hostedtoolcache/Python/3.8.18/x64/lib/python3.8/site-packages (from allensdk) (5.3.2)\r\n",
      "Requirement already satisfied: sqlalchemy in /opt/hostedtoolcache/Python/3.8.18/x64/lib/python3.8/site-packages (from allensdk) (2.0.23)\r\n",
      "Requirement already satisfied: python-dateutil in /opt/hostedtoolcache/Python/3.8.18/x64/lib/python3.8/site-packages (from allensdk) (2.8.2)\r\n",
      "Requirement already satisfied: pytz>=2020.1 in /opt/hostedtoolcache/Python/3.8.18/x64/lib/python3.8/site-packages (from pandas==1.5.3->allensdk) (2023.3.post1)\r\n",
      "Requirement already satisfied: importlib-resources in /opt/hostedtoolcache/Python/3.8.18/x64/lib/python3.8/site-packages (from hdmf!=3.5.*,!=3.6.*,!=3.7.*,!=3.8.*->allensdk) (6.1.1)\r\n",
      "Requirement already satisfied: jsonschema>=2.6.0 in /opt/hostedtoolcache/Python/3.8.18/x64/lib/python3.8/site-packages (from hdmf!=3.5.*,!=3.6.*,!=3.7.*,!=3.8.*->allensdk) (4.19.2)\r\n",
      "Requirement already satisfied: ruamel-yaml>=0.16 in /opt/hostedtoolcache/Python/3.8.18/x64/lib/python3.8/site-packages (from hdmf!=3.5.*,!=3.6.*,!=3.7.*,!=3.8.*->allensdk) (0.18.5)\r\n",
      "Requirement already satisfied: packaging>=21.3 in /opt/hostedtoolcache/Python/3.8.18/x64/lib/python3.8/site-packages (from xarray<2023.2.0->allensdk) (23.2)\r\n",
      "Requirement already satisfied: attrs>=17.3.0 in /opt/hostedtoolcache/Python/3.8.18/x64/lib/python3.8/site-packages (from aiohttp->allensdk) (23.1.0)\r\n",
      "Requirement already satisfied: charset-normalizer<4.0,>=2.0 in /opt/hostedtoolcache/Python/3.8.18/x64/lib/python3.8/site-packages (from aiohttp->allensdk) (3.3.2)\r\n",
      "Requirement already satisfied: multidict<7.0,>=4.5 in /opt/hostedtoolcache/Python/3.8.18/x64/lib/python3.8/site-packages (from aiohttp->allensdk) (6.0.4)\r\n",
      "Requirement already satisfied: async-timeout<5.0,>=4.0.0a3 in /opt/hostedtoolcache/Python/3.8.18/x64/lib/python3.8/site-packages (from aiohttp->allensdk) (4.0.3)\r\n",
      "Requirement already satisfied: yarl<2.0,>=1.0 in /opt/hostedtoolcache/Python/3.8.18/x64/lib/python3.8/site-packages (from aiohttp->allensdk) (1.9.2)\r\n",
      "Requirement already satisfied: frozenlist>=1.1.1 in /opt/hostedtoolcache/Python/3.8.18/x64/lib/python3.8/site-packages (from aiohttp->allensdk) (1.4.0)\r\n",
      "Requirement already satisfied: aiosignal>=1.1.2 in /opt/hostedtoolcache/Python/3.8.18/x64/lib/python3.8/site-packages (from aiohttp->allensdk) (1.3.1)\r\n",
      "Requirement already satisfied: marshmallow<4.0,>=3.0.0 in /opt/hostedtoolcache/Python/3.8.18/x64/lib/python3.8/site-packages (from argschema->allensdk) (3.20.1)\r\n",
      "Requirement already satisfied: pyyaml in /opt/hostedtoolcache/Python/3.8.18/x64/lib/python3.8/site-packages (from argschema->allensdk) (6.0.1)\r\n",
      "Requirement already satisfied: botocore<1.32.0,>=1.31.83 in /opt/hostedtoolcache/Python/3.8.18/x64/lib/python3.8/site-packages (from boto3->allensdk) (1.31.83)\r\n",
      "Requirement already satisfied: jmespath<2.0.0,>=0.7.1 in /opt/hostedtoolcache/Python/3.8.18/x64/lib/python3.8/site-packages (from boto3->allensdk) (1.0.1)\r\n",
      "Requirement already satisfied: s3transfer<0.8.0,>=0.7.0 in /opt/hostedtoolcache/Python/3.8.18/x64/lib/python3.8/site-packages (from boto3->allensdk) (0.7.0)\r\n",
      "Requirement already satisfied: lxml in /opt/hostedtoolcache/Python/3.8.18/x64/lib/python3.8/site-packages (from glymur->allensdk) (4.9.3)\r\n",
      "Requirement already satisfied: MarkupSafe>=2.0 in /opt/hostedtoolcache/Python/3.8.18/x64/lib/python3.8/site-packages (from jinja2->allensdk) (2.1.3)\r\n",
      "Requirement already satisfied: contourpy>=1.0.1 in /opt/hostedtoolcache/Python/3.8.18/x64/lib/python3.8/site-packages (from matplotlib->allensdk) (1.1.1)\r\n",
      "Requirement already satisfied: cycler>=0.10 in /opt/hostedtoolcache/Python/3.8.18/x64/lib/python3.8/site-packages (from matplotlib->allensdk) (0.12.1)\r\n",
      "Requirement already satisfied: fonttools>=4.22.0 in /opt/hostedtoolcache/Python/3.8.18/x64/lib/python3.8/site-packages (from matplotlib->allensdk) (4.44.0)\r\n",
      "Requirement already satisfied: kiwisolver>=1.0.1 in /opt/hostedtoolcache/Python/3.8.18/x64/lib/python3.8/site-packages (from matplotlib->allensdk) (1.4.5)\r\n",
      "Requirement already satisfied: pillow>=6.2.0 in /opt/hostedtoolcache/Python/3.8.18/x64/lib/python3.8/site-packages (from matplotlib->allensdk) (10.0.1)\r\n",
      "Requirement already satisfied: pyparsing>=2.3.1 in /opt/hostedtoolcache/Python/3.8.18/x64/lib/python3.8/site-packages (from matplotlib->allensdk) (3.1.1)\r\n",
      "Requirement already satisfied: setuptools in /opt/hostedtoolcache/Python/3.8.18/x64/lib/python3.8/site-packages (from pynwb->allensdk) (56.0.0)\r\n",
      "Requirement already satisfied: nptyping in /opt/hostedtoolcache/Python/3.8.18/x64/lib/python3.8/site-packages (from pynrrd->allensdk) (2.5.0)\r\n",
      "Requirement already satisfied: typing-extensions in /opt/hostedtoolcache/Python/3.8.18/x64/lib/python3.8/site-packages (from pynrrd->allensdk) (4.8.0)\r\n",
      "Requirement already satisfied: idna<4,>=2.5 in /opt/hostedtoolcache/Python/3.8.18/x64/lib/python3.8/site-packages (from requests->allensdk) (3.4)\r\n",
      "Requirement already satisfied: urllib3<3,>=1.21.1 in /opt/hostedtoolcache/Python/3.8.18/x64/lib/python3.8/site-packages (from requests->allensdk) (1.26.18)\r\n",
      "Requirement already satisfied: certifi>=2017.4.17 in /opt/hostedtoolcache/Python/3.8.18/x64/lib/python3.8/site-packages (from requests->allensdk) (2023.7.22)\r\n",
      "Requirement already satisfied: distro in /opt/hostedtoolcache/Python/3.8.18/x64/lib/python3.8/site-packages (from scikit-build->allensdk) (1.8.0)\r\n",
      "Requirement already satisfied: tomli in /opt/hostedtoolcache/Python/3.8.18/x64/lib/python3.8/site-packages (from scikit-build->allensdk) (2.0.1)\r\n",
      "Requirement already satisfied: wheel>=0.32.0 in /opt/hostedtoolcache/Python/3.8.18/x64/lib/python3.8/site-packages (from scikit-build->allensdk) (0.41.3)\r\n",
      "Requirement already satisfied: networkx>=2.8 in /opt/hostedtoolcache/Python/3.8.18/x64/lib/python3.8/site-packages (from scikit-image->allensdk) (3.1)\r\n",
      "Requirement already satisfied: imageio>=2.27 in /opt/hostedtoolcache/Python/3.8.18/x64/lib/python3.8/site-packages (from scikit-image->allensdk) (2.32.0)\r\n",
      "Requirement already satisfied: tifffile>=2022.8.12 in /opt/hostedtoolcache/Python/3.8.18/x64/lib/python3.8/site-packages (from scikit-image->allensdk) (2023.7.10)\r\n",
      "Requirement already satisfied: PyWavelets>=1.1.1 in /opt/hostedtoolcache/Python/3.8.18/x64/lib/python3.8/site-packages (from scikit-image->allensdk) (1.4.1)\r\n",
      "Requirement already satisfied: lazy_loader>=0.2 in /opt/hostedtoolcache/Python/3.8.18/x64/lib/python3.8/site-packages (from scikit-image->allensdk) (0.3)\r\n",
      "Requirement already satisfied: greenlet!=0.4.17 in /opt/hostedtoolcache/Python/3.8.18/x64/lib/python3.8/site-packages (from sqlalchemy->allensdk) (3.0.1)\r\n",
      "Requirement already satisfied: patsy>=0.5.2 in /opt/hostedtoolcache/Python/3.8.18/x64/lib/python3.8/site-packages (from statsmodels->allensdk) (0.5.3)\r\n",
      "Requirement already satisfied: cython>=0.29.21 in /opt/hostedtoolcache/Python/3.8.18/x64/lib/python3.8/site-packages (from tables->allensdk) (3.0.5)\r\n",
      "Requirement already satisfied: numexpr>=2.6.2 in /opt/hostedtoolcache/Python/3.8.18/x64/lib/python3.8/site-packages (from tables->allensdk) (2.8.6)\r\n",
      "Requirement already satisfied: blosc2~=2.0.0 in /opt/hostedtoolcache/Python/3.8.18/x64/lib/python3.8/site-packages (from tables->allensdk) (2.0.0)\r\n",
      "Requirement already satisfied: py-cpuinfo in /opt/hostedtoolcache/Python/3.8.18/x64/lib/python3.8/site-packages (from tables->allensdk) (9.0.0)\r\n",
      "Requirement already satisfied: msgpack in /opt/hostedtoolcache/Python/3.8.18/x64/lib/python3.8/site-packages (from blosc2~=2.0.0->tables->allensdk) (1.0.7)\r\n",
      "Requirement already satisfied: zipp>=3.1.0 in /opt/hostedtoolcache/Python/3.8.18/x64/lib/python3.8/site-packages (from importlib-resources->hdmf!=3.5.*,!=3.6.*,!=3.7.*,!=3.8.*->allensdk) (3.17.0)\r\n",
      "Requirement already satisfied: jsonschema-specifications>=2023.03.6 in /opt/hostedtoolcache/Python/3.8.18/x64/lib/python3.8/site-packages (from jsonschema>=2.6.0->hdmf!=3.5.*,!=3.6.*,!=3.7.*,!=3.8.*->allensdk) (2023.7.1)\r\n",
      "Requirement already satisfied: pkgutil-resolve-name>=1.3.10 in /opt/hostedtoolcache/Python/3.8.18/x64/lib/python3.8/site-packages (from jsonschema>=2.6.0->hdmf!=3.5.*,!=3.6.*,!=3.7.*,!=3.8.*->allensdk) (1.3.10)\r\n",
      "Requirement already satisfied: referencing>=0.28.4 in /opt/hostedtoolcache/Python/3.8.18/x64/lib/python3.8/site-packages (from jsonschema>=2.6.0->hdmf!=3.5.*,!=3.6.*,!=3.7.*,!=3.8.*->allensdk) (0.30.2)\r\n",
      "Requirement already satisfied: rpds-py>=0.7.1 in /opt/hostedtoolcache/Python/3.8.18/x64/lib/python3.8/site-packages (from jsonschema>=2.6.0->hdmf!=3.5.*,!=3.6.*,!=3.7.*,!=3.8.*->allensdk) (0.12.0)\r\n",
      "Requirement already satisfied: ruamel.yaml.clib>=0.2.7 in /opt/hostedtoolcache/Python/3.8.18/x64/lib/python3.8/site-packages (from ruamel-yaml>=0.16->hdmf!=3.5.*,!=3.6.*,!=3.7.*,!=3.8.*->allensdk) (0.2.8)\r\n"
     ]
    }
   ],
   "source": [
    "!pip install --upgrade pip\n",
    "!pip install allensdk"
   ]
  },
  {
   "cell_type": "markdown",
   "id": "d26db20b",
   "metadata": {
    "papermill": {
     "duration": 0.024354,
     "end_time": "2023-11-10T18:42:15.032232",
     "exception": false,
     "start_time": "2023-11-10T18:42:15.007878",
     "status": "completed"
    },
    "pycharm": {
     "name": "#%% md\n"
    },
    "tags": []
   },
   "source": [
    "## Import necessary packages"
   ]
  },
  {
   "cell_type": "code",
   "execution_count": 3,
   "id": "61cecf93",
   "metadata": {
    "execution": {
     "iopub.execute_input": "2023-11-10T18:42:15.081690Z",
     "iopub.status.busy": "2023-11-10T18:42:15.081400Z",
     "iopub.status.idle": "2023-11-10T18:42:19.790934Z",
     "shell.execute_reply": "2023-11-10T18:42:19.790248Z"
    },
    "papermill": {
     "duration": 4.736098,
     "end_time": "2023-11-10T18:42:19.792578",
     "exception": false,
     "start_time": "2023-11-10T18:42:15.056480",
     "status": "completed"
    },
    "pycharm": {
     "is_executing": true,
     "name": "#%%\n"
    },
    "tags": []
   },
   "outputs": [
    {
     "name": "stderr",
     "output_type": "stream",
     "text": [
      "/opt/hostedtoolcache/Python/3.8.18/x64/lib/python3.8/site-packages/tqdm/auto.py:21: TqdmWarning: IProgress not found. Please update jupyter and ipywidgets. See https://ipywidgets.readthedocs.io/en/stable/user_install.html\n",
      "  from .autonotebook import tqdm as notebook_tqdm\n"
     ]
    }
   ],
   "source": [
    "import numpy as np\n",
    "\n",
    "from allensdk.brain_observatory.behavior.behavior_project_cache import VisualBehaviorOphysProjectCache"
   ]
  },
  {
   "cell_type": "markdown",
   "id": "4bb898d4",
   "metadata": {
    "papermill": {
     "duration": 0.021952,
     "end_time": "2023-11-10T18:42:19.837458",
     "exception": false,
     "start_time": "2023-11-10T18:42:19.815506",
     "status": "completed"
    },
    "pycharm": {
     "name": "#%% md\n"
    },
    "tags": []
   },
   "source": [
    "## First, load the project cache - your access point for all tables and data"
   ]
  },
  {
   "cell_type": "code",
   "execution_count": 4,
   "id": "003ddb42",
   "metadata": {
    "execution": {
     "iopub.execute_input": "2023-11-10T18:42:19.883595Z",
     "iopub.status.busy": "2023-11-10T18:42:19.882867Z",
     "iopub.status.idle": "2023-11-10T18:42:19.886393Z",
     "shell.execute_reply": "2023-11-10T18:42:19.885731Z"
    },
    "papermill": {
     "duration": 0.028079,
     "end_time": "2023-11-10T18:42:19.887660",
     "exception": false,
     "start_time": "2023-11-10T18:42:19.859581",
     "status": "completed"
    },
    "pycharm": {
     "name": "#%%\n"
    },
    "tags": [
     "parameters"
    ]
   },
   "outputs": [],
   "source": [
    "# Update this to a valid directory in your filesystem\n",
    "output_dir = r\"\\Data\\visual_behavior_ophys_cache_dir\""
   ]
  },
  {
   "cell_type": "code",
   "execution_count": 6,
   "id": "f0b38233",
   "metadata": {
    "execution": {
     "iopub.execute_input": "2023-11-10T18:42:19.983958Z",
     "iopub.status.busy": "2023-11-10T18:42:19.983465Z",
     "iopub.status.idle": "2023-11-10T18:42:22.981371Z",
     "shell.execute_reply": "2023-11-10T18:42:22.980642Z"
    },
    "papermill": {
     "duration": 3.022829,
     "end_time": "2023-11-10T18:42:22.982782",
     "exception": false,
     "start_time": "2023-11-10T18:42:19.959953",
     "status": "completed"
    },
    "pycharm": {
     "name": "#%%\n"
    },
    "tags": []
   },
   "outputs": [
    {
     "name": "stderr",
     "output_type": "stream",
     "text": [
      "/home/runner/work/AllenSDK/AllenSDK/allensdk/api/cloud_cache/cloud_cache.py:439: MissingLocalManifestWarning: This cache directory appears to contain data files, but it has no record of what those files are. You might want to consider running\n",
      "\n",
      "VisualBehaviorOphysProjectCache.construct_local_manifest()\n",
      "\n",
      "to avoid needlessly downloading duplicates of data files that did not change between data releases. NOTE: running this method will require hashing every data file you have currently downloaded and could be very time consuming.\n",
      "\n",
      "To avoid this warning in the future, make sure that\n",
      "\n",
      "/tmp/tmpg3xu9ihh/_downloaded_data.json\n",
      "\n",
      "is not deleted between instantiations of this cache\n",
      "  warnings.warn(msg, MissingLocalManifestWarning)\n",
      "ophys_session_table.csv: 100%|██████████| 247k/247k [00:00<00:00, 1.75MMB/s] \n",
      "behavior_session_table.csv: 100%|██████████| 1.59M/1.59M [00:00<00:00, 7.26MMB/s]\n",
      "ophys_experiment_table.csv: 100%|██████████| 657k/657k [00:00<00:00, 3.11MMB/s] \n",
      "ophys_cells_table.csv: 100%|██████████| 4.28M/4.28M [00:00<00:00, 11.7MMB/s]\n",
      "/home/runner/work/AllenSDK/AllenSDK/allensdk/brain_observatory/behavior/behavior_project_cache/behavior_project_cache.py:135: UpdatedStimulusPresentationTableWarning: \n",
      "\tAs of AllenSDK version 2.16.0, the latest Visual Behavior Ophys data has been significantly updated from previous releases. Specifically the user will need to update all processing of the stimulus_presentations tables. These tables now include multiple stimulus types delineated by the columns `stimulus_block` and `stimulus_block_name`.\n",
      "\n",
      "The data that was available in previous releases are stored in the block name containing 'change_detection' and can be accessed in the pandas table by using: \n",
      "\t`stimulus_presentations[stimulus_presentations.stimulus_block_name.str.contains('change_detection')]`\n",
      "  warnings.warn(\n"
     ]
    }
   ],
   "source": [
    "cache = VisualBehaviorOphysProjectCache.from_s3_cache(cache_dir=output_dir)"
   ]
  },
  {
   "cell_type": "markdown",
   "id": "358b9ca2",
   "metadata": {
    "papermill": {
     "duration": 0.023558,
     "end_time": "2023-11-10T18:42:23.030653",
     "exception": false,
     "start_time": "2023-11-10T18:42:23.007095",
     "status": "completed"
    },
    "pycharm": {
     "name": "#%% md\n"
    },
    "tags": []
   },
   "source": [
    "The data manifest is comprised of three types of tables: \n",
    "\n",
    "1. `behavior_session_table` \n",
    "2. `ophys_session_table` \n",
    "3. `ophys_experiment_table` \n",
    "\n",
    "The `behavior_session_table` contains metadata for every <b>behavior session</b> in the dataset. Some behavior sessions have 2-photon data associated with them, while others took place during training in the behavior facility. The different training stages that mice are progressed through are described by the `session_type`. \n",
    "\n",
    "The `ophys_session_table` contains metadata for every 2-photon imaging (aka optical physiology, or ophys) session in the dataset, associated with a unique `ophys_session_id`. An <b>ophys session</b> is one continuous recording session under the microscope, and can contain different numbers of imaging planes (aka experiments) depending on which microscope was used. For Scientifica sessions, there will only be one experiment (aka imaging plane) per session. For Multiscope sessions, there can be up to eight imaging planes per session. Quality Control (QC) is performed on each individual imaging plane within a session, so each can fail QC independent of the others. This means that a Multiscope session may not have exactly eight experiments (imaging planes). \n",
    "\n",
    "The `ophys_experiment_table` contains metadata for every <b>ophys experiment</b> in the dataset, which corresponds to a single imaging plane recorded in a single session, and associated with a unique `ophys_experiment_id`. A key part of our experimental design is targeting a given population of neurons, contained in one imaging plane, across multiple `session_types` (further described below) to examine the impact of varying sensory and behavioral conditions on single cell responses. The collection of all imaging sessions for a given imaging plane is referred to as an <b>ophys container</b>, associated with a unique `ophys_container_id`. Each ophys container may contain different numbers of sessions, depending on which experiments passed QC, and how many retakes occured (when a given `session_type` fails QC on the first try, an attempt is made to re-acquire the session_type on a different recording day - this is called a retake, also described further below). "
   ]
  },
  {
   "cell_type": "markdown",
   "id": "745f2f80",
   "metadata": {
    "papermill": {
     "duration": 0.023288,
     "end_time": "2023-11-10T18:42:23.077055",
     "exception": false,
     "start_time": "2023-11-10T18:42:23.053767",
     "status": "completed"
    },
    "pycharm": {
     "name": "#%% md\n"
    },
    "tags": []
   },
   "source": [
    "### To understand the difference between an `ophys_experiment`, an `ophys_session`, and an `ophys_container`, the following schematic can be helpful"
   ]
  },
  {
   "cell_type": "markdown",
   "id": "5cba01b6",
   "metadata": {
    "papermill": {
     "duration": 0.023201,
     "end_time": "2023-11-10T18:42:23.123693",
     "exception": false,
     "start_time": "2023-11-10T18:42:23.100492",
     "status": "completed"
    },
    "pycharm": {
     "name": "#%% md\n"
    },
    "tags": []
   },
   "source": [
    "<div>\n",
    "<img src=\"https://allensdk.readthedocs.io/en/latest/_static/visual_behavior_2p/data_structure.png\", width=\"900\"/>\n",
    "</div>"
   ]
  },
  {
   "cell_type": "markdown",
   "id": "76cd72dd",
   "metadata": {
    "papermill": {
     "duration": 0.02357,
     "end_time": "2023-11-10T18:42:23.170677",
     "exception": false,
     "start_time": "2023-11-10T18:42:23.147107",
     "status": "completed"
    },
    "pycharm": {
     "name": "#%% md\n"
    },
    "tags": []
   },
   "source": [
    "Note that this represents a multi-plane imaging dataset. For single-plane imaging, there will only be one plane, corresponding to one row of this diagram."
   ]
  },
  {
   "cell_type": "markdown",
   "id": "ff3bee62",
   "metadata": {
    "papermill": {
     "duration": 0.023388,
     "end_time": "2023-11-10T18:42:23.217686",
     "exception": false,
     "start_time": "2023-11-10T18:42:23.194298",
     "status": "completed"
    },
    "pycharm": {
     "name": "#%% md\n"
    },
    "tags": []
   },
   "source": [
    "## Lets go through each table and examine what metadata columns are available"
   ]
  },
  {
   "cell_type": "markdown",
   "id": "4938ec29",
   "metadata": {
    "papermill": {
     "duration": 0.023726,
     "end_time": "2023-11-10T18:42:23.265168",
     "exception": false,
     "start_time": "2023-11-10T18:42:23.241442",
     "status": "completed"
    },
    "pycharm": {
     "name": "#%% md\n"
    },
    "tags": []
   },
   "source": [
    "# Behavior Sessions Table"
   ]
  },
  {
   "cell_type": "markdown",
   "id": "13b629b0",
   "metadata": {
    "papermill": {
     "duration": 0.024015,
     "end_time": "2023-11-10T18:42:23.313702",
     "exception": false,
     "start_time": "2023-11-10T18:42:23.289687",
     "status": "completed"
    },
    "pycharm": {
     "name": "#%% md\n"
    },
    "tags": []
   },
   "source": [
    "In this dataset, mice are trained on a visual change detection task. This task involves a continuous stream of stimuli, and mice learn to lick in response to a change in the stimulus identity to earn a water reward. There are different stages of training in this task, described below. The metadata for each behavior session in the dataset can be found in the `behavior_sessions_table` and can be used to identify behavior sessions you may want to analyze. "
   ]
  },
  {
   "cell_type": "markdown",
   "id": "0750bf10",
   "metadata": {
    "papermill": {
     "duration": 0.023527,
     "end_time": "2023-11-10T18:42:23.361060",
     "exception": false,
     "start_time": "2023-11-10T18:42:23.337533",
     "status": "completed"
    },
    "pycharm": {
     "name": "#%% md\n"
    },
    "tags": []
   },
   "source": [
    "### Load the `behavior_sessions_table` from the cache"
   ]
  },
  {
   "cell_type": "code",
   "execution_count": 7,
   "id": "6de4c43a",
   "metadata": {
    "execution": {
     "iopub.execute_input": "2023-11-10T18:42:23.410449Z",
     "iopub.status.busy": "2023-11-10T18:42:23.410175Z",
     "iopub.status.idle": "2023-11-10T18:42:23.429920Z",
     "shell.execute_reply": "2023-11-10T18:42:23.429232Z"
    },
    "papermill": {
     "duration": 0.046026,
     "end_time": "2023-11-10T18:42:23.431357",
     "exception": false,
     "start_time": "2023-11-10T18:42:23.385331",
     "status": "completed"
    },
    "pycharm": {
     "name": "#%%\n"
    },
    "tags": []
   },
   "outputs": [
    {
     "name": "stdout",
     "output_type": "stream",
     "text": [
      "Total number of behavior sessions: 4782\n"
     ]
    },
    {
     "data": {
      "text/html": [
       "<div>\n",
       "<style scoped>\n",
       "    .dataframe tbody tr th:only-of-type {\n",
       "        vertical-align: middle;\n",
       "    }\n",
       "\n",
       "    .dataframe tbody tr th {\n",
       "        vertical-align: top;\n",
       "    }\n",
       "\n",
       "    .dataframe thead th {\n",
       "        text-align: right;\n",
       "    }\n",
       "</style>\n",
       "<table border=\"1\" class=\"dataframe\">\n",
       "  <thead>\n",
       "    <tr style=\"text-align: right;\">\n",
       "      <th></th>\n",
       "      <th>ophys_session_id</th>\n",
       "      <th>ophys_container_id</th>\n",
       "      <th>mouse_id</th>\n",
       "      <th>indicator</th>\n",
       "      <th>full_genotype</th>\n",
       "      <th>driver_line</th>\n",
       "      <th>cre_line</th>\n",
       "      <th>reporter_line</th>\n",
       "      <th>sex</th>\n",
       "      <th>age_in_days</th>\n",
       "      <th>...</th>\n",
       "      <th>num_targeted_structures</th>\n",
       "      <th>hit_trial_count</th>\n",
       "      <th>false_alarm_trial_count</th>\n",
       "      <th>engaged_trial_count</th>\n",
       "      <th>miss_trial_count</th>\n",
       "      <th>file_id</th>\n",
       "      <th>catch_trial_count</th>\n",
       "      <th>trial_count</th>\n",
       "      <th>correct_reject_trial_count</th>\n",
       "      <th>go_trial_count</th>\n",
       "    </tr>\n",
       "    <tr>\n",
       "      <th>behavior_session_id</th>\n",
       "      <th></th>\n",
       "      <th></th>\n",
       "      <th></th>\n",
       "      <th></th>\n",
       "      <th></th>\n",
       "      <th></th>\n",
       "      <th></th>\n",
       "      <th></th>\n",
       "      <th></th>\n",
       "      <th></th>\n",
       "      <th></th>\n",
       "      <th></th>\n",
       "      <th></th>\n",
       "      <th></th>\n",
       "      <th></th>\n",
       "      <th></th>\n",
       "      <th></th>\n",
       "      <th></th>\n",
       "      <th></th>\n",
       "      <th></th>\n",
       "      <th></th>\n",
       "    </tr>\n",
       "  </thead>\n",
       "  <tbody>\n",
       "    <tr>\n",
       "      <th>870987812</th>\n",
       "      <td>&lt;NA&gt;</td>\n",
       "      <td>NaN</td>\n",
       "      <td>457841</td>\n",
       "      <td>GCaMP6f</td>\n",
       "      <td>Sst-IRES-Cre/wt;Ai148(TIT2L-GC6f-ICL-tTA2)/wt</td>\n",
       "      <td>[Sst-IRES-Cre]</td>\n",
       "      <td>Sst-IRES-Cre</td>\n",
       "      <td>Ai148(TIT2L-GC6f-ICL-tTA2)</td>\n",
       "      <td>F</td>\n",
       "      <td>80</td>\n",
       "      <td>...</td>\n",
       "      <td>&lt;NA&gt;</td>\n",
       "      <td>0</td>\n",
       "      <td>0</td>\n",
       "      <td>70</td>\n",
       "      <td>0</td>\n",
       "      <td>1941</td>\n",
       "      <td>0</td>\n",
       "      <td>121</td>\n",
       "      <td>0</td>\n",
       "      <td>0</td>\n",
       "    </tr>\n",
       "    <tr>\n",
       "      <th>872953842</th>\n",
       "      <td>&lt;NA&gt;</td>\n",
       "      <td>NaN</td>\n",
       "      <td>457841</td>\n",
       "      <td>GCaMP6f</td>\n",
       "      <td>Sst-IRES-Cre/wt;Ai148(TIT2L-GC6f-ICL-tTA2)/wt</td>\n",
       "      <td>[Sst-IRES-Cre]</td>\n",
       "      <td>Sst-IRES-Cre</td>\n",
       "      <td>Ai148(TIT2L-GC6f-ICL-tTA2)</td>\n",
       "      <td>F</td>\n",
       "      <td>84</td>\n",
       "      <td>...</td>\n",
       "      <td>&lt;NA&gt;</td>\n",
       "      <td>18</td>\n",
       "      <td>4</td>\n",
       "      <td>27</td>\n",
       "      <td>275</td>\n",
       "      <td>1942</td>\n",
       "      <td>49</td>\n",
       "      <td>564</td>\n",
       "      <td>45</td>\n",
       "      <td>293</td>\n",
       "    </tr>\n",
       "    <tr>\n",
       "      <th>873774125</th>\n",
       "      <td>&lt;NA&gt;</td>\n",
       "      <td>NaN</td>\n",
       "      <td>457841</td>\n",
       "      <td>GCaMP6f</td>\n",
       "      <td>Sst-IRES-Cre/wt;Ai148(TIT2L-GC6f-ICL-tTA2)/wt</td>\n",
       "      <td>[Sst-IRES-Cre]</td>\n",
       "      <td>Sst-IRES-Cre</td>\n",
       "      <td>Ai148(TIT2L-GC6f-ICL-tTA2)</td>\n",
       "      <td>F</td>\n",
       "      <td>85</td>\n",
       "      <td>...</td>\n",
       "      <td>&lt;NA&gt;</td>\n",
       "      <td>14</td>\n",
       "      <td>3</td>\n",
       "      <td>0</td>\n",
       "      <td>300</td>\n",
       "      <td>1943</td>\n",
       "      <td>41</td>\n",
       "      <td>548</td>\n",
       "      <td>38</td>\n",
       "      <td>314</td>\n",
       "    </tr>\n",
       "    <tr>\n",
       "      <th>874790261</th>\n",
       "      <td>&lt;NA&gt;</td>\n",
       "      <td>NaN</td>\n",
       "      <td>457841</td>\n",
       "      <td>GCaMP6f</td>\n",
       "      <td>Sst-IRES-Cre/wt;Ai148(TIT2L-GC6f-ICL-tTA2)/wt</td>\n",
       "      <td>[Sst-IRES-Cre]</td>\n",
       "      <td>Sst-IRES-Cre</td>\n",
       "      <td>Ai148(TIT2L-GC6f-ICL-tTA2)</td>\n",
       "      <td>F</td>\n",
       "      <td>86</td>\n",
       "      <td>...</td>\n",
       "      <td>&lt;NA&gt;</td>\n",
       "      <td>14</td>\n",
       "      <td>0</td>\n",
       "      <td>0</td>\n",
       "      <td>312</td>\n",
       "      <td>1944</td>\n",
       "      <td>42</td>\n",
       "      <td>492</td>\n",
       "      <td>42</td>\n",
       "      <td>326</td>\n",
       "    </tr>\n",
       "    <tr>\n",
       "      <th>875207834</th>\n",
       "      <td>&lt;NA&gt;</td>\n",
       "      <td>NaN</td>\n",
       "      <td>457841</td>\n",
       "      <td>GCaMP6f</td>\n",
       "      <td>Sst-IRES-Cre/wt;Ai148(TIT2L-GC6f-ICL-tTA2)/wt</td>\n",
       "      <td>[Sst-IRES-Cre]</td>\n",
       "      <td>Sst-IRES-Cre</td>\n",
       "      <td>Ai148(TIT2L-GC6f-ICL-tTA2)</td>\n",
       "      <td>F</td>\n",
       "      <td>87</td>\n",
       "      <td>...</td>\n",
       "      <td>&lt;NA&gt;</td>\n",
       "      <td>22</td>\n",
       "      <td>3</td>\n",
       "      <td>5</td>\n",
       "      <td>300</td>\n",
       "      <td>1945</td>\n",
       "      <td>44</td>\n",
       "      <td>504</td>\n",
       "      <td>41</td>\n",
       "      <td>322</td>\n",
       "    </tr>\n",
       "  </tbody>\n",
       "</table>\n",
       "<p>5 rows × 34 columns</p>\n",
       "</div>"
      ],
      "text/plain": [
       "                     ophys_session_id ophys_container_id mouse_id indicator  \\\n",
       "behavior_session_id                                                           \n",
       "870987812                        <NA>                NaN   457841   GCaMP6f   \n",
       "872953842                        <NA>                NaN   457841   GCaMP6f   \n",
       "873774125                        <NA>                NaN   457841   GCaMP6f   \n",
       "874790261                        <NA>                NaN   457841   GCaMP6f   \n",
       "875207834                        <NA>                NaN   457841   GCaMP6f   \n",
       "\n",
       "                                                     full_genotype  \\\n",
       "behavior_session_id                                                  \n",
       "870987812            Sst-IRES-Cre/wt;Ai148(TIT2L-GC6f-ICL-tTA2)/wt   \n",
       "872953842            Sst-IRES-Cre/wt;Ai148(TIT2L-GC6f-ICL-tTA2)/wt   \n",
       "873774125            Sst-IRES-Cre/wt;Ai148(TIT2L-GC6f-ICL-tTA2)/wt   \n",
       "874790261            Sst-IRES-Cre/wt;Ai148(TIT2L-GC6f-ICL-tTA2)/wt   \n",
       "875207834            Sst-IRES-Cre/wt;Ai148(TIT2L-GC6f-ICL-tTA2)/wt   \n",
       "\n",
       "                        driver_line      cre_line               reporter_line  \\\n",
       "behavior_session_id                                                             \n",
       "870987812            [Sst-IRES-Cre]  Sst-IRES-Cre  Ai148(TIT2L-GC6f-ICL-tTA2)   \n",
       "872953842            [Sst-IRES-Cre]  Sst-IRES-Cre  Ai148(TIT2L-GC6f-ICL-tTA2)   \n",
       "873774125            [Sst-IRES-Cre]  Sst-IRES-Cre  Ai148(TIT2L-GC6f-ICL-tTA2)   \n",
       "874790261            [Sst-IRES-Cre]  Sst-IRES-Cre  Ai148(TIT2L-GC6f-ICL-tTA2)   \n",
       "875207834            [Sst-IRES-Cre]  Sst-IRES-Cre  Ai148(TIT2L-GC6f-ICL-tTA2)   \n",
       "\n",
       "                    sex  age_in_days  ...  num_targeted_structures  \\\n",
       "behavior_session_id                   ...                            \n",
       "870987812             F           80  ...                     <NA>   \n",
       "872953842             F           84  ...                     <NA>   \n",
       "873774125             F           85  ...                     <NA>   \n",
       "874790261             F           86  ...                     <NA>   \n",
       "875207834             F           87  ...                     <NA>   \n",
       "\n",
       "                    hit_trial_count false_alarm_trial_count  \\\n",
       "behavior_session_id                                           \n",
       "870987812                         0                       0   \n",
       "872953842                        18                       4   \n",
       "873774125                        14                       3   \n",
       "874790261                        14                       0   \n",
       "875207834                        22                       3   \n",
       "\n",
       "                     engaged_trial_count miss_trial_count file_id  \\\n",
       "behavior_session_id                                                 \n",
       "870987812                             70                0    1941   \n",
       "872953842                             27              275    1942   \n",
       "873774125                              0              300    1943   \n",
       "874790261                              0              312    1944   \n",
       "875207834                              5              300    1945   \n",
       "\n",
       "                    catch_trial_count  trial_count  \\\n",
       "behavior_session_id                                  \n",
       "870987812                           0          121   \n",
       "872953842                          49          564   \n",
       "873774125                          41          548   \n",
       "874790261                          42          492   \n",
       "875207834                          44          504   \n",
       "\n",
       "                     correct_reject_trial_count  go_trial_count  \n",
       "behavior_session_id                                              \n",
       "870987812                                     0               0  \n",
       "872953842                                    45             293  \n",
       "873774125                                    38             314  \n",
       "874790261                                    42             326  \n",
       "875207834                                    41             322  \n",
       "\n",
       "[5 rows x 34 columns]"
      ]
     },
     "execution_count": 7,
     "metadata": {},
     "output_type": "execute_result"
    }
   ],
   "source": [
    "behavior_sessions = cache.get_behavior_session_table()\n",
    "\n",
    "print(f\"Total number of behavior sessions: {len(behavior_sessions)}\")\n",
    "\n",
    "behavior_sessions.head()"
   ]
  },
  {
   "cell_type": "markdown",
   "id": "23b2e84c",
   "metadata": {
    "papermill": {
     "duration": 0.024557,
     "end_time": "2023-11-10T18:42:23.480203",
     "exception": false,
     "start_time": "2023-11-10T18:42:23.455646",
     "status": "completed"
    },
    "pycharm": {
     "name": "#%% md\n"
    },
    "tags": []
   },
   "source": [
    "### What columns does the behavior_session table have and what values can they take?"
   ]
  },
  {
   "cell_type": "code",
   "execution_count": 8,
   "id": "4ccde8b1",
   "metadata": {
    "execution": {
     "iopub.execute_input": "2023-11-10T18:42:23.528785Z",
     "iopub.status.busy": "2023-11-10T18:42:23.528151Z",
     "iopub.status.idle": "2023-11-10T18:42:23.533188Z",
     "shell.execute_reply": "2023-11-10T18:42:23.532558Z"
    },
    "papermill": {
     "duration": 0.03084,
     "end_time": "2023-11-10T18:42:23.534486",
     "exception": false,
     "start_time": "2023-11-10T18:42:23.503646",
     "status": "completed"
    },
    "pycharm": {
     "name": "#%%\n"
    },
    "tags": []
   },
   "outputs": [
    {
     "data": {
      "text/plain": [
       "Index(['ophys_session_id', 'ophys_container_id', 'mouse_id', 'indicator',\n",
       "       'full_genotype', 'driver_line', 'cre_line', 'reporter_line', 'sex',\n",
       "       'age_in_days', 'imaging_plane_group_count', 'project_code',\n",
       "       'session_type', 'session_number', 'image_set', 'behavior_type',\n",
       "       'experience_level', 'prior_exposures_to_session_type',\n",
       "       'prior_exposures_to_image_set', 'prior_exposures_to_omissions',\n",
       "       'date_of_acquisition', 'equipment_name', 'num_depths_per_area',\n",
       "       'ophys_experiment_id', 'num_targeted_structures', 'hit_trial_count',\n",
       "       'false_alarm_trial_count', 'engaged_trial_count', 'miss_trial_count',\n",
       "       'file_id', 'catch_trial_count', 'trial_count',\n",
       "       'correct_reject_trial_count', 'go_trial_count'],\n",
       "      dtype='object')"
      ]
     },
     "execution_count": 8,
     "metadata": {},
     "output_type": "execute_result"
    }
   ],
   "source": [
    "behavior_sessions.columns"
   ]
  },
  {
   "cell_type": "markdown",
   "id": "38a115a0",
   "metadata": {
    "papermill": {
     "duration": 0.023635,
     "end_time": "2023-11-10T18:42:23.582561",
     "exception": false,
     "start_time": "2023-11-10T18:42:23.558926",
     "status": "completed"
    },
    "pycharm": {
     "name": "#%% md\n"
    },
    "tags": []
   },
   "source": [
    "### behavior sessions can take place on different experimental systems"
   ]
  },
  {
   "cell_type": "code",
   "execution_count": 9,
   "id": "b20a7aae",
   "metadata": {
    "execution": {
     "iopub.execute_input": "2023-11-10T18:42:23.631423Z",
     "iopub.status.busy": "2023-11-10T18:42:23.630948Z",
     "iopub.status.idle": "2023-11-10T18:42:23.635551Z",
     "shell.execute_reply": "2023-11-10T18:42:23.634831Z"
    },
    "papermill": {
     "duration": 0.030512,
     "end_time": "2023-11-10T18:42:23.636840",
     "exception": false,
     "start_time": "2023-11-10T18:42:23.606328",
     "status": "completed"
    },
    "pycharm": {
     "name": "#%%\n"
    },
    "tags": []
   },
   "outputs": [
    {
     "name": "stdout",
     "output_type": "stream",
     "text": [
      "behavior data could be recorded on these experimental systems:\n",
      "\n",
      "['BEH.B' 'BEH.B-Box1' 'BEH.B-Box2' 'BEH.B-Box3' 'BEH.B-Box4' 'BEH.B-Box5'\n",
      " 'BEH.B-Box6' 'BEH.D' 'BEH.D-Box1' 'BEH.D-Box2' 'BEH.D-Box3' 'BEH.D-Box4'\n",
      " 'BEH.D-Box5' 'BEH.D-Box6' 'BEH.F' 'BEH.F-Box1' 'BEH.F-Box2' 'BEH.F-Box3'\n",
      " 'BEH.F-Box4' 'BEH.F-Box5' 'BEH.F-Box6' 'BEH.G' 'BEH.G-Box1' 'BEH.G-Box2'\n",
      " 'BEH.G-Box3' 'BEH.G-Box4' 'BEH.G-Box5' 'BEH.G-Box6' 'CAM2P.3' 'CAM2P.4'\n",
      " 'CAM2P.5' 'MESO.1']\n"
     ]
    }
   ],
   "source": [
    "print('behavior data could be recorded on these experimental systems:\\n')\n",
    "print(np.sort(behavior_sessions.equipment_name.unique()))"
   ]
  },
  {
   "cell_type": "markdown",
   "id": "f1bc0503",
   "metadata": {
    "papermill": {
     "duration": 0.023589,
     "end_time": "2023-11-10T18:42:23.684893",
     "exception": false,
     "start_time": "2023-11-10T18:42:23.661304",
     "status": "completed"
    },
    "pycharm": {
     "name": "#%% md\n"
    },
    "tags": []
   },
   "source": [
    "`equipment_name` values starting with 'BEH' indicate behavioral training in the behavior facility, while values starting with 'CAM2P' or 'MESO' indicate behavior sessions that took place under a 2-photon microscope - either a Scientifica single plane imaging system ('CAMP2P.4', 'CAM2P.4', or 'CAM2P.5') or a modified Mesoscope system, also called Multiscope, for multi-plane imaging ('MESO.1')."
   ]
  },
  {
   "cell_type": "markdown",
   "id": "ff0ba98e",
   "metadata": {
    "papermill": {
     "duration": 0.023285,
     "end_time": "2023-11-10T18:42:23.731998",
     "exception": false,
     "start_time": "2023-11-10T18:42:23.708713",
     "status": "completed"
    },
    "pycharm": {
     "name": "#%% md\n"
    },
    "tags": []
   },
   "source": [
    "## Mouse specific metadata"
   ]
  },
  {
   "cell_type": "markdown",
   "id": "a54fc9b0",
   "metadata": {
    "papermill": {
     "duration": 0.02397,
     "end_time": "2023-11-10T18:42:23.779751",
     "exception": false,
     "start_time": "2023-11-10T18:42:23.755781",
     "status": "completed"
    },
    "pycharm": {
     "name": "#%% md\n"
    },
    "tags": []
   },
   "source": [
    "The `mouse_id` is a 6-digit unique identifier for each experimental animal in the dataset"
   ]
  },
  {
   "cell_type": "code",
   "execution_count": 10,
   "id": "5f0573a7",
   "metadata": {
    "execution": {
     "iopub.execute_input": "2023-11-10T18:42:23.829274Z",
     "iopub.status.busy": "2023-11-10T18:42:23.828786Z",
     "iopub.status.idle": "2023-11-10T18:42:23.832954Z",
     "shell.execute_reply": "2023-11-10T18:42:23.832272Z"
    },
    "papermill": {
     "duration": 0.030779,
     "end_time": "2023-11-10T18:42:23.834380",
     "exception": false,
     "start_time": "2023-11-10T18:42:23.803601",
     "status": "completed"
    },
    "pycharm": {
     "name": "#%%\n"
    },
    "tags": []
   },
   "outputs": [
    {
     "name": "stdout",
     "output_type": "stream",
     "text": [
      "there are  107 mice in the dataset\n"
     ]
    }
   ],
   "source": [
    "print('there are ', len(behavior_sessions.mouse_id.unique()), 'mice in the dataset')"
   ]
  },
  {
   "cell_type": "markdown",
   "id": "03c92c4d",
   "metadata": {
    "papermill": {
     "duration": 0.023818,
     "end_time": "2023-11-10T18:42:23.882597",
     "exception": false,
     "start_time": "2023-11-10T18:42:23.858779",
     "status": "completed"
    },
    "pycharm": {
     "name": "#%% md\n"
    },
    "tags": []
   },
   "source": [
    "#### The transgenic line determines which neurons are labeled in a given mouse, and what they are labeled with"
   ]
  },
  {
   "cell_type": "code",
   "execution_count": 11,
   "id": "7818dee1",
   "metadata": {
    "execution": {
     "iopub.execute_input": "2023-11-10T18:42:23.932542Z",
     "iopub.status.busy": "2023-11-10T18:42:23.931896Z",
     "iopub.status.idle": "2023-11-10T18:42:23.936331Z",
     "shell.execute_reply": "2023-11-10T18:42:23.935680Z"
    },
    "papermill": {
     "duration": 0.031081,
     "end_time": "2023-11-10T18:42:23.937776",
     "exception": false,
     "start_time": "2023-11-10T18:42:23.906695",
     "status": "completed"
    },
    "pycharm": {
     "name": "#%%\n"
    },
    "tags": []
   },
   "outputs": [
    {
     "name": "stdout",
     "output_type": "stream",
     "text": [
      "the different transgenic lines included in this dataset are:\n",
      "\n",
      "['Slc17a7-IRES2-Cre/wt;Camk2a-tTA/wt;Ai93(TITL-GCaMP6f)/wt'\n",
      " 'Slc17a7-IRES2-Cre/wt;Camk2a-tTA/wt;Ai94(TITL-GCaMP6s)/wt'\n",
      " 'Sst-IRES-Cre/wt;Ai148(TIT2L-GC6f-ICL-tTA2)/wt'\n",
      " 'Vip-IRES-Cre/wt;Ai148(TIT2L-GC6f-ICL-tTA2)/wt']\n"
     ]
    }
   ],
   "source": [
    "print('the different transgenic lines included in this dataset are:\\n')\n",
    "print(np.sort(behavior_sessions.full_genotype.unique()))"
   ]
  },
  {
   "cell_type": "markdown",
   "id": "80b02150",
   "metadata": {
    "papermill": {
     "duration": 0.024104,
     "end_time": "2023-11-10T18:42:23.986341",
     "exception": false,
     "start_time": "2023-11-10T18:42:23.962237",
     "status": "completed"
    },
    "pycharm": {
     "name": "#%% md\n"
    },
    "tags": []
   },
   "source": [
    "`full_genotype` refers to the full name of the transgenic mouse line, including all driver and reporter lines in the cross. `driver_line` and `reporter_line` have their own unique columns in the table. The first element of the `full_genotype` is the `cre_line` (which also has its own column in the table, and is a subset of `driver_line`). The `cre_line` determines which genetically identified neuron type will be labeled by the `reporter_line`. "
   ]
  },
  {
   "cell_type": "code",
   "execution_count": 12,
   "id": "59782e41",
   "metadata": {
    "execution": {
     "iopub.execute_input": "2023-11-10T18:42:24.036765Z",
     "iopub.status.busy": "2023-11-10T18:42:24.036184Z",
     "iopub.status.idle": "2023-11-10T18:42:24.040553Z",
     "shell.execute_reply": "2023-11-10T18:42:24.039900Z"
    },
    "papermill": {
     "duration": 0.031198,
     "end_time": "2023-11-10T18:42:24.042008",
     "exception": false,
     "start_time": "2023-11-10T18:42:24.010810",
     "status": "completed"
    },
    "pycharm": {
     "name": "#%%\n"
    },
    "tags": []
   },
   "outputs": [
    {
     "name": "stdout",
     "output_type": "stream",
     "text": [
      "the different cre lines used in this dataset are:\n",
      "\n",
      "['Slc17a7-IRES2-Cre' 'Sst-IRES-Cre' 'Vip-IRES-Cre']\n"
     ]
    }
   ],
   "source": [
    "print('the different cre lines used in this dataset are:\\n')\n",
    "print(np.sort(behavior_sessions.cre_line.unique()))"
   ]
  },
  {
   "cell_type": "markdown",
   "id": "25086019",
   "metadata": {
    "papermill": {
     "duration": 0.023628,
     "end_time": "2023-11-10T18:42:24.089669",
     "exception": false,
     "start_time": "2023-11-10T18:42:24.066041",
     "status": "completed"
    },
    "pycharm": {
     "name": "#%% md\n"
    },
    "tags": []
   },
   "source": [
    "<div>\n",
    "<img src=\"https://allensdk.readthedocs.io/en/latest/_static/visual_behavior_2p/cre_lines2.png\" width=\"900\"/>\n",
    "</div>"
   ]
  },
  {
   "cell_type": "markdown",
   "id": "db6df690",
   "metadata": {
    "papermill": {
     "duration": 0.0239,
     "end_time": "2023-11-10T18:42:24.137238",
     "exception": false,
     "start_time": "2023-11-10T18:42:24.113338",
     "status": "completed"
    },
    "pycharm": {
     "name": "#%% md\n"
    },
    "tags": []
   },
   "source": [
    "In this dataset, we have 3 `cre_lines`, 'Slc17a7-IRES2-Cre', which labels excitatory neurons across all cortical layers, 'Sst-IRES-Cre' which labels somatostatin expressing inhibitory interneurons, and 'Vip-IRES-Cre', which labels vasoactive intestinal peptide expressing inhibitory interneurons. There are also 3 `reporter_lines`, 'Ai93(TITL-GCaMP6f)' which expresses the genetically encoded calcium indicator GCaMP6f (f is for 'fast', this reporter has fast offset kinetics, but is only moderately sensitive to calcium relative to other sensors) in cre labeled neurons, 'Ai94(TITL-GCaMP6s)' which expresses the indicator GCaMP6s (s is for 'slow', this reporter is very sensitive to calcium but has slow offset kinetics), and 'Ai148(TIT2L-GC6f-ICL-tTA2', which  expresses GCaMP6f using a self-enhancing system to achieve higher expression than other reporter lines (which proved necessary to label inhibitory neurons specifically). The specific `indicator` expressed by each `reporter_line` also has its own column in the table."
   ]
  },
  {
   "cell_type": "code",
   "execution_count": 13,
   "id": "e15eda2d",
   "metadata": {
    "execution": {
     "iopub.execute_input": "2023-11-10T18:42:24.186494Z",
     "iopub.status.busy": "2023-11-10T18:42:24.185931Z",
     "iopub.status.idle": "2023-11-10T18:42:24.190227Z",
     "shell.execute_reply": "2023-11-10T18:42:24.189584Z"
    },
    "papermill": {
     "duration": 0.03044,
     "end_time": "2023-11-10T18:42:24.191533",
     "exception": false,
     "start_time": "2023-11-10T18:42:24.161093",
     "status": "completed"
    },
    "pycharm": {
     "name": "#%%\n"
    },
    "tags": []
   },
   "outputs": [
    {
     "name": "stdout",
     "output_type": "stream",
     "text": [
      "the different reporter lines used in this dataset are:\n",
      "\n",
      "['Ai148(TIT2L-GC6f-ICL-tTA2)' 'Ai93(TITL-GCaMP6f)' 'Ai94(TITL-GCaMP6s)']\n"
     ]
    }
   ],
   "source": [
    "print('the different reporter lines used in this dataset are:\\n')\n",
    "print(np.sort(behavior_sessions.reporter_line.unique()))"
   ]
  },
  {
   "cell_type": "code",
   "execution_count": 14,
   "id": "60237c34",
   "metadata": {
    "execution": {
     "iopub.execute_input": "2023-11-10T18:42:24.240944Z",
     "iopub.status.busy": "2023-11-10T18:42:24.240390Z",
     "iopub.status.idle": "2023-11-10T18:42:24.244830Z",
     "shell.execute_reply": "2023-11-10T18:42:24.244158Z"
    },
    "papermill": {
     "duration": 0.030219,
     "end_time": "2023-11-10T18:42:24.246171",
     "exception": false,
     "start_time": "2023-11-10T18:42:24.215952",
     "status": "completed"
    },
    "pycharm": {
     "name": "#%%\n"
    },
    "tags": []
   },
   "outputs": [
    {
     "name": "stdout",
     "output_type": "stream",
     "text": [
      "the different indicators used in this dataset are:\n",
      "\n",
      "['GCaMP6f' 'GCaMP6s']\n"
     ]
    }
   ],
   "source": [
    "print('the different indicators used in this dataset are:\\n')\n",
    "print(np.sort(behavior_sessions.indicator.unique()))"
   ]
  },
  {
   "cell_type": "markdown",
   "id": "eb33911a",
   "metadata": {
    "papermill": {
     "duration": 0.024278,
     "end_time": "2023-11-10T18:42:24.295442",
     "exception": false,
     "start_time": "2023-11-10T18:42:24.271164",
     "status": "completed"
    },
    "pycharm": {
     "name": "#%% md\n"
    },
    "tags": []
   },
   "source": [
    "* For more information about transgenic lines, see characterization data here: https://observatory.brain-map.org/visualcoding/transgenic\n",
    "* for more information on GCaMP6, see this paper: https://www.nature.com/articles/nature12354\n",
    "* For more information on reporter lines, see these papers: https://doi.org/10.1016/j.neuron.2015.02.022, https://www.sciencedirect.com/science/article/pii/S0092867418308031"
   ]
  },
  {
   "cell_type": "markdown",
   "id": "031be223",
   "metadata": {
    "papermill": {
     "duration": 0.023744,
     "end_time": "2023-11-10T18:42:24.343548",
     "exception": false,
     "start_time": "2023-11-10T18:42:24.319804",
     "status": "completed"
    },
    "pycharm": {
     "name": "#%% md\n"
    },
    "tags": []
   },
   "source": [
    "#### how many mice per transgenic line?"
   ]
  },
  {
   "cell_type": "code",
   "execution_count": 15,
   "id": "8038b9de",
   "metadata": {
    "execution": {
     "iopub.execute_input": "2023-11-10T18:42:24.393499Z",
     "iopub.status.busy": "2023-11-10T18:42:24.392848Z",
     "iopub.status.idle": "2023-11-10T18:42:24.410088Z",
     "shell.execute_reply": "2023-11-10T18:42:24.409403Z"
    },
    "papermill": {
     "duration": 0.044352,
     "end_time": "2023-11-10T18:42:24.411623",
     "exception": false,
     "start_time": "2023-11-10T18:42:24.367271",
     "status": "completed"
    },
    "pycharm": {
     "name": "#%%\n"
    },
    "tags": []
   },
   "outputs": [
    {
     "data": {
      "text/html": [
       "<div>\n",
       "<style scoped>\n",
       "    .dataframe tbody tr th:only-of-type {\n",
       "        vertical-align: middle;\n",
       "    }\n",
       "\n",
       "    .dataframe tbody tr th {\n",
       "        vertical-align: top;\n",
       "    }\n",
       "\n",
       "    .dataframe thead th {\n",
       "        text-align: right;\n",
       "    }\n",
       "</style>\n",
       "<table border=\"1\" class=\"dataframe\">\n",
       "  <thead>\n",
       "    <tr style=\"text-align: right;\">\n",
       "      <th></th>\n",
       "      <th>mouse_id</th>\n",
       "    </tr>\n",
       "    <tr>\n",
       "      <th>full_genotype</th>\n",
       "      <th></th>\n",
       "    </tr>\n",
       "  </thead>\n",
       "  <tbody>\n",
       "    <tr>\n",
       "      <th>Slc17a7-IRES2-Cre/wt;Camk2a-tTA/wt;Ai93(TITL-GCaMP6f)/wt</th>\n",
       "      <td>47</td>\n",
       "    </tr>\n",
       "    <tr>\n",
       "      <th>Slc17a7-IRES2-Cre/wt;Camk2a-tTA/wt;Ai94(TITL-GCaMP6s)/wt</th>\n",
       "      <td>8</td>\n",
       "    </tr>\n",
       "    <tr>\n",
       "      <th>Sst-IRES-Cre/wt;Ai148(TIT2L-GC6f-ICL-tTA2)/wt</th>\n",
       "      <td>24</td>\n",
       "    </tr>\n",
       "    <tr>\n",
       "      <th>Vip-IRES-Cre/wt;Ai148(TIT2L-GC6f-ICL-tTA2)/wt</th>\n",
       "      <td>28</td>\n",
       "    </tr>\n",
       "  </tbody>\n",
       "</table>\n",
       "</div>"
      ],
      "text/plain": [
       "                                                    mouse_id\n",
       "full_genotype                                               \n",
       "Slc17a7-IRES2-Cre/wt;Camk2a-tTA/wt;Ai93(TITL-GC...        47\n",
       "Slc17a7-IRES2-Cre/wt;Camk2a-tTA/wt;Ai94(TITL-GC...         8\n",
       "Sst-IRES-Cre/wt;Ai148(TIT2L-GC6f-ICL-tTA2)/wt             24\n",
       "Vip-IRES-Cre/wt;Ai148(TIT2L-GC6f-ICL-tTA2)/wt             28"
      ]
     },
     "execution_count": 15,
     "metadata": {},
     "output_type": "execute_result"
    }
   ],
   "source": [
    "behavior_sessions.groupby(['full_genotype', 'mouse_id']).count().reset_index().groupby('full_genotype').count()[['mouse_id']]"
   ]
  },
  {
   "cell_type": "markdown",
   "id": "ff70ba8f",
   "metadata": {
    "papermill": {
     "duration": 0.023883,
     "end_time": "2023-11-10T18:42:24.460543",
     "exception": false,
     "start_time": "2023-11-10T18:42:24.436660",
     "status": "completed"
    },
    "pycharm": {
     "name": "#%% md\n"
    },
    "tags": []
   },
   "source": [
    "Other mouse specific metadata includes `sex` and `age_in_days`"
   ]
  },
  {
   "cell_type": "markdown",
   "id": "e5c3b7e4",
   "metadata": {
    "papermill": {
     "duration": 0.023903,
     "end_time": "2023-11-10T18:42:24.510203",
     "exception": false,
     "start_time": "2023-11-10T18:42:24.486300",
     "status": "completed"
    },
    "pycharm": {
     "name": "#%% md\n"
    },
    "tags": []
   },
   "source": [
    "## Session Type - a very important piece of information"
   ]
  },
  {
   "cell_type": "markdown",
   "id": "0e79b59f",
   "metadata": {
    "papermill": {
     "duration": 0.024062,
     "end_time": "2023-11-10T18:42:24.558130",
     "exception": false,
     "start_time": "2023-11-10T18:42:24.534068",
     "status": "completed"
    },
    "pycharm": {
     "name": "#%% md\n"
    },
    "tags": []
   },
   "source": [
    "The `session_type` for each behavior session indicates the behavioral training stage or 2-photon imaging conditions for that particular session. This determines what stimuli were shown and what task parameters were used.  "
   ]
  },
  {
   "cell_type": "code",
   "execution_count": 16,
   "id": "7c9cdf28",
   "metadata": {
    "execution": {
     "iopub.execute_input": "2023-11-10T18:42:24.608343Z",
     "iopub.status.busy": "2023-11-10T18:42:24.607761Z",
     "iopub.status.idle": "2023-11-10T18:42:24.612999Z",
     "shell.execute_reply": "2023-11-10T18:42:24.612423Z"
    },
    "papermill": {
     "duration": 0.031772,
     "end_time": "2023-11-10T18:42:24.614298",
     "exception": false,
     "start_time": "2023-11-10T18:42:24.582526",
     "status": "completed"
    },
    "pycharm": {
     "name": "#%%\n"
    },
    "tags": []
   },
   "outputs": [
    {
     "name": "stdout",
     "output_type": "stream",
     "text": [
      "the session_types available in this dataset are:\n",
      "\n",
      "['OPHYS_0_images_A_habituation' 'OPHYS_0_images_B_habituation'\n",
      " 'OPHYS_0_images_G_habituation' 'OPHYS_1_images_A' 'OPHYS_1_images_B'\n",
      " 'OPHYS_1_images_G' 'OPHYS_2_images_A_passive' 'OPHYS_2_images_B_passive'\n",
      " 'OPHYS_2_images_G_passive' 'OPHYS_3_images_A' 'OPHYS_3_images_B'\n",
      " 'OPHYS_3_images_G' 'OPHYS_4_images_A' 'OPHYS_4_images_B'\n",
      " 'OPHYS_4_images_H' 'OPHYS_5_images_A_passive' 'OPHYS_5_images_B_passive'\n",
      " 'OPHYS_5_images_H_passive' 'OPHYS_6_images_A' 'OPHYS_6_images_B'\n",
      " 'OPHYS_6_images_H' 'TRAINING_0_gratings_autorewards_15min'\n",
      " 'TRAINING_1_gratings' 'TRAINING_2_gratings_flashed'\n",
      " 'TRAINING_3_images_A_10uL_reward' 'TRAINING_3_images_B_10uL_reward'\n",
      " 'TRAINING_3_images_G_10uL_reward' 'TRAINING_4_images_A_handoff_lapsed'\n",
      " 'TRAINING_4_images_A_handoff_ready' 'TRAINING_4_images_A_training'\n",
      " 'TRAINING_4_images_B_training' 'TRAINING_4_images_G_training'\n",
      " 'TRAINING_5_images_A_epilogue' 'TRAINING_5_images_A_handoff_lapsed'\n",
      " 'TRAINING_5_images_A_handoff_ready' 'TRAINING_5_images_B_epilogue'\n",
      " 'TRAINING_5_images_B_handoff_lapsed' 'TRAINING_5_images_B_handoff_ready'\n",
      " 'TRAINING_5_images_G_epilogue' 'TRAINING_5_images_G_handoff_lapsed'\n",
      " 'TRAINING_5_images_G_handoff_ready']\n"
     ]
    }
   ],
   "source": [
    "print('the session_types available in this dataset are:\\n')\n",
    "print(np.sort(behavior_sessions.session_type[\n",
    "                  ~behavior_sessions.session_type.isna()].unique()))"
   ]
  },
  {
   "cell_type": "markdown",
   "id": "484ff16b",
   "metadata": {
    "papermill": {
     "duration": 0.024081,
     "end_time": "2023-11-10T18:42:24.662799",
     "exception": false,
     "start_time": "2023-11-10T18:42:24.638718",
     "status": "completed"
    },
    "pycharm": {
     "name": "#%% md\n"
    },
    "tags": []
   },
   "source": [
    "Mice are progressed through a series of training stages to shape their behavior prior to 2-photon imaging. Mice are automatically advanced between stages depending on their behavioral performance. For a detailed description of the change detection task and advancement criteria, please see the technical whitepaper: LINK"
   ]
  },
  {
   "cell_type": "markdown",
   "id": "ab075c3d",
   "metadata": {
    "papermill": {
     "duration": 0.02394,
     "end_time": "2023-11-10T18:42:24.711003",
     "exception": false,
     "start_time": "2023-11-10T18:42:24.687063",
     "status": "completed"
    },
    "pycharm": {
     "name": "#%% md\n"
    },
    "tags": []
   },
   "source": [
    "<div>\n",
    "<img src=\"https://allensdk.readthedocs.io/en/latest/_static/visual_behavior_2p/automated_training.png\" width=\"900\"/>\n",
    "</div>"
   ]
  },
  {
   "cell_type": "markdown",
   "id": "7c9ea148",
   "metadata": {
    "papermill": {
     "duration": 0.024063,
     "end_time": "2023-11-10T18:42:24.759371",
     "exception": false,
     "start_time": "2023-11-10T18:42:24.735308",
     "status": "completed"
    },
    "pycharm": {
     "name": "#%% md\n"
    },
    "tags": []
   },
   "source": [
    "Training with the change detection task begins with simple static grating stimuli, changing between 0 and 90 degrees in orientation. On the very first day, mice are automatically given a water reward when the orientation of the stimulus changes (`TRAINING_0_gratings_autorewards_15min`). On subsequent days, mice must lick following the change in order to receive a water reward (`TRAINING_1_gratings`). In the next stage, stimuli are flashed, with a 500ms inter stimulus interal of mean luminance gray screen (`TRAINING_2_gratings_flashed`). "
   ]
  },
  {
   "cell_type": "markdown",
   "id": "e75f59f0",
   "metadata": {
    "papermill": {
     "duration": 0.023868,
     "end_time": "2023-11-10T18:42:24.807681",
     "exception": false,
     "start_time": "2023-11-10T18:42:24.783813",
     "status": "completed"
    },
    "pycharm": {
     "name": "#%% md\n"
    },
    "tags": []
   },
   "source": [
    "Once mice perform the task well with gratings, they are transitioned to natural image stimuli. Different groups of mice are trained with different sets of images, image set A or image set B (described further below). In the following description, we use `X` as a placeholder for image set `A` or `B` in the `session_type` name. Training with images begins with a 10ul water reward volume (`TRAINING_3_images_X_10uL_reward`), which is then decreased to 7ul once mice perform the task consistently with images (`TRAINING_4_images_X_training`). When mice have reached criterion to be transferred to the 2-photon imaging portion of the experiment, they are labeled as 'handoff_ready' (`TRAINING_4_images_X_handoff_ready`.) If behavior performance returns to below criterion level, they are labeled as 'handoff_lapsed'(`TRAINING_4_images_X_handoff_lapsed`). "
   ]
  },
  {
   "cell_type": "code",
   "execution_count": 17,
   "id": "e6020cbd",
   "metadata": {
    "execution": {
     "iopub.execute_input": "2023-11-10T18:42:24.857913Z",
     "iopub.status.busy": "2023-11-10T18:42:24.857629Z",
     "iopub.status.idle": "2023-11-10T18:42:24.862892Z",
     "shell.execute_reply": "2023-11-10T18:42:24.862347Z"
    },
    "papermill": {
     "duration": 0.032229,
     "end_time": "2023-11-10T18:42:24.864226",
     "exception": false,
     "start_time": "2023-11-10T18:42:24.831997",
     "status": "completed"
    },
    "pycharm": {
     "name": "#%%\n"
    },
    "tags": []
   },
   "outputs": [
    {
     "name": "stdout",
     "output_type": "stream",
     "text": [
      "the different session_types available in this dataset are:\n",
      "\n",
      "['OPHYS_0_images_A_habituation' 'OPHYS_0_images_B_habituation'\n",
      " 'OPHYS_0_images_G_habituation' 'OPHYS_1_images_A' 'OPHYS_1_images_B'\n",
      " 'OPHYS_1_images_G' 'OPHYS_2_images_A_passive' 'OPHYS_2_images_B_passive'\n",
      " 'OPHYS_2_images_G_passive' 'OPHYS_3_images_A' 'OPHYS_3_images_B'\n",
      " 'OPHYS_3_images_G' 'OPHYS_4_images_A' 'OPHYS_4_images_B'\n",
      " 'OPHYS_4_images_H' 'OPHYS_5_images_A_passive' 'OPHYS_5_images_B_passive'\n",
      " 'OPHYS_5_images_H_passive' 'OPHYS_6_images_A' 'OPHYS_6_images_B'\n",
      " 'OPHYS_6_images_H' 'TRAINING_0_gratings_autorewards_15min'\n",
      " 'TRAINING_1_gratings' 'TRAINING_2_gratings_flashed'\n",
      " 'TRAINING_3_images_A_10uL_reward' 'TRAINING_3_images_B_10uL_reward'\n",
      " 'TRAINING_3_images_G_10uL_reward' 'TRAINING_4_images_A_handoff_lapsed'\n",
      " 'TRAINING_4_images_A_handoff_ready' 'TRAINING_4_images_A_training'\n",
      " 'TRAINING_4_images_B_training' 'TRAINING_4_images_G_training'\n",
      " 'TRAINING_5_images_A_epilogue' 'TRAINING_5_images_A_handoff_lapsed'\n",
      " 'TRAINING_5_images_A_handoff_ready' 'TRAINING_5_images_B_epilogue'\n",
      " 'TRAINING_5_images_B_handoff_lapsed' 'TRAINING_5_images_B_handoff_ready'\n",
      " 'TRAINING_5_images_G_epilogue' 'TRAINING_5_images_G_handoff_lapsed'\n",
      " 'TRAINING_5_images_G_handoff_ready']\n"
     ]
    }
   ],
   "source": [
    "# reminder about possible session types \n",
    "print('the different session_types available in this dataset are:\\n')\n",
    "print(np.sort(behavior_sessions.session_type[\n",
    "                  ~behavior_sessions.session_type.isna()].unique()))"
   ]
  },
  {
   "cell_type": "markdown",
   "id": "b026a1c6",
   "metadata": {
    "papermill": {
     "duration": 0.024048,
     "end_time": "2023-11-10T18:42:24.912776",
     "exception": false,
     "start_time": "2023-11-10T18:42:24.888728",
     "status": "completed"
    },
    "pycharm": {
     "name": "#%% md\n"
    },
    "tags": []
   },
   "source": [
    " You will notice that some mice only go up to `TRAINING_4`, while others have the final training stage labeled `TRAINING_5`. This is due to a minor change made partway through data collection, where an `epilogue` stimulus was introduced during the final training stage prior to 2-photon imaging in order to habituate the mice to this stimulus, which is used during 2-photon imaging to aid in session to session registration. The `epilogue` is a 30 minute movie clip repeated 10 times, for a total of 5 minutes, and occurs at the end of the 60 minute behavioral session, followed by 5 minutes of blank gray screen. Training sessions with an epilogue movie include `TRAINING_5_images_X_epilogue`, `TRAINING_5_images_X_handoff_ready` , `TRAINING_5_images_X_handoff_lapsed`. "
   ]
  },
  {
   "cell_type": "markdown",
   "id": "03da3956",
   "metadata": {
    "papermill": {
     "duration": 0.023951,
     "end_time": "2023-11-10T18:42:24.961253",
     "exception": false,
     "start_time": "2023-11-10T18:42:24.937302",
     "status": "completed"
    },
    "pycharm": {
     "name": "#%% md\n"
    },
    "tags": []
   },
   "source": [
    "### `session_types` during 2-photon imaging"
   ]
  },
  {
   "cell_type": "markdown",
   "id": "30159c12",
   "metadata": {
    "papermill": {
     "duration": 0.024132,
     "end_time": "2023-11-10T18:42:25.010002",
     "exception": false,
     "start_time": "2023-11-10T18:42:24.985870",
     "status": "completed"
    },
    "pycharm": {
     "name": "#%% md\n"
    },
    "tags": []
   },
   "source": [
    "When mice are transferred to the 2-photon rig for the imaging portion of the experiment, they first undergo 1-3 habituation sessions to get accustomed to the new experimental environment (`OPHYS_0_images_X_habituation`). During these sessions, mice perform the task under the microscope, but no experimental data is recorded. "
   ]
  },
  {
   "cell_type": "markdown",
   "id": "1e5955fc",
   "metadata": {
    "papermill": {
     "duration": 0.024217,
     "end_time": "2023-11-10T18:42:25.058521",
     "exception": false,
     "start_time": "2023-11-10T18:42:25.034304",
     "status": "completed"
    },
    "pycharm": {
     "name": "#%% md\n"
    },
    "tags": []
   },
   "source": [
    "<div>\n",
    "<img src=\"https://allensdk.readthedocs.io/en/latest/_static/visual_behavior_2p/experiment_design.png\" width=\"900\"/>\n",
    "</div>"
   ]
  },
  {
   "cell_type": "markdown",
   "id": "17171d6e",
   "metadata": {
    "papermill": {
     "duration": 0.025553,
     "end_time": "2023-11-10T18:42:25.108733",
     "exception": false,
     "start_time": "2023-11-10T18:42:25.083180",
     "status": "completed"
    },
    "pycharm": {
     "name": "#%% md\n"
    },
    "tags": []
   },
   "source": [
    "During the 2-photon imaging portion of the experiment, mice perform the task with the same set of images they saw during training (either image set `A` or `B`), as well as an additional novel set of images (whichever of `A` or `B` that they did not see during training). This allows evaluation of the impact of different sensory contexts on neural activity - familiarity versus novelty. Sessions with <b>familiar images</b> include those starting with `OPHYS_0`, `OPHYS_1`, `OPHYS_2`, and `OPHYS_3`. Sessions with <b>novel images</b> include those starting with `OPHYS_4`, `OPHYS_5`, and `OPHYS_6`. "
   ]
  },
  {
   "cell_type": "markdown",
   "id": "dd6a406f",
   "metadata": {
    "papermill": {
     "duration": 0.025251,
     "end_time": "2023-11-10T18:42:25.159293",
     "exception": false,
     "start_time": "2023-11-10T18:42:25.134042",
     "status": "completed"
    },
    "pycharm": {
     "name": "#%% md\n"
    },
    "tags": []
   },
   "source": [
    "Interleaved between active behavior sessions are <b>passive viewing</b> sessions where mice are given their daily water ahead of the sesssion (and are thus satiated) and view the stimulus with the lick spout retracted so they are unable to earn water rewards. This allows comparison of neural activity in response to stimuli under different behavioral context - active task engagement and passive viewing without reward. Passive sessions include `OPHYS_2_images_A_passive` (passive session with familiar images), and `OPHYS_5_images_A_passive` (passive session with novel images)."
   ]
  },
  {
   "cell_type": "markdown",
   "id": "b7a28754",
   "metadata": {
    "papermill": {
     "duration": 0.024333,
     "end_time": "2023-11-10T18:42:25.209906",
     "exception": false,
     "start_time": "2023-11-10T18:42:25.185573",
     "status": "completed"
    },
    "pycharm": {
     "name": "#%% md\n"
    },
    "tags": []
   },
   "source": [
    "The final session during the 2-photon imaging phase is `OPHYS_7_receptive_field_mapping`, however 2-photon data is not available for these sessions in this data release (but will be made available in a subsequent release)."
   ]
  },
  {
   "cell_type": "markdown",
   "id": "901b0840",
   "metadata": {
    "papermill": {
     "duration": 0.024354,
     "end_time": "2023-11-10T18:42:25.258811",
     "exception": false,
     "start_time": "2023-11-10T18:42:25.234457",
     "status": "completed"
    },
    "pycharm": {
     "name": "#%% md\n"
    },
    "tags": []
   },
   "source": [
    "## Dataset variants - different mice were subject to different experimental conditions"
   ]
  },
  {
   "cell_type": "markdown",
   "id": "6274c13d",
   "metadata": {
    "papermill": {
     "duration": 0.02425,
     "end_time": "2023-11-10T18:42:25.307533",
     "exception": false,
     "start_time": "2023-11-10T18:42:25.283283",
     "status": "completed"
    },
    "pycharm": {
     "name": "#%% md\n"
    },
    "tags": []
   },
   "source": [
    "As hinted to above, some mice were trained with image set A, and others with image set B. Including these two groups of mice, with swapped stimulus conditions, was included in the dataset as a control for the effects of novelty, to ensure that any observed changes were truly due to lack of familiarity with the novel image set, rather than a result of specific features of the image set that was used. In addition, some mice were imaged on the Scientifica single plane imaging systems, and other mice were imaged on Multiscope for multi-plane imaging. These distinct groups of mice are referred to as <b>dataset variants</b> and can be identified using the `project_code` column"
   ]
  },
  {
   "cell_type": "markdown",
   "id": "1da1c171",
   "metadata": {
    "papermill": {
     "duration": 0.024267,
     "end_time": "2023-11-10T18:42:25.355943",
     "exception": false,
     "start_time": "2023-11-10T18:42:25.331676",
     "status": "completed"
    },
    "pycharm": {
     "name": "#%% md\n"
    },
    "tags": []
   },
   "source": [
    "<div>\n",
    "<img src=\"https://allensdk.readthedocs.io/en/latest/_static/visual_behavior_2p/datasets.png\" width=\"900\"/>\n",
    "</div>"
   ]
  },
  {
   "cell_type": "markdown",
   "id": "6065bf63",
   "metadata": {
    "papermill": {
     "duration": 0.024668,
     "end_time": "2023-11-10T18:42:25.432668",
     "exception": false,
     "start_time": "2023-11-10T18:42:25.408000",
     "status": "completed"
    },
    "pycharm": {
     "name": "#%% md\n"
    },
    "tags": []
   },
   "source": [
    "Project_code is only defined for ophys sessions, for technical reasons, so let's fill in the gaps so that all mice have a project_code"
   ]
  },
  {
   "cell_type": "code",
   "execution_count": 18,
   "id": "6606e286",
   "metadata": {
    "execution": {
     "iopub.execute_input": "2023-11-10T18:42:25.483661Z",
     "iopub.status.busy": "2023-11-10T18:42:25.483111Z",
     "iopub.status.idle": "2023-11-10T18:42:25.496603Z",
     "shell.execute_reply": "2023-11-10T18:42:25.496016Z"
    },
    "papermill": {
     "duration": 0.040594,
     "end_time": "2023-11-10T18:42:25.498028",
     "exception": false,
     "start_time": "2023-11-10T18:42:25.457434",
     "status": "completed"
    },
    "pycharm": {
     "name": "#%%\n"
    },
    "tags": []
   },
   "outputs": [
    {
     "data": {
      "text/html": [
       "<div>\n",
       "<style scoped>\n",
       "    .dataframe tbody tr th:only-of-type {\n",
       "        vertical-align: middle;\n",
       "    }\n",
       "\n",
       "    .dataframe tbody tr th {\n",
       "        vertical-align: top;\n",
       "    }\n",
       "\n",
       "    .dataframe thead th {\n",
       "        text-align: right;\n",
       "    }\n",
       "</style>\n",
       "<table border=\"1\" class=\"dataframe\">\n",
       "  <thead>\n",
       "    <tr style=\"text-align: right;\">\n",
       "      <th></th>\n",
       "      <th>mouse_id</th>\n",
       "      <th>project_code</th>\n",
       "    </tr>\n",
       "  </thead>\n",
       "  <tbody>\n",
       "    <tr>\n",
       "      <th>0</th>\n",
       "      <td>457841</td>\n",
       "      <td>VisualBehaviorMultiscope</td>\n",
       "    </tr>\n",
       "    <tr>\n",
       "      <th>83</th>\n",
       "      <td>476970</td>\n",
       "      <td>VisualBehaviorTask1B</td>\n",
       "    </tr>\n",
       "    <tr>\n",
       "      <th>159</th>\n",
       "      <td>412036</td>\n",
       "      <td>VisualBehavior</td>\n",
       "    </tr>\n",
       "    <tr>\n",
       "      <th>206</th>\n",
       "      <td>429952</td>\n",
       "      <td>VisualBehavior</td>\n",
       "    </tr>\n",
       "    <tr>\n",
       "      <th>239</th>\n",
       "      <td>449441</td>\n",
       "      <td>VisualBehavior</td>\n",
       "    </tr>\n",
       "    <tr>\n",
       "      <th>...</th>\n",
       "      <td>...</td>\n",
       "      <td>...</td>\n",
       "    </tr>\n",
       "    <tr>\n",
       "      <th>4494</th>\n",
       "      <td>467302</td>\n",
       "      <td>VisualBehavior</td>\n",
       "    </tr>\n",
       "    <tr>\n",
       "      <th>4551</th>\n",
       "      <td>489065</td>\n",
       "      <td>VisualBehaviorMultiscope4areasx2d</td>\n",
       "    </tr>\n",
       "    <tr>\n",
       "      <th>4612</th>\n",
       "      <td>403491</td>\n",
       "      <td>VisualBehavior</td>\n",
       "    </tr>\n",
       "    <tr>\n",
       "      <th>4683</th>\n",
       "      <td>523927</td>\n",
       "      <td>VisualBehavior</td>\n",
       "    </tr>\n",
       "    <tr>\n",
       "      <th>4753</th>\n",
       "      <td>489066</td>\n",
       "      <td>VisualBehaviorTask1B</td>\n",
       "    </tr>\n",
       "  </tbody>\n",
       "</table>\n",
       "<p>107 rows × 2 columns</p>\n",
       "</div>"
      ],
      "text/plain": [
       "     mouse_id                       project_code\n",
       "0      457841           VisualBehaviorMultiscope\n",
       "83     476970               VisualBehaviorTask1B\n",
       "159    412036                     VisualBehavior\n",
       "206    429952                     VisualBehavior\n",
       "239    449441                     VisualBehavior\n",
       "...       ...                                ...\n",
       "4494   467302                     VisualBehavior\n",
       "4551   489065  VisualBehaviorMultiscope4areasx2d\n",
       "4612   403491                     VisualBehavior\n",
       "4683   523927                     VisualBehavior\n",
       "4753   489066               VisualBehaviorTask1B\n",
       "\n",
       "[107 rows x 2 columns]"
      ]
     },
     "execution_count": 18,
     "metadata": {},
     "output_type": "execute_result"
    }
   ],
   "source": [
    "# get a table of the project code for each mouse\n",
    "project_code_lookup = behavior_sessions[behavior_sessions.project_code.isnull()==False].reset_index().drop_duplicates('mouse_id')[['mouse_id','project_code']]\n",
    "project_code_lookup"
   ]
  },
  {
   "cell_type": "code",
   "execution_count": 19,
   "id": "59cfd3f4",
   "metadata": {
    "execution": {
     "iopub.execute_input": "2023-11-10T18:42:25.549178Z",
     "iopub.status.busy": "2023-11-10T18:42:25.548537Z",
     "iopub.status.idle": "2023-11-10T18:42:25.560809Z",
     "shell.execute_reply": "2023-11-10T18:42:25.560218Z"
    },
    "papermill": {
     "duration": 0.039334,
     "end_time": "2023-11-10T18:42:25.562392",
     "exception": false,
     "start_time": "2023-11-10T18:42:25.523058",
     "status": "completed"
    },
    "pycharm": {
     "name": "#%%\n"
    },
    "tags": []
   },
   "outputs": [],
   "source": [
    "behavior_sessions = behavior_sessions.merge(project_code_lookup, on='mouse_id',\n",
    "                                            how='left', suffixes=('_session', '_mouse'))\n",
    "behavior_sessions = behavior_sessions.drop(columns='project_code_session')\n",
    "behavior_sessions = behavior_sessions.rename(columns={'project_code_mouse': 'project_code'})"
   ]
  },
  {
   "cell_type": "markdown",
   "id": "18e78600",
   "metadata": {
    "papermill": {
     "duration": 0.024414,
     "end_time": "2023-11-10T18:42:25.612383",
     "exception": false,
     "start_time": "2023-11-10T18:42:25.587969",
     "status": "completed"
    },
    "pycharm": {
     "name": "#%% md\n"
    },
    "tags": []
   },
   "source": [
    "#### What `project_codes` are available? What  `session_types` belong to each? "
   ]
  },
  {
   "cell_type": "code",
   "execution_count": 20,
   "id": "2893504f",
   "metadata": {
    "execution": {
     "iopub.execute_input": "2023-11-10T18:42:25.663429Z",
     "iopub.status.busy": "2023-11-10T18:42:25.662929Z",
     "iopub.status.idle": "2023-11-10T18:42:25.667975Z",
     "shell.execute_reply": "2023-11-10T18:42:25.667333Z"
    },
    "papermill": {
     "duration": 0.032649,
     "end_time": "2023-11-10T18:42:25.669446",
     "exception": false,
     "start_time": "2023-11-10T18:42:25.636797",
     "status": "completed"
    },
    "pycharm": {
     "name": "#%%\n"
    },
    "tags": []
   },
   "outputs": [
    {
     "data": {
      "text/plain": [
       "array(['VisualBehaviorMultiscope', 'VisualBehaviorTask1B',\n",
       "       'VisualBehavior', 'VisualBehaviorMultiscope4areasx2d'],\n",
       "      dtype=object)"
      ]
     },
     "execution_count": 20,
     "metadata": {},
     "output_type": "execute_result"
    }
   ],
   "source": [
    "behavior_sessions.project_code.unique()"
   ]
  },
  {
   "cell_type": "code",
   "execution_count": 21,
   "id": "93050515",
   "metadata": {
    "execution": {
     "iopub.execute_input": "2023-11-10T18:42:25.721368Z",
     "iopub.status.busy": "2023-11-10T18:42:25.720859Z",
     "iopub.status.idle": "2023-11-10T18:42:25.732610Z",
     "shell.execute_reply": "2023-11-10T18:42:25.731930Z"
    },
    "papermill": {
     "duration": 0.039318,
     "end_time": "2023-11-10T18:42:25.733935",
     "exception": false,
     "start_time": "2023-11-10T18:42:25.694617",
     "status": "completed"
    },
    "pycharm": {
     "name": "#%%\n"
    },
    "tags": []
   },
   "outputs": [
    {
     "name": "stdout",
     "output_type": "stream",
     "text": [
      "\n",
      " project_code: VisualBehaviorMultiscope\n",
      "\n",
      " has these session types:\n",
      " ['OPHYS_0_images_A_habituation' 'OPHYS_1_images_A'\n",
      " 'OPHYS_2_images_A_passive' 'OPHYS_3_images_A' 'OPHYS_3_images_B'\n",
      " 'OPHYS_4_images_B' 'OPHYS_5_images_A_passive' 'OPHYS_5_images_B_passive'\n",
      " 'OPHYS_6_images_A' 'OPHYS_6_images_B'\n",
      " 'TRAINING_0_gratings_autorewards_15min' 'TRAINING_1_gratings'\n",
      " 'TRAINING_2_gratings_flashed' 'TRAINING_3_images_A_10uL_reward'\n",
      " 'TRAINING_4_images_A_training' 'TRAINING_5_images_A_epilogue'\n",
      " 'TRAINING_5_images_A_handoff_lapsed' 'TRAINING_5_images_A_handoff_ready']\n",
      "\n",
      "\n",
      "\n",
      " project_code: VisualBehaviorTask1B\n",
      "\n",
      " has these session types:\n",
      " ['OPHYS_0_images_A_habituation' 'OPHYS_0_images_B_habituation'\n",
      " 'OPHYS_1_images_B' 'OPHYS_2_images_B_passive' 'OPHYS_3_images_B'\n",
      " 'OPHYS_4_images_A' 'OPHYS_4_images_B' 'OPHYS_5_images_A_passive'\n",
      " 'OPHYS_6_images_A' 'TRAINING_0_gratings_autorewards_15min'\n",
      " 'TRAINING_1_gratings' 'TRAINING_2_gratings_flashed'\n",
      " 'TRAINING_3_images_B_10uL_reward' 'TRAINING_4_images_B_training'\n",
      " 'TRAINING_5_images_B_epilogue' 'TRAINING_5_images_B_handoff_lapsed'\n",
      " 'TRAINING_5_images_B_handoff_ready']\n",
      "\n",
      "\n",
      "\n",
      " project_code: VisualBehavior\n",
      "\n",
      " has these session types:\n",
      " ['OPHYS_0_images_A_habituation' 'OPHYS_0_images_B_habituation'\n",
      " 'OPHYS_1_images_A' 'OPHYS_1_images_B' 'OPHYS_2_images_A_passive'\n",
      " 'OPHYS_2_images_B_passive' 'OPHYS_3_images_A' 'OPHYS_3_images_B'\n",
      " 'OPHYS_4_images_A' 'OPHYS_4_images_B' 'OPHYS_5_images_A_passive'\n",
      " 'OPHYS_5_images_B_passive' 'OPHYS_6_images_A' 'OPHYS_6_images_B'\n",
      " 'TRAINING_0_gratings_autorewards_15min' 'TRAINING_1_gratings'\n",
      " 'TRAINING_2_gratings_flashed' 'TRAINING_3_images_A_10uL_reward'\n",
      " 'TRAINING_3_images_B_10uL_reward' 'TRAINING_4_images_A_handoff_lapsed'\n",
      " 'TRAINING_4_images_A_handoff_ready' 'TRAINING_4_images_A_training'\n",
      " 'TRAINING_4_images_B_training' 'TRAINING_5_images_A_epilogue'\n",
      " 'TRAINING_5_images_A_handoff_lapsed' 'TRAINING_5_images_A_handoff_ready'\n",
      " 'TRAINING_5_images_B_epilogue' 'TRAINING_5_images_B_handoff_ready']\n",
      "\n",
      "\n",
      "\n",
      " project_code: VisualBehaviorMultiscope4areasx2d\n",
      "\n",
      " has these session types:\n",
      " ['OPHYS_0_images_G_habituation' 'OPHYS_1_images_G'\n",
      " 'OPHYS_2_images_G_passive' 'OPHYS_3_images_G' 'OPHYS_4_images_H'\n",
      " 'OPHYS_5_images_H_passive' 'OPHYS_6_images_H'\n",
      " 'TRAINING_0_gratings_autorewards_15min' 'TRAINING_1_gratings'\n",
      " 'TRAINING_2_gratings_flashed' 'TRAINING_3_images_G_10uL_reward'\n",
      " 'TRAINING_4_images_G_training' 'TRAINING_5_images_G_epilogue'\n",
      " 'TRAINING_5_images_G_handoff_lapsed' 'TRAINING_5_images_G_handoff_ready']\n",
      "\n",
      "\n"
     ]
    }
   ],
   "source": [
    "for project_code in behavior_sessions.project_code.unique(): \n",
    "    project_sessions = behavior_sessions[behavior_sessions.project_code==project_code]\n",
    "    print('\\n project_code:', project_code)\n",
    "    print('\\n has these session types:\\n', np.sort(\n",
    "        project_sessions.session_type[~project_sessions.session_type.isna()].unique()))\n",
    "    print('\\n')"
   ]
  },
  {
   "cell_type": "markdown",
   "id": "983a12b2",
   "metadata": {
    "papermill": {
     "duration": 0.024517,
     "end_time": "2023-11-10T18:42:25.783788",
     "exception": false,
     "start_time": "2023-11-10T18:42:25.759271",
     "status": "completed"
    },
    "pycharm": {
     "name": "#%% md\n"
    },
    "tags": []
   },
   "source": [
    "Notice that for `project_codes` `VisualBehavior` and `VisualBehaviorMultiscope`, mice are trained on image set A, while for `VisualBehaviorTask1B`, mice are trained on image set B"
   ]
  },
  {
   "cell_type": "code",
   "execution_count": null,
   "id": "e04c6d3e",
   "metadata": {
    "papermill": {
     "duration": 0.024315,
     "end_time": "2023-11-10T18:42:25.832799",
     "exception": false,
     "start_time": "2023-11-10T18:42:25.808484",
     "status": "completed"
    },
    "pycharm": {
     "name": "#%%\n"
    },
    "tags": []
   },
   "outputs": [],
   "source": []
  },
  {
   "cell_type": "markdown",
   "id": "cf0fc554",
   "metadata": {
    "papermill": {
     "duration": 0.024591,
     "end_time": "2023-11-10T18:42:25.882074",
     "exception": false,
     "start_time": "2023-11-10T18:42:25.857483",
     "status": "completed"
    },
    "pycharm": {
     "name": "#%% md\n"
    },
    "tags": []
   },
   "source": [
    "## Ophys Sessions Table"
   ]
  },
  {
   "cell_type": "markdown",
   "id": "05b97a3e",
   "metadata": {
    "papermill": {
     "duration": 0.024593,
     "end_time": "2023-11-10T18:42:25.931596",
     "exception": false,
     "start_time": "2023-11-10T18:42:25.907003",
     "status": "completed"
    },
    "pycharm": {
     "name": "#%% md\n"
    },
    "tags": []
   },
   "source": [
    "The `ophys_session_table` includes all of the metadata columns available in the `behavior_session_table`, as well as additional information specific to 2-photon imaging, namely the list of `ophys_experiment_ids` and `ophys_container_ids` associated with each `ophys_session_id`. "
   ]
  },
  {
   "cell_type": "code",
   "execution_count": 22,
   "id": "8831dcb6",
   "metadata": {
    "execution": {
     "iopub.execute_input": "2023-11-10T18:42:25.982592Z",
     "iopub.status.busy": "2023-11-10T18:42:25.982321Z",
     "iopub.status.idle": "2023-11-10T18:42:26.004056Z",
     "shell.execute_reply": "2023-11-10T18:42:26.003351Z"
    },
    "papermill": {
     "duration": 0.049266,
     "end_time": "2023-11-10T18:42:26.005570",
     "exception": false,
     "start_time": "2023-11-10T18:42:25.956304",
     "status": "completed"
    },
    "pycharm": {
     "name": "#%%\n"
    },
    "tags": []
   },
   "outputs": [
    {
     "name": "stdout",
     "output_type": "stream",
     "text": [
      "Total number of ophys sessions: 703\n",
      "\n",
      "Index(['behavior_session_id', 'ophys_container_id', 'mouse_id', 'indicator',\n",
      "       'full_genotype', 'driver_line', 'cre_line', 'reporter_line', 'sex',\n",
      "       'age_in_days', 'imaging_plane_group_count', 'project_code',\n",
      "       'session_type', 'session_number', 'image_set', 'behavior_type',\n",
      "       'experience_level', 'prior_exposures_to_session_type',\n",
      "       'prior_exposures_to_image_set', 'prior_exposures_to_omissions',\n",
      "       'date_of_acquisition', 'equipment_name', 'num_depths_per_area',\n",
      "       'ophys_experiment_id', 'num_targeted_structures'],\n",
      "      dtype='object')\n"
     ]
    },
    {
     "data": {
      "text/html": [
       "<div>\n",
       "<style scoped>\n",
       "    .dataframe tbody tr th:only-of-type {\n",
       "        vertical-align: middle;\n",
       "    }\n",
       "\n",
       "    .dataframe tbody tr th {\n",
       "        vertical-align: top;\n",
       "    }\n",
       "\n",
       "    .dataframe thead th {\n",
       "        text-align: right;\n",
       "    }\n",
       "</style>\n",
       "<table border=\"1\" class=\"dataframe\">\n",
       "  <thead>\n",
       "    <tr style=\"text-align: right;\">\n",
       "      <th></th>\n",
       "      <th>behavior_session_id</th>\n",
       "      <th>ophys_container_id</th>\n",
       "      <th>mouse_id</th>\n",
       "      <th>indicator</th>\n",
       "      <th>full_genotype</th>\n",
       "      <th>driver_line</th>\n",
       "      <th>cre_line</th>\n",
       "      <th>reporter_line</th>\n",
       "      <th>sex</th>\n",
       "      <th>age_in_days</th>\n",
       "      <th>...</th>\n",
       "      <th>behavior_type</th>\n",
       "      <th>experience_level</th>\n",
       "      <th>prior_exposures_to_session_type</th>\n",
       "      <th>prior_exposures_to_image_set</th>\n",
       "      <th>prior_exposures_to_omissions</th>\n",
       "      <th>date_of_acquisition</th>\n",
       "      <th>equipment_name</th>\n",
       "      <th>num_depths_per_area</th>\n",
       "      <th>ophys_experiment_id</th>\n",
       "      <th>num_targeted_structures</th>\n",
       "    </tr>\n",
       "    <tr>\n",
       "      <th>ophys_session_id</th>\n",
       "      <th></th>\n",
       "      <th></th>\n",
       "      <th></th>\n",
       "      <th></th>\n",
       "      <th></th>\n",
       "      <th></th>\n",
       "      <th></th>\n",
       "      <th></th>\n",
       "      <th></th>\n",
       "      <th></th>\n",
       "      <th></th>\n",
       "      <th></th>\n",
       "      <th></th>\n",
       "      <th></th>\n",
       "      <th></th>\n",
       "      <th></th>\n",
       "      <th></th>\n",
       "      <th></th>\n",
       "      <th></th>\n",
       "      <th></th>\n",
       "      <th></th>\n",
       "    </tr>\n",
       "  </thead>\n",
       "  <tbody>\n",
       "    <tr>\n",
       "      <th>951410079</th>\n",
       "      <td>951520319</td>\n",
       "      <td>[1018028339, 1018028342, 1018028345, 101802835...</td>\n",
       "      <td>457841</td>\n",
       "      <td>GCaMP6f</td>\n",
       "      <td>Sst-IRES-Cre/wt;Ai148(TIT2L-GC6f-ICL-tTA2)/wt</td>\n",
       "      <td>[Sst-IRES-Cre]</td>\n",
       "      <td>Sst-IRES-Cre</td>\n",
       "      <td>Ai148(TIT2L-GC6f-ICL-tTA2)</td>\n",
       "      <td>F</td>\n",
       "      <td>206</td>\n",
       "      <td>...</td>\n",
       "      <td>active_behavior</td>\n",
       "      <td>Familiar</td>\n",
       "      <td>0</td>\n",
       "      <td>65</td>\n",
       "      <td>0</td>\n",
       "      <td>2019-09-20 09:59:38.837000+00:00</td>\n",
       "      <td>MESO.1</td>\n",
       "      <td>4</td>\n",
       "      <td>[951980471, 951980473, 951980475, 951980479, 9...</td>\n",
       "      <td>2</td>\n",
       "    </tr>\n",
       "    <tr>\n",
       "      <th>952430817</th>\n",
       "      <td>952554548</td>\n",
       "      <td>[1018028339, 1018028345, 1018028354, 1018028357]</td>\n",
       "      <td>457841</td>\n",
       "      <td>GCaMP6f</td>\n",
       "      <td>Sst-IRES-Cre/wt;Ai148(TIT2L-GC6f-ICL-tTA2)/wt</td>\n",
       "      <td>[Sst-IRES-Cre]</td>\n",
       "      <td>Sst-IRES-Cre</td>\n",
       "      <td>Ai148(TIT2L-GC6f-ICL-tTA2)</td>\n",
       "      <td>F</td>\n",
       "      <td>209</td>\n",
       "      <td>...</td>\n",
       "      <td>passive_viewing</td>\n",
       "      <td>Familiar</td>\n",
       "      <td>0</td>\n",
       "      <td>66</td>\n",
       "      <td>1</td>\n",
       "      <td>2019-09-23 08:45:38.490000+00:00</td>\n",
       "      <td>MESO.1</td>\n",
       "      <td>4</td>\n",
       "      <td>[953659743, 953659745, 953659749, 953659752]</td>\n",
       "      <td>2</td>\n",
       "    </tr>\n",
       "    <tr>\n",
       "      <th>954954402</th>\n",
       "      <td>953982960</td>\n",
       "      <td>[1018028339, 1018028342, 1018028345, 101802835...</td>\n",
       "      <td>457841</td>\n",
       "      <td>GCaMP6f</td>\n",
       "      <td>Sst-IRES-Cre/wt;Ai148(TIT2L-GC6f-ICL-tTA2)/wt</td>\n",
       "      <td>[Sst-IRES-Cre]</td>\n",
       "      <td>Sst-IRES-Cre</td>\n",
       "      <td>Ai148(TIT2L-GC6f-ICL-tTA2)</td>\n",
       "      <td>F</td>\n",
       "      <td>210</td>\n",
       "      <td>...</td>\n",
       "      <td>active_behavior</td>\n",
       "      <td>Familiar</td>\n",
       "      <td>0</td>\n",
       "      <td>67</td>\n",
       "      <td>2</td>\n",
       "      <td>2019-09-24 09:01:31.582000+00:00</td>\n",
       "      <td>MESO.1</td>\n",
       "      <td>4</td>\n",
       "      <td>[958527464, 958527471, 958527474, 958527479, 9...</td>\n",
       "      <td>2</td>\n",
       "    </tr>\n",
       "    <tr>\n",
       "      <th>955775716</th>\n",
       "      <td>956010809</td>\n",
       "      <td>[1018028339, 1018028342, 1018028345]</td>\n",
       "      <td>457841</td>\n",
       "      <td>GCaMP6f</td>\n",
       "      <td>Sst-IRES-Cre/wt;Ai148(TIT2L-GC6f-ICL-tTA2)/wt</td>\n",
       "      <td>[Sst-IRES-Cre]</td>\n",
       "      <td>Sst-IRES-Cre</td>\n",
       "      <td>Ai148(TIT2L-GC6f-ICL-tTA2)</td>\n",
       "      <td>F</td>\n",
       "      <td>212</td>\n",
       "      <td>...</td>\n",
       "      <td>active_behavior</td>\n",
       "      <td>Familiar</td>\n",
       "      <td>1</td>\n",
       "      <td>68</td>\n",
       "      <td>3</td>\n",
       "      <td>2019-09-26 09:22:21.772000+00:00</td>\n",
       "      <td>MESO.1</td>\n",
       "      <td>4</td>\n",
       "      <td>[956941841, 956941844, 956941846]</td>\n",
       "      <td>2</td>\n",
       "    </tr>\n",
       "    <tr>\n",
       "      <th>957020350</th>\n",
       "      <td>957032492</td>\n",
       "      <td>[1018028339, 1018028342, 1018028345, 101802835...</td>\n",
       "      <td>457841</td>\n",
       "      <td>GCaMP6f</td>\n",
       "      <td>Sst-IRES-Cre/wt;Ai148(TIT2L-GC6f-ICL-tTA2)/wt</td>\n",
       "      <td>[Sst-IRES-Cre]</td>\n",
       "      <td>Sst-IRES-Cre</td>\n",
       "      <td>Ai148(TIT2L-GC6f-ICL-tTA2)</td>\n",
       "      <td>F</td>\n",
       "      <td>213</td>\n",
       "      <td>...</td>\n",
       "      <td>active_behavior</td>\n",
       "      <td>Novel 1</td>\n",
       "      <td>0</td>\n",
       "      <td>0</td>\n",
       "      <td>4</td>\n",
       "      <td>2019-09-27 08:58:37.005000+00:00</td>\n",
       "      <td>MESO.1</td>\n",
       "      <td>4</td>\n",
       "      <td>[957759562, 957759564, 957759566, 957759570, 9...</td>\n",
       "      <td>2</td>\n",
       "    </tr>\n",
       "  </tbody>\n",
       "</table>\n",
       "<p>5 rows × 25 columns</p>\n",
       "</div>"
      ],
      "text/plain": [
       "                  behavior_session_id  \\\n",
       "ophys_session_id                        \n",
       "951410079                   951520319   \n",
       "952430817                   952554548   \n",
       "954954402                   953982960   \n",
       "955775716                   956010809   \n",
       "957020350                   957032492   \n",
       "\n",
       "                                                 ophys_container_id mouse_id  \\\n",
       "ophys_session_id                                                               \n",
       "951410079         [1018028339, 1018028342, 1018028345, 101802835...   457841   \n",
       "952430817          [1018028339, 1018028345, 1018028354, 1018028357]   457841   \n",
       "954954402         [1018028339, 1018028342, 1018028345, 101802835...   457841   \n",
       "955775716                      [1018028339, 1018028342, 1018028345]   457841   \n",
       "957020350         [1018028339, 1018028342, 1018028345, 101802835...   457841   \n",
       "\n",
       "                 indicator                                  full_genotype  \\\n",
       "ophys_session_id                                                            \n",
       "951410079          GCaMP6f  Sst-IRES-Cre/wt;Ai148(TIT2L-GC6f-ICL-tTA2)/wt   \n",
       "952430817          GCaMP6f  Sst-IRES-Cre/wt;Ai148(TIT2L-GC6f-ICL-tTA2)/wt   \n",
       "954954402          GCaMP6f  Sst-IRES-Cre/wt;Ai148(TIT2L-GC6f-ICL-tTA2)/wt   \n",
       "955775716          GCaMP6f  Sst-IRES-Cre/wt;Ai148(TIT2L-GC6f-ICL-tTA2)/wt   \n",
       "957020350          GCaMP6f  Sst-IRES-Cre/wt;Ai148(TIT2L-GC6f-ICL-tTA2)/wt   \n",
       "\n",
       "                     driver_line      cre_line               reporter_line  \\\n",
       "ophys_session_id                                                             \n",
       "951410079         [Sst-IRES-Cre]  Sst-IRES-Cre  Ai148(TIT2L-GC6f-ICL-tTA2)   \n",
       "952430817         [Sst-IRES-Cre]  Sst-IRES-Cre  Ai148(TIT2L-GC6f-ICL-tTA2)   \n",
       "954954402         [Sst-IRES-Cre]  Sst-IRES-Cre  Ai148(TIT2L-GC6f-ICL-tTA2)   \n",
       "955775716         [Sst-IRES-Cre]  Sst-IRES-Cre  Ai148(TIT2L-GC6f-ICL-tTA2)   \n",
       "957020350         [Sst-IRES-Cre]  Sst-IRES-Cre  Ai148(TIT2L-GC6f-ICL-tTA2)   \n",
       "\n",
       "                 sex  age_in_days  ...    behavior_type experience_level  \\\n",
       "ophys_session_id                   ...                                     \n",
       "951410079          F          206  ...  active_behavior         Familiar   \n",
       "952430817          F          209  ...  passive_viewing         Familiar   \n",
       "954954402          F          210  ...  active_behavior         Familiar   \n",
       "955775716          F          212  ...  active_behavior         Familiar   \n",
       "957020350          F          213  ...  active_behavior          Novel 1   \n",
       "\n",
       "                 prior_exposures_to_session_type  \\\n",
       "ophys_session_id                                   \n",
       "951410079                                      0   \n",
       "952430817                                      0   \n",
       "954954402                                      0   \n",
       "955775716                                      1   \n",
       "957020350                                      0   \n",
       "\n",
       "                  prior_exposures_to_image_set prior_exposures_to_omissions  \\\n",
       "ophys_session_id                                                              \n",
       "951410079                                   65                            0   \n",
       "952430817                                   66                            1   \n",
       "954954402                                   67                            2   \n",
       "955775716                                   68                            3   \n",
       "957020350                                    0                            4   \n",
       "\n",
       "                              date_of_acquisition equipment_name  \\\n",
       "ophys_session_id                                                   \n",
       "951410079        2019-09-20 09:59:38.837000+00:00         MESO.1   \n",
       "952430817        2019-09-23 08:45:38.490000+00:00         MESO.1   \n",
       "954954402        2019-09-24 09:01:31.582000+00:00         MESO.1   \n",
       "955775716        2019-09-26 09:22:21.772000+00:00         MESO.1   \n",
       "957020350        2019-09-27 08:58:37.005000+00:00         MESO.1   \n",
       "\n",
       "                  num_depths_per_area  \\\n",
       "ophys_session_id                        \n",
       "951410079                           4   \n",
       "952430817                           4   \n",
       "954954402                           4   \n",
       "955775716                           4   \n",
       "957020350                           4   \n",
       "\n",
       "                                                ophys_experiment_id  \\\n",
       "ophys_session_id                                                      \n",
       "951410079         [951980471, 951980473, 951980475, 951980479, 9...   \n",
       "952430817              [953659743, 953659745, 953659749, 953659752]   \n",
       "954954402         [958527464, 958527471, 958527474, 958527479, 9...   \n",
       "955775716                         [956941841, 956941844, 956941846]   \n",
       "957020350         [957759562, 957759564, 957759566, 957759570, 9...   \n",
       "\n",
       "                  num_targeted_structures  \n",
       "ophys_session_id                           \n",
       "951410079                               2  \n",
       "952430817                               2  \n",
       "954954402                               2  \n",
       "955775716                               2  \n",
       "957020350                               2  \n",
       "\n",
       "[5 rows x 25 columns]"
      ]
     },
     "execution_count": 22,
     "metadata": {},
     "output_type": "execute_result"
    }
   ],
   "source": [
    "ophys_sessions = cache.get_ophys_session_table()\n",
    "\n",
    "print(f\"Total number of ophys sessions: {len(ophys_sessions)}\\n\")\n",
    "\n",
    "print(ophys_sessions.columns)\n",
    "\n",
    "ophys_sessions.head()"
   ]
  },
  {
   "cell_type": "code",
   "execution_count": 23,
   "id": "ca9bb487",
   "metadata": {
    "execution": {
     "iopub.execute_input": "2023-11-10T18:42:26.058581Z",
     "iopub.status.busy": "2023-11-10T18:42:26.058299Z",
     "iopub.status.idle": "2023-11-10T18:42:26.073545Z",
     "shell.execute_reply": "2023-11-10T18:42:26.072821Z"
    },
    "papermill": {
     "duration": 0.043569,
     "end_time": "2023-11-10T18:42:26.074864",
     "exception": false,
     "start_time": "2023-11-10T18:42:26.031295",
     "status": "completed"
    },
    "pycharm": {
     "name": "#%%\n"
    },
    "tags": []
   },
   "outputs": [
    {
     "data": {
      "text/html": [
       "<div>\n",
       "<style scoped>\n",
       "    .dataframe tbody tr th:only-of-type {\n",
       "        vertical-align: middle;\n",
       "    }\n",
       "\n",
       "    .dataframe tbody tr th {\n",
       "        vertical-align: top;\n",
       "    }\n",
       "\n",
       "    .dataframe thead th {\n",
       "        text-align: right;\n",
       "    }\n",
       "</style>\n",
       "<table border=\"1\" class=\"dataframe\">\n",
       "  <thead>\n",
       "    <tr style=\"text-align: right;\">\n",
       "      <th></th>\n",
       "      <th>ophys_experiment_id</th>\n",
       "      <th>ophys_container_id</th>\n",
       "      <th>equipment_name</th>\n",
       "    </tr>\n",
       "    <tr>\n",
       "      <th>ophys_session_id</th>\n",
       "      <th></th>\n",
       "      <th></th>\n",
       "      <th></th>\n",
       "    </tr>\n",
       "  </thead>\n",
       "  <tbody>\n",
       "    <tr>\n",
       "      <th>951410079</th>\n",
       "      <td>[951980471, 951980473, 951980475, 951980479, 9...</td>\n",
       "      <td>[1018028339, 1018028342, 1018028345, 101802835...</td>\n",
       "      <td>MESO.1</td>\n",
       "    </tr>\n",
       "    <tr>\n",
       "      <th>952430817</th>\n",
       "      <td>[953659743, 953659745, 953659749, 953659752]</td>\n",
       "      <td>[1018028339, 1018028345, 1018028354, 1018028357]</td>\n",
       "      <td>MESO.1</td>\n",
       "    </tr>\n",
       "    <tr>\n",
       "      <th>954954402</th>\n",
       "      <td>[958527464, 958527471, 958527474, 958527479, 9...</td>\n",
       "      <td>[1018028339, 1018028342, 1018028345, 101802835...</td>\n",
       "      <td>MESO.1</td>\n",
       "    </tr>\n",
       "    <tr>\n",
       "      <th>955775716</th>\n",
       "      <td>[956941841, 956941844, 956941846]</td>\n",
       "      <td>[1018028339, 1018028342, 1018028345]</td>\n",
       "      <td>MESO.1</td>\n",
       "    </tr>\n",
       "    <tr>\n",
       "      <th>957020350</th>\n",
       "      <td>[957759562, 957759564, 957759566, 957759570, 9...</td>\n",
       "      <td>[1018028339, 1018028342, 1018028345, 101802835...</td>\n",
       "      <td>MESO.1</td>\n",
       "    </tr>\n",
       "    <tr>\n",
       "      <th>958105827</th>\n",
       "      <td>[958741219, 958741222, 958741230, 958741232, 9...</td>\n",
       "      <td>[1018028342, 1018028345, 1018028351, 101802835...</td>\n",
       "      <td>MESO.1</td>\n",
       "    </tr>\n",
       "    <tr>\n",
       "      <th>958772311</th>\n",
       "      <td>[959388788, 959388790, 959388792, 959388796, 9...</td>\n",
       "      <td>[1018028339, 1018028342, 1018028345, 101802835...</td>\n",
       "      <td>MESO.1</td>\n",
       "    </tr>\n",
       "    <tr>\n",
       "      <th>959458018</th>\n",
       "      <td>[960410023, 960410026, 960410028, 960410038, 9...</td>\n",
       "      <td>[1018028339, 1018028342, 1018028345, 101802835...</td>\n",
       "      <td>MESO.1</td>\n",
       "    </tr>\n",
       "    <tr>\n",
       "      <th>993727065</th>\n",
       "      <td>[993862620]</td>\n",
       "      <td>[991913453]</td>\n",
       "      <td>CAM2P.4</td>\n",
       "    </tr>\n",
       "    <tr>\n",
       "      <th>993984066</th>\n",
       "      <td>[994053903]</td>\n",
       "      <td>[991913453]</td>\n",
       "      <td>CAM2P.4</td>\n",
       "    </tr>\n",
       "    <tr>\n",
       "      <th>994199725</th>\n",
       "      <td>[994278281]</td>\n",
       "      <td>[991913453]</td>\n",
       "      <td>CAM2P.4</td>\n",
       "    </tr>\n",
       "    <tr>\n",
       "      <th>994731371</th>\n",
       "      <td>[994790561]</td>\n",
       "      <td>[991913453]</td>\n",
       "      <td>CAM2P.4</td>\n",
       "    </tr>\n",
       "    <tr>\n",
       "      <th>994883056</th>\n",
       "      <td>[994955425]</td>\n",
       "      <td>[991913453]</td>\n",
       "      <td>CAM2P.4</td>\n",
       "    </tr>\n",
       "    <tr>\n",
       "      <th>995115654</th>\n",
       "      <td>[995280513]</td>\n",
       "      <td>[991913453]</td>\n",
       "      <td>CAM2P.4</td>\n",
       "    </tr>\n",
       "    <tr>\n",
       "      <th>995359867</th>\n",
       "      <td>[995439942]</td>\n",
       "      <td>[991913453]</td>\n",
       "      <td>CAM2P.4</td>\n",
       "    </tr>\n",
       "  </tbody>\n",
       "</table>\n",
       "</div>"
      ],
      "text/plain": [
       "                                                ophys_experiment_id  \\\n",
       "ophys_session_id                                                      \n",
       "951410079         [951980471, 951980473, 951980475, 951980479, 9...   \n",
       "952430817              [953659743, 953659745, 953659749, 953659752]   \n",
       "954954402         [958527464, 958527471, 958527474, 958527479, 9...   \n",
       "955775716                         [956941841, 956941844, 956941846]   \n",
       "957020350         [957759562, 957759564, 957759566, 957759570, 9...   \n",
       "958105827         [958741219, 958741222, 958741230, 958741232, 9...   \n",
       "958772311         [959388788, 959388790, 959388792, 959388796, 9...   \n",
       "959458018         [960410023, 960410026, 960410028, 960410038, 9...   \n",
       "993727065                                               [993862620]   \n",
       "993984066                                               [994053903]   \n",
       "994199725                                               [994278281]   \n",
       "994731371                                               [994790561]   \n",
       "994883056                                               [994955425]   \n",
       "995115654                                               [995280513]   \n",
       "995359867                                               [995439942]   \n",
       "\n",
       "                                                 ophys_container_id  \\\n",
       "ophys_session_id                                                      \n",
       "951410079         [1018028339, 1018028342, 1018028345, 101802835...   \n",
       "952430817          [1018028339, 1018028345, 1018028354, 1018028357]   \n",
       "954954402         [1018028339, 1018028342, 1018028345, 101802835...   \n",
       "955775716                      [1018028339, 1018028342, 1018028345]   \n",
       "957020350         [1018028339, 1018028342, 1018028345, 101802835...   \n",
       "958105827         [1018028342, 1018028345, 1018028351, 101802835...   \n",
       "958772311         [1018028339, 1018028342, 1018028345, 101802835...   \n",
       "959458018         [1018028339, 1018028342, 1018028345, 101802835...   \n",
       "993727065                                               [991913453]   \n",
       "993984066                                               [991913453]   \n",
       "994199725                                               [991913453]   \n",
       "994731371                                               [991913453]   \n",
       "994883056                                               [991913453]   \n",
       "995115654                                               [991913453]   \n",
       "995359867                                               [991913453]   \n",
       "\n",
       "                 equipment_name  \n",
       "ophys_session_id                 \n",
       "951410079                MESO.1  \n",
       "952430817                MESO.1  \n",
       "954954402                MESO.1  \n",
       "955775716                MESO.1  \n",
       "957020350                MESO.1  \n",
       "958105827                MESO.1  \n",
       "958772311                MESO.1  \n",
       "959458018                MESO.1  \n",
       "993727065               CAM2P.4  \n",
       "993984066               CAM2P.4  \n",
       "994199725               CAM2P.4  \n",
       "994731371               CAM2P.4  \n",
       "994883056               CAM2P.4  \n",
       "995115654               CAM2P.4  \n",
       "995359867               CAM2P.4  "
      ]
     },
     "execution_count": 23,
     "metadata": {},
     "output_type": "execute_result"
    }
   ],
   "source": [
    "# what do the ophys_experiment_id and ophys_container_id columns look like? \n",
    "# are there always the same number of experiments and containers in different sessions? \n",
    "# does the number of experiments and containers depend on the microscope used? \n",
    "ophys_sessions[['ophys_experiment_id', 'ophys_container_id', 'equipment_name']][:15]"
   ]
  },
  {
   "cell_type": "markdown",
   "id": "5cc382f2",
   "metadata": {
    "papermill": {
     "duration": 0.02516,
     "end_time": "2023-11-10T18:42:26.126268",
     "exception": false,
     "start_time": "2023-11-10T18:42:26.101108",
     "status": "completed"
    },
    "pycharm": {
     "name": "#%% md\n"
    },
    "tags": []
   },
   "source": [
    "## Session order "
   ]
  },
  {
   "cell_type": "markdown",
   "id": "18de9c0a",
   "metadata": {
    "papermill": {
     "duration": 0.02571,
     "end_time": "2023-11-10T18:42:26.176879",
     "exception": false,
     "start_time": "2023-11-10T18:42:26.151169",
     "status": "completed"
    },
    "pycharm": {
     "name": "#%% md\n"
    },
    "tags": []
   },
   "source": [
    "###  The `ophys_session_table` only includes sessions that pass ophys QC "
   ]
  },
  {
   "cell_type": "markdown",
   "id": "9d820569",
   "metadata": {
    "papermill": {
     "duration": 0.026298,
     "end_time": "2023-11-10T18:42:26.229341",
     "exception": false,
     "start_time": "2023-11-10T18:42:26.203043",
     "status": "completed"
    },
    "pycharm": {
     "name": "#%% md\n"
    },
    "tags": []
   },
   "source": [
    "#### (but the `behavior_session_table` includes all the sessions)"
   ]
  },
  {
   "cell_type": "markdown",
   "id": "a7c8920b",
   "metadata": {
    "papermill": {
     "duration": 0.025537,
     "end_time": "2023-11-10T18:42:26.280347",
     "exception": false,
     "start_time": "2023-11-10T18:42:26.254810",
     "status": "completed"
    },
    "pycharm": {
     "name": "#%% md\n"
    },
    "tags": []
   },
   "source": [
    "The `ophys_session_table` only includes sessions with 2-photon imaging data that passed our QC criteria. Importantly, sessions that took place during 2-photon imaging, but did NOT pass QC, can be found in the `behavior_session_table`, as it includes the full training history for every mouse. In the `behavior_session_table`, only sessions with passing ophys data will have an `ophys_session_id`. We can use this to identify ophys sessions that didnt pass QC, but still have behavior data. "
   ]
  },
  {
   "cell_type": "markdown",
   "id": "7684ef65",
   "metadata": {
    "papermill": {
     "duration": 0.025181,
     "end_time": "2023-11-10T18:42:26.330841",
     "exception": false,
     "start_time": "2023-11-10T18:42:26.305660",
     "status": "completed"
    },
    "pycharm": {
     "name": "#%% md\n"
    },
    "tags": []
   },
   "source": [
    "#### Let's look at all the behavior sessions that took place on a 2-photon rig for one mouse, in order of acquisition date"
   ]
  },
  {
   "cell_type": "code",
   "execution_count": 24,
   "id": "9a3d4298",
   "metadata": {
    "execution": {
     "iopub.execute_input": "2023-11-10T18:42:26.383965Z",
     "iopub.status.busy": "2023-11-10T18:42:26.383190Z",
     "iopub.status.idle": "2023-11-10T18:42:26.393536Z",
     "shell.execute_reply": "2023-11-10T18:42:26.392852Z"
    },
    "papermill": {
     "duration": 0.038529,
     "end_time": "2023-11-10T18:42:26.394908",
     "exception": false,
     "start_time": "2023-11-10T18:42:26.356379",
     "status": "completed"
    },
    "pycharm": {
     "name": "#%%\n"
    },
    "scrolled": false,
    "tags": []
   },
   "outputs": [
    {
     "data": {
      "text/html": [
       "<div>\n",
       "<style scoped>\n",
       "    .dataframe tbody tr th:only-of-type {\n",
       "        vertical-align: middle;\n",
       "    }\n",
       "\n",
       "    .dataframe tbody tr th {\n",
       "        vertical-align: top;\n",
       "    }\n",
       "\n",
       "    .dataframe thead th {\n",
       "        text-align: right;\n",
       "    }\n",
       "</style>\n",
       "<table border=\"1\" class=\"dataframe\">\n",
       "  <thead>\n",
       "    <tr style=\"text-align: right;\">\n",
       "      <th></th>\n",
       "      <th>session_type</th>\n",
       "      <th>date_of_acquisition</th>\n",
       "      <th>ophys_session_id</th>\n",
       "    </tr>\n",
       "  </thead>\n",
       "  <tbody>\n",
       "  </tbody>\n",
       "</table>\n",
       "</div>"
      ],
      "text/plain": [
       "Empty DataFrame\n",
       "Columns: [session_type, date_of_acquisition, ophys_session_id]\n",
       "Index: []"
      ]
     },
     "execution_count": 24,
     "metadata": {},
     "output_type": "execute_result"
    }
   ],
   "source": [
    "# pick a mouse\n",
    "mouse_id = 445002 \n",
    "# get behavior sessions that took place on the microscope\n",
    "mouse_ophys_sessions = behavior_sessions[(behavior_sessions.mouse_id==mouse_id)&\n",
    "                                         (behavior_sessions.equipment_name=='CAM2P.3')]\n",
    "# only look at the relevant columns\n",
    "mouse_ophys_sessions.sort_values(by='date_of_acquisition')[['session_type', 'date_of_acquisition', 'ophys_session_id']]"
   ]
  },
  {
   "cell_type": "markdown",
   "id": "e0db92d4",
   "metadata": {
    "papermill": {
     "duration": 0.025222,
     "end_time": "2023-11-10T18:42:26.446284",
     "exception": false,
     "start_time": "2023-11-10T18:42:26.421062",
     "status": "completed"
    },
    "pycharm": {
     "name": "#%% md\n"
    },
    "tags": []
   },
   "source": [
    "Notice that only a subset of all OPHYS sessions have an `ophys_session_id` - these are the sessions that passed QC. Sessions with NaN as the `ophys_session_id` either do not have 2P data recorded (as in habituation sessions), or failed QC and were retaken on a subsequent day, such as `OPHYS_5_images_B_passive` in this case"
   ]
  },
  {
   "cell_type": "code",
   "execution_count": 25,
   "id": "895d8679",
   "metadata": {
    "execution": {
     "iopub.execute_input": "2023-11-10T18:42:26.499382Z",
     "iopub.status.busy": "2023-11-10T18:42:26.498943Z",
     "iopub.status.idle": "2023-11-10T18:42:26.502788Z",
     "shell.execute_reply": "2023-11-10T18:42:26.502117Z"
    },
    "papermill": {
     "duration": 0.032182,
     "end_time": "2023-11-10T18:42:26.504179",
     "exception": false,
     "start_time": "2023-11-10T18:42:26.471997",
     "status": "completed"
    },
    "pycharm": {
     "name": "#%%\n"
    },
    "tags": []
   },
   "outputs": [
    {
     "name": "stdout",
     "output_type": "stream",
     "text": [
      "there are 0 ophys sessions in the behavior_session_table for this mouse\n",
      "this includes ophys sessions that failed QC for ophys, but still have behavior data\n"
     ]
    }
   ],
   "source": [
    "print('there are', len(mouse_ophys_sessions), 'ophys sessions in the behavior_session_table for this mouse')\n",
    "print('this includes ophys sessions that failed QC for ophys, but still have behavior data')"
   ]
  },
  {
   "cell_type": "markdown",
   "id": "4347ef89",
   "metadata": {
    "papermill": {
     "duration": 0.025725,
     "end_time": "2023-11-10T18:42:26.555794",
     "exception": false,
     "start_time": "2023-11-10T18:42:26.530069",
     "status": "completed"
    },
    "pycharm": {
     "name": "#%% md\n"
    },
    "tags": []
   },
   "source": [
    "#### What is available in the `ophys_session_table` for this mouse? "
   ]
  },
  {
   "cell_type": "code",
   "execution_count": 26,
   "id": "9d0e7372",
   "metadata": {
    "execution": {
     "iopub.execute_input": "2023-11-10T18:42:26.609575Z",
     "iopub.status.busy": "2023-11-10T18:42:26.609039Z",
     "iopub.status.idle": "2023-11-10T18:42:26.614427Z",
     "shell.execute_reply": "2023-11-10T18:42:26.613828Z"
    },
    "papermill": {
     "duration": 0.033483,
     "end_time": "2023-11-10T18:42:26.615742",
     "exception": false,
     "start_time": "2023-11-10T18:42:26.582259",
     "status": "completed"
    },
    "pycharm": {
     "name": "#%%\n"
    },
    "scrolled": true,
    "tags": []
   },
   "outputs": [
    {
     "name": "stdout",
     "output_type": "stream",
     "text": [
      "there are 0 sessions in the ophys_session_table for this mouse\n",
      "these are the sessions with valid ophys data\n"
     ]
    }
   ],
   "source": [
    "print('there are', len(ophys_sessions[ophys_sessions.mouse_id==mouse_id]), 'sessions in the ophys_session_table for this mouse')\n",
    "print('these are the sessions with valid ophys data')"
   ]
  },
  {
   "cell_type": "code",
   "execution_count": 27,
   "id": "9a478a25",
   "metadata": {
    "execution": {
     "iopub.execute_input": "2023-11-10T18:42:26.670078Z",
     "iopub.status.busy": "2023-11-10T18:42:26.669626Z",
     "iopub.status.idle": "2023-11-10T18:42:26.677751Z",
     "shell.execute_reply": "2023-11-10T18:42:26.677061Z"
    },
    "papermill": {
     "duration": 0.036759,
     "end_time": "2023-11-10T18:42:26.679148",
     "exception": false,
     "start_time": "2023-11-10T18:42:26.642389",
     "status": "completed"
    },
    "pycharm": {
     "name": "#%%\n"
    },
    "tags": []
   },
   "outputs": [
    {
     "data": {
      "text/html": [
       "<div>\n",
       "<style scoped>\n",
       "    .dataframe tbody tr th:only-of-type {\n",
       "        vertical-align: middle;\n",
       "    }\n",
       "\n",
       "    .dataframe tbody tr th {\n",
       "        vertical-align: top;\n",
       "    }\n",
       "\n",
       "    .dataframe thead th {\n",
       "        text-align: right;\n",
       "    }\n",
       "</style>\n",
       "<table border=\"1\" class=\"dataframe\">\n",
       "  <thead>\n",
       "    <tr style=\"text-align: right;\">\n",
       "      <th></th>\n",
       "      <th>date_of_acquisition</th>\n",
       "      <th>session_type</th>\n",
       "    </tr>\n",
       "    <tr>\n",
       "      <th>ophys_session_id</th>\n",
       "      <th></th>\n",
       "      <th></th>\n",
       "    </tr>\n",
       "  </thead>\n",
       "  <tbody>\n",
       "  </tbody>\n",
       "</table>\n",
       "</div>"
      ],
      "text/plain": [
       "Empty DataFrame\n",
       "Columns: [date_of_acquisition, session_type]\n",
       "Index: []"
      ]
     },
     "execution_count": 27,
     "metadata": {},
     "output_type": "execute_result"
    }
   ],
   "source": [
    "ophys_sessions[ophys_sessions.mouse_id==mouse_id][['date_of_acquisition', 'session_type']]"
   ]
  },
  {
   "cell_type": "markdown",
   "id": "f82f9443",
   "metadata": {
    "papermill": {
     "duration": 0.025728,
     "end_time": "2023-11-10T18:42:26.731317",
     "exception": false,
     "start_time": "2023-11-10T18:42:26.705589",
     "status": "completed"
    },
    "pycharm": {
     "name": "#%% md\n"
    },
    "tags": []
   },
   "source": [
    "### Due to QC failures and retakes, session types in the `ophys_session_table` do not always occur in sequential order"
   ]
  },
  {
   "cell_type": "markdown",
   "id": "bbe5b15f",
   "metadata": {
    "papermill": {
     "duration": 0.025576,
     "end_time": "2023-11-10T18:42:26.782662",
     "exception": false,
     "start_time": "2023-11-10T18:42:26.757086",
     "status": "completed"
    },
    "pycharm": {
     "name": "#%% md\n"
    },
    "tags": []
   },
   "source": [
    "The schematic above depicts ophys sessions OPHYS1-6 in a specific order, however this order is rarely perfectly maintained due to QC failures. The example above shows OPHYS_1-4 in the correct order, but then OPHYS_5 comes after OPHYS_6 because the first attempt at OPHYS_5 failed (as we can see from the behavior_sessions for this mouse), and had to be retaken after OPHYS_6. "
   ]
  },
  {
   "cell_type": "markdown",
   "id": "1fb21893",
   "metadata": {
    "papermill": {
     "duration": 0.025533,
     "end_time": "2023-11-10T18:42:26.834021",
     "exception": false,
     "start_time": "2023-11-10T18:42:26.808488",
     "status": "completed"
    },
    "pycharm": {
     "name": "#%% md\n"
    },
    "tags": []
   },
   "source": [
    "#### Let's look at the session order for a different mouse, imaged on the Multiscope"
   ]
  },
  {
   "cell_type": "code",
   "execution_count": 28,
   "id": "281336e5",
   "metadata": {
    "execution": {
     "iopub.execute_input": "2023-11-10T18:42:26.887439Z",
     "iopub.status.busy": "2023-11-10T18:42:26.886906Z",
     "iopub.status.idle": "2023-11-10T18:42:26.896721Z",
     "shell.execute_reply": "2023-11-10T18:42:26.895981Z"
    },
    "papermill": {
     "duration": 0.038007,
     "end_time": "2023-11-10T18:42:26.898132",
     "exception": false,
     "start_time": "2023-11-10T18:42:26.860125",
     "status": "completed"
    },
    "pycharm": {
     "name": "#%%\n"
    },
    "tags": []
   },
   "outputs": [
    {
     "data": {
      "text/html": [
       "<div>\n",
       "<style scoped>\n",
       "    .dataframe tbody tr th:only-of-type {\n",
       "        vertical-align: middle;\n",
       "    }\n",
       "\n",
       "    .dataframe tbody tr th {\n",
       "        vertical-align: top;\n",
       "    }\n",
       "\n",
       "    .dataframe thead th {\n",
       "        text-align: right;\n",
       "    }\n",
       "</style>\n",
       "<table border=\"1\" class=\"dataframe\">\n",
       "  <thead>\n",
       "    <tr style=\"text-align: right;\">\n",
       "      <th></th>\n",
       "      <th>date_of_acquisition</th>\n",
       "      <th>session_type</th>\n",
       "      <th>ophys_session_id</th>\n",
       "    </tr>\n",
       "  </thead>\n",
       "  <tbody>\n",
       "  </tbody>\n",
       "</table>\n",
       "</div>"
      ],
      "text/plain": [
       "Empty DataFrame\n",
       "Columns: [date_of_acquisition, session_type, ophys_session_id]\n",
       "Index: []"
      ]
     },
     "execution_count": 28,
     "metadata": {},
     "output_type": "execute_result"
    }
   ],
   "source": [
    "# pick a mouse\n",
    "mouse_id = 453911\n",
    "# get behavior sessions that took place on the microscope\n",
    "mouse_ophys_sessions = behavior_sessions[(behavior_sessions.mouse_id==mouse_id)&\n",
    "                                         (behavior_sessions.equipment_name=='MESO.1')]\n",
    "# only look at the relevant columns\n",
    "mouse_ophys_sessions.sort_values(by='date_of_acquisition')[['date_of_acquisition', 'session_type', 'ophys_session_id']]"
   ]
  },
  {
   "cell_type": "markdown",
   "id": "934f44ca",
   "metadata": {
    "papermill": {
     "duration": 0.026252,
     "end_time": "2023-11-10T18:42:26.950639",
     "exception": false,
     "start_time": "2023-11-10T18:42:26.924387",
     "status": "completed"
    },
    "pycharm": {
     "name": "#%% md\n"
    },
    "tags": []
   },
   "source": [
    "Looks like lots of retakes for this one (where `ophys_session_id` = NaN). Also note that there are multiple retakes for some `session_types`. This can happen for mice imaged on Multiscope, because retakes can be triggered by QC failure of any one of the 8 imaging planes in the session. "
   ]
  },
  {
   "cell_type": "markdown",
   "id": "2da74236",
   "metadata": {
    "papermill": {
     "duration": 0.027254,
     "end_time": "2023-11-10T18:42:27.004731",
     "exception": false,
     "start_time": "2023-11-10T18:42:26.977477",
     "status": "completed"
    },
    "pycharm": {
     "name": "#%% md\n"
    },
    "tags": []
   },
   "source": [
    "#### Let's look at how failures and retakes affects the session order in the `ophys_sessions` table for this mouse"
   ]
  },
  {
   "cell_type": "code",
   "execution_count": 29,
   "id": "4619658c",
   "metadata": {
    "execution": {
     "iopub.execute_input": "2023-11-10T18:42:27.061969Z",
     "iopub.status.busy": "2023-11-10T18:42:27.061451Z",
     "iopub.status.idle": "2023-11-10T18:42:27.070334Z",
     "shell.execute_reply": "2023-11-10T18:42:27.069527Z"
    },
    "papermill": {
     "duration": 0.038965,
     "end_time": "2023-11-10T18:42:27.072055",
     "exception": false,
     "start_time": "2023-11-10T18:42:27.033090",
     "status": "completed"
    },
    "pycharm": {
     "name": "#%%\n"
    },
    "tags": []
   },
   "outputs": [
    {
     "data": {
      "text/html": [
       "<div>\n",
       "<style scoped>\n",
       "    .dataframe tbody tr th:only-of-type {\n",
       "        vertical-align: middle;\n",
       "    }\n",
       "\n",
       "    .dataframe tbody tr th {\n",
       "        vertical-align: top;\n",
       "    }\n",
       "\n",
       "    .dataframe thead th {\n",
       "        text-align: right;\n",
       "    }\n",
       "</style>\n",
       "<table border=\"1\" class=\"dataframe\">\n",
       "  <thead>\n",
       "    <tr style=\"text-align: right;\">\n",
       "      <th></th>\n",
       "      <th>date_of_acquisition</th>\n",
       "      <th>session_type</th>\n",
       "    </tr>\n",
       "    <tr>\n",
       "      <th>ophys_session_id</th>\n",
       "      <th></th>\n",
       "      <th></th>\n",
       "    </tr>\n",
       "  </thead>\n",
       "  <tbody>\n",
       "  </tbody>\n",
       "</table>\n",
       "</div>"
      ],
      "text/plain": [
       "Empty DataFrame\n",
       "Columns: [date_of_acquisition, session_type]\n",
       "Index: []"
      ]
     },
     "execution_count": 29,
     "metadata": {},
     "output_type": "execute_result"
    }
   ],
   "source": [
    "ophys_sessions[ophys_sessions.mouse_id==mouse_id][['date_of_acquisition', 'session_type']]"
   ]
  },
  {
   "cell_type": "markdown",
   "id": "b4a5f2a9",
   "metadata": {
    "papermill": {
     "duration": 0.025935,
     "end_time": "2023-11-10T18:42:27.129875",
     "exception": false,
     "start_time": "2023-11-10T18:42:27.103940",
     "status": "completed"
    },
    "pycharm": {
     "name": "#%% md\n"
    },
    "tags": []
   },
   "source": [
    "It looks like the first set of sessions are taken in sequential order, but after that there are a few retakes of some of the `session_types`. This suggests that some of the imaging planes for this Multiscope mouse passed QC on the first time around, but retakes were needed to get passing ophys data for other imaging planes. "
   ]
  },
  {
   "cell_type": "markdown",
   "id": "ba86289b",
   "metadata": {
    "papermill": {
     "duration": 0.026188,
     "end_time": "2023-11-10T18:42:27.182135",
     "exception": false,
     "start_time": "2023-11-10T18:42:27.155947",
     "status": "completed"
    },
    "pycharm": {
     "name": "#%% md\n"
    },
    "tags": []
   },
   "source": [
    "#### But they're not always out of order, sometimes things go perfectly! "
   ]
  },
  {
   "cell_type": "code",
   "execution_count": 30,
   "id": "66199121",
   "metadata": {
    "execution": {
     "iopub.execute_input": "2023-11-10T18:42:27.236113Z",
     "iopub.status.busy": "2023-11-10T18:42:27.235513Z",
     "iopub.status.idle": "2023-11-10T18:42:27.246265Z",
     "shell.execute_reply": "2023-11-10T18:42:27.245547Z"
    },
    "papermill": {
     "duration": 0.039325,
     "end_time": "2023-11-10T18:42:27.247734",
     "exception": false,
     "start_time": "2023-11-10T18:42:27.208409",
     "status": "completed"
    },
    "pycharm": {
     "name": "#%%\n"
    },
    "tags": []
   },
   "outputs": [
    {
     "data": {
      "text/html": [
       "<div>\n",
       "<style scoped>\n",
       "    .dataframe tbody tr th:only-of-type {\n",
       "        vertical-align: middle;\n",
       "    }\n",
       "\n",
       "    .dataframe tbody tr th {\n",
       "        vertical-align: top;\n",
       "    }\n",
       "\n",
       "    .dataframe thead th {\n",
       "        text-align: right;\n",
       "    }\n",
       "</style>\n",
       "<table border=\"1\" class=\"dataframe\">\n",
       "  <thead>\n",
       "    <tr style=\"text-align: right;\">\n",
       "      <th></th>\n",
       "      <th>date_of_acquisition</th>\n",
       "      <th>session_type</th>\n",
       "      <th>ophys_session_id</th>\n",
       "    </tr>\n",
       "  </thead>\n",
       "  <tbody>\n",
       "  </tbody>\n",
       "</table>\n",
       "</div>"
      ],
      "text/plain": [
       "Empty DataFrame\n",
       "Columns: [date_of_acquisition, session_type, ophys_session_id]\n",
       "Index: []"
      ]
     },
     "execution_count": 30,
     "metadata": {},
     "output_type": "execute_result"
    }
   ],
   "source": [
    "# pick a mouse\n",
    "mouse_id = 438912\n",
    "# get behavior sessions that took place on the microscope\n",
    "mouse_ophys_sessions = behavior_sessions[(behavior_sessions.mouse_id==mouse_id)&\n",
    "                                         (behavior_sessions.equipment_name=='MESO.1')]\n",
    "# only look at the relevant columns\n",
    "mouse_ophys_sessions.sort_values(by='date_of_acquisition')[['date_of_acquisition', 'session_type', 'ophys_session_id']]"
   ]
  },
  {
   "cell_type": "markdown",
   "id": "98aeda1d",
   "metadata": {
    "papermill": {
     "duration": 0.026862,
     "end_time": "2023-11-10T18:42:27.301315",
     "exception": false,
     "start_time": "2023-11-10T18:42:27.274453",
     "status": "completed"
    },
    "pycharm": {
     "name": "#%% md\n"
    },
    "tags": []
   },
   "source": [
    "Well, nearly perfectly, OPHYS_5 came after OPHYS_6"
   ]
  },
  {
   "cell_type": "markdown",
   "id": "b1e021a9",
   "metadata": {
    "papermill": {
     "duration": 0.026269,
     "end_time": "2023-11-10T18:42:27.353884",
     "exception": false,
     "start_time": "2023-11-10T18:42:27.327615",
     "status": "completed"
    },
    "pycharm": {
     "name": "#%% md\n"
    },
    "tags": []
   },
   "source": [
    "### Prior Exposures"
   ]
  },
  {
   "cell_type": "markdown",
   "id": "2f9fee8c",
   "metadata": {
    "papermill": {
     "duration": 0.025529,
     "end_time": "2023-11-10T18:42:27.405000",
     "exception": false,
     "start_time": "2023-11-10T18:42:27.379471",
     "status": "completed"
    },
    "pycharm": {
     "name": "#%% md\n"
    },
    "tags": []
   },
   "source": [
    "Because the session types can be out of order due to retakes, and because of some of our other experimental design decisions, it is helpful to know some information about the history of the mouse relative to a given session. To serve this purpose, we have included metadata describing the `prior_exposures_to_image_set`, `prior_exposures_to_session_type`, and `prior_exposures_to_omissions` as columns in all the manifest data tables. "
   ]
  },
  {
   "cell_type": "markdown",
   "id": "f6693273",
   "metadata": {
    "papermill": {
     "duration": 0.025735,
     "end_time": "2023-11-10T18:42:27.456494",
     "exception": false,
     "start_time": "2023-11-10T18:42:27.430759",
     "status": "completed"
    },
    "pycharm": {
     "name": "#%% md\n"
    },
    "tags": []
   },
   "source": [
    "### `prior_exposures_to_image_set`"
   ]
  },
  {
   "cell_type": "markdown",
   "id": "3a7a18d4",
   "metadata": {
    "papermill": {
     "duration": 0.026474,
     "end_time": "2023-11-10T18:42:27.509527",
     "exception": false,
     "start_time": "2023-11-10T18:42:27.483053",
     "status": "completed"
    },
    "pycharm": {
     "name": "#%% md\n"
    },
    "tags": []
   },
   "source": [
    "A key aspect of our experimental design is the inclusion of novel stimuli during the imaging phase of the experiment. However, after the very first session with these novel images, they actually start to become more and more familiar. So, it is important to know whether a given session is truly the first exposure to that image set. In addition, it is useful to know whether subsequent sessions are the second, third, fourth, etc. exposure to that image set, for analysis of changes in activity with experience following novelty. The `prior_exposures_to_image_set` column describes the number of sessions that a given mouse has observed the stimulus set that was shown in that session, prior to the start of that session. For the very first exposure to a novel image set, the value of `prior_exposures_to_image_set` will be 0. "
   ]
  },
  {
   "cell_type": "markdown",
   "id": "39a69f2e",
   "metadata": {
    "papermill": {
     "duration": 0.025849,
     "end_time": "2023-11-10T18:42:27.561388",
     "exception": false,
     "start_time": "2023-11-10T18:42:27.535539",
     "status": "completed"
    },
    "pycharm": {
     "name": "#%% md\n"
    },
    "tags": []
   },
   "source": [
    "#### Let's look at the `prior_exposures_to_image_set` column for one of the mice we looked at above, first in the `behavior_session_table`, which contains all sessions the mouse experienced, then in the `ophys_session_table`, which only includes sessions that passed ophys QC"
   ]
  },
  {
   "cell_type": "code",
   "execution_count": 31,
   "id": "1e4cda23",
   "metadata": {
    "execution": {
     "iopub.execute_input": "2023-11-10T18:42:27.614739Z",
     "iopub.status.busy": "2023-11-10T18:42:27.614460Z",
     "iopub.status.idle": "2023-11-10T18:42:27.625425Z",
     "shell.execute_reply": "2023-11-10T18:42:27.624747Z"
    },
    "papermill": {
     "duration": 0.039208,
     "end_time": "2023-11-10T18:42:27.626827",
     "exception": false,
     "start_time": "2023-11-10T18:42:27.587619",
     "status": "completed"
    },
    "pycharm": {
     "name": "#%%\n"
    },
    "tags": []
   },
   "outputs": [
    {
     "data": {
      "text/html": [
       "<div>\n",
       "<style scoped>\n",
       "    .dataframe tbody tr th:only-of-type {\n",
       "        vertical-align: middle;\n",
       "    }\n",
       "\n",
       "    .dataframe tbody tr th {\n",
       "        vertical-align: top;\n",
       "    }\n",
       "\n",
       "    .dataframe thead th {\n",
       "        text-align: right;\n",
       "    }\n",
       "</style>\n",
       "<table border=\"1\" class=\"dataframe\">\n",
       "  <thead>\n",
       "    <tr style=\"text-align: right;\">\n",
       "      <th></th>\n",
       "      <th>session_type</th>\n",
       "      <th>date_of_acquisition</th>\n",
       "      <th>ophys_session_id</th>\n",
       "      <th>prior_exposures_to_image_set</th>\n",
       "    </tr>\n",
       "  </thead>\n",
       "  <tbody>\n",
       "  </tbody>\n",
       "</table>\n",
       "</div>"
      ],
      "text/plain": [
       "Empty DataFrame\n",
       "Columns: [session_type, date_of_acquisition, ophys_session_id, prior_exposures_to_image_set]\n",
       "Index: []"
      ]
     },
     "execution_count": 31,
     "metadata": {},
     "output_type": "execute_result"
    }
   ],
   "source": [
    "mouse_id = 445002 \n",
    "# get behavior sessions that took place on the microscope\n",
    "mouse_ophys_sessions = behavior_sessions[(behavior_sessions.mouse_id==mouse_id)&\n",
    "                                         (behavior_sessions.equipment_name=='CAM2P.3')]\n",
    "# only look at the relevant columns\n",
    "mouse_ophys_sessions.sort_values(by='date_of_acquisition')[['session_type', 'date_of_acquisition', 'ophys_session_id', 'prior_exposures_to_image_set']]"
   ]
  },
  {
   "cell_type": "markdown",
   "id": "53d7c797",
   "metadata": {
    "papermill": {
     "duration": 0.026171,
     "end_time": "2023-11-10T18:42:27.680220",
     "exception": false,
     "start_time": "2023-11-10T18:42:27.654049",
     "status": "completed"
    },
    "pycharm": {
     "name": "#%% md\n"
    },
    "tags": []
   },
   "source": [
    "Note that `prior_exposures_to_image_set` is a high number for `OPHYS_0-3`, because that is the image set the mouse was trained on, and that it re-sets to zero for the first exposure to the novel image set in `OPHYS_4`"
   ]
  },
  {
   "cell_type": "markdown",
   "id": "e0fbaddf",
   "metadata": {
    "papermill": {
     "duration": 0.025835,
     "end_time": "2023-11-10T18:42:27.732331",
     "exception": false,
     "start_time": "2023-11-10T18:42:27.706496",
     "status": "completed"
    },
    "pycharm": {
     "name": "#%% md\n"
    },
    "tags": []
   },
   "source": [
    "#### Let's double check the full training history for this mouse"
   ]
  },
  {
   "cell_type": "code",
   "execution_count": 32,
   "id": "c60129c2",
   "metadata": {
    "execution": {
     "iopub.execute_input": "2023-11-10T18:42:27.785745Z",
     "iopub.status.busy": "2023-11-10T18:42:27.785466Z",
     "iopub.status.idle": "2023-11-10T18:42:27.795341Z",
     "shell.execute_reply": "2023-11-10T18:42:27.794756Z"
    },
    "papermill": {
     "duration": 0.038513,
     "end_time": "2023-11-10T18:42:27.796644",
     "exception": false,
     "start_time": "2023-11-10T18:42:27.758131",
     "status": "completed"
    },
    "pycharm": {
     "name": "#%%\n"
    },
    "tags": []
   },
   "outputs": [
    {
     "data": {
      "text/html": [
       "<div>\n",
       "<style scoped>\n",
       "    .dataframe tbody tr th:only-of-type {\n",
       "        vertical-align: middle;\n",
       "    }\n",
       "\n",
       "    .dataframe tbody tr th {\n",
       "        vertical-align: top;\n",
       "    }\n",
       "\n",
       "    .dataframe thead th {\n",
       "        text-align: right;\n",
       "    }\n",
       "</style>\n",
       "<table border=\"1\" class=\"dataframe\">\n",
       "  <thead>\n",
       "    <tr style=\"text-align: right;\">\n",
       "      <th></th>\n",
       "      <th>session_type</th>\n",
       "      <th>date_of_acquisition</th>\n",
       "      <th>ophys_session_id</th>\n",
       "      <th>prior_exposures_to_image_set</th>\n",
       "    </tr>\n",
       "  </thead>\n",
       "  <tbody>\n",
       "  </tbody>\n",
       "</table>\n",
       "</div>"
      ],
      "text/plain": [
       "Empty DataFrame\n",
       "Columns: [session_type, date_of_acquisition, ophys_session_id, prior_exposures_to_image_set]\n",
       "Index: []"
      ]
     },
     "execution_count": 32,
     "metadata": {},
     "output_type": "execute_result"
    }
   ],
   "source": [
    "mouse_id = 445002 \n",
    "# get behavior sessions that took place on the microscope\n",
    "mouse_ophys_sessions = behavior_sessions[(behavior_sessions.mouse_id==mouse_id)]\n",
    "# only look at the relevant columns\n",
    "mouse_ophys_sessions.sort_values(by='date_of_acquisition')[['session_type', 'date_of_acquisition', 'ophys_session_id', 'prior_exposures_to_image_set']]"
   ]
  },
  {
   "cell_type": "markdown",
   "id": "5edd5efc",
   "metadata": {
    "papermill": {
     "duration": 0.025929,
     "end_time": "2023-11-10T18:42:27.849233",
     "exception": false,
     "start_time": "2023-11-10T18:42:27.823304",
     "status": "completed"
    },
    "pycharm": {
     "name": "#%% md\n"
    },
    "tags": []
   },
   "source": [
    "Knowing the prior exposures number is especially important for the `ophys_session_table`, because the sessions that failed ophys QC are not visible there, so it is difficult to know whether a given session was the first of its type or a retake. "
   ]
  },
  {
   "cell_type": "code",
   "execution_count": 33,
   "id": "9027e240",
   "metadata": {
    "execution": {
     "iopub.execute_input": "2023-11-10T18:42:27.902817Z",
     "iopub.status.busy": "2023-11-10T18:42:27.902237Z",
     "iopub.status.idle": "2023-11-10T18:42:27.910531Z",
     "shell.execute_reply": "2023-11-10T18:42:27.909857Z"
    },
    "papermill": {
     "duration": 0.036529,
     "end_time": "2023-11-10T18:42:27.911835",
     "exception": false,
     "start_time": "2023-11-10T18:42:27.875306",
     "status": "completed"
    },
    "pycharm": {
     "name": "#%%\n"
    },
    "tags": []
   },
   "outputs": [
    {
     "data": {
      "text/html": [
       "<div>\n",
       "<style scoped>\n",
       "    .dataframe tbody tr th:only-of-type {\n",
       "        vertical-align: middle;\n",
       "    }\n",
       "\n",
       "    .dataframe tbody tr th {\n",
       "        vertical-align: top;\n",
       "    }\n",
       "\n",
       "    .dataframe thead th {\n",
       "        text-align: right;\n",
       "    }\n",
       "</style>\n",
       "<table border=\"1\" class=\"dataframe\">\n",
       "  <thead>\n",
       "    <tr style=\"text-align: right;\">\n",
       "      <th></th>\n",
       "      <th>date_of_acquisition</th>\n",
       "      <th>session_type</th>\n",
       "      <th>prior_exposures_to_image_set</th>\n",
       "    </tr>\n",
       "    <tr>\n",
       "      <th>ophys_session_id</th>\n",
       "      <th></th>\n",
       "      <th></th>\n",
       "      <th></th>\n",
       "    </tr>\n",
       "  </thead>\n",
       "  <tbody>\n",
       "  </tbody>\n",
       "</table>\n",
       "</div>"
      ],
      "text/plain": [
       "Empty DataFrame\n",
       "Columns: [date_of_acquisition, session_type, prior_exposures_to_image_set]\n",
       "Index: []"
      ]
     },
     "execution_count": 33,
     "metadata": {},
     "output_type": "execute_result"
    }
   ],
   "source": [
    "ophys_sessions[ophys_sessions.mouse_id==mouse_id][['date_of_acquisition', 'session_type', 'prior_exposures_to_image_set']]"
   ]
  },
  {
   "cell_type": "markdown",
   "id": "0ec46b22",
   "metadata": {
    "papermill": {
     "duration": 0.025937,
     "end_time": "2023-11-10T18:42:27.964578",
     "exception": false,
     "start_time": "2023-11-10T18:42:27.938641",
     "status": "completed"
    },
    "pycharm": {
     "name": "#%% md\n"
    },
    "tags": []
   },
   "source": [
    "### `prior_exposures_to_session_type`"
   ]
  },
  {
   "cell_type": "markdown",
   "id": "6be4c69a",
   "metadata": {
    "papermill": {
     "duration": 0.026126,
     "end_time": "2023-11-10T18:42:28.016729",
     "exception": false,
     "start_time": "2023-11-10T18:42:27.990603",
     "status": "completed"
    },
    "pycharm": {
     "name": "#%% md\n"
    },
    "tags": []
   },
   "source": [
    "In some cases, you may want to know how many times a given `session_type` was seen by the mouse. For example, to know whether a passive viewing session was the very first time the mouse experienced a passive session with no lick spout, as there may be a difference in expectation of reward between the first passive session and a later one where the mouse has become accustomed to sometimes having the lick spout removed. "
   ]
  },
  {
   "cell_type": "markdown",
   "id": "eae9b601",
   "metadata": {
    "papermill": {
     "duration": 0.027966,
     "end_time": "2023-11-10T18:42:28.071020",
     "exception": false,
     "start_time": "2023-11-10T18:42:28.043054",
     "status": "completed"
    },
    "pycharm": {
     "name": "#%% md\n"
    },
    "tags": []
   },
   "source": [
    "#### compare `prior_exposures_to_session_type` in the `behavior_session_table` with the `ophys_session_table` for a given mouse"
   ]
  },
  {
   "cell_type": "code",
   "execution_count": 34,
   "id": "a0ab006e",
   "metadata": {
    "execution": {
     "iopub.execute_input": "2023-11-10T18:42:28.124956Z",
     "iopub.status.busy": "2023-11-10T18:42:28.124478Z",
     "iopub.status.idle": "2023-11-10T18:42:28.134738Z",
     "shell.execute_reply": "2023-11-10T18:42:28.134048Z"
    },
    "papermill": {
     "duration": 0.03873,
     "end_time": "2023-11-10T18:42:28.136089",
     "exception": false,
     "start_time": "2023-11-10T18:42:28.097359",
     "status": "completed"
    },
    "pycharm": {
     "name": "#%%\n"
    },
    "tags": []
   },
   "outputs": [
    {
     "data": {
      "text/html": [
       "<div>\n",
       "<style scoped>\n",
       "    .dataframe tbody tr th:only-of-type {\n",
       "        vertical-align: middle;\n",
       "    }\n",
       "\n",
       "    .dataframe tbody tr th {\n",
       "        vertical-align: top;\n",
       "    }\n",
       "\n",
       "    .dataframe thead th {\n",
       "        text-align: right;\n",
       "    }\n",
       "</style>\n",
       "<table border=\"1\" class=\"dataframe\">\n",
       "  <thead>\n",
       "    <tr style=\"text-align: right;\">\n",
       "      <th></th>\n",
       "      <th>date_of_acquisition</th>\n",
       "      <th>session_type</th>\n",
       "      <th>ophys_session_id</th>\n",
       "      <th>prior_exposures_to_session_type</th>\n",
       "    </tr>\n",
       "  </thead>\n",
       "  <tbody>\n",
       "  </tbody>\n",
       "</table>\n",
       "</div>"
      ],
      "text/plain": [
       "Empty DataFrame\n",
       "Columns: [date_of_acquisition, session_type, ophys_session_id, prior_exposures_to_session_type]\n",
       "Index: []"
      ]
     },
     "execution_count": 34,
     "metadata": {},
     "output_type": "execute_result"
    }
   ],
   "source": [
    "# pick a mouse\n",
    "mouse_id = 456915\n",
    "# get behavior sessions that took place on the microscope\n",
    "mouse_ophys_sessions = behavior_sessions[(behavior_sessions.mouse_id==mouse_id)&\n",
    "                                         (behavior_sessions.equipment_name=='MESO.1')]\n",
    "# only look at the relevant columns\n",
    "mouse_ophys_sessions.sort_values(by='date_of_acquisition')[['date_of_acquisition', 'session_type', 'ophys_session_id', 'prior_exposures_to_session_type']]"
   ]
  },
  {
   "cell_type": "code",
   "execution_count": 35,
   "id": "8e318120",
   "metadata": {
    "execution": {
     "iopub.execute_input": "2023-11-10T18:42:28.191083Z",
     "iopub.status.busy": "2023-11-10T18:42:28.190499Z",
     "iopub.status.idle": "2023-11-10T18:42:28.198944Z",
     "shell.execute_reply": "2023-11-10T18:42:28.198219Z"
    },
    "papermill": {
     "duration": 0.037005,
     "end_time": "2023-11-10T18:42:28.200274",
     "exception": false,
     "start_time": "2023-11-10T18:42:28.163269",
     "status": "completed"
    },
    "pycharm": {
     "name": "#%%\n"
    },
    "tags": []
   },
   "outputs": [
    {
     "data": {
      "text/html": [
       "<div>\n",
       "<style scoped>\n",
       "    .dataframe tbody tr th:only-of-type {\n",
       "        vertical-align: middle;\n",
       "    }\n",
       "\n",
       "    .dataframe tbody tr th {\n",
       "        vertical-align: top;\n",
       "    }\n",
       "\n",
       "    .dataframe thead th {\n",
       "        text-align: right;\n",
       "    }\n",
       "</style>\n",
       "<table border=\"1\" class=\"dataframe\">\n",
       "  <thead>\n",
       "    <tr style=\"text-align: right;\">\n",
       "      <th></th>\n",
       "      <th>date_of_acquisition</th>\n",
       "      <th>session_type</th>\n",
       "      <th>prior_exposures_to_session_type</th>\n",
       "    </tr>\n",
       "    <tr>\n",
       "      <th>ophys_session_id</th>\n",
       "      <th></th>\n",
       "      <th></th>\n",
       "      <th></th>\n",
       "    </tr>\n",
       "  </thead>\n",
       "  <tbody>\n",
       "  </tbody>\n",
       "</table>\n",
       "</div>"
      ],
      "text/plain": [
       "Empty DataFrame\n",
       "Columns: [date_of_acquisition, session_type, prior_exposures_to_session_type]\n",
       "Index: []"
      ]
     },
     "execution_count": 35,
     "metadata": {},
     "output_type": "execute_result"
    }
   ],
   "source": [
    "ophys_sessions[ophys_sessions.mouse_id==mouse_id][['date_of_acquisition', 'session_type', 'prior_exposures_to_session_type']]"
   ]
  },
  {
   "cell_type": "markdown",
   "id": "39290a73",
   "metadata": {
    "papermill": {
     "duration": 0.026172,
     "end_time": "2023-11-10T18:42:28.254003",
     "exception": false,
     "start_time": "2023-11-10T18:42:28.227831",
     "status": "completed"
    },
    "pycharm": {
     "name": "#%% md\n"
    },
    "tags": []
   },
   "source": [
    "Without the `prior_exposures_to_session_type` column in the `ophys_session_table`, it would be difficult to know that `OPHYS_2_images_A_passive` was actually the second time (1 prior exposure) that the mouse had experienced a passive vieweing session"
   ]
  },
  {
   "cell_type": "markdown",
   "id": "9c0f83d1",
   "metadata": {
    "papermill": {
     "duration": 0.025927,
     "end_time": "2023-11-10T18:42:28.306207",
     "exception": false,
     "start_time": "2023-11-10T18:42:28.280280",
     "status": "completed"
    },
    "pycharm": {
     "name": "#%% md\n"
    },
    "tags": []
   },
   "source": [
    "### `prior_exposures_to_omissions`"
   ]
  },
  {
   "cell_type": "markdown",
   "id": "7d825055",
   "metadata": {
    "papermill": {
     "duration": 0.026515,
     "end_time": "2023-11-10T18:42:28.359365",
     "exception": false,
     "start_time": "2023-11-10T18:42:28.332850",
     "status": "completed"
    },
    "pycharm": {
     "name": "#%% md\n"
    },
    "tags": []
   },
   "source": [
    "Another unique aspect of the experimental design of this dataset is the inclusion of stimulus omissions in the 2-photon portion of the experiment. During behavioral training, mice experience a highly regular cadence of himage presentations, with 250ms per stimulus presentation, with a 500ms gray screen in between. During imaging sessions, stimulus presentations (other than the change and pre-change images) are omitted with a 5% probability, resulting in some inter stimlus intervals appearing as an extended gray screen period. This allows exploration of potential effects of temporal expectation on neural activity. "
   ]
  },
  {
   "cell_type": "markdown",
   "id": "fd3599f6",
   "metadata": {
    "papermill": {
     "duration": 0.026442,
     "end_time": "2023-11-10T18:42:28.412468",
     "exception": false,
     "start_time": "2023-11-10T18:42:28.386026",
     "status": "completed"
    },
    "pycharm": {
     "name": "#%% md\n"
    },
    "tags": []
   },
   "source": [
    "<div>\n",
    "<img src=\"https://allensdk.readthedocs.io/en/latest/_static/visual_behavior_2p/omissions.png\" width=\"900\"/>\n",
    "</div>"
   ]
  },
  {
   "cell_type": "markdown",
   "id": "62088262",
   "metadata": {
    "papermill": {
     "duration": 0.026407,
     "end_time": "2023-11-10T18:42:28.465707",
     "exception": false,
     "start_time": "2023-11-10T18:42:28.439300",
     "status": "completed"
    },
    "pycharm": {
     "name": "#%% md\n"
    },
    "tags": []
   },
   "source": [
    "#### Let's look at `prior_exposures_to_omissions` in a few mice"
   ]
  },
  {
   "cell_type": "code",
   "execution_count": 36,
   "id": "9d31c411",
   "metadata": {
    "execution": {
     "iopub.execute_input": "2023-11-10T18:42:28.520589Z",
     "iopub.status.busy": "2023-11-10T18:42:28.520112Z",
     "iopub.status.idle": "2023-11-10T18:42:28.526921Z",
     "shell.execute_reply": "2023-11-10T18:42:28.526297Z"
    },
    "papermill": {
     "duration": 0.035922,
     "end_time": "2023-11-10T18:42:28.528285",
     "exception": false,
     "start_time": "2023-11-10T18:42:28.492363",
     "status": "completed"
    },
    "pycharm": {
     "name": "#%%\n"
    },
    "tags": []
   },
   "outputs": [
    {
     "data": {
      "text/plain": [
       "array(['412036', '412366', '423606', '425493', '425496', '429952',\n",
       "       '431252', '436662', '442709', '447663', '448900', '453913',\n",
       "       '456564', '462468', '467953', '468866', '476970', '479458',\n",
       "       '480753', '489066', '492395', '523927', '524274', '533161',\n",
       "       '533162', '538219', '539518', '544261', '549976'], dtype=object)"
      ]
     },
     "execution_count": 36,
     "metadata": {},
     "output_type": "execute_result"
    }
   ],
   "source": [
    "np.sort(behavior_sessions[behavior_sessions.equipment_name=='CAM2P.4'].mouse_id.unique())"
   ]
  },
  {
   "cell_type": "code",
   "execution_count": 37,
   "id": "79764ccc",
   "metadata": {
    "execution": {
     "iopub.execute_input": "2023-11-10T18:42:28.583254Z",
     "iopub.status.busy": "2023-11-10T18:42:28.582774Z",
     "iopub.status.idle": "2023-11-10T18:42:28.593036Z",
     "shell.execute_reply": "2023-11-10T18:42:28.592351Z"
    },
    "papermill": {
     "duration": 0.038938,
     "end_time": "2023-11-10T18:42:28.594474",
     "exception": false,
     "start_time": "2023-11-10T18:42:28.555536",
     "status": "completed"
    },
    "pycharm": {
     "name": "#%%\n"
    },
    "tags": []
   },
   "outputs": [
    {
     "data": {
      "text/html": [
       "<div>\n",
       "<style scoped>\n",
       "    .dataframe tbody tr th:only-of-type {\n",
       "        vertical-align: middle;\n",
       "    }\n",
       "\n",
       "    .dataframe tbody tr th {\n",
       "        vertical-align: top;\n",
       "    }\n",
       "\n",
       "    .dataframe thead th {\n",
       "        text-align: right;\n",
       "    }\n",
       "</style>\n",
       "<table border=\"1\" class=\"dataframe\">\n",
       "  <thead>\n",
       "    <tr style=\"text-align: right;\">\n",
       "      <th></th>\n",
       "      <th>date_of_acquisition</th>\n",
       "      <th>session_type</th>\n",
       "      <th>ophys_session_id</th>\n",
       "      <th>equipment_name</th>\n",
       "      <th>prior_exposures_to_omissions</th>\n",
       "    </tr>\n",
       "  </thead>\n",
       "  <tbody>\n",
       "  </tbody>\n",
       "</table>\n",
       "</div>"
      ],
      "text/plain": [
       "Empty DataFrame\n",
       "Columns: [date_of_acquisition, session_type, ophys_session_id, equipment_name, prior_exposures_to_omissions]\n",
       "Index: []"
      ]
     },
     "execution_count": 37,
     "metadata": {},
     "output_type": "execute_result"
    }
   ],
   "source": [
    "# pick a mouse\n",
    "mouse_id = 436662\n",
    "# get behavior sessions that took place on the microscope\n",
    "mouse_ophys_sessions = behavior_sessions[(behavior_sessions.mouse_id==mouse_id)&\n",
    "                                        (behavior_sessions.equipment_name=='CAM2P.4')]\n",
    "# only look at the relevant columns\n",
    "mouse_ophys_sessions.sort_values(by='date_of_acquisition')[['date_of_acquisition', 'session_type', 'ophys_session_id', 'equipment_name',  'prior_exposures_to_omissions']]"
   ]
  },
  {
   "cell_type": "markdown",
   "id": "e99daa09",
   "metadata": {
    "papermill": {
     "duration": 0.025979,
     "end_time": "2023-11-10T18:42:28.647765",
     "exception": false,
     "start_time": "2023-11-10T18:42:28.621786",
     "status": "completed"
    },
    "pycharm": {
     "name": "#%% md\n"
    },
    "tags": []
   },
   "source": [
    "In this case (and in most cases), omissions do not occur until the first true imaging session on the 2-photon rig, `OPHYS_1`, i.e. they are not included in habituation sessions. However, in a small number of mice from the beginning of our data collection process, omissions did occur in habituation sessions (but never during training). This is something to be careful of if you are looking at something like the change in omission related activity with experience. "
   ]
  },
  {
   "cell_type": "markdown",
   "id": "77c1cab6",
   "metadata": {
    "papermill": {
     "duration": 0.02723,
     "end_time": "2023-11-10T18:42:28.702239",
     "exception": false,
     "start_time": "2023-11-10T18:42:28.675009",
     "status": "completed"
    },
    "pycharm": {
     "name": "#%% md\n"
    },
    "tags": []
   },
   "source": [
    "Here is a mouse that saw omissions during habituation sessions. Also note that the first two habituation sessions took place on different microscopes (this is extremely rare, every effort is made to image a given mouse on the same 2-photon rig during its entire lifetime). "
   ]
  },
  {
   "cell_type": "code",
   "execution_count": 38,
   "id": "6e8ca8f0",
   "metadata": {
    "execution": {
     "iopub.execute_input": "2023-11-10T18:42:28.757092Z",
     "iopub.status.busy": "2023-11-10T18:42:28.756687Z",
     "iopub.status.idle": "2023-11-10T18:42:28.766604Z",
     "shell.execute_reply": "2023-11-10T18:42:28.766007Z"
    },
    "papermill": {
     "duration": 0.038839,
     "end_time": "2023-11-10T18:42:28.767938",
     "exception": false,
     "start_time": "2023-11-10T18:42:28.729099",
     "status": "completed"
    },
    "pycharm": {
     "name": "#%%\n"
    },
    "tags": []
   },
   "outputs": [
    {
     "data": {
      "text/html": [
       "<div>\n",
       "<style scoped>\n",
       "    .dataframe tbody tr th:only-of-type {\n",
       "        vertical-align: middle;\n",
       "    }\n",
       "\n",
       "    .dataframe tbody tr th {\n",
       "        vertical-align: top;\n",
       "    }\n",
       "\n",
       "    .dataframe thead th {\n",
       "        text-align: right;\n",
       "    }\n",
       "</style>\n",
       "<table border=\"1\" class=\"dataframe\">\n",
       "  <thead>\n",
       "    <tr style=\"text-align: right;\">\n",
       "      <th></th>\n",
       "      <th>date_of_acquisition</th>\n",
       "      <th>session_type</th>\n",
       "      <th>ophys_session_id</th>\n",
       "      <th>equipment_name</th>\n",
       "      <th>prior_exposures_to_omissions</th>\n",
       "    </tr>\n",
       "  </thead>\n",
       "  <tbody>\n",
       "  </tbody>\n",
       "</table>\n",
       "</div>"
      ],
      "text/plain": [
       "Empty DataFrame\n",
       "Columns: [date_of_acquisition, session_type, ophys_session_id, equipment_name, prior_exposures_to_omissions]\n",
       "Index: []"
      ]
     },
     "execution_count": 38,
     "metadata": {},
     "output_type": "execute_result"
    }
   ],
   "source": [
    "# pick a mouse\n",
    "mouse_id = 423606\n",
    "# get behavior sessions - include training as well\n",
    "mouse_ophys_sessions = behavior_sessions[(behavior_sessions.mouse_id==mouse_id)]\n",
    "# only look at the relevant columns\n",
    "mouse_ophys_sessions.sort_values(by='date_of_acquisition')[['date_of_acquisition', 'session_type', 'ophys_session_id', 'equipment_name',  'prior_exposures_to_omissions']]"
   ]
  },
  {
   "cell_type": "markdown",
   "id": "408ba8d1",
   "metadata": {
    "papermill": {
     "duration": 0.026918,
     "end_time": "2023-11-10T18:42:28.822276",
     "exception": false,
     "start_time": "2023-11-10T18:42:28.795358",
     "status": "completed"
    },
    "pycharm": {
     "name": "#%% md\n"
    },
    "tags": []
   },
   "source": [
    "### Here is how to identify all mice that saw omissions during habituation sessions"
   ]
  },
  {
   "cell_type": "code",
   "execution_count": 39,
   "id": "bf60216c",
   "metadata": {
    "execution": {
     "iopub.execute_input": "2023-11-10T18:42:28.877006Z",
     "iopub.status.busy": "2023-11-10T18:42:28.876735Z",
     "iopub.status.idle": "2023-11-10T18:42:28.883770Z",
     "shell.execute_reply": "2023-11-10T18:42:28.883208Z"
    },
    "papermill": {
     "duration": 0.035956,
     "end_time": "2023-11-10T18:42:28.885176",
     "exception": false,
     "start_time": "2023-11-10T18:42:28.849220",
     "status": "completed"
    },
    "pycharm": {
     "name": "#%%\n"
    },
    "tags": []
   },
   "outputs": [
    {
     "name": "stdout",
     "output_type": "stream",
     "text": [
      "14  mice had omissions during habituation\n"
     ]
    }
   ],
   "source": [
    "# get all behavior sessions that were habituation sessions (image set A or B) \n",
    "# where the prior exposures to omissions was not zero\n",
    "habituation_with_omission = behavior_sessions[((behavior_sessions.session_type=='OPHYS_0_images_A_habituation')|\n",
    "                              (behavior_sessions.session_type=='OPHYS_0_images_B_habituation'))&\n",
    "                              (behavior_sessions.prior_exposures_to_omissions>0)]\n",
    "\n",
    "mice_with_omission_during_habituation = habituation_with_omission.mouse_id.unique()\n",
    "\n",
    "print(len(mice_with_omission_during_habituation), ' mice had omissions during habituation')"
   ]
  },
  {
   "cell_type": "code",
   "execution_count": null,
   "id": "b3ba42ef",
   "metadata": {
    "papermill": {
     "duration": 0.027189,
     "end_time": "2023-11-10T18:42:28.940352",
     "exception": false,
     "start_time": "2023-11-10T18:42:28.913163",
     "status": "completed"
    },
    "pycharm": {
     "name": "#%%\n"
    },
    "tags": []
   },
   "outputs": [],
   "source": []
  },
  {
   "cell_type": "markdown",
   "id": "9dd5f5e5",
   "metadata": {
    "papermill": {
     "duration": 0.027277,
     "end_time": "2023-11-10T18:42:28.995122",
     "exception": false,
     "start_time": "2023-11-10T18:42:28.967845",
     "status": "completed"
    },
    "pycharm": {
     "name": "#%% md\n"
    },
    "tags": []
   },
   "source": [
    "## Ophys Experiment Table"
   ]
  },
  {
   "cell_type": "markdown",
   "id": "9ec2a91c",
   "metadata": {
    "papermill": {
     "duration": 0.02769,
     "end_time": "2023-11-10T18:42:29.050408",
     "exception": false,
     "start_time": "2023-11-10T18:42:29.022718",
     "status": "completed"
    },
    "pycharm": {
     "name": "#%% md\n"
    },
    "tags": []
   },
   "source": [
    "The `ophys_experiment_table` contains all ophys data that passes QC, organized according to individual imaging planes in individual sessions, each associated with an `ophys_experiment_id`. The `ophys_experiment_table` contains all the columns in `ophys_session_table`, plus a few additional ones specific to individual imaging planes, namely `imaging_depth` and `targeted_structure`."
   ]
  },
  {
   "cell_type": "code",
   "execution_count": 40,
   "id": "4d0f19fd",
   "metadata": {
    "execution": {
     "iopub.execute_input": "2023-11-10T18:42:29.107552Z",
     "iopub.status.busy": "2023-11-10T18:42:29.107286Z",
     "iopub.status.idle": "2023-11-10T18:42:29.125832Z",
     "shell.execute_reply": "2023-11-10T18:42:29.125141Z"
    },
    "papermill": {
     "duration": 0.048672,
     "end_time": "2023-11-10T18:42:29.127293",
     "exception": false,
     "start_time": "2023-11-10T18:42:29.078621",
     "status": "completed"
    },
    "pycharm": {
     "name": "#%%\n"
    },
    "tags": []
   },
   "outputs": [
    {
     "name": "stdout",
     "output_type": "stream",
     "text": [
      "Total number of ophys experiments: 1936\n",
      "\n"
     ]
    },
    {
     "data": {
      "text/html": [
       "<div>\n",
       "<style scoped>\n",
       "    .dataframe tbody tr th:only-of-type {\n",
       "        vertical-align: middle;\n",
       "    }\n",
       "\n",
       "    .dataframe tbody tr th {\n",
       "        vertical-align: top;\n",
       "    }\n",
       "\n",
       "    .dataframe thead th {\n",
       "        text-align: right;\n",
       "    }\n",
       "</style>\n",
       "<table border=\"1\" class=\"dataframe\">\n",
       "  <thead>\n",
       "    <tr style=\"text-align: right;\">\n",
       "      <th></th>\n",
       "      <th>behavior_session_id</th>\n",
       "      <th>ophys_session_id</th>\n",
       "      <th>ophys_container_id</th>\n",
       "      <th>mouse_id</th>\n",
       "      <th>indicator</th>\n",
       "      <th>full_genotype</th>\n",
       "      <th>driver_line</th>\n",
       "      <th>cre_line</th>\n",
       "      <th>reporter_line</th>\n",
       "      <th>sex</th>\n",
       "      <th>...</th>\n",
       "      <th>passive</th>\n",
       "      <th>experience_level</th>\n",
       "      <th>prior_exposures_to_session_type</th>\n",
       "      <th>prior_exposures_to_image_set</th>\n",
       "      <th>prior_exposures_to_omissions</th>\n",
       "      <th>date_of_acquisition</th>\n",
       "      <th>equipment_name</th>\n",
       "      <th>published_at</th>\n",
       "      <th>isi_experiment_id</th>\n",
       "      <th>file_id</th>\n",
       "    </tr>\n",
       "    <tr>\n",
       "      <th>ophys_experiment_id</th>\n",
       "      <th></th>\n",
       "      <th></th>\n",
       "      <th></th>\n",
       "      <th></th>\n",
       "      <th></th>\n",
       "      <th></th>\n",
       "      <th></th>\n",
       "      <th></th>\n",
       "      <th></th>\n",
       "      <th></th>\n",
       "      <th></th>\n",
       "      <th></th>\n",
       "      <th></th>\n",
       "      <th></th>\n",
       "      <th></th>\n",
       "      <th></th>\n",
       "      <th></th>\n",
       "      <th></th>\n",
       "      <th></th>\n",
       "      <th></th>\n",
       "      <th></th>\n",
       "    </tr>\n",
       "  </thead>\n",
       "  <tbody>\n",
       "    <tr>\n",
       "      <th>951980471</th>\n",
       "      <td>951520319</td>\n",
       "      <td>951410079</td>\n",
       "      <td>1018028342</td>\n",
       "      <td>457841</td>\n",
       "      <td>GCaMP6f</td>\n",
       "      <td>Sst-IRES-Cre/wt;Ai148(TIT2L-GC6f-ICL-tTA2)/wt</td>\n",
       "      <td>[Sst-IRES-Cre]</td>\n",
       "      <td>Sst-IRES-Cre</td>\n",
       "      <td>Ai148(TIT2L-GC6f-ICL-tTA2)</td>\n",
       "      <td>F</td>\n",
       "      <td>...</td>\n",
       "      <td>False</td>\n",
       "      <td>Familiar</td>\n",
       "      <td>0</td>\n",
       "      <td>65</td>\n",
       "      <td>0</td>\n",
       "      <td>2019-09-20 09:59:38.837000+00:00</td>\n",
       "      <td>MESO.1</td>\n",
       "      <td>2021-03-25</td>\n",
       "      <td>848974280</td>\n",
       "      <td>0</td>\n",
       "    </tr>\n",
       "    <tr>\n",
       "      <th>951980473</th>\n",
       "      <td>951520319</td>\n",
       "      <td>951410079</td>\n",
       "      <td>1018028345</td>\n",
       "      <td>457841</td>\n",
       "      <td>GCaMP6f</td>\n",
       "      <td>Sst-IRES-Cre/wt;Ai148(TIT2L-GC6f-ICL-tTA2)/wt</td>\n",
       "      <td>[Sst-IRES-Cre]</td>\n",
       "      <td>Sst-IRES-Cre</td>\n",
       "      <td>Ai148(TIT2L-GC6f-ICL-tTA2)</td>\n",
       "      <td>F</td>\n",
       "      <td>...</td>\n",
       "      <td>False</td>\n",
       "      <td>Familiar</td>\n",
       "      <td>0</td>\n",
       "      <td>65</td>\n",
       "      <td>0</td>\n",
       "      <td>2019-09-20 09:59:38.837000+00:00</td>\n",
       "      <td>MESO.1</td>\n",
       "      <td>2021-03-25</td>\n",
       "      <td>848974280</td>\n",
       "      <td>1</td>\n",
       "    </tr>\n",
       "    <tr>\n",
       "      <th>951980475</th>\n",
       "      <td>951520319</td>\n",
       "      <td>951410079</td>\n",
       "      <td>1018028339</td>\n",
       "      <td>457841</td>\n",
       "      <td>GCaMP6f</td>\n",
       "      <td>Sst-IRES-Cre/wt;Ai148(TIT2L-GC6f-ICL-tTA2)/wt</td>\n",
       "      <td>[Sst-IRES-Cre]</td>\n",
       "      <td>Sst-IRES-Cre</td>\n",
       "      <td>Ai148(TIT2L-GC6f-ICL-tTA2)</td>\n",
       "      <td>F</td>\n",
       "      <td>...</td>\n",
       "      <td>False</td>\n",
       "      <td>Familiar</td>\n",
       "      <td>0</td>\n",
       "      <td>65</td>\n",
       "      <td>0</td>\n",
       "      <td>2019-09-20 09:59:38.837000+00:00</td>\n",
       "      <td>MESO.1</td>\n",
       "      <td>2021-03-25</td>\n",
       "      <td>848974280</td>\n",
       "      <td>2</td>\n",
       "    </tr>\n",
       "    <tr>\n",
       "      <th>951980479</th>\n",
       "      <td>951520319</td>\n",
       "      <td>951410079</td>\n",
       "      <td>1018028354</td>\n",
       "      <td>457841</td>\n",
       "      <td>GCaMP6f</td>\n",
       "      <td>Sst-IRES-Cre/wt;Ai148(TIT2L-GC6f-ICL-tTA2)/wt</td>\n",
       "      <td>[Sst-IRES-Cre]</td>\n",
       "      <td>Sst-IRES-Cre</td>\n",
       "      <td>Ai148(TIT2L-GC6f-ICL-tTA2)</td>\n",
       "      <td>F</td>\n",
       "      <td>...</td>\n",
       "      <td>False</td>\n",
       "      <td>Familiar</td>\n",
       "      <td>0</td>\n",
       "      <td>65</td>\n",
       "      <td>0</td>\n",
       "      <td>2019-09-20 09:59:38.837000+00:00</td>\n",
       "      <td>MESO.1</td>\n",
       "      <td>2021-03-25</td>\n",
       "      <td>848974280</td>\n",
       "      <td>3</td>\n",
       "    </tr>\n",
       "    <tr>\n",
       "      <th>951980481</th>\n",
       "      <td>951520319</td>\n",
       "      <td>951410079</td>\n",
       "      <td>1018028357</td>\n",
       "      <td>457841</td>\n",
       "      <td>GCaMP6f</td>\n",
       "      <td>Sst-IRES-Cre/wt;Ai148(TIT2L-GC6f-ICL-tTA2)/wt</td>\n",
       "      <td>[Sst-IRES-Cre]</td>\n",
       "      <td>Sst-IRES-Cre</td>\n",
       "      <td>Ai148(TIT2L-GC6f-ICL-tTA2)</td>\n",
       "      <td>F</td>\n",
       "      <td>...</td>\n",
       "      <td>False</td>\n",
       "      <td>Familiar</td>\n",
       "      <td>0</td>\n",
       "      <td>65</td>\n",
       "      <td>0</td>\n",
       "      <td>2019-09-20 09:59:38.837000+00:00</td>\n",
       "      <td>MESO.1</td>\n",
       "      <td>2021-03-25</td>\n",
       "      <td>848974280</td>\n",
       "      <td>4</td>\n",
       "    </tr>\n",
       "  </tbody>\n",
       "</table>\n",
       "<p>5 rows × 30 columns</p>\n",
       "</div>"
      ],
      "text/plain": [
       "                     behavior_session_id  ophys_session_id  \\\n",
       "ophys_experiment_id                                          \n",
       "951980471                      951520319         951410079   \n",
       "951980473                      951520319         951410079   \n",
       "951980475                      951520319         951410079   \n",
       "951980479                      951520319         951410079   \n",
       "951980481                      951520319         951410079   \n",
       "\n",
       "                     ophys_container_id mouse_id indicator  \\\n",
       "ophys_experiment_id                                          \n",
       "951980471                    1018028342   457841   GCaMP6f   \n",
       "951980473                    1018028345   457841   GCaMP6f   \n",
       "951980475                    1018028339   457841   GCaMP6f   \n",
       "951980479                    1018028354   457841   GCaMP6f   \n",
       "951980481                    1018028357   457841   GCaMP6f   \n",
       "\n",
       "                                                     full_genotype  \\\n",
       "ophys_experiment_id                                                  \n",
       "951980471            Sst-IRES-Cre/wt;Ai148(TIT2L-GC6f-ICL-tTA2)/wt   \n",
       "951980473            Sst-IRES-Cre/wt;Ai148(TIT2L-GC6f-ICL-tTA2)/wt   \n",
       "951980475            Sst-IRES-Cre/wt;Ai148(TIT2L-GC6f-ICL-tTA2)/wt   \n",
       "951980479            Sst-IRES-Cre/wt;Ai148(TIT2L-GC6f-ICL-tTA2)/wt   \n",
       "951980481            Sst-IRES-Cre/wt;Ai148(TIT2L-GC6f-ICL-tTA2)/wt   \n",
       "\n",
       "                        driver_line      cre_line               reporter_line  \\\n",
       "ophys_experiment_id                                                             \n",
       "951980471            [Sst-IRES-Cre]  Sst-IRES-Cre  Ai148(TIT2L-GC6f-ICL-tTA2)   \n",
       "951980473            [Sst-IRES-Cre]  Sst-IRES-Cre  Ai148(TIT2L-GC6f-ICL-tTA2)   \n",
       "951980475            [Sst-IRES-Cre]  Sst-IRES-Cre  Ai148(TIT2L-GC6f-ICL-tTA2)   \n",
       "951980479            [Sst-IRES-Cre]  Sst-IRES-Cre  Ai148(TIT2L-GC6f-ICL-tTA2)   \n",
       "951980481            [Sst-IRES-Cre]  Sst-IRES-Cre  Ai148(TIT2L-GC6f-ICL-tTA2)   \n",
       "\n",
       "                    sex  ...  passive  experience_level  \\\n",
       "ophys_experiment_id      ...                              \n",
       "951980471             F  ...    False          Familiar   \n",
       "951980473             F  ...    False          Familiar   \n",
       "951980475             F  ...    False          Familiar   \n",
       "951980479             F  ...    False          Familiar   \n",
       "951980481             F  ...    False          Familiar   \n",
       "\n",
       "                    prior_exposures_to_session_type  \\\n",
       "ophys_experiment_id                                   \n",
       "951980471                                         0   \n",
       "951980473                                         0   \n",
       "951980475                                         0   \n",
       "951980479                                         0   \n",
       "951980481                                         0   \n",
       "\n",
       "                     prior_exposures_to_image_set  \\\n",
       "ophys_experiment_id                                 \n",
       "951980471                                      65   \n",
       "951980473                                      65   \n",
       "951980475                                      65   \n",
       "951980479                                      65   \n",
       "951980481                                      65   \n",
       "\n",
       "                     prior_exposures_to_omissions  \\\n",
       "ophys_experiment_id                                 \n",
       "951980471                                       0   \n",
       "951980473                                       0   \n",
       "951980475                                       0   \n",
       "951980479                                       0   \n",
       "951980481                                       0   \n",
       "\n",
       "                                 date_of_acquisition equipment_name  \\\n",
       "ophys_experiment_id                                                   \n",
       "951980471           2019-09-20 09:59:38.837000+00:00         MESO.1   \n",
       "951980473           2019-09-20 09:59:38.837000+00:00         MESO.1   \n",
       "951980475           2019-09-20 09:59:38.837000+00:00         MESO.1   \n",
       "951980479           2019-09-20 09:59:38.837000+00:00         MESO.1   \n",
       "951980481           2019-09-20 09:59:38.837000+00:00         MESO.1   \n",
       "\n",
       "                     published_at isi_experiment_id file_id  \n",
       "ophys_experiment_id                                          \n",
       "951980471              2021-03-25         848974280       0  \n",
       "951980473              2021-03-25         848974280       1  \n",
       "951980475              2021-03-25         848974280       2  \n",
       "951980479              2021-03-25         848974280       3  \n",
       "951980481              2021-03-25         848974280       4  \n",
       "\n",
       "[5 rows x 30 columns]"
      ]
     },
     "execution_count": 40,
     "metadata": {},
     "output_type": "execute_result"
    }
   ],
   "source": [
    "ophys_experiments = cache.get_ophys_experiment_table()\n",
    "\n",
    "print(f\"Total number of ophys experiments: {len(ophys_experiments)}\\n\")\n",
    "\n",
    "ophys_experiments.head()"
   ]
  },
  {
   "cell_type": "markdown",
   "id": "90e742ca",
   "metadata": {
    "papermill": {
     "duration": 0.027396,
     "end_time": "2023-11-10T18:42:29.182985",
     "exception": false,
     "start_time": "2023-11-10T18:42:29.155589",
     "status": "completed"
    },
    "pycharm": {
     "name": "#%% md\n"
    },
    "tags": []
   },
   "source": [
    "#### Compare the columns of `ophys_sessions_table` with `ophys_experiments_table`"
   ]
  },
  {
   "cell_type": "code",
   "execution_count": 41,
   "id": "2935b6a8",
   "metadata": {
    "execution": {
     "iopub.execute_input": "2023-11-10T18:42:29.238597Z",
     "iopub.status.busy": "2023-11-10T18:42:29.238042Z",
     "iopub.status.idle": "2023-11-10T18:42:29.243016Z",
     "shell.execute_reply": "2023-11-10T18:42:29.242256Z"
    },
    "papermill": {
     "duration": 0.034901,
     "end_time": "2023-11-10T18:42:29.244834",
     "exception": false,
     "start_time": "2023-11-10T18:42:29.209933",
     "status": "completed"
    },
    "pycharm": {
     "name": "#%%\n"
    },
    "tags": []
   },
   "outputs": [
    {
     "data": {
      "text/plain": [
       "Index(['behavior_session_id', 'ophys_container_id', 'mouse_id', 'indicator',\n",
       "       'full_genotype', 'driver_line', 'cre_line', 'reporter_line', 'sex',\n",
       "       'age_in_days', 'imaging_plane_group_count', 'project_code',\n",
       "       'session_type', 'session_number', 'image_set', 'behavior_type',\n",
       "       'experience_level', 'prior_exposures_to_session_type',\n",
       "       'prior_exposures_to_image_set', 'prior_exposures_to_omissions',\n",
       "       'date_of_acquisition', 'equipment_name', 'num_depths_per_area',\n",
       "       'ophys_experiment_id', 'num_targeted_structures'],\n",
       "      dtype='object')"
      ]
     },
     "execution_count": 41,
     "metadata": {},
     "output_type": "execute_result"
    }
   ],
   "source": [
    "ophys_sessions.columns"
   ]
  },
  {
   "cell_type": "code",
   "execution_count": 42,
   "id": "a5fb01f7",
   "metadata": {
    "execution": {
     "iopub.execute_input": "2023-11-10T18:42:29.302384Z",
     "iopub.status.busy": "2023-11-10T18:42:29.301910Z",
     "iopub.status.idle": "2023-11-10T18:42:29.306925Z",
     "shell.execute_reply": "2023-11-10T18:42:29.306248Z"
    },
    "papermill": {
     "duration": 0.035218,
     "end_time": "2023-11-10T18:42:29.308327",
     "exception": false,
     "start_time": "2023-11-10T18:42:29.273109",
     "status": "completed"
    },
    "pycharm": {
     "name": "#%%\n"
    },
    "tags": []
   },
   "outputs": [
    {
     "data": {
      "text/plain": [
       "Index(['behavior_session_id', 'ophys_session_id', 'ophys_container_id',\n",
       "       'mouse_id', 'indicator', 'full_genotype', 'driver_line', 'cre_line',\n",
       "       'reporter_line', 'sex', 'age_in_days', 'imaging_depth',\n",
       "       'targeted_structure', 'targeted_imaging_depth', 'imaging_plane_group',\n",
       "       'project_code', 'session_type', 'session_number', 'image_set',\n",
       "       'behavior_type', 'passive', 'experience_level',\n",
       "       'prior_exposures_to_session_type', 'prior_exposures_to_image_set',\n",
       "       'prior_exposures_to_omissions', 'date_of_acquisition', 'equipment_name',\n",
       "       'published_at', 'isi_experiment_id', 'file_id'],\n",
       "      dtype='object')"
      ]
     },
     "execution_count": 42,
     "metadata": {},
     "output_type": "execute_result"
    }
   ],
   "source": [
    "ophys_experiments.columns"
   ]
  },
  {
   "cell_type": "markdown",
   "id": "731e2ab8",
   "metadata": {
    "papermill": {
     "duration": 0.027716,
     "end_time": "2023-11-10T18:42:29.364303",
     "exception": false,
     "start_time": "2023-11-10T18:42:29.336587",
     "status": "completed"
    },
    "pycharm": {
     "name": "#%% md\n"
    },
    "tags": []
   },
   "source": [
    "#### What `imaging_depths` and `targeted_structures` are available? Are they different depending on `project_code`?"
   ]
  },
  {
   "cell_type": "code",
   "execution_count": 43,
   "id": "31028431",
   "metadata": {
    "execution": {
     "iopub.execute_input": "2023-11-10T18:42:29.422018Z",
     "iopub.status.busy": "2023-11-10T18:42:29.421500Z",
     "iopub.status.idle": "2023-11-10T18:42:29.432198Z",
     "shell.execute_reply": "2023-11-10T18:42:29.431552Z"
    },
    "papermill": {
     "duration": 0.041127,
     "end_time": "2023-11-10T18:42:29.433650",
     "exception": false,
     "start_time": "2023-11-10T18:42:29.392523",
     "status": "completed"
    },
    "pycharm": {
     "name": "#%%\n"
    },
    "tags": []
   },
   "outputs": [
    {
     "name": "stdout",
     "output_type": "stream",
     "text": [
      "\n",
      "imaging_depths available for VisualBehaviorMultiscope include:  [150 225  75 300 169 263  73 359 271  85 267 361 167 275  79 363 177 269\n",
      " 365 175 283 367 165 373  81 371 369 171 259  77 279  83 377 274 152  71\n",
      " 146 227 158 144 276 160  87 142 217  69  51 140 219 215 156 211 162 148\n",
      " 223 166 231 174 282  93 213 221 229 306 320 298 232 218 179 285 270 272\n",
      " 145 251 273 154 308 302 278 312 383 161 381 265 261 230 290 228  61 284\n",
      " 233 304 292  65 289 235 310 375 280 281 187  91 197 295 183 355 277 181\n",
      " 185 291  95 173  67 321 149 287 322 220 226 222 315 147 294 286 132 316\n",
      " 296 350 348 379 340 345]\n",
      "\n",
      "targeted_structures available for VisualBehaviorMultiscope include:  ['VISp' 'VISl']\n",
      "\n",
      "\n",
      "\n",
      "imaging_depths available for VisualBehaviorTask1B include:  [275 175 375]\n",
      "\n",
      "targeted_structures available for VisualBehaviorTask1B include:  ['VISp']\n",
      "\n",
      "\n",
      "\n",
      "imaging_depths available for VisualBehavior include:  [175 375 275 290]\n",
      "\n",
      "targeted_structures available for VisualBehavior include:  ['VISp']\n",
      "\n",
      "\n",
      "\n",
      "imaging_depths available for VisualBehaviorMultiscope4areasx2d include:  [187 163 263 179 265 167 267 183 171 255 181 169 271 175 273 277 275 269\n",
      " 193 185 189 283 177 165 173 159 279 281 150 260 240 160 205 155 210 145\n",
      " 125 270 300 182 174 257 285 170 245 295 195 250 156 251 297 249 190 305\n",
      " 176 244 200 310 107 153 227 123 103 157 111 161 139 225 109 110 137 221\n",
      " 101 135 219 121 151 105 261 213 217 143 211 133 241 117 147 223 287 308\n",
      " 178 180 290 286 280 268 141 253 289 201 254 235 230 128 224 132 222 233\n",
      " 229 130 124 236 134 191]\n",
      "\n",
      "targeted_structures available for VisualBehaviorMultiscope4areasx2d include:  ['VISp' 'VISl' 'VISal' 'VISam']\n",
      "\n",
      "\n"
     ]
    }
   ],
   "source": [
    "# loop through project codes and print the available imaging_depths and targeted_structures\n",
    "for project_code in ophys_experiments.project_code.unique():\n",
    "    \n",
    "    project_experiments = ophys_experiments[ophys_experiments.project_code==project_code]\n",
    "    print('\\nimaging_depths available for', project_code, 'include: ', project_experiments.imaging_depth.unique())\n",
    "    print('\\ntargeted_structures available for', project_code, 'include: ', project_experiments.targeted_structure.unique())\n",
    "    print('\\n')"
   ]
  },
  {
   "cell_type": "markdown",
   "id": "b875e804",
   "metadata": {
    "papermill": {
     "duration": 0.027797,
     "end_time": "2023-11-10T18:42:29.489635",
     "exception": false,
     "start_time": "2023-11-10T18:42:29.461838",
     "status": "completed"
    },
    "pycharm": {
     "name": "#%% md\n"
    },
    "tags": []
   },
   "source": [
    "### `ophys_experiment_table` is useful for identifying `ophys_containers` to analyze"
   ]
  },
  {
   "cell_type": "markdown",
   "id": "f9211fc5",
   "metadata": {
    "papermill": {
     "duration": 0.027522,
     "end_time": "2023-11-10T18:42:29.544486",
     "exception": false,
     "start_time": "2023-11-10T18:42:29.516964",
     "status": "completed"
    },
    "pycharm": {
     "name": "#%% md\n"
    },
    "tags": []
   },
   "source": [
    "Compare the `ophys_container_id` column of the `ophys_experiment_table` with the `ophys_session_table`. In `ophys_session_table`, each `ophys_session_id` is associated with one or more imaging planes (`ophys_experiment_ids`), while in the `ophys_experiment_table`, you can evaluate each of those imaging planes indepdently. This is particularly helpful for identifying `ophys_containers` that you want to analyze - the set of all imaging sessions for a given imaging plane. "
   ]
  },
  {
   "cell_type": "markdown",
   "id": "cc59f9dc",
   "metadata": {
    "papermill": {
     "duration": 0.027516,
     "end_time": "2023-11-10T18:42:29.599374",
     "exception": false,
     "start_time": "2023-11-10T18:42:29.571858",
     "status": "completed"
    },
    "pycharm": {
     "name": "#%% md\n"
    },
    "tags": []
   },
   "source": [
    "The `ophys_experient_table` has all the same columns as `ophys_session_table`, just reorgnized by `ophys_experiment_id`"
   ]
  },
  {
   "cell_type": "code",
   "execution_count": 44,
   "id": "54f91b4f",
   "metadata": {
    "execution": {
     "iopub.execute_input": "2023-11-10T18:42:29.656361Z",
     "iopub.status.busy": "2023-11-10T18:42:29.655845Z",
     "iopub.status.idle": "2023-11-10T18:42:29.659764Z",
     "shell.execute_reply": "2023-11-10T18:42:29.659090Z"
    },
    "papermill": {
     "duration": 0.03413,
     "end_time": "2023-11-10T18:42:29.661225",
     "exception": false,
     "start_time": "2023-11-10T18:42:29.627095",
     "status": "completed"
    },
    "pycharm": {
     "name": "#%%\n"
    },
    "tags": []
   },
   "outputs": [
    {
     "name": "stdout",
     "output_type": "stream",
     "text": [
      "Index(['behavior_session_id', 'ophys_session_id', 'ophys_container_id',\n",
      "       'mouse_id', 'indicator', 'full_genotype', 'driver_line', 'cre_line',\n",
      "       'reporter_line', 'sex', 'age_in_days', 'imaging_depth',\n",
      "       'targeted_structure', 'targeted_imaging_depth', 'imaging_plane_group',\n",
      "       'project_code', 'session_type', 'session_number', 'image_set',\n",
      "       'behavior_type', 'passive', 'experience_level',\n",
      "       'prior_exposures_to_session_type', 'prior_exposures_to_image_set',\n",
      "       'prior_exposures_to_omissions', 'date_of_acquisition', 'equipment_name',\n",
      "       'published_at', 'isi_experiment_id', 'file_id'],\n",
      "      dtype='object')\n"
     ]
    }
   ],
   "source": [
    "print(ophys_experiments.columns)"
   ]
  },
  {
   "cell_type": "markdown",
   "id": "d6c74213",
   "metadata": {
    "papermill": {
     "duration": 0.02713,
     "end_time": "2023-11-10T18:42:29.716432",
     "exception": false,
     "start_time": "2023-11-10T18:42:29.689302",
     "status": "completed"
    },
    "pycharm": {
     "name": "#%% md\n"
    },
    "tags": []
   },
   "source": [
    "This means that each `ophys_experiment_id` has a single `ophys_container_id`."
   ]
  },
  {
   "cell_type": "markdown",
   "id": "b8fe48de",
   "metadata": {
    "papermill": {
     "duration": 0.026927,
     "end_time": "2023-11-10T18:42:29.770643",
     "exception": false,
     "start_time": "2023-11-10T18:42:29.743716",
     "status": "completed"
    },
    "pycharm": {
     "name": "#%% md\n"
    },
    "tags": []
   },
   "source": [
    "#### Let's pick an `ophys_container_id` and see what `ophys_experiments` it contains? "
   ]
  },
  {
   "cell_type": "code",
   "execution_count": 45,
   "id": "5c519ede",
   "metadata": {
    "execution": {
     "iopub.execute_input": "2023-11-10T18:42:29.827634Z",
     "iopub.status.busy": "2023-11-10T18:42:29.827082Z",
     "iopub.status.idle": "2023-11-10T18:42:29.830801Z",
     "shell.execute_reply": "2023-11-10T18:42:29.830158Z"
    },
    "papermill": {
     "duration": 0.033735,
     "end_time": "2023-11-10T18:42:29.832194",
     "exception": false,
     "start_time": "2023-11-10T18:42:29.798459",
     "status": "completed"
    },
    "pycharm": {
     "name": "#%%\n"
    },
    "tags": []
   },
   "outputs": [],
   "source": [
    "ophys_container_id = ophys_experiments.ophys_container_id.unique()[50]"
   ]
  },
  {
   "cell_type": "code",
   "execution_count": 46,
   "id": "1c04f4fd",
   "metadata": {
    "execution": {
     "iopub.execute_input": "2023-11-10T18:42:29.889282Z",
     "iopub.status.busy": "2023-11-10T18:42:29.888736Z",
     "iopub.status.idle": "2023-11-10T18:42:29.907114Z",
     "shell.execute_reply": "2023-11-10T18:42:29.906441Z"
    },
    "papermill": {
     "duration": 0.048157,
     "end_time": "2023-11-10T18:42:29.908438",
     "exception": false,
     "start_time": "2023-11-10T18:42:29.860281",
     "status": "completed"
    },
    "pycharm": {
     "name": "#%%\n"
    },
    "tags": []
   },
   "outputs": [
    {
     "data": {
      "text/html": [
       "<div>\n",
       "<style scoped>\n",
       "    .dataframe tbody tr th:only-of-type {\n",
       "        vertical-align: middle;\n",
       "    }\n",
       "\n",
       "    .dataframe tbody tr th {\n",
       "        vertical-align: top;\n",
       "    }\n",
       "\n",
       "    .dataframe thead th {\n",
       "        text-align: right;\n",
       "    }\n",
       "</style>\n",
       "<table border=\"1\" class=\"dataframe\">\n",
       "  <thead>\n",
       "    <tr style=\"text-align: right;\">\n",
       "      <th></th>\n",
       "      <th>behavior_session_id</th>\n",
       "      <th>ophys_session_id</th>\n",
       "      <th>ophys_container_id</th>\n",
       "      <th>mouse_id</th>\n",
       "      <th>indicator</th>\n",
       "      <th>full_genotype</th>\n",
       "      <th>driver_line</th>\n",
       "      <th>cre_line</th>\n",
       "      <th>reporter_line</th>\n",
       "      <th>sex</th>\n",
       "      <th>...</th>\n",
       "      <th>passive</th>\n",
       "      <th>experience_level</th>\n",
       "      <th>prior_exposures_to_session_type</th>\n",
       "      <th>prior_exposures_to_image_set</th>\n",
       "      <th>prior_exposures_to_omissions</th>\n",
       "      <th>date_of_acquisition</th>\n",
       "      <th>equipment_name</th>\n",
       "      <th>published_at</th>\n",
       "      <th>isi_experiment_id</th>\n",
       "      <th>file_id</th>\n",
       "    </tr>\n",
       "    <tr>\n",
       "      <th>ophys_experiment_id</th>\n",
       "      <th></th>\n",
       "      <th></th>\n",
       "      <th></th>\n",
       "      <th></th>\n",
       "      <th></th>\n",
       "      <th></th>\n",
       "      <th></th>\n",
       "      <th></th>\n",
       "      <th></th>\n",
       "      <th></th>\n",
       "      <th></th>\n",
       "      <th></th>\n",
       "      <th></th>\n",
       "      <th></th>\n",
       "      <th></th>\n",
       "      <th></th>\n",
       "      <th></th>\n",
       "      <th></th>\n",
       "      <th></th>\n",
       "      <th></th>\n",
       "      <th></th>\n",
       "    </tr>\n",
       "  </thead>\n",
       "  <tbody>\n",
       "    <tr>\n",
       "      <th>975608418</th>\n",
       "      <td>975239345</td>\n",
       "      <td>975050422</td>\n",
       "      <td>1018027765</td>\n",
       "      <td>484408</td>\n",
       "      <td>GCaMP6f</td>\n",
       "      <td>Slc17a7-IRES2-Cre/wt;Camk2a-tTA/wt;Ai93(TITL-G...</td>\n",
       "      <td>[Slc17a7-IRES2-Cre, Camk2a-tTA]</td>\n",
       "      <td>Slc17a7-IRES2-Cre</td>\n",
       "      <td>Ai93(TITL-GCaMP6f)</td>\n",
       "      <td>M</td>\n",
       "      <td>...</td>\n",
       "      <td>False</td>\n",
       "      <td>Familiar</td>\n",
       "      <td>0</td>\n",
       "      <td>9</td>\n",
       "      <td>1</td>\n",
       "      <td>2019-11-01 09:25:23.468000+00:00</td>\n",
       "      <td>MESO.1</td>\n",
       "      <td>2021-08-12</td>\n",
       "      <td>942701302</td>\n",
       "      <td>293</td>\n",
       "    </tr>\n",
       "    <tr>\n",
       "      <th>976300323</th>\n",
       "      <td>976039179</td>\n",
       "      <td>975929719</td>\n",
       "      <td>1018027765</td>\n",
       "      <td>484408</td>\n",
       "      <td>GCaMP6f</td>\n",
       "      <td>Slc17a7-IRES2-Cre/wt;Camk2a-tTA/wt;Ai93(TITL-G...</td>\n",
       "      <td>[Slc17a7-IRES2-Cre, Camk2a-tTA]</td>\n",
       "      <td>Slc17a7-IRES2-Cre</td>\n",
       "      <td>Ai93(TITL-GCaMP6f)</td>\n",
       "      <td>M</td>\n",
       "      <td>...</td>\n",
       "      <td>True</td>\n",
       "      <td>Familiar</td>\n",
       "      <td>0</td>\n",
       "      <td>10</td>\n",
       "      <td>2</td>\n",
       "      <td>2019-11-04 09:21:00.916000+00:00</td>\n",
       "      <td>MESO.1</td>\n",
       "      <td>2021-08-12</td>\n",
       "      <td>942701302</td>\n",
       "      <td>301</td>\n",
       "    </tr>\n",
       "    <tr>\n",
       "      <th>977220493</th>\n",
       "      <td>976964099</td>\n",
       "      <td>976865980</td>\n",
       "      <td>1018027765</td>\n",
       "      <td>484408</td>\n",
       "      <td>GCaMP6f</td>\n",
       "      <td>Slc17a7-IRES2-Cre/wt;Camk2a-tTA/wt;Ai93(TITL-G...</td>\n",
       "      <td>[Slc17a7-IRES2-Cre, Camk2a-tTA]</td>\n",
       "      <td>Slc17a7-IRES2-Cre</td>\n",
       "      <td>Ai93(TITL-GCaMP6f)</td>\n",
       "      <td>M</td>\n",
       "      <td>...</td>\n",
       "      <td>False</td>\n",
       "      <td>Familiar</td>\n",
       "      <td>0</td>\n",
       "      <td>11</td>\n",
       "      <td>3</td>\n",
       "      <td>2019-11-05 13:35:33.124000+00:00</td>\n",
       "      <td>MESO.1</td>\n",
       "      <td>2021-08-12</td>\n",
       "      <td>942701302</td>\n",
       "      <td>309</td>\n",
       "    </tr>\n",
       "    <tr>\n",
       "      <th>977975802</th>\n",
       "      <td>977451727</td>\n",
       "      <td>977288921</td>\n",
       "      <td>1018027765</td>\n",
       "      <td>484408</td>\n",
       "      <td>GCaMP6f</td>\n",
       "      <td>Slc17a7-IRES2-Cre/wt;Camk2a-tTA/wt;Ai93(TITL-G...</td>\n",
       "      <td>[Slc17a7-IRES2-Cre, Camk2a-tTA]</td>\n",
       "      <td>Slc17a7-IRES2-Cre</td>\n",
       "      <td>Ai93(TITL-GCaMP6f)</td>\n",
       "      <td>M</td>\n",
       "      <td>...</td>\n",
       "      <td>False</td>\n",
       "      <td>Novel 1</td>\n",
       "      <td>0</td>\n",
       "      <td>0</td>\n",
       "      <td>4</td>\n",
       "      <td>2019-11-06 09:02:04.020000+00:00</td>\n",
       "      <td>MESO.1</td>\n",
       "      <td>2021-08-12</td>\n",
       "      <td>942701302</td>\n",
       "      <td>317</td>\n",
       "    </tr>\n",
       "    <tr>\n",
       "      <th>978866908</th>\n",
       "      <td>978554430</td>\n",
       "      <td>978323049</td>\n",
       "      <td>1018027765</td>\n",
       "      <td>484408</td>\n",
       "      <td>GCaMP6f</td>\n",
       "      <td>Slc17a7-IRES2-Cre/wt;Camk2a-tTA/wt;Ai93(TITL-G...</td>\n",
       "      <td>[Slc17a7-IRES2-Cre, Camk2a-tTA]</td>\n",
       "      <td>Slc17a7-IRES2-Cre</td>\n",
       "      <td>Ai93(TITL-GCaMP6f)</td>\n",
       "      <td>M</td>\n",
       "      <td>...</td>\n",
       "      <td>False</td>\n",
       "      <td>Novel &gt;1</td>\n",
       "      <td>0</td>\n",
       "      <td>2</td>\n",
       "      <td>6</td>\n",
       "      <td>2019-11-08 08:52:05.141000+00:00</td>\n",
       "      <td>MESO.1</td>\n",
       "      <td>2021-08-12</td>\n",
       "      <td>942701302</td>\n",
       "      <td>332</td>\n",
       "    </tr>\n",
       "  </tbody>\n",
       "</table>\n",
       "<p>5 rows × 30 columns</p>\n",
       "</div>"
      ],
      "text/plain": [
       "                     behavior_session_id  ophys_session_id  \\\n",
       "ophys_experiment_id                                          \n",
       "975608418                      975239345         975050422   \n",
       "976300323                      976039179         975929719   \n",
       "977220493                      976964099         976865980   \n",
       "977975802                      977451727         977288921   \n",
       "978866908                      978554430         978323049   \n",
       "\n",
       "                     ophys_container_id mouse_id indicator  \\\n",
       "ophys_experiment_id                                          \n",
       "975608418                    1018027765   484408   GCaMP6f   \n",
       "976300323                    1018027765   484408   GCaMP6f   \n",
       "977220493                    1018027765   484408   GCaMP6f   \n",
       "977975802                    1018027765   484408   GCaMP6f   \n",
       "978866908                    1018027765   484408   GCaMP6f   \n",
       "\n",
       "                                                         full_genotype  \\\n",
       "ophys_experiment_id                                                      \n",
       "975608418            Slc17a7-IRES2-Cre/wt;Camk2a-tTA/wt;Ai93(TITL-G...   \n",
       "976300323            Slc17a7-IRES2-Cre/wt;Camk2a-tTA/wt;Ai93(TITL-G...   \n",
       "977220493            Slc17a7-IRES2-Cre/wt;Camk2a-tTA/wt;Ai93(TITL-G...   \n",
       "977975802            Slc17a7-IRES2-Cre/wt;Camk2a-tTA/wt;Ai93(TITL-G...   \n",
       "978866908            Slc17a7-IRES2-Cre/wt;Camk2a-tTA/wt;Ai93(TITL-G...   \n",
       "\n",
       "                                         driver_line           cre_line  \\\n",
       "ophys_experiment_id                                                       \n",
       "975608418            [Slc17a7-IRES2-Cre, Camk2a-tTA]  Slc17a7-IRES2-Cre   \n",
       "976300323            [Slc17a7-IRES2-Cre, Camk2a-tTA]  Slc17a7-IRES2-Cre   \n",
       "977220493            [Slc17a7-IRES2-Cre, Camk2a-tTA]  Slc17a7-IRES2-Cre   \n",
       "977975802            [Slc17a7-IRES2-Cre, Camk2a-tTA]  Slc17a7-IRES2-Cre   \n",
       "978866908            [Slc17a7-IRES2-Cre, Camk2a-tTA]  Slc17a7-IRES2-Cre   \n",
       "\n",
       "                          reporter_line sex  ...  passive  experience_level  \\\n",
       "ophys_experiment_id                          ...                              \n",
       "975608418            Ai93(TITL-GCaMP6f)   M  ...    False          Familiar   \n",
       "976300323            Ai93(TITL-GCaMP6f)   M  ...     True          Familiar   \n",
       "977220493            Ai93(TITL-GCaMP6f)   M  ...    False          Familiar   \n",
       "977975802            Ai93(TITL-GCaMP6f)   M  ...    False           Novel 1   \n",
       "978866908            Ai93(TITL-GCaMP6f)   M  ...    False          Novel >1   \n",
       "\n",
       "                    prior_exposures_to_session_type  \\\n",
       "ophys_experiment_id                                   \n",
       "975608418                                         0   \n",
       "976300323                                         0   \n",
       "977220493                                         0   \n",
       "977975802                                         0   \n",
       "978866908                                         0   \n",
       "\n",
       "                     prior_exposures_to_image_set  \\\n",
       "ophys_experiment_id                                 \n",
       "975608418                                       9   \n",
       "976300323                                      10   \n",
       "977220493                                      11   \n",
       "977975802                                       0   \n",
       "978866908                                       2   \n",
       "\n",
       "                     prior_exposures_to_omissions  \\\n",
       "ophys_experiment_id                                 \n",
       "975608418                                       1   \n",
       "976300323                                       2   \n",
       "977220493                                       3   \n",
       "977975802                                       4   \n",
       "978866908                                       6   \n",
       "\n",
       "                                 date_of_acquisition equipment_name  \\\n",
       "ophys_experiment_id                                                   \n",
       "975608418           2019-11-01 09:25:23.468000+00:00         MESO.1   \n",
       "976300323           2019-11-04 09:21:00.916000+00:00         MESO.1   \n",
       "977220493           2019-11-05 13:35:33.124000+00:00         MESO.1   \n",
       "977975802           2019-11-06 09:02:04.020000+00:00         MESO.1   \n",
       "978866908           2019-11-08 08:52:05.141000+00:00         MESO.1   \n",
       "\n",
       "                     published_at isi_experiment_id file_id  \n",
       "ophys_experiment_id                                          \n",
       "975608418              2021-08-12         942701302     293  \n",
       "976300323              2021-08-12         942701302     301  \n",
       "977220493              2021-08-12         942701302     309  \n",
       "977975802              2021-08-12         942701302     317  \n",
       "978866908              2021-08-12         942701302     332  \n",
       "\n",
       "[5 rows x 30 columns]"
      ]
     },
     "execution_count": 46,
     "metadata": {},
     "output_type": "execute_result"
    }
   ],
   "source": [
    "container_experiments = ophys_experiments[ophys_experiments.ophys_container_id==ophys_container_id]\n",
    "container_experiments"
   ]
  },
  {
   "cell_type": "markdown",
   "id": "08c3f8d5",
   "metadata": {
    "papermill": {
     "duration": 0.02745,
     "end_time": "2023-11-10T18:42:29.964378",
     "exception": false,
     "start_time": "2023-11-10T18:42:29.936928",
     "status": "completed"
    },
    "pycharm": {
     "name": "#%% md\n"
    },
    "tags": []
   },
   "source": [
    "Thats 7 different recording sessions for this single imaging plane. Remember that one `ophys_container_id` is linked to one imaging plane, recorded in multiple sessions"
   ]
  },
  {
   "cell_type": "markdown",
   "id": "a9dc1c8f",
   "metadata": {
    "papermill": {
     "duration": 0.027759,
     "end_time": "2023-11-10T18:42:30.020138",
     "exception": false,
     "start_time": "2023-11-10T18:42:29.992379",
     "status": "completed"
    },
    "pycharm": {
     "name": "#%% md\n"
    },
    "tags": []
   },
   "source": [
    "#### What are the session types for this container? "
   ]
  },
  {
   "cell_type": "code",
   "execution_count": 47,
   "id": "eea0fa3d",
   "metadata": {
    "execution": {
     "iopub.execute_input": "2023-11-10T18:42:30.078261Z",
     "iopub.status.busy": "2023-11-10T18:42:30.077606Z",
     "iopub.status.idle": "2023-11-10T18:42:30.082518Z",
     "shell.execute_reply": "2023-11-10T18:42:30.081881Z"
    },
    "papermill": {
     "duration": 0.035667,
     "end_time": "2023-11-10T18:42:30.083851",
     "exception": false,
     "start_time": "2023-11-10T18:42:30.048184",
     "status": "completed"
    },
    "pycharm": {
     "name": "#%%\n"
    },
    "tags": []
   },
   "outputs": [
    {
     "data": {
      "text/plain": [
       "array(['OPHYS_1_images_G', 'OPHYS_2_images_G_passive', 'OPHYS_3_images_G',\n",
       "       'OPHYS_4_images_H', 'OPHYS_6_images_H'], dtype=object)"
      ]
     },
     "execution_count": 47,
     "metadata": {},
     "output_type": "execute_result"
    }
   ],
   "source": [
    "container_experiments.session_type.unique()"
   ]
  },
  {
   "cell_type": "markdown",
   "id": "f765cf8d",
   "metadata": {
    "papermill": {
     "duration": 0.028497,
     "end_time": "2023-11-10T18:42:30.141190",
     "exception": false,
     "start_time": "2023-11-10T18:42:30.112693",
     "status": "completed"
    },
    "pycharm": {
     "name": "#%% md\n"
    },
    "tags": []
   },
   "source": [
    "### Reminder about structure & terminology of the dataset"
   ]
  },
  {
   "cell_type": "markdown",
   "id": "2354be59",
   "metadata": {
    "papermill": {
     "duration": 0.028587,
     "end_time": "2023-11-10T18:42:30.198168",
     "exception": false,
     "start_time": "2023-11-10T18:42:30.169581",
     "status": "completed"
    },
    "pycharm": {
     "name": "#%% md\n"
    },
    "tags": []
   },
   "source": [
    "<div>\n",
    "<img src=\"https://allensdk.readthedocs.io/en/latest/_static/visual_behavior_2p/data_structure.png\" width=\"900\"/>\n",
    "</div>"
   ]
  },
  {
   "cell_type": "markdown",
   "id": "768b2dd4",
   "metadata": {
    "papermill": {
     "duration": 0.027984,
     "end_time": "2023-11-10T18:42:30.254774",
     "exception": false,
     "start_time": "2023-11-10T18:42:30.226790",
     "status": "completed"
    },
    "pycharm": {
     "name": "#%% md\n"
    },
    "tags": []
   },
   "source": [
    "### Reminder about cre lines"
   ]
  },
  {
   "cell_type": "markdown",
   "id": "3985b896",
   "metadata": {
    "papermill": {
     "duration": 0.028158,
     "end_time": "2023-11-10T18:42:30.311146",
     "exception": false,
     "start_time": "2023-11-10T18:42:30.282988",
     "status": "completed"
    },
    "pycharm": {
     "name": "#%% md\n"
    },
    "tags": []
   },
   "source": [
    "<div>\n",
    "<img src=\"https://allensdk.readthedocs.io/en/latest/_static/visual_behavior_2p/cre_lines2.png\" width=\"900\"/>\n",
    "</div>"
   ]
  },
  {
   "cell_type": "markdown",
   "id": "54d1a1d3",
   "metadata": {
    "papermill": {
     "duration": 0.02761,
     "end_time": "2023-11-10T18:42:30.366865",
     "exception": false,
     "start_time": "2023-11-10T18:42:30.339255",
     "status": "completed"
    },
    "pycharm": {
     "name": "#%% md\n"
    },
    "tags": []
   },
   "source": [
    "### Reminder about dataset variants aka project_codes"
   ]
  },
  {
   "cell_type": "markdown",
   "id": "d982faa5",
   "metadata": {
    "papermill": {
     "duration": 0.029087,
     "end_time": "2023-11-10T18:42:30.455747",
     "exception": false,
     "start_time": "2023-11-10T18:42:30.426660",
     "status": "completed"
    },
    "pycharm": {
     "name": "#%% md\n"
    },
    "tags": []
   },
   "source": [
    "<div>\n",
    "<img src=\"https://allensdk.readthedocs.io/en/latest/_static/visual_behavior_2p/datasets.png\" width=\"900\"/>\n",
    "</div>"
   ]
  },
  {
   "cell_type": "markdown",
   "id": "757f68db",
   "metadata": {
    "papermill": {
     "duration": 0.028991,
     "end_time": "2023-11-10T18:42:30.514223",
     "exception": false,
     "start_time": "2023-11-10T18:42:30.485232",
     "status": "completed"
    },
    "pycharm": {
     "name": "#%% md\n"
    },
    "tags": []
   },
   "source": [
    "### Reminder about session types"
   ]
  },
  {
   "cell_type": "markdown",
   "id": "2853c8c8",
   "metadata": {
    "papermill": {
     "duration": 0.028405,
     "end_time": "2023-11-10T18:42:30.572418",
     "exception": false,
     "start_time": "2023-11-10T18:42:30.544013",
     "status": "completed"
    },
    "pycharm": {
     "name": "#%% md\n"
    },
    "tags": []
   },
   "source": [
    "<div>\n",
    "<img src=\"https://allensdk.readthedocs.io/en/latest/_static/visual_behavior_2p/automated_training.png\" width=\"900\"/>\n",
    "</div>"
   ]
  },
  {
   "cell_type": "markdown",
   "id": "ec343aef",
   "metadata": {
    "papermill": {
     "duration": 0.028539,
     "end_time": "2023-11-10T18:42:30.629774",
     "exception": false,
     "start_time": "2023-11-10T18:42:30.601235",
     "status": "completed"
    },
    "pycharm": {
     "name": "#%% md\n"
    },
    "tags": []
   },
   "source": [
    "<div>\n",
    "<img src=\"https://allensdk.readthedocs.io/en/latest/_static/visual_behavior_2p/experiment_design.png\" width=\"900\"/>\n",
    "</div>"
   ]
  },
  {
   "cell_type": "code",
   "execution_count": null,
   "id": "52140d97",
   "metadata": {
    "papermill": {
     "duration": 0.028638,
     "end_time": "2023-11-10T18:42:30.687801",
     "exception": false,
     "start_time": "2023-11-10T18:42:30.659163",
     "status": "completed"
    },
    "pycharm": {
     "name": "#%%\n"
    },
    "tags": []
   },
   "outputs": [],
   "source": []
  },
  {
   "cell_type": "markdown",
   "id": "12c7f170",
   "metadata": {
    "papermill": {
     "duration": 0.029094,
     "end_time": "2023-11-10T18:42:30.746556",
     "exception": false,
     "start_time": "2023-11-10T18:42:30.717462",
     "status": "completed"
    },
    "pycharm": {
     "name": "#%% md\n"
    },
    "tags": []
   },
   "source": [
    "## Identifying experiments and sessions of interest"
   ]
  },
  {
   "cell_type": "markdown",
   "id": "1cedb900",
   "metadata": {
    "papermill": {
     "duration": 0.028717,
     "end_time": "2023-11-10T18:42:30.804173",
     "exception": false,
     "start_time": "2023-11-10T18:42:30.775456",
     "status": "completed"
    },
    "pycharm": {
     "name": "#%% md\n"
    },
    "tags": []
   },
   "source": [
    "### Get all experiments for one container from an Sst-IRES-Cre mouse in the VisualBehaviorTask1B project code "
   ]
  },
  {
   "cell_type": "code",
   "execution_count": 48,
   "id": "67ec7003",
   "metadata": {
    "execution": {
     "iopub.execute_input": "2023-11-10T18:42:30.862047Z",
     "iopub.status.busy": "2023-11-10T18:42:30.861595Z",
     "iopub.status.idle": "2023-11-10T18:42:30.868040Z",
     "shell.execute_reply": "2023-11-10T18:42:30.867212Z"
    },
    "papermill": {
     "duration": 0.03689,
     "end_time": "2023-11-10T18:42:30.869465",
     "exception": false,
     "start_time": "2023-11-10T18:42:30.832575",
     "status": "completed"
    },
    "pycharm": {
     "name": "#%%\n"
    },
    "tags": []
   },
   "outputs": [
    {
     "name": "stdout",
     "output_type": "stream",
     "text": [
      "941373529\n"
     ]
    }
   ],
   "source": [
    "# get all Sst experiments in the relevant project code\n",
    "sst_experiments = ophys_experiments[(ophys_experiments.cre_line=='Sst-IRES-Cre')&\n",
    "                 (ophys_experiments.project_code=='VisualBehaviorTask1B')]\n",
    "\n",
    "# pick some container from this set\n",
    "ophys_container_id = sst_experiments.ophys_container_id.unique()[1]\n",
    "print(ophys_container_id)"
   ]
  },
  {
   "cell_type": "code",
   "execution_count": 49,
   "id": "04008a46",
   "metadata": {
    "execution": {
     "iopub.execute_input": "2023-11-10T18:42:30.927500Z",
     "iopub.status.busy": "2023-11-10T18:42:30.927202Z",
     "iopub.status.idle": "2023-11-10T18:42:30.947203Z",
     "shell.execute_reply": "2023-11-10T18:42:30.946585Z"
    },
    "papermill": {
     "duration": 0.050633,
     "end_time": "2023-11-10T18:42:30.948573",
     "exception": false,
     "start_time": "2023-11-10T18:42:30.897940",
     "status": "completed"
    },
    "pycharm": {
     "name": "#%%\n"
    },
    "tags": []
   },
   "outputs": [
    {
     "data": {
      "text/html": [
       "<div>\n",
       "<style scoped>\n",
       "    .dataframe tbody tr th:only-of-type {\n",
       "        vertical-align: middle;\n",
       "    }\n",
       "\n",
       "    .dataframe tbody tr th {\n",
       "        vertical-align: top;\n",
       "    }\n",
       "\n",
       "    .dataframe thead th {\n",
       "        text-align: right;\n",
       "    }\n",
       "</style>\n",
       "<table border=\"1\" class=\"dataframe\">\n",
       "  <thead>\n",
       "    <tr style=\"text-align: right;\">\n",
       "      <th></th>\n",
       "      <th>behavior_session_id</th>\n",
       "      <th>ophys_session_id</th>\n",
       "      <th>ophys_container_id</th>\n",
       "      <th>mouse_id</th>\n",
       "      <th>indicator</th>\n",
       "      <th>full_genotype</th>\n",
       "      <th>driver_line</th>\n",
       "      <th>cre_line</th>\n",
       "      <th>reporter_line</th>\n",
       "      <th>sex</th>\n",
       "      <th>...</th>\n",
       "      <th>passive</th>\n",
       "      <th>experience_level</th>\n",
       "      <th>prior_exposures_to_session_type</th>\n",
       "      <th>prior_exposures_to_image_set</th>\n",
       "      <th>prior_exposures_to_omissions</th>\n",
       "      <th>date_of_acquisition</th>\n",
       "      <th>equipment_name</th>\n",
       "      <th>published_at</th>\n",
       "      <th>isi_experiment_id</th>\n",
       "      <th>file_id</th>\n",
       "    </tr>\n",
       "    <tr>\n",
       "      <th>ophys_experiment_id</th>\n",
       "      <th></th>\n",
       "      <th></th>\n",
       "      <th></th>\n",
       "      <th></th>\n",
       "      <th></th>\n",
       "      <th></th>\n",
       "      <th></th>\n",
       "      <th></th>\n",
       "      <th></th>\n",
       "      <th></th>\n",
       "      <th></th>\n",
       "      <th></th>\n",
       "      <th></th>\n",
       "      <th></th>\n",
       "      <th></th>\n",
       "      <th></th>\n",
       "      <th></th>\n",
       "      <th></th>\n",
       "      <th></th>\n",
       "      <th></th>\n",
       "      <th></th>\n",
       "    </tr>\n",
       "  </thead>\n",
       "  <tbody>\n",
       "    <tr>\n",
       "      <th>955276580</th>\n",
       "      <td>955110047</td>\n",
       "      <td>954981981</td>\n",
       "      <td>941373529</td>\n",
       "      <td>470784</td>\n",
       "      <td>GCaMP6f</td>\n",
       "      <td>Sst-IRES-Cre/wt;Ai148(TIT2L-GC6f-ICL-tTA2)/wt</td>\n",
       "      <td>[Sst-IRES-Cre]</td>\n",
       "      <td>Sst-IRES-Cre</td>\n",
       "      <td>Ai148(TIT2L-GC6f-ICL-tTA2)</td>\n",
       "      <td>F</td>\n",
       "      <td>...</td>\n",
       "      <td>False</td>\n",
       "      <td>Familiar</td>\n",
       "      <td>0</td>\n",
       "      <td>20</td>\n",
       "      <td>0</td>\n",
       "      <td>2019-09-25 13:31:46+00:00</td>\n",
       "      <td>CAM2P.5</td>\n",
       "      <td>2021-03-25</td>\n",
       "      <td>899181668</td>\n",
       "      <td>577</td>\n",
       "    </tr>\n",
       "    <tr>\n",
       "      <th>956903375</th>\n",
       "      <td>956213722</td>\n",
       "      <td>955991376</td>\n",
       "      <td>941373529</td>\n",
       "      <td>470784</td>\n",
       "      <td>GCaMP6f</td>\n",
       "      <td>Sst-IRES-Cre/wt;Ai148(TIT2L-GC6f-ICL-tTA2)/wt</td>\n",
       "      <td>[Sst-IRES-Cre]</td>\n",
       "      <td>Sst-IRES-Cre</td>\n",
       "      <td>Ai148(TIT2L-GC6f-ICL-tTA2)</td>\n",
       "      <td>F</td>\n",
       "      <td>...</td>\n",
       "      <td>True</td>\n",
       "      <td>Familiar</td>\n",
       "      <td>0</td>\n",
       "      <td>21</td>\n",
       "      <td>1</td>\n",
       "      <td>2019-09-26 11:13:06.028000+00:00</td>\n",
       "      <td>CAM2P.5</td>\n",
       "      <td>2021-03-25</td>\n",
       "      <td>899181668</td>\n",
       "      <td>578</td>\n",
       "    </tr>\n",
       "    <tr>\n",
       "      <th>957652800</th>\n",
       "      <td>957331258</td>\n",
       "      <td>957189583</td>\n",
       "      <td>941373529</td>\n",
       "      <td>470784</td>\n",
       "      <td>GCaMP6f</td>\n",
       "      <td>Sst-IRES-Cre/wt;Ai148(TIT2L-GC6f-ICL-tTA2)/wt</td>\n",
       "      <td>[Sst-IRES-Cre]</td>\n",
       "      <td>Sst-IRES-Cre</td>\n",
       "      <td>Ai148(TIT2L-GC6f-ICL-tTA2)</td>\n",
       "      <td>F</td>\n",
       "      <td>...</td>\n",
       "      <td>False</td>\n",
       "      <td>Familiar</td>\n",
       "      <td>0</td>\n",
       "      <td>22</td>\n",
       "      <td>2</td>\n",
       "      <td>2019-09-27 11:57:27.017000+00:00</td>\n",
       "      <td>CAM2P.5</td>\n",
       "      <td>2021-03-25</td>\n",
       "      <td>899181668</td>\n",
       "      <td>579</td>\n",
       "    </tr>\n",
       "    <tr>\n",
       "      <th>959337347</th>\n",
       "      <td>958994511</td>\n",
       "      <td>958931715</td>\n",
       "      <td>941373529</td>\n",
       "      <td>470784</td>\n",
       "      <td>GCaMP6f</td>\n",
       "      <td>Sst-IRES-Cre/wt;Ai148(TIT2L-GC6f-ICL-tTA2)/wt</td>\n",
       "      <td>[Sst-IRES-Cre]</td>\n",
       "      <td>Sst-IRES-Cre</td>\n",
       "      <td>Ai148(TIT2L-GC6f-ICL-tTA2)</td>\n",
       "      <td>F</td>\n",
       "      <td>...</td>\n",
       "      <td>False</td>\n",
       "      <td>Novel &gt;1</td>\n",
       "      <td>2</td>\n",
       "      <td>2</td>\n",
       "      <td>5</td>\n",
       "      <td>2019-10-01 11:20:24.445000+00:00</td>\n",
       "      <td>CAM2P.5</td>\n",
       "      <td>2021-03-25</td>\n",
       "      <td>899181668</td>\n",
       "      <td>580</td>\n",
       "    </tr>\n",
       "    <tr>\n",
       "      <th>960351917</th>\n",
       "      <td>959893902</td>\n",
       "      <td>959751299</td>\n",
       "      <td>941373529</td>\n",
       "      <td>470784</td>\n",
       "      <td>GCaMP6f</td>\n",
       "      <td>Sst-IRES-Cre/wt;Ai148(TIT2L-GC6f-ICL-tTA2)/wt</td>\n",
       "      <td>[Sst-IRES-Cre]</td>\n",
       "      <td>Sst-IRES-Cre</td>\n",
       "      <td>Ai148(TIT2L-GC6f-ICL-tTA2)</td>\n",
       "      <td>F</td>\n",
       "      <td>...</td>\n",
       "      <td>True</td>\n",
       "      <td>Novel &gt;1</td>\n",
       "      <td>0</td>\n",
       "      <td>3</td>\n",
       "      <td>6</td>\n",
       "      <td>2019-10-02 11:46:04.405000+00:00</td>\n",
       "      <td>CAM2P.5</td>\n",
       "      <td>2021-03-25</td>\n",
       "      <td>899181668</td>\n",
       "      <td>581</td>\n",
       "    </tr>\n",
       "    <tr>\n",
       "      <th>960960480</th>\n",
       "      <td>960697332</td>\n",
       "      <td>960593969</td>\n",
       "      <td>941373529</td>\n",
       "      <td>470784</td>\n",
       "      <td>GCaMP6f</td>\n",
       "      <td>Sst-IRES-Cre/wt;Ai148(TIT2L-GC6f-ICL-tTA2)/wt</td>\n",
       "      <td>[Sst-IRES-Cre]</td>\n",
       "      <td>Sst-IRES-Cre</td>\n",
       "      <td>Ai148(TIT2L-GC6f-ICL-tTA2)</td>\n",
       "      <td>F</td>\n",
       "      <td>...</td>\n",
       "      <td>False</td>\n",
       "      <td>Novel &gt;1</td>\n",
       "      <td>0</td>\n",
       "      <td>4</td>\n",
       "      <td>7</td>\n",
       "      <td>2019-10-03 11:25:31.172000+00:00</td>\n",
       "      <td>CAM2P.5</td>\n",
       "      <td>2021-03-25</td>\n",
       "      <td>899181668</td>\n",
       "      <td>582</td>\n",
       "    </tr>\n",
       "  </tbody>\n",
       "</table>\n",
       "<p>6 rows × 30 columns</p>\n",
       "</div>"
      ],
      "text/plain": [
       "                     behavior_session_id  ophys_session_id  \\\n",
       "ophys_experiment_id                                          \n",
       "955276580                      955110047         954981981   \n",
       "956903375                      956213722         955991376   \n",
       "957652800                      957331258         957189583   \n",
       "959337347                      958994511         958931715   \n",
       "960351917                      959893902         959751299   \n",
       "960960480                      960697332         960593969   \n",
       "\n",
       "                     ophys_container_id mouse_id indicator  \\\n",
       "ophys_experiment_id                                          \n",
       "955276580                     941373529   470784   GCaMP6f   \n",
       "956903375                     941373529   470784   GCaMP6f   \n",
       "957652800                     941373529   470784   GCaMP6f   \n",
       "959337347                     941373529   470784   GCaMP6f   \n",
       "960351917                     941373529   470784   GCaMP6f   \n",
       "960960480                     941373529   470784   GCaMP6f   \n",
       "\n",
       "                                                     full_genotype  \\\n",
       "ophys_experiment_id                                                  \n",
       "955276580            Sst-IRES-Cre/wt;Ai148(TIT2L-GC6f-ICL-tTA2)/wt   \n",
       "956903375            Sst-IRES-Cre/wt;Ai148(TIT2L-GC6f-ICL-tTA2)/wt   \n",
       "957652800            Sst-IRES-Cre/wt;Ai148(TIT2L-GC6f-ICL-tTA2)/wt   \n",
       "959337347            Sst-IRES-Cre/wt;Ai148(TIT2L-GC6f-ICL-tTA2)/wt   \n",
       "960351917            Sst-IRES-Cre/wt;Ai148(TIT2L-GC6f-ICL-tTA2)/wt   \n",
       "960960480            Sst-IRES-Cre/wt;Ai148(TIT2L-GC6f-ICL-tTA2)/wt   \n",
       "\n",
       "                        driver_line      cre_line               reporter_line  \\\n",
       "ophys_experiment_id                                                             \n",
       "955276580            [Sst-IRES-Cre]  Sst-IRES-Cre  Ai148(TIT2L-GC6f-ICL-tTA2)   \n",
       "956903375            [Sst-IRES-Cre]  Sst-IRES-Cre  Ai148(TIT2L-GC6f-ICL-tTA2)   \n",
       "957652800            [Sst-IRES-Cre]  Sst-IRES-Cre  Ai148(TIT2L-GC6f-ICL-tTA2)   \n",
       "959337347            [Sst-IRES-Cre]  Sst-IRES-Cre  Ai148(TIT2L-GC6f-ICL-tTA2)   \n",
       "960351917            [Sst-IRES-Cre]  Sst-IRES-Cre  Ai148(TIT2L-GC6f-ICL-tTA2)   \n",
       "960960480            [Sst-IRES-Cre]  Sst-IRES-Cre  Ai148(TIT2L-GC6f-ICL-tTA2)   \n",
       "\n",
       "                    sex  ...  passive  experience_level  \\\n",
       "ophys_experiment_id      ...                              \n",
       "955276580             F  ...    False          Familiar   \n",
       "956903375             F  ...     True          Familiar   \n",
       "957652800             F  ...    False          Familiar   \n",
       "959337347             F  ...    False          Novel >1   \n",
       "960351917             F  ...     True          Novel >1   \n",
       "960960480             F  ...    False          Novel >1   \n",
       "\n",
       "                    prior_exposures_to_session_type  \\\n",
       "ophys_experiment_id                                   \n",
       "955276580                                         0   \n",
       "956903375                                         0   \n",
       "957652800                                         0   \n",
       "959337347                                         2   \n",
       "960351917                                         0   \n",
       "960960480                                         0   \n",
       "\n",
       "                     prior_exposures_to_image_set  \\\n",
       "ophys_experiment_id                                 \n",
       "955276580                                      20   \n",
       "956903375                                      21   \n",
       "957652800                                      22   \n",
       "959337347                                       2   \n",
       "960351917                                       3   \n",
       "960960480                                       4   \n",
       "\n",
       "                     prior_exposures_to_omissions  \\\n",
       "ophys_experiment_id                                 \n",
       "955276580                                       0   \n",
       "956903375                                       1   \n",
       "957652800                                       2   \n",
       "959337347                                       5   \n",
       "960351917                                       6   \n",
       "960960480                                       7   \n",
       "\n",
       "                                 date_of_acquisition equipment_name  \\\n",
       "ophys_experiment_id                                                   \n",
       "955276580                  2019-09-25 13:31:46+00:00        CAM2P.5   \n",
       "956903375           2019-09-26 11:13:06.028000+00:00        CAM2P.5   \n",
       "957652800           2019-09-27 11:57:27.017000+00:00        CAM2P.5   \n",
       "959337347           2019-10-01 11:20:24.445000+00:00        CAM2P.5   \n",
       "960351917           2019-10-02 11:46:04.405000+00:00        CAM2P.5   \n",
       "960960480           2019-10-03 11:25:31.172000+00:00        CAM2P.5   \n",
       "\n",
       "                     published_at isi_experiment_id file_id  \n",
       "ophys_experiment_id                                          \n",
       "955276580              2021-03-25         899181668     577  \n",
       "956903375              2021-03-25         899181668     578  \n",
       "957652800              2021-03-25         899181668     579  \n",
       "959337347              2021-03-25         899181668     580  \n",
       "960351917              2021-03-25         899181668     581  \n",
       "960960480              2021-03-25         899181668     582  \n",
       "\n",
       "[6 rows x 30 columns]"
      ]
     },
     "execution_count": 49,
     "metadata": {},
     "output_type": "execute_result"
    }
   ],
   "source": [
    "# what experiments are there for this container? \n",
    "sst_container_experiments = sst_experiments[sst_experiments.ophys_container_id==ophys_container_id]\n",
    "sst_container_experiments"
   ]
  },
  {
   "cell_type": "markdown",
   "id": "d298a228",
   "metadata": {
    "papermill": {
     "duration": 0.028275,
     "end_time": "2023-11-10T18:42:31.006146",
     "exception": false,
     "start_time": "2023-11-10T18:42:30.977871",
     "status": "completed"
    },
    "pycharm": {
     "name": "#%% md\n"
    },
    "tags": []
   },
   "source": [
    "### Load the BehaviorOphysExperiment dataset for each ophys_experiment_id in the container and plot the max intensity projection - are they well aligned across sessions? can you identify the same neurons?  "
   ]
  },
  {
   "cell_type": "code",
   "execution_count": 50,
   "id": "53012df3",
   "metadata": {
    "execution": {
     "iopub.execute_input": "2023-11-10T18:42:31.065430Z",
     "iopub.status.busy": "2023-11-10T18:42:31.064906Z",
     "iopub.status.idle": "2023-11-10T18:42:31.321221Z",
     "shell.execute_reply": "2023-11-10T18:42:31.320506Z"
    },
    "papermill": {
     "duration": 0.288112,
     "end_time": "2023-11-10T18:42:31.322904",
     "exception": false,
     "start_time": "2023-11-10T18:42:31.034792",
     "status": "completed"
    },
    "pycharm": {
     "name": "#%%\n"
    },
    "tags": []
   },
   "outputs": [],
   "source": [
    "import matplotlib.pyplot as plt"
   ]
  },
  {
   "cell_type": "code",
   "execution_count": 51,
   "id": "783a85a4",
   "metadata": {
    "execution": {
     "iopub.execute_input": "2023-11-10T18:42:31.383063Z",
     "iopub.status.busy": "2023-11-10T18:42:31.382361Z",
     "iopub.status.idle": "2023-11-10T18:44:27.281668Z",
     "shell.execute_reply": "2023-11-10T18:44:27.280882Z"
    },
    "papermill": {
     "duration": 115.930461,
     "end_time": "2023-11-10T18:44:27.283189",
     "exception": false,
     "start_time": "2023-11-10T18:42:31.352728",
     "status": "completed"
    },
    "pycharm": {
     "name": "#%%\n"
    },
    "tags": []
   },
   "outputs": [
    {
     "name": "stderr",
     "output_type": "stream",
     "text": [
      "behavior_ophys_experiment_955276580.nwb: 100%|██████████| 313M/313M [00:14<00:00, 21.5MMB/s]\n",
      "behavior_ophys_experiment_956903375.nwb: 100%|██████████| 322M/322M [00:14<00:00, 22.1MMB/s]\n",
      "behavior_ophys_experiment_957652800.nwb: 100%|██████████| 318M/318M [00:13<00:00, 23.3MMB/s]\n",
      "behavior_ophys_experiment_959337347.nwb: 100%|██████████| 342M/342M [00:14<00:00, 22.9MMB/s]\n",
      "behavior_ophys_experiment_960351917.nwb: 100%|██████████| 327M/327M [00:14<00:00, 22.7MMB/s]\n",
      "behavior_ophys_experiment_960960480.nwb: 100%|██████████| 332M/332M [00:14<00:00, 23.3MMB/s]\n"
     ]
    },
    {
     "data": {
      "image/png": "[encoded data removed]",
      "text/plain": [
       "<Figure size 2000x500 with 6 Axes>"
      ]
     },
     "metadata": {},
     "output_type": "display_data"
    }
   ],
   "source": [
    "# ophys_experiment_ids are the index of the ophys_experiment_table\n",
    "ophys_experiment_ids = sst_container_experiments.index.values\n",
    "\n",
    "# create figure axis\n",
    "fig, ax = plt.subplots(1, len(ophys_experiment_ids), figsize=(20,5))\n",
    "# enumerate over experiments in this container\n",
    "for i, ophys_experiment_id in enumerate(ophys_experiment_ids): \n",
    "    # get the dataset object\n",
    "    dataset = cache.get_behavior_ophys_experiment(ophys_experiment_id=ophys_experiment_id)\n",
    "    # get the max intensity projection and plot on the appropriate axis\n",
    "    ax[i].imshow(dataset.max_projection.data, cmap='gray')\n",
    "    ax[i].set_title(ophys_experiment_id)"
   ]
  },
  {
   "cell_type": "code",
   "execution_count": null,
   "id": "e307cb12",
   "metadata": {
    "papermill": {
     "duration": 0.055648,
     "end_time": "2023-11-10T18:44:27.396667",
     "exception": false,
     "start_time": "2023-11-10T18:44:27.341019",
     "status": "completed"
    },
    "pycharm": {
     "name": "#%%\n"
    },
    "tags": []
   },
   "outputs": [],
   "source": []
  },
  {
   "cell_type": "markdown",
   "id": "916a6eb1",
   "metadata": {
    "papermill": {
     "duration": 0.054383,
     "end_time": "2023-11-10T18:44:27.506820",
     "exception": false,
     "start_time": "2023-11-10T18:44:27.452437",
     "status": "completed"
    },
    "pycharm": {
     "name": "#%% md\n"
    },
    "tags": []
   },
   "source": [
    "### Get all imaging planes recorded during one session with novel images in a Vip mouse imaged on Multiscope"
   ]
  },
  {
   "cell_type": "code",
   "execution_count": 52,
   "id": "8583aaf9",
   "metadata": {
    "execution": {
     "iopub.execute_input": "2023-11-10T18:44:27.621419Z",
     "iopub.status.busy": "2023-11-10T18:44:27.620876Z",
     "iopub.status.idle": "2023-11-10T18:44:27.626906Z",
     "shell.execute_reply": "2023-11-10T18:44:27.626209Z"
    },
    "papermill": {
     "duration": 0.066026,
     "end_time": "2023-11-10T18:44:27.628306",
     "exception": false,
     "start_time": "2023-11-10T18:44:27.562280",
     "status": "completed"
    },
    "pycharm": {
     "name": "#%%\n"
    },
    "tags": []
   },
   "outputs": [],
   "source": [
    "# get all Vip sessions in the Multiscope project code\n",
    "vip_sessions = ophys_sessions[(ophys_sessions.cre_line=='Vip-IRES-Cre')&\n",
    "                             (ophys_sessions.project_code=='VisualBehaviorMultiscope')&\n",
    "                             (ophys_sessions.prior_exposures_to_image_set==0)]\n",
    "\n",
    "# ophys_session_id is the index of the ophys_session_table\n",
    "ophys_session_id = vip_sessions.index.values[0]"
   ]
  },
  {
   "cell_type": "code",
   "execution_count": 53,
   "id": "78e63532",
   "metadata": {
    "execution": {
     "iopub.execute_input": "2023-11-10T18:44:27.741654Z",
     "iopub.status.busy": "2023-11-10T18:44:27.741051Z",
     "iopub.status.idle": "2023-11-10T18:44:27.748031Z",
     "shell.execute_reply": "2023-11-10T18:44:27.747316Z"
    },
    "papermill": {
     "duration": 0.064338,
     "end_time": "2023-11-10T18:44:27.749415",
     "exception": false,
     "start_time": "2023-11-10T18:44:27.685077",
     "status": "completed"
    },
    "pycharm": {
     "name": "#%%\n"
    },
    "tags": []
   },
   "outputs": [
    {
     "data": {
      "text/plain": [
       "behavior_session_id                                                       1050620316\n",
       "ophys_container_id                 [1046576772, 1046576775, 1046576784, 104657678...\n",
       "mouse_id                                                                      523922\n",
       "indicator                                                                    GCaMP6f\n",
       "full_genotype                          Vip-IRES-Cre/wt;Ai148(TIT2L-GC6f-ICL-tTA2)/wt\n",
       "driver_line                                                           [Vip-IRES-Cre]\n",
       "cre_line                                                                Vip-IRES-Cre\n",
       "reporter_line                                             Ai148(TIT2L-GC6f-ICL-tTA2)\n",
       "sex                                                                                M\n",
       "age_in_days                                                                      183\n",
       "imaging_plane_group_count                                                          4\n",
       "project_code                                                VisualBehaviorMultiscope\n",
       "session_type                                                        OPHYS_4_images_B\n",
       "session_number                                                                     4\n",
       "image_set                                                                   images_B\n",
       "behavior_type                                                        active_behavior\n",
       "experience_level                                                             Novel 1\n",
       "prior_exposures_to_session_type                                                    0\n",
       "prior_exposures_to_image_set                                                       0\n",
       "prior_exposures_to_omissions                                                       7\n",
       "date_of_acquisition                                 2020-09-15 09:31:58.082000+00:00\n",
       "equipment_name                                                                MESO.1\n",
       "num_depths_per_area                                                                4\n",
       "ophys_experiment_id                [1050762966, 1050762969, 1050762972, 105076297...\n",
       "num_targeted_structures                                                            2\n",
       "Name: 1050597678, dtype: object"
      ]
     },
     "execution_count": 53,
     "metadata": {},
     "output_type": "execute_result"
    }
   ],
   "source": [
    "# look at info for this ophys session\n",
    "vip_sessions.loc[ophys_session_id]"
   ]
  },
  {
   "cell_type": "markdown",
   "id": "ef194001",
   "metadata": {
    "papermill": {
     "duration": 0.056787,
     "end_time": "2023-11-10T18:44:27.862275",
     "exception": false,
     "start_time": "2023-11-10T18:44:27.805488",
     "status": "completed"
    },
    "pycharm": {
     "name": "#%% md\n"
    },
    "tags": []
   },
   "source": [
    "### Plot the average dF/F trace for each of the experiments in this session for a 5 minute time period "
   ]
  },
  {
   "cell_type": "code",
   "execution_count": 54,
   "id": "d035286a",
   "metadata": {
    "execution": {
     "iopub.execute_input": "2023-11-10T18:44:27.975703Z",
     "iopub.status.busy": "2023-11-10T18:44:27.975440Z",
     "iopub.status.idle": "2023-11-10T18:44:27.979821Z",
     "shell.execute_reply": "2023-11-10T18:44:27.979132Z"
    },
    "papermill": {
     "duration": 0.062808,
     "end_time": "2023-11-10T18:44:27.981294",
     "exception": false,
     "start_time": "2023-11-10T18:44:27.918486",
     "status": "completed"
    },
    "pycharm": {
     "name": "#%%\n"
    },
    "tags": []
   },
   "outputs": [
    {
     "name": "stdout",
     "output_type": "stream",
     "text": [
      "[1050762966, 1050762969, 1050762972, 1050762974, 1050762975, 1050762977]\n"
     ]
    }
   ],
   "source": [
    "# get all the ophys_experiment_ids (corresponding to imaging planes) for this session\n",
    "ophys_experiment_ids = vip_sessions.loc[ophys_session_id].ophys_experiment_id\n",
    "print(ophys_experiment_ids)"
   ]
  },
  {
   "cell_type": "code",
   "execution_count": 55,
   "id": "0bf45dda",
   "metadata": {
    "execution": {
     "iopub.execute_input": "2023-11-10T18:44:28.093607Z",
     "iopub.status.busy": "2023-11-10T18:44:28.093335Z",
     "iopub.status.idle": "2023-11-10T18:46:02.635467Z",
     "shell.execute_reply": "2023-11-10T18:46:02.634769Z"
    },
    "papermill": {
     "duration": 94.600023,
     "end_time": "2023-11-10T18:46:02.636930",
     "exception": false,
     "start_time": "2023-11-10T18:44:28.036907",
     "status": "completed"
    },
    "pycharm": {
     "name": "#%%\n"
    },
    "tags": []
   },
   "outputs": [
    {
     "name": "stderr",
     "output_type": "stream",
     "text": [
      "behavior_ophys_experiment_1050762966.nwb: 100%|██████████| 248M/248M [00:11<00:00, 22.5MMB/s]\n",
      "behavior_ophys_experiment_1050762969.nwb: 100%|██████████| 258M/258M [00:10<00:00, 24.6MMB/s]\n",
      "behavior_ophys_experiment_1050762972.nwb: 100%|██████████| 251M/251M [00:11<00:00, 22.2MMB/s]\n",
      "behavior_ophys_experiment_1050762974.nwb: 100%|██████████| 251M/251M [00:11<00:00, 22.5MMB/s]\n",
      "behavior_ophys_experiment_1050762975.nwb: 100%|██████████| 259M/259M [00:11<00:00, 22.0MMB/s]\n",
      "behavior_ophys_experiment_1050762977.nwb: 100%|██████████| 250M/250M [00:10<00:00, 24.1MMB/s]\n"
     ]
    },
    {
     "data": {
      "text/plain": [
       "<matplotlib.legend.Legend at 0x7fed0bb0cf10>"
      ]
     },
     "execution_count": 55,
     "metadata": {},
     "output_type": "execute_result"
    },
    {
     "data": {
      "image/png": "[encoded data removed]",
      "text/plain": [
       "<Figure size 1500x400 with 1 Axes>"
      ]
     },
     "metadata": {},
     "output_type": "display_data"
    }
   ],
   "source": [
    "# create figure axis\n",
    "fig, ax = plt.subplots(1,1, figsize=(15,4))\n",
    "# enumerate over experiments in this session\n",
    "for i, ophys_experiment_id in enumerate(ophys_experiment_ids): \n",
    "    # get the dataset object\n",
    "    dataset = cache.get_behavior_ophys_experiment(ophys_experiment_id=ophys_experiment_id)\n",
    "    # get ophys timestamps\n",
    "    ophys_timestamps = dataset.ophys_timestamps\n",
    "    # get the population average dF/F trace\n",
    "    dff_traces = dataset.dff_traces\n",
    "    # dff_traces is a dataframe with a column 'dff'\n",
    "    # get the values of this column and turn into a matrix of n_cells x timepoints\n",
    "    dff_traces = np.vstack(dff_traces.dff.values)\n",
    "    # take the mean over the cell axis\n",
    "    average_dFF = np.mean(dff_traces, axis=0)\n",
    "    # get the imaging_depth and targeted_structure for this experiment\n",
    "    imaging_depth = dataset.metadata['imaging_depth']\n",
    "    targeted_structure = dataset.metadata['targeted_structure']\n",
    "    # plot it, including the imaging_depth and targeted_structure in the legend label\n",
    "    ax.plot(ophys_timestamps, average_dFF, label=targeted_structure+'_'+str(imaging_depth))\n",
    "    ax.set_title(dataset.metadata['cre_line']+', ophys_session_id: '+str(ophys_session_id))\n",
    "ax.set_ylabel('dF/F')\n",
    "ax.set_xlabel('time (seconds)')\n",
    "ax.set_xlim(5*60, 10*60)\n",
    "ax.legend()"
   ]
  },
  {
   "cell_type": "markdown",
   "id": "2f9f57a1",
   "metadata": {
    "papermill": {
     "duration": 0.075701,
     "end_time": "2023-11-10T18:46:02.789691",
     "exception": false,
     "start_time": "2023-11-10T18:46:02.713990",
     "status": "completed"
    },
    "pycharm": {
     "name": "#%%\n"
    },
    "tags": []
   },
   "source": [
    "## Ophys Cells Table"
   ]
  },
  {
   "cell_type": "code",
   "execution_count": 56,
   "id": "0b9608e5",
   "metadata": {
    "execution": {
     "iopub.execute_input": "2023-11-10T18:46:02.943740Z",
     "iopub.status.busy": "2023-11-10T18:46:02.943456Z",
     "iopub.status.idle": "2023-11-10T18:46:02.950572Z",
     "shell.execute_reply": "2023-11-10T18:46:02.949993Z"
    },
    "papermill": {
     "duration": 0.085733,
     "end_time": "2023-11-10T18:46:02.951916",
     "exception": false,
     "start_time": "2023-11-10T18:46:02.866183",
     "status": "completed"
    },
    "pycharm": {
     "name": "#%%\n"
    },
    "tags": []
   },
   "outputs": [
    {
     "data": {
      "text/html": [
       "<div>\n",
       "<style scoped>\n",
       "    .dataframe tbody tr th:only-of-type {\n",
       "        vertical-align: middle;\n",
       "    }\n",
       "\n",
       "    .dataframe tbody tr th {\n",
       "        vertical-align: top;\n",
       "    }\n",
       "\n",
       "    .dataframe thead th {\n",
       "        text-align: right;\n",
       "    }\n",
       "</style>\n",
       "<table border=\"1\" class=\"dataframe\">\n",
       "  <thead>\n",
       "    <tr style=\"text-align: right;\">\n",
       "      <th></th>\n",
       "      <th>ophys_experiment_id</th>\n",
       "      <th>cell_specimen_id</th>\n",
       "    </tr>\n",
       "    <tr>\n",
       "      <th>cell_roi_id</th>\n",
       "      <th></th>\n",
       "      <th></th>\n",
       "    </tr>\n",
       "  </thead>\n",
       "  <tbody>\n",
       "    <tr>\n",
       "      <th>1080884343</th>\n",
       "      <td>775614751</td>\n",
       "      <td>1086496928</td>\n",
       "    </tr>\n",
       "    <tr>\n",
       "      <th>1080884173</th>\n",
       "      <td>775614751</td>\n",
       "      <td>1086496914</td>\n",
       "    </tr>\n",
       "    <tr>\n",
       "      <th>1080883843</th>\n",
       "      <td>775614751</td>\n",
       "      <td>1086496838</td>\n",
       "    </tr>\n",
       "    <tr>\n",
       "      <th>1080886674</th>\n",
       "      <td>775614751</td>\n",
       "      <td>1086491756</td>\n",
       "    </tr>\n",
       "    <tr>\n",
       "      <th>1080885658</th>\n",
       "      <td>775614751</td>\n",
       "      <td>1086491699</td>\n",
       "    </tr>\n",
       "  </tbody>\n",
       "</table>\n",
       "</div>"
      ],
      "text/plain": [
       "             ophys_experiment_id  cell_specimen_id\n",
       "cell_roi_id                                       \n",
       "1080884343             775614751        1086496928\n",
       "1080884173             775614751        1086496914\n",
       "1080883843             775614751        1086496838\n",
       "1080886674             775614751        1086491756\n",
       "1080885658             775614751        1086491699"
      ]
     },
     "execution_count": 56,
     "metadata": {},
     "output_type": "execute_result"
    }
   ],
   "source": [
    "cells_table = cache.get_ophys_cells_table()\n",
    "\n",
    "cells_table.head()"
   ]
  },
  {
   "cell_type": "markdown",
   "id": "6b4a6555",
   "metadata": {
    "papermill": {
     "duration": 0.076164,
     "end_time": "2023-11-10T18:46:03.104144",
     "exception": false,
     "start_time": "2023-11-10T18:46:03.027980",
     "status": "completed"
    },
    "tags": []
   },
   "source": [
    "### How many cells per experiment?"
   ]
  },
  {
   "cell_type": "code",
   "execution_count": 57,
   "id": "2da8849b",
   "metadata": {
    "execution": {
     "iopub.execute_input": "2023-11-10T18:46:03.257760Z",
     "iopub.status.busy": "2023-11-10T18:46:03.257151Z",
     "iopub.status.idle": "2023-11-10T18:46:03.444225Z",
     "shell.execute_reply": "2023-11-10T18:46:03.443521Z"
    },
    "papermill": {
     "duration": 0.265339,
     "end_time": "2023-11-10T18:46:03.445594",
     "exception": false,
     "start_time": "2023-11-10T18:46:03.180255",
     "status": "completed"
    },
    "tags": []
   },
   "outputs": [
    {
     "data": {
      "image/png": "[encoded data removed]",
      "text/plain": [
       "<Figure size 640x480 with 1 Axes>"
      ]
     },
     "metadata": {},
     "output_type": "display_data"
    },
    {
     "data": {
      "text/plain": [
       "count    1936.000000\n",
       "mean       68.732438\n",
       "std        95.376045\n",
       "min         1.000000\n",
       "25%        11.000000\n",
       "50%        22.000000\n",
       "75%        99.000000\n",
       "max       666.000000\n",
       "dtype: float64"
      ]
     },
     "execution_count": 57,
     "metadata": {},
     "output_type": "execute_result"
    }
   ],
   "source": [
    "cell_per_exp = cells_table.groupby('ophys_experiment_id').size()\n",
    "fig = plt.hist(cell_per_exp, bins=50)\n",
    "plt.xlabel('Cell count')\n",
    "plt.ylabel('Number of experiments')\n",
    "plt.show()\n",
    "cell_per_exp.describe()"
   ]
  },
  {
   "cell_type": "markdown",
   "id": "acbf3e5a",
   "metadata": {
    "papermill": {
     "duration": 0.076291,
     "end_time": "2023-11-10T18:46:03.598809",
     "exception": false,
     "start_time": "2023-11-10T18:46:03.522518",
     "status": "completed"
    },
    "tags": []
   },
   "source": [
    "Merge the cell counts into the ophys experiments table"
   ]
  },
  {
   "cell_type": "code",
   "execution_count": 58,
   "id": "d584bdac",
   "metadata": {
    "execution": {
     "iopub.execute_input": "2023-11-10T18:46:03.756235Z",
     "iopub.status.busy": "2023-11-10T18:46:03.755585Z",
     "iopub.status.idle": "2023-11-10T18:46:03.760033Z",
     "shell.execute_reply": "2023-11-10T18:46:03.759436Z"
    },
    "papermill": {
     "duration": 0.085503,
     "end_time": "2023-11-10T18:46:03.761622",
     "exception": false,
     "start_time": "2023-11-10T18:46:03.676119",
     "status": "completed"
    },
    "tags": []
   },
   "outputs": [],
   "source": [
    "ophys_experiments['n_cells'] = ophys_experiments.index.map(cell_per_exp)"
   ]
  },
  {
   "cell_type": "markdown",
   "id": "4b5272f7",
   "metadata": {
    "papermill": {
     "duration": 0.077522,
     "end_time": "2023-11-10T18:46:03.918364",
     "exception": false,
     "start_time": "2023-11-10T18:46:03.840842",
     "status": "completed"
    },
    "tags": []
   },
   "source": [
    "Now we can look at the cell count by depth, for example"
   ]
  },
  {
   "cell_type": "code",
   "execution_count": 59,
   "id": "85244312",
   "metadata": {
    "execution": {
     "iopub.execute_input": "2023-11-10T18:46:04.072858Z",
     "iopub.status.busy": "2023-11-10T18:46:04.072563Z",
     "iopub.status.idle": "2023-11-10T18:46:04.302163Z",
     "shell.execute_reply": "2023-11-10T18:46:04.301385Z"
    },
    "papermill": {
     "duration": 0.308362,
     "end_time": "2023-11-10T18:46:04.303783",
     "exception": false,
     "start_time": "2023-11-10T18:46:03.995421",
     "status": "completed"
    },
    "tags": []
   },
   "outputs": [
    {
     "data": {
      "image/png": "[encoded data removed]",
      "text/plain": [
       "<Figure size 3000x1000 with 1 Axes>"
      ]
     },
     "metadata": {},
     "output_type": "display_data"
    }
   ],
   "source": [
    "fig, ax = plt.subplots(figsize=(30, 10))\n",
    "ax.scatter(ophys_experiments['imaging_depth'], ophys_experiments['n_cells'], alpha=.3)\n",
    "ax.set_xlabel('Imaging depth (microns)')\n",
    "ax.set_ylabel('Cell count')\n",
    "plt.show()"
   ]
  },
  {
   "cell_type": "markdown",
   "id": "e84eb564",
   "metadata": {
    "papermill": {
     "duration": 0.079709,
     "end_time": "2023-11-10T18:46:04.463646",
     "exception": false,
     "start_time": "2023-11-10T18:46:04.383937",
     "status": "completed"
    },
    "tags": []
   },
   "source": [
    "Or by cre-line"
   ]
  },
  {
   "cell_type": "code",
   "execution_count": 60,
   "id": "864c2ee4",
   "metadata": {
    "execution": {
     "iopub.execute_input": "2023-11-10T18:46:04.622921Z",
     "iopub.status.busy": "2023-11-10T18:46:04.622435Z",
     "iopub.status.idle": "2023-11-10T18:46:04.813711Z",
     "shell.execute_reply": "2023-11-10T18:46:04.812990Z"
    },
    "papermill": {
     "duration": 0.271638,
     "end_time": "2023-11-10T18:46:04.815060",
     "exception": false,
     "start_time": "2023-11-10T18:46:04.543422",
     "status": "completed"
    },
    "tags": []
   },
   "outputs": [
    {
     "data": {
      "text/plain": [
       "<Axes: xlabel='n_cells', ylabel='cre_line'>"
      ]
     },
     "execution_count": 60,
     "metadata": {},
     "output_type": "execute_result"
    },
    {
     "data": {
      "image/png": "[encoded data removed]",
      "text/plain": [
       "<Figure size 640x480 with 1 Axes>"
      ]
     },
     "metadata": {},
     "output_type": "display_data"
    }
   ],
   "source": [
    "import seaborn as sns\n",
    "sns.boxplot(data=ophys_experiments, x='n_cells', y='cre_line')"
   ]
  }
 ],
 "metadata": {
  "interpreter": {
   "hash": "916dbcbb3f70747c44a77c7bcd40155683ae19c65e1c03b4aa3499c5328201f1"
  },
  "kernelspec": {
   "display_name": "Python 3 (ipykernel)",
   "language": "python",
   "name": "python3"
  },
  "language_info": {
   "codemirror_mode": {
    "name": "ipython",
    "version": 3
   },
   "file_extension": ".py",
   "mimetype": "text/x-python",
   "name": "python",
   "nbconvert_exporter": "python",
   "pygments_lexer": "ipython3",
   "version": "3.8.18"
  },
  "papermill": {
   "default_parameters": {},
   "duration": 238.114522,
   "end_time": "2023-11-10T18:46:05.513358",
   "environment_variables": {},
   "exception": null,
   "input_path": "doc_template/examples_root/examples/nb/visual_behavior_ophys_dataset_manifest.ipynb",
   "output_path": "/tmp/tmpg3xu9ihh/scratch_nb.ipynb",
   "parameters": {
    "output_dir": "/tmp/tmpg3xu9ihh",
    "resources_dir": "/home/runner/work/AllenSDK/AllenSDK/allensdk/internal/notebooks/resources"
   },
   "start_time": "2023-11-10T18:42:07.398836",
   "version": "2.4.0"
  }
 },
 "nbformat": 4,
 "nbformat_minor": 5
}
