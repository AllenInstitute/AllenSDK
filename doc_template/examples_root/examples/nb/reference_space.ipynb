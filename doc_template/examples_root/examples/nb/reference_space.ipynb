{
 "cells": [
  {
   "cell_type": "markdown",
   "metadata": {},
   "source": [
    "# Reference Space\n",
    "\n",
    "This notebook contains example code demonstrating the use of the StructureTree and ReferenceSpace classes. These classes provide methods for interacting with the 3d spaces to which Allen Institute data and atlases are registered.\n",
    "\n",
    "Unlike the AllenSDK cache classes, StructureTree and ReferenceSpace operate entirely in memory. We recommend using json files to store text and nrrd files to store volumetric images.\n",
    "\n",
    "The MouseConnectivityCache class has methods for downloading, storing, and constructing StructureTrees and ReferenceSpaces. Please see [here](https://alleninstitute.github.io/AllenSDK/_static/examples/nb/mouse_connectivity.html) for examples."
   ]
  },
  {
   "cell_type": "markdown",
   "metadata": {},
   "source": [
    "## Constructing a StructureTree\n",
    "\n",
    "A StructureTree object is a wrapper around a structure graph - a list of dictionaries documenting brain structures and their containment relationships. To build a structure tree, you will first need to obtain a structure graph.\n",
    "\n",
    "For a list of atlases and corresponding structure graph ids, see [here](http://help.brain-map.org/display/api/Atlas+Drawings+and+Ontologies)."
   ]
  },
  {
   "cell_type": "code",
   "execution_count": 1,
   "metadata": {},
   "outputs": [],
   "source": [
    "from allensdk.api.queries.ontologies_api import OntologiesApi\n",
    "from allensdk.core.structure_tree import StructureTree\n",
    "\n",
    "oapi = OntologiesApi()\n",
    "structure_graph = oapi.get_structures_with_sets([1])  # 1 is the id of the adult mouse structure graph\n",
    "\n",
    "# This removes some unused fields returned by the query\n",
    "structure_graph = StructureTree.clean_structures(structure_graph)  \n",
    "\n",
    "tree = StructureTree(structure_graph)"
   ]
  },
  {
   "cell_type": "code",
   "execution_count": 2,
   "metadata": {},
   "outputs": [
    {
     "data": {
      "text/plain": [
       "[{'acronym': u'AUDd',\n",
       "  'graph_id': 1,\n",
       "  'graph_order': 122,\n",
       "  'id': 1011,\n",
       "  'name': u'Dorsal auditory area',\n",
       "  'rgb_triplet': [1, 147, 153],\n",
       "  'structure_id_path': [997, 8, 567, 688, 695, 315, 247, 1011],\n",
       "  'structure_set_ids': [112905828, 184527634, 114512891, 12, 167587189]}]"
      ]
     },
     "execution_count": 2,
     "metadata": {},
     "output_type": "execute_result"
    }
   ],
   "source": [
    "# now let's take a look at a structure\n",
    "tree.get_structures_by_name(['Dorsal auditory area'])"
   ]
  },
  {
   "cell_type": "markdown",
   "metadata": {},
   "source": [
    "The fields are:\n",
    "    * acronym: a shortened name for the structure\n",
    "    * rgb_triplet: each structure is assigned a consistent color for visualizations\n",
    "    * graph_id: the structure graph to which this structure belongs\n",
    "    * graph_order: each structure is assigned a consistent position in the flattened graph\n",
    "    * id: a unique integer identifier\n",
    "    * name: the full name of the structure\n",
    "    * structure_id_path: traces a path from the root node of the tree to this structure\n",
    "    * structure_set_ids: the structure belongs to these predefined groups"
   ]
  },
  {
   "cell_type": "markdown",
   "metadata": {},
   "source": [
    "## Using a StructureTree"
   ]
  },
  {
   "cell_type": "code",
   "execution_count": 3,
   "metadata": {},
   "outputs": [
    {
     "data": {
      "text/plain": [
       "[{'acronym': u'AUD',\n",
       "  'graph_id': 1,\n",
       "  'graph_order': 121,\n",
       "  'id': 247,\n",
       "  'name': u'Auditory areas',\n",
       "  'rgb_triplet': [1, 147, 153],\n",
       "  'structure_id_path': [997, 8, 567, 688, 695, 315, 247],\n",
       "  'structure_set_ids': [112905828, 184527634, 3, 12, 114512891]}]"
      ]
     },
     "execution_count": 3,
     "metadata": {},
     "output_type": "execute_result"
    }
   ],
   "source": [
    "# get a structure's parent\n",
    "tree.parents([1011])"
   ]
  },
  {
   "cell_type": "code",
   "execution_count": 4,
   "metadata": {},
   "outputs": [
    {
     "data": {
      "text/plain": [
       "u'Auditory areas'"
      ]
     },
     "execution_count": 4,
     "metadata": {},
     "output_type": "execute_result"
    }
   ],
   "source": [
    "# get a dictionary mapping structure ids to names\n",
    "\n",
    "name_map = tree.get_name_map()\n",
    "name_map[247]"
   ]
  },
  {
   "cell_type": "code",
   "execution_count": 5,
   "metadata": {},
   "outputs": [
    {
     "name": "stdout",
     "output_type": "stream",
     "text": [
      "Primary visual area is not in Auditory areas\n"
     ]
    }
   ],
   "source": [
    "# ask whether one structure is contained within another\n",
    "\n",
    "strida = 385\n",
    "stridb = 247\n",
    "\n",
    "is_desc = '' if tree.structure_descends_from(385, 247) else ' not'\n",
    "\n",
    "print( '{0} is{1} in {2}'.format(name_map[strida], is_desc, name_map[stridb]) )"
   ]
  },
  {
   "cell_type": "code",
   "execution_count": 6,
   "metadata": {},
   "outputs": [
    {
     "name": "stdout",
     "output_type": "stream",
     "text": [
      "VISp\n"
     ]
    }
   ],
   "source": [
    "# build a custom map that looks up acronyms by ids\n",
    "# the syntax here is just a pair of node-wise functions. \n",
    "# The first one returns keys while the second one returns values\n",
    "\n",
    "acronym_map = tree.value_map(lambda x: x['id'], lambda y: y['acronym'])\n",
    "print( acronym_map[385] )"
   ]
  },
  {
   "cell_type": "markdown",
   "metadata": {},
   "source": [
    "## Downloading an annotation volume\n",
    "\n",
    "This code snippet will download and store a nrrd file containing the Allen Common Coordinate Framework annotation. We have requested an annotation with 25-micron isometric spacing. The orientation of this space is:\n",
    "    * Anterior -> Posterior\n",
    "    * Superior -> Inferior\n",
    "    * Left -> Right\n",
    "This is the no-frills way to download an annotation volume. See the <a href='_static/examples/nb/mouse_connectivity.html#Manipulating-Grid-Data'>mouse connectivity</a> examples if you want to properly cache the downloaded data."
   ]
  },
  {
   "cell_type": "code",
   "execution_count": 7,
   "metadata": {},
   "outputs": [
    {
     "name": "stderr",
     "output_type": "stream",
     "text": [
      "2017-10-18 10:31:52,237 allensdk.api.api.retrieve_file_over_http INFO     Downloading URL: http://download.alleninstitute.org/informatics-archive/current-release/mouse_ccf/annotation/ccf_2017/annotation_25.nrrd\n"
     ]
    }
   ],
   "source": [
    "import os\n",
    "import nrrd\n",
    "from allensdk.api.queries.mouse_connectivity_api import MouseConnectivityApi\n",
    "from allensdk.config.manifest import Manifest\n",
    "\n",
    "# the annotation download writes a file, so we will need somwhere to put it\n",
    "annotation_dir = 'annotation'\n",
    "Manifest.safe_mkdir(annotation_dir)\n",
    "\n",
    "annotation_path = os.path.join(annotation_dir, 'annotation.nrrd')\n",
    "\n",
    "# this is a string which contains the name of the latest ccf version\n",
    "annotation_version = MouseConnectivityApi.CCF_VERSION_DEFAULT\n",
    "\n",
    "mcapi = MouseConnectivityApi()\n",
    "mcapi.download_annotation_volume(annotation_version, 25, annotation_path)\n",
    "\n",
    "annotation, meta = nrrd.read(annotation_path)"
   ]
  },
  {
   "cell_type": "markdown",
   "metadata": {},
   "source": [
    "## Constructing a ReferenceSpace"
   ]
  },
  {
   "cell_type": "code",
   "execution_count": 8,
   "metadata": {},
   "outputs": [],
   "source": [
    "from allensdk.core.reference_space import ReferenceSpace\n",
    "\n",
    "# build a reference space from a StructureTree and annotation volume, the third argument is \n",
    "# the resolution of the space in microns\n",
    "rsp = ReferenceSpace(tree, annotation, [25, 25, 25])"
   ]
  },
  {
   "cell_type": "markdown",
   "metadata": {},
   "source": [
    "## Using a ReferenceSpace"
   ]
  },
  {
   "cell_type": "markdown",
   "metadata": {},
   "source": [
    "#### making structure masks\n",
    "\n",
    "The simplest use of a Reference space is to build binary indicator masks for structures or groups of structures."
   ]
  },
  {
   "cell_type": "code",
   "execution_count": 9,
   "metadata": {},
   "outputs": [
    {
     "data": {
      "text/plain": [
       "<matplotlib.image.AxesImage at 0x7f8aa098c2d0>"
      ]
     },
     "execution_count": 9,
     "metadata": {},
     "output_type": "execute_result"
    },
    {
     "data": {
      "image/png": "[encoded data removed]",
      "text/plain": [
       "<matplotlib.figure.Figure at 0x7f8aa1c348d0>"
      ]
     },
     "metadata": {},
     "output_type": "display_data"
    }
   ],
   "source": [
    "import matplotlib.pyplot as plt\n",
    "%matplotlib inline\n",
    "\n",
    "# A complete mask for one structure\n",
    "whole_cortex_mask = rsp.make_structure_mask([315])\n",
    "\n",
    "# view in coronal section\n",
    "fig, ax = plt.subplots(figsize=(10, 10))\n",
    "plt.imshow(whole_cortex_mask[150, :], interpolation='none', cmap=plt.cm.afmhot)"
   ]
  },
  {
   "cell_type": "markdown",
   "metadata": {},
   "source": [
    "What if you want a mask for a whole collection of ontologically disparate structures? Just pass more structure ids to make_structure_masks:"
   ]
  },
  {
   "cell_type": "code",
   "execution_count": 10,
   "metadata": {},
   "outputs": [
    {
     "data": {
      "text/plain": [
       "<matplotlib.image.AxesImage at 0x7f8a9a4e1b50>"
      ]
     },
     "execution_count": 10,
     "metadata": {},
     "output_type": "execute_result"
    },
    {
     "data": {
      "image/png": "[encoded data removed]",
      "text/plain": [
       "<matplotlib.figure.Figure at 0x7f8a9a4e1990>"
      ]
     },
     "metadata": {},
     "output_type": "display_data"
    }
   ],
   "source": [
    "# This gets all of the structures targeted by the Allen Brain Observatory project\n",
    "brain_observatory_structures = rsp.structure_tree.get_structures_by_set_id([514166994])\n",
    "brain_observatory_ids = [st['id'] for st in brain_observatory_structures]\n",
    "\n",
    "brain_observatory_mask = rsp.make_structure_mask(brain_observatory_ids)\n",
    "\n",
    "# view in horizontal section\n",
    "fig, ax = plt.subplots(figsize=(10, 10))\n",
    "plt.imshow(brain_observatory_mask[:, 40, :], interpolation='none', cmap=plt.cm.afmhot)"
   ]
  },
  {
   "cell_type": "markdown",
   "metadata": {},
   "source": [
    "You can also make and store a number of structure_masks at once:"
   ]
  },
  {
   "cell_type": "code",
   "execution_count": 11,
   "metadata": {},
   "outputs": [
    {
     "name": "stdout",
     "output_type": "stream",
     "text": [
      "made mask for structure 385.\n",
      "made mask for structure 1097.\n"
     ]
    },
    {
     "data": {
      "text/plain": [
       "['annotation.nrrd', 'structure_385.nrrd', 'structure_1097.nrrd']"
      ]
     },
     "execution_count": 11,
     "metadata": {},
     "output_type": "execute_result"
    }
   ],
   "source": [
    "import functools\n",
    "\n",
    "# Define a wrapper function that will control the mask generation. \n",
    "# This one checks for a nrrd file in the specified base directory \n",
    "# and builds/writes the mask only if one does not exist\n",
    "mask_writer = functools.partial(ReferenceSpace.check_and_write, annotation_dir)\n",
    "    \n",
    "# many_structure_masks is a generator - nothing has actrually been run yet\n",
    "mask_generator = rsp.many_structure_masks([385, 1097], mask_writer)\n",
    "\n",
    "# consume the resulting iterator to make and write the masks\n",
    "for structure_id in mask_generator:\n",
    "    print( 'made mask for structure {0}.'.format(structure_id) ) \n",
    "\n",
    "os.listdir(annotation_dir)"
   ]
  },
  {
   "cell_type": "markdown",
   "metadata": {},
   "source": [
    "#### Removing unassigned structures"
   ]
  },
  {
   "cell_type": "markdown",
   "metadata": {},
   "source": [
    "A structure graph may contain structures that are not used in a particular reference space. Having these around can complicate use of the reference space, so we generally want to remove them.\n",
    "\n",
    "We'll try this using \"Somatosensory areas, layer 6a\" as a test case. In the 2016 ccf space, this structure is unused in favor of finer distinctions (e.g. \"Primary somatosensory area, barrel field, layer 6a\")."
   ]
  },
  {
   "cell_type": "code",
   "execution_count": 12,
   "metadata": {},
   "outputs": [
    {
     "name": "stdout",
     "output_type": "stream",
     "text": [
      "voxel count for structure 12997: 0\n"
     ]
    },
    {
     "data": {
      "text/plain": [
       "False"
      ]
     },
     "execution_count": 12,
     "metadata": {},
     "output_type": "execute_result"
    }
   ],
   "source": [
    "# Double-check the voxel counts\n",
    "no_voxel_id = rsp.structure_tree.get_structures_by_name(['Somatosensory areas, layer 6a'])[0]['id']\n",
    "print( 'voxel count for structure {0}: {1}'.format(no_voxel_id, rsp.total_voxel_map[no_voxel_id]) )\n",
    "\n",
    "# remove unassigned structures from the ReferenceSpace's StructureTree\n",
    "rsp.remove_unassigned()\n",
    "\n",
    "# check the structure tree\n",
    "no_voxel_id in rsp.structure_tree.node_ids()"
   ]
  },
  {
   "cell_type": "markdown",
   "metadata": {},
   "source": [
    "#### View a slice from the annotation"
   ]
  },
  {
   "cell_type": "code",
   "execution_count": 13,
   "metadata": {},
   "outputs": [
    {
     "data": {
      "text/plain": [
       "<matplotlib.image.AxesImage at 0x7f8a9016cf10>"
      ]
     },
     "execution_count": 13,
     "metadata": {},
     "output_type": "execute_result"
    },
    {
     "data": {
      "image/png": "[encoded data removed]",
      "text/plain": [
       "<matplotlib.figure.Figure at 0x7f8aa1c34610>"
      ]
     },
     "metadata": {},
     "output_type": "display_data"
    }
   ],
   "source": [
    "import numpy as np\n",
    "\n",
    "fig, ax = plt.subplots(figsize=(10, 10))\n",
    "plt.imshow(rsp.get_slice_image(1, 5000), interpolation='none')"
   ]
  },
  {
   "cell_type": "markdown",
   "metadata": {},
   "source": [
    "#### Downsample the space\n",
    "\n",
    "If you want an annotation at a resolution we don't provide, you can make one with the downsample method."
   ]
  },
  {
   "cell_type": "code",
   "execution_count": 14,
   "metadata": {},
   "outputs": [
    {
     "name": "stdout",
     "output_type": "stream",
     "text": [
      "(528, 320, 456)\n",
      "(176, 107, 152)\n"
     ]
    }
   ],
   "source": [
    "import warnings\n",
    "\n",
    "target_resolution = [75, 75, 75]\n",
    "\n",
    "# in some versions of scipy, scipy.ndimage.zoom raises a helpful but distracting \n",
    "# warning about the method used to truncate integers. \n",
    "warnings.simplefilter('ignore')\n",
    "\n",
    "sf_rsp = rsp.downsample(target_resolution)\n",
    "\n",
    "# re-enable warnings\n",
    "warnings.simplefilter('default')\n",
    "\n",
    "print( rsp.annotation.shape )\n",
    "print( sf_rsp.annotation.shape )"
   ]
  },
  {
   "cell_type": "markdown",
   "metadata": {},
   "source": [
    "Now view the downsampled space:"
   ]
  },
  {
   "cell_type": "code",
   "execution_count": 15,
   "metadata": {},
   "outputs": [
    {
     "data": {
      "text/plain": [
       "<matplotlib.image.AxesImage at 0x7f8a900a9ad0>"
      ]
     },
     "execution_count": 15,
     "metadata": {},
     "output_type": "execute_result"
    },
    {
     "data": {
      "image/png": "[encoded data removed]",
      "text/plain": [
       "<matplotlib.figure.Figure at 0x7f8a94c2e710>"
      ]
     },
     "metadata": {},
     "output_type": "display_data"
    }
   ],
   "source": [
    "fig, ax = plt.subplots(figsize=(10, 10))\n",
    "plt.imshow(sf_rsp.get_slice_image(1, 5000), interpolation='none')"
   ]
  }
 ],
 "metadata": {
  "kernelspec": {
   "display_name": "Python 2",
   "language": "python",
   "name": "python2"
  },
  "language_info": {
   "codemirror_mode": {
    "name": "ipython",
    "version": 2
   },
   "file_extension": ".py",
   "mimetype": "text/x-python",
   "name": "python",
   "nbconvert_exporter": "python",
   "pygments_lexer": "ipython2",
   "version": "2.7.13"
  }
 },
 "nbformat": 4,
 "nbformat_minor": 1
}
