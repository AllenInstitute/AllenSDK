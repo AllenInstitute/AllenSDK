{
 "cells": [
  {
   "cell_type": "markdown",
   "id": "c2ca7c19",
   "metadata": {
    "papermill": {
     "duration": 0.006395,
     "end_time": "2023-02-08T10:22:44.556061",
     "exception": false,
     "start_time": "2023-02-08T10:22:44.549666",
     "status": "completed"
    },
    "tags": []
   },
   "source": [
    "# Reference Space\n",
    "\n",
    "This notebook contains example code demonstrating the use of the StructureTree and ReferenceSpace classes. These classes provide methods for interacting with the 3D spaces to which Allen Institute data and atlases are registered.\n",
    "\n",
    "The main entry point will be through the `ReferenceSpaceCache` class. The `ReferenceSpaceCache` class has methods for downloading, storing, and constructing StructureTrees, annotations, and ReferenceSpaces.\n",
    "\n",
    "* <a href='#Constructing-a-StructureTree'>Constructing a StructureTree</a>\n",
    "* <a href='#Using-a-StructureTree'>Using a StructureTree</a>\n",
    "* <a href='#Downloading-an-annotation-volume'>Downloading an annotation volume</a>\n",
    "* <a href='#Constructing-a-ReferenceSpace'>Constructing a ReferenceSpace</a>\n",
    "* <a href='#Using-a-ReferenceSpace'>Using a ReferenceSpace</a>\n",
    "* <a href='#Exporting'>Exporting</a>"
   ]
  },
  {
   "cell_type": "markdown",
   "id": "1b36b259",
   "metadata": {
    "papermill": {
     "duration": 0.005376,
     "end_time": "2023-02-08T10:22:44.567135",
     "exception": false,
     "start_time": "2023-02-08T10:22:44.561759",
     "status": "completed"
    },
    "tags": []
   },
   "source": [
    "## Constructing a StructureTree\n",
    "\n",
    "A StructureTree object is a wrapper around a structure graph - a list of dictionaries documenting brain structures and their containment relationships. To build a structure tree, you will first need to obtain a structure graph. The `ReferenceSpaceCache` takes care of that for you.\n",
    "\n",
    "For a list of atlases and corresponding structure graph ids, see [here](http://help.brain-map.org/display/api/Atlas+Drawings+and+Ontologies)."
   ]
  },
  {
   "cell_type": "code",
   "execution_count": 1,
   "id": "64ad2303",
   "metadata": {
    "execution": {
     "iopub.execute_input": "2023-02-08T10:22:44.579289Z",
     "iopub.status.busy": "2023-02-08T10:22:44.578737Z",
     "iopub.status.idle": "2023-02-08T10:22:46.805268Z",
     "shell.execute_reply": "2023-02-08T10:22:46.804583Z"
    },
    "papermill": {
     "duration": 2.234773,
     "end_time": "2023-02-08T10:22:46.807196",
     "exception": false,
     "start_time": "2023-02-08T10:22:44.572423",
     "status": "completed"
    },
    "tags": []
   },
   "outputs": [],
   "source": [
    "from pathlib import Path\n",
    "import os\n",
    "\n",
    "from allensdk.core.reference_space_cache import ReferenceSpaceCache"
   ]
  },
  {
   "cell_type": "code",
   "execution_count": 2,
   "id": "40e9752b",
   "metadata": {
    "execution": {
     "iopub.execute_input": "2023-02-08T10:22:46.820674Z",
     "iopub.status.busy": "2023-02-08T10:22:46.819931Z",
     "iopub.status.idle": "2023-02-08T10:22:46.824410Z",
     "shell.execute_reply": "2023-02-08T10:22:46.823807Z"
    },
    "papermill": {
     "duration": 0.012685,
     "end_time": "2023-02-08T10:22:46.825980",
     "exception": false,
     "start_time": "2023-02-08T10:22:46.813295",
     "status": "completed"
    },
    "tags": [
     "parameters"
    ]
   },
   "outputs": [],
   "source": [
    "output_dir = '.'"
   ]
  },
  {
   "cell_type": "code",
   "execution_count": 4,
   "id": "65c9dcb7",
   "metadata": {
    "execution": {
     "iopub.execute_input": "2023-02-08T10:22:46.854370Z",
     "iopub.status.busy": "2023-02-08T10:22:46.853797Z",
     "iopub.status.idle": "2023-02-08T10:22:52.647913Z",
     "shell.execute_reply": "2023-02-08T10:22:52.647240Z"
    },
    "papermill": {
     "duration": 5.802127,
     "end_time": "2023-02-08T10:22:52.649778",
     "exception": false,
     "start_time": "2023-02-08T10:22:46.847651",
     "status": "completed"
    },
    "tags": []
   },
   "outputs": [],
   "source": [
    "reference_space_key = os.path.join('annotation', 'ccf_2017')\n",
    "resolution = 25\n",
    "rspc = ReferenceSpaceCache(resolution, reference_space_key, manifest=Path(output_dir) / 'manifest.json')\n",
    "# ID 1 is the adult mouse structure graph\n",
    "tree = rspc.get_structure_tree(structure_graph_id=1) "
   ]
  },
  {
   "cell_type": "code",
   "execution_count": 5,
   "id": "0bc1327c",
   "metadata": {
    "execution": {
     "iopub.execute_input": "2023-02-08T10:22:52.662773Z",
     "iopub.status.busy": "2023-02-08T10:22:52.662098Z",
     "iopub.status.idle": "2023-02-08T10:22:52.669926Z",
     "shell.execute_reply": "2023-02-08T10:22:52.669295Z"
    },
    "papermill": {
     "duration": 0.01636,
     "end_time": "2023-02-08T10:22:52.672033",
     "exception": false,
     "start_time": "2023-02-08T10:22:52.655673",
     "status": "completed"
    },
    "tags": []
   },
   "outputs": [
    {
     "data": {
      "text/plain": [
       "[{'acronym': 'AUDd',\n",
       "  'graph_id': 1,\n",
       "  'graph_order': 122,\n",
       "  'id': 1011,\n",
       "  'name': 'Dorsal auditory area',\n",
       "  'structure_id_path': [997, 8, 567, 688, 695, 315, 247, 1011],\n",
       "  'structure_set_ids': [112905828,\n",
       "   688152357,\n",
       "   691663206,\n",
       "   687527945,\n",
       "   12,\n",
       "   184527634,\n",
       "   167587189,\n",
       "   114512891],\n",
       "  'rgb_triplet': [1, 147, 153]}]"
      ]
     },
     "execution_count": 5,
     "metadata": {},
     "output_type": "execute_result"
    }
   ],
   "source": [
    "# now let's take a look at a structure\n",
    "tree.get_structures_by_name(['Dorsal auditory area'])"
   ]
  },
  {
   "cell_type": "markdown",
   "id": "d516e479",
   "metadata": {
    "papermill": {
     "duration": 0.005542,
     "end_time": "2023-02-08T10:22:52.683134",
     "exception": false,
     "start_time": "2023-02-08T10:22:52.677592",
     "status": "completed"
    },
    "tags": []
   },
   "source": [
    "The fields are:\n",
    "    * acronym: a shortened name for the structure\n",
    "    * rgb_triplet: each structure is assigned a consistent color for visualizations\n",
    "    * graph_id: the structure graph to which this structure belongs\n",
    "    * graph_order: each structure is assigned a consistent position in the flattened graph\n",
    "    * id: a unique integer identifier\n",
    "    * name: the full name of the structure\n",
    "    * structure_id_path: traces a path from the root node of the tree to this structure\n",
    "    * structure_set_ids: the structure belongs to these predefined groups"
   ]
  },
  {
   "cell_type": "markdown",
   "id": "ccaca317",
   "metadata": {
    "papermill": {
     "duration": 0.005406,
     "end_time": "2023-02-08T10:22:52.694029",
     "exception": false,
     "start_time": "2023-02-08T10:22:52.688623",
     "status": "completed"
    },
    "tags": []
   },
   "source": [
    "## Using a StructureTree"
   ]
  },
  {
   "cell_type": "code",
   "execution_count": 6,
   "id": "8c0a5d30",
   "metadata": {
    "execution": {
     "iopub.execute_input": "2023-02-08T10:22:52.708064Z",
     "iopub.status.busy": "2023-02-08T10:22:52.707488Z",
     "iopub.status.idle": "2023-02-08T10:22:52.712375Z",
     "shell.execute_reply": "2023-02-08T10:22:52.711748Z"
    },
    "papermill": {
     "duration": 0.012662,
     "end_time": "2023-02-08T10:22:52.713822",
     "exception": false,
     "start_time": "2023-02-08T10:22:52.701160",
     "status": "completed"
    },
    "tags": []
   },
   "outputs": [
    {
     "data": {
      "text/plain": [
       "[{'acronym': 'AUD',\n",
       "  'graph_id': 1,\n",
       "  'graph_order': 121,\n",
       "  'id': 247,\n",
       "  'name': 'Auditory areas',\n",
       "  'structure_id_path': [997, 8, 567, 688, 695, 315, 247],\n",
       "  'structure_set_ids': [3, 112905828, 691663206, 12, 184527634, 114512891],\n",
       "  'rgb_triplet': [1, 147, 153]}]"
      ]
     },
     "execution_count": 6,
     "metadata": {},
     "output_type": "execute_result"
    }
   ],
   "source": [
    "# get a structure's parent\n",
    "tree.parents([1011])"
   ]
  },
  {
   "cell_type": "code",
   "execution_count": 7,
   "id": "17bee9ad",
   "metadata": {
    "execution": {
     "iopub.execute_input": "2023-02-08T10:22:52.726364Z",
     "iopub.status.busy": "2023-02-08T10:22:52.725841Z",
     "iopub.status.idle": "2023-02-08T10:22:52.730606Z",
     "shell.execute_reply": "2023-02-08T10:22:52.730023Z"
    },
    "papermill": {
     "duration": 0.012561,
     "end_time": "2023-02-08T10:22:52.731969",
     "exception": false,
     "start_time": "2023-02-08T10:22:52.719408",
     "status": "completed"
    },
    "tags": []
   },
   "outputs": [
    {
     "data": {
      "text/plain": [
       "'Auditory areas'"
      ]
     },
     "execution_count": 7,
     "metadata": {},
     "output_type": "execute_result"
    }
   ],
   "source": [
    "# get a dictionary mapping structure ids to names\n",
    "\n",
    "name_map = tree.get_name_map()\n",
    "name_map[247]"
   ]
  },
  {
   "cell_type": "code",
   "execution_count": 8,
   "id": "b3246267",
   "metadata": {
    "execution": {
     "iopub.execute_input": "2023-02-08T10:22:52.744516Z",
     "iopub.status.busy": "2023-02-08T10:22:52.743971Z",
     "iopub.status.idle": "2023-02-08T10:22:52.748076Z",
     "shell.execute_reply": "2023-02-08T10:22:52.747557Z"
    },
    "papermill": {
     "duration": 0.011887,
     "end_time": "2023-02-08T10:22:52.749548",
     "exception": false,
     "start_time": "2023-02-08T10:22:52.737661",
     "status": "completed"
    },
    "tags": []
   },
   "outputs": [
    {
     "name": "stdout",
     "output_type": "stream",
     "text": [
      "Primary visual area is not in Auditory areas\n"
     ]
    }
   ],
   "source": [
    "# ask whether one structure is contained within another\n",
    "\n",
    "structure_id_a = 385\n",
    "structure_id_b = 247\n",
    "\n",
    "is_desc = '' if tree.structure_descends_from(structure_id_a, structure_id_b) else ' not'\n",
    "print( '{0} is{1} in {2}'.format(name_map[structure_id_a], is_desc, name_map[structure_id_b]) )"
   ]
  },
  {
   "cell_type": "code",
   "execution_count": 9,
   "id": "4a0c1e11",
   "metadata": {
    "execution": {
     "iopub.execute_input": "2023-02-08T10:22:52.762376Z",
     "iopub.status.busy": "2023-02-08T10:22:52.761823Z",
     "iopub.status.idle": "2023-02-08T10:22:52.766112Z",
     "shell.execute_reply": "2023-02-08T10:22:52.765596Z"
    },
    "papermill": {
     "duration": 0.012085,
     "end_time": "2023-02-08T10:22:52.767401",
     "exception": false,
     "start_time": "2023-02-08T10:22:52.755316",
     "status": "completed"
    },
    "tags": []
   },
   "outputs": [
    {
     "name": "stdout",
     "output_type": "stream",
     "text": [
      "VISp\n"
     ]
    }
   ],
   "source": [
    "# build a custom map that looks up acronyms by ids\n",
    "# the syntax here is just a pair of node-wise functions. \n",
    "# The first one returns keys while the second one returns values\n",
    "\n",
    "acronym_map = tree.value_map(lambda x: x['id'], lambda y: y['acronym'])\n",
    "print( acronym_map[structure_id_a] )"
   ]
  },
  {
   "cell_type": "markdown",
   "id": "cf5a0bf3",
   "metadata": {
    "papermill": {
     "duration": 0.005821,
     "end_time": "2023-02-08T10:22:52.779147",
     "exception": false,
     "start_time": "2023-02-08T10:22:52.773326",
     "status": "completed"
    },
    "tags": []
   },
   "source": [
    "## Downloading an annotation volume\n",
    "\n",
    "You can obtain annotation volumes through the `ReferenceSpaceCache` which stores a nrrd file containing the Allen Common Coordinate Framework annotation on your hard drive. Above we set the resolution for annotations when we initialized the `ReferenceSpaceCache` to 25-micron isometric spacing. The orientation of this space is:\n",
    "    * Anterior -> Posterior\n",
    "    * Superior -> Inferior\n",
    "    * Left -> Right"
   ]
  },
  {
   "cell_type": "code",
   "execution_count": 10,
   "id": "2abd67d4",
   "metadata": {
    "execution": {
     "iopub.execute_input": "2023-02-08T10:22:52.791743Z",
     "iopub.status.busy": "2023-02-08T10:22:52.791334Z",
     "iopub.status.idle": "2023-02-08T10:22:54.657359Z",
     "shell.execute_reply": "2023-02-08T10:22:54.656652Z"
    },
    "papermill": {
     "duration": 1.874205,
     "end_time": "2023-02-08T10:22:54.659110",
     "exception": false,
     "start_time": "2023-02-08T10:22:52.784905",
     "status": "completed"
    },
    "tags": []
   },
   "outputs": [
    {
     "name": "stderr",
     "output_type": "stream",
     "text": [
      "2023-02-08 10:22:52,793 allensdk.api.api.retrieve_file_over_http INFO     Downloading URL: http://download.alleninstitute.org/informatics-archive/current-release/mouse_ccf/annotation/ccf_2017/annotation_25.nrrd\n"
     ]
    },
    {
     "data": {
      "text/plain": [
       "['annotation_25.nrrd']"
      ]
     },
     "execution_count": 10,
     "metadata": {},
     "output_type": "execute_result"
    }
   ],
   "source": [
    "import os\n",
    "\n",
    "annotation, meta = rspc.get_annotation_volume()\n",
    "# The file should appear in the reference space key directory\n",
    "os.listdir(Path(output_dir) / reference_space_key)"
   ]
  },
  {
   "cell_type": "markdown",
   "id": "4cd74a9f",
   "metadata": {
    "papermill": {
     "duration": 0.005974,
     "end_time": "2023-02-08T10:22:54.671354",
     "exception": false,
     "start_time": "2023-02-08T10:22:54.665380",
     "status": "completed"
    },
    "tags": []
   },
   "source": [
    "## Constructing a ReferenceSpace\n",
    "\n",
    "A reference space is built from a structure tree and an annotation volume. We can obtain our ReferenceSpace object using `ReferenceSpaceCache` which will load everything from the cache since we have already downloaded the files for use above."
   ]
  },
  {
   "cell_type": "code",
   "execution_count": 11,
   "id": "49b7b3fa",
   "metadata": {
    "execution": {
     "iopub.execute_input": "2023-02-08T10:22:54.684778Z",
     "iopub.status.busy": "2023-02-08T10:22:54.684538Z",
     "iopub.status.idle": "2023-02-08T10:22:56.098753Z",
     "shell.execute_reply": "2023-02-08T10:22:56.098071Z"
    },
    "papermill": {
     "duration": 1.423139,
     "end_time": "2023-02-08T10:22:56.100567",
     "exception": false,
     "start_time": "2023-02-08T10:22:54.677428",
     "status": "completed"
    },
    "tags": []
   },
   "outputs": [],
   "source": [
    "rsp = rspc.get_reference_space()"
   ]
  },
  {
   "cell_type": "markdown",
   "id": "af3643c4",
   "metadata": {
    "papermill": {
     "duration": 0.005986,
     "end_time": "2023-02-08T10:22:56.112744",
     "exception": false,
     "start_time": "2023-02-08T10:22:56.106758",
     "status": "completed"
    },
    "tags": []
   },
   "source": [
    "## Using a ReferenceSpace"
   ]
  },
  {
   "cell_type": "markdown",
   "id": "7e61ec1d",
   "metadata": {
    "papermill": {
     "duration": 0.006375,
     "end_time": "2023-02-08T10:22:56.125268",
     "exception": false,
     "start_time": "2023-02-08T10:22:56.118893",
     "status": "completed"
    },
    "tags": []
   },
   "source": [
    "#### making structure masks\n",
    "\n",
    "The simplest use of a Reference space is to build binary indicator masks for structures or groups of structures."
   ]
  },
  {
   "cell_type": "code",
   "execution_count": 12,
   "id": "6231e446",
   "metadata": {
    "execution": {
     "iopub.execute_input": "2023-02-08T10:22:56.138624Z",
     "iopub.status.busy": "2023-02-08T10:22:56.138108Z",
     "iopub.status.idle": "2023-02-08T10:23:15.723658Z",
     "shell.execute_reply": "2023-02-08T10:23:15.723080Z"
    },
    "papermill": {
     "duration": 19.593994,
     "end_time": "2023-02-08T10:23:15.725144",
     "exception": false,
     "start_time": "2023-02-08T10:22:56.131150",
     "status": "completed"
    },
    "tags": []
   },
   "outputs": [
    {
     "data": {
      "text/plain": [
       "<matplotlib.image.AxesImage at 0x7f13f77e9370>"
      ]
     },
     "execution_count": 12,
     "metadata": {},
     "output_type": "execute_result"
    },
    {
     "data": {
      "image/png": "[encoded data removed]",
      "text/plain": [
       "<Figure size 1000x1000 with 1 Axes>"
      ]
     },
     "metadata": {},
     "output_type": "display_data"
    }
   ],
   "source": [
    "import matplotlib.pyplot as plt\n",
    "%matplotlib inline\n",
    "\n",
    "# A complete mask for one structure\n",
    "whole_cortex_mask = rsp.make_structure_mask([315])\n",
    "\n",
    "# view in coronal section\n",
    "fig, ax = plt.subplots(figsize=(10, 10))\n",
    "plt.imshow(whole_cortex_mask[150, :], interpolation='none', cmap=plt.cm.afmhot)"
   ]
  },
  {
   "cell_type": "markdown",
   "id": "034a2aac",
   "metadata": {
    "papermill": {
     "duration": 0.006442,
     "end_time": "2023-02-08T10:23:15.738266",
     "exception": false,
     "start_time": "2023-02-08T10:23:15.731824",
     "status": "completed"
    },
    "tags": []
   },
   "source": [
    "What if you want a mask for a whole collection of ontologically disparate structures? Just pass more structure ids to make_structure_masks:"
   ]
  },
  {
   "cell_type": "code",
   "execution_count": 13,
   "id": "755a9f72",
   "metadata": {
    "execution": {
     "iopub.execute_input": "2023-02-08T10:23:15.752537Z",
     "iopub.status.busy": "2023-02-08T10:23:15.751879Z",
     "iopub.status.idle": "2023-02-08T10:23:18.205152Z",
     "shell.execute_reply": "2023-02-08T10:23:18.204073Z"
    },
    "papermill": {
     "duration": 2.462273,
     "end_time": "2023-02-08T10:23:18.206839",
     "exception": false,
     "start_time": "2023-02-08T10:23:15.744566",
     "status": "completed"
    },
    "tags": []
   },
   "outputs": [
    {
     "data": {
      "text/plain": [
       "<matplotlib.image.AxesImage at 0x7f1428e49ca0>"
      ]
     },
     "execution_count": 13,
     "metadata": {},
     "output_type": "execute_result"
    },
    {
     "data": {
      "image/png": "[encoded data removed]",
      "text/plain": [
       "<Figure size 1000x1000 with 1 Axes>"
      ]
     },
     "metadata": {},
     "output_type": "display_data"
    }
   ],
   "source": [
    "# This gets all of the structures targeted by the Allen Brain Observatory project\n",
    "brain_observatory_structures = rsp.structure_tree.get_structures_by_set_id([514166994])\n",
    "brain_observatory_ids = [st['id'] for st in brain_observatory_structures]\n",
    "\n",
    "brain_observatory_mask = rsp.make_structure_mask(brain_observatory_ids)\n",
    "\n",
    "# view in horizontal section\n",
    "fig, ax = plt.subplots(figsize=(10, 10))\n",
    "plt.imshow(brain_observatory_mask[:, 40, :], interpolation='none', cmap=plt.cm.afmhot)"
   ]
  },
  {
   "cell_type": "markdown",
   "id": "b77b8198",
   "metadata": {
    "papermill": {
     "duration": 0.006777,
     "end_time": "2023-02-08T10:23:18.221501",
     "exception": false,
     "start_time": "2023-02-08T10:23:18.214724",
     "status": "completed"
    },
    "tags": []
   },
   "source": [
    "You can also make and store a number of structure_masks at once, however this is only accessible using the `ReferenceSpace` class directly:"
   ]
  },
  {
   "cell_type": "code",
   "execution_count": 14,
   "id": "0f7ecaaf",
   "metadata": {
    "execution": {
     "iopub.execute_input": "2023-02-08T10:23:18.236184Z",
     "iopub.status.busy": "2023-02-08T10:23:18.235691Z",
     "iopub.status.idle": "2023-02-08T10:23:23.545216Z",
     "shell.execute_reply": "2023-02-08T10:23:23.544597Z"
    },
    "papermill": {
     "duration": 5.318854,
     "end_time": "2023-02-08T10:23:23.547041",
     "exception": false,
     "start_time": "2023-02-08T10:23:18.228187",
     "status": "completed"
    },
    "scrolled": true,
    "tags": []
   },
   "outputs": [
    {
     "name": "stdout",
     "output_type": "stream",
     "text": [
      "made mask for structure 385.\n",
      "made mask for structure 1097.\n"
     ]
    },
    {
     "data": {
      "text/plain": [
       "['structure_385.nrrd', 'ccf_2017', 'structure_1097.nrrd']"
      ]
     },
     "execution_count": 14,
     "metadata": {},
     "output_type": "execute_result"
    }
   ],
   "source": [
    "import functools\n",
    "from allensdk.core.reference_space import ReferenceSpace\n",
    "\n",
    "# Define a wrapper function that will control the mask generation. \n",
    "# This one checks for a nrrd file in the specified base directory \n",
    "# and builds/writes the mask only if one does not exist\n",
    "annotation_dir = Path(output_dir) / 'annotation'\n",
    "mask_writer = functools.partial(ReferenceSpace.check_and_write, annotation_dir)\n",
    "    \n",
    "# many_structure_masks is a generator - nothing has actrually been run yet\n",
    "mask_generator = rsp.many_structure_masks([385, 1097], mask_writer)\n",
    "\n",
    "# consume the resulting iterator to make and write the masks\n",
    "for structure_id in mask_generator:\n",
    "    print( 'made mask for structure {0}.'.format(structure_id) ) \n",
    "\n",
    "os.listdir(annotation_dir)"
   ]
  },
  {
   "cell_type": "markdown",
   "id": "644b11ad",
   "metadata": {
    "papermill": {
     "duration": 0.006865,
     "end_time": "2023-02-08T10:23:23.561229",
     "exception": false,
     "start_time": "2023-02-08T10:23:23.554364",
     "status": "completed"
    },
    "tags": []
   },
   "source": [
    "#### Removing unassigned structures"
   ]
  },
  {
   "cell_type": "markdown",
   "id": "494db219",
   "metadata": {
    "papermill": {
     "duration": 0.006719,
     "end_time": "2023-02-08T10:23:23.574879",
     "exception": false,
     "start_time": "2023-02-08T10:23:23.568160",
     "status": "completed"
    },
    "tags": []
   },
   "source": [
    "A structure graph may contain structures that are not used in a particular reference space. Having these around can complicate use of the reference space, so we generally want to remove them.\n",
    "\n",
    "We'll try this using \"Somatosensory areas, layer 6a\" as a test case. In the 2016 ccf space, this structure is unused in favor of finer distinctions (e.g. \"Primary somatosensory area, barrel field, layer 6a\")."
   ]
  },
  {
   "cell_type": "code",
   "execution_count": 15,
   "id": "74718542",
   "metadata": {
    "execution": {
     "iopub.execute_input": "2023-02-08T10:23:23.590085Z",
     "iopub.status.busy": "2023-02-08T10:23:23.589559Z",
     "iopub.status.idle": "2023-02-08T10:23:23.615787Z",
     "shell.execute_reply": "2023-02-08T10:23:23.615204Z"
    },
    "papermill": {
     "duration": 0.035634,
     "end_time": "2023-02-08T10:23:23.617370",
     "exception": false,
     "start_time": "2023-02-08T10:23:23.581736",
     "status": "completed"
    },
    "tags": []
   },
   "outputs": [
    {
     "name": "stdout",
     "output_type": "stream",
     "text": [
      "voxel count for structure 12997: 0\n"
     ]
    },
    {
     "data": {
      "text/plain": [
       "False"
      ]
     },
     "execution_count": 15,
     "metadata": {},
     "output_type": "execute_result"
    }
   ],
   "source": [
    "# Double-check the voxel counts\n",
    "no_voxel_id = rsp.structure_tree.get_structures_by_name(['Somatosensory areas, layer 6a'])[0]['id']\n",
    "print( 'voxel count for structure {0}: {1}'.format(no_voxel_id, rsp.total_voxel_map[no_voxel_id]) )\n",
    "\n",
    "# remove unassigned structures from the ReferenceSpace's StructureTree\n",
    "rsp.remove_unassigned()\n",
    "\n",
    "# check the structure tree\n",
    "no_voxel_id in rsp.structure_tree.node_ids()"
   ]
  },
  {
   "cell_type": "markdown",
   "id": "07992a5f",
   "metadata": {
    "papermill": {
     "duration": 0.006827,
     "end_time": "2023-02-08T10:23:23.631156",
     "exception": false,
     "start_time": "2023-02-08T10:23:23.624329",
     "status": "completed"
    },
    "tags": []
   },
   "source": [
    "#### View a slice from the annotation"
   ]
  },
  {
   "cell_type": "code",
   "execution_count": 16,
   "id": "b3a70427",
   "metadata": {
    "execution": {
     "iopub.execute_input": "2023-02-08T10:23:23.646585Z",
     "iopub.status.busy": "2023-02-08T10:23:23.645867Z",
     "iopub.status.idle": "2023-02-08T10:23:24.258769Z",
     "shell.execute_reply": "2023-02-08T10:23:24.258128Z"
    },
    "papermill": {
     "duration": 0.622274,
     "end_time": "2023-02-08T10:23:24.260522",
     "exception": false,
     "start_time": "2023-02-08T10:23:23.638248",
     "status": "completed"
    },
    "tags": []
   },
   "outputs": [
    {
     "data": {
      "text/plain": [
       "<matplotlib.image.AxesImage at 0x7f13f77c9730>"
      ]
     },
     "execution_count": 16,
     "metadata": {},
     "output_type": "execute_result"
    },
    {
     "data": {
      "image/png": "[encoded data removed]",
      "text/plain": [
       "<Figure size 1000x1000 with 1 Axes>"
      ]
     },
     "metadata": {},
     "output_type": "display_data"
    }
   ],
   "source": [
    "import numpy as np\n",
    "\n",
    "fig, ax = plt.subplots(figsize=(10, 10))\n",
    "plt.imshow(rsp.get_slice_image(1, 5000), interpolation='none')"
   ]
  },
  {
   "cell_type": "markdown",
   "id": "db9710f9",
   "metadata": {
    "papermill": {
     "duration": 0.007621,
     "end_time": "2023-02-08T10:23:24.276328",
     "exception": false,
     "start_time": "2023-02-08T10:23:24.268707",
     "status": "completed"
    },
    "tags": []
   },
   "source": [
    "#### Downsample the space\n",
    "\n",
    "If you want an annotation at a resolution we don't provide, you can make one with the downsample method."
   ]
  },
  {
   "cell_type": "code",
   "execution_count": 17,
   "id": "a080d4ad",
   "metadata": {
    "execution": {
     "iopub.execute_input": "2023-02-08T10:23:24.292861Z",
     "iopub.status.busy": "2023-02-08T10:23:24.292465Z",
     "iopub.status.idle": "2023-02-08T10:23:24.339968Z",
     "shell.execute_reply": "2023-02-08T10:23:24.339240Z"
    },
    "papermill": {
     "duration": 0.057648,
     "end_time": "2023-02-08T10:23:24.341635",
     "exception": false,
     "start_time": "2023-02-08T10:23:24.283987",
     "status": "completed"
    },
    "tags": []
   },
   "outputs": [
    {
     "name": "stdout",
     "output_type": "stream",
     "text": [
      "(528, 320, 456)\n",
      "(176, 107, 152)\n"
     ]
    }
   ],
   "source": [
    "import warnings\n",
    "\n",
    "target_resolution = [75, 75, 75]\n",
    "\n",
    "# in some versions of scipy, scipy.ndimage.zoom raises a helpful but distracting \n",
    "# warning about the method used to truncate integers. \n",
    "warnings.simplefilter('ignore')\n",
    "\n",
    "sf_rsp = rsp.downsample(target_resolution)\n",
    "\n",
    "# re-enable warnings\n",
    "warnings.simplefilter('default')\n",
    "\n",
    "print( rsp.annotation.shape )\n",
    "print( sf_rsp.annotation.shape )"
   ]
  },
  {
   "cell_type": "markdown",
   "id": "f88637d9",
   "metadata": {
    "papermill": {
     "duration": 0.007604,
     "end_time": "2023-02-08T10:23:24.357112",
     "exception": false,
     "start_time": "2023-02-08T10:23:24.349508",
     "status": "completed"
    },
    "tags": []
   },
   "source": [
    "Now view the downsampled space:"
   ]
  },
  {
   "cell_type": "code",
   "execution_count": 18,
   "id": "1b262a4c",
   "metadata": {
    "execution": {
     "iopub.execute_input": "2023-02-08T10:23:24.373471Z",
     "iopub.status.busy": "2023-02-08T10:23:24.373232Z",
     "iopub.status.idle": "2023-02-08T10:23:24.565374Z",
     "shell.execute_reply": "2023-02-08T10:23:24.564719Z"
    },
    "papermill": {
     "duration": 0.202393,
     "end_time": "2023-02-08T10:23:24.567145",
     "exception": false,
     "start_time": "2023-02-08T10:23:24.364752",
     "status": "completed"
    },
    "tags": []
   },
   "outputs": [
    {
     "data": {
      "text/plain": [
       "<matplotlib.image.AxesImage at 0x7f1428fe5040>"
      ]
     },
     "execution_count": 18,
     "metadata": {},
     "output_type": "execute_result"
    },
    {
     "data": {
      "image/png": "[encoded data removed]",
      "text/plain": [
       "<Figure size 1000x1000 with 1 Axes>"
      ]
     },
     "metadata": {},
     "output_type": "display_data"
    }
   ],
   "source": [
    "fig, ax = plt.subplots(figsize=(10, 10))\n",
    "plt.imshow(sf_rsp.get_slice_image(1, 5000), interpolation='none')"
   ]
  },
  {
   "cell_type": "markdown",
   "id": "4b27be9e",
   "metadata": {
    "papermill": {
     "duration": 0.008203,
     "end_time": "2023-02-08T10:23:24.584031",
     "exception": false,
     "start_time": "2023-02-08T10:23:24.575828",
     "status": "completed"
    },
    "tags": []
   },
   "source": [
    "## Exporting\n",
    "\n",
    "if you want to work with our reference space data using tools made by vendors other than the Allen Institute for Brain Science, you may need to do some conversion work. The AllenSDK contains a few convenience functions which implement common conversions. If you don't see the one you need, mention it on [our issues page](https://github.com/alleninstitute/allensdk/issues)."
   ]
  },
  {
   "cell_type": "markdown",
   "id": "f911d807",
   "metadata": {
    "papermill": {
     "duration": 0.008047,
     "end_time": "2023-02-08T10:23:24.600292",
     "exception": false,
     "start_time": "2023-02-08T10:23:24.592245",
     "status": "completed"
    },
    "tags": []
   },
   "source": [
    "#### ITKSnap\n",
    "\n",
    "[ITKSnap](http://www.itksnap.org/pmwiki/pmwiki.php) is a tool for viewing and segmenting biological volume data. Our annotation team uses it to draw CCF annotations. If you have data aligned to one of our reference spaces, you can use the AllenSDK to export an ITKSnap compatible segmentation volume and corresponding label description file.\n",
    "\n",
    "Note: our structure ids are 32-bit unsigned integers and may exceed ITKSnap's maximum allowable label value (65535). If any of the ids in a structure tree do exceed this value, the `write_itksnap_labels` method will automatically remap the ids to a set of smaller numbers."
   ]
  },
  {
   "cell_type": "code",
   "execution_count": 19,
   "id": "ac4f7819",
   "metadata": {
    "execution": {
     "iopub.execute_input": "2023-02-08T10:23:24.618169Z",
     "iopub.status.busy": "2023-02-08T10:23:24.617530Z",
     "iopub.status.idle": "2023-02-08T10:23:25.127776Z",
     "shell.execute_reply": "2023-02-08T10:23:25.127113Z"
    },
    "papermill": {
     "duration": 0.521162,
     "end_time": "2023-02-08T10:23:25.129625",
     "exception": false,
     "start_time": "2023-02-08T10:23:24.608463",
     "status": "completed"
    },
    "tags": []
   },
   "outputs": [],
   "source": [
    "# using the downsampled annotations\n",
    "hm_rsp = rsp.downsample([100, 100, 100])\n",
    "hm_rsp.write_itksnap_labels('ccf_2017_itksnap.nrrd', 'ccf_2017_itksnap_labels.txt')"
   ]
  },
  {
   "cell_type": "code",
   "execution_count": null,
   "id": "5b6f8c6d",
   "metadata": {
    "papermill": {
     "duration": 0.008466,
     "end_time": "2023-02-08T10:23:25.146720",
     "exception": false,
     "start_time": "2023-02-08T10:23:25.138254",
     "status": "completed"
    },
    "tags": []
   },
   "outputs": [],
   "source": []
  }
 ],
 "metadata": {
  "celltoolbar": "Tags",
  "kernelspec": {
   "display_name": "Python 3",
   "language": "python",
   "name": "python3"
  },
  "language_info": {
   "codemirror_mode": {
    "name": "ipython",
    "version": 3
   },
   "file_extension": ".py",
   "mimetype": "text/x-python",
   "name": "python",
   "nbconvert_exporter": "python",
   "pygments_lexer": "ipython3",
   "version": "3.8.16"
  },
  "papermill": {
   "default_parameters": {},
   "duration": 42.307735,
   "end_time": "2023-02-08T10:23:25.472298",
   "environment_variables": {},
   "exception": null,
   "input_path": "doc_template/examples_root/examples/nb/reference_space.ipynb",
   "output_path": "/tmp/tmp1oosppsy/scratch_nb.ipynb",
   "parameters": {
    "output_dir": "/tmp/tmp1oosppsy",
    "resources_dir": "/home/runner/work/AllenSDK/AllenSDK/allensdk/internal/notebooks/resources"
   },
   "start_time": "2023-02-08T10:22:43.164563",
   "version": "2.4.0"
  }
 },
 "nbformat": 4,
 "nbformat_minor": 5
}
