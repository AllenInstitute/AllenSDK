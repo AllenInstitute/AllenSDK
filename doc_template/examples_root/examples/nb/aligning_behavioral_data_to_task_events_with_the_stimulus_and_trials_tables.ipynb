{
 "cells": [
  {
   "cell_type": "markdown",
   "metadata": {},
   "source": [
    "# Aligning behavioral data to task events with the stimulus and trials tables\n",
    "This notebook outlines the stimulus presentations table and the trials table and shows how you can use them to align behavioral data like running, licking and pupil info to task events. Please note that the VBN project used the same detection of change task as the Visual Behavior 2-Photon dataset. Users are encouraged to explore the [documentation](http://portal.brain-map.org/explore/circuits/visual-behavior-2p) and [example notebooks](https://allensdk.readthedocs.io/en/latest/visual_behavior_optical_physiology.html) for that project for additional context.\n",
    "\n",
    "Contents\n",
    "-------------\n",
    "* <a href='#Introduction-to-the-stimulus-presentations-table'>Introduction to the stimulus presentations table</a>\n",
    "* <a href='#Introduction-to-the-behavior-trials-table'>Introduction to the behavior trials table</a>\n",
    "* <a href='#Calculating-response-latency'>Calculating response latency</a>\n",
    "* <a href='#Aligning-Running,-Licking-and-Pupil-data-to-task-events'>Aligning Running, Licking and Pupil Data to task events</a>"
   ]
  },
  {
   "cell_type": "markdown",
   "metadata": {},
   "source": [
    "#### Import the cache"
   ]
  },
  {
   "cell_type": "code",
   "execution_count": 1,
   "metadata": {},
   "outputs": [
    {
     "name": "stderr",
     "output_type": "stream",
     "text": [
      "C:\\Users\\svc_ccg\\AppData\\Local\\Continuum\\anaconda3\\envs\\allensdk_38\\lib\\site-packages\\tqdm\\auto.py:22: TqdmWarning: IProgress not found. Please update jupyter and ipywidgets. See https://ipywidgets.readthedocs.io/en/stable/user_install.html\n",
      "  from .autonotebook import tqdm as notebook_tqdm\n"
     ]
    }
   ],
   "source": [
    "import os\n",
    "from pathlib import Path\n",
    "import numpy as np\n",
    "import pandas as pd\n",
    "import matplotlib.pyplot as plt\n",
    "\n",
    "from allensdk.brain_observatory.behavior.behavior_project_cache.\\\n",
    "    behavior_neuropixels_project_cache \\\n",
    "    import VisualBehaviorNeuropixelsProjectCache"
   ]
  },
  {
   "cell_type": "markdown",
   "metadata": {},
   "source": [
    "#### Get the sessions table"
   ]
  },
  {
   "cell_type": "code",
   "execution_count": 2,
   "metadata": {},
   "outputs": [],
   "source": [
    "# Update this to a valid directory in your filesystem. This is where the data will be stored.\n",
    "cache_dir = Path(\"/path/to/vbn_cache\")\n",
    "\n",
    "cache = VisualBehaviorNeuropixelsProjectCache.from_s3_cache(\n",
    "            cache_dir=cache_dir)\n",
    "\n",
    "ecephys_sessions_table = cache.get_ecephys_session_table()"
   ]
  },
  {
   "cell_type": "markdown",
   "metadata": {},
   "source": [
    "## Introduction to the stimulus presentations table"
   ]
  },
  {
   "cell_type": "markdown",
   "metadata": {},
   "source": [
    "Every recording session consisted of three major visual stimulus epochs in the following order (diagrammed below):\n",
    "- An active behavior session during which the mouse performed the change detection task\n",
    "- Receptive field mapping and full-field flash stimuli\n",
    "- 'Passive' replay of stimulus shown during active behavior, but without the lickspout so the mouse can no longer respond."
   ]
  },
  {
   "cell_type": "markdown",
   "metadata": {},
   "source": [
    "<div>\n",
    "<img src=\"https://brainmapportal-live-4cc80a57cd6e400d854-f7fdcae.divio-media.net/filer_public_thumbnails/filer_public/65/58/6558f0eb-c3c5-45e6-b645-b2e432200804/active_passive_diagram.png__710x291_q90_subsampling-2.png\", width=\"700\"/>\n",
    "</div>"
   ]
  },
  {
   "cell_type": "markdown",
   "metadata": {},
   "source": [
    "Let's grab a random session and look at the stimulus presentations dataframe to see how these epochs are labeled."
   ]
  },
  {
   "cell_type": "code",
   "execution_count": 3,
   "metadata": {},
   "outputs": [
    {
     "name": "stderr",
     "output_type": "stream",
     "text": [
      "C:\\Users\\svc_ccg\\AppData\\Local\\Continuum\\anaconda3\\envs\\allensdk_38\\lib\\site-packages\\hdmf\\utils.py:577: FutureWarning: DynamicTable.__init__: Using positional arguments for this method is discouraged and will be deprecated in a future major release. Please use keyword arguments to ensure future compatibility.\n",
      "  warnings.warn(msg, FutureWarning)\n"
     ]
    }
   ],
   "source": [
    "session = cache.get_ecephys_session(\n",
    "           ecephys_session_id=1065437523)"
   ]
  },
  {
   "cell_type": "code",
   "execution_count": 4,
   "metadata": {},
   "outputs": [
    {
     "data": {
      "text/plain": [
       "Index(['active', 'color', 'contrast', 'duration', 'end_frame',\n",
       "       'flashes_since_change', 'image_name', 'is_change', 'omitted',\n",
       "       'orientation', 'position_x', 'position_y', 'rewarded',\n",
       "       'spatial_frequency', 'start_frame', 'start_time', 'stimulus_block',\n",
       "       'stimulus_index', 'stimulus_name', 'stop_time', 'temporal_frequency'],\n",
       "      dtype='object')"
      ]
     },
     "execution_count": 4,
     "metadata": {},
     "output_type": "execute_result"
    }
   ],
   "source": [
    "stimulus_presentations = session.stimulus_presentations\n",
    "stimulus_presentations.columns"
   ]
  },
  {
   "cell_type": "markdown",
   "metadata": {},
   "source": [
    "This table is a record of every stimulus we presented to the mouse over the course of this experiment. The different stimuli are indexed by the 'stimulus_block' column. Let's group this dataframe by stimulus block and see what stimulus was shown for each block."
   ]
  },
  {
   "cell_type": "code",
   "execution_count": 5,
   "metadata": {},
   "outputs": [
    {
     "data": {
      "text/html": [
       "<div>\n",
       "<style scoped>\n",
       "    .dataframe tbody tr th:only-of-type {\n",
       "        vertical-align: middle;\n",
       "    }\n",
       "\n",
       "    .dataframe tbody tr th {\n",
       "        vertical-align: top;\n",
       "    }\n",
       "\n",
       "    .dataframe thead th {\n",
       "        text-align: right;\n",
       "    }\n",
       "</style>\n",
       "<table border=\"1\" class=\"dataframe\">\n",
       "  <thead>\n",
       "    <tr style=\"text-align: right;\">\n",
       "      <th></th>\n",
       "      <th>stimulus_block</th>\n",
       "      <th>stimulus_name</th>\n",
       "      <th>active</th>\n",
       "      <th>duration</th>\n",
       "      <th>start_time</th>\n",
       "    </tr>\n",
       "    <tr>\n",
       "      <th>stimulus_presentations_id</th>\n",
       "      <th></th>\n",
       "      <th></th>\n",
       "      <th></th>\n",
       "      <th></th>\n",
       "      <th></th>\n",
       "    </tr>\n",
       "  </thead>\n",
       "  <tbody>\n",
       "    <tr>\n",
       "      <th>0</th>\n",
       "      <td>0</td>\n",
       "      <td>Natural_Images_Lum_Matched_set_ophys_G_2019</td>\n",
       "      <td>True</td>\n",
       "      <td>0.250188</td>\n",
       "      <td>28.131464</td>\n",
       "    </tr>\n",
       "    <tr>\n",
       "      <th>4797</th>\n",
       "      <td>1</td>\n",
       "      <td>spontaneous</td>\n",
       "      <td>False</td>\n",
       "      <td>10.008420</td>\n",
       "      <td>3648.207579</td>\n",
       "    </tr>\n",
       "    <tr>\n",
       "      <th>4798</th>\n",
       "      <td>2</td>\n",
       "      <td>gabor_20_deg_250ms</td>\n",
       "      <td>False</td>\n",
       "      <td>0.250208</td>\n",
       "      <td>3658.215999</td>\n",
       "    </tr>\n",
       "    <tr>\n",
       "      <th>8443</th>\n",
       "      <td>3</td>\n",
       "      <td>spontaneous</td>\n",
       "      <td>False</td>\n",
       "      <td>288.992998</td>\n",
       "      <td>4570.232761</td>\n",
       "    </tr>\n",
       "    <tr>\n",
       "      <th>8444</th>\n",
       "      <td>4</td>\n",
       "      <td>flash_250ms</td>\n",
       "      <td>False</td>\n",
       "      <td>0.250201</td>\n",
       "      <td>4859.225759</td>\n",
       "    </tr>\n",
       "    <tr>\n",
       "      <th>8594</th>\n",
       "      <td>5</td>\n",
       "      <td>Natural_Images_Lum_Matched_set_ophys_G_2019</td>\n",
       "      <td>False</td>\n",
       "      <td>0.250213</td>\n",
       "      <td>5183.198085</td>\n",
       "    </tr>\n",
       "  </tbody>\n",
       "</table>\n",
       "</div>"
      ],
      "text/plain": [
       "                           stimulus_block  \\\n",
       "stimulus_presentations_id                   \n",
       "0                                       0   \n",
       "4797                                    1   \n",
       "4798                                    2   \n",
       "8443                                    3   \n",
       "8444                                    4   \n",
       "8594                                    5   \n",
       "\n",
       "                                                         stimulus_name  \\\n",
       "stimulus_presentations_id                                                \n",
       "0                          Natural_Images_Lum_Matched_set_ophys_G_2019   \n",
       "4797                                                       spontaneous   \n",
       "4798                                                gabor_20_deg_250ms   \n",
       "8443                                                       spontaneous   \n",
       "8444                                                       flash_250ms   \n",
       "8594                       Natural_Images_Lum_Matched_set_ophys_G_2019   \n",
       "\n",
       "                           active    duration   start_time  \n",
       "stimulus_presentations_id                                   \n",
       "0                            True    0.250188    28.131464  \n",
       "4797                        False   10.008420  3648.207579  \n",
       "4798                        False    0.250208  3658.215999  \n",
       "8443                        False  288.992998  4570.232761  \n",
       "8444                        False    0.250201  4859.225759  \n",
       "8594                        False    0.250213  5183.198085  "
      ]
     },
     "execution_count": 5,
     "metadata": {},
     "output_type": "execute_result"
    }
   ],
   "source": [
    "stimulus_presentations.groupby('stimulus_block')[['stimulus_block', \n",
    "                                                'stimulus_name', \n",
    "                                                'active', \n",
    "                                                'duration', \n",
    "                                                'start_time']].head(1)"
   ]
  },
  {
   "cell_type": "markdown",
   "metadata": {},
   "source": [
    "This shows us the structure of this experiment (and every experiment in this dataset). There are 5 stimuli as follows:\n",
    "\n",
    "**block 0**: Change detection task. Natural images are flashed repeatedly and the mouse is rewarded for licking when the identity of the image changes. You can find more info about this task [here](http://portal.brain-map.org/explore/circuits/visual-behavior-neuropixels?edit&language=en). Also see [here](https://www.frontiersin.org/articles/10.3389/fnbeh.2020.00104/full) for info about our general training strategy.\n",
    "\n",
    "**block 1**: Brief gray screen\n",
    "\n",
    "**block 2**: Receptive field mapping. Gabor stimuli used for receptive field mapping. For more details on this stimulus consult [this notebook](https://allensdk.readthedocs.io/en/latest/_static/examples/nb/ecephys_receptive_fields.html).\n",
    "\n",
    "**block 3**: Longer gray screen\n",
    "\n",
    "**block 4**: Full-field flashes, shown at 80% contrast. Flashes can be black (color = -1) or white (color = 1).\n",
    "\n",
    "**block 5**: Passive replay. Frame-for-frame replay of the stimulus shown during the change detection task (block 0), but now with the lick spout retracted so the animal can no longer engage in the task."
   ]
  },
  {
   "cell_type": "markdown",
   "metadata": {},
   "source": [
    "Here's a quick explanation for each of the columns in this table:\n",
    "\n",
    "#### General\n",
    "\n",
    "`active`: Boolean indicating when the change detection task (with the lick spout available to the mouse) was run. This should only be TRUE for block 0.\n",
    "\n",
    "`stimulus_block`: Index of stimulus as described in cells above.\n",
    "\n",
    "`stimulus_name`: Indicates the stimulus category for this stimulus presentation. \n",
    "\n",
    "`contrast`: Stimulus contrast as defined [here](https://www.psychopy.org/api/visual/gratingstim.html#psychopy.visual.GratingStim.contrast)\n",
    "\n",
    "`duration`: Duration of stimulus in seconds\n",
    "\n",
    "`start_time`: Experiment time when stimulus started. This value is corrected for display lag and therefore indicates when the stimulus actually appeared on the screen.\n",
    "\n",
    "`stop_time`: Experiment time when stimulus ended, also corrected for display lag.\n",
    "\n",
    "`start_frame`: Stimulus frame index when this stimulus started. This can be used to sync this table to the behavior trials table, for which behavioral data is collected every frame.\n",
    "\n",
    "`end_frame`: Stimulus frame index when this stimulus ended.\n",
    "\n",
    "#### Change detection task and Passive replay (blocks 0 and 5)\n",
    "\n",
    "`flashes_since_change`: Indicates how many flashes of the same image have occurred since the last stimulus change.\n",
    "\n",
    "`image_name`: Indicates which natural image was flashed for this stimulus presentation. To see how to visualize this image, check out [this tutorial](https://allensdk.readthedocs.io/en/latest/_static/examples/nb/visual_behavior_neuropixels_data_access.html).\n",
    "\n",
    "`is_change`: Indicates whether the image identity changed for this stimulus presentation. When both this value and 'active' are TRUE, the mouse was rewarded for licking within the response window.\n",
    "\n",
    "`omitted`: Indicates whether the image presentation was omitted for this flash. Most image flashes had a 5% probability of being omitted (producing a gray screen). Flashes immediately preceding a change or immediately following an omission could not be omitted.\n",
    "\n",
    "`rewarded`: Indicates whether a reward was given after this image presentation. During the passive replay block (5), this value indicates that a reward was issued for the corresponding image presentation during the active behavior block (0). No rewards were given during passive replay.\n",
    "\n",
    "#### Receptive field mapping gabor stimulus (block 2)\n",
    "\n",
    "`orientation`: Orientation of gabor. \n",
    "\n",
    "`position_x`: Position of the gabor along azimuth. The units are in degrees relative to the center of the screen (negative values are nasal).\n",
    "\n",
    "`position_y`: Position of the gabor along elevation. Negative values are lower elevation.\n",
    "\n",
    "`spatial_frequency`: Spatial frequency of gabor in cycles per degree.\n",
    "\n",
    "`temporal_frequency`: Temporal frequency of gabor in Hz.\n",
    "\n",
    "#### Full field flashes (block 4)\n",
    "\n",
    "`color`: Color of the full-field flash stimuli. \"1\" is white and \"-1\" is black.\n"
   ]
  },
  {
   "cell_type": "markdown",
   "metadata": {},
   "source": [
    "Let's confirm that the active behavior block (0) and the passive replay block (5) match frame for frame:"
   ]
  },
  {
   "cell_type": "code",
   "execution_count": 6,
   "metadata": {},
   "outputs": [
    {
     "data": {
      "text/plain": [
       "True"
      ]
     },
     "execution_count": 6,
     "metadata": {},
     "output_type": "execute_result"
    }
   ],
   "source": [
    "active_image_presentations = stimulus_presentations[stimulus_presentations['stimulus_block']==0]\n",
    "passive_image_presentations = stimulus_presentations[stimulus_presentations['stimulus_block']==5]\n",
    "np.all(active_image_presentations['image_name'].values == passive_image_presentations['image_name'].values )"
   ]
  },
  {
   "cell_type": "markdown",
   "metadata": {},
   "source": [
    "Taking block 0 as an example, let's look at the timing of the stimuli. As a reminder, each flash was presented for 250 ms with 500 ms interflash intervals. In addition, flashes were occasionally omitted to investigate expectation signals:"
   ]
  },
  {
   "cell_type": "markdown",
   "metadata": {},
   "source": [
    "<div>\n",
    "<img src=\"https://brainmapportal-live-4cc80a57cd6e400d854-f7fdcae.divio-media.net/filer_public_thumbnails/filer_public/e7/de/e7de5da4-a19f-4ef6-9bc3-3a5b088048ac/task_diagram.png__2320x419_q90_subsampling-2.png\", width=\"900\"/>\n",
    "</div>"
   ]
  },
  {
   "cell_type": "markdown",
   "metadata": {},
   "source": [
    "Now let's check the timing of our flashes and see how it compares to our intended timing:"
   ]
  },
  {
   "cell_type": "code",
   "execution_count": 8,
   "metadata": {},
   "outputs": [
    {
     "data": {
      "text/plain": [
       "[<matplotlib.axis.XTick at 0x1d5de907c10>,\n",
       " <matplotlib.axis.XTick at 0x1d5de907be0>,\n",
       " <matplotlib.axis.XTick at 0x1d5de907310>,\n",
       " <matplotlib.axis.XTick at 0x1d5943f62b0>]"
      ]
     },
     "execution_count": 8,
     "metadata": {},
     "output_type": "execute_result"
    },
    {
     "data": {
      "image/png": "[encoded data removed]",
      "text/plain": [
       "<Figure size 720x288 with 2 Axes>"
      ]
     },
     "metadata": {
      "needs_background": "light"
     },
     "output_type": "display_data"
    }
   ],
   "source": [
    "#get the active behavior part of the stim table\n",
    "active_behavior = stimulus_presentations[stimulus_presentations['active']==True]\n",
    "\n",
    "#for now, let's leave out the omitted stimuli\n",
    "active_behavior_no_omissions = active_behavior[active_behavior['omitted']==False]\n",
    "\n",
    "#plot histogram of the stimulus durations\n",
    "fig, axes = plt.subplots(1, 2)\n",
    "fig.set_size_inches([10,4])\n",
    "_ =  axes[0].hist(active_behavior_no_omissions.duration, 50)\n",
    "axes[0].set_xlabel('Flash Duration (s)')\n",
    "axes[0].set_ylabel('Count')\n",
    "\n",
    "inter_flash = active_behavior_no_omissions['start_time'].diff()\n",
    "_ = axes[1].hist(inter_flash, np.arange(0.7, 1.6, 0.05))\n",
    "axes[1].set_xlabel('Inter-flash interval (s)')\n",
    "axes[1].set_xticks(np.arange(0.75, 1.6, 0.25))"
   ]
  },
  {
   "cell_type": "markdown",
   "metadata": {},
   "source": [
    "Looks like the flash duration and interflash intervals are generally what we expect. Note though that a number of inter-flash intervals are twice as long as expected (1.5 s). This is because a small percentage of flashes are omitted. The chance of omitting a flash is nominally 5%, but we've also added two extra criteria:\n",
    "\n",
    "- two omissions can't happen in a row\n",
    "- an omission can't directly precede the change\n",
    "\n",
    "This makes the actual chances of an omission a bit less than 5%:"
   ]
  },
  {
   "cell_type": "code",
   "execution_count": 9,
   "metadata": {},
   "outputs": [
    {
     "data": {
      "text/plain": [
       "0.03418803418803419"
      ]
     },
     "execution_count": 9,
     "metadata": {},
     "output_type": "execute_result"
    }
   ],
   "source": [
    "#look at the percentage of flashes that were omissions\n",
    "np.sum(active_behavior.omitted)/len(active_behavior)"
   ]
  },
  {
   "cell_type": "markdown",
   "metadata": {},
   "source": [
    "## Introduction to the behavior trials table"
   ]
  },
  {
   "cell_type": "markdown",
   "metadata": {},
   "source": [
    "Now let's explore the behavior trials table. This table contains lots of useful information about every trial in the change detection task."
   ]
  },
  {
   "cell_type": "code",
   "execution_count": 22,
   "metadata": {
    "scrolled": true
   },
   "outputs": [
    {
     "data": {
      "text/html": [
       "<div>\n",
       "<style scoped>\n",
       "    .dataframe tbody tr th:only-of-type {\n",
       "        vertical-align: middle;\n",
       "    }\n",
       "\n",
       "    .dataframe tbody tr th {\n",
       "        vertical-align: top;\n",
       "    }\n",
       "\n",
       "    .dataframe thead th {\n",
       "        text-align: right;\n",
       "    }\n",
       "</style>\n",
       "<table border=\"1\" class=\"dataframe\">\n",
       "  <thead>\n",
       "    <tr style=\"text-align: right;\">\n",
       "      <th></th>\n",
       "      <th>start_time</th>\n",
       "      <th>stop_time</th>\n",
       "      <th>initial_image_name</th>\n",
       "      <th>change_image_name</th>\n",
       "      <th>stimulus_change</th>\n",
       "      <th>change_time_no_display_delay</th>\n",
       "      <th>go</th>\n",
       "      <th>catch</th>\n",
       "      <th>lick_times</th>\n",
       "      <th>response_time</th>\n",
       "      <th>reward_time</th>\n",
       "      <th>reward_volume</th>\n",
       "      <th>hit</th>\n",
       "      <th>false_alarm</th>\n",
       "      <th>miss</th>\n",
       "      <th>correct_reject</th>\n",
       "      <th>aborted</th>\n",
       "      <th>auto_rewarded</th>\n",
       "      <th>change_frame</th>\n",
       "      <th>trial_length</th>\n",
       "    </tr>\n",
       "    <tr>\n",
       "      <th>trials_id</th>\n",
       "      <th></th>\n",
       "      <th></th>\n",
       "      <th></th>\n",
       "      <th></th>\n",
       "      <th></th>\n",
       "      <th></th>\n",
       "      <th></th>\n",
       "      <th></th>\n",
       "      <th></th>\n",
       "      <th></th>\n",
       "      <th></th>\n",
       "      <th></th>\n",
       "      <th></th>\n",
       "      <th></th>\n",
       "      <th></th>\n",
       "      <th></th>\n",
       "      <th></th>\n",
       "      <th></th>\n",
       "      <th></th>\n",
       "      <th></th>\n",
       "    </tr>\n",
       "  </thead>\n",
       "  <tbody>\n",
       "    <tr>\n",
       "      <th>0</th>\n",
       "      <td>28.08763</td>\n",
       "      <td>29.05453</td>\n",
       "      <td>im036_r</td>\n",
       "      <td>im036_r</td>\n",
       "      <td>False</td>\n",
       "      <td>NaN</td>\n",
       "      <td>False</td>\n",
       "      <td>False</td>\n",
       "      <td>[28.55387, 28.73684, 29.30404]</td>\n",
       "      <td>NaN</td>\n",
       "      <td>NaN</td>\n",
       "      <td>0.000</td>\n",
       "      <td>False</td>\n",
       "      <td>False</td>\n",
       "      <td>False</td>\n",
       "      <td>False</td>\n",
       "      <td>True</td>\n",
       "      <td>False</td>\n",
       "      <td>NaN</td>\n",
       "      <td>0.96690</td>\n",
       "    </tr>\n",
       "    <tr>\n",
       "      <th>1</th>\n",
       "      <td>29.58829</td>\n",
       "      <td>36.86108</td>\n",
       "      <td>im036_r</td>\n",
       "      <td>im078_r</td>\n",
       "      <td>True</td>\n",
       "      <td>32.59106</td>\n",
       "      <td>False</td>\n",
       "      <td>False</td>\n",
       "      <td>[33.04048, 33.20773, 33.30745, 33.3908, 33.507...</td>\n",
       "      <td>33.04048</td>\n",
       "      <td>32.74138</td>\n",
       "      <td>0.005</td>\n",
       "      <td>False</td>\n",
       "      <td>False</td>\n",
       "      <td>False</td>\n",
       "      <td>False</td>\n",
       "      <td>False</td>\n",
       "      <td>True</td>\n",
       "      <td>330.0</td>\n",
       "      <td>7.27279</td>\n",
       "    </tr>\n",
       "    <tr>\n",
       "      <th>2</th>\n",
       "      <td>37.09446</td>\n",
       "      <td>40.78107</td>\n",
       "      <td>im078_r</td>\n",
       "      <td>im078_r</td>\n",
       "      <td>False</td>\n",
       "      <td>NaN</td>\n",
       "      <td>False</td>\n",
       "      <td>False</td>\n",
       "      <td>[40.48052]</td>\n",
       "      <td>NaN</td>\n",
       "      <td>NaN</td>\n",
       "      <td>0.000</td>\n",
       "      <td>False</td>\n",
       "      <td>False</td>\n",
       "      <td>False</td>\n",
       "      <td>False</td>\n",
       "      <td>True</td>\n",
       "      <td>False</td>\n",
       "      <td>NaN</td>\n",
       "      <td>3.68661</td>\n",
       "    </tr>\n",
       "    <tr>\n",
       "      <th>3</th>\n",
       "      <td>40.84754</td>\n",
       "      <td>50.37230</td>\n",
       "      <td>im078_r</td>\n",
       "      <td>im111_r</td>\n",
       "      <td>True</td>\n",
       "      <td>46.10256</td>\n",
       "      <td>False</td>\n",
       "      <td>False</td>\n",
       "      <td>[46.73531, 46.83539, 46.95218, 47.06898, 47.20...</td>\n",
       "      <td>46.73531</td>\n",
       "      <td>46.25277</td>\n",
       "      <td>0.005</td>\n",
       "      <td>False</td>\n",
       "      <td>False</td>\n",
       "      <td>False</td>\n",
       "      <td>False</td>\n",
       "      <td>False</td>\n",
       "      <td>True</td>\n",
       "      <td>1140.0</td>\n",
       "      <td>9.52476</td>\n",
       "    </tr>\n",
       "    <tr>\n",
       "      <th>4</th>\n",
       "      <td>50.60569</td>\n",
       "      <td>51.75679</td>\n",
       "      <td>im111_r</td>\n",
       "      <td>im111_r</td>\n",
       "      <td>False</td>\n",
       "      <td>NaN</td>\n",
       "      <td>False</td>\n",
       "      <td>False</td>\n",
       "      <td>[51.43985]</td>\n",
       "      <td>NaN</td>\n",
       "      <td>NaN</td>\n",
       "      <td>0.000</td>\n",
       "      <td>False</td>\n",
       "      <td>False</td>\n",
       "      <td>False</td>\n",
       "      <td>False</td>\n",
       "      <td>True</td>\n",
       "      <td>False</td>\n",
       "      <td>NaN</td>\n",
       "      <td>1.15110</td>\n",
       "    </tr>\n",
       "  </tbody>\n",
       "</table>\n",
       "</div>"
      ],
      "text/plain": [
       "           start_time  stop_time initial_image_name change_image_name  \\\n",
       "trials_id                                                               \n",
       "0            28.08763   29.05453            im036_r           im036_r   \n",
       "1            29.58829   36.86108            im036_r           im078_r   \n",
       "2            37.09446   40.78107            im078_r           im078_r   \n",
       "3            40.84754   50.37230            im078_r           im111_r   \n",
       "4            50.60569   51.75679            im111_r           im111_r   \n",
       "\n",
       "           stimulus_change  change_time_no_display_delay     go  catch  \\\n",
       "trials_id                                                                \n",
       "0                    False                           NaN  False  False   \n",
       "1                     True                      32.59106  False  False   \n",
       "2                    False                           NaN  False  False   \n",
       "3                     True                      46.10256  False  False   \n",
       "4                    False                           NaN  False  False   \n",
       "\n",
       "                                                  lick_times  response_time  \\\n",
       "trials_id                                                                     \n",
       "0                             [28.55387, 28.73684, 29.30404]            NaN   \n",
       "1          [33.04048, 33.20773, 33.30745, 33.3908, 33.507...       33.04048   \n",
       "2                                                 [40.48052]            NaN   \n",
       "3          [46.73531, 46.83539, 46.95218, 47.06898, 47.20...       46.73531   \n",
       "4                                                 [51.43985]            NaN   \n",
       "\n",
       "           reward_time  reward_volume    hit  false_alarm   miss  \\\n",
       "trials_id                                                          \n",
       "0                  NaN          0.000  False        False  False   \n",
       "1             32.74138          0.005  False        False  False   \n",
       "2                  NaN          0.000  False        False  False   \n",
       "3             46.25277          0.005  False        False  False   \n",
       "4                  NaN          0.000  False        False  False   \n",
       "\n",
       "           correct_reject  aborted  auto_rewarded  change_frame  trial_length  \n",
       "trials_id                                                                      \n",
       "0                   False     True          False           NaN       0.96690  \n",
       "1                   False    False           True         330.0       7.27279  \n",
       "2                   False     True          False           NaN       3.68661  \n",
       "3                   False    False           True        1140.0       9.52476  \n",
       "4                   False     True          False           NaN       1.15110  "
      ]
     },
     "execution_count": 22,
     "metadata": {},
     "output_type": "execute_result"
    }
   ],
   "source": [
    "trials = session.trials\n",
    "trials.head()"
   ]
  },
  {
   "cell_type": "markdown",
   "metadata": {},
   "source": [
    "Unlike the stimulus presentations table in which every row corresponded to a visual stimulus presentation, for the behavior trials table every row corresponds to one trial of the change detection task. Here is a quick summary of the columns:\n",
    "\n",
    "`start_time`: Experiment time when this trial began in seconds.\n",
    "\n",
    "`stop_time`: Experiment time when this trial ended.\n",
    "\n",
    "`initial_image_name`: Indicates which image was shown before the change (or sham change) for this trial\n",
    "\n",
    "`change_image_name`: Indicates which image was scheduled to be the change image for this trial. Note that if the trial is aborted, a new trial will begin before this change occurs.\n",
    "\n",
    "`stimulus_change`: Indicates whether an image change occurred for this trial. \n",
    "\n",
    "`change_time_no_display_delay`: Experiment time when the task-control computer commanded an image change. This change time is used to determine the response window during which a lick will trigger a reward. Note that due to display lag, this is not the time when the change image actually appears on the screen. To get this time, you need the stimulus_presentations table (more about this below).\n",
    "\n",
    "`go`: Indicates whether this trial was a 'go' trial. To qualify as a go trial, an image change must occur and the trial cannot be autorewarded.\n",
    "\n",
    "`catch`: Indicates whether this trial was a 'catch' trial. To qualify as a catch trial, a 'sham' change must occur during which the image identity does not change. These sham changes are drawn to match the timing distribution of real changes and can be used to calculate the false alarm rate.\n",
    "\n",
    "`lick_times`: A list indicating when the behavioral control software recognized a lick. Note that this is not identical to the lick times from the licks dataframe, which record when the licks were registered by the lick sensor. The licks dataframe should generally be used for analysis of the licking behavior rather than these times.\n",
    "\n",
    "`response_time`: Indicates the time when the first lick was registered by the task control software for trials that were not aborted (go or catch). NaN for aborted trials. For a more accurate measure of response time, the licks dataframe should be used.\n",
    "\n",
    "`reward_time`: Indicates when the reward command was triggered for hit trials. NaN for other trial types. \n",
    "\n",
    "`reward_volume`: Indicates the volume of water dispensed as reward for this trial. \n",
    "\n",
    "`hit`: Indicates whether this trial was a 'hit' trial. To qualify as a hit, the trial must be a go trial during which the stimulus changed and the mouse licked within the reward window (150-750 ms after the change time).\n",
    "\n",
    "`false_alarm`: Indicates whether this trial was a 'false alarm' trial. To qualify as a false alarm, the trial must be a catch trial during which a sham change occurred and the mouse licked during the reward window.\n",
    "\n",
    "`miss`: To qualify as a miss trial, the trial must be a go trial during which the stimulus changed but the mouse did not lick within the response window.\n",
    "\n",
    "`correct_reject`: To qualify as a correct reject trial, the trial must be a catch trial during which a sham change occurred and the mouse withheld licking.\n",
    "\n",
    "`aborted`: A trial is aborted when the mouse licks before the scheduled change or sham change.\n",
    "\n",
    "`auto_rewarded`: During autorewarded trials, the reward is automatically triggered after the change regardless of whether the mouse licked within the response window. These always come at the beginning of the session to help engage the mouse in behavior.\n",
    "\n",
    "`change_frame`: Indicates the stimulus frame index when the change (on go trials) or sham change (on catch trials) occurred. This column can be used to link the trials table with the stimulus presentations table, as shown below.\n",
    "\n",
    "`trial_length`: Duration of the trial in seconds."
   ]
  },
  {
   "cell_type": "markdown",
   "metadata": {},
   "source": [
    "## Calculating response latency"
   ]
  },
  {
   "cell_type": "markdown",
   "metadata": {},
   "source": [
    "Let's combine info from both of these tables to calculate response latency for this session. Note that the change time in the trials table is not corrected for display lag. This is the time that the task control computer used to determine the response window. However, to calculate response latency, we want to use the display lag *corrected* change times from the stimulus presentations table. Below, we will grab these corrected times and add them to the trials table under the new column label `change_time_with_display_delay`."
   ]
  },
  {
   "cell_type": "code",
   "execution_count": 23,
   "metadata": {},
   "outputs": [],
   "source": [
    "def get_change_time_from_stim_table(row):\n",
    "    '''\n",
    "    Given a particular row in the trials table,\n",
    "    find the corresponding change time in the \n",
    "    stimulus presentations table\n",
    "    '''\n",
    "    table = stimulus_presentations\n",
    "    change_frame = row['change_frame']\n",
    "    if np.isnan(change_frame):\n",
    "        return np.nan\n",
    "    \n",
    "    change_time = table[table.start_frame==change_frame]\\\n",
    "                    ['start_time'].values[0]\n",
    "    \n",
    "    return change_time\n",
    "\n",
    "change_times = trials.apply(get_change_time_from_stim_table, axis=1)\n",
    "trials['change_time_with_display_delay'] = change_times"
   ]
  },
  {
   "cell_type": "markdown",
   "metadata": {},
   "source": [
    "Now we can use this new column to calculate the response latency on 'hit' trials. First, we'll need to get the lick times for this session:"
   ]
  },
  {
   "cell_type": "code",
   "execution_count": 24,
   "metadata": {},
   "outputs": [],
   "source": [
    "# get the licks table\n",
    "licks = session.licks"
   ]
  },
  {
   "cell_type": "markdown",
   "metadata": {},
   "source": [
    "Then we'll use these to get the response latency:"
   ]
  },
  {
   "cell_type": "code",
   "execution_count": 35,
   "metadata": {
    "scrolled": true
   },
   "outputs": [
    {
     "data": {
      "text/plain": [
       "Text(0, 0.5, 'Trial count')"
      ]
     },
     "execution_count": 35,
     "metadata": {},
     "output_type": "execute_result"
    },
    {
     "data": {
      "image/png": "[encoded data removed]",
      "text/plain": [
       "<Figure size 432x288 with 1 Axes>"
      ]
     },
     "metadata": {
      "needs_background": "light"
     },
     "output_type": "display_data"
    }
   ],
   "source": [
    "# filter for the hit trials\n",
    "hit_trials = trials[trials['hit']]\n",
    "\n",
    "# find the time of the first lick after each change\n",
    "lick_indices = np.searchsorted(licks.timestamps, hit_trials['change_time_with_display_delay'])\n",
    "first_lick_times = licks.timestamps.values[lick_indices]\n",
    "response_latencies = first_lick_times - hit_trials['change_time_with_display_delay']\n",
    "\n",
    "# plot the latencies\n",
    "fig, ax = plt.subplots()\n",
    "fig.suptitle('Response Latency Histogram for Hit trials')\n",
    "ax.hist(response_latencies, bins=np.linspace(-0.1, 0.8, 50))\n",
    "ax.set_xlabel('Time from change (s)')\n",
    "ax.set_ylabel('Trial count')"
   ]
  },
  {
   "cell_type": "markdown",
   "metadata": {},
   "source": [
    "## Aligning Running, Licking and Pupil data to task events"
   ]
  },
  {
   "cell_type": "markdown",
   "metadata": {},
   "source": [
    "Now let's grab the licking, running and pupil tracking data for this session and align it to the behavior."
   ]
  },
  {
   "cell_type": "code",
   "execution_count": 49,
   "metadata": {},
   "outputs": [],
   "source": [
    "eye_tracking = session.eye_tracking\n",
    "running_speed = session.running_speed\n",
    "licks = session.licks"
   ]
  },
  {
   "cell_type": "markdown",
   "metadata": {},
   "source": [
    "**Eye tracking dataframe**: One entry containing ellipse fit parameters for the eye, pupil and corneal reflection for every frame of the eye tracking video stream."
   ]
  },
  {
   "cell_type": "code",
   "execution_count": 50,
   "metadata": {},
   "outputs": [
    {
     "data": {
      "text/html": [
       "<div>\n",
       "<style scoped>\n",
       "    .dataframe tbody tr th:only-of-type {\n",
       "        vertical-align: middle;\n",
       "    }\n",
       "\n",
       "    .dataframe tbody tr th {\n",
       "        vertical-align: top;\n",
       "    }\n",
       "\n",
       "    .dataframe thead th {\n",
       "        text-align: right;\n",
       "    }\n",
       "</style>\n",
       "<table border=\"1\" class=\"dataframe\">\n",
       "  <thead>\n",
       "    <tr style=\"text-align: right;\">\n",
       "      <th></th>\n",
       "      <th>timestamps</th>\n",
       "      <th>cr_area</th>\n",
       "      <th>eye_area</th>\n",
       "      <th>pupil_area</th>\n",
       "      <th>likely_blink</th>\n",
       "      <th>pupil_area_raw</th>\n",
       "      <th>cr_area_raw</th>\n",
       "      <th>eye_area_raw</th>\n",
       "      <th>cr_center_x</th>\n",
       "      <th>cr_center_y</th>\n",
       "      <th>...</th>\n",
       "      <th>eye_center_x</th>\n",
       "      <th>eye_center_y</th>\n",
       "      <th>eye_width</th>\n",
       "      <th>eye_height</th>\n",
       "      <th>eye_phi</th>\n",
       "      <th>pupil_center_x</th>\n",
       "      <th>pupil_center_y</th>\n",
       "      <th>pupil_width</th>\n",
       "      <th>pupil_height</th>\n",
       "      <th>pupil_phi</th>\n",
       "    </tr>\n",
       "    <tr>\n",
       "      <th>frame</th>\n",
       "      <th></th>\n",
       "      <th></th>\n",
       "      <th></th>\n",
       "      <th></th>\n",
       "      <th></th>\n",
       "      <th></th>\n",
       "      <th></th>\n",
       "      <th></th>\n",
       "      <th></th>\n",
       "      <th></th>\n",
       "      <th></th>\n",
       "      <th></th>\n",
       "      <th></th>\n",
       "      <th></th>\n",
       "      <th></th>\n",
       "      <th></th>\n",
       "      <th></th>\n",
       "      <th></th>\n",
       "      <th></th>\n",
       "      <th></th>\n",
       "      <th></th>\n",
       "    </tr>\n",
       "  </thead>\n",
       "  <tbody>\n",
       "    <tr>\n",
       "      <th>0</th>\n",
       "      <td>1.98179</td>\n",
       "      <td>NaN</td>\n",
       "      <td>NaN</td>\n",
       "      <td>NaN</td>\n",
       "      <td>True</td>\n",
       "      <td>NaN</td>\n",
       "      <td>NaN</td>\n",
       "      <td>NaN</td>\n",
       "      <td>NaN</td>\n",
       "      <td>NaN</td>\n",
       "      <td>...</td>\n",
       "      <td>NaN</td>\n",
       "      <td>NaN</td>\n",
       "      <td>NaN</td>\n",
       "      <td>NaN</td>\n",
       "      <td>NaN</td>\n",
       "      <td>NaN</td>\n",
       "      <td>NaN</td>\n",
       "      <td>NaN</td>\n",
       "      <td>NaN</td>\n",
       "      <td>NaN</td>\n",
       "    </tr>\n",
       "    <tr>\n",
       "      <th>1</th>\n",
       "      <td>1.99846</td>\n",
       "      <td>NaN</td>\n",
       "      <td>NaN</td>\n",
       "      <td>NaN</td>\n",
       "      <td>True</td>\n",
       "      <td>NaN</td>\n",
       "      <td>NaN</td>\n",
       "      <td>NaN</td>\n",
       "      <td>NaN</td>\n",
       "      <td>NaN</td>\n",
       "      <td>...</td>\n",
       "      <td>NaN</td>\n",
       "      <td>NaN</td>\n",
       "      <td>NaN</td>\n",
       "      <td>NaN</td>\n",
       "      <td>NaN</td>\n",
       "      <td>NaN</td>\n",
       "      <td>NaN</td>\n",
       "      <td>NaN</td>\n",
       "      <td>NaN</td>\n",
       "      <td>NaN</td>\n",
       "    </tr>\n",
       "    <tr>\n",
       "      <th>2</th>\n",
       "      <td>2.01512</td>\n",
       "      <td>NaN</td>\n",
       "      <td>NaN</td>\n",
       "      <td>NaN</td>\n",
       "      <td>True</td>\n",
       "      <td>NaN</td>\n",
       "      <td>NaN</td>\n",
       "      <td>NaN</td>\n",
       "      <td>NaN</td>\n",
       "      <td>NaN</td>\n",
       "      <td>...</td>\n",
       "      <td>NaN</td>\n",
       "      <td>NaN</td>\n",
       "      <td>NaN</td>\n",
       "      <td>NaN</td>\n",
       "      <td>NaN</td>\n",
       "      <td>NaN</td>\n",
       "      <td>NaN</td>\n",
       "      <td>NaN</td>\n",
       "      <td>NaN</td>\n",
       "      <td>NaN</td>\n",
       "    </tr>\n",
       "    <tr>\n",
       "      <th>3</th>\n",
       "      <td>2.03179</td>\n",
       "      <td>NaN</td>\n",
       "      <td>NaN</td>\n",
       "      <td>NaN</td>\n",
       "      <td>True</td>\n",
       "      <td>NaN</td>\n",
       "      <td>NaN</td>\n",
       "      <td>NaN</td>\n",
       "      <td>NaN</td>\n",
       "      <td>NaN</td>\n",
       "      <td>...</td>\n",
       "      <td>NaN</td>\n",
       "      <td>NaN</td>\n",
       "      <td>NaN</td>\n",
       "      <td>NaN</td>\n",
       "      <td>NaN</td>\n",
       "      <td>NaN</td>\n",
       "      <td>NaN</td>\n",
       "      <td>NaN</td>\n",
       "      <td>NaN</td>\n",
       "      <td>NaN</td>\n",
       "    </tr>\n",
       "    <tr>\n",
       "      <th>4</th>\n",
       "      <td>2.04846</td>\n",
       "      <td>NaN</td>\n",
       "      <td>NaN</td>\n",
       "      <td>NaN</td>\n",
       "      <td>True</td>\n",
       "      <td>NaN</td>\n",
       "      <td>NaN</td>\n",
       "      <td>NaN</td>\n",
       "      <td>NaN</td>\n",
       "      <td>NaN</td>\n",
       "      <td>...</td>\n",
       "      <td>NaN</td>\n",
       "      <td>NaN</td>\n",
       "      <td>NaN</td>\n",
       "      <td>NaN</td>\n",
       "      <td>NaN</td>\n",
       "      <td>NaN</td>\n",
       "      <td>NaN</td>\n",
       "      <td>NaN</td>\n",
       "      <td>NaN</td>\n",
       "      <td>NaN</td>\n",
       "    </tr>\n",
       "  </tbody>\n",
       "</table>\n",
       "<p>5 rows × 23 columns</p>\n",
       "</div>"
      ],
      "text/plain": [
       "       timestamps  cr_area  eye_area  pupil_area  likely_blink  \\\n",
       "frame                                                            \n",
       "0         1.98179      NaN       NaN         NaN          True   \n",
       "1         1.99846      NaN       NaN         NaN          True   \n",
       "2         2.01512      NaN       NaN         NaN          True   \n",
       "3         2.03179      NaN       NaN         NaN          True   \n",
       "4         2.04846      NaN       NaN         NaN          True   \n",
       "\n",
       "       pupil_area_raw  cr_area_raw  eye_area_raw  cr_center_x  cr_center_y  \\\n",
       "frame                                                                        \n",
       "0                 NaN          NaN           NaN          NaN          NaN   \n",
       "1                 NaN          NaN           NaN          NaN          NaN   \n",
       "2                 NaN          NaN           NaN          NaN          NaN   \n",
       "3                 NaN          NaN           NaN          NaN          NaN   \n",
       "4                 NaN          NaN           NaN          NaN          NaN   \n",
       "\n",
       "       ...  eye_center_x  eye_center_y  eye_width  eye_height  eye_phi  \\\n",
       "frame  ...                                                               \n",
       "0      ...           NaN           NaN        NaN         NaN      NaN   \n",
       "1      ...           NaN           NaN        NaN         NaN      NaN   \n",
       "2      ...           NaN           NaN        NaN         NaN      NaN   \n",
       "3      ...           NaN           NaN        NaN         NaN      NaN   \n",
       "4      ...           NaN           NaN        NaN         NaN      NaN   \n",
       "\n",
       "       pupil_center_x  pupil_center_y  pupil_width  pupil_height  pupil_phi  \n",
       "frame                                                                        \n",
       "0                 NaN             NaN          NaN           NaN        NaN  \n",
       "1                 NaN             NaN          NaN           NaN        NaN  \n",
       "2                 NaN             NaN          NaN           NaN        NaN  \n",
       "3                 NaN             NaN          NaN           NaN        NaN  \n",
       "4                 NaN             NaN          NaN           NaN        NaN  \n",
       "\n",
       "[5 rows x 23 columns]"
      ]
     },
     "execution_count": 50,
     "metadata": {},
     "output_type": "execute_result"
    }
   ],
   "source": [
    "eye_tracking.head()"
   ]
  },
  {
   "cell_type": "markdown",
   "metadata": {},
   "source": [
    "There seem to be several rows for which there are no valid data. We can use the 'likely_blink' column to filter these out."
   ]
  },
  {
   "cell_type": "code",
   "execution_count": 51,
   "metadata": {},
   "outputs": [
    {
     "data": {
      "text/html": [
       "<div>\n",
       "<style scoped>\n",
       "    .dataframe tbody tr th:only-of-type {\n",
       "        vertical-align: middle;\n",
       "    }\n",
       "\n",
       "    .dataframe tbody tr th {\n",
       "        vertical-align: top;\n",
       "    }\n",
       "\n",
       "    .dataframe thead th {\n",
       "        text-align: right;\n",
       "    }\n",
       "</style>\n",
       "<table border=\"1\" class=\"dataframe\">\n",
       "  <thead>\n",
       "    <tr style=\"text-align: right;\">\n",
       "      <th></th>\n",
       "      <th>timestamps</th>\n",
       "      <th>cr_area</th>\n",
       "      <th>eye_area</th>\n",
       "      <th>pupil_area</th>\n",
       "      <th>likely_blink</th>\n",
       "      <th>pupil_area_raw</th>\n",
       "      <th>cr_area_raw</th>\n",
       "      <th>eye_area_raw</th>\n",
       "      <th>cr_center_x</th>\n",
       "      <th>cr_center_y</th>\n",
       "      <th>...</th>\n",
       "      <th>eye_center_x</th>\n",
       "      <th>eye_center_y</th>\n",
       "      <th>eye_width</th>\n",
       "      <th>eye_height</th>\n",
       "      <th>eye_phi</th>\n",
       "      <th>pupil_center_x</th>\n",
       "      <th>pupil_center_y</th>\n",
       "      <th>pupil_width</th>\n",
       "      <th>pupil_height</th>\n",
       "      <th>pupil_phi</th>\n",
       "    </tr>\n",
       "    <tr>\n",
       "      <th>frame</th>\n",
       "      <th></th>\n",
       "      <th></th>\n",
       "      <th></th>\n",
       "      <th></th>\n",
       "      <th></th>\n",
       "      <th></th>\n",
       "      <th></th>\n",
       "      <th></th>\n",
       "      <th></th>\n",
       "      <th></th>\n",
       "      <th></th>\n",
       "      <th></th>\n",
       "      <th></th>\n",
       "      <th></th>\n",
       "      <th></th>\n",
       "      <th></th>\n",
       "      <th></th>\n",
       "      <th></th>\n",
       "      <th></th>\n",
       "      <th></th>\n",
       "      <th></th>\n",
       "    </tr>\n",
       "  </thead>\n",
       "  <tbody>\n",
       "    <tr>\n",
       "      <th>16</th>\n",
       "      <td>2.69844</td>\n",
       "      <td>143.319910</td>\n",
       "      <td>64100.607811</td>\n",
       "      <td>18344.446003</td>\n",
       "      <td>False</td>\n",
       "      <td>18344.446003</td>\n",
       "      <td>143.319910</td>\n",
       "      <td>64100.607811</td>\n",
       "      <td>307.495920</td>\n",
       "      <td>253.050384</td>\n",
       "      <td>...</td>\n",
       "      <td>293.215171</td>\n",
       "      <td>252.429377</td>\n",
       "      <td>154.298080</td>\n",
       "      <td>132.236624</td>\n",
       "      <td>-0.045388</td>\n",
       "      <td>296.119363</td>\n",
       "      <td>245.965454</td>\n",
       "      <td>76.414779</td>\n",
       "      <td>75.552596</td>\n",
       "      <td>0.186599</td>\n",
       "    </tr>\n",
       "    <tr>\n",
       "      <th>17</th>\n",
       "      <td>2.71512</td>\n",
       "      <td>144.637343</td>\n",
       "      <td>64128.814923</td>\n",
       "      <td>18500.396156</td>\n",
       "      <td>False</td>\n",
       "      <td>18500.396156</td>\n",
       "      <td>144.637343</td>\n",
       "      <td>64128.814923</td>\n",
       "      <td>307.703577</td>\n",
       "      <td>252.995883</td>\n",
       "      <td>...</td>\n",
       "      <td>293.465116</td>\n",
       "      <td>252.383047</td>\n",
       "      <td>154.610779</td>\n",
       "      <td>132.027248</td>\n",
       "      <td>-0.047398</td>\n",
       "      <td>296.156537</td>\n",
       "      <td>246.179364</td>\n",
       "      <td>76.738901</td>\n",
       "      <td>75.066741</td>\n",
       "      <td>0.071866</td>\n",
       "    </tr>\n",
       "    <tr>\n",
       "      <th>18</th>\n",
       "      <td>2.73178</td>\n",
       "      <td>138.430143</td>\n",
       "      <td>64228.144166</td>\n",
       "      <td>18768.526187</td>\n",
       "      <td>False</td>\n",
       "      <td>18768.526187</td>\n",
       "      <td>138.430143</td>\n",
       "      <td>64228.144166</td>\n",
       "      <td>307.929085</td>\n",
       "      <td>253.125091</td>\n",
       "      <td>...</td>\n",
       "      <td>293.563823</td>\n",
       "      <td>252.333781</td>\n",
       "      <td>154.851436</td>\n",
       "      <td>132.026242</td>\n",
       "      <td>-0.049470</td>\n",
       "      <td>296.457157</td>\n",
       "      <td>245.953752</td>\n",
       "      <td>77.292997</td>\n",
       "      <td>75.030102</td>\n",
       "      <td>0.000100</td>\n",
       "    </tr>\n",
       "    <tr>\n",
       "      <th>19</th>\n",
       "      <td>2.74845</td>\n",
       "      <td>140.384821</td>\n",
       "      <td>64356.597629</td>\n",
       "      <td>18790.177151</td>\n",
       "      <td>False</td>\n",
       "      <td>18790.177151</td>\n",
       "      <td>140.384821</td>\n",
       "      <td>64356.597629</td>\n",
       "      <td>307.710460</td>\n",
       "      <td>253.179979</td>\n",
       "      <td>...</td>\n",
       "      <td>293.503738</td>\n",
       "      <td>252.582299</td>\n",
       "      <td>154.705897</td>\n",
       "      <td>132.414741</td>\n",
       "      <td>-0.049801</td>\n",
       "      <td>296.389647</td>\n",
       "      <td>246.022947</td>\n",
       "      <td>77.337566</td>\n",
       "      <td>75.251635</td>\n",
       "      <td>0.004288</td>\n",
       "    </tr>\n",
       "    <tr>\n",
       "      <th>20</th>\n",
       "      <td>2.76511</td>\n",
       "      <td>153.408346</td>\n",
       "      <td>64446.974420</td>\n",
       "      <td>18824.413215</td>\n",
       "      <td>False</td>\n",
       "      <td>18824.413215</td>\n",
       "      <td>153.408346</td>\n",
       "      <td>64446.974420</td>\n",
       "      <td>307.556380</td>\n",
       "      <td>253.339529</td>\n",
       "      <td>...</td>\n",
       "      <td>293.251817</td>\n",
       "      <td>252.265215</td>\n",
       "      <td>154.720970</td>\n",
       "      <td>132.587775</td>\n",
       "      <td>-0.040922</td>\n",
       "      <td>296.259293</td>\n",
       "      <td>246.003218</td>\n",
       "      <td>77.407989</td>\n",
       "      <td>75.440085</td>\n",
       "      <td>-0.036076</td>\n",
       "    </tr>\n",
       "  </tbody>\n",
       "</table>\n",
       "<p>5 rows × 23 columns</p>\n",
       "</div>"
      ],
      "text/plain": [
       "       timestamps     cr_area      eye_area    pupil_area  likely_blink  \\\n",
       "frame                                                                     \n",
       "16        2.69844  143.319910  64100.607811  18344.446003         False   \n",
       "17        2.71512  144.637343  64128.814923  18500.396156         False   \n",
       "18        2.73178  138.430143  64228.144166  18768.526187         False   \n",
       "19        2.74845  140.384821  64356.597629  18790.177151         False   \n",
       "20        2.76511  153.408346  64446.974420  18824.413215         False   \n",
       "\n",
       "       pupil_area_raw  cr_area_raw  eye_area_raw  cr_center_x  cr_center_y  \\\n",
       "frame                                                                        \n",
       "16       18344.446003   143.319910  64100.607811   307.495920   253.050384   \n",
       "17       18500.396156   144.637343  64128.814923   307.703577   252.995883   \n",
       "18       18768.526187   138.430143  64228.144166   307.929085   253.125091   \n",
       "19       18790.177151   140.384821  64356.597629   307.710460   253.179979   \n",
       "20       18824.413215   153.408346  64446.974420   307.556380   253.339529   \n",
       "\n",
       "       ...  eye_center_x  eye_center_y   eye_width  eye_height   eye_phi  \\\n",
       "frame  ...                                                                 \n",
       "16     ...    293.215171    252.429377  154.298080  132.236624 -0.045388   \n",
       "17     ...    293.465116    252.383047  154.610779  132.027248 -0.047398   \n",
       "18     ...    293.563823    252.333781  154.851436  132.026242 -0.049470   \n",
       "19     ...    293.503738    252.582299  154.705897  132.414741 -0.049801   \n",
       "20     ...    293.251817    252.265215  154.720970  132.587775 -0.040922   \n",
       "\n",
       "       pupil_center_x  pupil_center_y  pupil_width  pupil_height  pupil_phi  \n",
       "frame                                                                        \n",
       "16         296.119363      245.965454    76.414779     75.552596   0.186599  \n",
       "17         296.156537      246.179364    76.738901     75.066741   0.071866  \n",
       "18         296.457157      245.953752    77.292997     75.030102   0.000100  \n",
       "19         296.389647      246.022947    77.337566     75.251635   0.004288  \n",
       "20         296.259293      246.003218    77.407989     75.440085  -0.036076  \n",
       "\n",
       "[5 rows x 23 columns]"
      ]
     },
     "execution_count": 51,
     "metadata": {},
     "output_type": "execute_result"
    }
   ],
   "source": [
    "eye_tracking_noblinks = eye_tracking[~eye_tracking['likely_blink']]\n",
    "eye_tracking_noblinks.head()"
   ]
  },
  {
   "cell_type": "markdown",
   "metadata": {},
   "source": [
    "**Running dataframe**: One entry for each read of the analog input line monitoring the encoder voltage, polled at ~60 Hz."
   ]
  },
  {
   "cell_type": "code",
   "execution_count": 52,
   "metadata": {},
   "outputs": [
    {
     "data": {
      "text/html": [
       "<div>\n",
       "<style scoped>\n",
       "    .dataframe tbody tr th:only-of-type {\n",
       "        vertical-align: middle;\n",
       "    }\n",
       "\n",
       "    .dataframe tbody tr th {\n",
       "        vertical-align: top;\n",
       "    }\n",
       "\n",
       "    .dataframe thead th {\n",
       "        text-align: right;\n",
       "    }\n",
       "</style>\n",
       "<table border=\"1\" class=\"dataframe\">\n",
       "  <thead>\n",
       "    <tr style=\"text-align: right;\">\n",
       "      <th></th>\n",
       "      <th>timestamps</th>\n",
       "      <th>speed</th>\n",
       "    </tr>\n",
       "  </thead>\n",
       "  <tbody>\n",
       "    <tr>\n",
       "      <th>0</th>\n",
       "      <td>27.11889</td>\n",
       "      <td>21.929034</td>\n",
       "    </tr>\n",
       "    <tr>\n",
       "      <th>1</th>\n",
       "      <td>27.13549</td>\n",
       "      <td>31.705640</td>\n",
       "    </tr>\n",
       "    <tr>\n",
       "      <th>2</th>\n",
       "      <td>27.15263</td>\n",
       "      <td>40.125461</td>\n",
       "    </tr>\n",
       "    <tr>\n",
       "      <th>3</th>\n",
       "      <td>27.16893</td>\n",
       "      <td>46.906969</td>\n",
       "    </tr>\n",
       "    <tr>\n",
       "      <th>4</th>\n",
       "      <td>27.18556</td>\n",
       "      <td>51.945394</td>\n",
       "    </tr>\n",
       "  </tbody>\n",
       "</table>\n",
       "</div>"
      ],
      "text/plain": [
       "   timestamps      speed\n",
       "0    27.11889  21.929034\n",
       "1    27.13549  31.705640\n",
       "2    27.15263  40.125461\n",
       "3    27.16893  46.906969\n",
       "4    27.18556  51.945394"
      ]
     },
     "execution_count": 52,
     "metadata": {},
     "output_type": "execute_result"
    }
   ],
   "source": [
    "running_speed.head()"
   ]
  },
  {
   "cell_type": "markdown",
   "metadata": {},
   "source": [
    "**Licking dataframe**: One entry for every detected lick onset time,"
   ]
  },
  {
   "cell_type": "code",
   "execution_count": 53,
   "metadata": {},
   "outputs": [
    {
     "data": {
      "text/html": [
       "<div>\n",
       "<style scoped>\n",
       "    .dataframe tbody tr th:only-of-type {\n",
       "        vertical-align: middle;\n",
       "    }\n",
       "\n",
       "    .dataframe tbody tr th {\n",
       "        vertical-align: top;\n",
       "    }\n",
       "\n",
       "    .dataframe thead th {\n",
       "        text-align: right;\n",
       "    }\n",
       "</style>\n",
       "<table border=\"1\" class=\"dataframe\">\n",
       "  <thead>\n",
       "    <tr style=\"text-align: right;\">\n",
       "      <th></th>\n",
       "      <th>timestamps</th>\n",
       "      <th>frame</th>\n",
       "    </tr>\n",
       "  </thead>\n",
       "  <tbody>\n",
       "    <tr>\n",
       "      <th>0</th>\n",
       "      <td>28.55104</td>\n",
       "      <td>88</td>\n",
       "    </tr>\n",
       "    <tr>\n",
       "      <th>1</th>\n",
       "      <td>28.72504</td>\n",
       "      <td>99</td>\n",
       "    </tr>\n",
       "    <tr>\n",
       "      <th>2</th>\n",
       "      <td>29.30011</td>\n",
       "      <td>133</td>\n",
       "    </tr>\n",
       "    <tr>\n",
       "      <th>3</th>\n",
       "      <td>33.02635</td>\n",
       "      <td>357</td>\n",
       "    </tr>\n",
       "    <tr>\n",
       "      <th>4</th>\n",
       "      <td>33.20237</td>\n",
       "      <td>367</td>\n",
       "    </tr>\n",
       "  </tbody>\n",
       "</table>\n",
       "</div>"
      ],
      "text/plain": [
       "   timestamps  frame\n",
       "0    28.55104     88\n",
       "1    28.72504     99\n",
       "2    29.30011    133\n",
       "3    33.02635    357\n",
       "4    33.20237    367"
      ]
     },
     "execution_count": 53,
     "metadata": {},
     "output_type": "execute_result"
    }
   ],
   "source": [
    "licks.head()"
   ]
  },
  {
   "cell_type": "markdown",
   "metadata": {},
   "source": [
    "Now let's take a look at running, licking and pupil area for one reward trial"
   ]
  },
  {
   "cell_type": "code",
   "execution_count": 54,
   "metadata": {},
   "outputs": [
    {
     "data": {
      "image/png": "[encoded data removed]",
      "text/plain": [
       "<Figure size 1008x432 with 2 Axes>"
      ]
     },
     "metadata": {
      "needs_background": "light"
     },
     "output_type": "display_data"
    }
   ],
   "source": [
    "time_before = 3.0 #how much time to plot before the reward\n",
    "time_after = 3.0 #how much time to plot after the reward\n",
    "reward_time = session.rewards.iloc[15]['timestamps'] #get a random reward time\n",
    "\n",
    "#Get running data aligned to this reward\n",
    "trial_running = running_speed.query('timestamps >= {} and timestamps <= {} '.\n",
    "                                    format(reward_time-time_before, reward_time+time_after))\n",
    "\n",
    "#Get pupil data aligned to this reward\n",
    "trial_pupil_area = eye_tracking_noblinks.query('timestamps >= {} and timestamps <= {} '.\n",
    "                                    format(reward_time-time_before, reward_time+time_after))\n",
    "\n",
    "#Get stimulus presentations around this reward\n",
    "behavior_presentations = stimulus_presentations[stimulus_presentations['active']]\n",
    "behavior_presentations = behavior_presentations[(behavior_presentations['omitted']==False)]\n",
    "trial_stimuli = behavior_presentations.query('stop_time >= {} and start_time <= {}'.\n",
    "                                             format(reward_time-time_before, reward_time+time_after))\n",
    "\n",
    "#Get licking aligned to this reward\n",
    "trial_licking = licks.query('timestamps >= {} and timestamps <= {} '.\n",
    "                                    format(reward_time-time_before, reward_time+time_after))\n",
    "\n",
    "\n",
    "#Plot running, pupil area and licks\n",
    "fig, axr = plt.subplots()\n",
    "fig.set_size_inches(14,6)\n",
    "axr.plot(trial_running['timestamps'], trial_running['speed'], 'k')\n",
    "axp = axr.twinx()\n",
    "axp.plot(trial_pupil_area['timestamps'], trial_pupil_area['pupil_area'], 'g')\n",
    "rew_handle, = axr.plot(reward_time, 0, 'db', markersize=10)\n",
    "lick_handle, = axr.plot(trial_licking['timestamps'], np.zeros(len(trial_licking['timestamps'])), 'mo')\n",
    "axr.legend([rew_handle, lick_handle], ['reward', 'licks'])\n",
    "\n",
    "axr.set_ylabel('running speed (cm/s)')\n",
    "axp.set_ylabel('pupil area\\n$(pixels^2)$')\n",
    "axr.set_xlabel('Experiment time (s)')\n",
    "\n",
    "axp.yaxis.label.set_color('g')\n",
    "axp.spines['right'].set_color('g')\n",
    "axp.tick_params(axis='y', colors='g')\n",
    "\n",
    "#Plot the image flashes as grey bars. \n",
    "colors = ['0.3', '0.8']\n",
    "stimulus_colors = {stim: c for stim,c in zip(trial_stimuli['image_name'].unique(), colors)}\n",
    "for idx, stimulus in trial_stimuli.iterrows():\n",
    "    axr.axvspan(stimulus['start_time'], stimulus['stop_time'], color=stimulus_colors[stimulus['image_name']], alpha=0.5)"
   ]
  },
  {
   "cell_type": "markdown",
   "metadata": {},
   "source": [
    "Here we can see that just after the stimulus change (a little past 449 seconds), the mouse abruptly stops running and begins licking. The reward is delivered shortly after the first lick. We can also begin to see that before the change the pupil and running become entrained to the image flashes."
   ]
  }
 ],
 "metadata": {
  "kernelspec": {
   "display_name": "Python 3 (ipykernel)",
   "language": "python",
   "name": "python3"
  },
  "language_info": {
   "codemirror_mode": {
    "name": "ipython",
    "version": 3
   },
   "file_extension": ".py",
   "mimetype": "text/x-python",
   "name": "python",
   "nbconvert_exporter": "python",
   "pygments_lexer": "ipython3",
   "version": "3.8.13"
  },
  "vscode": {
   "interpreter": {
    "hash": "37dddc7a9b48c904247bafdbf077e38e92e263740137f62b55c265f377f81e70"
   }
  }
 },
 "nbformat": 4,
 "nbformat_minor": 2
}
