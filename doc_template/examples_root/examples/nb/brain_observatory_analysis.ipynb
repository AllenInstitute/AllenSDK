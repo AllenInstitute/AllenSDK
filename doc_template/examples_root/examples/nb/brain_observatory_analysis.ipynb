{
 "cells": [
  {
   "cell_type": "markdown",
   "metadata": {
    "pycharm": {
     "name": "#%% md\n"
    }
   },
   "source": [
    "## Brain Observatory Trace Analysis\n",
    "This notebook demonstrates how to run the stimulus-specific tuning analysis code in the SDK.  First let's instantiate a `BrainObservatoryCache` instance.\n",
    "\n",
    "Download this notebook in .ipynb format <a href='brain_observatory_analysis.ipynb'>here</a>."
   ]
  },
  {
   "cell_type": "code",
   "execution_count": null,
   "metadata": {
    "pycharm": {
     "name": "#%%\n"
    }
   },
   "outputs": [],
   "source": [
    "from pathlib import Path"
   ]
  },
  {
   "cell_type": "code",
   "execution_count": null,
   "metadata": {
    "pycharm": {
     "name": "#%%\n"
    },
    "tags": [
     "parameters"
    ]
   },
   "outputs": [],
   "source": [
    "output_dir = '.'\n",
    "resources_dir = Path.cwd().parent / 'resources'"
   ]
  },
  {
   "cell_type": "code",
   "execution_count": null,
   "metadata": {
    "pycharm": {
     "name": "#%%\n"
    }
   },
   "outputs": [],
   "source": [
    "from allensdk.core.brain_observatory_cache import BrainObservatoryCache\n",
    "from pathlib import Path\n",
    "\n",
    "boc =  BrainObservatoryCache(\n",
    "    manifest_file=str(Path(output_dir) / 'brain_observatory_manifest.json'))"
   ]
  },
  {
   "cell_type": "markdown",
   "metadata": {
    "pycharm": {
     "name": "#%% md\n"
    }
   },
   "source": [
    "## Drifting Gratings\n",
    "In this example, we'll show how you can plot a heatmap of a cell's response organized by orientation and temporal frequency.  Here we start with a known experiment ID.  Take a look at the other notebook to see how you can find experiments of interest.  You can run the drifting grating analysis code on that experiment's NWB file as follows:"
   ]
  },
  {
   "cell_type": "code",
   "execution_count": null,
   "metadata": {
    "pycharm": {
     "name": "#%%\n"
    }
   },
   "outputs": [],
   "source": [
    "import matplotlib.pyplot as plt\n",
    "%matplotlib inline\n",
    "\n",
    "from allensdk.brain_observatory.drifting_gratings import DriftingGratings\n",
    "\n",
    "data_set = boc.get_ophys_experiment_data(502376461)\n",
    "dg = DriftingGratings(data_set)"
   ]
  },
  {
   "cell_type": "markdown",
   "metadata": {
    "pycharm": {
     "name": "#%% md\n"
    }
   },
   "source": [
    "If you know which cell you're interested in, here's how you can find out where it is in the NWB File."
   ]
  },
  {
   "cell_type": "code",
   "execution_count": null,
   "metadata": {
    "pycharm": {
     "name": "#%%\n"
    }
   },
   "outputs": [],
   "source": [
    "import numpy as np\n",
    "specimen_id = 517425074\n",
    "cell_loc = data_set.get_cell_specimen_indices([specimen_id])[0]\n",
    "\n",
    "print(\"Specimen ID:\", specimen_id)\n",
    "print(\"Cell loc:\", cell_loc)"
   ]
  },
  {
   "cell_type": "markdown",
   "metadata": {
    "pycharm": {
     "name": "#%% md\n"
    }
   },
   "source": [
    "The `response` property of the stimulus-specific analysis objects is 4-D array organized with the following dimensions:\n",
    "    \n",
    "    0: num. grating directions\n",
    "    1: num. grating temporal frequencies + 1 (0=blank sweep)\n",
    "    2: num. cells + 1 (running speed)\n",
    "    3: 0=response mean, 1=response standard error of the mean, 2=number of signficant trials\n",
    "\n",
    "Dimension 2 of the `response` array has one index per cell in the experiment, plus one.  The final index of that dimension is the running speed (`response[:,:,-1,:]`).  This organization allows users to examine whether the mouse ran more for some specific stimulus conditions."
   ]
  },
  {
   "cell_type": "code",
   "execution_count": null,
   "metadata": {
    "pycharm": {
     "name": "#%%\n"
    }
   },
   "outputs": [],
   "source": [
    "# skip the blank sweep column of the temporal frequency dimension\n",
    "plt.imshow(dg.response[:,1:,cell_loc,0], cmap='hot', interpolation='none')\n",
    "plt.xticks(range(5), dg.tfvals[1:])\n",
    "plt.yticks(range(8), dg.orivals)\n",
    "plt.xlabel(\"Temporal frequency (Hz)\", fontsize=20)\n",
    "plt.ylabel(\"Direction (deg)\", fontsize=20)\n",
    "plt.tick_params(labelsize=14)\n",
    "cbar= plt.colorbar()\n",
    "cbar.set_label(\"DF/F (%)\")"
   ]
  },
  {
   "cell_type": "markdown",
   "metadata": {
    "pycharm": {
     "name": "#%% md\n"
    }
   },
   "source": [
    "The `peak` property of the analysis object is a Pandas DataFrame of peak conditions (direction and temporal frequency) as well as computed response metrics.  For drifting gratings this includes:\n",
    "\n",
    "    ori_dg: preferred direction (index into dg.orivals)\n",
    "    tf_dg: preferred temporal frequency (index into tf.tfvals)\n",
    "    response_reliability_dg: response reliability \n",
    "    osi_dg: orientation selectivity index\n",
    "    dsi_dg: direction selectivity index\n",
    "    ptest_dg: number of signficant cells\n",
    "    p_run_dg: K-S statistic comparing running trials to stationary trials\n",
    "    run_modulation_dg: ratio of mean fluorescence during running vs static\n",
    "    cv_dg: circular variance "
   ]
  },
  {
   "cell_type": "code",
   "execution_count": null,
   "metadata": {
    "pycharm": {
     "name": "#%%\n"
    }
   },
   "outputs": [],
   "source": [
    "dg.peak.loc[cell_loc]"
   ]
  },
  {
   "cell_type": "markdown",
   "metadata": {
    "pycharm": {
     "name": "#%% md\n"
    }
   },
   "source": [
    "Next let's plot all trials for a given cell's preferred condition."
   ]
  },
  {
   "cell_type": "code",
   "execution_count": null,
   "metadata": {
    "pycharm": {
     "name": "#%%\n"
    }
   },
   "outputs": [],
   "source": [
    "pref_ori = dg.orivals[dg.peak.ori_dg[cell_loc]]\n",
    "pref_tf = dg.tfvals[dg.peak.tf_dg[cell_loc]]\n",
    "print(\"Preferred direction:\", pref_ori)\n",
    "print(\"Preferred temporal frequency:\", pref_tf)"
   ]
  },
  {
   "cell_type": "code",
   "execution_count": null,
   "metadata": {
    "pycharm": {
     "name": "#%%\n"
    }
   },
   "outputs": [],
   "source": [
    "pref_trials = dg.stim_table[(dg.stim_table.orientation==pref_ori)&(dg.stim_table.temporal_frequency==pref_tf)]\n",
    "pref_trials"
   ]
  },
  {
   "cell_type": "markdown",
   "metadata": {
    "pycharm": {
     "name": "#%% md\n"
    }
   },
   "source": [
    "`sweep_response` is a DataFrame that contains the DF/F of each cell during each stimulus trial. It shares its index with `stim_table`. Each cell contains a timeseries that extends from 1 second prior to the start of the trial to 1 second after the end of the trial. The final column of `sweep_response`, named `dx`, is the running speed of the mouse during each trial. The data in this DataFrame is used to create another DataFrame called `mean_sweep_response` that contains the mean DF/F during the trial for each cell (and the mean running speed in the last column)."
   ]
  },
  {
   "cell_type": "code",
   "execution_count": null,
   "metadata": {
    "pycharm": {
     "name": "#%%\n"
    }
   },
   "outputs": [],
   "source": [
    "subset = dg.sweep_response[(dg.stim_table.orientation==pref_ori)&(dg.stim_table.temporal_frequency==pref_tf)]"
   ]
  },
  {
   "cell_type": "markdown",
   "metadata": {
    "pycharm": {
     "name": "#%% md\n"
    }
   },
   "source": [
    "Here we look at the mean running speed during trials that presented the preferred condition."
   ]
  },
  {
   "cell_type": "code",
   "execution_count": null,
   "metadata": {
    "pycharm": {
     "name": "#%%\n"
    }
   },
   "outputs": [],
   "source": [
    "subset_mean = dg.mean_sweep_response[(dg.stim_table.orientation==pref_ori)&(dg.stim_table.temporal_frequency==pref_tf)]\n",
    "subset_mean['dx']"
   ]
  },
  {
   "cell_type": "markdown",
   "metadata": {
    "pycharm": {
     "name": "#%% md\n"
    }
   },
   "source": [
    "Plot the response to each trial of the preferred condition, labeled with the mean running speed during the trial"
   ]
  },
  {
   "cell_type": "code",
   "execution_count": null,
   "metadata": {
    "pycharm": {
     "name": "#%%\n"
    }
   },
   "outputs": [],
   "source": [
    "trial_timestamps = np.arange(-1*dg.interlength, dg.interlength+dg.sweeplength, 1.)/dg.acquisition_rate\n",
    "plt.figure(figsize=(8,20))\n",
    "for i in range(len(subset)):\n",
    "    plt.subplot(len(pref_trials),1,i+1)\n",
    "    plt.plot(trial_timestamps, subset[str(cell_loc)].iloc[i], color='k', lw=2)\n",
    "    plt.axvspan(0,2,color='red', alpha=0.3)\n",
    "    plt.ylabel(\"DF/F (%)\")\n",
    "    plt.ylim(-10,600)\n",
    "    plt.yticks(range(0,700,200))\n",
    "    plt.text(2.5, 300, str(round(subset_mean['dx'].iloc[i],2))+\" cm/s\")\n",
    "    if i<(len(subset)-1):\n",
    "        plt.xticks([])\n",
    "    else:\n",
    "        plt.xticks([-1,0,1,2,3])\n",
    "        plt.xlabel(\"Time (s)\")"
   ]
  },
  {
   "cell_type": "markdown",
   "metadata": {
    "pycharm": {
     "name": "#%% md\n"
    }
   },
   "source": [
    "## Static Gratings\n",
    "The static gratings analysis object is quite similar to the drifting gratings analysis object.  Here we'll just take a look at the `peak` table, which contains information about the preferred orientation, spatial frequency, phase, as well as a number of other metrics."
   ]
  },
  {
   "cell_type": "code",
   "execution_count": null,
   "metadata": {
    "pycharm": {
     "name": "#%%\n"
    }
   },
   "outputs": [],
   "source": [
    "from allensdk.brain_observatory.static_gratings import StaticGratings\n",
    "\n",
    "# example loading drifting grating data\n",
    "data_set = boc.get_ophys_experiment_data(510938357)\n",
    "\n",
    "sg = StaticGratings(data_set)"
   ]
  },
  {
   "cell_type": "code",
   "execution_count": null,
   "metadata": {
    "pycharm": {
     "name": "#%%\n"
    }
   },
   "outputs": [],
   "source": [
    "sg.peak.head()"
   ]
  },
  {
   "cell_type": "markdown",
   "metadata": {
    "pycharm": {
     "name": "#%% md\n"
    }
   },
   "source": [
    "## Natural Scenes\n",
    "The natural scenes analysis object is again similar to the others.  In addition to computing the `sweep_response` and `mean_sweep_response` arrays, `NaturalScenes` reports the cell's preferred scene, running modulation, time to peak response, and other metrics."
   ]
  },
  {
   "cell_type": "code",
   "execution_count": null,
   "metadata": {
    "pycharm": {
     "name": "#%%\n"
    }
   },
   "outputs": [],
   "source": [
    "from allensdk.brain_observatory.natural_scenes import NaturalScenes\n",
    "\n",
    "data_set = boc.get_ophys_experiment_data(510938357)\n",
    "\n",
    "ns = NaturalScenes(data_set)\n",
    "print(\"done analyzing natural scenes\")"
   ]
  },
  {
   "cell_type": "code",
   "execution_count": null,
   "metadata": {
    "pycharm": {
     "name": "#%%\n"
    }
   },
   "outputs": [],
   "source": [
    "ns.peak.head()"
   ]
  },
  {
   "cell_type": "markdown",
   "metadata": {
    "pycharm": {
     "name": "#%% md\n"
    }
   },
   "source": [
    "## Locally Sparse Noise\n",
    "The locally sparse noise stimulus object is a bit different from the others.  It does not have a peak condition table, instead providing a method to retrieve the \"on\" and \"off\" receptive fields of all cells.  The receptive field of a cell is computed by averaging responses to trials in which a given sparse noise grid location is on/off."
   ]
  },
  {
   "cell_type": "code",
   "execution_count": null,
   "metadata": {
    "pycharm": {
     "name": "#%%\n"
    }
   },
   "outputs": [],
   "source": [
    "from allensdk.brain_observatory.locally_sparse_noise import LocallySparseNoise\n",
    "import allensdk.brain_observatory.stimulus_info as stim_info\n",
    "\n",
    "specimen_id = 587179530\n",
    "cell = boc.get_cell_specimens(ids=[specimen_id])[0]\n",
    "\n",
    "exp = boc.get_ophys_experiments(experiment_container_ids=[cell['experiment_container_id']],\n",
    "                                stimuli=[stim_info.LOCALLY_SPARSE_NOISE])[0]\n",
    "                                         \n",
    "data_set = boc.get_ophys_experiment_data(exp['id'])\n",
    "\n",
    "# This takes a while to run. Uncomment to actually run\n",
    "# lsn = LocallySparseNoise(data_set)\n",
    "# print(\"done analyzing locally sparse noise\")"
   ]
  },
  {
   "cell_type": "code",
   "execution_count": null,
   "metadata": {
    "pycharm": {
     "name": "#%%\n"
    }
   },
   "outputs": [],
   "source": [
    "# import matplotlib.pyplot as plt\n",
    "# %matplotlib inline\n",
    "\n",
    "# cell_idx = data_set.get_cell_specimen_indices([specimen_id])[0]\n",
    "#\n",
    "# plt.imshow(lsn.receptive_field[:,:,cell_idx,0], interpolation='nearest', cmap='PuRd', origin='lower')\n",
    "# plt.title(\"on receptive field\")\n",
    "# plt.show()\n",
    "# plt.imshow(lsn.receptive_field[:,:,cell_idx,1], interpolation='nearest', cmap='Blues', origin='lower')\n",
    "# plt.title(\"off receptive field\")\n",
    "# plt.show()"
   ]
  },
  {
   "cell_type": "code",
   "execution_count": null,
   "outputs": [],
   "source": [
    "from IPython.display import display\n",
    "from PIL import Image\n",
    "off_receptive_field = Image.open(Path(resources_dir) /\n",
    "                                 'brain_observatory_analysis' /\n",
    "                                 'off_receptive_field.png')\n",
    "display(off_receptive_field)\n",
    "\n",
    "on_receptive_field = Image.open(Path(resources_dir) /\n",
    "                                 'brain_observatory_analysis' /\n",
    "                                 'on_receptive_field.png')\n",
    "display(on_receptive_field)"
   ],
   "metadata": {
    "collapsed": false,
    "pycharm": {
     "name": "#%%\n"
    }
   }
  }
 ],
 "metadata": {
  "celltoolbar": "Tags",
  "kernelspec": {
   "display_name": "Python 3",
   "language": "python",
   "name": "python3"
  },
  "language_info": {
   "codemirror_mode": {
    "name": "ipython",
    "version": 3
   },
   "file_extension": ".py",
   "mimetype": "text/x-python",
   "name": "python",
   "nbconvert_exporter": "python",
   "pygments_lexer": "ipython3",
   "version": "3.8.3"
  }
 },
 "nbformat": 4,
 "nbformat_minor": 1
}