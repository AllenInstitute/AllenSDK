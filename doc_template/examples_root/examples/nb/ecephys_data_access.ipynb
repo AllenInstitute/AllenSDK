{
 "cells": [
  {
   "cell_type": "markdown",
   "id": "4af47151",
   "metadata": {
    "papermill": {
     "duration": 0.009047,
     "end_time": "2023-02-08T09:11:46.439087",
     "exception": false,
     "start_time": "2023-02-08T09:11:46.430040",
     "status": "completed"
    },
    "pycharm": {
     "name": "#%% md\n"
    },
    "tags": []
   },
   "source": [
    "# Accessing Neuropixels Visual Coding Data\n",
    "\n",
    "## Tutorial overview\n",
    "\n",
    "This Jupyter notebook covers the various methods for accessing the Allen Institute Neuropixels Visual Coding dataset. We will go over how to request data, where it's stored, and what the various files contain.  If you're having trouble downloading the data, or you just want to know more about what's going on under the hood, this is a good place to start.\n",
    "\n",
    "Currently, we do not have a web interface for browsing through the available cells and experiments, as with the [two-photon imaging Visual Coding dataset](http://observatory.brain-map.org/visualcoding). Instead, the data must be retrieved through the AllenSDK (Python 3.6+), or via requests sent to [api.brain-map.org](http://mouse.brain-map.org/static/api).\n",
    "\n",
    "Functions related to data analysis will be covered in other tutorials. For a full list of available tutorials, see the [SDK documentation](https://allensdk.readthedocs.io/en/latest/visual_coding_neuropixels.html).\n",
    "\n",
    "## Options for data access\n",
    "\n",
    "The **`EcephysProjectCache` object of the AllenSDK** is the easiest way to interact with the data. This object abstracts away the details of on-disk file storage, and delivers the data to you as ready-to-analyze Python objects. The cache will automatically keep track of which files are stored locally, and will download additional files on an as-needed basis. Usually you won't need to worry about how these files are structured, but this tutorial will cover those details in case you want to analyze them without using the AllenSDK (e.g., in Matlab). This tutorial begins with <a href='#Using-the-AllenSDK-to-retrieve-data'>an introduction to this approach</a>.\n",
    "\n",
    "If you have an **Amazon Web Services (AWS)** account, you can use an `EcephysProjectCache` object to access the data via the Allen Brain Observatory Simple Storage Service (S3) bucket. This is an AWS Public Dataset located at `arn:aws:s3:::allen-brain-observatory` in region `us-west-2`. Launching a Jupyter notebook instance on AWS will allow you to access the complete dataset without having to download anything locally. This includes around 80 TB of raw data files, which are not accessible via the AllenSDK. The only drawback is that you'll need to pay for the time that your instance is running—but this can still be economical in many cases. A brief overview of this approach can be found <a href='#Accessing-data-on-AWS'>below</a>.\n",
    "\n",
    "A third option is to directly download the data via **api.brain-map.org**. This should be used only as a last resort if the other options are broken or are not available to you. Instructions for this can be found <a href='#Direct-download-via-api.brain-map.org'>at the end of this tutorial</a>."
   ]
  },
  {
   "cell_type": "markdown",
   "id": "87a7f7a8",
   "metadata": {
    "papermill": {
     "duration": 0.007648,
     "end_time": "2023-02-08T09:11:46.454823",
     "exception": false,
     "start_time": "2023-02-08T09:11:46.447175",
     "status": "completed"
    },
    "pycharm": {
     "name": "#%% md\n"
    },
    "tags": []
   },
   "source": [
    "## Using the AllenSDK to retrieve data"
   ]
  },
  {
   "cell_type": "markdown",
   "id": "fa74e2be",
   "metadata": {
    "papermill": {
     "duration": 0.007559,
     "end_time": "2023-02-08T09:11:46.470013",
     "exception": false,
     "start_time": "2023-02-08T09:11:46.462454",
     "status": "completed"
    },
    "pycharm": {
     "name": "#%% md\n"
    },
    "tags": []
   },
   "source": [
    "Most users will want to access data via the AllenSDK. This requires nothing more than a Python interpreter and some free disk space to store the data locally.\n",
    "\n",
    "How much data is there? If you want to download the complete dataset (58 experiments), you'll need 855 GB of space, split across the following files:\n",
    "\n",
    "1. CSV files containing information about sessions, probes, channels and units (58.1 MB)\n",
    "2. NWB files containing spike times, behavior data, and stimulus information for each session (146.5 GB total, min file size = 1.7 GB, max file size = 3.3 GB)\n",
    "3. NWB files containing LFP data for each probe (707 GB total, min file size = 0.9 GB, max file size = 2.7 GB)\n",
    "\n",
    "Before downloading the data, you must decide where the `manifest.json` file lives. This file serves as the map that guides the `EcephysProjectCache` object to the file locations.\n",
    "\n",
    "When you initialize a local cache for the first time, it will create the manifest file at the path that you specify. This file lives in the same directory as the rest of the data, so make sure you put it somewhere that has enough space available. \n",
    "\n",
    "When you need to access the data in subsequent analysis sessions, you should point the `EcephysProjectCache` object to an _existing_ `manifest.json` file; otherwise, it will try to re-download the data in a new location.\n",
    "\n",
    "To get started with this approach, first take care of the necessary imports:"
   ]
  },
  {
   "cell_type": "code",
   "execution_count": 1,
   "id": "8c3fba2b",
   "metadata": {
    "execution": {
     "iopub.execute_input": "2023-02-08T09:11:46.487075Z",
     "iopub.status.busy": "2023-02-08T09:11:46.486403Z",
     "iopub.status.idle": "2023-02-08T09:11:53.560019Z",
     "shell.execute_reply": "2023-02-08T09:11:53.559335Z"
    },
    "papermill": {
     "duration": 7.084622,
     "end_time": "2023-02-08T09:11:53.562271",
     "exception": false,
     "start_time": "2023-02-08T09:11:46.477649",
     "status": "completed"
    },
    "pycharm": {
     "name": "#%%\n"
    },
    "tags": []
   },
   "outputs": [
    {
     "name": "stderr",
     "output_type": "stream",
     "text": [
      "/opt/hostedtoolcache/Python/3.8.16/x64/lib/python3.8/site-packages/tqdm/auto.py:22: TqdmWarning: IProgress not found. Please update jupyter and ipywidgets. See https://ipywidgets.readthedocs.io/en/stable/user_install.html\n",
      "  from .autonotebook import tqdm as notebook_tqdm\n"
     ]
    }
   ],
   "source": [
    "import os\n",
    "import shutil\n",
    "import numpy as np\n",
    "import pandas as pd\n",
    "from pathlib import Path\n",
    "\n",
    "from allensdk.brain_observatory.ecephys.ecephys_project_cache import EcephysProjectCache"
   ]
  },
  {
   "cell_type": "markdown",
   "id": "9fe3b5b5",
   "metadata": {
    "papermill": {
     "duration": 0.008057,
     "end_time": "2023-02-08T09:11:53.578533",
     "exception": false,
     "start_time": "2023-02-08T09:11:53.570476",
     "status": "completed"
    },
    "pycharm": {
     "name": "#%% md\n"
    },
    "tags": []
   },
   "source": [
    "Next, we'll specify the location of the manifest file. If you're creating a cache for the first time, this file won't exist yet, but it _must_ be placed in an existing data directory. Remember to choose a location that has plenty of free space available."
   ]
  },
  {
   "cell_type": "code",
   "execution_count": 2,
   "id": "ed4b9fe8",
   "metadata": {
    "execution": {
     "iopub.execute_input": "2023-02-08T09:11:53.595794Z",
     "iopub.status.busy": "2023-02-08T09:11:53.595052Z",
     "iopub.status.idle": "2023-02-08T09:11:53.598393Z",
     "shell.execute_reply": "2023-02-08T09:11:53.597880Z"
    },
    "papermill": {
     "duration": 0.013568,
     "end_time": "2023-02-08T09:11:53.599830",
     "exception": false,
     "start_time": "2023-02-08T09:11:53.586262",
     "status": "completed"
    },
    "pycharm": {
     "name": "#%%\n"
    },
    "tags": [
     "parameters"
    ]
   },
   "outputs": [],
   "source": [
    "output_dir = '/local1/ecephys_cache_dir' # must be updated to a valid directory in your filesystem\n",
    "DOWNLOAD_COMPLETE_DATASET = True"
   ]
  },
  {
   "cell_type": "code",
   "execution_count": 4,
   "id": "00bd7b08",
   "metadata": {
    "execution": {
     "iopub.execute_input": "2023-02-08T09:11:53.637468Z",
     "iopub.status.busy": "2023-02-08T09:11:53.636861Z",
     "iopub.status.idle": "2023-02-08T09:11:53.640130Z",
     "shell.execute_reply": "2023-02-08T09:11:53.639496Z"
    },
    "papermill": {
     "duration": 0.013207,
     "end_time": "2023-02-08T09:11:53.641550",
     "exception": false,
     "start_time": "2023-02-08T09:11:53.628343",
     "status": "completed"
    },
    "pycharm": {
     "name": "#%%\n"
    },
    "tags": []
   },
   "outputs": [],
   "source": [
    "manifest_path = os.path.join(output_dir, \"manifest.json\")"
   ]
  },
  {
   "cell_type": "markdown",
   "id": "805ed1fa",
   "metadata": {
    "papermill": {
     "duration": 0.007679,
     "end_time": "2023-02-08T09:11:53.656982",
     "exception": false,
     "start_time": "2023-02-08T09:11:53.649303",
     "status": "completed"
    },
    "pycharm": {
     "name": "#%% md\n"
    },
    "tags": []
   },
   "source": [
    "Now we can create the cache object, specifying both the local storage directory (the `manifest_path`) and the remote storage location (the Allen Institute data warehouse)."
   ]
  },
  {
   "cell_type": "code",
   "execution_count": 5,
   "id": "205cd199",
   "metadata": {
    "execution": {
     "iopub.execute_input": "2023-02-08T09:11:53.673606Z",
     "iopub.status.busy": "2023-02-08T09:11:53.673070Z",
     "iopub.status.idle": "2023-02-08T09:11:53.676911Z",
     "shell.execute_reply": "2023-02-08T09:11:53.676281Z"
    },
    "papermill": {
     "duration": 0.013562,
     "end_time": "2023-02-08T09:11:53.678240",
     "exception": false,
     "start_time": "2023-02-08T09:11:53.664678",
     "status": "completed"
    },
    "pycharm": {
     "name": "#%%\n"
    },
    "tags": []
   },
   "outputs": [],
   "source": [
    "cache = EcephysProjectCache.from_warehouse(manifest=manifest_path)"
   ]
  },
  {
   "cell_type": "markdown",
   "id": "08bca1f1",
   "metadata": {
    "papermill": {
     "duration": 0.007688,
     "end_time": "2023-02-08T09:11:53.693784",
     "exception": false,
     "start_time": "2023-02-08T09:11:53.686096",
     "status": "completed"
    },
    "pycharm": {
     "name": "#%% md\n"
    },
    "tags": []
   },
   "source": [
    "This will prepare the cache to download four files:\n",
    "\n",
    "1. `sessions.csv` (7.8 kB)\n",
    "2. `probes.csv` (27.0 kB)\n",
    "3. `channels.csv` (6.6 MB)\n",
    "4. `units.csv` (51.4 MB)\n",
    "\n",
    "Each one contains a table of information related to its file name. If you're using the AllenSDK, you won't have to worry about how these files are formatted. Instead, you'll load the relevant data using specific accessor functions: `get_session_table()`, `get_probes()`, `get_channels()`, and `get_units()`. These functions return a [pandas DataFrame](https://pandas.pydata.org/pandas-docs/stable/reference/frame.html?highlight=dataframe) containing a row for each item and a column for each metric.\n",
    "\n",
    "If you are analyzing data without using the AllenSDK, you can load the data using your CSV file reader of choice. However, please be aware the columns in the original file do not necessarily match what's returned by the AllenSDK, which may combine information from multiple files to produce the final DataFrame.\n",
    "\n",
    "Let's take a closer look at what's in the `sessions.csv` file:"
   ]
  },
  {
   "cell_type": "code",
   "execution_count": 6,
   "id": "51c27283",
   "metadata": {
    "execution": {
     "iopub.execute_input": "2023-02-08T09:11:53.710472Z",
     "iopub.status.busy": "2023-02-08T09:11:53.709915Z",
     "iopub.status.idle": "2023-02-08T09:15:19.961786Z",
     "shell.execute_reply": "2023-02-08T09:15:19.961230Z"
    },
    "papermill": {
     "duration": 206.267414,
     "end_time": "2023-02-08T09:15:19.968889",
     "exception": false,
     "start_time": "2023-02-08T09:11:53.701475",
     "status": "completed"
    },
    "pycharm": {
     "name": "#%%\n"
    },
    "tags": []
   },
   "outputs": [
    {
     "name": "stdout",
     "output_type": "stream",
     "text": [
      "Total number of sessions: 58\n"
     ]
    },
    {
     "data": {
      "text/html": [
       "<div>\n",
       "<style scoped>\n",
       "    .dataframe tbody tr th:only-of-type {\n",
       "        vertical-align: middle;\n",
       "    }\n",
       "\n",
       "    .dataframe tbody tr th {\n",
       "        vertical-align: top;\n",
       "    }\n",
       "\n",
       "    .dataframe thead th {\n",
       "        text-align: right;\n",
       "    }\n",
       "</style>\n",
       "<table border=\"1\" class=\"dataframe\">\n",
       "  <thead>\n",
       "    <tr style=\"text-align: right;\">\n",
       "      <th></th>\n",
       "      <th>published_at</th>\n",
       "      <th>specimen_id</th>\n",
       "      <th>session_type</th>\n",
       "      <th>age_in_days</th>\n",
       "      <th>sex</th>\n",
       "      <th>full_genotype</th>\n",
       "      <th>unit_count</th>\n",
       "      <th>channel_count</th>\n",
       "      <th>probe_count</th>\n",
       "      <th>ecephys_structure_acronyms</th>\n",
       "    </tr>\n",
       "    <tr>\n",
       "      <th>id</th>\n",
       "      <th></th>\n",
       "      <th></th>\n",
       "      <th></th>\n",
       "      <th></th>\n",
       "      <th></th>\n",
       "      <th></th>\n",
       "      <th></th>\n",
       "      <th></th>\n",
       "      <th></th>\n",
       "      <th></th>\n",
       "    </tr>\n",
       "  </thead>\n",
       "  <tbody>\n",
       "    <tr>\n",
       "      <th>715093703</th>\n",
       "      <td>2019-10-03T00:00:00Z</td>\n",
       "      <td>699733581</td>\n",
       "      <td>brain_observatory_1.1</td>\n",
       "      <td>118.0</td>\n",
       "      <td>M</td>\n",
       "      <td>Sst-IRES-Cre/wt;Ai32(RCL-ChR2(H134R)_EYFP)/wt</td>\n",
       "      <td>884</td>\n",
       "      <td>2219</td>\n",
       "      <td>6</td>\n",
       "      <td>[CA1, VISrl, nan, PO, LP, LGd, CA3, DG, VISl, ...</td>\n",
       "    </tr>\n",
       "    <tr>\n",
       "      <th>719161530</th>\n",
       "      <td>2019-10-03T00:00:00Z</td>\n",
       "      <td>703279284</td>\n",
       "      <td>brain_observatory_1.1</td>\n",
       "      <td>122.0</td>\n",
       "      <td>M</td>\n",
       "      <td>Sst-IRES-Cre/wt;Ai32(RCL-ChR2(H134R)_EYFP)/wt</td>\n",
       "      <td>755</td>\n",
       "      <td>2214</td>\n",
       "      <td>6</td>\n",
       "      <td>[TH, Eth, APN, POL, LP, DG, CA1, VISpm, nan, N...</td>\n",
       "    </tr>\n",
       "    <tr>\n",
       "      <th>721123822</th>\n",
       "      <td>2019-10-03T00:00:00Z</td>\n",
       "      <td>707296982</td>\n",
       "      <td>brain_observatory_1.1</td>\n",
       "      <td>125.0</td>\n",
       "      <td>M</td>\n",
       "      <td>Pvalb-IRES-Cre/wt;Ai32(RCL-ChR2(H134R)_EYFP)/wt</td>\n",
       "      <td>444</td>\n",
       "      <td>2229</td>\n",
       "      <td>6</td>\n",
       "      <td>[MB, SCig, PPT, NOT, DG, CA1, VISam, nan, LP, ...</td>\n",
       "    </tr>\n",
       "    <tr>\n",
       "      <th>732592105</th>\n",
       "      <td>2019-10-03T00:00:00Z</td>\n",
       "      <td>717038288</td>\n",
       "      <td>brain_observatory_1.1</td>\n",
       "      <td>100.0</td>\n",
       "      <td>M</td>\n",
       "      <td>wt/wt</td>\n",
       "      <td>824</td>\n",
       "      <td>1847</td>\n",
       "      <td>5</td>\n",
       "      <td>[grey, VISpm, nan, VISp, VISl, VISal, VISrl]</td>\n",
       "    </tr>\n",
       "    <tr>\n",
       "      <th>737581020</th>\n",
       "      <td>2019-10-03T00:00:00Z</td>\n",
       "      <td>718643567</td>\n",
       "      <td>brain_observatory_1.1</td>\n",
       "      <td>108.0</td>\n",
       "      <td>M</td>\n",
       "      <td>wt/wt</td>\n",
       "      <td>568</td>\n",
       "      <td>2218</td>\n",
       "      <td>6</td>\n",
       "      <td>[grey, VISmma, nan, VISpm, VISp, VISl, VISrl]</td>\n",
       "    </tr>\n",
       "  </tbody>\n",
       "</table>\n",
       "</div>"
      ],
      "text/plain": [
       "                   published_at  specimen_id           session_type  \\\n",
       "id                                                                    \n",
       "715093703  2019-10-03T00:00:00Z    699733581  brain_observatory_1.1   \n",
       "719161530  2019-10-03T00:00:00Z    703279284  brain_observatory_1.1   \n",
       "721123822  2019-10-03T00:00:00Z    707296982  brain_observatory_1.1   \n",
       "732592105  2019-10-03T00:00:00Z    717038288  brain_observatory_1.1   \n",
       "737581020  2019-10-03T00:00:00Z    718643567  brain_observatory_1.1   \n",
       "\n",
       "           age_in_days sex                                    full_genotype  \\\n",
       "id                                                                            \n",
       "715093703        118.0   M    Sst-IRES-Cre/wt;Ai32(RCL-ChR2(H134R)_EYFP)/wt   \n",
       "719161530        122.0   M    Sst-IRES-Cre/wt;Ai32(RCL-ChR2(H134R)_EYFP)/wt   \n",
       "721123822        125.0   M  Pvalb-IRES-Cre/wt;Ai32(RCL-ChR2(H134R)_EYFP)/wt   \n",
       "732592105        100.0   M                                            wt/wt   \n",
       "737581020        108.0   M                                            wt/wt   \n",
       "\n",
       "           unit_count  channel_count  probe_count  \\\n",
       "id                                                  \n",
       "715093703         884           2219            6   \n",
       "719161530         755           2214            6   \n",
       "721123822         444           2229            6   \n",
       "732592105         824           1847            5   \n",
       "737581020         568           2218            6   \n",
       "\n",
       "                                  ecephys_structure_acronyms  \n",
       "id                                                            \n",
       "715093703  [CA1, VISrl, nan, PO, LP, LGd, CA3, DG, VISl, ...  \n",
       "719161530  [TH, Eth, APN, POL, LP, DG, CA1, VISpm, nan, N...  \n",
       "721123822  [MB, SCig, PPT, NOT, DG, CA1, VISam, nan, LP, ...  \n",
       "732592105       [grey, VISpm, nan, VISp, VISl, VISal, VISrl]  \n",
       "737581020      [grey, VISmma, nan, VISpm, VISp, VISl, VISrl]  "
      ]
     },
     "execution_count": 6,
     "metadata": {},
     "output_type": "execute_result"
    }
   ],
   "source": [
    "sessions = cache.get_session_table()\n",
    "\n",
    "print('Total number of sessions: ' + str(len(sessions)))\n",
    "\n",
    "sessions.head()"
   ]
  },
  {
   "cell_type": "markdown",
   "id": "59727a12",
   "metadata": {
    "papermill": {
     "duration": 0.00826,
     "end_time": "2023-02-08T09:15:19.985551",
     "exception": false,
     "start_time": "2023-02-08T09:15:19.977291",
     "status": "completed"
    },
    "pycharm": {
     "name": "#%% md\n"
    },
    "tags": []
   },
   "source": [
    "The `sessions` DataFrame provides a high-level overview of the Neuropixels Visual Coding dataset. The index column is a unique ID, which serves as a key for accessing the physiology data for each session. The other columns contain information about:\n",
    "\n",
    "- the session type (i.e., which stimulus set was shown?)\n",
    "- the age, sex, and genotype of the mouse (in this dataset, there's only one session per mouse)\n",
    "- the number of probes, channels, and units for each session\n",
    "- the brain structures recorded (CCFv3 acronyms)\n",
    "\n",
    "If we want to find all of recordings from male Sst-Cre mice that viewed the Brain Observatory 1.1 stimulus and contain units from area LM, we can use the following query:"
   ]
  },
  {
   "cell_type": "code",
   "execution_count": 7,
   "id": "5cd29a20",
   "metadata": {
    "execution": {
     "iopub.execute_input": "2023-02-08T09:15:20.003200Z",
     "iopub.status.busy": "2023-02-08T09:15:20.002462Z",
     "iopub.status.idle": "2023-02-08T09:15:20.016225Z",
     "shell.execute_reply": "2023-02-08T09:15:20.015606Z"
    },
    "papermill": {
     "duration": 0.024003,
     "end_time": "2023-02-08T09:15:20.017580",
     "exception": false,
     "start_time": "2023-02-08T09:15:19.993577",
     "status": "completed"
    },
    "pycharm": {
     "name": "#%%\n"
    },
    "tags": []
   },
   "outputs": [
    {
     "data": {
      "text/html": [
       "<div>\n",
       "<style scoped>\n",
       "    .dataframe tbody tr th:only-of-type {\n",
       "        vertical-align: middle;\n",
       "    }\n",
       "\n",
       "    .dataframe tbody tr th {\n",
       "        vertical-align: top;\n",
       "    }\n",
       "\n",
       "    .dataframe thead th {\n",
       "        text-align: right;\n",
       "    }\n",
       "</style>\n",
       "<table border=\"1\" class=\"dataframe\">\n",
       "  <thead>\n",
       "    <tr style=\"text-align: right;\">\n",
       "      <th></th>\n",
       "      <th>published_at</th>\n",
       "      <th>specimen_id</th>\n",
       "      <th>session_type</th>\n",
       "      <th>age_in_days</th>\n",
       "      <th>sex</th>\n",
       "      <th>full_genotype</th>\n",
       "      <th>unit_count</th>\n",
       "      <th>channel_count</th>\n",
       "      <th>probe_count</th>\n",
       "      <th>ecephys_structure_acronyms</th>\n",
       "    </tr>\n",
       "    <tr>\n",
       "      <th>id</th>\n",
       "      <th></th>\n",
       "      <th></th>\n",
       "      <th></th>\n",
       "      <th></th>\n",
       "      <th></th>\n",
       "      <th></th>\n",
       "      <th></th>\n",
       "      <th></th>\n",
       "      <th></th>\n",
       "      <th></th>\n",
       "    </tr>\n",
       "  </thead>\n",
       "  <tbody>\n",
       "    <tr>\n",
       "      <th>715093703</th>\n",
       "      <td>2019-10-03T00:00:00Z</td>\n",
       "      <td>699733581</td>\n",
       "      <td>brain_observatory_1.1</td>\n",
       "      <td>118.0</td>\n",
       "      <td>M</td>\n",
       "      <td>Sst-IRES-Cre/wt;Ai32(RCL-ChR2(H134R)_EYFP)/wt</td>\n",
       "      <td>884</td>\n",
       "      <td>2219</td>\n",
       "      <td>6</td>\n",
       "      <td>[CA1, VISrl, nan, PO, LP, LGd, CA3, DG, VISl, ...</td>\n",
       "    </tr>\n",
       "    <tr>\n",
       "      <th>719161530</th>\n",
       "      <td>2019-10-03T00:00:00Z</td>\n",
       "      <td>703279284</td>\n",
       "      <td>brain_observatory_1.1</td>\n",
       "      <td>122.0</td>\n",
       "      <td>M</td>\n",
       "      <td>Sst-IRES-Cre/wt;Ai32(RCL-ChR2(H134R)_EYFP)/wt</td>\n",
       "      <td>755</td>\n",
       "      <td>2214</td>\n",
       "      <td>6</td>\n",
       "      <td>[TH, Eth, APN, POL, LP, DG, CA1, VISpm, nan, N...</td>\n",
       "    </tr>\n",
       "    <tr>\n",
       "      <th>756029989</th>\n",
       "      <td>2019-10-03T00:00:00Z</td>\n",
       "      <td>734865738</td>\n",
       "      <td>brain_observatory_1.1</td>\n",
       "      <td>96.0</td>\n",
       "      <td>M</td>\n",
       "      <td>Sst-IRES-Cre/wt;Ai32(RCL-ChR2(H134R)_EYFP)/wt</td>\n",
       "      <td>684</td>\n",
       "      <td>2214</td>\n",
       "      <td>6</td>\n",
       "      <td>[TH, DG, CA3, CA1, VISl, nan, PO, Eth, LP, VIS...</td>\n",
       "    </tr>\n",
       "  </tbody>\n",
       "</table>\n",
       "</div>"
      ],
      "text/plain": [
       "                   published_at  specimen_id           session_type  \\\n",
       "id                                                                    \n",
       "715093703  2019-10-03T00:00:00Z    699733581  brain_observatory_1.1   \n",
       "719161530  2019-10-03T00:00:00Z    703279284  brain_observatory_1.1   \n",
       "756029989  2019-10-03T00:00:00Z    734865738  brain_observatory_1.1   \n",
       "\n",
       "           age_in_days sex                                  full_genotype  \\\n",
       "id                                                                          \n",
       "715093703        118.0   M  Sst-IRES-Cre/wt;Ai32(RCL-ChR2(H134R)_EYFP)/wt   \n",
       "719161530        122.0   M  Sst-IRES-Cre/wt;Ai32(RCL-ChR2(H134R)_EYFP)/wt   \n",
       "756029989         96.0   M  Sst-IRES-Cre/wt;Ai32(RCL-ChR2(H134R)_EYFP)/wt   \n",
       "\n",
       "           unit_count  channel_count  probe_count  \\\n",
       "id                                                  \n",
       "715093703         884           2219            6   \n",
       "719161530         755           2214            6   \n",
       "756029989         684           2214            6   \n",
       "\n",
       "                                  ecephys_structure_acronyms  \n",
       "id                                                            \n",
       "715093703  [CA1, VISrl, nan, PO, LP, LGd, CA3, DG, VISl, ...  \n",
       "719161530  [TH, Eth, APN, POL, LP, DG, CA1, VISpm, nan, N...  \n",
       "756029989  [TH, DG, CA3, CA1, VISl, nan, PO, Eth, LP, VIS...  "
      ]
     },
     "execution_count": 7,
     "metadata": {},
     "output_type": "execute_result"
    }
   ],
   "source": [
    "filtered_sessions = sessions[(sessions.sex == 'M') & \\\n",
    "                             (sessions.full_genotype.str.find('Sst') > -1) & \\\n",
    "                             (sessions.session_type == 'brain_observatory_1.1') & \\\n",
    "                             (['VISl' in acronyms for acronyms in \n",
    "                               sessions.ecephys_structure_acronyms])]\n",
    "\n",
    "filtered_sessions.head()"
   ]
  },
  {
   "cell_type": "markdown",
   "id": "b3fccb38",
   "metadata": {
    "papermill": {
     "duration": 0.009067,
     "end_time": "2023-02-08T09:15:20.034938",
     "exception": false,
     "start_time": "2023-02-08T09:15:20.025871",
     "status": "completed"
    },
    "pycharm": {
     "name": "#%% md\n"
    },
    "tags": []
   },
   "source": [
    "The `filtered_sessions` table contains the three sessions that meet these criteria.\n",
    "\n",
    "The code above uses standard syntax for filtering pandas DataFrames. If this is unfamiliar to you, we strongly recommend reading through the [pandas documentation](https://pandas.pydata.org/pandas-docs/stable/). The AllenSDK makes heavy use of pandas objects, so we don't have to come up with our own functions for working with tabular data.\n",
    "\n",
    "Let's take a look at another DataFrame, extracted from the `probes.csv` file."
   ]
  },
  {
   "cell_type": "code",
   "execution_count": 8,
   "id": "ea9c63b2",
   "metadata": {
    "execution": {
     "iopub.execute_input": "2023-02-08T09:15:20.052963Z",
     "iopub.status.busy": "2023-02-08T09:15:20.052339Z",
     "iopub.status.idle": "2023-02-08T09:15:20.930307Z",
     "shell.execute_reply": "2023-02-08T09:15:20.929683Z"
    },
    "papermill": {
     "duration": 0.888586,
     "end_time": "2023-02-08T09:15:20.931805",
     "exception": false,
     "start_time": "2023-02-08T09:15:20.043219",
     "status": "completed"
    },
    "pycharm": {
     "name": "#%%\n"
    },
    "tags": []
   },
   "outputs": [
    {
     "name": "stdout",
     "output_type": "stream",
     "text": [
      "Total number of probes: 332\n"
     ]
    },
    {
     "data": {
      "text/html": [
       "<div>\n",
       "<style scoped>\n",
       "    .dataframe tbody tr th:only-of-type {\n",
       "        vertical-align: middle;\n",
       "    }\n",
       "\n",
       "    .dataframe tbody tr th {\n",
       "        vertical-align: top;\n",
       "    }\n",
       "\n",
       "    .dataframe thead th {\n",
       "        text-align: right;\n",
       "    }\n",
       "</style>\n",
       "<table border=\"1\" class=\"dataframe\">\n",
       "  <thead>\n",
       "    <tr style=\"text-align: right;\">\n",
       "      <th></th>\n",
       "      <th>ecephys_session_id</th>\n",
       "      <th>lfp_sampling_rate</th>\n",
       "      <th>name</th>\n",
       "      <th>phase</th>\n",
       "      <th>sampling_rate</th>\n",
       "      <th>has_lfp_data</th>\n",
       "      <th>unit_count</th>\n",
       "      <th>channel_count</th>\n",
       "      <th>ecephys_structure_acronyms</th>\n",
       "    </tr>\n",
       "    <tr>\n",
       "      <th>id</th>\n",
       "      <th></th>\n",
       "      <th></th>\n",
       "      <th></th>\n",
       "      <th></th>\n",
       "      <th></th>\n",
       "      <th></th>\n",
       "      <th></th>\n",
       "      <th></th>\n",
       "      <th></th>\n",
       "    </tr>\n",
       "  </thead>\n",
       "  <tbody>\n",
       "    <tr>\n",
       "      <th>729445648</th>\n",
       "      <td>719161530</td>\n",
       "      <td>1249.998642</td>\n",
       "      <td>probeA</td>\n",
       "      <td>3a</td>\n",
       "      <td>29999.967418</td>\n",
       "      <td>True</td>\n",
       "      <td>87</td>\n",
       "      <td>374</td>\n",
       "      <td>[APN, LP, MB, DG, CA1, VISam, nan]</td>\n",
       "    </tr>\n",
       "    <tr>\n",
       "      <th>729445650</th>\n",
       "      <td>719161530</td>\n",
       "      <td>1249.996620</td>\n",
       "      <td>probeB</td>\n",
       "      <td>3a</td>\n",
       "      <td>29999.918880</td>\n",
       "      <td>True</td>\n",
       "      <td>202</td>\n",
       "      <td>368</td>\n",
       "      <td>[TH, Eth, APN, POL, LP, DG, CA1, VISpm, nan]</td>\n",
       "    </tr>\n",
       "    <tr>\n",
       "      <th>729445652</th>\n",
       "      <td>719161530</td>\n",
       "      <td>1249.999897</td>\n",
       "      <td>probeC</td>\n",
       "      <td>3a</td>\n",
       "      <td>29999.997521</td>\n",
       "      <td>True</td>\n",
       "      <td>207</td>\n",
       "      <td>373</td>\n",
       "      <td>[APN, NOT, MB, DG, SUB, VISp, nan]</td>\n",
       "    </tr>\n",
       "    <tr>\n",
       "      <th>729445654</th>\n",
       "      <td>719161530</td>\n",
       "      <td>1249.996707</td>\n",
       "      <td>probeD</td>\n",
       "      <td>3a</td>\n",
       "      <td>29999.920963</td>\n",
       "      <td>True</td>\n",
       "      <td>93</td>\n",
       "      <td>358</td>\n",
       "      <td>[grey, VL, CA3, CA2, CA1, VISl, nan]</td>\n",
       "    </tr>\n",
       "    <tr>\n",
       "      <th>729445656</th>\n",
       "      <td>719161530</td>\n",
       "      <td>1249.999979</td>\n",
       "      <td>probeE</td>\n",
       "      <td>3a</td>\n",
       "      <td>29999.999500</td>\n",
       "      <td>True</td>\n",
       "      <td>138</td>\n",
       "      <td>370</td>\n",
       "      <td>[PO, VPM, TH, LP, LGd, CA3, DG, CA1, VISal, nan]</td>\n",
       "    </tr>\n",
       "  </tbody>\n",
       "</table>\n",
       "</div>"
      ],
      "text/plain": [
       "           ecephys_session_id  lfp_sampling_rate    name phase  sampling_rate  \\\n",
       "id                                                                              \n",
       "729445648           719161530        1249.998642  probeA    3a   29999.967418   \n",
       "729445650           719161530        1249.996620  probeB    3a   29999.918880   \n",
       "729445652           719161530        1249.999897  probeC    3a   29999.997521   \n",
       "729445654           719161530        1249.996707  probeD    3a   29999.920963   \n",
       "729445656           719161530        1249.999979  probeE    3a   29999.999500   \n",
       "\n",
       "           has_lfp_data  unit_count  channel_count  \\\n",
       "id                                                   \n",
       "729445648          True          87            374   \n",
       "729445650          True         202            368   \n",
       "729445652          True         207            373   \n",
       "729445654          True          93            358   \n",
       "729445656          True         138            370   \n",
       "\n",
       "                                 ecephys_structure_acronyms  \n",
       "id                                                           \n",
       "729445648                [APN, LP, MB, DG, CA1, VISam, nan]  \n",
       "729445650      [TH, Eth, APN, POL, LP, DG, CA1, VISpm, nan]  \n",
       "729445652                [APN, NOT, MB, DG, SUB, VISp, nan]  \n",
       "729445654              [grey, VL, CA3, CA2, CA1, VISl, nan]  \n",
       "729445656  [PO, VPM, TH, LP, LGd, CA3, DG, CA1, VISal, nan]  "
      ]
     },
     "execution_count": 8,
     "metadata": {},
     "output_type": "execute_result"
    }
   ],
   "source": [
    "probes = cache.get_probes()\n",
    "\n",
    "print('Total number of probes: ' + str(len(probes)))\n",
    "\n",
    "probes.head()"
   ]
  },
  {
   "cell_type": "markdown",
   "id": "aa5218fc",
   "metadata": {
    "papermill": {
     "duration": 0.009014,
     "end_time": "2023-02-08T09:15:20.949830",
     "exception": false,
     "start_time": "2023-02-08T09:15:20.940816",
     "status": "completed"
    },
    "pycharm": {
     "name": "#%% md\n"
    },
    "tags": []
   },
   "source": [
    "The `probes` DataFrame contains information about the Neuropixels probes used across all recordings. Each row represents one probe from one recording session, even though the physical probes may have been used in multiple sessions. Some of the important columns are:\n",
    "\n",
    "- `ecephys_session_id`: the index column of the `sessions` table\n",
    "- `sampling_rate`: the sampling rate (in Hz) for this probe's spike band; note that each probe has a unique sampling rate around 30 kHz. The small variations in sampling rate across probes can add up to large offsets over time, so it's critical to take these differences into account. However, all of the data you will interact with has been pre-aligned to a common clock, so this value is included only for reference purposes.\n",
    "- `lfp_sampling_rate`: the sampling rate (in Hz) for this probe's LFP band NWB files, after 2x downsampling from the original rate of 2.5 kHz\n",
    "- `name`: the probe name is assigned based on the location of the probe on the recording rig. This is useful to keep in mind because probes with the same name are always targeted to the same cortical region and enter the brain from the same angle (`probeA` = AM, `probeB` = PM, `probeC` = V1, `probeD` = LM, `probeE` = AL, `probeF` = RL). However, the targeting is not always accurate, so the actual recorded region may be different.\n",
    "- `phase`: the data may have been generated by one of two \"phases\" of Neuropixels probes. **3a** = prototype version; **PXI** = publicly available version (\"Neuropixels 1.0\"). The two phases should be equivalent from the perspective of data analysis, but there may be differences in the noise characteristics between the two acquisition systems.\n",
    "- `channel_count`: the number of channels with spikes or LFP data (maximum = 384)\n",
    "\n",
    "The `channels.csv` file contains information about each of these channels."
   ]
  },
  {
   "cell_type": "code",
   "execution_count": 9,
   "id": "778ca4e5",
   "metadata": {
    "execution": {
     "iopub.execute_input": "2023-02-08T09:15:20.968426Z",
     "iopub.status.busy": "2023-02-08T09:15:20.967755Z",
     "iopub.status.idle": "2023-02-08T09:15:21.689559Z",
     "shell.execute_reply": "2023-02-08T09:15:21.688940Z"
    },
    "papermill": {
     "duration": 0.732965,
     "end_time": "2023-02-08T09:15:21.691302",
     "exception": false,
     "start_time": "2023-02-08T09:15:20.958337",
     "status": "completed"
    },
    "pycharm": {
     "name": "#%%\n"
    },
    "tags": []
   },
   "outputs": [
    {
     "name": "stdout",
     "output_type": "stream",
     "text": [
      "Total number of channels: 123224\n"
     ]
    },
    {
     "data": {
      "text/html": [
       "<div>\n",
       "<style scoped>\n",
       "    .dataframe tbody tr th:only-of-type {\n",
       "        vertical-align: middle;\n",
       "    }\n",
       "\n",
       "    .dataframe tbody tr th {\n",
       "        vertical-align: top;\n",
       "    }\n",
       "\n",
       "    .dataframe thead th {\n",
       "        text-align: right;\n",
       "    }\n",
       "</style>\n",
       "<table border=\"1\" class=\"dataframe\">\n",
       "  <thead>\n",
       "    <tr style=\"text-align: right;\">\n",
       "      <th></th>\n",
       "      <th>ecephys_probe_id</th>\n",
       "      <th>local_index</th>\n",
       "      <th>probe_horizontal_position</th>\n",
       "      <th>probe_vertical_position</th>\n",
       "      <th>anterior_posterior_ccf_coordinate</th>\n",
       "      <th>dorsal_ventral_ccf_coordinate</th>\n",
       "      <th>left_right_ccf_coordinate</th>\n",
       "      <th>ecephys_structure_id</th>\n",
       "      <th>ecephys_structure_acronym</th>\n",
       "      <th>ecephys_session_id</th>\n",
       "      <th>lfp_sampling_rate</th>\n",
       "      <th>phase</th>\n",
       "      <th>sampling_rate</th>\n",
       "      <th>has_lfp_data</th>\n",
       "      <th>unit_count</th>\n",
       "    </tr>\n",
       "    <tr>\n",
       "      <th>id</th>\n",
       "      <th></th>\n",
       "      <th></th>\n",
       "      <th></th>\n",
       "      <th></th>\n",
       "      <th></th>\n",
       "      <th></th>\n",
       "      <th></th>\n",
       "      <th></th>\n",
       "      <th></th>\n",
       "      <th></th>\n",
       "      <th></th>\n",
       "      <th></th>\n",
       "      <th></th>\n",
       "      <th></th>\n",
       "      <th></th>\n",
       "    </tr>\n",
       "  </thead>\n",
       "  <tbody>\n",
       "    <tr>\n",
       "      <th>849705558</th>\n",
       "      <td>792645504</td>\n",
       "      <td>1</td>\n",
       "      <td>11</td>\n",
       "      <td>20</td>\n",
       "      <td>8165.0</td>\n",
       "      <td>3314.0</td>\n",
       "      <td>6862.0</td>\n",
       "      <td>215.0</td>\n",
       "      <td>APN</td>\n",
       "      <td>779839471</td>\n",
       "      <td>1250.001479</td>\n",
       "      <td>3a</td>\n",
       "      <td>30000.035489</td>\n",
       "      <td>True</td>\n",
       "      <td>0</td>\n",
       "    </tr>\n",
       "    <tr>\n",
       "      <th>849705560</th>\n",
       "      <td>792645504</td>\n",
       "      <td>2</td>\n",
       "      <td>59</td>\n",
       "      <td>40</td>\n",
       "      <td>8162.0</td>\n",
       "      <td>3307.0</td>\n",
       "      <td>6866.0</td>\n",
       "      <td>215.0</td>\n",
       "      <td>APN</td>\n",
       "      <td>779839471</td>\n",
       "      <td>1250.001479</td>\n",
       "      <td>3a</td>\n",
       "      <td>30000.035489</td>\n",
       "      <td>True</td>\n",
       "      <td>0</td>\n",
       "    </tr>\n",
       "    <tr>\n",
       "      <th>849705562</th>\n",
       "      <td>792645504</td>\n",
       "      <td>3</td>\n",
       "      <td>27</td>\n",
       "      <td>40</td>\n",
       "      <td>8160.0</td>\n",
       "      <td>3301.0</td>\n",
       "      <td>6871.0</td>\n",
       "      <td>215.0</td>\n",
       "      <td>APN</td>\n",
       "      <td>779839471</td>\n",
       "      <td>1250.001479</td>\n",
       "      <td>3a</td>\n",
       "      <td>30000.035489</td>\n",
       "      <td>True</td>\n",
       "      <td>0</td>\n",
       "    </tr>\n",
       "    <tr>\n",
       "      <th>849705564</th>\n",
       "      <td>792645504</td>\n",
       "      <td>4</td>\n",
       "      <td>43</td>\n",
       "      <td>60</td>\n",
       "      <td>8157.0</td>\n",
       "      <td>3295.0</td>\n",
       "      <td>6875.0</td>\n",
       "      <td>215.0</td>\n",
       "      <td>APN</td>\n",
       "      <td>779839471</td>\n",
       "      <td>1250.001479</td>\n",
       "      <td>3a</td>\n",
       "      <td>30000.035489</td>\n",
       "      <td>True</td>\n",
       "      <td>0</td>\n",
       "    </tr>\n",
       "    <tr>\n",
       "      <th>849705566</th>\n",
       "      <td>792645504</td>\n",
       "      <td>5</td>\n",
       "      <td>11</td>\n",
       "      <td>60</td>\n",
       "      <td>8155.0</td>\n",
       "      <td>3288.0</td>\n",
       "      <td>6879.0</td>\n",
       "      <td>215.0</td>\n",
       "      <td>APN</td>\n",
       "      <td>779839471</td>\n",
       "      <td>1250.001479</td>\n",
       "      <td>3a</td>\n",
       "      <td>30000.035489</td>\n",
       "      <td>True</td>\n",
       "      <td>0</td>\n",
       "    </tr>\n",
       "  </tbody>\n",
       "</table>\n",
       "</div>"
      ],
      "text/plain": [
       "           ecephys_probe_id  local_index  probe_horizontal_position  \\\n",
       "id                                                                    \n",
       "849705558         792645504            1                         11   \n",
       "849705560         792645504            2                         59   \n",
       "849705562         792645504            3                         27   \n",
       "849705564         792645504            4                         43   \n",
       "849705566         792645504            5                         11   \n",
       "\n",
       "           probe_vertical_position  anterior_posterior_ccf_coordinate  \\\n",
       "id                                                                      \n",
       "849705558                       20                             8165.0   \n",
       "849705560                       40                             8162.0   \n",
       "849705562                       40                             8160.0   \n",
       "849705564                       60                             8157.0   \n",
       "849705566                       60                             8155.0   \n",
       "\n",
       "           dorsal_ventral_ccf_coordinate  left_right_ccf_coordinate  \\\n",
       "id                                                                    \n",
       "849705558                         3314.0                     6862.0   \n",
       "849705560                         3307.0                     6866.0   \n",
       "849705562                         3301.0                     6871.0   \n",
       "849705564                         3295.0                     6875.0   \n",
       "849705566                         3288.0                     6879.0   \n",
       "\n",
       "           ecephys_structure_id ecephys_structure_acronym  ecephys_session_id  \\\n",
       "id                                                                              \n",
       "849705558                 215.0                       APN           779839471   \n",
       "849705560                 215.0                       APN           779839471   \n",
       "849705562                 215.0                       APN           779839471   \n",
       "849705564                 215.0                       APN           779839471   \n",
       "849705566                 215.0                       APN           779839471   \n",
       "\n",
       "           lfp_sampling_rate phase  sampling_rate  has_lfp_data  unit_count  \n",
       "id                                                                           \n",
       "849705558        1250.001479    3a   30000.035489          True           0  \n",
       "849705560        1250.001479    3a   30000.035489          True           0  \n",
       "849705562        1250.001479    3a   30000.035489          True           0  \n",
       "849705564        1250.001479    3a   30000.035489          True           0  \n",
       "849705566        1250.001479    3a   30000.035489          True           0  "
      ]
     },
     "execution_count": 9,
     "metadata": {},
     "output_type": "execute_result"
    }
   ],
   "source": [
    "channels = cache.get_channels()\n",
    "\n",
    "print('Total number of channels: ' + str(len(channels)))\n",
    "\n",
    "channels.head()"
   ]
  },
  {
   "cell_type": "markdown",
   "id": "1d1695dd",
   "metadata": {
    "papermill": {
     "duration": 0.009157,
     "end_time": "2023-02-08T09:15:21.709800",
     "exception": false,
     "start_time": "2023-02-08T09:15:21.700643",
     "status": "completed"
    },
    "pycharm": {
     "name": "#%% md\n"
    },
    "tags": []
   },
   "source": [
    "The most important columns in the `channels` DataFrame concern each channel's location in physical space. Each channel is associated with a location along the probe shank (`probe_horizontal_position` and `probe_vertical_position`), and may be linked to a coordinate in the Allen Common Coordinate framework (if CCF registration is available for that probe).\n",
    "\n",
    "The information about channel location will be merged into the `units` DataFrame, which is loaded from `units.csv`:"
   ]
  },
  {
   "cell_type": "code",
   "execution_count": 10,
   "id": "da0f9e7b",
   "metadata": {
    "execution": {
     "iopub.execute_input": "2023-02-08T09:15:21.728946Z",
     "iopub.status.busy": "2023-02-08T09:15:21.728267Z",
     "iopub.status.idle": "2023-02-08T09:15:22.332765Z",
     "shell.execute_reply": "2023-02-08T09:15:22.332008Z"
    },
    "papermill": {
     "duration": 0.615772,
     "end_time": "2023-02-08T09:15:22.334329",
     "exception": false,
     "start_time": "2023-02-08T09:15:21.718557",
     "status": "completed"
    },
    "pycharm": {
     "name": "#%%\n"
    },
    "tags": []
   },
   "outputs": [
    {
     "name": "stdout",
     "output_type": "stream",
     "text": [
      "Total number of units: 40010\n"
     ]
    }
   ],
   "source": [
    "units = cache.get_units()\n",
    "\n",
    "print('Total number of units: ' + str(len(units)))"
   ]
  },
  {
   "cell_type": "markdown",
   "id": "6b30f0d3",
   "metadata": {
    "papermill": {
     "duration": 0.009388,
     "end_time": "2023-02-08T09:15:22.353001",
     "exception": false,
     "start_time": "2023-02-08T09:15:22.343613",
     "status": "completed"
    },
    "pycharm": {
     "name": "#%% md\n"
    },
    "tags": []
   },
   "source": [
    "This DataFrame contains metadata about the available units across all sessions. By default, the AllenSDK applies some filters to this table and only returns units above a particular quality threshold.\n",
    "\n",
    "The default filter values are as follows:\n",
    "\n",
    "- `isi_violations` < 0.5\n",
    "- `amplitude_cutoff` < 0.1\n",
    "- `presence_ratio` > 0.9\n",
    "\n",
    "For more information about these quality metrics and how to interpret them, please refer to [this tutorial](./ecephys_quality_metrics.ipynb).\n",
    "\n",
    "If you want to see _all_ of the available units, it's straightfoward to disable the quality metrics filters when retrieving this table: "
   ]
  },
  {
   "cell_type": "code",
   "execution_count": 11,
   "id": "298e9bca",
   "metadata": {
    "execution": {
     "iopub.execute_input": "2023-02-08T09:15:22.373073Z",
     "iopub.status.busy": "2023-02-08T09:15:22.371635Z",
     "iopub.status.idle": "2023-02-08T09:15:23.071586Z",
     "shell.execute_reply": "2023-02-08T09:15:23.070624Z"
    },
    "papermill": {
     "duration": 0.711388,
     "end_time": "2023-02-08T09:15:23.073257",
     "exception": false,
     "start_time": "2023-02-08T09:15:22.361869",
     "status": "completed"
    },
    "pycharm": {
     "name": "#%%\n"
    },
    "tags": []
   },
   "outputs": [
    {
     "name": "stdout",
     "output_type": "stream",
     "text": [
      "Total number of units: 99180\n"
     ]
    }
   ],
   "source": [
    "units = cache.get_units(amplitude_cutoff_maximum = np.inf,\n",
    "                        presence_ratio_minimum = -np.inf,\n",
    "                        isi_violations_maximum = np.inf)\n",
    "\n",
    "print('Total number of units: ' + str(len(units)))"
   ]
  },
  {
   "cell_type": "markdown",
   "id": "500cf35c",
   "metadata": {
    "papermill": {
     "duration": 0.008937,
     "end_time": "2023-02-08T09:15:23.091588",
     "exception": false,
     "start_time": "2023-02-08T09:15:23.082651",
     "status": "completed"
    },
    "pycharm": {
     "name": "#%% md\n"
    },
    "tags": []
   },
   "source": [
    "As you can see, the number of units has increased substantially, but some fraction of these units will be incomplete or highly contaminated. Understanding the meaning of these metrics is a critical part of analyzing the Neuropixels dataset, so we strongly recommend learning how to interpret them correctly.\n",
    "\n",
    "In addition to the quality metrics, there are a number of stimulus-specific metrics that are computed for each unit. These are not downloaded by default, but are accessed via a separate SDK function:"
   ]
  },
  {
   "cell_type": "code",
   "execution_count": 12,
   "id": "f2f1e0dc",
   "metadata": {
    "execution": {
     "iopub.execute_input": "2023-02-08T09:15:23.110798Z",
     "iopub.status.busy": "2023-02-08T09:15:23.110317Z",
     "iopub.status.idle": "2023-02-08T09:18:07.421949Z",
     "shell.execute_reply": "2023-02-08T09:18:07.421373Z"
    },
    "papermill": {
     "duration": 164.331831,
     "end_time": "2023-02-08T09:18:07.432353",
     "exception": false,
     "start_time": "2023-02-08T09:15:23.100522",
     "status": "completed"
    },
    "pycharm": {
     "name": "#%%\n"
    },
    "tags": []
   },
   "outputs": [
    {
     "name": "stdout",
     "output_type": "stream",
     "text": [
      "21842 units in table 1\n",
      "18168 units in table 2\n"
     ]
    }
   ],
   "source": [
    "analysis_metrics1 = cache.get_unit_analysis_metrics_by_session_type('brain_observatory_1.1')\n",
    "\n",
    "analysis_metrics2 = cache.get_unit_analysis_metrics_by_session_type('functional_connectivity')\n",
    "\n",
    "print(str(len(analysis_metrics1)) + ' units in table 1')\n",
    "print(str(len(analysis_metrics2)) + ' units in table 2')"
   ]
  },
  {
   "cell_type": "markdown",
   "id": "a1a54275",
   "metadata": {
    "papermill": {
     "duration": 0.008959,
     "end_time": "2023-02-08T09:18:07.450448",
     "exception": false,
     "start_time": "2023-02-08T09:18:07.441489",
     "status": "completed"
    },
    "pycharm": {
     "name": "#%% md\n"
    },
    "tags": []
   },
   "source": [
    "This will download two additional files, `brain_observatory_1.1_analysis_metrics.csv` and `functional_connectivity_analysis_metrics.csv`, and load them as pandas DataFrames. Note that the total length of these DataFrames is around 40k units, because the default quality metric thresholds have been applied.\n",
    "\n",
    "To load _all_ of the available units, and create one giant table of metrics, you can use the following code:"
   ]
  },
  {
   "cell_type": "code",
   "execution_count": 13,
   "id": "0d1953e2",
   "metadata": {
    "execution": {
     "iopub.execute_input": "2023-02-08T09:18:07.469915Z",
     "iopub.status.busy": "2023-02-08T09:18:07.469277Z",
     "iopub.status.idle": "2023-02-08T09:18:11.477239Z",
     "shell.execute_reply": "2023-02-08T09:18:11.476663Z"
    },
    "papermill": {
     "duration": 4.019488,
     "end_time": "2023-02-08T09:18:11.478913",
     "exception": false,
     "start_time": "2023-02-08T09:18:07.459425",
     "status": "completed"
    },
    "pycharm": {
     "name": "#%%\n"
    },
    "tags": []
   },
   "outputs": [
    {
     "name": "stdout",
     "output_type": "stream",
     "text": [
      "99180 units overall\n"
     ]
    }
   ],
   "source": [
    "analysis_metrics1 = cache.get_unit_analysis_metrics_by_session_type('brain_observatory_1.1', amplitude_cutoff_maximum = np.inf,\n",
    "                                                          presence_ratio_minimum = -np.inf,\n",
    "                                                          isi_violations_maximum = np.inf)\n",
    "\n",
    "analysis_metrics2 = cache.get_unit_analysis_metrics_by_session_type('functional_connectivity', amplitude_cutoff_maximum = np.inf,\n",
    "                                                          presence_ratio_minimum = -np.inf,\n",
    "                                                          isi_violations_maximum = np.inf)\n",
    "\n",
    "all_metrics = pd.concat([analysis_metrics1, analysis_metrics2], sort=False)\n",
    "\n",
    "print(str(len(all_metrics)) + ' units overall')"
   ]
  },
  {
   "cell_type": "markdown",
   "id": "115b9769",
   "metadata": {
    "papermill": {
     "duration": 0.009254,
     "end_time": "2023-02-08T09:18:11.497708",
     "exception": false,
     "start_time": "2023-02-08T09:18:11.488454",
     "status": "completed"
    },
    "pycharm": {
     "name": "#%% md\n"
    },
    "tags": []
   },
   "source": [
    "The length of this DataFrame should match that of the `units` DataFrame we retrieved earlier. A few things to note about this DataFrame:\n",
    "\n",
    "- The unit analysis metrics DataFrame _also_ includes all quality metrics, so it's a superset of the `units` DataFrame\n",
    "- Since some of the stimuli in the `brain_observatory_1.1` session are not present in the `functional_connectivity` session, many of the data points in the unit analysis metrics DataFrame will be filled with `nan` values"
   ]
  },
  {
   "cell_type": "markdown",
   "id": "d8375233",
   "metadata": {
    "papermill": {
     "duration": 0.008969,
     "end_time": "2023-02-08T09:18:11.515707",
     "exception": false,
     "start_time": "2023-02-08T09:18:11.506738",
     "status": "completed"
    },
    "pycharm": {
     "name": "#%% md\n"
    },
    "tags": []
   },
   "source": [
    "### Accessing data for individual sessions\n",
    "\n",
    "Assuming you've found a session you're interested in analyzing in more detail, it's now time to download the data. This is as simple as calling `cache.get_session_data()`, with the `session_id` as input. This method will check the cache for an existing NWB file and, if it's not present, will automatically download it for you.\n",
    "\n",
    "Each NWB file can be upwards of 2 GB, so please be patient while it's downloading!\n",
    "\n",
    "As an example, let's look at one of the sessions we selected earlier, disabling the default unit quality metrics filters:"
   ]
  },
  {
   "cell_type": "code",
   "execution_count": 14,
   "id": "681dff74",
   "metadata": {
    "execution": {
     "iopub.execute_input": "2023-02-08T09:18:11.535635Z",
     "iopub.status.busy": "2023-02-08T09:18:11.534871Z",
     "iopub.status.idle": "2023-02-08T09:20:29.596076Z",
     "shell.execute_reply": "2023-02-08T09:20:29.595315Z"
    },
    "papermill": {
     "duration": 138.073093,
     "end_time": "2023-02-08T09:20:29.597806",
     "exception": false,
     "start_time": "2023-02-08T09:18:11.524713",
     "status": "completed"
    },
    "pycharm": {
     "name": "#%%\n"
    },
    "tags": []
   },
   "outputs": [
    {
     "name": "stderr",
     "output_type": "stream",
     "text": [
      "WARNING:root:downloading a 2723.916MiB file from http://api.brain-map.org//api/v2/well_known_file_download/1026124469\n",
      "Downloading: 100%|██████████| 2.86G/2.86G [02:15<00:00, 21.1MB/s]\n"
     ]
    },
    {
     "name": "stdout",
     "output_type": "stream",
     "text": [
      "['DETAILED_STIMULUS_PARAMETERS', 'LazyProperty', 'age_in_days', 'api', 'channel_structure_intervals', 'channels', 'conditionwise_spike_statistics', 'ecephys_session_id', 'from_nwb_path', 'full_genotype', 'get_current_source_density', 'get_inter_presentation_intervals_for_stimulus', 'get_invalid_times', 'get_lfp', 'get_parameter_values_for_stimulus', 'get_pupil_data', 'get_screen_gaze_data', 'get_stimulus_epochs', 'get_stimulus_parameter_values', 'get_stimulus_table', 'inter_presentation_intervals', 'invalid_times', 'mean_waveforms', 'metadata', 'num_channels', 'num_probes', 'num_stimulus_presentations', 'num_units', 'optogenetic_stimulation_epochs', 'presentationwise_spike_counts', 'presentationwise_spike_times', 'probes', 'rig_equipment_name', 'rig_geometry_data', 'running_speed', 'session_start_time', 'session_type', 'sex', 'specimen_name', 'spike_amplitudes', 'spike_times', 'stimulus_conditions', 'stimulus_names', 'stimulus_presentations', 'structure_acronyms', 'structurewise_unit_counts', 'units']\n"
     ]
    }
   ],
   "source": [
    "session = cache.get_session_data(filtered_sessions.index.values[0],\n",
    "                                 isi_violations_maximum = np.inf,\n",
    "                                 amplitude_cutoff_maximum = np.inf,\n",
    "                                 presence_ratio_minimum = -np.inf\n",
    "                                )\n",
    "\n",
    "print([attr_or_method for attr_or_method in dir(session) if attr_or_method[0] != '_'])"
   ]
  },
  {
   "cell_type": "markdown",
   "id": "7f7a129c",
   "metadata": {
    "papermill": {
     "duration": 0.058459,
     "end_time": "2023-02-08T09:20:29.715742",
     "exception": false,
     "start_time": "2023-02-08T09:20:29.657283",
     "status": "completed"
    },
    "pycharm": {
     "name": "#%% md\n"
    },
    "tags": []
   },
   "source": [
    "As you can see, the `session` object has a lot of attributes and methods that can be used to access the underlying data in the NWB file. Most of these will be touched on in other tutorials, but for now we will look at the only one that is capable of triggering additional data downloads, `get_lfp()`.\n",
    "\n",
    "In general, each NWB file is meant to be a self-contained repository of data for one recording session. However, for the Neuropixels data, we've broken with convention a bit in order to store LFP data in separate files. If we hadn't done this, analyzing one session would require an initial 15 GB file download. Now, the session is broken up in to ~2 GB chunks..\n",
    "\n",
    "Once you have created a `session` object, downloading the LFP data is simple (but may be slow):"
   ]
  },
  {
   "cell_type": "code",
   "execution_count": 15,
   "id": "6fd47ae4",
   "metadata": {
    "execution": {
     "iopub.execute_input": "2023-02-08T09:20:29.835463Z",
     "iopub.status.busy": "2023-02-08T09:20:29.834983Z",
     "iopub.status.idle": "2023-02-08T09:22:35.400173Z",
     "shell.execute_reply": "2023-02-08T09:22:35.352575Z"
    },
    "papermill": {
     "duration": 125.701571,
     "end_time": "2023-02-08T09:22:35.476272",
     "exception": false,
     "start_time": "2023-02-08T09:20:29.774701",
     "status": "completed"
    },
    "pycharm": {
     "name": "#%%\n"
    },
    "tags": []
   },
   "outputs": [
    {
     "name": "stderr",
     "output_type": "stream",
     "text": [
      "WARNING:root:downloading a 1967.383MiB file from http://api.brain-map.org//api/v2/well_known_file_download/1026124481\n",
      "Downloading: 100%|██████████| 2.06G/2.06G [01:19<00:00, 25.9MB/s]\n"
     ]
    }
   ],
   "source": [
    "probe_id = session.probes.index.values[0]\n",
    "\n",
    "lfp = session.get_lfp(probe_id)"
   ]
  },
  {
   "cell_type": "markdown",
   "id": "adfd255a",
   "metadata": {
    "papermill": {
     "duration": 0.099163,
     "end_time": "2023-02-08T09:22:35.889123",
     "exception": false,
     "start_time": "2023-02-08T09:22:35.789960",
     "status": "completed"
    },
    "pycharm": {
     "name": "#%% md\n"
    },
    "tags": []
   },
   "source": [
    "Tips for analyzing LFP data can be found in [this tutorial](./ecephys_lfp_analysis.ipynb)."
   ]
  },
  {
   "cell_type": "markdown",
   "id": "9b0aeb80",
   "metadata": {
    "papermill": {
     "duration": 0.095714,
     "end_time": "2023-02-08T09:22:36.084104",
     "exception": false,
     "start_time": "2023-02-08T09:22:35.988390",
     "status": "completed"
    },
    "pycharm": {
     "name": "#%% md\n"
    },
    "tags": []
   },
   "source": [
    "### Downloading the complete dataset\n",
    "\n",
    "Analyzing one session at a time is nice, but in many case you'll want to be able to query across the whole dataset. To fill your cache with all available data, you can use a `for` loop like the one below. Note that we've added some checks to ensure that the complete file is present, in case the download has been interrupted due to an unreliable connection.\n",
    "\n",
    "Before running this code, please make sure that you have enough space available in your cache directory. You'll need around 855 GB for the whole dataset, and 147 GB if you're not downloading the LFP data files."
   ]
  },
  {
   "cell_type": "code",
   "execution_count": 16,
   "id": "edc422b4",
   "metadata": {
    "execution": {
     "iopub.execute_input": "2023-02-08T09:22:37.347946Z",
     "iopub.status.busy": "2023-02-08T09:22:37.339358Z",
     "iopub.status.idle": "2023-02-08T09:22:37.511938Z",
     "shell.execute_reply": "2023-02-08T09:22:37.511275Z"
    },
    "papermill": {
     "duration": 0.341771,
     "end_time": "2023-02-08T09:22:37.514387",
     "exception": false,
     "start_time": "2023-02-08T09:22:37.172616",
     "status": "completed"
    },
    "pycharm": {
     "name": "#%%\n"
    },
    "tags": []
   },
   "outputs": [],
   "source": [
    "if DOWNLOAD_COMPLETE_DATASET:\n",
    "    for session_id, row in sessions.iterrows():\n",
    "\n",
    "        truncated_file = True\n",
    "        directory = os.path.join(output_dir + '/session_' + str(session_id))\n",
    "\n",
    "        while truncated_file:\n",
    "            session = cache.get_session_data(session_id)\n",
    "            try:\n",
    "                print(session.specimen_name)\n",
    "                truncated_file = False\n",
    "            except OSError:\n",
    "                shutil.rmtree(directory)\n",
    "                print(\" Truncated spikes file, re-downloading\")\n",
    "\n",
    "        for probe_id, probe in session.probes.iterrows():\n",
    "\n",
    "            print(' ' + probe.description)\n",
    "            truncated_lfp = True\n",
    "\n",
    "            while truncated_lfp:\n",
    "                try:\n",
    "                    lfp = session.get_lfp(probe_id)\n",
    "                    truncated_lfp = False\n",
    "                except OSError:\n",
    "                    fname = directory + '/probe_' + str(probe_id) + '_lfp.nwb'\n",
    "                    os.remove(fname)\n",
    "                    print(\"  Truncated LFP file, re-downloading\")\n",
    "                except ValueError:\n",
    "                    print(\"  LFP file not found.\")\n",
    "                    truncated_lfp = False"
   ]
  },
  {
   "cell_type": "markdown",
   "id": "58e81eff",
   "metadata": {
    "papermill": {
     "duration": 0.097118,
     "end_time": "2023-02-08T09:22:37.708944",
     "exception": false,
     "start_time": "2023-02-08T09:22:37.611826",
     "status": "completed"
    },
    "pycharm": {
     "name": "#%% md\n"
    },
    "tags": []
   },
   "source": [
    "## Accessing data on AWS"
   ]
  },
  {
   "cell_type": "markdown",
   "id": "53339a6d",
   "metadata": {
    "papermill": {
     "duration": 0.095832,
     "end_time": "2023-02-08T09:22:37.900573",
     "exception": false,
     "start_time": "2023-02-08T09:22:37.804741",
     "status": "completed"
    },
    "pycharm": {
     "name": "#%% md\n"
    },
    "tags": []
   },
   "source": [
    "If you want to analyze the data without downloading anything to your local machine, you can use the AllenSDK on AWS.\n",
    "\n",
    "Follow [these instructions](https://github.com/AllenInstitute/AllenSDK/wiki/Use-the-Allen-Brain-Observatory-%E2%80%93-Visual-Coding-on-AWS) to launch a Jupyter notebook. Then, simply point to the existing manifest file in the Allen Institute's S3 bucket, and all of the data will be immediately available:"
   ]
  },
  {
   "cell_type": "code",
   "execution_count": 17,
   "id": "d4ae45de",
   "metadata": {
    "execution": {
     "iopub.execute_input": "2023-02-08T09:22:38.094494Z",
     "iopub.status.busy": "2023-02-08T09:22:38.093949Z",
     "iopub.status.idle": "2023-02-08T09:22:38.137639Z",
     "shell.execute_reply": "2023-02-08T09:22:38.137012Z"
    },
    "papermill": {
     "duration": 0.143322,
     "end_time": "2023-02-08T09:22:38.139505",
     "exception": false,
     "start_time": "2023-02-08T09:22:37.996183",
     "status": "completed"
    },
    "pycharm": {
     "name": "#%%\n"
    },
    "tags": []
   },
   "outputs": [],
   "source": [
    "cache = EcephysProjectCache(manifest=manifest_path)"
   ]
  },
  {
   "cell_type": "markdown",
   "id": "33b55412",
   "metadata": {
    "papermill": {
     "duration": 0.095417,
     "end_time": "2023-02-08T09:22:38.330399",
     "exception": false,
     "start_time": "2023-02-08T09:22:38.234982",
     "status": "completed"
    },
    "pycharm": {
     "name": "#%% md\n"
    },
    "tags": []
   },
   "source": [
    "Once your cache is initialized, you can create the `sessions` table, load individual `session` objects, and access LFP data using the same commands described above.\n",
    "\n",
    "Additional tutorials specific to using AWS are coming soon."
   ]
  },
  {
   "cell_type": "markdown",
   "id": "bbf77a21",
   "metadata": {
    "papermill": {
     "duration": 0.095734,
     "end_time": "2023-02-08T09:22:38.521654",
     "exception": false,
     "start_time": "2023-02-08T09:22:38.425920",
     "status": "completed"
    },
    "pycharm": {
     "name": "#%% md\n"
    },
    "tags": []
   },
   "source": [
    "## Direct download via api.brain-map.org"
   ]
  },
  {
   "cell_type": "markdown",
   "id": "434220ac",
   "metadata": {
    "papermill": {
     "duration": 0.095098,
     "end_time": "2023-02-08T09:22:38.712571",
     "exception": false,
     "start_time": "2023-02-08T09:22:38.617473",
     "status": "completed"
    },
    "pycharm": {
     "name": "#%% md\n"
    },
    "tags": []
   },
   "source": [
    "Some people have reported issues downloading the files via the AllenSDK (the connection is extremely slow, or gets interrupted frequently). If this applies to you, you can try downloading the files via HTTP requests sent to **api.brain-map.org**. This approach is not recommended, because you will have to manually keep track of the file locations. But if you're doing analysis that doesn't depend on the AllenSDK (e.g., in Matlab), this may not matter to you.\n",
    "\n",
    "You can follow the steps below to retrieve the URLs for all of the NWB files in this dataset."
   ]
  },
  {
   "cell_type": "code",
   "execution_count": 18,
   "id": "51c15b73",
   "metadata": {
    "execution": {
     "iopub.execute_input": "2023-02-08T09:22:38.907742Z",
     "iopub.status.busy": "2023-02-08T09:22:38.907225Z",
     "iopub.status.idle": "2023-02-08T09:22:38.922977Z",
     "shell.execute_reply": "2023-02-08T09:22:38.922322Z"
    },
    "papermill": {
     "duration": 0.119212,
     "end_time": "2023-02-08T09:22:38.927408",
     "exception": false,
     "start_time": "2023-02-08T09:22:38.808196",
     "status": "completed"
    },
    "pycharm": {
     "name": "#%%\n"
    },
    "tags": []
   },
   "outputs": [],
   "source": [
    "from allensdk.brain_observatory.ecephys.ecephys_project_api.utilities import build_and_execute\n",
    "from allensdk.brain_observatory.ecephys.ecephys_project_api.rma_engine import RmaEngine\n",
    "from allensdk.brain_observatory.ecephys.ecephys_project_cache import EcephysProjectCache\n",
    "\n",
    "rma_engine = RmaEngine(scheme=\"http\", host=\"api.brain-map.org\")"
   ]
  },
  {
   "cell_type": "code",
   "execution_count": 19,
   "id": "49fdecb5",
   "metadata": {
    "execution": {
     "iopub.execute_input": "2023-02-08T09:22:39.122852Z",
     "iopub.status.busy": "2023-02-08T09:22:39.122304Z",
     "iopub.status.idle": "2023-02-08T09:22:41.805924Z",
     "shell.execute_reply": "2023-02-08T09:22:41.805253Z"
    },
    "papermill": {
     "duration": 2.784182,
     "end_time": "2023-02-08T09:22:41.807858",
     "exception": false,
     "start_time": "2023-02-08T09:22:39.023676",
     "status": "completed"
    },
    "pycharm": {
     "name": "#%%\n"
    },
    "tags": []
   },
   "outputs": [],
   "source": [
    "cache = EcephysProjectCache.from_warehouse(manifest=manifest_path)\n",
    "\n",
    "sessions = cache.get_session_table()"
   ]
  },
  {
   "cell_type": "code",
   "execution_count": 20,
   "id": "71ed43a0",
   "metadata": {
    "execution": {
     "iopub.execute_input": "2023-02-08T09:22:42.031770Z",
     "iopub.status.busy": "2023-02-08T09:22:42.031054Z",
     "iopub.status.idle": "2023-02-08T09:22:47.823156Z",
     "shell.execute_reply": "2023-02-08T09:22:47.822502Z"
    },
    "papermill": {
     "duration": 5.89218,
     "end_time": "2023-02-08T09:22:47.824820",
     "exception": false,
     "start_time": "2023-02-08T09:22:41.932640",
     "status": "completed"
    },
    "pycharm": {
     "name": "#%%\n"
    },
    "tags": []
   },
   "outputs": [
    {
     "name": "stdout",
     "output_type": "stream",
     "text": [
      "http://api.brain-map.org//api/v2/well_known_file_download/1026124469\n",
      "http://api.brain-map.org//api/v2/well_known_file_download/1026124034\n",
      "http://api.brain-map.org//api/v2/well_known_file_download/1026123696\n",
      "http://api.brain-map.org//api/v2/well_known_file_download/1026123599\n",
      "http://api.brain-map.org//api/v2/well_known_file_download/1026123989\n",
      "http://api.brain-map.org//api/v2/well_known_file_download/1026123897\n",
      "http://api.brain-map.org//api/v2/well_known_file_download/1026123964\n",
      "http://api.brain-map.org//api/v2/well_known_file_download/1026124068\n",
      "http://api.brain-map.org//api/v2/well_known_file_download/1026124429\n",
      "http://api.brain-map.org//api/v2/well_known_file_download/1026124262\n",
      "http://api.brain-map.org//api/v2/well_known_file_download/1026124724\n",
      "http://api.brain-map.org//api/v2/well_known_file_download/1026124242\n",
      "http://api.brain-map.org//api/v2/well_known_file_download/1026124863\n",
      "http://api.brain-map.org//api/v2/well_known_file_download/1026123537\n",
      "http://api.brain-map.org//api/v2/well_known_file_download/1026124326\n",
      "http://api.brain-map.org//api/v2/well_known_file_download/1026124684\n",
      "http://api.brain-map.org//api/v2/well_known_file_download/1026124216\n",
      "http://api.brain-map.org//api/v2/well_known_file_download/1026124603\n",
      "http://api.brain-map.org//api/v2/well_known_file_download/1026123685\n",
      "http://api.brain-map.org//api/v2/well_known_file_download/1026123877\n",
      "http://api.brain-map.org//api/v2/well_known_file_download/1026123377\n",
      "http://api.brain-map.org//api/v2/well_known_file_download/1026123651\n",
      "http://api.brain-map.org//api/v2/well_known_file_download/1026124702\n",
      "http://api.brain-map.org//api/v2/well_known_file_download/1026124793\n",
      "http://api.brain-map.org//api/v2/well_known_file_download/1026124884\n",
      "http://api.brain-map.org//api/v2/well_known_file_download/1026124569\n",
      "http://api.brain-map.org//api/v2/well_known_file_download/1026124500\n",
      "http://api.brain-map.org//api/v2/well_known_file_download/1026124293\n",
      "http://api.brain-map.org//api/v2/well_known_file_download/1026124194\n",
      "http://api.brain-map.org//api/v2/well_known_file_download/1026124517\n",
      "http://api.brain-map.org//api/v2/well_known_file_download/1026124918\n",
      "http://api.brain-map.org//api/v2/well_known_file_download/1026124152\n",
      "http://api.brain-map.org//api/v2/well_known_file_download/1026124109\n",
      "http://api.brain-map.org//api/v2/well_known_file_download/1026124348\n",
      "http://api.brain-map.org//api/v2/well_known_file_download/1026124625\n",
      "http://api.brain-map.org//api/v2/well_known_file_download/1026124179\n",
      "http://api.brain-map.org//api/v2/well_known_file_download/1026124007\n",
      "http://api.brain-map.org//api/v2/well_known_file_download/1026124309\n",
      "http://api.brain-map.org//api/v2/well_known_file_download/1026123803\n",
      "http://api.brain-map.org//api/v2/well_known_file_download/1026124405\n",
      "http://api.brain-map.org//api/v2/well_known_file_download/1026123847\n",
      "http://api.brain-map.org//api/v2/well_known_file_download/1026124645\n",
      "http://api.brain-map.org//api/v2/well_known_file_download/1026124545\n",
      "http://api.brain-map.org//api/v2/well_known_file_download/1026124759\n",
      "http://api.brain-map.org//api/v2/well_known_file_download/1026124804\n",
      "http://api.brain-map.org//api/v2/well_known_file_download/1026124743\n",
      "http://api.brain-map.org//api/v2/well_known_file_download/1026125021\n",
      "http://api.brain-map.org//api/v2/well_known_file_download/1026124840\n",
      "http://api.brain-map.org//api/v2/well_known_file_download/1026124085\n",
      "http://api.brain-map.org//api/v2/well_known_file_download/1026124368\n",
      "http://api.brain-map.org//api/v2/well_known_file_download/1026123824\n",
      "http://api.brain-map.org//api/v2/well_known_file_download/1026123625\n",
      "http://api.brain-map.org//api/v2/well_known_file_download/1026123787\n",
      "http://api.brain-map.org//api/v2/well_known_file_download/1026123519\n",
      "http://api.brain-map.org//api/v2/well_known_file_download/1026123725\n",
      "http://api.brain-map.org//api/v2/well_known_file_download/1026122596\n",
      "http://api.brain-map.org//api/v2/well_known_file_download/1026124422\n",
      "http://api.brain-map.org//api/v2/well_known_file_download/1026123943\n"
     ]
    }
   ],
   "source": [
    "def retrieve_link(session_id):\n",
    "    \n",
    "    well_known_files = build_and_execute(\n",
    "        (\n",
    "        \"criteria=model::WellKnownFile\"\n",
    "        \",rma::criteria,well_known_file_type[name$eq'EcephysNwb']\"\n",
    "        \"[attachable_type$eq'EcephysSession']\"\n",
    "        r\"[attachable_id$eq{{session_id}}]\"\n",
    "        ),\n",
    "        engine=rma_engine.get_rma_tabular, \n",
    "        session_id=session_id\n",
    "    )\n",
    "    \n",
    "    return 'http://api.brain-map.org/' + well_known_files['download_link'].iloc[0]\n",
    "\n",
    "download_links = [retrieve_link(session_id) for session_id in sessions.index.values]\n",
    "\n",
    "_ = [print(link) for link in download_links]"
   ]
  },
  {
   "cell_type": "markdown",
   "id": "48f4fbba",
   "metadata": {
    "papermill": {
     "duration": 0.096026,
     "end_time": "2023-02-08T09:22:48.017558",
     "exception": false,
     "start_time": "2023-02-08T09:22:47.921532",
     "status": "completed"
    },
    "pycharm": {
     "name": "#%% md\n"
    },
    "tags": []
   },
   "source": [
    "`download_links` is a list of 58 links that can be used to download the NWB files for all available sessions. Clicking on the links above should start the download automatically.\n",
    "\n",
    "Please keep in mind that you'll have to move these files to the appropriate sub-directory once the download is complete. The `EcephysProjectCache` object expects the following directory structure:\n",
    "\n",
    "```\n",
    "cache_dir/\n",
    "+-- manifest.json               \n",
    "+-- session_<id>/    \n",
    "¦   +-- session_<id>.nwb\n",
    "+-- session_<id>/\n",
    "¦   +-- session_<id>.nwb\n",
    "+-- session_<id>/\n",
    "¦   +-- session_<id>.nwb\n",
    "\n",
    "```\n",
    "\n",
    "If you aren't interested in using the `EcephysProjectCache` object to keep track of what you've downloaded, you can create a `session` object just by passing a path to an NWB file:"
   ]
  },
  {
   "cell_type": "code",
   "execution_count": 21,
   "id": "19129285",
   "metadata": {
    "execution": {
     "iopub.execute_input": "2023-02-08T09:22:48.210430Z",
     "iopub.status.busy": "2023-02-08T09:22:48.209979Z",
     "iopub.status.idle": "2023-02-08T09:22:48.214801Z",
     "shell.execute_reply": "2023-02-08T09:22:48.214285Z"
    },
    "papermill": {
     "duration": 0.103135,
     "end_time": "2023-02-08T09:22:48.216365",
     "exception": false,
     "start_time": "2023-02-08T09:22:48.113230",
     "status": "completed"
    },
    "pycharm": {
     "name": "#%%\n"
    },
    "tags": []
   },
   "outputs": [],
   "source": [
    "from allensdk.brain_observatory.ecephys.ecephys_session import EcephysSession\n",
    "\n",
    "# nwb_path = '/mnt/nvme0/ecephys_cache_dir_10_31/session_721123822/session_721123822.nwb'\n",
    "\n",
    "# session = EcephysSession.from_nwb_path(nwb_path, api_kwargs={\n",
    "#         \"amplitude_cutoff_maximum\": np.inf,\n",
    "#         \"presence_ratio_minimum\": -np.inf,\n",
    "#         \"isi_violations_maximum\": np.inf\n",
    "#     })"
   ]
  },
  {
   "cell_type": "markdown",
   "id": "c99ad34f",
   "metadata": {
    "papermill": {
     "duration": 0.096163,
     "end_time": "2023-02-08T09:22:48.408022",
     "exception": false,
     "start_time": "2023-02-08T09:22:48.311859",
     "status": "completed"
    },
    "pycharm": {
     "name": "#%% md\n"
    },
    "tags": []
   },
   "source": [
    "This will load the data for one session, without applying the default unit quality metric filters. Everything will be available except the LFP data, because the `get_lfp()` method can only find the associated LFP files if you're using the `EcephysProjectCache` object.\n",
    "\n",
    "To obtain similar links for the LFP files, you can use the following code:"
   ]
  },
  {
   "cell_type": "code",
   "execution_count": 22,
   "id": "28a3b1de",
   "metadata": {
    "execution": {
     "iopub.execute_input": "2023-02-08T09:22:48.602097Z",
     "iopub.status.busy": "2023-02-08T09:22:48.601598Z",
     "iopub.status.idle": "2023-02-08T09:23:18.539683Z",
     "shell.execute_reply": "2023-02-08T09:23:18.538942Z"
    },
    "papermill": {
     "duration": 30.038946,
     "end_time": "2023-02-08T09:23:18.543170",
     "exception": false,
     "start_time": "2023-02-08T09:22:48.504224",
     "status": "completed"
    },
    "pycharm": {
     "name": "#%%\n"
    },
    "tags": []
   },
   "outputs": [
    {
     "name": "stdout",
     "output_type": "stream",
     "text": [
      "http://api.brain-map.org//api/v2/well_known_file_download/1026124040\n",
      "http://api.brain-map.org//api/v2/well_known_file_download/1026124036\n",
      "http://api.brain-map.org//api/v2/well_known_file_download/1026124038\n",
      "http://api.brain-map.org//api/v2/well_known_file_download/1026124042\n",
      "http://api.brain-map.org//api/v2/well_known_file_download/1026124044\n",
      "http://api.brain-map.org//api/v2/well_known_file_download/1026124046\n",
      "http://api.brain-map.org//api/v2/well_known_file_download/1026123601\n",
      "http://api.brain-map.org//api/v2/well_known_file_download/1026123603\n",
      "http://api.brain-map.org//api/v2/well_known_file_download/1026123605\n",
      "http://api.brain-map.org//api/v2/well_known_file_download/1026123607\n",
      "http://api.brain-map.org//api/v2/well_known_file_download/1026123609\n",
      "http://api.brain-map.org//api/v2/well_known_file_download/1026123539\n",
      "http://api.brain-map.org//api/v2/well_known_file_download/1026123543\n",
      "http://api.brain-map.org//api/v2/well_known_file_download/1026123550\n",
      "http://api.brain-map.org//api/v2/well_known_file_download/1026123546\n",
      "http://api.brain-map.org//api/v2/well_known_file_download/1026123541\n",
      "http://api.brain-map.org//api/v2/well_known_file_download/1026123548\n",
      "http://api.brain-map.org//api/v2/well_known_file_download/1026124433\n",
      "http://api.brain-map.org//api/v2/well_known_file_download/1026124436\n",
      "http://api.brain-map.org//api/v2/well_known_file_download/1026124439\n",
      "http://api.brain-map.org//api/v2/well_known_file_download/1026124442\n",
      "http://api.brain-map.org//api/v2/well_known_file_download/1026124446\n",
      "http://api.brain-map.org//api/v2/well_known_file_download/1026124448\n",
      "http://api.brain-map.org//api/v2/well_known_file_download/1026124728\n",
      "http://api.brain-map.org//api/v2/well_known_file_download/1026124726\n",
      "http://api.brain-map.org//api/v2/well_known_file_download/1026124730\n",
      "http://api.brain-map.org//api/v2/well_known_file_download/1026124732\n",
      "http://api.brain-map.org//api/v2/well_known_file_download/1026124737\n",
      "http://api.brain-map.org//api/v2/well_known_file_download/1026124735\n",
      "http://api.brain-map.org//api/v2/well_known_file_download/1026123901\n",
      "http://api.brain-map.org//api/v2/well_known_file_download/1026123909\n",
      "http://api.brain-map.org//api/v2/well_known_file_download/1026123907\n",
      "http://api.brain-map.org//api/v2/well_known_file_download/1026123905\n",
      "http://api.brain-map.org//api/v2/well_known_file_download/1026123903\n",
      "http://api.brain-map.org//api/v2/well_known_file_download/1026123899\n",
      "http://api.brain-map.org//api/v2/well_known_file_download/1026124867\n",
      "http://api.brain-map.org//api/v2/well_known_file_download/1026124871\n",
      "http://api.brain-map.org//api/v2/well_known_file_download/1026124873\n",
      "http://api.brain-map.org//api/v2/well_known_file_download/1026124875\n",
      "http://api.brain-map.org//api/v2/well_known_file_download/1026124869\n",
      "http://api.brain-map.org//api/v2/well_known_file_download/1026124865\n",
      "http://api.brain-map.org//api/v2/well_known_file_download/1026123993\n",
      "http://api.brain-map.org//api/v2/well_known_file_download/1026123997\n",
      "http://api.brain-map.org//api/v2/well_known_file_download/1026124001\n",
      "http://api.brain-map.org//api/v2/well_known_file_download/1026123999\n",
      "http://api.brain-map.org//api/v2/well_known_file_download/1026123995\n",
      "http://api.brain-map.org//api/v2/well_known_file_download/1026123991\n",
      "http://api.brain-map.org//api/v2/well_known_file_download/1026123702\n",
      "http://api.brain-map.org//api/v2/well_known_file_download/1026123704\n",
      "http://api.brain-map.org//api/v2/well_known_file_download/1026123700\n",
      "http://api.brain-map.org//api/v2/well_known_file_download/1026123706\n",
      "http://api.brain-map.org//api/v2/well_known_file_download/1026123710\n",
      "http://api.brain-map.org//api/v2/well_known_file_download/1026123708\n",
      "http://api.brain-map.org//api/v2/well_known_file_download/1026124330\n",
      "http://api.brain-map.org//api/v2/well_known_file_download/1026124334\n",
      "http://api.brain-map.org//api/v2/well_known_file_download/1026124337\n",
      "http://api.brain-map.org//api/v2/well_known_file_download/1026124332\n",
      "http://api.brain-map.org//api/v2/well_known_file_download/1026124328\n",
      "http://api.brain-map.org//api/v2/well_known_file_download/1026124229\n",
      "http://api.brain-map.org//api/v2/well_known_file_download/1026124227\n",
      "http://api.brain-map.org//api/v2/well_known_file_download/1026124225\n",
      "http://api.brain-map.org//api/v2/well_known_file_download/1026124221\n",
      "http://api.brain-map.org//api/v2/well_known_file_download/1026124223\n",
      "http://api.brain-map.org//api/v2/well_known_file_download/1026124219\n",
      "http://api.brain-map.org//api/v2/well_known_file_download/1026124697\n",
      "http://api.brain-map.org//api/v2/well_known_file_download/1026124695\n",
      "http://api.brain-map.org//api/v2/well_known_file_download/1026124688\n",
      "http://api.brain-map.org//api/v2/well_known_file_download/1026124686\n",
      "http://api.brain-map.org//api/v2/well_known_file_download/1026124690\n",
      "http://api.brain-map.org//api/v2/well_known_file_download/1026124693\n",
      "http://api.brain-map.org//api/v2/well_known_file_download/1026124268\n",
      "http://api.brain-map.org//api/v2/well_known_file_download/1026124266\n",
      "http://api.brain-map.org//api/v2/well_known_file_download/1026124264\n",
      "http://api.brain-map.org//api/v2/well_known_file_download/1026124270\n",
      "http://api.brain-map.org//api/v2/well_known_file_download/1026124272\n",
      "http://api.brain-map.org//api/v2/well_known_file_download/1026124274\n",
      "http://api.brain-map.org//api/v2/well_known_file_download/1026124888\n",
      "http://api.brain-map.org//api/v2/well_known_file_download/1026124890\n",
      "http://api.brain-map.org//api/v2/well_known_file_download/1026124886\n",
      "http://api.brain-map.org//api/v2/well_known_file_download/1026124892\n",
      "http://api.brain-map.org//api/v2/well_known_file_download/1026124894\n",
      "http://api.brain-map.org//api/v2/well_known_file_download/1026124803\n",
      "http://api.brain-map.org//api/v2/well_known_file_download/1026124799\n",
      "http://api.brain-map.org//api/v2/well_known_file_download/1026124795\n",
      "http://api.brain-map.org//api/v2/well_known_file_download/1026124801\n",
      "http://api.brain-map.org//api/v2/well_known_file_download/1026124797\n",
      "http://api.brain-map.org//api/v2/well_known_file_download/1026124806\n",
      "http://api.brain-map.org//api/v2/well_known_file_download/1026124571\n",
      "http://api.brain-map.org//api/v2/well_known_file_download/1026124575\n",
      "http://api.brain-map.org//api/v2/well_known_file_download/1026124579\n",
      "http://api.brain-map.org//api/v2/well_known_file_download/1026124577\n",
      "http://api.brain-map.org//api/v2/well_known_file_download/1026124582\n",
      "http://api.brain-map.org//api/v2/well_known_file_download/1026124573\n",
      "http://api.brain-map.org//api/v2/well_known_file_download/1026123975\n",
      "http://api.brain-map.org//api/v2/well_known_file_download/1026123978\n",
      "http://api.brain-map.org//api/v2/well_known_file_download/1026123973\n",
      "http://api.brain-map.org//api/v2/well_known_file_download/1026123966\n",
      "http://api.brain-map.org//api/v2/well_known_file_download/1026123971\n",
      "http://api.brain-map.org//api/v2/well_known_file_download/1026123969\n",
      "http://api.brain-map.org//api/v2/well_known_file_download/1026124614\n",
      "http://api.brain-map.org//api/v2/well_known_file_download/1026124612\n",
      "http://api.brain-map.org//api/v2/well_known_file_download/1026124616\n",
      "http://api.brain-map.org//api/v2/well_known_file_download/1026124610\n",
      "http://api.brain-map.org//api/v2/well_known_file_download/1026124607\n",
      "http://api.brain-map.org//api/v2/well_known_file_download/1026124605\n",
      "http://api.brain-map.org//api/v2/well_known_file_download/1026123385\n",
      "http://api.brain-map.org//api/v2/well_known_file_download/1026123383\n",
      "http://api.brain-map.org//api/v2/well_known_file_download/1026123379\n",
      "http://api.brain-map.org//api/v2/well_known_file_download/1026123381\n",
      "http://api.brain-map.org//api/v2/well_known_file_download/1026124248\n",
      "http://api.brain-map.org//api/v2/well_known_file_download/1026124246\n",
      "http://api.brain-map.org//api/v2/well_known_file_download/1026124252\n",
      "http://api.brain-map.org//api/v2/well_known_file_download/1026124250\n",
      "http://api.brain-map.org//api/v2/well_known_file_download/1026124254\n",
      "http://api.brain-map.org//api/v2/well_known_file_download/1026124244\n",
      "http://api.brain-map.org//api/v2/well_known_file_download/1026124709\n",
      "http://api.brain-map.org//api/v2/well_known_file_download/1026124707\n",
      "http://api.brain-map.org//api/v2/well_known_file_download/1026124704\n",
      "http://api.brain-map.org//api/v2/well_known_file_download/1026124711\n",
      "http://api.brain-map.org//api/v2/well_known_file_download/1026124713\n",
      "http://api.brain-map.org//api/v2/well_known_file_download/1026124715\n",
      "http://api.brain-map.org//api/v2/well_known_file_download/1026123691\n",
      "http://api.brain-map.org//api/v2/well_known_file_download/1026123695\n",
      "http://api.brain-map.org//api/v2/well_known_file_download/1026123693\n",
      "http://api.brain-map.org//api/v2/well_known_file_download/1026123689\n",
      "http://api.brain-map.org//api/v2/well_known_file_download/1026123687\n",
      "http://api.brain-map.org//api/v2/well_known_file_download/1026124073\n",
      "http://api.brain-map.org//api/v2/well_known_file_download/1026124075\n",
      "http://api.brain-map.org//api/v2/well_known_file_download/1026124071\n",
      "http://api.brain-map.org//api/v2/well_known_file_download/1026124082\n",
      "http://api.brain-map.org//api/v2/well_known_file_download/1026124079\n",
      "http://api.brain-map.org//api/v2/well_known_file_download/1026124077\n",
      "http://api.brain-map.org//api/v2/well_known_file_download/1026123879\n",
      "http://api.brain-map.org//api/v2/well_known_file_download/1026123881\n",
      "http://api.brain-map.org//api/v2/well_known_file_download/1026123883\n",
      "http://api.brain-map.org//api/v2/well_known_file_download/1026123885\n",
      "http://api.brain-map.org//api/v2/well_known_file_download/1026124205\n",
      "http://api.brain-map.org//api/v2/well_known_file_download/1026124208\n",
      "http://api.brain-map.org//api/v2/well_known_file_download/1026124199\n",
      "http://api.brain-map.org//api/v2/well_known_file_download/1026124197\n",
      "http://api.brain-map.org//api/v2/well_known_file_download/1026124201\n",
      "http://api.brain-map.org//api/v2/well_known_file_download/1026124203\n",
      "http://api.brain-map.org//api/v2/well_known_file_download/1026124507\n",
      "http://api.brain-map.org//api/v2/well_known_file_download/1026124504\n",
      "http://api.brain-map.org//api/v2/well_known_file_download/1026124502\n",
      "http://api.brain-map.org//api/v2/well_known_file_download/1026124509\n",
      "file for probe 773463023 not found\n",
      "http://api.brain-map.org//api/v2/well_known_file_download/1026124511\n",
      "http://api.brain-map.org//api/v2/well_known_file_download/1026124519\n",
      "http://api.brain-map.org//api/v2/well_known_file_download/1026124523\n",
      "http://api.brain-map.org//api/v2/well_known_file_download/1026124527\n",
      "http://api.brain-map.org//api/v2/well_known_file_download/1026124525\n",
      "http://api.brain-map.org//api/v2/well_known_file_download/1026124521\n",
      "http://api.brain-map.org//api/v2/well_known_file_download/1026124529\n",
      "http://api.brain-map.org//api/v2/well_known_file_download/1026124299\n",
      "http://api.brain-map.org//api/v2/well_known_file_download/1026124297\n",
      "http://api.brain-map.org//api/v2/well_known_file_download/1026124295\n",
      "http://api.brain-map.org//api/v2/well_known_file_download/1026124301\n",
      "http://api.brain-map.org//api/v2/well_known_file_download/1026124303\n",
      "http://api.brain-map.org//api/v2/well_known_file_download/1026124305\n",
      "http://api.brain-map.org//api/v2/well_known_file_download/1026124922\n",
      "http://api.brain-map.org//api/v2/well_known_file_download/1026124924\n",
      "http://api.brain-map.org//api/v2/well_known_file_download/1026124926\n",
      "http://api.brain-map.org//api/v2/well_known_file_download/1026124928\n",
      "http://api.brain-map.org//api/v2/well_known_file_download/1026124930\n",
      "http://api.brain-map.org//api/v2/well_known_file_download/1026124920\n",
      "http://api.brain-map.org//api/v2/well_known_file_download/1026124156\n",
      "http://api.brain-map.org//api/v2/well_known_file_download/1026124164\n",
      "http://api.brain-map.org//api/v2/well_known_file_download/1026124160\n",
      "http://api.brain-map.org//api/v2/well_known_file_download/1026124162\n",
      "http://api.brain-map.org//api/v2/well_known_file_download/1026124158\n",
      "http://api.brain-map.org//api/v2/well_known_file_download/1026124154\n",
      "http://api.brain-map.org//api/v2/well_known_file_download/1026124415\n",
      "http://api.brain-map.org//api/v2/well_known_file_download/1026124413\n",
      "http://api.brain-map.org//api/v2/well_known_file_download/1026124417\n",
      "http://api.brain-map.org//api/v2/well_known_file_download/1026124409\n",
      "http://api.brain-map.org//api/v2/well_known_file_download/1026124411\n",
      "http://api.brain-map.org//api/v2/well_known_file_download/1026124407\n",
      "http://api.brain-map.org//api/v2/well_known_file_download/1026124311\n",
      "http://api.brain-map.org//api/v2/well_known_file_download/1026124313\n",
      "http://api.brain-map.org//api/v2/well_known_file_download/1026124319\n",
      "http://api.brain-map.org//api/v2/well_known_file_download/1026124317\n",
      "http://api.brain-map.org//api/v2/well_known_file_download/1026124321\n",
      "http://api.brain-map.org//api/v2/well_known_file_download/1026124315\n",
      "http://api.brain-map.org//api/v2/well_known_file_download/1026124350\n",
      "http://api.brain-map.org//api/v2/well_known_file_download/1026124354\n",
      "http://api.brain-map.org//api/v2/well_known_file_download/1026124356\n",
      "http://api.brain-map.org//api/v2/well_known_file_download/1026124358\n",
      "http://api.brain-map.org//api/v2/well_known_file_download/1026124360\n",
      "http://api.brain-map.org//api/v2/well_known_file_download/1026124352\n",
      "http://api.brain-map.org//api/v2/well_known_file_download/1026124627\n",
      "http://api.brain-map.org//api/v2/well_known_file_download/1026124631\n",
      "http://api.brain-map.org//api/v2/well_known_file_download/1026124629\n",
      "http://api.brain-map.org//api/v2/well_known_file_download/1026124634\n",
      "http://api.brain-map.org//api/v2/well_known_file_download/1026124638\n",
      "http://api.brain-map.org//api/v2/well_known_file_download/1026124636\n",
      "http://api.brain-map.org//api/v2/well_known_file_download/1026123805\n",
      "http://api.brain-map.org//api/v2/well_known_file_download/1026123809\n",
      "http://api.brain-map.org//api/v2/well_known_file_download/1026123807\n",
      "http://api.brain-map.org//api/v2/well_known_file_download/1026123811\n",
      "http://api.brain-map.org//api/v2/well_known_file_download/1026123813\n",
      "http://api.brain-map.org//api/v2/well_known_file_download/1026123815\n",
      "http://api.brain-map.org//api/v2/well_known_file_download/1026124183\n",
      "http://api.brain-map.org//api/v2/well_known_file_download/1026124187\n",
      "http://api.brain-map.org//api/v2/well_known_file_download/1026124185\n",
      "http://api.brain-map.org//api/v2/well_known_file_download/1026124181\n",
      "http://api.brain-map.org//api/v2/well_known_file_download/1026124189\n",
      "http://api.brain-map.org//api/v2/well_known_file_download/1026124191\n",
      "http://api.brain-map.org//api/v2/well_known_file_download/1026124013\n",
      "http://api.brain-map.org//api/v2/well_known_file_download/1026124011\n",
      "http://api.brain-map.org//api/v2/well_known_file_download/1026124009\n",
      "http://api.brain-map.org//api/v2/well_known_file_download/1026124015\n",
      "http://api.brain-map.org//api/v2/well_known_file_download/1026124017\n",
      "http://api.brain-map.org//api/v2/well_known_file_download/1026124019\n",
      "http://api.brain-map.org//api/v2/well_known_file_download/1026124111\n",
      "http://api.brain-map.org//api/v2/well_known_file_download/1026124116\n",
      "http://api.brain-map.org//api/v2/well_known_file_download/1026124114\n",
      "http://api.brain-map.org//api/v2/well_known_file_download/1026124118\n",
      "http://api.brain-map.org//api/v2/well_known_file_download/1026124120\n",
      "http://api.brain-map.org//api/v2/well_known_file_download/1026124123\n",
      "http://api.brain-map.org//api/v2/well_known_file_download/1026124754\n",
      "http://api.brain-map.org//api/v2/well_known_file_download/1026124748\n",
      "http://api.brain-map.org//api/v2/well_known_file_download/1026124746\n",
      "http://api.brain-map.org//api/v2/well_known_file_download/1026124752\n",
      "http://api.brain-map.org//api/v2/well_known_file_download/1026124756\n",
      "http://api.brain-map.org//api/v2/well_known_file_download/1026124750\n",
      "http://api.brain-map.org//api/v2/well_known_file_download/1026123849\n",
      "http://api.brain-map.org//api/v2/well_known_file_download/1026123857\n",
      "http://api.brain-map.org//api/v2/well_known_file_download/1026123853\n",
      "http://api.brain-map.org//api/v2/well_known_file_download/1026123851\n",
      "http://api.brain-map.org//api/v2/well_known_file_download/1026123859\n",
      "http://api.brain-map.org//api/v2/well_known_file_download/1026123855\n",
      "http://api.brain-map.org//api/v2/well_known_file_download/1026124653\n",
      "http://api.brain-map.org//api/v2/well_known_file_download/1026124651\n",
      "http://api.brain-map.org//api/v2/well_known_file_download/1026124657\n",
      "http://api.brain-map.org//api/v2/well_known_file_download/1026124647\n",
      "http://api.brain-map.org//api/v2/well_known_file_download/1026124649\n",
      "http://api.brain-map.org//api/v2/well_known_file_download/1026124655\n",
      "http://api.brain-map.org//api/v2/well_known_file_download/1026124553\n",
      "http://api.brain-map.org//api/v2/well_known_file_download/1026124551\n",
      "http://api.brain-map.org//api/v2/well_known_file_download/1026124549\n",
      "http://api.brain-map.org//api/v2/well_known_file_download/1026124547\n",
      "http://api.brain-map.org//api/v2/well_known_file_download/1026124555\n",
      "http://api.brain-map.org//api/v2/well_known_file_download/1026124557\n",
      "http://api.brain-map.org//api/v2/well_known_file_download/1026125023\n",
      "http://api.brain-map.org//api/v2/well_known_file_download/1026125027\n",
      "http://api.brain-map.org//api/v2/well_known_file_download/1026125025\n",
      "http://api.brain-map.org//api/v2/well_known_file_download/1026125029\n",
      "http://api.brain-map.org//api/v2/well_known_file_download/1026125031\n",
      "http://api.brain-map.org//api/v2/well_known_file_download/1026125034\n",
      "http://api.brain-map.org//api/v2/well_known_file_download/1026124814\n",
      "http://api.brain-map.org//api/v2/well_known_file_download/1026124808\n",
      "http://api.brain-map.org//api/v2/well_known_file_download/1026124811\n",
      "http://api.brain-map.org//api/v2/well_known_file_download/1026124816\n",
      "http://api.brain-map.org//api/v2/well_known_file_download/1026124820\n",
      "http://api.brain-map.org//api/v2/well_known_file_download/1026124818\n",
      "http://api.brain-map.org//api/v2/well_known_file_download/1026123659\n",
      "http://api.brain-map.org//api/v2/well_known_file_download/1026123657\n",
      "http://api.brain-map.org//api/v2/well_known_file_download/1026123653\n",
      "http://api.brain-map.org//api/v2/well_known_file_download/1026123655\n",
      "http://api.brain-map.org//api/v2/well_known_file_download/1026123661\n",
      "http://api.brain-map.org//api/v2/well_known_file_download/1026124481\n",
      "http://api.brain-map.org//api/v2/well_known_file_download/1026124479\n",
      "http://api.brain-map.org//api/v2/well_known_file_download/1026124471\n",
      "http://api.brain-map.org//api/v2/well_known_file_download/1026124473\n",
      "http://api.brain-map.org//api/v2/well_known_file_download/1026124475\n",
      "http://api.brain-map.org//api/v2/well_known_file_download/1026124477\n",
      "http://api.brain-map.org//api/v2/well_known_file_download/1026124761\n",
      "http://api.brain-map.org//api/v2/well_known_file_download/1026124765\n",
      "http://api.brain-map.org//api/v2/well_known_file_download/1026124763\n",
      "http://api.brain-map.org//api/v2/well_known_file_download/1026124767\n",
      "http://api.brain-map.org//api/v2/well_known_file_download/1026124769\n",
      "http://api.brain-map.org//api/v2/well_known_file_download/1026124771\n",
      "http://api.brain-map.org//api/v2/well_known_file_download/1026124097\n",
      "http://api.brain-map.org//api/v2/well_known_file_download/1026124095\n",
      "http://api.brain-map.org//api/v2/well_known_file_download/1026124093\n",
      "http://api.brain-map.org//api/v2/well_known_file_download/1026124088\n",
      "http://api.brain-map.org//api/v2/well_known_file_download/1026124091\n",
      "http://api.brain-map.org//api/v2/well_known_file_download/1026123830\n",
      "http://api.brain-map.org//api/v2/well_known_file_download/1026123828\n",
      "http://api.brain-map.org//api/v2/well_known_file_download/1026123834\n",
      "http://api.brain-map.org//api/v2/well_known_file_download/1026123832\n",
      "http://api.brain-map.org//api/v2/well_known_file_download/1026123826\n",
      "http://api.brain-map.org//api/v2/well_known_file_download/1026123635\n",
      "http://api.brain-map.org//api/v2/well_known_file_download/1026123631\n",
      "http://api.brain-map.org//api/v2/well_known_file_download/1026123629\n",
      "http://api.brain-map.org//api/v2/well_known_file_download/1026123633\n",
      "http://api.brain-map.org//api/v2/well_known_file_download/1026123627\n",
      "http://api.brain-map.org//api/v2/well_known_file_download/1026123791\n",
      "http://api.brain-map.org//api/v2/well_known_file_download/1026123793\n",
      "http://api.brain-map.org//api/v2/well_known_file_download/1026123795\n",
      "http://api.brain-map.org//api/v2/well_known_file_download/1026123789\n",
      "http://api.brain-map.org//api/v2/well_known_file_download/1026123797\n",
      "file for probe 832810584 not found\n",
      "http://api.brain-map.org//api/v2/well_known_file_download/1026124842\n",
      "http://api.brain-map.org//api/v2/well_known_file_download/1026124846\n",
      "http://api.brain-map.org//api/v2/well_known_file_download/1026124844\n",
      "http://api.brain-map.org//api/v2/well_known_file_download/1026124848\n",
      "http://api.brain-map.org//api/v2/well_known_file_download/1026124850\n",
      "http://api.brain-map.org//api/v2/well_known_file_download/1026124374\n",
      "http://api.brain-map.org//api/v2/well_known_file_download/1026124370\n",
      "http://api.brain-map.org//api/v2/well_known_file_download/1026124378\n",
      "http://api.brain-map.org//api/v2/well_known_file_download/1026124376\n",
      "http://api.brain-map.org//api/v2/well_known_file_download/1026124372\n",
      "http://api.brain-map.org//api/v2/well_known_file_download/1026123521\n",
      "http://api.brain-map.org//api/v2/well_known_file_download/1026123524\n",
      "http://api.brain-map.org//api/v2/well_known_file_download/1026123526\n",
      "http://api.brain-map.org//api/v2/well_known_file_download/1026123528\n",
      "http://api.brain-map.org//api/v2/well_known_file_download/1026123530\n",
      "http://api.brain-map.org//api/v2/well_known_file_download/1026124428\n",
      "http://api.brain-map.org//api/v2/well_known_file_download/1026124431\n",
      "http://api.brain-map.org//api/v2/well_known_file_download/1026124426\n",
      "http://api.brain-map.org//api/v2/well_known_file_download/1026124424\n",
      "http://api.brain-map.org//api/v2/well_known_file_download/1026124437\n",
      "http://api.brain-map.org//api/v2/well_known_file_download/1026124443\n",
      "http://api.brain-map.org//api/v2/well_known_file_download/1026123729\n",
      "http://api.brain-map.org//api/v2/well_known_file_download/1026123733\n",
      "http://api.brain-map.org//api/v2/well_known_file_download/1026123731\n",
      "http://api.brain-map.org//api/v2/well_known_file_download/1026123727\n",
      "http://api.brain-map.org//api/v2/well_known_file_download/1026123738\n",
      "http://api.brain-map.org//api/v2/well_known_file_download/1026123735\n",
      "file for probe 846401828 not found\n",
      "file for probe 846401830 not found\n",
      "file for probe 846401834 not found\n",
      "file for probe 846401838 not found\n",
      "file for probe 846401841 not found\n",
      "http://api.brain-map.org//api/v2/well_known_file_download/1026123956\n",
      "http://api.brain-map.org//api/v2/well_known_file_download/1026123951\n",
      "http://api.brain-map.org//api/v2/well_known_file_download/1026123953\n",
      "http://api.brain-map.org//api/v2/well_known_file_download/1026123949\n",
      "http://api.brain-map.org//api/v2/well_known_file_download/1026123945\n",
      "http://api.brain-map.org//api/v2/well_known_file_download/1026123947\n"
     ]
    }
   ],
   "source": [
    "def retrieve_lfp_link(probe_id):\n",
    "\n",
    "    well_known_files = build_and_execute(\n",
    "        (\n",
    "            \"criteria=model::WellKnownFile\"\n",
    "            \",rma::criteria,well_known_file_type[name$eq'EcephysLfpNwb']\"\n",
    "            \"[attachable_type$eq'EcephysProbe']\"\n",
    "            r\"[attachable_id$eq{{probe_id}}]\"\n",
    "        ),\n",
    "        engine=rma_engine.get_rma_tabular, \n",
    "        probe_id=probe_id\n",
    "    )\n",
    "\n",
    "    if well_known_files.shape[0] != 1:\n",
    "        return 'file for probe ' + str(probe_id) + ' not found'\n",
    "        \n",
    "    return 'http://api.brain-map.org/' + well_known_files.loc[0, \"download_link\"]\n",
    "\n",
    "probes = cache.get_probes()\n",
    "\n",
    "download_links = [retrieve_lfp_link(probe_id) for probe_id in probes.index.values]\n",
    "\n",
    "_ = [print(link) for link in download_links]"
   ]
  }
 ],
 "metadata": {
  "celltoolbar": "Tags",
  "kernelspec": {
   "display_name": "allensdk",
   "language": "python",
   "name": "allensdk"
  },
  "language_info": {
   "codemirror_mode": {
    "name": "ipython",
    "version": 3
   },
   "file_extension": ".py",
   "mimetype": "text/x-python",
   "name": "python",
   "nbconvert_exporter": "python",
   "pygments_lexer": "ipython3",
   "version": "3.8.16"
  },
  "papermill": {
   "default_parameters": {},
   "duration": 695.816769,
   "end_time": "2023-02-08T09:23:21.370243",
   "environment_variables": {},
   "exception": null,
   "input_path": "doc_template/examples_root/examples/nb/ecephys_data_access.ipynb",
   "output_path": "/tmp/tmpo24dh16_/scratch_nb.ipynb",
   "parameters": {
    "DOWNLOAD_COMPLETE_DATASET": false,
    "output_dir": "/tmp/tmpo24dh16_",
    "resources_dir": "/home/runner/work/AllenSDK/AllenSDK/allensdk/internal/notebooks/resources"
   },
   "start_time": "2023-02-08T09:11:45.553474",
   "version": "2.4.0"
  }
 },
 "nbformat": 4,
 "nbformat_minor": 5
}
