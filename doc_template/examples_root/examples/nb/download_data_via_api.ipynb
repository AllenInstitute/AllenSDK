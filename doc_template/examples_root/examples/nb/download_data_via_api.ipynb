{
 "cells": [
  {
   "cell_type": "markdown",
   "id": "f1665fa9",
   "metadata": {
    "papermill": {
     "duration": 0.00584,
     "end_time": "2023-02-28T21:23:40.543568",
     "exception": false,
     "start_time": "2023-02-28T21:23:40.537728",
     "status": "completed"
    },
    "tags": []
   },
   "source": [
    "Download this notebook in .ipynb format <a href='download_data_via_api.ipynb'>here</a>."
   ]
  },
  {
   "cell_type": "code",
   "execution_count": 1,
   "id": "c000a3a1",
   "metadata": {
    "execution": {
     "iopub.execute_input": "2023-02-28T21:23:40.554444Z",
     "iopub.status.busy": "2023-02-28T21:23:40.553882Z",
     "iopub.status.idle": "2023-02-28T21:23:40.562335Z",
     "shell.execute_reply": "2023-02-28T21:23:40.561650Z"
    },
    "papermill": {
     "duration": 0.015493,
     "end_time": "2023-02-28T21:23:40.563876",
     "exception": false,
     "start_time": "2023-02-28T21:23:40.548383",
     "status": "completed"
    },
    "tags": [
     "parameters"
    ]
   },
   "outputs": [],
   "source": [
    "output_dir = '.'"
   ]
  },
  {
   "cell_type": "code",
   "execution_count": 3,
   "id": "14487b52",
   "metadata": {
    "execution": {
     "iopub.execute_input": "2023-02-28T21:23:40.588903Z",
     "iopub.status.busy": "2023-02-28T21:23:40.588448Z",
     "iopub.status.idle": "2023-02-28T21:23:42.270235Z",
     "shell.execute_reply": "2023-02-28T21:23:42.269545Z"
    },
    "papermill": {
     "duration": 1.689175,
     "end_time": "2023-02-28T21:23:42.272080",
     "exception": false,
     "start_time": "2023-02-28T21:23:40.582905",
     "status": "completed"
    },
    "tags": []
   },
   "outputs": [],
   "source": [
    "import json\n",
    "from pathlib import Path\n",
    "\n",
    "from allensdk.api.api import Api\n",
    "from allensdk.api.queries.rma_api import RmaApi\n",
    "from allensdk.api.queries.mouse_connectivity_api import MouseConnectivityApi\n",
    "\n",
    "rma = RmaApi()\n",
    "\n",
    "def read_data(parsed_json):\n",
    "    return parsed_json['msg']\n",
    "\n",
    "def pretty(result):\n",
    "    print(json.dumps(result, indent=2))"
   ]
  },
  {
   "cell_type": "markdown",
   "id": "91962df6",
   "metadata": {
    "papermill": {
     "duration": 0.004938,
     "end_time": "2023-02-28T21:23:42.281814",
     "exception": false,
     "start_time": "2023-02-28T21:23:42.276876",
     "status": "completed"
    },
    "tags": []
   },
   "source": [
    "Download lists of experiments by injection hemisphere, mouse cre line, and injection structure"
   ]
  },
  {
   "cell_type": "markdown",
   "id": "290563c1",
   "metadata": {
    "papermill": {
     "duration": 0.004305,
     "end_time": "2023-02-28T21:23:42.290562",
     "exception": false,
     "start_time": "2023-02-28T21:23:42.286257",
     "status": "completed"
    },
    "tags": []
   },
   "source": [
    "    Download Pvalb experiments injected in the left hemisphere VISp"
   ]
  },
  {
   "cell_type": "code",
   "execution_count": 4,
   "id": "9be3f29d",
   "metadata": {
    "execution": {
     "iopub.execute_input": "2023-02-28T21:23:42.301142Z",
     "iopub.status.busy": "2023-02-28T21:23:42.300504Z",
     "iopub.status.idle": "2023-02-28T21:23:42.410389Z",
     "shell.execute_reply": "2023-02-28T21:23:42.409695Z"
    },
    "papermill": {
     "duration": 0.117034,
     "end_time": "2023-02-28T21:23:42.411997",
     "exception": false,
     "start_time": "2023-02-28T21:23:42.294963",
     "status": "completed"
    },
    "tags": []
   },
   "outputs": [
    {
     "name": "stdout",
     "output_type": "stream",
     "text": [
      "[\n",
      "  {\n",
      "    \"id\": 5,\n",
      "    \"name\": \"Mouse Sagittal, v1 (2008)\"\n",
      "  },\n",
      "  {\n",
      "    \"id\": 602630314,\n",
      "    \"name\": \"Mouse, Adult, 3D Coronal\"\n",
      "  },\n",
      "  {\n",
      "    \"id\": 2,\n",
      "    \"name\": \"Mouse, P56, Sagittal\"\n",
      "  },\n",
      "  {\n",
      "    \"id\": 4,\n",
      "    \"name\": \"Mouse Coronal, v1 (2008)\"\n",
      "  },\n",
      "  {\n",
      "    \"id\": 1,\n",
      "    \"name\": \"Mouse, P56, Coronal\"\n",
      "  }\n",
      "]\n"
     ]
    }
   ],
   "source": [
    "# Get the atlas id\n",
    "def query_atlases(search_pattern):\n",
    "    return rma.build_query_url(rma.model_stage('Atlas',\n",
    "                                               criteria=\"[name$il'%s']\" % (search_pattern),\n",
    "                                               only=['id', 'name']))\n",
    "\n",
    "atlases = rma.do_query(query_atlases, read_data, 'mouse*')\n",
    "pretty(atlases)\n"
   ]
  },
  {
   "cell_type": "code",
   "execution_count": 5,
   "id": "7f5555e6",
   "metadata": {
    "execution": {
     "iopub.execute_input": "2023-02-28T21:23:42.423386Z",
     "iopub.status.busy": "2023-02-28T21:23:42.422640Z",
     "iopub.status.idle": "2023-02-28T21:23:42.524070Z",
     "shell.execute_reply": "2023-02-28T21:23:42.523385Z"
    },
    "papermill": {
     "duration": 0.108923,
     "end_time": "2023-02-28T21:23:42.525878",
     "exception": false,
     "start_time": "2023-02-28T21:23:42.416955",
     "status": "completed"
    },
    "tags": []
   },
   "outputs": [
    {
     "name": "stdout",
     "output_type": "stream",
     "text": [
      "{\n",
      "  \"id\": 385,\n",
      "  \"name\": \"Primary visual area\"\n",
      "}\n"
     ]
    }
   ],
   "source": [
    "# get the structure\n",
    "def query_structure(acronym, ontology_id):\n",
    "    return rma.build_query_url(rma.model_stage('Structure',\n",
    "                                               criteria=\"[acronym$eq'%s'][ontology_id$eq%d]\" % (acronym, ontology_id),\n",
    "                                               only=['id','name']))\n",
    "\n",
    "structure = rma.do_query(query_structure, read_data, 'VISp', 1)[0]\n",
    "pretty(structure)\n"
   ]
  },
  {
   "cell_type": "code",
   "execution_count": 6,
   "id": "d8576520",
   "metadata": {
    "execution": {
     "iopub.execute_input": "2023-02-28T21:23:42.539506Z",
     "iopub.status.busy": "2023-02-28T21:23:42.538844Z",
     "iopub.status.idle": "2023-02-28T21:23:42.639181Z",
     "shell.execute_reply": "2023-02-28T21:23:42.638549Z"
    },
    "papermill": {
     "duration": 0.11004,
     "end_time": "2023-02-28T21:23:42.640823",
     "exception": false,
     "start_time": "2023-02-28T21:23:42.530783",
     "status": "completed"
    },
    "tags": []
   },
   "outputs": [
    {
     "data": {
      "text/plain": [
       "1"
      ]
     },
     "execution_count": 6,
     "metadata": {},
     "output_type": "execute_result"
    }
   ],
   "source": [
    "def query_hemisphere(name):\n",
    "    return rma.build_query_url(rma.model_stage('Hemisphere', criteria=\"[name$il'%s']\" % (name)))\n",
    "                               \n",
    "left_hemisphere_id = rma.do_query(query_hemisphere, read_data, 'left')[0]['id']\n",
    "\n",
    "left_hemisphere_id"
   ]
  },
  {
   "cell_type": "code",
   "execution_count": 7,
   "id": "8e798325",
   "metadata": {
    "execution": {
     "iopub.execute_input": "2023-02-28T21:23:42.652184Z",
     "iopub.status.busy": "2023-02-28T21:23:42.651674Z",
     "iopub.status.idle": "2023-02-28T21:23:42.761671Z",
     "shell.execute_reply": "2023-02-28T21:23:42.761001Z"
    },
    "papermill": {
     "duration": 0.117513,
     "end_time": "2023-02-28T21:23:42.763418",
     "exception": false,
     "start_time": "2023-02-28T21:23:42.645905",
     "status": "completed"
    },
    "tags": []
   },
   "outputs": [
    {
     "data": {
      "text/plain": [
       "0"
      ]
     },
     "execution_count": 7,
     "metadata": {},
     "output_type": "execute_result"
    }
   ],
   "source": [
    "mca = MouseConnectivityApi('http://api.brain-map.org')\n",
    "experiments = mca.get_experiments(structure['id'])\n",
    "\n",
    "# TODO: figure out why this didn't work w/ left hemisphere\n",
    "#other_hemisphere_id = 3\n",
    "\n",
    "# get experiments doesn't take hemisphere into account, so filter the results with a list comprehension\n",
    "#left_hemisphere_experiments = [e for e in experiments\n",
    "#                               if any([(injection['primary_injection_structure']['hemisphere_id'] == other_hemisphere_id)\n",
    "#                               for injection in e['specimen']['stereotaxic_injections']])]\n",
    "                                                          \n",
    "#pretty(left_hemisphere_experiments)\n",
    "len(experiments)"
   ]
  },
  {
   "cell_type": "markdown",
   "id": "27b41b9a",
   "metadata": {
    "papermill": {
     "duration": 0.004943,
     "end_time": "2023-02-28T21:23:42.773516",
     "exception": false,
     "start_time": "2023-02-28T21:23:42.768573",
     "status": "completed"
    },
    "tags": []
   },
   "source": [
    "Download grid data for these experiments at a particular resolution"
   ]
  },
  {
   "cell_type": "code",
   "execution_count": 8,
   "id": "26307b99",
   "metadata": {
    "execution": {
     "iopub.execute_input": "2023-02-28T21:23:42.784832Z",
     "iopub.status.busy": "2023-02-28T21:23:42.784078Z",
     "iopub.status.idle": "2023-02-28T21:23:42.787638Z",
     "shell.execute_reply": "2023-02-28T21:23:42.786978Z"
    },
    "papermill": {
     "duration": 0.010757,
     "end_time": "2023-02-28T21:23:42.789054",
     "exception": false,
     "start_time": "2023-02-28T21:23:42.778297",
     "status": "completed"
    },
    "tags": []
   },
   "outputs": [],
   "source": [
    "from allensdk.api.queries.grid_data_api import GridDataApi"
   ]
  },
  {
   "cell_type": "markdown",
   "id": "841e106e",
   "metadata": {
    "papermill": {
     "duration": 0.004812,
     "end_time": "2023-02-28T21:23:42.798607",
     "exception": false,
     "start_time": "2023-02-28T21:23:42.793795",
     "status": "completed"
    },
    "tags": []
   },
   "source": [
    "10, 25, 50, or 100 micron volumes for:\n",
    "\n",
    "    * Projection density\n",
    "\n",
    "    * projection energy\n",
    "\n",
    "    * injection fraction\n",
    "\n",
    "    * Injection density\n",
    "\n",
    "    * Injection energy\n",
    "\n",
    "    * Data mask (mask of valid voxels per experiment)\n"
   ]
  },
  {
   "cell_type": "code",
   "execution_count": 9,
   "id": "88d5b178",
   "metadata": {
    "execution": {
     "iopub.execute_input": "2023-02-28T21:23:42.809165Z",
     "iopub.status.busy": "2023-02-28T21:23:42.808911Z",
     "iopub.status.idle": "2023-02-28T21:23:43.700550Z",
     "shell.execute_reply": "2023-02-28T21:23:43.699888Z"
    },
    "papermill": {
     "duration": 0.899085,
     "end_time": "2023-02-28T21:23:43.702383",
     "exception": false,
     "start_time": "2023-02-28T21:23:42.803298",
     "status": "completed"
    },
    "tags": []
   },
   "outputs": [
    {
     "name": "stderr",
     "output_type": "stream",
     "text": [
      "2023-02-28 21:23:42,811 allensdk.api.api.retrieve_file_over_http INFO     Downloading URL: http://api.brain-map.org/grid_data/download_file/183282970?image=projection_density&resolution=100\n",
      "2023-02-28 21:23:43,112 allensdk.api.api.retrieve_file_over_http INFO     Downloading URL: http://api.brain-map.org/grid_data/download_file/183282970?image=projection_energy&resolution=100\n",
      "2023-02-28 21:23:43,361 allensdk.api.api.retrieve_file_over_http INFO     Downloading URL: http://api.brain-map.org/grid_data/download_file/183282970?image=injection_fraction&resolution=100\n",
      "2023-02-28 21:23:43,475 allensdk.api.api.retrieve_file_over_http INFO     Downloading URL: http://api.brain-map.org/grid_data/download_file/183282970?image=injection_density&resolution=100\n",
      "2023-02-28 21:23:43,584 allensdk.api.api.retrieve_file_over_http INFO     Downloading URL: http://api.brain-map.org/grid_data/download_file/183282970?image=injection_energy&resolution=100\n"
     ]
    }
   ],
   "source": [
    "gda = GridDataApi()\n",
    "\n",
    "# TODO: show search to get this\n",
    "section_data_set_id = 183282970\n",
    "\n",
    "image_list = ['projection_density',\n",
    "              'projection_energy',\n",
    "              'injection_fraction',\n",
    "              'injection_density',\n",
    "              'injection_energy']\n",
    "\n",
    "resolution = 100 # or 10, 25, 50\n",
    "\n",
    "# Hmm, this didn't work for an image list of length > 1\n",
    "for image in image_list:\n",
    "    nrrd_file = str(Path(output_dir) / f'grid_{section_data_set_id}_{image}.nrrd')\n",
    "    gda.download_projection_grid_data(section_data_set_id,\n",
    "                                      image=[image],\n",
    "                                      resolution=resolution,\n",
    "                                      save_file_path=nrrd_file)\n",
    "\n",
    "\n",
    "# TODO: data mask"
   ]
  },
  {
   "cell_type": "markdown",
   "id": "96e57a7b",
   "metadata": {
    "papermill": {
     "duration": 0.005298,
     "end_time": "2023-02-28T21:23:43.713176",
     "exception": false,
     "start_time": "2023-02-28T21:23:43.707878",
     "status": "completed"
    },
    "tags": []
   },
   "source": [
    "    http://help.brain-map.org//display/mouseconnectivity/API#API-Expression3DGrids"
   ]
  },
  {
   "cell_type": "code",
   "execution_count": 10,
   "id": "d716abf8",
   "metadata": {
    "execution": {
     "iopub.execute_input": "2023-02-28T21:23:43.724966Z",
     "iopub.status.busy": "2023-02-28T21:23:43.724317Z",
     "iopub.status.idle": "2023-02-28T21:23:44.241443Z",
     "shell.execute_reply": "2023-02-28T21:23:44.240793Z"
    },
    "papermill": {
     "duration": 0.525066,
     "end_time": "2023-02-28T21:23:44.243323",
     "exception": false,
     "start_time": "2023-02-28T21:23:43.718257",
     "status": "completed"
    },
    "tags": []
   },
   "outputs": [
    {
     "name": "stderr",
     "output_type": "stream",
     "text": [
      "/tmp/ipykernel_3440/1972217619.py:1: VisibleDeprecationWarning: Function download_expression_grid_data is deprecated. Use download_gene_expression_grid_data instead\n",
      "  gda.download_expression_grid_data(\n",
      "2023-02-28 21:23:43,726 allensdk.api.api.retrieve_file_over_http INFO     Downloading URL: http://api.brain-map.org/grid_data/download/183282970?include=projection_density,projection_energy,injection_fraction,injection_density,injection_energy\n"
     ]
    }
   ],
   "source": [
    "gda.download_expression_grid_data(\n",
    "    section_data_set_id, \n",
    "    include=image_list,\n",
    "    path=str(Path(output_dir) / f'{section_data_set_id}.zip')\n",
    ")"
   ]
  },
  {
   "cell_type": "markdown",
   "id": "982f3337",
   "metadata": {
    "papermill": {
     "duration": 0.005292,
     "end_time": "2023-02-28T21:23:44.254144",
     "exception": false,
     "start_time": "2023-02-28T21:23:44.248852",
     "status": "completed"
    },
    "tags": []
   },
   "source": [
    "Read data (File mode):"
   ]
  },
  {
   "cell_type": "markdown",
   "id": "a468118f",
   "metadata": {
    "papermill": {
     "duration": 0.00498,
     "end_time": "2023-02-28T21:23:44.264186",
     "exception": false,
     "start_time": "2023-02-28T21:23:44.259206",
     "status": "completed"
    },
    "tags": []
   },
   "source": [
    "    Read experiment metadata by injection hemisphere, mouse cre line, and injection structure\n",
    "        “I download a list of all experiments.  Which were injected in VISp?”"
   ]
  },
  {
   "cell_type": "code",
   "execution_count": 11,
   "id": "3ffe3c15",
   "metadata": {
    "execution": {
     "iopub.execute_input": "2023-02-28T21:23:44.276160Z",
     "iopub.status.busy": "2023-02-28T21:23:44.275584Z",
     "iopub.status.idle": "2023-02-28T21:23:44.283536Z",
     "shell.execute_reply": "2023-02-28T21:23:44.282976Z"
    },
    "papermill": {
     "duration": 0.015732,
     "end_time": "2023-02-28T21:23:44.285006",
     "exception": false,
     "start_time": "2023-02-28T21:23:44.269274",
     "status": "completed"
    },
    "tags": []
   },
   "outputs": [
    {
     "name": "stdout",
     "output_type": "stream",
     "text": [
      "http://api.brain-map.org/api/v2/data/query.csv?q=model::ProjectionStructureUnionize,rma::criteria,[is_injection$eq'f'],hemisphere,structure,section_data_set[id$eq183282970](specimen(stereotaxic_injections(primary_injection_structure,stereotaxic_injection_coordinates))),rma::include,section_data_set(specimen(stereotaxic_injections(primary_injection_structure))),rma::options[tabular$eq'distinct+specimens.name+as+specimen_name,stereotaxic_injection_coordinates.coordinates_ap,stereotaxic_injection_coordinates.coordinates_dv,stereotaxic_injection_coordinates.coordinates_ml,data_sets.id+as+data_set_id,stereotaxic_injections.primary_injection_structure_id,structures.acronym+as+target_structure,hemispheres.symbol+as+hemisphere,projection_structure_unionizes.is_injection,projection_structure_unionizes.sum_pixels,projection_structure_unionizes.sum_projection_pixels,projection_structure_unionizes.sum_pixel_intensity,projection_structure_unionizes.sum_projection_pixel_intensity,projection_structure_unionizes.projection_density,projection_structure_unionizes.projection_intensity,projection_structure_unionizes.projection_energy,projection_structure_unionizes.volume,projection_structure_unionizes.projection_volume,projection_structure_unionizes.normalized_projection_volume,projection_structure_unionizes.max_voxel_density,projection_structure_unionizes.max_voxel_x,projection_structure_unionizes.max_voxel_y,projection_structure_unionizes.max_voxel_z'][num_rows$eq'all']\n"
     ]
    }
   ],
   "source": [
    "#http://api.brain-map.org/api/v2/data/query.csv?criteria=\n",
    "#model::ProjectionStructureUnionize,\n",
    "#rma::criteria,[is_injection$eq'f'],hemisphere,structure,section_data_set[id$eq183282970](specimen(stereotaxic_injections(primary_injection_structure,stereotaxic_injection_coordinates))),rma::include,section_data_set(specimen(stereotaxic_injections(primary_injection_structure))),\n",
    "#rma::options[tabular$eq'distinct+specimens.name+as+specimen_name,stereotaxic_injection_coordinates.coordinates_ap,stereotaxic_injection_coordinates.coordinates_dv,stereotaxic_injection_coordinates.coordinates_ml,data_sets.id+as+data_set_id,stereotaxic_injections.primary_injection_structure_id,structures.acronym+as+target_structure,hemispheres.symbol+as+hemisphere,projection_structure_unionizes.is_injection,projection_structure_unionizes.sum_pixels,projection_structure_unionizes.sum_projection_pixels,projection_structure_unionizes.sum_pixel_intensity,projection_structure_unionizes.sum_projection_pixel_intensity,projection_structure_unionizes.projection_density,projection_structure_unionizes.projection_intensity,projection_structure_unionizes.projection_energy,projection_structure_unionizes.volume,projection_structure_unionizes.projection_volume,projection_structure_unionizes.normalized_projection_volume,projection_structure_unionizes.max_voxel_density,projection_structure_unionizes.max_voxel_x,projection_structure_unionizes.max_voxel_y,projection_structure_unionizes.max_voxel_z'][start_row$eq0][num_rows$eq3000]\n",
    "\n",
    "def build_query(section_data_set_id):\n",
    "    criteria_string = ''.join([\"[is_injection$eq'f'],\",\n",
    "                               \"hemisphere,\",\n",
    "                               \"structure,\",\n",
    "                               \"section_data_set[id$eq%d]\" % (section_data_set_id),\n",
    "                               \"(specimen\",\n",
    "                               \"(stereotaxic_injections\",\n",
    "                               \"(primary_injection_structure,stereotaxic_injection_coordinates)\",\n",
    "                               \"))\"])\n",
    "    include_string = ''.join([\"section_data_set\",\n",
    "                              \"(specimen\",\n",
    "                              \"(stereotaxic_injections\",\n",
    "                              \"(primary_injection_structure)\",\n",
    "                              \"))\"])\n",
    "    tabular_list = ['distinct+specimens.name+as+specimen_name',\n",
    "                    'stereotaxic_injection_coordinates.coordinates_ap',\n",
    "                    'stereotaxic_injection_coordinates.coordinates_dv',\n",
    "                    'stereotaxic_injection_coordinates.coordinates_ml',\n",
    "                    'data_sets.id+as+data_set_id',\n",
    "                    'stereotaxic_injections.primary_injection_structure_id',\n",
    "                    'structures.acronym+as+target_structure',\n",
    "                    'hemispheres.symbol+as+hemisphere',\n",
    "                    'projection_structure_unionizes.is_injection',\n",
    "                    'projection_structure_unionizes.sum_pixels',\n",
    "                    'projection_structure_unionizes.sum_projection_pixels',\n",
    "                    'projection_structure_unionizes.sum_pixel_intensity',\n",
    "                    'projection_structure_unionizes.sum_projection_pixel_intensity',\n",
    "                    'projection_structure_unionizes.projection_density',\n",
    "                    'projection_structure_unionizes.projection_intensity',\n",
    "                    'projection_structure_unionizes.projection_energy',\n",
    "                    'projection_structure_unionizes.volume',\n",
    "                    'projection_structure_unionizes.projection_volume',\n",
    "                    'projection_structure_unionizes.normalized_projection_volume',\n",
    "                    'projection_structure_unionizes.max_voxel_density',\n",
    "                    'projection_structure_unionizes.max_voxel_x',\n",
    "                    'projection_structure_unionizes.max_voxel_y',\n",
    "                    'projection_structure_unionizes.max_voxel_z']\n",
    "    model_stage = rma.model_stage('ProjectionStructureUnionize',\n",
    "                                  criteria=criteria_string,\n",
    "                                  include=include_string,\n",
    "                                  tabular=[\"'%s'\" % ','.join(tabular_list)],  # TODO: better handling of tabular quotes\n",
    "                                  num_rows='all')\n",
    "    url = rma.build_query_url(model_stage, fmt='csv')\n",
    "    \n",
    "    return url\n",
    "\n",
    "print(build_query(183282970))\n",
    "    \n"
   ]
  },
  {
   "cell_type": "markdown",
   "id": "2b058d60",
   "metadata": {
    "papermill": {
     "duration": 0.005089,
     "end_time": "2023-02-28T21:23:44.295408",
     "exception": false,
     "start_time": "2023-02-28T21:23:44.290319",
     "status": "completed"
    },
    "tags": []
   },
   "source": [
    "    Read experiment grid data for these experiments by type\n",
    "        3D numpy arrays worked pretty well for Friday harbor last year"
   ]
  },
  {
   "cell_type": "markdown",
   "id": "74673d44",
   "metadata": {
    "papermill": {
     "duration": 0.005172,
     "end_time": "2023-02-28T21:23:44.305717",
     "exception": false,
     "start_time": "2023-02-28T21:23:44.300545",
     "status": "completed"
    },
    "tags": []
   },
   "source": [
    "Process data:"
   ]
  },
  {
   "cell_type": "markdown",
   "id": "d72ece0f",
   "metadata": {
    "papermill": {
     "duration": 0.005051,
     "end_time": "2023-02-28T21:23:44.315846",
     "exception": false,
     "start_time": "2023-02-28T21:23:44.310795",
     "status": "completed"
    },
    "tags": []
   },
   "source": [
    "    Mask grid data using the data mask or injection fraction volumes"
   ]
  },
  {
   "cell_type": "markdown",
   "id": "71b03e83",
   "metadata": {
    "papermill": {
     "duration": 0.005145,
     "end_time": "2023-02-28T21:23:44.326085",
     "exception": false,
     "start_time": "2023-02-28T21:23:44.320940",
     "status": "completed"
    },
    "tags": []
   },
   "source": [
    "        “Give me the projection energy voxels from this experiment that are valid for analysis”"
   ]
  },
  {
   "cell_type": "markdown",
   "id": "9c3216e5",
   "metadata": {
    "papermill": {
     "duration": 0.005074,
     "end_time": "2023-02-28T21:23:44.336245",
     "exception": false,
     "start_time": "2023-02-28T21:23:44.331171",
     "status": "completed"
    },
    "tags": []
   },
   "source": [
    "        “Give me the injection density voxels inside the injection site”"
   ]
  },
  {
   "cell_type": "markdown",
   "id": "42cf8d88",
   "metadata": {
    "papermill": {
     "duration": 0.005142,
     "end_time": "2023-02-28T21:23:44.346608",
     "exception": false,
     "start_time": "2023-02-28T21:23:44.341466",
     "status": "completed"
    },
    "tags": []
   },
   "source": [
    "    Mask grid data arrays by structure"
   ]
  },
  {
   "cell_type": "markdown",
   "id": "fb406063",
   "metadata": {
    "papermill": {
     "duration": 0.005086,
     "end_time": "2023-02-28T21:23:44.356972",
     "exception": false,
     "start_time": "2023-02-28T21:23:44.351886",
     "status": "completed"
    },
    "tags": []
   },
   "source": [
    "        “Give me the projection density voxel data for voxels belonging to VISp”"
   ]
  },
  {
   "cell_type": "markdown",
   "id": "ece0a710",
   "metadata": {
    "papermill": {
     "duration": 0.005134,
     "end_time": "2023-02-28T21:23:44.367204",
     "exception": false,
     "start_time": "2023-02-28T21:23:44.362070",
     "status": "completed"
    },
    "tags": []
   },
   "source": [
    "        This will involve the annotation volume at the correct resolution\n",
    "            http://download.alleninstitute.org/informatics-archive/current-release/mouse_ccf/annotation/ccf_2015/\n"
   ]
  },
  {
   "cell_type": "code",
   "execution_count": 12,
   "id": "0ad6597c",
   "metadata": {
    "execution": {
     "iopub.execute_input": "2023-02-28T21:23:44.378907Z",
     "iopub.status.busy": "2023-02-28T21:23:44.378366Z",
     "iopub.status.idle": "2023-02-28T21:23:45.954136Z",
     "shell.execute_reply": "2023-02-28T21:23:45.953491Z"
    },
    "papermill": {
     "duration": 1.584175,
     "end_time": "2023-02-28T21:23:45.956457",
     "exception": false,
     "start_time": "2023-02-28T21:23:44.372282",
     "status": "completed"
    },
    "tags": []
   },
   "outputs": [
    {
     "name": "stderr",
     "output_type": "stream",
     "text": [
      "2023-02-28 21:23:44,380 allensdk.api.api.retrieve_file_over_http INFO     Downloading URL: http://download.alleninstitute.org/informatics-archive/current-release/mouse_ccf/annotation/ccf_2015/annotation_25.nrrd\n"
     ]
    }
   ],
   "source": [
    "resolution=25\n",
    "mca.download_volumetric_data(\n",
    "    'annotation/ccf_2015', \n",
    "    'annotation_%d.nrrd' % (resolution),\n",
    "    save_file_path=str(Path(output_dir) / 'volumetric_data.nrrd')\n",
    ")\n"
   ]
  },
  {
   "cell_type": "code",
   "execution_count": null,
   "id": "e3875cb2",
   "metadata": {
    "collapsed": true,
    "papermill": {
     "duration": 0.005373,
     "end_time": "2023-02-28T21:23:45.967316",
     "exception": false,
     "start_time": "2023-02-28T21:23:45.961943",
     "status": "completed"
    },
    "tags": []
   },
   "outputs": [],
   "source": []
  }
 ],
 "metadata": {
  "celltoolbar": "Tags",
  "kernelspec": {
   "display_name": "Python 3",
   "language": "python",
   "name": "python3"
  },
  "language_info": {
   "codemirror_mode": {
    "name": "ipython",
    "version": 3
   },
   "file_extension": ".py",
   "mimetype": "text/x-python",
   "name": "python",
   "nbconvert_exporter": "python",
   "pygments_lexer": "ipython3",
   "version": "3.8.16"
  },
  "papermill": {
   "default_parameters": {},
   "duration": 6.730231,
   "end_time": "2023-02-28T21:23:46.290074",
   "environment_variables": {},
   "exception": null,
   "input_path": "doc_template/examples_root/examples/nb/download_data_via_api.ipynb",
   "output_path": "/tmp/tmp60f2gmuo/scratch_nb.ipynb",
   "parameters": {
    "output_dir": "/tmp/tmp60f2gmuo",
    "resources_dir": "/home/runner/work/AllenSDK/AllenSDK/allensdk/internal/notebooks/resources"
   },
   "start_time": "2023-02-28T21:23:39.559843",
   "version": "2.4.0"
  }
 },
 "nbformat": 4,
 "nbformat_minor": 5
}
