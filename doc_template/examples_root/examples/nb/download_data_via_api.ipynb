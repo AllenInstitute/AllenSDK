{
 "cells": [
  {
   "cell_type": "markdown",
   "id": "f1665fa9",
   "metadata": {
    "papermill": {
     "duration": 0.004439,
     "end_time": "2023-11-10T18:38:20.296354",
     "exception": false,
     "start_time": "2023-11-10T18:38:20.291915",
     "status": "completed"
    },
    "tags": []
   },
   "source": [
    "Download this notebook in .ipynb format <a href='download_data_via_api.ipynb'>here</a>."
   ]
  },
  {
   "cell_type": "code",
   "execution_count": 1,
   "id": "c000a3a1",
   "metadata": {
    "execution": {
     "iopub.execute_input": "2023-11-10T18:38:20.305708Z",
     "iopub.status.busy": "2023-11-10T18:38:20.305197Z",
     "iopub.status.idle": "2023-11-10T18:38:20.312021Z",
     "shell.execute_reply": "2023-11-10T18:38:20.311467Z"
    },
    "papermill": {
     "duration": 0.013065,
     "end_time": "2023-11-10T18:38:20.313449",
     "exception": false,
     "start_time": "2023-11-10T18:38:20.300384",
     "status": "completed"
    },
    "tags": [
     "parameters"
    ]
   },
   "outputs": [],
   "source": [
    "output_dir = '.'"
   ]
  },
  {
   "cell_type": "code",
   "execution_count": 3,
   "id": "14487b52",
   "metadata": {
    "execution": {
     "iopub.execute_input": "2023-11-10T18:38:20.334891Z",
     "iopub.status.busy": "2023-11-10T18:38:20.334496Z",
     "iopub.status.idle": "2023-11-10T18:38:21.949492Z",
     "shell.execute_reply": "2023-11-10T18:38:21.948768Z"
    },
    "papermill": {
     "duration": 1.62111,
     "end_time": "2023-11-10T18:38:21.951245",
     "exception": false,
     "start_time": "2023-11-10T18:38:20.330135",
     "status": "completed"
    },
    "tags": []
   },
   "outputs": [],
   "source": [
    "import json\n",
    "from pathlib import Path\n",
    "\n",
    "from allensdk.api.api import Api\n",
    "from allensdk.api.queries.rma_api import RmaApi\n",
    "from allensdk.api.queries.mouse_connectivity_api import MouseConnectivityApi\n",
    "\n",
    "rma = RmaApi()\n",
    "\n",
    "def read_data(parsed_json):\n",
    "    return parsed_json['msg']\n",
    "\n",
    "def pretty(result):\n",
    "    print(json.dumps(result, indent=2))"
   ]
  },
  {
   "cell_type": "markdown",
   "id": "91962df6",
   "metadata": {
    "papermill": {
     "duration": 0.003961,
     "end_time": "2023-11-10T18:38:21.959365",
     "exception": false,
     "start_time": "2023-11-10T18:38:21.955404",
     "status": "completed"
    },
    "tags": []
   },
   "source": [
    "Download lists of experiments by injection hemisphere, mouse cre line, and injection structure"
   ]
  },
  {
   "cell_type": "markdown",
   "id": "290563c1",
   "metadata": {
    "papermill": {
     "duration": 0.003723,
     "end_time": "2023-11-10T18:38:21.966841",
     "exception": false,
     "start_time": "2023-11-10T18:38:21.963118",
     "status": "completed"
    },
    "tags": []
   },
   "source": [
    "    Download Pvalb experiments injected in the left hemisphere VISp"
   ]
  },
  {
   "cell_type": "code",
   "execution_count": 4,
   "id": "9be3f29d",
   "metadata": {
    "execution": {
     "iopub.execute_input": "2023-11-10T18:38:21.976428Z",
     "iopub.status.busy": "2023-11-10T18:38:21.975707Z",
     "iopub.status.idle": "2023-11-10T18:38:22.105089Z",
     "shell.execute_reply": "2023-11-10T18:38:22.104397Z"
    },
    "papermill": {
     "duration": 0.135832,
     "end_time": "2023-11-10T18:38:22.106469",
     "exception": false,
     "start_time": "2023-11-10T18:38:21.970637",
     "status": "completed"
    },
    "tags": []
   },
   "outputs": [
    {
     "name": "stdout",
     "output_type": "stream",
     "text": [
      "[\n",
      "  {\n",
      "    \"id\": 5,\n",
      "    \"name\": \"Mouse Sagittal, v1 (2008)\"\n",
      "  },\n",
      "  {\n",
      "    \"id\": 602630314,\n",
      "    \"name\": \"Mouse, Adult, 3D Coronal\"\n",
      "  },\n",
      "  {\n",
      "    \"id\": 2,\n",
      "    \"name\": \"Mouse, P56, Sagittal\"\n",
      "  },\n",
      "  {\n",
      "    \"id\": 4,\n",
      "    \"name\": \"Mouse Coronal, v1 (2008)\"\n",
      "  },\n",
      "  {\n",
      "    \"id\": 1,\n",
      "    \"name\": \"Mouse, P56, Coronal\"\n",
      "  }\n",
      "]\n"
     ]
    }
   ],
   "source": [
    "# Get the atlas id\n",
    "def query_atlases(search_pattern):\n",
    "    return rma.build_query_url(rma.model_stage('Atlas',\n",
    "                                               criteria=\"[name$il'%s']\" % (search_pattern),\n",
    "                                               only=['id', 'name']))\n",
    "\n",
    "atlases = rma.do_query(query_atlases, read_data, 'mouse*')\n",
    "pretty(atlases)\n"
   ]
  },
  {
   "cell_type": "code",
   "execution_count": 5,
   "id": "7f5555e6",
   "metadata": {
    "execution": {
     "iopub.execute_input": "2023-11-10T18:38:22.115631Z",
     "iopub.status.busy": "2023-11-10T18:38:22.115183Z",
     "iopub.status.idle": "2023-11-10T18:38:22.232129Z",
     "shell.execute_reply": "2023-11-10T18:38:22.231442Z"
    },
    "papermill": {
     "duration": 0.122855,
     "end_time": "2023-11-10T18:38:22.233538",
     "exception": false,
     "start_time": "2023-11-10T18:38:22.110683",
     "status": "completed"
    },
    "tags": []
   },
   "outputs": [
    {
     "name": "stdout",
     "output_type": "stream",
     "text": [
      "{\n",
      "  \"id\": 385,\n",
      "  \"name\": \"Primary visual area\"\n",
      "}\n"
     ]
    }
   ],
   "source": [
    "# get the structure\n",
    "def query_structure(acronym, ontology_id):\n",
    "    return rma.build_query_url(rma.model_stage('Structure',\n",
    "                                               criteria=\"[acronym$eq'%s'][ontology_id$eq%d]\" % (acronym, ontology_id),\n",
    "                                               only=['id','name']))\n",
    "\n",
    "structure = rma.do_query(query_structure, read_data, 'VISp', 1)[0]\n",
    "pretty(structure)\n"
   ]
  },
  {
   "cell_type": "code",
   "execution_count": 6,
   "id": "d8576520",
   "metadata": {
    "execution": {
     "iopub.execute_input": "2023-11-10T18:38:22.242753Z",
     "iopub.status.busy": "2023-11-10T18:38:22.242312Z",
     "iopub.status.idle": "2023-11-10T18:38:22.359214Z",
     "shell.execute_reply": "2023-11-10T18:38:22.358595Z"
    },
    "papermill": {
     "duration": 0.122895,
     "end_time": "2023-11-10T18:38:22.360583",
     "exception": false,
     "start_time": "2023-11-10T18:38:22.237688",
     "status": "completed"
    },
    "tags": []
   },
   "outputs": [
    {
     "data": {
      "text/plain": [
       "1"
      ]
     },
     "execution_count": 6,
     "metadata": {},
     "output_type": "execute_result"
    }
   ],
   "source": [
    "def query_hemisphere(name):\n",
    "    return rma.build_query_url(rma.model_stage('Hemisphere', criteria=\"[name$il'%s']\" % (name)))\n",
    "                               \n",
    "left_hemisphere_id = rma.do_query(query_hemisphere, read_data, 'left')[0]['id']\n",
    "\n",
    "left_hemisphere_id"
   ]
  },
  {
   "cell_type": "code",
   "execution_count": 7,
   "id": "8e798325",
   "metadata": {
    "execution": {
     "iopub.execute_input": "2023-11-10T18:38:22.370042Z",
     "iopub.status.busy": "2023-11-10T18:38:22.369675Z",
     "iopub.status.idle": "2023-11-10T18:38:22.525056Z",
     "shell.execute_reply": "2023-11-10T18:38:22.524346Z"
    },
    "papermill": {
     "duration": 0.16175,
     "end_time": "2023-11-10T18:38:22.526589",
     "exception": false,
     "start_time": "2023-11-10T18:38:22.364839",
     "status": "completed"
    },
    "tags": []
   },
   "outputs": [
    {
     "data": {
      "text/plain": [
       "0"
      ]
     },
     "execution_count": 7,
     "metadata": {},
     "output_type": "execute_result"
    }
   ],
   "source": [
    "mca = MouseConnectivityApi('http://api.brain-map.org')\n",
    "experiments = mca.get_experiments(structure['id'])\n",
    "\n",
    "# TODO: figure out why this didn't work w/ left hemisphere\n",
    "#other_hemisphere_id = 3\n",
    "\n",
    "# get experiments doesn't take hemisphere into account, so filter the results with a list comprehension\n",
    "#left_hemisphere_experiments = [e for e in experiments\n",
    "#                               if any([(injection['primary_injection_structure']['hemisphere_id'] == other_hemisphere_id)\n",
    "#                               for injection in e['specimen']['stereotaxic_injections']])]\n",
    "                                                          \n",
    "#pretty(left_hemisphere_experiments)\n",
    "len(experiments)"
   ]
  },
  {
   "cell_type": "markdown",
   "id": "27b41b9a",
   "metadata": {
    "papermill": {
     "duration": 0.004038,
     "end_time": "2023-11-10T18:38:22.535073",
     "exception": false,
     "start_time": "2023-11-10T18:38:22.531035",
     "status": "completed"
    },
    "tags": []
   },
   "source": [
    "Download grid data for these experiments at a particular resolution"
   ]
  },
  {
   "cell_type": "code",
   "execution_count": 8,
   "id": "26307b99",
   "metadata": {
    "execution": {
     "iopub.execute_input": "2023-11-10T18:38:22.544262Z",
     "iopub.status.busy": "2023-11-10T18:38:22.543779Z",
     "iopub.status.idle": "2023-11-10T18:38:22.547228Z",
     "shell.execute_reply": "2023-11-10T18:38:22.546665Z"
    },
    "papermill": {
     "duration": 0.009492,
     "end_time": "2023-11-10T18:38:22.548486",
     "exception": false,
     "start_time": "2023-11-10T18:38:22.538994",
     "status": "completed"
    },
    "tags": []
   },
   "outputs": [],
   "source": [
    "from allensdk.api.queries.grid_data_api import GridDataApi"
   ]
  },
  {
   "cell_type": "markdown",
   "id": "841e106e",
   "metadata": {
    "papermill": {
     "duration": 0.004045,
     "end_time": "2023-11-10T18:38:22.556519",
     "exception": false,
     "start_time": "2023-11-10T18:38:22.552474",
     "status": "completed"
    },
    "tags": []
   },
   "source": [
    "10, 25, 50, or 100 micron volumes for:\n",
    "\n",
    "    * Projection density\n",
    "\n",
    "    * projection energy\n",
    "\n",
    "    * injection fraction\n",
    "\n",
    "    * Injection density\n",
    "\n",
    "    * Injection energy\n",
    "\n",
    "    * Data mask (mask of valid voxels per experiment)\n"
   ]
  },
  {
   "cell_type": "code",
   "execution_count": 9,
   "id": "88d5b178",
   "metadata": {
    "execution": {
     "iopub.execute_input": "2023-11-10T18:38:22.565812Z",
     "iopub.status.busy": "2023-11-10T18:38:22.565397Z",
     "iopub.status.idle": "2023-11-10T18:38:23.650969Z",
     "shell.execute_reply": "2023-11-10T18:38:23.650209Z"
    },
    "papermill": {
     "duration": 1.092155,
     "end_time": "2023-11-10T18:38:23.652640",
     "exception": false,
     "start_time": "2023-11-10T18:38:22.560485",
     "status": "completed"
    },
    "tags": []
   },
   "outputs": [
    {
     "name": "stderr",
     "output_type": "stream",
     "text": [
      "2023-11-10 18:38:22,567 allensdk.api.api.retrieve_file_over_http INFO     Downloading URL: http://api.brain-map.org/grid_data/download_file/183282970?image=projection_density&resolution=100\n",
      "2023-11-10 18:38:22,929 allensdk.api.api.retrieve_file_over_http INFO     Downloading URL: http://api.brain-map.org/grid_data/download_file/183282970?image=projection_energy&resolution=100\n",
      "2023-11-10 18:38:23,228 allensdk.api.api.retrieve_file_over_http INFO     Downloading URL: http://api.brain-map.org/grid_data/download_file/183282970?image=injection_fraction&resolution=100\n",
      "2023-11-10 18:38:23,371 allensdk.api.api.retrieve_file_over_http INFO     Downloading URL: http://api.brain-map.org/grid_data/download_file/183282970?image=injection_density&resolution=100\n",
      "2023-11-10 18:38:23,519 allensdk.api.api.retrieve_file_over_http INFO     Downloading URL: http://api.brain-map.org/grid_data/download_file/183282970?image=injection_energy&resolution=100\n"
     ]
    }
   ],
   "source": [
    "gda = GridDataApi()\n",
    "\n",
    "# TODO: show search to get this\n",
    "section_data_set_id = 183282970\n",
    "\n",
    "image_list = ['projection_density',\n",
    "              'projection_energy',\n",
    "              'injection_fraction',\n",
    "              'injection_density',\n",
    "              'injection_energy']\n",
    "\n",
    "resolution = 100 # or 10, 25, 50\n",
    "\n",
    "# Hmm, this didn't work for an image list of length > 1\n",
    "for image in image_list:\n",
    "    nrrd_file = str(Path(output_dir) / f'grid_{section_data_set_id}_{image}.nrrd')\n",
    "    gda.download_projection_grid_data(section_data_set_id,\n",
    "                                      image=[image],\n",
    "                                      resolution=resolution,\n",
    "                                      save_file_path=nrrd_file)\n",
    "\n",
    "\n",
    "# TODO: data mask"
   ]
  },
  {
   "cell_type": "markdown",
   "id": "96e57a7b",
   "metadata": {
    "papermill": {
     "duration": 0.004507,
     "end_time": "2023-11-10T18:38:23.661824",
     "exception": false,
     "start_time": "2023-11-10T18:38:23.657317",
     "status": "completed"
    },
    "tags": []
   },
   "source": [
    "    http://help.brain-map.org//display/mouseconnectivity/API#API-Expression3DGrids"
   ]
  },
  {
   "cell_type": "code",
   "execution_count": 10,
   "id": "d716abf8",
   "metadata": {
    "execution": {
     "iopub.execute_input": "2023-11-10T18:38:23.672048Z",
     "iopub.status.busy": "2023-11-10T18:38:23.671480Z",
     "iopub.status.idle": "2023-11-10T18:38:24.097050Z",
     "shell.execute_reply": "2023-11-10T18:38:24.096318Z"
    },
    "papermill": {
     "duration": 0.432844,
     "end_time": "2023-11-10T18:38:24.098898",
     "exception": false,
     "start_time": "2023-11-10T18:38:23.666054",
     "status": "completed"
    },
    "tags": []
   },
   "outputs": [
    {
     "name": "stderr",
     "output_type": "stream",
     "text": [
      "/tmp/ipykernel_3786/1972217619.py:1: VisibleDeprecationWarning: Function download_expression_grid_data is deprecated. Use download_gene_expression_grid_data instead\n",
      "  gda.download_expression_grid_data(\n",
      "2023-11-10 18:38:23,673 allensdk.api.api.retrieve_file_over_http INFO     Downloading URL: http://api.brain-map.org/grid_data/download/183282970?include=projection_density,projection_energy,injection_fraction,injection_density,injection_energy\n"
     ]
    }
   ],
   "source": [
    "gda.download_expression_grid_data(\n",
    "    section_data_set_id, \n",
    "    include=image_list,\n",
    "    path=str(Path(output_dir) / f'{section_data_set_id}.zip')\n",
    ")"
   ]
  },
  {
   "cell_type": "markdown",
   "id": "982f3337",
   "metadata": {
    "papermill": {
     "duration": 0.004504,
     "end_time": "2023-11-10T18:38:24.108051",
     "exception": false,
     "start_time": "2023-11-10T18:38:24.103547",
     "status": "completed"
    },
    "tags": []
   },
   "source": [
    "Read data (File mode):"
   ]
  },
  {
   "cell_type": "markdown",
   "id": "a468118f",
   "metadata": {
    "papermill": {
     "duration": 0.004098,
     "end_time": "2023-11-10T18:38:24.116322",
     "exception": false,
     "start_time": "2023-11-10T18:38:24.112224",
     "status": "completed"
    },
    "tags": []
   },
   "source": [
    "    Read experiment metadata by injection hemisphere, mouse cre line, and injection structure\n",
    "        “I download a list of all experiments.  Which were injected in VISp?”"
   ]
  },
  {
   "cell_type": "code",
   "execution_count": 11,
   "id": "3ffe3c15",
   "metadata": {
    "execution": {
     "iopub.execute_input": "2023-11-10T18:38:24.126360Z",
     "iopub.status.busy": "2023-11-10T18:38:24.125899Z",
     "iopub.status.idle": "2023-11-10T18:38:24.132686Z",
     "shell.execute_reply": "2023-11-10T18:38:24.132006Z"
    },
    "papermill": {
     "duration": 0.013638,
     "end_time": "2023-11-10T18:38:24.134128",
     "exception": false,
     "start_time": "2023-11-10T18:38:24.120490",
     "status": "completed"
    },
    "tags": []
   },
   "outputs": [
    {
     "name": "stdout",
     "output_type": "stream",
     "text": [
      "http://api.brain-map.org/api/v2/data/query.csv?q=model::ProjectionStructureUnionize,rma::criteria,[is_injection$eq'f'],hemisphere,structure,section_data_set[id$eq183282970](specimen(stereotaxic_injections(primary_injection_structure,stereotaxic_injection_coordinates))),rma::include,section_data_set(specimen(stereotaxic_injections(primary_injection_structure))),rma::options[tabular$eq'distinct+specimens.name+as+specimen_name,stereotaxic_injection_coordinates.coordinates_ap,stereotaxic_injection_coordinates.coordinates_dv,stereotaxic_injection_coordinates.coordinates_ml,data_sets.id+as+data_set_id,stereotaxic_injections.primary_injection_structure_id,structures.acronym+as+target_structure,hemispheres.symbol+as+hemisphere,projection_structure_unionizes.is_injection,projection_structure_unionizes.sum_pixels,projection_structure_unionizes.sum_projection_pixels,projection_structure_unionizes.sum_pixel_intensity,projection_structure_unionizes.sum_projection_pixel_intensity,projection_structure_unionizes.projection_density,projection_structure_unionizes.projection_intensity,projection_structure_unionizes.projection_energy,projection_structure_unionizes.volume,projection_structure_unionizes.projection_volume,projection_structure_unionizes.normalized_projection_volume,projection_structure_unionizes.max_voxel_density,projection_structure_unionizes.max_voxel_x,projection_structure_unionizes.max_voxel_y,projection_structure_unionizes.max_voxel_z'][num_rows$eq'all']\n"
     ]
    }
   ],
   "source": [
    "#http://api.brain-map.org/api/v2/data/query.csv?criteria=\n",
    "#model::ProjectionStructureUnionize,\n",
    "#rma::criteria,[is_injection$eq'f'],hemisphere,structure,section_data_set[id$eq183282970](specimen(stereotaxic_injections(primary_injection_structure,stereotaxic_injection_coordinates))),rma::include,section_data_set(specimen(stereotaxic_injections(primary_injection_structure))),\n",
    "#rma::options[tabular$eq'distinct+specimens.name+as+specimen_name,stereotaxic_injection_coordinates.coordinates_ap,stereotaxic_injection_coordinates.coordinates_dv,stereotaxic_injection_coordinates.coordinates_ml,data_sets.id+as+data_set_id,stereotaxic_injections.primary_injection_structure_id,structures.acronym+as+target_structure,hemispheres.symbol+as+hemisphere,projection_structure_unionizes.is_injection,projection_structure_unionizes.sum_pixels,projection_structure_unionizes.sum_projection_pixels,projection_structure_unionizes.sum_pixel_intensity,projection_structure_unionizes.sum_projection_pixel_intensity,projection_structure_unionizes.projection_density,projection_structure_unionizes.projection_intensity,projection_structure_unionizes.projection_energy,projection_structure_unionizes.volume,projection_structure_unionizes.projection_volume,projection_structure_unionizes.normalized_projection_volume,projection_structure_unionizes.max_voxel_density,projection_structure_unionizes.max_voxel_x,projection_structure_unionizes.max_voxel_y,projection_structure_unionizes.max_voxel_z'][start_row$eq0][num_rows$eq3000]\n",
    "\n",
    "def build_query(section_data_set_id):\n",
    "    criteria_string = ''.join([\"[is_injection$eq'f'],\",\n",
    "                               \"hemisphere,\",\n",
    "                               \"structure,\",\n",
    "                               \"section_data_set[id$eq%d]\" % (section_data_set_id),\n",
    "                               \"(specimen\",\n",
    "                               \"(stereotaxic_injections\",\n",
    "                               \"(primary_injection_structure,stereotaxic_injection_coordinates)\",\n",
    "                               \"))\"])\n",
    "    include_string = ''.join([\"section_data_set\",\n",
    "                              \"(specimen\",\n",
    "                              \"(stereotaxic_injections\",\n",
    "                              \"(primary_injection_structure)\",\n",
    "                              \"))\"])\n",
    "    tabular_list = ['distinct+specimens.name+as+specimen_name',\n",
    "                    'stereotaxic_injection_coordinates.coordinates_ap',\n",
    "                    'stereotaxic_injection_coordinates.coordinates_dv',\n",
    "                    'stereotaxic_injection_coordinates.coordinates_ml',\n",
    "                    'data_sets.id+as+data_set_id',\n",
    "                    'stereotaxic_injections.primary_injection_structure_id',\n",
    "                    'structures.acronym+as+target_structure',\n",
    "                    'hemispheres.symbol+as+hemisphere',\n",
    "                    'projection_structure_unionizes.is_injection',\n",
    "                    'projection_structure_unionizes.sum_pixels',\n",
    "                    'projection_structure_unionizes.sum_projection_pixels',\n",
    "                    'projection_structure_unionizes.sum_pixel_intensity',\n",
    "                    'projection_structure_unionizes.sum_projection_pixel_intensity',\n",
    "                    'projection_structure_unionizes.projection_density',\n",
    "                    'projection_structure_unionizes.projection_intensity',\n",
    "                    'projection_structure_unionizes.projection_energy',\n",
    "                    'projection_structure_unionizes.volume',\n",
    "                    'projection_structure_unionizes.projection_volume',\n",
    "                    'projection_structure_unionizes.normalized_projection_volume',\n",
    "                    'projection_structure_unionizes.max_voxel_density',\n",
    "                    'projection_structure_unionizes.max_voxel_x',\n",
    "                    'projection_structure_unionizes.max_voxel_y',\n",
    "                    'projection_structure_unionizes.max_voxel_z']\n",
    "    model_stage = rma.model_stage('ProjectionStructureUnionize',\n",
    "                                  criteria=criteria_string,\n",
    "                                  include=include_string,\n",
    "                                  tabular=[\"'%s'\" % ','.join(tabular_list)],  # TODO: better handling of tabular quotes\n",
    "                                  num_rows='all')\n",
    "    url = rma.build_query_url(model_stage, fmt='csv')\n",
    "    \n",
    "    return url\n",
    "\n",
    "print(build_query(183282970))\n",
    "    \n"
   ]
  },
  {
   "cell_type": "markdown",
   "id": "2b058d60",
   "metadata": {
    "papermill": {
     "duration": 0.004215,
     "end_time": "2023-11-10T18:38:24.142639",
     "exception": false,
     "start_time": "2023-11-10T18:38:24.138424",
     "status": "completed"
    },
    "tags": []
   },
   "source": [
    "    Read experiment grid data for these experiments by type\n",
    "        3D numpy arrays worked pretty well for Friday harbor last year"
   ]
  },
  {
   "cell_type": "markdown",
   "id": "74673d44",
   "metadata": {
    "papermill": {
     "duration": 0.004419,
     "end_time": "2023-11-10T18:38:24.151291",
     "exception": false,
     "start_time": "2023-11-10T18:38:24.146872",
     "status": "completed"
    },
    "tags": []
   },
   "source": [
    "Process data:"
   ]
  },
  {
   "cell_type": "markdown",
   "id": "d72ece0f",
   "metadata": {
    "papermill": {
     "duration": 0.004193,
     "end_time": "2023-11-10T18:38:24.159732",
     "exception": false,
     "start_time": "2023-11-10T18:38:24.155539",
     "status": "completed"
    },
    "tags": []
   },
   "source": [
    "    Mask grid data using the data mask or injection fraction volumes"
   ]
  },
  {
   "cell_type": "markdown",
   "id": "71b03e83",
   "metadata": {
    "papermill": {
     "duration": 0.004247,
     "end_time": "2023-11-10T18:38:24.168185",
     "exception": false,
     "start_time": "2023-11-10T18:38:24.163938",
     "status": "completed"
    },
    "tags": []
   },
   "source": [
    "        “Give me the projection energy voxels from this experiment that are valid for analysis”"
   ]
  },
  {
   "cell_type": "markdown",
   "id": "9c3216e5",
   "metadata": {
    "papermill": {
     "duration": 0.00425,
     "end_time": "2023-11-10T18:38:24.176666",
     "exception": false,
     "start_time": "2023-11-10T18:38:24.172416",
     "status": "completed"
    },
    "tags": []
   },
   "source": [
    "        “Give me the injection density voxels inside the injection site”"
   ]
  },
  {
   "cell_type": "markdown",
   "id": "42cf8d88",
   "metadata": {
    "papermill": {
     "duration": 0.004402,
     "end_time": "2023-11-10T18:38:24.185348",
     "exception": false,
     "start_time": "2023-11-10T18:38:24.180946",
     "status": "completed"
    },
    "tags": []
   },
   "source": [
    "    Mask grid data arrays by structure"
   ]
  },
  {
   "cell_type": "markdown",
   "id": "fb406063",
   "metadata": {
    "papermill": {
     "duration": 0.004184,
     "end_time": "2023-11-10T18:38:24.193780",
     "exception": false,
     "start_time": "2023-11-10T18:38:24.189596",
     "status": "completed"
    },
    "tags": []
   },
   "source": [
    "        “Give me the projection density voxel data for voxels belonging to VISp”"
   ]
  },
  {
   "cell_type": "markdown",
   "id": "ece0a710",
   "metadata": {
    "papermill": {
     "duration": 0.004231,
     "end_time": "2023-11-10T18:38:24.202213",
     "exception": false,
     "start_time": "2023-11-10T18:38:24.197982",
     "status": "completed"
    },
    "tags": []
   },
   "source": [
    "        This will involve the annotation volume at the correct resolution\n",
    "            http://download.alleninstitute.org/informatics-archive/current-release/mouse_ccf/annotation/ccf_2015/\n"
   ]
  },
  {
   "cell_type": "code",
   "execution_count": 12,
   "id": "0ad6597c",
   "metadata": {
    "execution": {
     "iopub.execute_input": "2023-11-10T18:38:24.212847Z",
     "iopub.status.busy": "2023-11-10T18:38:24.212052Z",
     "iopub.status.idle": "2023-11-10T18:38:24.972274Z",
     "shell.execute_reply": "2023-11-10T18:38:24.971685Z"
    },
    "papermill": {
     "duration": 0.767429,
     "end_time": "2023-11-10T18:38:24.973976",
     "exception": false,
     "start_time": "2023-11-10T18:38:24.206547",
     "status": "completed"
    },
    "tags": []
   },
   "outputs": [
    {
     "name": "stderr",
     "output_type": "stream",
     "text": [
      "2023-11-10 18:38:24,214 allensdk.api.api.retrieve_file_over_http INFO     Downloading URL: http://download.alleninstitute.org/informatics-archive/current-release/mouse_ccf/annotation/ccf_2015/annotation_25.nrrd\n"
     ]
    }
   ],
   "source": [
    "resolution=25\n",
    "mca.download_volumetric_data(\n",
    "    'annotation/ccf_2015', \n",
    "    'annotation_%d.nrrd' % (resolution),\n",
    "    save_file_path=str(Path(output_dir) / 'volumetric_data.nrrd')\n",
    ")\n"
   ]
  },
  {
   "cell_type": "code",
   "execution_count": null,
   "id": "e3875cb2",
   "metadata": {
    "collapsed": true,
    "papermill": {
     "duration": 0.004378,
     "end_time": "2023-11-10T18:38:24.982993",
     "exception": false,
     "start_time": "2023-11-10T18:38:24.978615",
     "status": "completed"
    },
    "tags": []
   },
   "outputs": [],
   "source": []
  }
 ],
 "metadata": {
  "celltoolbar": "Tags",
  "kernelspec": {
   "display_name": "Python 3",
   "language": "python",
   "name": "python3"
  },
  "language_info": {
   "codemirror_mode": {
    "name": "ipython",
    "version": 3
   },
   "file_extension": ".py",
   "mimetype": "text/x-python",
   "name": "python",
   "nbconvert_exporter": "python",
   "pygments_lexer": "ipython3",
   "version": "3.8.18"
  },
  "papermill": {
   "default_parameters": {},
   "duration": 5.723781,
   "end_time": "2023-11-10T18:38:25.303443",
   "environment_variables": {},
   "exception": null,
   "input_path": "doc_template/examples_root/examples/nb/download_data_via_api.ipynb",
   "output_path": "/tmp/tmpflww_6hm/scratch_nb.ipynb",
   "parameters": {
    "output_dir": "/tmp/tmpflww_6hm",
    "resources_dir": "/home/runner/work/AllenSDK/AllenSDK/allensdk/internal/notebooks/resources"
   },
   "start_time": "2023-11-10T18:38:19.579662",
   "version": "2.4.0"
  }
 },
 "nbformat": 4,
 "nbformat_minor": 5
}
