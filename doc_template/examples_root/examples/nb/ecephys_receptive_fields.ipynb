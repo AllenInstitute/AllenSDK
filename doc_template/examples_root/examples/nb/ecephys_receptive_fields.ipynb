{
 "cells": [
  {
   "cell_type": "markdown",
   "metadata": {},
   "source": [
    "# Analyzing Receptive Fields in Neuropixels Visual Coding Data\n",
    "\n",
    "## Tutorial overview\n",
    "\n",
    "One of the most important features of visually responsive neurons is the location and extent of their receptive field. Is it highly localized or spatially distributed? Is it centered on the stimulus display, or is it on an edge? How much does it overlap with the receptive fields of neurons in other regions? Obtaining answers to these questions is a crucial step for interpreting a results related to neurons' visual coding properties.\n",
    "\n",
    "This Jupyter notebook will cover the following topics:\n",
    "* <a href='#Receptive-field-mapping-stimulus'>Understanding the receptive field stimulus used in the Neuropixels Visual Coding experiments</a>\n",
    "* <a href='#Plotting-receptive-fields'>Plotting receptive fields for individual units</a>\n",
    "* Obtaining pre-computed metrics related to receptive fields (coming soon)\n",
    "* Finding experiments of interest based on receptive field overlap (coming soon)\n",
    "\n",
    "This tutorial assumes you've already created a data cache, or are working with the files on AWS. If you haven't reached that step yet, we recommend going through the [data access tutorial](./ecephys_data_access.ipynb) first.\n",
    "\n",
    "Functions related to additional aspects of data analysis will be covered in other tutorials. For a full list of available tutorials, see the [SDK documentation](https://allensdk.readthedocs.io/en/latest/visual_coding_neuropixels.html).\n",
    "\n",
    "Let's start by creating an `EcephysProjectCache` object, and pointing it to a new or existing manifest file:"
   ]
  },
  {
   "cell_type": "code",
   "execution_count": 1,
   "metadata": {},
   "outputs": [],
   "source": [
    "import os\n",
    "\n",
    "import numpy as np\n",
    "import pandas as pd\n",
    "\n",
    "import matplotlib.pyplot as plt\n",
    "%matplotlib inline\n",
    "\n",
    "from allensdk.brain_observatory.ecephys.ecephys_project_cache import EcephysProjectCache"
   ]
  },
  {
   "cell_type": "markdown",
   "metadata": {},
   "source": [
    "If you're not sure what a manifest file is or where to put it, please check out [this tutorial](./ecephys_data_access.ipynb) before going further."
   ]
  },
  {
   "cell_type": "code",
   "execution_count": 2,
   "metadata": {},
   "outputs": [],
   "source": [
    "data_directory = '/mnt/nvme0/ecephys_cache_dir_10_31' # needs to be updated\n",
    "\n",
    "manifest_path = os.path.join(data_directory, \"manifest.json\")\n",
    "\n",
    "cache = EcephysProjectCache.from_warehouse(manifest=manifest_path)"
   ]
  },
  {
   "cell_type": "markdown",
   "metadata": {},
   "source": [
    "Let's load the `sessions` table and grab the data for one experiment in the list:"
   ]
  },
  {
   "cell_type": "code",
   "execution_count": 3,
   "metadata": {},
   "outputs": [],
   "source": [
    "sessions = cache.get_session_table()\n",
    "\n",
    "session = cache.get_session_data(sessions.index.values[20])"
   ]
  },
  {
   "cell_type": "markdown",
   "metadata": {},
   "source": [
    "## Receptive field mapping stimulus"
   ]
  },
  {
   "cell_type": "markdown",
   "metadata": {},
   "source": [
    "The `session` object contains all of the spike data for one recording session, as well as information about the stimulus, mouse behavior, and probes.\n",
    "\n",
    "Because receptive field analysis is so central to interpreting results related to visual coding, every experiment in the Neuropixels Visual Coding dataset includes a standardized receptive field mapping stimulus. This stimulus is always shown at the beginning of the session, and uses the same parameters for every mouse. \n",
    "\n",
    "We can look at the `stimulus_presentations` DataFrame in order to examine the parameters of the receptive field mapping stimulus in more detail. The receptive field mapping stimulus consists of drifting Gabor patches with a circular mask, so we're going to filter the DataFrame based on `stimulus_name == 'gabors'`:"
   ]
  },
  {
   "cell_type": "code",
   "execution_count": 4,
   "metadata": {},
   "outputs": [
    {
     "data": {
      "text/plain": [
       "3645"
      ]
     },
     "execution_count": 4,
     "metadata": {},
     "output_type": "execute_result"
    }
   ],
   "source": [
    "rf_stim_table = session.stimulus_presentations[session.stimulus_presentations.stimulus_name == 'gabors']\n",
    "\n",
    "len(rf_stim_table)"
   ]
  },
  {
   "cell_type": "markdown",
   "metadata": {},
   "source": [
    "There are 3645 trials for the receptive field mapping stimulus. What combination of stimulus parameters is used across these trials? Let's see which parameters actually vary for this stimulus:"
   ]
  },
  {
   "cell_type": "code",
   "execution_count": 5,
   "metadata": {},
   "outputs": [
    {
     "data": {
      "text/plain": [
       "['orientation',\n",
       " 'start_time',\n",
       " 'stop_time',\n",
       " 'x_position',\n",
       " 'y_position',\n",
       " 'duration',\n",
       " 'stimulus_condition_id']"
      ]
     },
     "execution_count": 5,
     "metadata": {},
     "output_type": "execute_result"
    }
   ],
   "source": [
    "keys = rf_stim_table.keys()\n",
    "[key for key in keys if len(np.unique(rf_stim_table[key])) > 1]"
   ]
  },
  {
   "cell_type": "markdown",
   "metadata": {},
   "source": [
    "We can ignore the parameters related to stimulus timing (`start_time`, `stop_time`, and `duration`), as well as `stimulus_condition_id`, which is used to find presentations with the same parameters. So we're left with `orientation`, `x_position`, and `y_position`."
   ]
  },
  {
   "cell_type": "code",
   "execution_count": 6,
   "metadata": {},
   "outputs": [
    {
     "name": "stdout",
     "output_type": "stream",
     "text": [
      "Unique orientations : [0.0, 45.0, 90.0]\n",
      "Unique x positions : [-40.0, -30.0, -20.0, -10.0, 0.0, 10.0, 20.0, 30.0, 40.0]\n",
      "Unique y positions : [-40.0, -30.0, -20.0, -10.0, 0.0, 10.0, 20.0, 30.0, 40.0]\n"
     ]
    }
   ],
   "source": [
    "print('Unique orientations : ' + str(list(np.sort(rf_stim_table.orientation.unique()))))\n",
    "print('Unique x positions : ' + str(list(np.sort(rf_stim_table.x_position.unique()))))\n",
    "print('Unique y positions : ' + str(list(np.sort(rf_stim_table.y_position.unique()))))"
   ]
  },
  {
   "cell_type": "markdown",
   "metadata": {},
   "source": [
    "We have 3 orientations and a 9 x 9 grid of spatial locations. Note that these locations are relative to the center of the screen, not the mouse's center of gaze. How many repeats are there for each condition?"
   ]
  },
  {
   "cell_type": "code",
   "execution_count": 7,
   "metadata": {},
   "outputs": [
    {
     "data": {
      "text/plain": [
       "15.0"
      ]
     },
     "execution_count": 7,
     "metadata": {},
     "output_type": "execute_result"
    }
   ],
   "source": [
    "len(rf_stim_table) / (3 * 9 * 9)"
   ]
  },
  {
   "cell_type": "markdown",
   "metadata": {},
   "source": [
    "This should match the number we get when dividing the length of the DataFrame by the total number of conditions:"
   ]
  },
  {
   "cell_type": "code",
   "execution_count": 8,
   "metadata": {},
   "outputs": [
    {
     "data": {
      "text/plain": [
       "15.0"
      ]
     },
     "execution_count": 8,
     "metadata": {},
     "output_type": "execute_result"
    }
   ],
   "source": [
    "len(rf_stim_table) / len(np.unique(rf_stim_table.stimulus_condition_id))"
   ]
  },
  {
   "cell_type": "markdown",
   "metadata": {},
   "source": [
    "What about the drifting grating parameters that don't vary, such as size (in degrees), spatial frequency (in cycles/degree), temporal frequency (in Hz), and contrast?"
   ]
  },
  {
   "cell_type": "code",
   "execution_count": 9,
   "metadata": {},
   "outputs": [
    {
     "name": "stdout",
     "output_type": "stream",
     "text": [
      "Spatial frequency: 0.08\n",
      "Temporal frequency: 4.0\n",
      "Size: [20.0, 20.0]\n",
      "Contrast: 0.8\n"
     ]
    }
   ],
   "source": [
    "print('Spatial frequency: ' + str(rf_stim_table.spatial_frequency.unique()[0]))\n",
    "print('Temporal frequency: ' + str(rf_stim_table.temporal_frequency.unique()[0]))\n",
    "print('Size: ' + str(rf_stim_table['size'].unique()[0]))\n",
    "print('Contrast: ' + str(rf_stim_table['contrast'].unique()[0]))"
   ]
  },
  {
   "cell_type": "markdown",
   "metadata": {},
   "source": [
    "This stimulus is designed to drive neurons reliably across a wide variety of visual areas. Because of the large size (20 degree diameter), it lacks spatial precision. It also cannot be used to map on/off subfields on neurons. However, this is a reasonable compromise to allow us to map receptive fields with high reliability across all visual areas we're recording from.\n",
    "\n",
    "Now that we have a better understanding of the stimulus, let's look at receptive fields for some neurons."
   ]
  },
  {
   "cell_type": "code",
   "execution_count": 10,
   "metadata": {},
   "outputs": [
    {
     "data": {
      "text/plain": [
       "Index(['color', 'contrast', 'frame', 'orientation', 'phase', 'pos', 'size',\n",
       "       'spatial_frequency', 'start_time', 'stimulus_block', 'stimulus_name',\n",
       "       'stop_time', 'temporal_frequency', 'x_position', 'y_position',\n",
       "       'duration', 'stimulus_condition_id'],\n",
       "      dtype='object')"
      ]
     },
     "execution_count": 10,
     "metadata": {},
     "output_type": "execute_result"
    }
   ],
   "source": [
    "rf_stim_table.keys()"
   ]
  },
  {
   "cell_type": "markdown",
   "metadata": {},
   "source": [
    "## Plotting receptive fields"
   ]
  },
  {
   "cell_type": "markdown",
   "metadata": {},
   "source": [
    "In order to visualize receptive fields, we're going to use a function in the `ReceptiveFieldMapping` class, one of the stimulus-specific analysis classes in the AllenSDK. Let's import it and create a `rf_mapping` object based on the `session` we loaded earlier:"
   ]
  },
  {
   "cell_type": "code",
   "execution_count": 11,
   "metadata": {},
   "outputs": [],
   "source": [
    "from allensdk.brain_observatory.ecephys.stimulus_analysis.receptive_field_mapping import ReceptiveFieldMapping\n",
    "\n",
    "rf_mapping = ReceptiveFieldMapping(session)"
   ]
  },
  {
   "cell_type": "markdown",
   "metadata": {},
   "source": [
    "The `rf_mapping` object contains a variety of methods related to receptive field mapping. Its `stim_table` property holds the same DataFrame we created earlier."
   ]
  },
  {
   "cell_type": "code",
   "execution_count": 12,
   "metadata": {},
   "outputs": [
    {
     "data": {
      "text/html": [
       "<div>\n",
       "<style scoped>\n",
       "    .dataframe tbody tr th:only-of-type {\n",
       "        vertical-align: middle;\n",
       "    }\n",
       "\n",
       "    .dataframe tbody tr th {\n",
       "        vertical-align: top;\n",
       "    }\n",
       "\n",
       "    .dataframe thead th {\n",
       "        text-align: right;\n",
       "    }\n",
       "</style>\n",
       "<table border=\"1\" class=\"dataframe\">\n",
       "  <thead>\n",
       "    <tr style=\"text-align: right;\">\n",
       "      <th></th>\n",
       "      <th>contrast</th>\n",
       "      <th>orientation</th>\n",
       "      <th>phase</th>\n",
       "      <th>pos</th>\n",
       "      <th>size</th>\n",
       "      <th>spatial_frequency</th>\n",
       "      <th>start_time</th>\n",
       "      <th>stimulus_block</th>\n",
       "      <th>stimulus_name</th>\n",
       "      <th>stop_time</th>\n",
       "      <th>temporal_frequency</th>\n",
       "      <th>x_position</th>\n",
       "      <th>y_position</th>\n",
       "      <th>duration</th>\n",
       "      <th>stimulus_condition_id</th>\n",
       "    </tr>\n",
       "    <tr>\n",
       "      <th>stimulus_presentation_id</th>\n",
       "      <th></th>\n",
       "      <th></th>\n",
       "      <th></th>\n",
       "      <th></th>\n",
       "      <th></th>\n",
       "      <th></th>\n",
       "      <th></th>\n",
       "      <th></th>\n",
       "      <th></th>\n",
       "      <th></th>\n",
       "      <th></th>\n",
       "      <th></th>\n",
       "      <th></th>\n",
       "      <th></th>\n",
       "      <th></th>\n",
       "    </tr>\n",
       "  </thead>\n",
       "  <tbody>\n",
       "    <tr>\n",
       "      <th>1</th>\n",
       "      <td>0.8</td>\n",
       "      <td>0</td>\n",
       "      <td>[3644.93333333, 3644.93333333]</td>\n",
       "      <td>[-40.0, -30.0]</td>\n",
       "      <td>[20.0, 20.0]</td>\n",
       "      <td>0.08</td>\n",
       "      <td>84.804349</td>\n",
       "      <td>0</td>\n",
       "      <td>gabors</td>\n",
       "      <td>85.037870</td>\n",
       "      <td>4</td>\n",
       "      <td>-10</td>\n",
       "      <td>-40</td>\n",
       "      <td>0.233521</td>\n",
       "      <td>1</td>\n",
       "    </tr>\n",
       "    <tr>\n",
       "      <th>2</th>\n",
       "      <td>0.8</td>\n",
       "      <td>0</td>\n",
       "      <td>[3644.93333333, 3644.93333333]</td>\n",
       "      <td>[-40.0, -30.0]</td>\n",
       "      <td>[20.0, 20.0]</td>\n",
       "      <td>0.08</td>\n",
       "      <td>85.037870</td>\n",
       "      <td>0</td>\n",
       "      <td>gabors</td>\n",
       "      <td>85.288070</td>\n",
       "      <td>4</td>\n",
       "      <td>30</td>\n",
       "      <td>40</td>\n",
       "      <td>0.250201</td>\n",
       "      <td>2</td>\n",
       "    </tr>\n",
       "    <tr>\n",
       "      <th>3</th>\n",
       "      <td>0.8</td>\n",
       "      <td>0</td>\n",
       "      <td>[3644.93333333, 3644.93333333]</td>\n",
       "      <td>[-40.0, -30.0]</td>\n",
       "      <td>[20.0, 20.0]</td>\n",
       "      <td>0.08</td>\n",
       "      <td>85.288070</td>\n",
       "      <td>0</td>\n",
       "      <td>gabors</td>\n",
       "      <td>85.538271</td>\n",
       "      <td>4</td>\n",
       "      <td>0</td>\n",
       "      <td>0</td>\n",
       "      <td>0.250201</td>\n",
       "      <td>3</td>\n",
       "    </tr>\n",
       "    <tr>\n",
       "      <th>4</th>\n",
       "      <td>0.8</td>\n",
       "      <td>45</td>\n",
       "      <td>[3644.93333333, 3644.93333333]</td>\n",
       "      <td>[-40.0, -30.0]</td>\n",
       "      <td>[20.0, 20.0]</td>\n",
       "      <td>0.08</td>\n",
       "      <td>85.538271</td>\n",
       "      <td>0</td>\n",
       "      <td>gabors</td>\n",
       "      <td>85.788472</td>\n",
       "      <td>4</td>\n",
       "      <td>-20</td>\n",
       "      <td>20</td>\n",
       "      <td>0.250201</td>\n",
       "      <td>4</td>\n",
       "    </tr>\n",
       "    <tr>\n",
       "      <th>5</th>\n",
       "      <td>0.8</td>\n",
       "      <td>0</td>\n",
       "      <td>[3644.93333333, 3644.93333333]</td>\n",
       "      <td>[-40.0, -30.0]</td>\n",
       "      <td>[20.0, 20.0]</td>\n",
       "      <td>0.08</td>\n",
       "      <td>85.788472</td>\n",
       "      <td>0</td>\n",
       "      <td>gabors</td>\n",
       "      <td>86.038686</td>\n",
       "      <td>4</td>\n",
       "      <td>-40</td>\n",
       "      <td>40</td>\n",
       "      <td>0.250214</td>\n",
       "      <td>5</td>\n",
       "    </tr>\n",
       "    <tr>\n",
       "      <th>...</th>\n",
       "      <td>...</td>\n",
       "      <td>...</td>\n",
       "      <td>...</td>\n",
       "      <td>...</td>\n",
       "      <td>...</td>\n",
       "      <td>...</td>\n",
       "      <td>...</td>\n",
       "      <td>...</td>\n",
       "      <td>...</td>\n",
       "      <td>...</td>\n",
       "      <td>...</td>\n",
       "      <td>...</td>\n",
       "      <td>...</td>\n",
       "      <td>...</td>\n",
       "      <td>...</td>\n",
       "    </tr>\n",
       "    <tr>\n",
       "      <th>3641</th>\n",
       "      <td>0.8</td>\n",
       "      <td>90</td>\n",
       "      <td>[3644.93333333, 3644.93333333]</td>\n",
       "      <td>[-40.0, -30.0]</td>\n",
       "      <td>[20.0, 20.0]</td>\n",
       "      <td>0.08</td>\n",
       "      <td>995.598539</td>\n",
       "      <td>0</td>\n",
       "      <td>gabors</td>\n",
       "      <td>995.848745</td>\n",
       "      <td>4</td>\n",
       "      <td>30</td>\n",
       "      <td>-10</td>\n",
       "      <td>0.250206</td>\n",
       "      <td>175</td>\n",
       "    </tr>\n",
       "    <tr>\n",
       "      <th>3642</th>\n",
       "      <td>0.8</td>\n",
       "      <td>45</td>\n",
       "      <td>[3644.93333333, 3644.93333333]</td>\n",
       "      <td>[-40.0, -30.0]</td>\n",
       "      <td>[20.0, 20.0]</td>\n",
       "      <td>0.08</td>\n",
       "      <td>995.848745</td>\n",
       "      <td>0</td>\n",
       "      <td>gabors</td>\n",
       "      <td>996.098950</td>\n",
       "      <td>4</td>\n",
       "      <td>30</td>\n",
       "      <td>10</td>\n",
       "      <td>0.250206</td>\n",
       "      <td>228</td>\n",
       "    </tr>\n",
       "    <tr>\n",
       "      <th>3643</th>\n",
       "      <td>0.8</td>\n",
       "      <td>0</td>\n",
       "      <td>[3644.93333333, 3644.93333333]</td>\n",
       "      <td>[-40.0, -30.0]</td>\n",
       "      <td>[20.0, 20.0]</td>\n",
       "      <td>0.08</td>\n",
       "      <td>996.098950</td>\n",
       "      <td>0</td>\n",
       "      <td>gabors</td>\n",
       "      <td>996.349156</td>\n",
       "      <td>4</td>\n",
       "      <td>30</td>\n",
       "      <td>-20</td>\n",
       "      <td>0.250206</td>\n",
       "      <td>156</td>\n",
       "    </tr>\n",
       "    <tr>\n",
       "      <th>3644</th>\n",
       "      <td>0.8</td>\n",
       "      <td>90</td>\n",
       "      <td>[3644.93333333, 3644.93333333]</td>\n",
       "      <td>[-40.0, -30.0]</td>\n",
       "      <td>[20.0, 20.0]</td>\n",
       "      <td>0.08</td>\n",
       "      <td>996.349156</td>\n",
       "      <td>0</td>\n",
       "      <td>gabors</td>\n",
       "      <td>996.599362</td>\n",
       "      <td>4</td>\n",
       "      <td>10</td>\n",
       "      <td>20</td>\n",
       "      <td>0.250206</td>\n",
       "      <td>231</td>\n",
       "    </tr>\n",
       "    <tr>\n",
       "      <th>3645</th>\n",
       "      <td>0.8</td>\n",
       "      <td>0</td>\n",
       "      <td>[3644.93333333, 3644.93333333]</td>\n",
       "      <td>[-40.0, -30.0]</td>\n",
       "      <td>[20.0, 20.0]</td>\n",
       "      <td>0.08</td>\n",
       "      <td>996.599362</td>\n",
       "      <td>0</td>\n",
       "      <td>gabors</td>\n",
       "      <td>996.849568</td>\n",
       "      <td>4</td>\n",
       "      <td>-40</td>\n",
       "      <td>-30</td>\n",
       "      <td>0.250207</td>\n",
       "      <td>72</td>\n",
       "    </tr>\n",
       "  </tbody>\n",
       "</table>\n",
       "<p>3645 rows × 15 columns</p>\n",
       "</div>"
      ],
      "text/plain": [
       "                         contrast orientation                           phase  \\\n",
       "stimulus_presentation_id                                                        \n",
       "1                             0.8           0  [3644.93333333, 3644.93333333]   \n",
       "2                             0.8           0  [3644.93333333, 3644.93333333]   \n",
       "3                             0.8           0  [3644.93333333, 3644.93333333]   \n",
       "4                             0.8          45  [3644.93333333, 3644.93333333]   \n",
       "5                             0.8           0  [3644.93333333, 3644.93333333]   \n",
       "...                           ...         ...                             ...   \n",
       "3641                          0.8          90  [3644.93333333, 3644.93333333]   \n",
       "3642                          0.8          45  [3644.93333333, 3644.93333333]   \n",
       "3643                          0.8           0  [3644.93333333, 3644.93333333]   \n",
       "3644                          0.8          90  [3644.93333333, 3644.93333333]   \n",
       "3645                          0.8           0  [3644.93333333, 3644.93333333]   \n",
       "\n",
       "                                     pos          size spatial_frequency  \\\n",
       "stimulus_presentation_id                                                   \n",
       "1                         [-40.0, -30.0]  [20.0, 20.0]              0.08   \n",
       "2                         [-40.0, -30.0]  [20.0, 20.0]              0.08   \n",
       "3                         [-40.0, -30.0]  [20.0, 20.0]              0.08   \n",
       "4                         [-40.0, -30.0]  [20.0, 20.0]              0.08   \n",
       "5                         [-40.0, -30.0]  [20.0, 20.0]              0.08   \n",
       "...                                  ...           ...               ...   \n",
       "3641                      [-40.0, -30.0]  [20.0, 20.0]              0.08   \n",
       "3642                      [-40.0, -30.0]  [20.0, 20.0]              0.08   \n",
       "3643                      [-40.0, -30.0]  [20.0, 20.0]              0.08   \n",
       "3644                      [-40.0, -30.0]  [20.0, 20.0]              0.08   \n",
       "3645                      [-40.0, -30.0]  [20.0, 20.0]              0.08   \n",
       "\n",
       "                          start_time stimulus_block stimulus_name   stop_time  \\\n",
       "stimulus_presentation_id                                                        \n",
       "1                          84.804349              0        gabors   85.037870   \n",
       "2                          85.037870              0        gabors   85.288070   \n",
       "3                          85.288070              0        gabors   85.538271   \n",
       "4                          85.538271              0        gabors   85.788472   \n",
       "5                          85.788472              0        gabors   86.038686   \n",
       "...                              ...            ...           ...         ...   \n",
       "3641                      995.598539              0        gabors  995.848745   \n",
       "3642                      995.848745              0        gabors  996.098950   \n",
       "3643                      996.098950              0        gabors  996.349156   \n",
       "3644                      996.349156              0        gabors  996.599362   \n",
       "3645                      996.599362              0        gabors  996.849568   \n",
       "\n",
       "                         temporal_frequency x_position y_position  duration  \\\n",
       "stimulus_presentation_id                                                      \n",
       "1                                         4        -10        -40  0.233521   \n",
       "2                                         4         30         40  0.250201   \n",
       "3                                         4          0          0  0.250201   \n",
       "4                                         4        -20         20  0.250201   \n",
       "5                                         4        -40         40  0.250214   \n",
       "...                                     ...        ...        ...       ...   \n",
       "3641                                      4         30        -10  0.250206   \n",
       "3642                                      4         30         10  0.250206   \n",
       "3643                                      4         30        -20  0.250206   \n",
       "3644                                      4         10         20  0.250206   \n",
       "3645                                      4        -40        -30  0.250207   \n",
       "\n",
       "                          stimulus_condition_id  \n",
       "stimulus_presentation_id                         \n",
       "1                                             1  \n",
       "2                                             2  \n",
       "3                                             3  \n",
       "4                                             4  \n",
       "5                                             5  \n",
       "...                                         ...  \n",
       "3641                                        175  \n",
       "3642                                        228  \n",
       "3643                                        156  \n",
       "3644                                        231  \n",
       "3645                                         72  \n",
       "\n",
       "[3645 rows x 15 columns]"
      ]
     },
     "execution_count": 12,
     "metadata": {},
     "output_type": "execute_result"
    }
   ],
   "source": [
    "rf_mapping.stim_table"
   ]
  },
  {
   "cell_type": "markdown",
   "metadata": {},
   "source": [
    "Before we calculate any receptive fields, let's find some units in primary visual cortex (VISp) that are likely to show clear receptive fields:"
   ]
  },
  {
   "cell_type": "code",
   "execution_count": 13,
   "metadata": {},
   "outputs": [],
   "source": [
    "v1_units = session.units[session.units.ecephys_structure_acronym == 'VISp']"
   ]
  },
  {
   "cell_type": "markdown",
   "metadata": {},
   "source": [
    "Now, calculating the receptive field is as simple as calling `_get_rf()` with a unit ID as the input argument.\n",
    "\n",
    "**NOTE:** We are planning to change this method to `get_receptive_field()` in a future SDK release."
   ]
  },
  {
   "cell_type": "code",
   "execution_count": 14,
   "metadata": {},
   "outputs": [
    {
     "name": "stderr",
     "output_type": "stream",
     "text": [
      "/home/joshs/anaconda3/envs/ecephys-tutorials/lib/python3.7/site-packages/allensdk/brain_observatory/ecephys/ecephys_session.py:637: UserWarning: You've specified some overlapping time intervals between neighboring rows: [(0, 1)], with a maximum overlap of 0.015479378234388719 seconds.\n",
      "  warnings.warn(f\"You've specified some overlapping time intervals between neighboring rows: {overlapping}, \"\n"
     ]
    }
   ],
   "source": [
    "RF = rf_mapping._get_rf(v1_units.index.values[3])"
   ]
  },
  {
   "cell_type": "markdown",
   "metadata": {},
   "source": [
    "This method creates a 2D histogram of spike counts at all 81 possible stimulus locations, and outputs it as a 9 x 9 matrix. It's summing over all orientations, so each pixel contains the spike count across 45 trials.\n",
    " \n",
    "To plot it, just display it as an image. The matrix is already in the correct orientation so that it matches the layout of the screen (e.g., the upper right pixel contains the spike count when the Gabor patch was in the upper right of the screen)."
   ]
  },
  {
   "cell_type": "code",
   "execution_count": 15,
   "metadata": {},
   "outputs": [
    {
     "data": {
      "image/png": "[encoded data removed]",
      "text/plain": [
       "<Figure size 360x360 with 1 Axes>"
      ]
     },
     "metadata": {
      "needs_background": "light"
     },
     "output_type": "display_data"
    }
   ],
   "source": [
    "plt.figure(figsize=(5,5))\n",
    "_ = plt.imshow(RF)\n",
    "_ = plt.axis('off')"
   ]
  },
  {
   "cell_type": "markdown",
   "metadata": {},
   "source": [
    "This particular unit has a receptive field that's more or less in the center of the screen.\n",
    "\n",
    "Let's plot the receptive fields for all the units in V1:"
   ]
  },
  {
   "cell_type": "code",
   "execution_count": 16,
   "metadata": {},
   "outputs": [
    {
     "data": {
      "image/png": "[encoded data removed]",
      "text/plain": [
       "<Figure size 720x432 with 58 Axes>"
      ]
     },
     "metadata": {
      "needs_background": "light"
     },
     "output_type": "display_data"
    }
   ],
   "source": [
    "def plot_rf(unit_id, index):\n",
    "    RF = rf_mapping._get_rf(unit_id)\n",
    "    _ = plt.subplot(6,10,index+1)\n",
    "    _ = plt.imshow(RF)\n",
    "    _ = plt.axis('off')\n",
    "    \n",
    "_ = plt.figure(figsize=(10,6))\n",
    "_ = [plot_rf(RF, index) for index, RF in enumerate(v1_units.index.values)]"
   ]
  }
 ],
 "metadata": {
  "kernelspec": {
   "display_name": "Python 3",
   "language": "python",
   "name": "python3"
  },
  "language_info": {
   "codemirror_mode": {
    "name": "ipython",
    "version": 3
   },
   "file_extension": ".py",
   "mimetype": "text/x-python",
   "name": "python",
   "nbconvert_exporter": "python",
   "pygments_lexer": "ipython3",
   "version": "3.7.5"
  }
 },
 "nbformat": 4,
 "nbformat_minor": 2
}
