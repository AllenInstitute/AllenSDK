{
 "cells": [
  {
   "cell_type": "markdown",
   "id": "ba3d4d3e",
   "metadata": {
    "papermill": {
     "duration": 0.00728,
     "end_time": "2023-03-30T19:31:08.207124",
     "exception": false,
     "start_time": "2023-03-30T19:31:08.199844",
     "status": "completed"
    },
    "tags": []
   },
   "source": [
    "# Analyzing Receptive Fields in Neuropixels Visual Coding Data\n",
    "\n",
    "## Tutorial overview\n",
    "\n",
    "One of the most important features of visually responsive neurons is the location and extent of their receptive field. Is it highly localized or spatially distributed? Is it centered on the stimulus display, or is it on an edge? How much does it overlap with the receptive fields of neurons in other regions? Obtaining answers to these questions is a crucial step for interpreting a results related to neurons' visual coding properties.\n",
    "\n",
    "This Jupyter notebook will cover the following topics:\n",
    "* <a href='#Receptive-field-mapping-stimulus'>Understanding the receptive field stimulus used in the Neuropixels Visual Coding experiments</a>\n",
    "* <a href='#Plotting-receptive-fields'>Plotting receptive fields for individual units</a>\n",
    "* Obtaining pre-computed metrics related to receptive fields (coming soon)\n",
    "* Finding experiments of interest based on receptive field overlap (coming soon)\n",
    "\n",
    "This tutorial assumes you've already created a data cache, or are working with the files on AWS. If you haven't reached that step yet, we recommend going through the [data access tutorial](./ecephys_data_access.ipynb) first.\n",
    "\n",
    "Functions related to additional aspects of data analysis will be covered in other tutorials. For a full list of available tutorials, see the [SDK documentation](https://allensdk.readthedocs.io/en/latest/visual_coding_neuropixels.html).\n",
    "\n",
    "Let's start by creating an `EcephysProjectCache` object, and pointing it to a new or existing manifest file:"
   ]
  },
  {
   "cell_type": "code",
   "execution_count": 1,
   "id": "821d73e2",
   "metadata": {
    "execution": {
     "iopub.execute_input": "2023-03-30T19:31:08.223278Z",
     "iopub.status.busy": "2023-03-30T19:31:08.222702Z",
     "iopub.status.idle": "2023-03-30T19:31:16.366752Z",
     "shell.execute_reply": "2023-03-30T19:31:16.366024Z"
    },
    "papermill": {
     "duration": 8.155288,
     "end_time": "2023-03-30T19:31:16.368691",
     "exception": false,
     "start_time": "2023-03-30T19:31:08.213403",
     "status": "completed"
    },
    "tags": []
   },
   "outputs": [
    {
     "name": "stderr",
     "output_type": "stream",
     "text": [
      "/opt/hostedtoolcache/Python/3.8.16/x64/lib/python3.8/site-packages/tqdm/auto.py:21: TqdmWarning: IProgress not found. Please update jupyter and ipywidgets. See https://ipywidgets.readthedocs.io/en/stable/user_install.html\n",
      "  from .autonotebook import tqdm as notebook_tqdm\n"
     ]
    }
   ],
   "source": [
    "import os\n",
    "\n",
    "import numpy as np\n",
    "import pandas as pd\n",
    "\n",
    "import matplotlib.pyplot as plt\n",
    "%matplotlib inline\n",
    "\n",
    "from allensdk.brain_observatory.ecephys.ecephys_project_cache import EcephysProjectCache"
   ]
  },
  {
   "cell_type": "markdown",
   "id": "f8ae2a6b",
   "metadata": {
    "papermill": {
     "duration": 0.00583,
     "end_time": "2023-03-30T19:31:16.380585",
     "exception": false,
     "start_time": "2023-03-30T19:31:16.374755",
     "status": "completed"
    },
    "tags": []
   },
   "source": [
    "If you're not sure what a manifest file is or where to put it, please check out [this tutorial](./ecephys_data_access.ipynb) before going further."
   ]
  },
  {
   "cell_type": "code",
   "execution_count": 2,
   "id": "a359584c",
   "metadata": {
    "execution": {
     "iopub.execute_input": "2023-03-30T19:31:16.393789Z",
     "iopub.status.busy": "2023-03-30T19:31:16.392951Z",
     "iopub.status.idle": "2023-03-30T19:31:16.396793Z",
     "shell.execute_reply": "2023-03-30T19:31:16.396230Z"
    },
    "papermill": {
     "duration": 0.012009,
     "end_time": "2023-03-30T19:31:16.398193",
     "exception": false,
     "start_time": "2023-03-30T19:31:16.386184",
     "status": "completed"
    },
    "tags": [
     "parameters"
    ]
   },
   "outputs": [],
   "source": [
    "# Example cache directory path, it determines where downloaded data will be stored\n",
    "output_dir = '/local1/ecephys_cache_dir/'"
   ]
  },
  {
   "cell_type": "code",
   "execution_count": 4,
   "id": "1885edef",
   "metadata": {
    "execution": {
     "iopub.execute_input": "2023-03-30T19:31:16.428608Z",
     "iopub.status.busy": "2023-03-30T19:31:16.428083Z",
     "iopub.status.idle": "2023-03-30T19:31:16.432640Z",
     "shell.execute_reply": "2023-03-30T19:31:16.431908Z"
    },
    "papermill": {
     "duration": 0.012796,
     "end_time": "2023-03-30T19:31:16.434121",
     "exception": false,
     "start_time": "2023-03-30T19:31:16.421325",
     "status": "completed"
    },
    "tags": []
   },
   "outputs": [],
   "source": [
    "manifest_path = os.path.join(output_dir, \"manifest.json\")\n",
    "\n",
    "cache = EcephysProjectCache.from_warehouse(manifest=manifest_path)"
   ]
  },
  {
   "cell_type": "markdown",
   "id": "9365c538",
   "metadata": {
    "papermill": {
     "duration": 0.005634,
     "end_time": "2023-03-30T19:31:16.445621",
     "exception": false,
     "start_time": "2023-03-30T19:31:16.439987",
     "status": "completed"
    },
    "tags": []
   },
   "source": [
    "Let's load the `sessions` table and grab the data for one experiment in the list:"
   ]
  },
  {
   "cell_type": "code",
   "execution_count": 5,
   "id": "410e1dbc",
   "metadata": {
    "execution": {
     "iopub.execute_input": "2023-03-30T19:31:16.458582Z",
     "iopub.status.busy": "2023-03-30T19:31:16.458030Z",
     "iopub.status.idle": "2023-03-30T19:36:51.516513Z",
     "shell.execute_reply": "2023-03-30T19:36:51.515796Z"
    },
    "papermill": {
     "duration": 335.06723,
     "end_time": "2023-03-30T19:36:51.518423",
     "exception": false,
     "start_time": "2023-03-30T19:31:16.451193",
     "status": "completed"
    },
    "tags": []
   },
   "outputs": [
    {
     "name": "stderr",
     "output_type": "stream",
     "text": [
      "WARNING:root:downloading a 1775.991MiB file from http://api.brain-map.org//api/v2/well_known_file_download/1026123377\n",
      "Downloading: 100%|██████████| 1.86G/1.86G [01:50<00:00, 16.9MB/s]\n"
     ]
    }
   ],
   "source": [
    "sessions = cache.get_session_table()\n",
    "\n",
    "session = cache.get_session_data(sessions.index.values[20])"
   ]
  },
  {
   "cell_type": "markdown",
   "id": "33b168d0",
   "metadata": {
    "papermill": {
     "duration": 0.061444,
     "end_time": "2023-03-30T19:36:51.640209",
     "exception": false,
     "start_time": "2023-03-30T19:36:51.578765",
     "status": "completed"
    },
    "tags": []
   },
   "source": [
    "## Receptive field mapping stimulus"
   ]
  },
  {
   "cell_type": "markdown",
   "id": "24177301",
   "metadata": {
    "papermill": {
     "duration": 0.060462,
     "end_time": "2023-03-30T19:36:51.760718",
     "exception": false,
     "start_time": "2023-03-30T19:36:51.700256",
     "status": "completed"
    },
    "tags": []
   },
   "source": [
    "The `session` object contains all of the spike data for one recording session, as well as information about the stimulus, mouse behavior, and probes.\n",
    "\n",
    "Because receptive field analysis is so central to interpreting results related to visual coding, every experiment in the Neuropixels Visual Coding dataset includes a standardized receptive field mapping stimulus. This stimulus is always shown at the beginning of the session, and uses the same parameters for every mouse. \n",
    "\n",
    "We can look at the `stimulus_presentations` DataFrame in order to examine the parameters of the receptive field mapping stimulus in more detail. The receptive field mapping stimulus consists of drifting Gabor patches with a circular mask, so we're going to filter the DataFrame based on `stimulus_name == 'gabors'`:"
   ]
  },
  {
   "cell_type": "code",
   "execution_count": 6,
   "id": "c3e0dd24",
   "metadata": {
    "execution": {
     "iopub.execute_input": "2023-03-30T19:36:51.893260Z",
     "iopub.status.busy": "2023-03-30T19:36:51.891945Z",
     "iopub.status.idle": "2023-03-30T19:36:58.371066Z",
     "shell.execute_reply": "2023-03-30T19:36:58.370404Z"
    },
    "papermill": {
     "duration": 6.548693,
     "end_time": "2023-03-30T19:36:58.372994",
     "exception": false,
     "start_time": "2023-03-30T19:36:51.824301",
     "status": "completed"
    },
    "tags": []
   },
   "outputs": [
    {
     "data": {
      "text/plain": [
       "3645"
      ]
     },
     "execution_count": 6,
     "metadata": {},
     "output_type": "execute_result"
    }
   ],
   "source": [
    "rf_stim_table = session.stimulus_presentations[session.stimulus_presentations.stimulus_name == 'gabors']\n",
    "\n",
    "len(rf_stim_table)"
   ]
  },
  {
   "cell_type": "markdown",
   "id": "05d610b4",
   "metadata": {
    "papermill": {
     "duration": 0.061005,
     "end_time": "2023-03-30T19:36:58.497507",
     "exception": false,
     "start_time": "2023-03-30T19:36:58.436502",
     "status": "completed"
    },
    "tags": []
   },
   "source": [
    "There are 3645 trials for the receptive field mapping stimulus. What combination of stimulus parameters is used across these trials? Let's see which parameters actually vary for this stimulus:"
   ]
  },
  {
   "cell_type": "code",
   "execution_count": 7,
   "id": "1388b453",
   "metadata": {
    "execution": {
     "iopub.execute_input": "2023-03-30T19:36:58.620651Z",
     "iopub.status.busy": "2023-03-30T19:36:58.619898Z",
     "iopub.status.idle": "2023-03-30T19:36:58.642690Z",
     "shell.execute_reply": "2023-03-30T19:36:58.642035Z"
    },
    "papermill": {
     "duration": 0.085874,
     "end_time": "2023-03-30T19:36:58.644370",
     "exception": false,
     "start_time": "2023-03-30T19:36:58.558496",
     "status": "completed"
    },
    "tags": []
   },
   "outputs": [
    {
     "data": {
      "text/plain": [
       "['orientation',\n",
       " 'start_time',\n",
       " 'stop_time',\n",
       " 'x_position',\n",
       " 'y_position',\n",
       " 'duration',\n",
       " 'stimulus_condition_id']"
      ]
     },
     "execution_count": 7,
     "metadata": {},
     "output_type": "execute_result"
    }
   ],
   "source": [
    "keys = rf_stim_table.keys()\n",
    "[key for key in keys if len(np.unique(rf_stim_table[key])) > 1]"
   ]
  },
  {
   "cell_type": "markdown",
   "id": "5002fe82",
   "metadata": {
    "papermill": {
     "duration": 0.060625,
     "end_time": "2023-03-30T19:36:58.765782",
     "exception": false,
     "start_time": "2023-03-30T19:36:58.705157",
     "status": "completed"
    },
    "tags": []
   },
   "source": [
    "We can ignore the parameters related to stimulus timing (`start_time`, `stop_time`, and `duration`), as well as `stimulus_condition_id`, which is used to find presentations with the same parameters. So we're left with `orientation`, `x_position`, and `y_position`."
   ]
  },
  {
   "cell_type": "code",
   "execution_count": 8,
   "id": "e3fb5ac4",
   "metadata": {
    "execution": {
     "iopub.execute_input": "2023-03-30T19:36:58.890922Z",
     "iopub.status.busy": "2023-03-30T19:36:58.889443Z",
     "iopub.status.idle": "2023-03-30T19:36:58.896257Z",
     "shell.execute_reply": "2023-03-30T19:36:58.895348Z"
    },
    "papermill": {
     "duration": 0.070928,
     "end_time": "2023-03-30T19:36:58.897664",
     "exception": false,
     "start_time": "2023-03-30T19:36:58.826736",
     "status": "completed"
    },
    "tags": []
   },
   "outputs": [
    {
     "name": "stdout",
     "output_type": "stream",
     "text": [
      "Unique orientations : [0.0, 45.0, 90.0]\n",
      "Unique x positions : [-40.0, -30.0, -20.0, -10.0, 0.0, 10.0, 20.0, 30.0, 40.0]\n",
      "Unique y positions : [-40.0, -30.0, -20.0, -10.0, 0.0, 10.0, 20.0, 30.0, 40.0]\n"
     ]
    }
   ],
   "source": [
    "print('Unique orientations : ' + str(list(np.sort(rf_stim_table.orientation.unique()))))\n",
    "print('Unique x positions : ' + str(list(np.sort(rf_stim_table.x_position.unique()))))\n",
    "print('Unique y positions : ' + str(list(np.sort(rf_stim_table.y_position.unique()))))"
   ]
  },
  {
   "cell_type": "markdown",
   "id": "123ce1d3",
   "metadata": {
    "papermill": {
     "duration": 0.06514,
     "end_time": "2023-03-30T19:36:59.028379",
     "exception": false,
     "start_time": "2023-03-30T19:36:58.963239",
     "status": "completed"
    },
    "tags": []
   },
   "source": [
    "We have 3 orientations and a 9 x 9 grid of spatial locations. Note that these locations are relative to the center of the screen, not the mouse's center of gaze. How many repeats are there for each condition?"
   ]
  },
  {
   "cell_type": "code",
   "execution_count": 9,
   "id": "8087b500",
   "metadata": {
    "execution": {
     "iopub.execute_input": "2023-03-30T19:36:59.170591Z",
     "iopub.status.busy": "2023-03-30T19:36:59.169456Z",
     "iopub.status.idle": "2023-03-30T19:36:59.179765Z",
     "shell.execute_reply": "2023-03-30T19:36:59.178794Z"
    },
    "papermill": {
     "duration": 0.087025,
     "end_time": "2023-03-30T19:36:59.182449",
     "exception": false,
     "start_time": "2023-03-30T19:36:59.095424",
     "status": "completed"
    },
    "tags": []
   },
   "outputs": [
    {
     "data": {
      "text/plain": [
       "15.0"
      ]
     },
     "execution_count": 9,
     "metadata": {},
     "output_type": "execute_result"
    }
   ],
   "source": [
    "len(rf_stim_table) / (3 * 9 * 9)"
   ]
  },
  {
   "cell_type": "markdown",
   "id": "c6057900",
   "metadata": {
    "papermill": {
     "duration": 0.060894,
     "end_time": "2023-03-30T19:36:59.304624",
     "exception": false,
     "start_time": "2023-03-30T19:36:59.243730",
     "status": "completed"
    },
    "tags": []
   },
   "source": [
    "This should match the number we get when dividing the length of the DataFrame by the total number of conditions:"
   ]
  },
  {
   "cell_type": "code",
   "execution_count": 10,
   "id": "7df9261f",
   "metadata": {
    "execution": {
     "iopub.execute_input": "2023-03-30T19:36:59.427868Z",
     "iopub.status.busy": "2023-03-30T19:36:59.427319Z",
     "iopub.status.idle": "2023-03-30T19:36:59.432343Z",
     "shell.execute_reply": "2023-03-30T19:36:59.431628Z"
    },
    "papermill": {
     "duration": 0.068636,
     "end_time": "2023-03-30T19:36:59.433943",
     "exception": false,
     "start_time": "2023-03-30T19:36:59.365307",
     "status": "completed"
    },
    "tags": []
   },
   "outputs": [
    {
     "data": {
      "text/plain": [
       "15.0"
      ]
     },
     "execution_count": 10,
     "metadata": {},
     "output_type": "execute_result"
    }
   ],
   "source": [
    "len(rf_stim_table) / len(np.unique(rf_stim_table.stimulus_condition_id))"
   ]
  },
  {
   "cell_type": "markdown",
   "id": "2609bfb1",
   "metadata": {
    "papermill": {
     "duration": 0.063378,
     "end_time": "2023-03-30T19:36:59.559892",
     "exception": false,
     "start_time": "2023-03-30T19:36:59.496514",
     "status": "completed"
    },
    "tags": []
   },
   "source": [
    "What about the drifting grating parameters that don't vary, such as size (in degrees), spatial frequency (in cycles/degree), temporal frequency (in Hz), and contrast?"
   ]
  },
  {
   "cell_type": "code",
   "execution_count": 11,
   "id": "338d6b88",
   "metadata": {
    "execution": {
     "iopub.execute_input": "2023-03-30T19:37:00.075671Z",
     "iopub.status.busy": "2023-03-30T19:37:00.074935Z",
     "iopub.status.idle": "2023-03-30T19:37:00.081512Z",
     "shell.execute_reply": "2023-03-30T19:37:00.080817Z"
    },
    "papermill": {
     "duration": 0.071793,
     "end_time": "2023-03-30T19:37:00.083030",
     "exception": false,
     "start_time": "2023-03-30T19:37:00.011237",
     "status": "completed"
    },
    "tags": []
   },
   "outputs": [
    {
     "name": "stdout",
     "output_type": "stream",
     "text": [
      "Spatial frequency: 0.08\n",
      "Temporal frequency: 4.0\n",
      "Size: [20.0, 20.0]\n",
      "Contrast: 0.8\n"
     ]
    }
   ],
   "source": [
    "print('Spatial frequency: ' + str(rf_stim_table.spatial_frequency.unique()[0]))\n",
    "print('Temporal frequency: ' + str(rf_stim_table.temporal_frequency.unique()[0]))\n",
    "print('Size: ' + str(rf_stim_table['size'].unique()[0]))\n",
    "print('Contrast: ' + str(rf_stim_table['contrast'].unique()[0]))"
   ]
  },
  {
   "cell_type": "markdown",
   "id": "60c0af34",
   "metadata": {
    "papermill": {
     "duration": 0.066577,
     "end_time": "2023-03-30T19:37:00.210701",
     "exception": false,
     "start_time": "2023-03-30T19:37:00.144124",
     "status": "completed"
    },
    "tags": []
   },
   "source": [
    "This stimulus is designed to drive neurons reliably across a wide variety of visual areas. Because of the large size (20 degree diameter), it lacks spatial precision. It also cannot be used to map on/off subfields on neurons. However, this is a reasonable compromise to allow us to map receptive fields with high reliability across all visual areas we're recording from.\n",
    "\n",
    "Now that we have a better understanding of the stimulus, let's look at receptive fields for some neurons."
   ]
  },
  {
   "cell_type": "code",
   "execution_count": 12,
   "id": "972d100c",
   "metadata": {
    "execution": {
     "iopub.execute_input": "2023-03-30T19:37:00.342425Z",
     "iopub.status.busy": "2023-03-30T19:37:00.341846Z",
     "iopub.status.idle": "2023-03-30T19:37:00.347071Z",
     "shell.execute_reply": "2023-03-30T19:37:00.346377Z"
    },
    "papermill": {
     "duration": 0.070782,
     "end_time": "2023-03-30T19:37:00.349537",
     "exception": false,
     "start_time": "2023-03-30T19:37:00.278755",
     "status": "completed"
    },
    "tags": []
   },
   "outputs": [
    {
     "data": {
      "text/plain": [
       "Index(['color', 'contrast', 'frame', 'orientation', 'phase', 'size',\n",
       "       'spatial_frequency', 'start_time', 'stimulus_block', 'stimulus_name',\n",
       "       'stop_time', 'temporal_frequency', 'x_position', 'y_position',\n",
       "       'duration', 'stimulus_condition_id'],\n",
       "      dtype='object')"
      ]
     },
     "execution_count": 12,
     "metadata": {},
     "output_type": "execute_result"
    }
   ],
   "source": [
    "rf_stim_table.keys()"
   ]
  },
  {
   "cell_type": "markdown",
   "id": "28684085",
   "metadata": {
    "papermill": {
     "duration": 0.066759,
     "end_time": "2023-03-30T19:37:00.477136",
     "exception": false,
     "start_time": "2023-03-30T19:37:00.410377",
     "status": "completed"
    },
    "tags": []
   },
   "source": [
    "## Plotting receptive fields"
   ]
  },
  {
   "cell_type": "markdown",
   "id": "a3c97c66",
   "metadata": {
    "papermill": {
     "duration": 0.06602,
     "end_time": "2023-03-30T19:37:00.616832",
     "exception": false,
     "start_time": "2023-03-30T19:37:00.550812",
     "status": "completed"
    },
    "tags": []
   },
   "source": [
    "In order to visualize receptive fields, we're going to use a function in the `ReceptiveFieldMapping` class, one of the stimulus-specific analysis classes in the AllenSDK. Let's import it and create a `rf_mapping` object based on the `session` we loaded earlier:"
   ]
  },
  {
   "cell_type": "code",
   "execution_count": 13,
   "id": "90dd6724",
   "metadata": {
    "execution": {
     "iopub.execute_input": "2023-03-30T19:37:00.741488Z",
     "iopub.status.busy": "2023-03-30T19:37:00.740924Z",
     "iopub.status.idle": "2023-03-30T19:37:00.841268Z",
     "shell.execute_reply": "2023-03-30T19:37:00.840572Z"
    },
    "papermill": {
     "duration": 0.164483,
     "end_time": "2023-03-30T19:37:00.843616",
     "exception": false,
     "start_time": "2023-03-30T19:37:00.679133",
     "status": "completed"
    },
    "tags": []
   },
   "outputs": [],
   "source": [
    "from allensdk.brain_observatory.ecephys.stimulus_analysis.receptive_field_mapping import ReceptiveFieldMapping\n",
    "\n",
    "rf_mapping = ReceptiveFieldMapping(session)"
   ]
  },
  {
   "cell_type": "markdown",
   "id": "9bafe79f",
   "metadata": {
    "papermill": {
     "duration": 0.060492,
     "end_time": "2023-03-30T19:37:00.966965",
     "exception": false,
     "start_time": "2023-03-30T19:37:00.906473",
     "status": "completed"
    },
    "tags": []
   },
   "source": [
    "The `rf_mapping` object contains a variety of methods related to receptive field mapping. Its `stim_table` property holds the same DataFrame we created earlier."
   ]
  },
  {
   "cell_type": "code",
   "execution_count": 14,
   "id": "1273646e",
   "metadata": {
    "execution": {
     "iopub.execute_input": "2023-03-30T19:37:01.097886Z",
     "iopub.status.busy": "2023-03-30T19:37:01.097397Z",
     "iopub.status.idle": "2023-03-30T19:37:01.201009Z",
     "shell.execute_reply": "2023-03-30T19:37:01.200285Z"
    },
    "papermill": {
     "duration": 0.174815,
     "end_time": "2023-03-30T19:37:01.202971",
     "exception": false,
     "start_time": "2023-03-30T19:37:01.028156",
     "status": "completed"
    },
    "tags": []
   },
   "outputs": [
    {
     "data": {
      "text/html": [
       "<div>\n",
       "<style scoped>\n",
       "    .dataframe tbody tr th:only-of-type {\n",
       "        vertical-align: middle;\n",
       "    }\n",
       "\n",
       "    .dataframe tbody tr th {\n",
       "        vertical-align: top;\n",
       "    }\n",
       "\n",
       "    .dataframe thead th {\n",
       "        text-align: right;\n",
       "    }\n",
       "</style>\n",
       "<table border=\"1\" class=\"dataframe\">\n",
       "  <thead>\n",
       "    <tr style=\"text-align: right;\">\n",
       "      <th></th>\n",
       "      <th>contrast</th>\n",
       "      <th>orientation</th>\n",
       "      <th>phase</th>\n",
       "      <th>size</th>\n",
       "      <th>spatial_frequency</th>\n",
       "      <th>start_time</th>\n",
       "      <th>stimulus_block</th>\n",
       "      <th>stimulus_name</th>\n",
       "      <th>stop_time</th>\n",
       "      <th>temporal_frequency</th>\n",
       "      <th>x_position</th>\n",
       "      <th>y_position</th>\n",
       "      <th>duration</th>\n",
       "      <th>stimulus_condition_id</th>\n",
       "    </tr>\n",
       "    <tr>\n",
       "      <th>stimulus_presentation_id</th>\n",
       "      <th></th>\n",
       "      <th></th>\n",
       "      <th></th>\n",
       "      <th></th>\n",
       "      <th></th>\n",
       "      <th></th>\n",
       "      <th></th>\n",
       "      <th></th>\n",
       "      <th></th>\n",
       "      <th></th>\n",
       "      <th></th>\n",
       "      <th></th>\n",
       "      <th></th>\n",
       "      <th></th>\n",
       "    </tr>\n",
       "  </thead>\n",
       "  <tbody>\n",
       "    <tr>\n",
       "      <th>1</th>\n",
       "      <td>0.8</td>\n",
       "      <td>0.0</td>\n",
       "      <td>[3644.93333333, 3644.93333333]</td>\n",
       "      <td>[20.0, 20.0]</td>\n",
       "      <td>0.08</td>\n",
       "      <td>84.804349</td>\n",
       "      <td>0.0</td>\n",
       "      <td>gabors</td>\n",
       "      <td>85.037870</td>\n",
       "      <td>4.0</td>\n",
       "      <td>-10.0</td>\n",
       "      <td>-40.0</td>\n",
       "      <td>0.233521</td>\n",
       "      <td>1</td>\n",
       "    </tr>\n",
       "    <tr>\n",
       "      <th>2</th>\n",
       "      <td>0.8</td>\n",
       "      <td>0.0</td>\n",
       "      <td>[3644.93333333, 3644.93333333]</td>\n",
       "      <td>[20.0, 20.0]</td>\n",
       "      <td>0.08</td>\n",
       "      <td>85.037870</td>\n",
       "      <td>0.0</td>\n",
       "      <td>gabors</td>\n",
       "      <td>85.288070</td>\n",
       "      <td>4.0</td>\n",
       "      <td>30.0</td>\n",
       "      <td>40.0</td>\n",
       "      <td>0.250201</td>\n",
       "      <td>2</td>\n",
       "    </tr>\n",
       "    <tr>\n",
       "      <th>3</th>\n",
       "      <td>0.8</td>\n",
       "      <td>0.0</td>\n",
       "      <td>[3644.93333333, 3644.93333333]</td>\n",
       "      <td>[20.0, 20.0]</td>\n",
       "      <td>0.08</td>\n",
       "      <td>85.288070</td>\n",
       "      <td>0.0</td>\n",
       "      <td>gabors</td>\n",
       "      <td>85.538271</td>\n",
       "      <td>4.0</td>\n",
       "      <td>0.0</td>\n",
       "      <td>0.0</td>\n",
       "      <td>0.250201</td>\n",
       "      <td>3</td>\n",
       "    </tr>\n",
       "    <tr>\n",
       "      <th>4</th>\n",
       "      <td>0.8</td>\n",
       "      <td>45.0</td>\n",
       "      <td>[3644.93333333, 3644.93333333]</td>\n",
       "      <td>[20.0, 20.0]</td>\n",
       "      <td>0.08</td>\n",
       "      <td>85.538271</td>\n",
       "      <td>0.0</td>\n",
       "      <td>gabors</td>\n",
       "      <td>85.788472</td>\n",
       "      <td>4.0</td>\n",
       "      <td>-20.0</td>\n",
       "      <td>20.0</td>\n",
       "      <td>0.250201</td>\n",
       "      <td>4</td>\n",
       "    </tr>\n",
       "    <tr>\n",
       "      <th>5</th>\n",
       "      <td>0.8</td>\n",
       "      <td>0.0</td>\n",
       "      <td>[3644.93333333, 3644.93333333]</td>\n",
       "      <td>[20.0, 20.0]</td>\n",
       "      <td>0.08</td>\n",
       "      <td>85.788472</td>\n",
       "      <td>0.0</td>\n",
       "      <td>gabors</td>\n",
       "      <td>86.038686</td>\n",
       "      <td>4.0</td>\n",
       "      <td>-40.0</td>\n",
       "      <td>40.0</td>\n",
       "      <td>0.250214</td>\n",
       "      <td>5</td>\n",
       "    </tr>\n",
       "    <tr>\n",
       "      <th>...</th>\n",
       "      <td>...</td>\n",
       "      <td>...</td>\n",
       "      <td>...</td>\n",
       "      <td>...</td>\n",
       "      <td>...</td>\n",
       "      <td>...</td>\n",
       "      <td>...</td>\n",
       "      <td>...</td>\n",
       "      <td>...</td>\n",
       "      <td>...</td>\n",
       "      <td>...</td>\n",
       "      <td>...</td>\n",
       "      <td>...</td>\n",
       "      <td>...</td>\n",
       "    </tr>\n",
       "    <tr>\n",
       "      <th>3641</th>\n",
       "      <td>0.8</td>\n",
       "      <td>90.0</td>\n",
       "      <td>[3644.93333333, 3644.93333333]</td>\n",
       "      <td>[20.0, 20.0]</td>\n",
       "      <td>0.08</td>\n",
       "      <td>995.598539</td>\n",
       "      <td>0.0</td>\n",
       "      <td>gabors</td>\n",
       "      <td>995.848745</td>\n",
       "      <td>4.0</td>\n",
       "      <td>30.0</td>\n",
       "      <td>-10.0</td>\n",
       "      <td>0.250206</td>\n",
       "      <td>175</td>\n",
       "    </tr>\n",
       "    <tr>\n",
       "      <th>3642</th>\n",
       "      <td>0.8</td>\n",
       "      <td>45.0</td>\n",
       "      <td>[3644.93333333, 3644.93333333]</td>\n",
       "      <td>[20.0, 20.0]</td>\n",
       "      <td>0.08</td>\n",
       "      <td>995.848745</td>\n",
       "      <td>0.0</td>\n",
       "      <td>gabors</td>\n",
       "      <td>996.098950</td>\n",
       "      <td>4.0</td>\n",
       "      <td>30.0</td>\n",
       "      <td>10.0</td>\n",
       "      <td>0.250206</td>\n",
       "      <td>228</td>\n",
       "    </tr>\n",
       "    <tr>\n",
       "      <th>3643</th>\n",
       "      <td>0.8</td>\n",
       "      <td>0.0</td>\n",
       "      <td>[3644.93333333, 3644.93333333]</td>\n",
       "      <td>[20.0, 20.0]</td>\n",
       "      <td>0.08</td>\n",
       "      <td>996.098950</td>\n",
       "      <td>0.0</td>\n",
       "      <td>gabors</td>\n",
       "      <td>996.349156</td>\n",
       "      <td>4.0</td>\n",
       "      <td>30.0</td>\n",
       "      <td>-20.0</td>\n",
       "      <td>0.250206</td>\n",
       "      <td>156</td>\n",
       "    </tr>\n",
       "    <tr>\n",
       "      <th>3644</th>\n",
       "      <td>0.8</td>\n",
       "      <td>90.0</td>\n",
       "      <td>[3644.93333333, 3644.93333333]</td>\n",
       "      <td>[20.0, 20.0]</td>\n",
       "      <td>0.08</td>\n",
       "      <td>996.349156</td>\n",
       "      <td>0.0</td>\n",
       "      <td>gabors</td>\n",
       "      <td>996.599362</td>\n",
       "      <td>4.0</td>\n",
       "      <td>10.0</td>\n",
       "      <td>20.0</td>\n",
       "      <td>0.250206</td>\n",
       "      <td>231</td>\n",
       "    </tr>\n",
       "    <tr>\n",
       "      <th>3645</th>\n",
       "      <td>0.8</td>\n",
       "      <td>0.0</td>\n",
       "      <td>[3644.93333333, 3644.93333333]</td>\n",
       "      <td>[20.0, 20.0]</td>\n",
       "      <td>0.08</td>\n",
       "      <td>996.599362</td>\n",
       "      <td>0.0</td>\n",
       "      <td>gabors</td>\n",
       "      <td>996.849568</td>\n",
       "      <td>4.0</td>\n",
       "      <td>-40.0</td>\n",
       "      <td>-30.0</td>\n",
       "      <td>0.250207</td>\n",
       "      <td>72</td>\n",
       "    </tr>\n",
       "  </tbody>\n",
       "</table>\n",
       "<p>3645 rows × 14 columns</p>\n",
       "</div>"
      ],
      "text/plain": [
       "                         contrast orientation                           phase  \\\n",
       "stimulus_presentation_id                                                        \n",
       "1                             0.8         0.0  [3644.93333333, 3644.93333333]   \n",
       "2                             0.8         0.0  [3644.93333333, 3644.93333333]   \n",
       "3                             0.8         0.0  [3644.93333333, 3644.93333333]   \n",
       "4                             0.8        45.0  [3644.93333333, 3644.93333333]   \n",
       "5                             0.8         0.0  [3644.93333333, 3644.93333333]   \n",
       "...                           ...         ...                             ...   \n",
       "3641                          0.8        90.0  [3644.93333333, 3644.93333333]   \n",
       "3642                          0.8        45.0  [3644.93333333, 3644.93333333]   \n",
       "3643                          0.8         0.0  [3644.93333333, 3644.93333333]   \n",
       "3644                          0.8        90.0  [3644.93333333, 3644.93333333]   \n",
       "3645                          0.8         0.0  [3644.93333333, 3644.93333333]   \n",
       "\n",
       "                                  size spatial_frequency  start_time  \\\n",
       "stimulus_presentation_id                                               \n",
       "1                         [20.0, 20.0]              0.08   84.804349   \n",
       "2                         [20.0, 20.0]              0.08   85.037870   \n",
       "3                         [20.0, 20.0]              0.08   85.288070   \n",
       "4                         [20.0, 20.0]              0.08   85.538271   \n",
       "5                         [20.0, 20.0]              0.08   85.788472   \n",
       "...                                ...               ...         ...   \n",
       "3641                      [20.0, 20.0]              0.08  995.598539   \n",
       "3642                      [20.0, 20.0]              0.08  995.848745   \n",
       "3643                      [20.0, 20.0]              0.08  996.098950   \n",
       "3644                      [20.0, 20.0]              0.08  996.349156   \n",
       "3645                      [20.0, 20.0]              0.08  996.599362   \n",
       "\n",
       "                         stimulus_block stimulus_name   stop_time  \\\n",
       "stimulus_presentation_id                                            \n",
       "1                                   0.0        gabors   85.037870   \n",
       "2                                   0.0        gabors   85.288070   \n",
       "3                                   0.0        gabors   85.538271   \n",
       "4                                   0.0        gabors   85.788472   \n",
       "5                                   0.0        gabors   86.038686   \n",
       "...                                 ...           ...         ...   \n",
       "3641                                0.0        gabors  995.848745   \n",
       "3642                                0.0        gabors  996.098950   \n",
       "3643                                0.0        gabors  996.349156   \n",
       "3644                                0.0        gabors  996.599362   \n",
       "3645                                0.0        gabors  996.849568   \n",
       "\n",
       "                         temporal_frequency x_position y_position  duration  \\\n",
       "stimulus_presentation_id                                                      \n",
       "1                                       4.0      -10.0      -40.0  0.233521   \n",
       "2                                       4.0       30.0       40.0  0.250201   \n",
       "3                                       4.0        0.0        0.0  0.250201   \n",
       "4                                       4.0      -20.0       20.0  0.250201   \n",
       "5                                       4.0      -40.0       40.0  0.250214   \n",
       "...                                     ...        ...        ...       ...   \n",
       "3641                                    4.0       30.0      -10.0  0.250206   \n",
       "3642                                    4.0       30.0       10.0  0.250206   \n",
       "3643                                    4.0       30.0      -20.0  0.250206   \n",
       "3644                                    4.0       10.0       20.0  0.250206   \n",
       "3645                                    4.0      -40.0      -30.0  0.250207   \n",
       "\n",
       "                          stimulus_condition_id  \n",
       "stimulus_presentation_id                         \n",
       "1                                             1  \n",
       "2                                             2  \n",
       "3                                             3  \n",
       "4                                             4  \n",
       "5                                             5  \n",
       "...                                         ...  \n",
       "3641                                        175  \n",
       "3642                                        228  \n",
       "3643                                        156  \n",
       "3644                                        231  \n",
       "3645                                         72  \n",
       "\n",
       "[3645 rows x 14 columns]"
      ]
     },
     "execution_count": 14,
     "metadata": {},
     "output_type": "execute_result"
    }
   ],
   "source": [
    "rf_mapping.stim_table"
   ]
  },
  {
   "cell_type": "markdown",
   "id": "c207b49d",
   "metadata": {
    "papermill": {
     "duration": 0.063307,
     "end_time": "2023-03-30T19:37:01.329365",
     "exception": false,
     "start_time": "2023-03-30T19:37:01.266058",
     "status": "completed"
    },
    "tags": []
   },
   "source": [
    "Before we calculate any receptive fields, let's find some units in primary visual cortex (VISp) that are likely to show clear receptive fields:"
   ]
  },
  {
   "cell_type": "code",
   "execution_count": 15,
   "id": "2ea847b5",
   "metadata": {
    "execution": {
     "iopub.execute_input": "2023-03-30T19:37:01.454562Z",
     "iopub.status.busy": "2023-03-30T19:37:01.454278Z",
     "iopub.status.idle": "2023-03-30T19:37:10.024825Z",
     "shell.execute_reply": "2023-03-30T19:37:10.024074Z"
    },
    "papermill": {
     "duration": 8.635583,
     "end_time": "2023-03-30T19:37:10.027034",
     "exception": false,
     "start_time": "2023-03-30T19:37:01.391451",
     "status": "completed"
    },
    "tags": []
   },
   "outputs": [],
   "source": [
    "v1_units = session.units[session.units.ecephys_structure_acronym == 'VISp']"
   ]
  },
  {
   "cell_type": "markdown",
   "id": "c38a8679",
   "metadata": {
    "papermill": {
     "duration": 0.063605,
     "end_time": "2023-03-30T19:37:10.157298",
     "exception": false,
     "start_time": "2023-03-30T19:37:10.093693",
     "status": "completed"
    },
    "tags": []
   },
   "source": [
    "Now, calculating the receptive field is as simple as calling `get_receptive_field()` with a unit ID as the input argument."
   ]
  },
  {
   "cell_type": "code",
   "execution_count": 16,
   "id": "e1df2d00",
   "metadata": {
    "execution": {
     "iopub.execute_input": "2023-03-30T19:37:10.289020Z",
     "iopub.status.busy": "2023-03-30T19:37:10.288281Z",
     "iopub.status.idle": "2023-03-30T19:37:16.977335Z",
     "shell.execute_reply": "2023-03-30T19:37:16.976601Z"
    },
    "papermill": {
     "duration": 6.756753,
     "end_time": "2023-03-30T19:37:16.979317",
     "exception": false,
     "start_time": "2023-03-30T19:37:10.222564",
     "status": "completed"
    },
    "tags": []
   },
   "outputs": [],
   "source": [
    "RF = rf_mapping.get_receptive_field(v1_units.index.values[3])"
   ]
  },
  {
   "cell_type": "markdown",
   "id": "8bcd6c01",
   "metadata": {
    "papermill": {
     "duration": 0.062956,
     "end_time": "2023-03-30T19:37:17.103675",
     "exception": false,
     "start_time": "2023-03-30T19:37:17.040719",
     "status": "completed"
    },
    "tags": []
   },
   "source": [
    "This method creates a 2D histogram of spike counts at all 81 possible stimulus locations, and outputs it as a 9 x 9 matrix. It's summing over all orientations, so each pixel contains the spike count across 45 trials.\n",
    " \n",
    "To plot it, just display it as an image. The matrix is already in the correct orientation so that it matches the layout of the screen (e.g., the upper right pixel contains the spike count when the Gabor patch was in the upper right of the screen)."
   ]
  },
  {
   "cell_type": "code",
   "execution_count": 17,
   "id": "6d431224",
   "metadata": {
    "execution": {
     "iopub.execute_input": "2023-03-30T19:37:17.228127Z",
     "iopub.status.busy": "2023-03-30T19:37:17.227312Z",
     "iopub.status.idle": "2023-03-30T19:37:17.277924Z",
     "shell.execute_reply": "2023-03-30T19:37:17.277215Z"
    },
    "papermill": {
     "duration": 0.114653,
     "end_time": "2023-03-30T19:37:17.279838",
     "exception": false,
     "start_time": "2023-03-30T19:37:17.165185",
     "status": "completed"
    },
    "tags": []
   },
   "outputs": [
    {
     "data": {
      "image/png": "[encoded data removed]",
      "text/plain": [
       "<Figure size 500x500 with 1 Axes>"
      ]
     },
     "metadata": {},
     "output_type": "display_data"
    }
   ],
   "source": [
    "plt.figure(figsize=(5,5))\n",
    "_ = plt.imshow(RF)\n",
    "_ = plt.axis('off')"
   ]
  },
  {
   "cell_type": "markdown",
   "id": "400b633f",
   "metadata": {
    "papermill": {
     "duration": 0.061704,
     "end_time": "2023-03-30T19:37:17.403677",
     "exception": false,
     "start_time": "2023-03-30T19:37:17.341973",
     "status": "completed"
    },
    "tags": []
   },
   "source": [
    "This particular unit has a receptive field that's more or less in the center of the screen.\n",
    "\n",
    "Let's plot the receptive fields for all the units in V1:"
   ]
  },
  {
   "cell_type": "code",
   "execution_count": 18,
   "id": "f25b7a87",
   "metadata": {
    "execution": {
     "iopub.execute_input": "2023-03-30T19:37:17.528959Z",
     "iopub.status.busy": "2023-03-30T19:37:17.528168Z",
     "iopub.status.idle": "2023-03-30T19:37:19.137871Z",
     "shell.execute_reply": "2023-03-30T19:37:19.136793Z"
    },
    "papermill": {
     "duration": 1.674874,
     "end_time": "2023-03-30T19:37:19.140329",
     "exception": false,
     "start_time": "2023-03-30T19:37:17.465455",
     "status": "completed"
    },
    "tags": []
   },
   "outputs": [
    {
     "data": {
      "image/png": "[encoded data removed]",
      "text/plain": [
       "<Figure size 1000x600 with 58 Axes>"
      ]
     },
     "metadata": {},
     "output_type": "display_data"
    }
   ],
   "source": [
    "def plot_rf(unit_id, index):\n",
    "    RF = rf_mapping.get_receptive_field(unit_id)\n",
    "    _ = plt.subplot(6,10,index+1)\n",
    "    _ = plt.imshow(RF)\n",
    "    _ = plt.axis('off')\n",
    "    \n",
    "_ = plt.figure(figsize=(10,6))\n",
    "_ = [plot_rf(RF, index) for index, RF in enumerate(v1_units.index.values)]"
   ]
  }
 ],
 "metadata": {
  "celltoolbar": "Tags",
  "kernelspec": {
   "display_name": "allensdk",
   "language": "python",
   "name": "allensdk"
  },
  "language_info": {
   "codemirror_mode": {
    "name": "ipython",
    "version": 3
   },
   "file_extension": ".py",
   "mimetype": "text/x-python",
   "name": "python",
   "nbconvert_exporter": "python",
   "pygments_lexer": "ipython3",
   "version": "3.8.16"
  },
  "papermill": {
   "default_parameters": {},
   "duration": 372.813322,
   "end_time": "2023-03-30T19:37:20.042745",
   "environment_variables": {},
   "exception": null,
   "input_path": "doc_template/examples_root/examples/nb/ecephys_receptive_fields.ipynb",
   "output_path": "/tmp/tmpn3_33vt_/scratch_nb.ipynb",
   "parameters": {
    "output_dir": "/tmp/tmpn3_33vt_",
    "resources_dir": "/home/runner/work/AllenSDK/AllenSDK/allensdk/internal/notebooks/resources"
   },
   "start_time": "2023-03-30T19:31:07.229423",
   "version": "2.4.0"
  }
 },
 "nbformat": 4,
 "nbformat_minor": 5
}
