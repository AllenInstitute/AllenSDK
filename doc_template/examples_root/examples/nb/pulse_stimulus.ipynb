{
 "metadata": {
  "kernelspec": {
   "display_name": "Python 2",
   "language": "python",
   "name": "python2"
  },
  "language_info": {
   "codemirror_mode": {
    "name": "ipython",
    "version": 2
   },
   "file_extension": ".py",
   "mimetype": "text/x-python",
   "name": "python",
   "nbconvert_exporter": "python",
   "pygments_lexer": "ipython2",
   "version": "2.7.10"
  },
  "name": "",
  "signature": "sha256:dd9112875258b49b3257e52c6d71b59a224124b94edfca273a14f3f4012d8ac8"
 },
 "nbformat": 3,
 "nbformat_minor": 0,
 "worksheets": [
  {
   "cells": [
    {
     "cell_type": "markdown",
     "metadata": {},
     "source": [
      "Download this file in .ipynb format <a href='pulse_stimulus.ipynb'>here</a>."
     ]
    },
    {
     "cell_type": "code",
     "collapsed": false,
     "input": [
      "# based on allensdk.model.biophysical.biophysical_perisomatic.runner\n",
      "\n",
      "# These will be useful for accessing and configuring the downloaded model\n",
      "from allensdk.model.biophys_sim.config import Config\n",
      "from allensdk.model.biophysical.utils import Utils\n",
      "\n",
      "# not using NwbDataSet\n",
      "# from allensdk.core.nwb_data_set import NwbDataSet\n",
      "\n",
      "# We'll save results to a simple text file instead\n",
      "from allensdk.core.dat_utilities import DatUtilities"
     ],
     "language": "python",
     "metadata": {},
     "outputs": [],
     "prompt_number": 2
    },
    {
     "cell_type": "code",
     "collapsed": false,
     "input": [
      "from allensdk.api.queries.biophysical_api import BiophysicalApi\n",
      "\n",
      "neuronal_model_id = 472451419    # get this from the web site\n",
      "#neuronal_model_id = 480361288\n",
      "model_directory = '.'\n",
      "\n",
      "bp = BiophysicalApi('http://api.brain-map.org')\n",
      "bp.cache_stimulus = False # don't want to download the large stimulus NWB file\n",
      "bp.cache_data(neuronal_model_id, working_directory=model_directory)"
     ],
     "language": "python",
     "metadata": {},
     "outputs": [],
     "prompt_number": 3
    },
    {
     "cell_type": "code",
     "collapsed": false,
     "input": [
      "import os\n",
      "\n",
      "os.system('nrnivmodl modfiles')"
     ],
     "language": "python",
     "metadata": {
      "scrolled": true
     },
     "outputs": [
      {
       "metadata": {},
       "output_type": "pyout",
       "prompt_number": 4,
       "text": [
        "0"
       ]
      }
     ],
     "prompt_number": 4
    },
    {
     "cell_type": "code",
     "collapsed": false,
     "input": [
      "description = Config().load('manifest.json')\n",
      "utils = Utils(description)\n",
      "h = utils.h"
     ],
     "language": "python",
     "metadata": {},
     "outputs": [],
     "prompt_number": 5
    },
    {
     "cell_type": "code",
     "collapsed": true,
     "input": [
      "# configure model\n",
      "manifest = description.manifest\n",
      "morphology_path = description.manifest.get_path('MORPHOLOGY')\n",
      "utils.generate_morphology(morphology_path.encode('ascii', 'ignore'))\n",
      "utils.load_cell_parameters()\n",
      "\n",
      "# At this point the cell model has been fully set up in NEURON"
     ],
     "language": "python",
     "metadata": {},
     "outputs": [],
     "prompt_number": 6
    },
    {
     "cell_type": "code",
     "collapsed": true,
     "input": [
      "# configure a simple current-clamp stimulus to generate some spikes\n",
      "stim = h.IClamp(h.soma[0](0.5))\n",
      "stim.amp = 0.18\n",
      "stim.delay = 1000.0\n",
      "stim.dur = 1000.0\n",
      "\n",
      "h.tstop = 3000.0"
     ],
     "language": "python",
     "metadata": {},
     "outputs": [],
     "prompt_number": 12
    },
    {
     "cell_type": "code",
     "collapsed": true,
     "input": [
      "vec = utils.record_values()"
     ],
     "language": "python",
     "metadata": {},
     "outputs": [],
     "prompt_number": 13
    },
    {
     "cell_type": "code",
     "collapsed": false,
     "input": [
      "h.finitialize()\n",
      "h.run()"
     ],
     "language": "python",
     "metadata": {},
     "outputs": [
      {
       "metadata": {},
       "output_type": "pyout",
       "prompt_number": 14,
       "text": [
        "0.0"
       ]
      }
     ],
     "prompt_number": 14
    },
    {
     "cell_type": "code",
     "collapsed": false,
     "input": [
      "# save the result to a simple time and voltage space-separated text file\n",
      "import numpy\n",
      "\n",
      "output_path = 'output_voltage.dat'\n",
      "\n",
      "junction_potential = description.data['fitting'][0]['junction_potential']\n",
      "mV = 1.0e-3\n",
      "ms = 1.0e-3\n",
      "\n",
      "output_data = (numpy.array(vec['v']) - junction_potential) * mV\n",
      "output_times = numpy.array(vec['t']) * ms\n",
      "\n",
      "data = numpy.transpose(numpy.vstack((output_times, output_data)))\n",
      "with open (output_path, \"w\") as f:\n",
      "    numpy.savetxt(f, data)"
     ],
     "language": "python",
     "metadata": {},
     "outputs": [],
     "prompt_number": 15
    },
    {
     "cell_type": "code",
     "collapsed": false,
     "input": [
      "%matplotlib inline\n",
      "import matplotlib.pyplot as plt\n",
      "plt.plot(vec['t'], numpy.array(vec['v']) - junction_potential)\n",
      "plt.xlabel('time (ms)')\n",
      "plt.ylabel('membrane potential (mV)')\n",
      "plt.show()\n"
     ],
     "language": "python",
     "metadata": {},
     "outputs": [
      {
       "metadata": {},
       "output_type": "display_data",
       "png": "[encoded data removed]",
       "text": [
        "<matplotlib.figure.Figure at 0x7fb6d6ae4b90>"
       ]
      }
     ],
     "prompt_number": 16
    },
    {
     "cell_type": "code",
     "collapsed": true,
     "input": [],
     "language": "python",
     "metadata": {},
     "outputs": [],
     "prompt_number": null
    }
   ],
   "metadata": {}
  }
 ]
}
